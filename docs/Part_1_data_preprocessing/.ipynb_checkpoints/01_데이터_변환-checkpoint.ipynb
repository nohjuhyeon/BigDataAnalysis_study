{
 "cells": [
  {
   "cell_type": "markdown",
   "id": "d9a0d63f-34fa-471c-9321-e8b7d9dc11d4",
   "metadata": {},
   "source": [
    "# 표준 정규화"
   ]
  },
  {
   "cell_type": "markdown",
   "id": "ce3c3699-d85d-4e32-8861-e95ed49aa224",
   "metadata": {},
   "source": [
    "### 데이터 생성"
   ]
  },
  {
   "cell_type": "code",
   "execution_count": 7,
   "id": "cd8744c9-27a4-41ed-b174-afc5455b91cf",
   "metadata": {},
   "outputs": [
    {
     "data": {
      "text/html": [
       "<div>\n",
       "<style scoped>\n",
       "    .dataframe tbody tr th:only-of-type {\n",
       "        vertical-align: middle;\n",
       "    }\n",
       "\n",
       "    .dataframe tbody tr th {\n",
       "        vertical-align: top;\n",
       "    }\n",
       "\n",
       "    .dataframe thead th {\n",
       "        text-align: right;\n",
       "    }\n",
       "</style>\n",
       "<table border=\"1\" class=\"dataframe\">\n",
       "  <thead>\n",
       "    <tr style=\"text-align: right;\">\n",
       "      <th></th>\n",
       "      <th>한국인</th>\n",
       "      <th>일본인</th>\n",
       "    </tr>\n",
       "  </thead>\n",
       "  <tbody>\n",
       "    <tr>\n",
       "      <th>0</th>\n",
       "      <td>55.510982</td>\n",
       "      <td>26.847903</td>\n",
       "    </tr>\n",
       "    <tr>\n",
       "      <th>1</th>\n",
       "      <td>54.956034</td>\n",
       "      <td>26.988106</td>\n",
       "    </tr>\n",
       "    <tr>\n",
       "      <th>2</th>\n",
       "      <td>52.522137</td>\n",
       "      <td>38.305269</td>\n",
       "    </tr>\n",
       "    <tr>\n",
       "      <th>3</th>\n",
       "      <td>51.979579</td>\n",
       "      <td>22.459557</td>\n",
       "    </tr>\n",
       "    <tr>\n",
       "      <th>4</th>\n",
       "      <td>58.347594</td>\n",
       "      <td>28.159003</td>\n",
       "    </tr>\n",
       "    <tr>\n",
       "      <th>5</th>\n",
       "      <td>59.992694</td>\n",
       "      <td>25.572981</td>\n",
       "    </tr>\n",
       "  </tbody>\n",
       "</table>\n",
       "</div>"
      ],
      "text/plain": [
       "         한국인        일본인\n",
       "0  55.510982  26.847903\n",
       "1  54.956034  26.988106\n",
       "2  52.522137  38.305269\n",
       "3  51.979579  22.459557\n",
       "4  58.347594  28.159003\n",
       "5  59.992694  25.572981"
      ]
     },
     "execution_count": 7,
     "metadata": {},
     "output_type": "execute_result"
    }
   ],
   "source": [
    "import numpy as np\n",
    "import pandas as pd\n",
    "\n",
    "meat_consumption_korean = 5*np.random.randn(1000) + 53.9\n",
    "meat_consumption_japan = 4*np.random.randn(1000) + 32.7\n",
    "\n",
    "meat_consumption = pd.DataFrame({\"한국인\":meat_consumption_korean,\"일본인\":meat_consumption_japan})\n",
    "meat_consumption.head(6)"
   ]
  },
  {
   "cell_type": "code",
   "execution_count": 8,
   "id": "042eb4b8-55ae-4f70-85b6-380447ca0844",
   "metadata": {},
   "outputs": [
    {
     "data": {
      "image/png": "[encoded data removed]",
      "text/plain": [
       "<Figure size 640x480 with 1 Axes>"
      ]
     },
     "metadata": {},
     "output_type": "display_data"
    },
    {
     "data": {
      "image/png": "[encoded data removed]",
      "text/plain": [
       "<Figure size 640x480 with 1 Axes>"
      ]
     },
     "metadata": {},
     "output_type": "display_data"
    }
   ],
   "source": [
    "import matplotlib.pyplot as plt\n",
    "plt.hist(meat_consumption_korean)\n",
    "plt.xlabel('korea')\n",
    "plt.show()\n",
    "plt.hist(meat_consumption_japan)\n",
    "plt.xlabel('japan')\n",
    "plt.show()"
   ]
  },
  {
   "cell_type": "markdown",
   "id": "b6f5965e-312a-4ccd-8c8d-d2cc8b6ea822",
   "metadata": {},
   "source": [
    "### Z-표준화"
   ]
  },
  {
   "cell_type": "code",
   "execution_count": 9,
   "id": "422b5ee7-4a8c-4603-bc6d-3d15dc66574c",
   "metadata": {},
   "outputs": [
    {
     "data": {
      "text/html": [
       "<div>\n",
       "<style scoped>\n",
       "    .dataframe tbody tr th:only-of-type {\n",
       "        vertical-align: middle;\n",
       "    }\n",
       "\n",
       "    .dataframe tbody tr th {\n",
       "        vertical-align: top;\n",
       "    }\n",
       "\n",
       "    .dataframe thead th {\n",
       "        text-align: right;\n",
       "    }\n",
       "</style>\n",
       "<table border=\"1\" class=\"dataframe\">\n",
       "  <thead>\n",
       "    <tr style=\"text-align: right;\">\n",
       "      <th></th>\n",
       "      <th>한국인</th>\n",
       "      <th>일본인</th>\n",
       "      <th>한국인_정규화</th>\n",
       "      <th>일본인_정규화</th>\n",
       "    </tr>\n",
       "  </thead>\n",
       "  <tbody>\n",
       "    <tr>\n",
       "      <th>0</th>\n",
       "      <td>55.510982</td>\n",
       "      <td>26.847903</td>\n",
       "      <td>0.317709</td>\n",
       "      <td>-1.443732</td>\n",
       "    </tr>\n",
       "    <tr>\n",
       "      <th>1</th>\n",
       "      <td>54.956034</td>\n",
       "      <td>26.988106</td>\n",
       "      <td>0.204118</td>\n",
       "      <td>-1.409139</td>\n",
       "    </tr>\n",
       "    <tr>\n",
       "      <th>2</th>\n",
       "      <td>52.522137</td>\n",
       "      <td>38.305269</td>\n",
       "      <td>-0.294072</td>\n",
       "      <td>1.383206</td>\n",
       "    </tr>\n",
       "    <tr>\n",
       "      <th>3</th>\n",
       "      <td>51.979579</td>\n",
       "      <td>22.459557</td>\n",
       "      <td>-0.405127</td>\n",
       "      <td>-2.526492</td>\n",
       "    </tr>\n",
       "    <tr>\n",
       "      <th>4</th>\n",
       "      <td>58.347594</td>\n",
       "      <td>28.159003</td>\n",
       "      <td>0.898329</td>\n",
       "      <td>-1.120237</td>\n",
       "    </tr>\n",
       "  </tbody>\n",
       "</table>\n",
       "</div>"
      ],
      "text/plain": [
       "         한국인        일본인   한국인_정규화   일본인_정규화\n",
       "0  55.510982  26.847903  0.317709 -1.443732\n",
       "1  54.956034  26.988106  0.204118 -1.409139\n",
       "2  52.522137  38.305269 -0.294072  1.383206\n",
       "3  51.979579  22.459557 -0.405127 -2.526492\n",
       "4  58.347594  28.159003  0.898329 -1.120237"
      ]
     },
     "execution_count": 9,
     "metadata": {},
     "output_type": "execute_result"
    }
   ],
   "source": [
    "import scipy.stats as ss\n",
    "meat_consumption[\"한국인_정규화\"] = ss.zscore(meat_consumption_korean)\n",
    "meat_consumption[\"일본인_정규화\"] = ss.zscore(meat_consumption_japan)\n",
    "meat_consumption.head()"
   ]
  },
  {
   "cell_type": "code",
   "execution_count": 12,
   "id": "dd9ccce8-f80d-49e3-ad0e-c40bdbc8fbd6",
   "metadata": {},
   "outputs": [
    {
     "data": {
      "text/html": [
       "<div>\n",
       "<style scoped>\n",
       "    .dataframe tbody tr th:only-of-type {\n",
       "        vertical-align: middle;\n",
       "    }\n",
       "\n",
       "    .dataframe tbody tr th {\n",
       "        vertical-align: top;\n",
       "    }\n",
       "\n",
       "    .dataframe thead th {\n",
       "        text-align: right;\n",
       "    }\n",
       "</style>\n",
       "<table border=\"1\" class=\"dataframe\">\n",
       "  <thead>\n",
       "    <tr style=\"text-align: right;\">\n",
       "      <th></th>\n",
       "      <th>한국인</th>\n",
       "      <th>일본인</th>\n",
       "      <th>한국인_정규화</th>\n",
       "      <th>일본인_정규화</th>\n",
       "      <th>한국인_정규화2</th>\n",
       "      <th>일본인_정규화2</th>\n",
       "    </tr>\n",
       "  </thead>\n",
       "  <tbody>\n",
       "    <tr>\n",
       "      <th>0</th>\n",
       "      <td>55.510982</td>\n",
       "      <td>26.847903</td>\n",
       "      <td>0.317709</td>\n",
       "      <td>-1.443732</td>\n",
       "      <td>0.317709</td>\n",
       "      <td>-1.443732</td>\n",
       "    </tr>\n",
       "    <tr>\n",
       "      <th>1</th>\n",
       "      <td>54.956034</td>\n",
       "      <td>26.988106</td>\n",
       "      <td>0.204118</td>\n",
       "      <td>-1.409139</td>\n",
       "      <td>0.204118</td>\n",
       "      <td>-1.409139</td>\n",
       "    </tr>\n",
       "    <tr>\n",
       "      <th>2</th>\n",
       "      <td>52.522137</td>\n",
       "      <td>38.305269</td>\n",
       "      <td>-0.294072</td>\n",
       "      <td>1.383206</td>\n",
       "      <td>-0.294072</td>\n",
       "      <td>1.383206</td>\n",
       "    </tr>\n",
       "    <tr>\n",
       "      <th>3</th>\n",
       "      <td>51.979579</td>\n",
       "      <td>22.459557</td>\n",
       "      <td>-0.405127</td>\n",
       "      <td>-2.526492</td>\n",
       "      <td>-0.405127</td>\n",
       "      <td>-2.526492</td>\n",
       "    </tr>\n",
       "    <tr>\n",
       "      <th>4</th>\n",
       "      <td>58.347594</td>\n",
       "      <td>28.159003</td>\n",
       "      <td>0.898329</td>\n",
       "      <td>-1.120237</td>\n",
       "      <td>0.898329</td>\n",
       "      <td>-1.120237</td>\n",
       "    </tr>\n",
       "  </tbody>\n",
       "</table>\n",
       "</div>"
      ],
      "text/plain": [
       "         한국인        일본인   한국인_정규화   일본인_정규화  한국인_정규화2  일본인_정규화2\n",
       "0  55.510982  26.847903  0.317709 -1.443732  0.317709 -1.443732\n",
       "1  54.956034  26.988106  0.204118 -1.409139  0.204118 -1.409139\n",
       "2  52.522137  38.305269 -0.294072  1.383206 -0.294072  1.383206\n",
       "3  51.979579  22.459557 -0.405127 -2.526492 -0.405127 -2.526492\n",
       "4  58.347594  28.159003  0.898329 -1.120237  0.898329 -1.120237"
      ]
     },
     "execution_count": 12,
     "metadata": {},
     "output_type": "execute_result"
    }
   ],
   "source": [
    "meat_consumption[\"한국인_정규화2\"] = (meat_consumption_korean - np.mean(meat_consumption_korean))/np.std(meat_consumption_korean)\n",
    "meat_consumption[\"일본인_정규화2\"] = (meat_consumption_japan - np.mean(meat_consumption_japan))/np.std(meat_consumption_japan)\n",
    "meat_consumption.head()"
   ]
  },
  {
   "cell_type": "code",
   "execution_count": 14,
   "id": "318b3816-70f8-4f2f-b145-89bd93d3f462",
   "metadata": {},
   "outputs": [
    {
     "data": {
      "image/png": "[encoded data removed]",
      "text/plain": [
       "<Figure size 640x480 with 1 Axes>"
      ]
     },
     "metadata": {},
     "output_type": "display_data"
    }
   ],
   "source": [
    "plt.hist(meat_consumption['한국인_정규화'])\n",
    "plt.xlabel(\"korea\")\n",
    "plt.show()"
   ]
  },
  {
   "cell_type": "code",
   "execution_count": null,
   "id": "52b05acb-673a-41b7-ab86-91fdca9a112e",
   "metadata": {},
   "outputs": [],
   "source": []
  }
 ],
 "metadata": {
  "kernelspec": {
   "display_name": "Python 3 (ipykernel)",
   "language": "python",
   "name": "python3"
  },
  "language_info": {
   "codemirror_mode": {
    "name": "ipython",
    "version": 3
   },
   "file_extension": ".py",
   "mimetype": "text/x-python",
   "name": "python",
   "nbconvert_exporter": "python",
   "pygments_lexer": "ipython3",
   "version": "3.11.9"
  }
 },
 "nbformat": 4,
 "nbformat_minor": 5
}
