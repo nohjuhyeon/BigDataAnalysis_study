{
 "cells": [
  {
   "cell_type": "markdown",
   "id": "f6d9a3a0-e3d6-4a79-bebd-cda2f22cd796",
   "metadata": {},
   "source": [
    "# CHAPTER 01 : Getting & Knowing Data"
   ]
  },
  {
   "cell_type": "markdown",
   "id": "429d3fc8-bee9-4c75-8cd2-84bd4d1a7084",
   "metadata": {
    "jp-MarkdownHeadingCollapsed": true
   },
   "source": [
    "## 데이터 불러오기"
   ]
  },
  {
   "cell_type": "code",
   "execution_count": 1,
   "id": "2ecd6aeb-58c1-428d-b1a4-53d3ec1a6824",
   "metadata": {},
   "outputs": [
    {
     "name": "stdout",
     "output_type": "stream",
     "text": [
      "           gameId   creationTime  gameDuration  seasonId  winner  firstBlood  \\\n",
      "0      3326086514  1504279457970          1949         9       1           2   \n",
      "1      3229566029  1497848803862          1851         9       1           1   \n",
      "2      3327363504  1504360103310          1493         9       1           2   \n",
      "3      3326856598  1504348503996          1758         9       1           1   \n",
      "4      3330080762  1504554410899          2094         9       1           2   \n",
      "...           ...            ...           ...       ...     ...         ...   \n",
      "51485  3308904636  1503076540231          1944         9       2           1   \n",
      "51486  3215685759  1496957179355          3304         9       2           1   \n",
      "51487  3322765040  1504029863961          2156         9       2           2   \n",
      "51488  3256675373  1499562036246          1475         9       2           2   \n",
      "51489  3317333020  1503612754059          1445         9       1           1   \n",
      "\n",
      "       firstTower  firstInhibitor  firstBaron  firstDragon  ...  \\\n",
      "0               1               1           1            1  ...   \n",
      "1               1               1           0            1  ...   \n",
      "2               1               1           1            2  ...   \n",
      "3               1               1           1            1  ...   \n",
      "4               1               1           1            1  ...   \n",
      "...           ...             ...         ...          ...  ...   \n",
      "51485           2               2           0            2  ...   \n",
      "51486           1               2           2            2  ...   \n",
      "51487           2               2           0            1  ...   \n",
      "51488           2               2           0            2  ...   \n",
      "51489           1               1           1            2  ...   \n",
      "\n",
      "       t2_towerKills  t2_inhibitorKills  t2_baronKills  t2_dragonKills  \\\n",
      "0                  5                  0              0               1   \n",
      "1                  2                  0              0               0   \n",
      "2                  2                  0              0               1   \n",
      "3                  0                  0              0               0   \n",
      "4                  3                  0              0               1   \n",
      "...              ...                ...            ...             ...   \n",
      "51485             10                  2              0               4   \n",
      "51486             11                  7              4               4   \n",
      "51487             10                  2              0               2   \n",
      "51488             11                  3              0               1   \n",
      "51489              1                  0              0               1   \n",
      "\n",
      "       t2_riftHeraldKills  t2_ban1  t2_ban2  t2_ban3  t2_ban4  t2_ban5  \n",
      "0                       1      114       67       43       16       51  \n",
      "1                       0       11       67      238       51      420  \n",
      "2                       0      157      238      121       57       28  \n",
      "3                       0      164       18      141       40       51  \n",
      "4                       0       86       11      201      122       18  \n",
      "...                   ...      ...      ...      ...      ...      ...  \n",
      "51485                   0       55       -1       90      238      157  \n",
      "51486                   1      157       55      119      154      105  \n",
      "51487                   0      113      122       53       11      157  \n",
      "51488                   0      154       39       51       90      114  \n",
      "51489                   0       11      157      141       31       18  \n",
      "\n",
      "[51490 rows x 61 columns]\n"
     ]
    }
   ],
   "source": [
    "import pandas as pd \n",
    "df = pd.read_csv('https://raw.githubusercontent.com/Datamanim/pandas/main/lol.csv',sep='\\t')\n",
    "print(df)"
   ]
  },
  {
   "cell_type": "markdown",
   "id": "4b1e1104-bfb9-4293-8f6a-a007e400c1cf",
   "metadata": {
    "jp-MarkdownHeadingCollapsed": true
   },
   "source": [
    "## 데이터의 상위 5개 출력"
   ]
  },
  {
   "cell_type": "code",
   "execution_count": 2,
   "id": "ad7bf012-0212-422a-a351-7780be8874e5",
   "metadata": {},
   "outputs": [
    {
     "name": "stdout",
     "output_type": "stream",
     "text": [
      "       gameId   creationTime  gameDuration  seasonId  winner  firstBlood  \\\n",
      "0  3326086514  1504279457970          1949         9       1           2   \n",
      "1  3229566029  1497848803862          1851         9       1           1   \n",
      "2  3327363504  1504360103310          1493         9       1           2   \n",
      "3  3326856598  1504348503996          1758         9       1           1   \n",
      "4  3330080762  1504554410899          2094         9       1           2   \n",
      "\n",
      "   firstTower  firstInhibitor  firstBaron  firstDragon  ...  t2_towerKills  \\\n",
      "0           1               1           1            1  ...              5   \n",
      "1           1               1           0            1  ...              2   \n",
      "2           1               1           1            2  ...              2   \n",
      "3           1               1           1            1  ...              0   \n",
      "4           1               1           1            1  ...              3   \n",
      "\n",
      "   t2_inhibitorKills  t2_baronKills  t2_dragonKills  t2_riftHeraldKills  \\\n",
      "0                  0              0               1                   1   \n",
      "1                  0              0               0                   0   \n",
      "2                  0              0               1                   0   \n",
      "3                  0              0               0                   0   \n",
      "4                  0              0               1                   0   \n",
      "\n",
      "   t2_ban1  t2_ban2  t2_ban3  t2_ban4  t2_ban5  \n",
      "0      114       67       43       16       51  \n",
      "1       11       67      238       51      420  \n",
      "2      157      238      121       57       28  \n",
      "3      164       18      141       40       51  \n",
      "4       86       11      201      122       18  \n",
      "\n",
      "[5 rows x 61 columns]\n"
     ]
    }
   ],
   "source": [
    "print(df.head(5))"
   ]
  },
  {
   "cell_type": "markdown",
   "id": "8758510f-9e95-4c23-bc7d-6e070fb46c49",
   "metadata": {
    "jp-MarkdownHeadingCollapsed": true
   },
   "source": [
    "## 데이터의 행과 열 갯수 파악"
   ]
  },
  {
   "cell_type": "code",
   "execution_count": 3,
   "id": "2999eb08-fb06-4af4-8a7f-8358f02c2dbd",
   "metadata": {},
   "outputs": [
    {
     "name": "stdout",
     "output_type": "stream",
     "text": [
      "행 갯수 :  61\n",
      "열 갯수 :  51490\n",
      "행 갯수 :  61\n",
      "열 갯수 :  51490\n"
     ]
    }
   ],
   "source": [
    "print('행 갯수 : ',len(df.columns))\n",
    "print('열 갯수 : ',len(df))\n",
    "print('행 갯수 : ',df.shape[1])\n",
    "print('열 갯수 : ',df.shape[0])\n"
   ]
  },
  {
   "cell_type": "markdown",
   "id": "52180555-0cca-4d15-a1f8-1152bdbcc2ff",
   "metadata": {
    "jp-MarkdownHeadingCollapsed": true
   },
   "source": [
    "## 전체 컬럼 출력"
   ]
  },
  {
   "cell_type": "code",
   "execution_count": 4,
   "id": "039f7f79-0244-4b5c-b329-46190fa96e62",
   "metadata": {},
   "outputs": [
    {
     "name": "stdout",
     "output_type": "stream",
     "text": [
      "Index(['gameId', 'creationTime', 'gameDuration', 'seasonId', 'winner',\n",
      "       'firstBlood', 'firstTower', 'firstInhibitor', 'firstBaron',\n",
      "       'firstDragon', 'firstRiftHerald', 't1_champ1id', 't1_champ1_sum1',\n",
      "       't1_champ1_sum2', 't1_champ2id', 't1_champ2_sum1', 't1_champ2_sum2',\n",
      "       't1_champ3id', 't1_champ3_sum1', 't1_champ3_sum2', 't1_champ4id',\n",
      "       't1_champ4_sum1', 't1_champ4_sum2', 't1_champ5id', 't1_champ5_sum1',\n",
      "       't1_champ5_sum2', 't1_towerKills', 't1_inhibitorKills', 't1_baronKills',\n",
      "       't1_dragonKills', 't1_riftHeraldKills', 't1_ban1', 't1_ban2', 't1_ban3',\n",
      "       't1_ban4', 't1_ban5', 't2_champ1id', 't2_champ1_sum1', 't2_champ1_sum2',\n",
      "       't2_champ2id', 't2_champ2_sum1', 't2_champ2_sum2', 't2_champ3id',\n",
      "       't2_champ3_sum1', 't2_champ3_sum2', 't2_champ4id', 't2_champ4_sum1',\n",
      "       't2_champ4_sum2', 't2_champ5id', 't2_champ5_sum1', 't2_champ5_sum2',\n",
      "       't2_towerKills', 't2_inhibitorKills', 't2_baronKills', 't2_dragonKills',\n",
      "       't2_riftHeraldKills', 't2_ban1', 't2_ban2', 't2_ban3', 't2_ban4',\n",
      "       't2_ban5'],\n",
      "      dtype='object')\n"
     ]
    }
   ],
   "source": [
    "print(df.columns)"
   ]
  },
  {
   "cell_type": "markdown",
   "id": "04568a54-c864-45b4-8e6f-39c7ff48495b",
   "metadata": {
    "jp-MarkdownHeadingCollapsed": true
   },
   "source": [
    "## 6번째 컬럼명 출력"
   ]
  },
  {
   "cell_type": "code",
   "execution_count": 5,
   "id": "5c7b5fb0-b469-4349-8433-2a1f08752a73",
   "metadata": {},
   "outputs": [
    {
     "name": "stdout",
     "output_type": "stream",
     "text": [
      "firstBlood\n"
     ]
    }
   ],
   "source": [
    "print(df.columns[5])"
   ]
  },
  {
   "cell_type": "markdown",
   "id": "fee03e08-f37c-4a8f-aecf-4c78a1a4cd56",
   "metadata": {
    "jp-MarkdownHeadingCollapsed": true
   },
   "source": [
    "## 6번째 컬럼의 데이터 타입 확인"
   ]
  },
  {
   "cell_type": "code",
   "execution_count": 6,
   "id": "b20aa895-2b65-4720-86e3-594be17c8ae1",
   "metadata": {},
   "outputs": [
    {
     "name": "stdout",
     "output_type": "stream",
     "text": [
      "int64\n"
     ]
    }
   ],
   "source": [
    "print(df.iloc[:,5].dtype)"
   ]
  },
  {
   "cell_type": "markdown",
   "id": "8f6c22ee-cb0f-4846-8240-54c32c0e8cdf",
   "metadata": {
    "jp-MarkdownHeadingCollapsed": true
   },
   "source": [
    "## 데이터셋의 인덱스 구성"
   ]
  },
  {
   "cell_type": "code",
   "execution_count": 7,
   "id": "d8c3ebcc-80ba-4f69-88fb-a017a0d5db5c",
   "metadata": {},
   "outputs": [
    {
     "name": "stdout",
     "output_type": "stream",
     "text": [
      "RangeIndex(start=0, stop=51490, step=1)\n"
     ]
    }
   ],
   "source": [
    "print(df.index)"
   ]
  },
  {
   "cell_type": "markdown",
   "id": "b5f7b91c-3df4-4399-99ce-1289350e5f11",
   "metadata": {
    "jp-MarkdownHeadingCollapsed": true
   },
   "source": [
    "## 6번째 컬럼의 3번째 값"
   ]
  },
  {
   "cell_type": "code",
   "execution_count": 8,
   "id": "52099b99-df43-48bc-9ca2-05480d36bde7",
   "metadata": {},
   "outputs": [
    {
     "name": "stdout",
     "output_type": "stream",
     "text": [
      "2\n"
     ]
    }
   ],
   "source": [
    "print(df.iloc[2,5])"
   ]
  },
  {
   "cell_type": "markdown",
   "id": "40972329-3f9f-404f-94ea-1bc7a7d3f003",
   "metadata": {
    "jp-MarkdownHeadingCollapsed": true
   },
   "source": [
    "## 6번째 컬럼의 3번째 값"
   ]
  },
  {
   "cell_type": "code",
   "execution_count": 9,
   "id": "9b271d5d-898e-4874-b4e4-cf8bc4ba979f",
   "metadata": {},
   "outputs": [],
   "source": [
    "DataUrl = 'https://raw.githubusercontent.com/Datamanim/pandas/main/Jeju.csv'\n",
    "df = pd.read_csv(DataUrl,encoding='euc-kr')"
   ]
  },
  {
   "cell_type": "markdown",
   "id": "aec5c8bd-6ffc-41f9-9e47-c19ca99ce23c",
   "metadata": {
    "jp-MarkdownHeadingCollapsed": true
   },
   "source": [
    "## 데이터 마지막 3개행"
   ]
  },
  {
   "cell_type": "code",
   "execution_count": 10,
   "id": "446fb828-e58e-4006-974b-08659b9db2ae",
   "metadata": {},
   "outputs": [
    {
     "name": "stdout",
     "output_type": "stream",
     "text": [
      "         id          일자   시도명 읍면동명         거주인구       근무인구        방문인구  \\\n",
      "9618  32066  2020-04-30   제주시  도두동    28397.481   3144.895   84052.697   \n",
      "9619  32067  2020-04-30  서귀포시  안덕면   348037.846  29106.286  251129.660   \n",
      "9620  32068  2020-04-30   제주시   연동  1010643.372  65673.477  447622.068   \n",
      "\n",
      "           총 유동인구   평균 속도  평균 소요 시간  평균 기온  일강수량  평균 풍속  \n",
      "9618   115595.073  41.053    29.421   20.3   0.0    3.0  \n",
      "9619   628273.792  46.595    49.189   17.6   0.0    3.5  \n",
      "9620  1523938.917  40.863    27.765   14.1   0.0    4.8  \n",
      "         id          일자   시도명 읍면동명         거주인구       근무인구        방문인구  \\\n",
      "9618  32066  2020-04-30   제주시  도두동    28397.481   3144.895   84052.697   \n",
      "9619  32067  2020-04-30  서귀포시  안덕면   348037.846  29106.286  251129.660   \n",
      "9620  32068  2020-04-30   제주시   연동  1010643.372  65673.477  447622.068   \n",
      "\n",
      "           총 유동인구   평균 속도  평균 소요 시간  평균 기온  일강수량  평균 풍속  \n",
      "9618   115595.073  41.053    29.421   20.3   0.0    3.0  \n",
      "9619   628273.792  46.595    49.189   17.6   0.0    3.5  \n",
      "9620  1523938.917  40.863    27.765   14.1   0.0    4.8  \n"
     ]
    }
   ],
   "source": [
    "print(df.iloc[-3:,:])\n",
    "print(df.tail(3))"
   ]
  },
  {
   "cell_type": "markdown",
   "id": "e5a8e480-5ad2-4d56-be08-147665a9cf2c",
   "metadata": {
    "jp-MarkdownHeadingCollapsed": true
   },
   "source": [
    "## 수치형 변수를 가진 컬럼 출력"
   ]
  },
  {
   "cell_type": "code",
   "execution_count": 11,
   "id": "f17fce63-8cc5-4e43-a11e-61f37ee514bc",
   "metadata": {},
   "outputs": [
    {
     "name": "stdout",
     "output_type": "stream",
     "text": [
      "Index(['id', '거주인구', '근무인구', '방문인구', '총 유동인구', '평균 속도', '평균 소요 시간', '평균 기온',\n",
      "       '일강수량', '평균 풍속'],\n",
      "      dtype='object')\n",
      "Index(['id', '거주인구', '근무인구', '방문인구', '총 유동인구', '평균 속도', '평균 소요 시간', '평균 기온',\n",
      "       '일강수량', '평균 풍속'],\n",
      "      dtype='object')\n"
     ]
    }
   ],
   "source": [
    "print(df.describe().columns)\n",
    "print(df.select_dtypes(exclude=object).columns)"
   ]
  },
  {
   "cell_type": "markdown",
   "id": "7c58be2f-f7c2-496f-8309-a95f303e9a4e",
   "metadata": {
    "jp-MarkdownHeadingCollapsed": true
   },
   "source": [
    "## 범주형 변수를 가진 컬럼 출력"
   ]
  },
  {
   "cell_type": "code",
   "execution_count": 12,
   "id": "4e850d9e-6c1a-4b35-a329-aca2a488a5c8",
   "metadata": {},
   "outputs": [
    {
     "name": "stdout",
     "output_type": "stream",
     "text": [
      "Index(['일자', '시도명', '읍면동명'], dtype='object')\n"
     ]
    }
   ],
   "source": [
    "print(df.select_dtypes(include=object).columns)"
   ]
  },
  {
   "cell_type": "markdown",
   "id": "86bb8df6-03d9-41f8-89fc-9c9321b6e7bf",
   "metadata": {
    "jp-MarkdownHeadingCollapsed": true
   },
   "source": [
    "## 각 컬럼의 결측치 숫자 파악"
   ]
  },
  {
   "cell_type": "code",
   "execution_count": 13,
   "id": "556f09c1-7344-4bbb-b68e-1e60c82fc648",
   "metadata": {},
   "outputs": [
    {
     "name": "stdout",
     "output_type": "stream",
     "text": [
      "id          0\n",
      "일자          0\n",
      "시도명         0\n",
      "읍면동명        0\n",
      "거주인구        0\n",
      "근무인구        0\n",
      "방문인구        0\n",
      "총 유동인구      0\n",
      "평균 속도       0\n",
      "평균 소요 시간    0\n",
      "평균 기온       0\n",
      "일강수량        0\n",
      "평균 풍속       0\n",
      "dtype: int64\n"
     ]
    }
   ],
   "source": [
    "print(df.isnull().sum())"
   ]
  },
  {
   "cell_type": "markdown",
   "id": "9ce2bda0-9db9-4582-b474-a87cc1c01f5a",
   "metadata": {
    "jp-MarkdownHeadingCollapsed": true
   },
   "source": [
    "## 각 컬럼의 데이터 수, 데이터타입을 한번에 파악"
   ]
  },
  {
   "cell_type": "code",
   "execution_count": 14,
   "id": "bd7e4d4d-d1d8-4b4b-b489-92d18bf5a969",
   "metadata": {},
   "outputs": [
    {
     "name": "stdout",
     "output_type": "stream",
     "text": [
      "<class 'pandas.core.frame.DataFrame'>\n",
      "RangeIndex: 9621 entries, 0 to 9620\n",
      "Data columns (total 13 columns):\n",
      " #   Column    Non-Null Count  Dtype  \n",
      "---  ------    --------------  -----  \n",
      " 0   id        9621 non-null   int64  \n",
      " 1   일자        9621 non-null   object \n",
      " 2   시도명       9621 non-null   object \n",
      " 3   읍면동명      9621 non-null   object \n",
      " 4   거주인구      9621 non-null   float64\n",
      " 5   근무인구      9621 non-null   float64\n",
      " 6   방문인구      9621 non-null   float64\n",
      " 7   총 유동인구    9621 non-null   float64\n",
      " 8   평균 속도     9621 non-null   float64\n",
      " 9   평균 소요 시간  9621 non-null   float64\n",
      " 10  평균 기온     9621 non-null   float64\n",
      " 11  일강수량      9621 non-null   float64\n",
      " 12  평균 풍속     9621 non-null   float64\n",
      "dtypes: float64(9), int64(1), object(3)\n",
      "memory usage: 977.3+ KB\n",
      "None\n"
     ]
    }
   ],
   "source": [
    "print(df.info())"
   ]
  },
  {
   "cell_type": "markdown",
   "id": "d756f6f5-3451-4b14-a0dd-990caef0ee86",
   "metadata": {
    "jp-MarkdownHeadingCollapsed": true
   },
   "source": [
    "## 수치형 변수의 분포 확인"
   ]
  },
  {
   "cell_type": "code",
   "execution_count": 15,
   "id": "eca96c72-d67f-4f3a-ad53-d6502eda5799",
   "metadata": {},
   "outputs": [
    {
     "name": "stdout",
     "output_type": "stream",
     "text": [
      "                 id          거주인구           근무인구           방문인구        총 유동인구  \\\n",
      "count   9621.000000  9.621000e+03    9621.000000    9621.000000  9.621000e+03   \n",
      "mean   27258.000000  3.174315e+05   35471.201510  195889.561802  5.487922e+05   \n",
      "std     2777.487804  2.982079e+05   40381.214775  140706.090325  4.608802e+05   \n",
      "min    22448.000000  9.305552e+03    1407.936000   11538.322000  2.225181e+04   \n",
      "25%    24853.000000  9.539939e+04   12074.498000   99632.153000  2.216910e+05   \n",
      "50%    27258.000000  2.221105e+05   21960.928000  152805.335000  3.866935e+05   \n",
      "75%    29663.000000  4.106671e+05   40192.032000  236325.109000  6.406918e+05   \n",
      "max    32068.000000  1.364504e+06  263476.965000  723459.209000  2.066484e+06   \n",
      "\n",
      "             평균 속도     평균 소요 시간        평균 기온         일강수량        평균 풍속  \n",
      "count  9621.000000  9621.000000  9621.000000  9621.000000  9621.000000  \n",
      "mean     41.109084    37.215873    13.550828     6.972426     2.753171  \n",
      "std       8.758631    12.993786     7.745515    27.617260     1.498538  \n",
      "min      24.333000    12.667000    -9.600000     0.000000     0.000000  \n",
      "25%      34.250000    27.889000     7.600000     0.000000     1.700000  \n",
      "50%      39.640000    34.500000    13.400000     0.000000     2.400000  \n",
      "75%      49.105000    46.176000    19.700000     1.500000     3.400000  \n",
      "max     103.000000   172.200000    30.400000   587.500000    13.333000  \n"
     ]
    }
   ],
   "source": [
    "print(df.describe())"
   ]
  },
  {
   "cell_type": "markdown",
   "id": "0a6693fd-d857-4a90-a944-5c3f1f47d2c4",
   "metadata": {
    "jp-MarkdownHeadingCollapsed": true
   },
   "source": [
    "## 거주인구 컬럼의 값 확인"
   ]
  },
  {
   "cell_type": "code",
   "execution_count": 16,
   "id": "a1ea0815-d6b1-472a-a418-f03998acb2c8",
   "metadata": {},
   "outputs": [
    {
     "name": "stdout",
     "output_type": "stream",
     "text": [
      "0         32249.987\n",
      "1        213500.997\n",
      "2       1212382.218\n",
      "3         33991.653\n",
      "4        155036.925\n",
      "           ...     \n",
      "9616     228260.005\n",
      "9617     459959.064\n",
      "9618      28397.481\n",
      "9619     348037.846\n",
      "9620    1010643.372\n",
      "Name: 거주인구, Length: 9621, dtype: float64\n"
     ]
    }
   ],
   "source": [
    "print(df['거주인구'])"
   ]
  },
  {
   "cell_type": "markdown",
   "id": "aa4d8922-cd93-4d80-b196-1084f425110e",
   "metadata": {
    "jp-MarkdownHeadingCollapsed": true
   },
   "source": [
    "## 평균속도 컬럼의 4분위 범위(IQR) 값"
   ]
  },
  {
   "cell_type": "code",
   "execution_count": 17,
   "id": "7842b315-3338-4328-ae9f-faa4f932ff6b",
   "metadata": {},
   "outputs": [
    {
     "name": "stdout",
     "output_type": "stream",
     "text": [
      "14.854999999999997\n"
     ]
    }
   ],
   "source": [
    "print((df['평균 속도'].describe()['75%'] - df['평균 속도'].describe()['25%']))"
   ]
  },
  {
   "cell_type": "markdown",
   "id": "417c6db5-8ea8-4fcd-9f7e-993c1b88bebf",
   "metadata": {
    "jp-MarkdownHeadingCollapsed": true
   },
   "source": [
    "## 읍면동명 컬럼의 유일값 갯수 출력"
   ]
  },
  {
   "cell_type": "code",
   "execution_count": 18,
   "id": "c6f302c0-7791-4337-989b-a40423dff634",
   "metadata": {},
   "outputs": [
    {
     "name": "stdout",
     "output_type": "stream",
     "text": [
      "41\n"
     ]
    }
   ],
   "source": [
    "print(len(df['읍면동명'].unique()))"
   ]
  },
  {
   "cell_type": "markdown",
   "id": "9eefd29d-e337-4856-a803-7453d570cb48",
   "metadata": {
    "jp-MarkdownHeadingCollapsed": true
   },
   "source": [
    "## 읍면동명 컬럼의 유일값 모두 출력"
   ]
  },
  {
   "cell_type": "code",
   "execution_count": 19,
   "id": "d4a52f81-3fe8-4919-9457-85da062e169f",
   "metadata": {},
   "outputs": [
    {
     "name": "stdout",
     "output_type": "stream",
     "text": [
      "['도두동' '외도동' '이도2동' '일도1동' '대천동' '서홍동' '한경면' '송산동' '조천읍' '일도2동' '영천동'\n",
      " '예래동' '대륜동' '삼도1동' '이호동' '건입동' '중앙동' '삼양동' '삼도2동' '이도1동' '남원읍' '대정읍'\n",
      " '정방동' '효돈동' '아라동' '한림읍' '구좌읍' '용담1동' '오라동' '화북동' '연동' '표선면' '중문동' '성산읍'\n",
      " '안덕면' '천지동' '노형동' '동홍동' '용담2동' '봉개동' '애월읍']\n"
     ]
    }
   ],
   "source": [
    "print(df['읍면동명'].unique())"
   ]
  },
  {
   "cell_type": "markdown",
   "id": "38c07e22-7de3-4df6-9475-a0bf7d4f849f",
   "metadata": {
    "jp-MarkdownHeadingCollapsed": true
   },
   "source": [
    "# CHAPERTER 02 : Filtering & Sorting\n",
    "- index drop하기\n",
    "- 컬럼의 모든 문자형 데이터를 변환하기\n",
    "- 짝수번쨰 컾럼만 추출\n",
    "- or 조건문 사용\n",
    "- 마지막 행만 남기기\n",
    "  not 조건문 사용\n",
    "  그룹 내에 포함되어 있는 값 찾기"
   ]
  },
  {
   "cell_type": "markdown",
   "id": "50659d23-d15d-4bb8-97ed-327fe73918fe",
   "metadata": {
    "jp-MarkdownHeadingCollapsed": true
   },
   "source": [
    "## 데이터 로드"
   ]
  },
  {
   "cell_type": "code",
   "execution_count": 20,
   "id": "2252806d-d36c-4ad6-876a-7340cc75d5a8",
   "metadata": {},
   "outputs": [],
   "source": [
    "df= pd.read_csv('https://raw.githubusercontent.com/Datamanim/pandas/main/chipo.csv')"
   ]
  },
  {
   "cell_type": "markdown",
   "id": "02104880-e05c-4c26-a794-5c47c8639b91",
   "metadata": {
    "jp-MarkdownHeadingCollapsed": true
   },
   "source": [
    "## quantity 컬럼 값이 3인 데이터 추출하여 첫 5행 출력"
   ]
  },
  {
   "cell_type": "code",
   "execution_count": 21,
   "id": "49a6b9c3-4954-4e8a-a0c2-2ac70f6e1a89",
   "metadata": {},
   "outputs": [
    {
     "name": "stdout",
     "output_type": "stream",
     "text": [
      "     order_id  quantity          item_name  \\\n",
      "409       178         3       Chicken Bowl   \n",
      "445       193         3               Bowl   \n",
      "689       284         3  Canned Soft Drink   \n",
      "818       338         3      Bottled Water   \n",
      "850       350         3  Canned Soft Drink   \n",
      "\n",
      "                                    choice_description item_price  \n",
      "409  [[Fresh Tomato Salsa (Mild), Tomatillo-Green C...    $32.94   \n",
      "445  [Braised Carnitas, Pinto Beans, [Sour Cream, C...    $22.20   \n",
      "689                                        [Diet Coke]     $3.75   \n",
      "818                                                NaN     $3.27   \n",
      "850                                           [Sprite]     $3.75   \n",
      "     order_id  quantity          item_name  \\\n",
      "409       178         3       Chicken Bowl   \n",
      "445       193         3               Bowl   \n",
      "689       284         3  Canned Soft Drink   \n",
      "818       338         3      Bottled Water   \n",
      "850       350         3  Canned Soft Drink   \n",
      "\n",
      "                                    choice_description item_price  \n",
      "409  [[Fresh Tomato Salsa (Mild), Tomatillo-Green C...    $32.94   \n",
      "445  [Braised Carnitas, Pinto Beans, [Sour Cream, C...    $22.20   \n",
      "689                                        [Diet Coke]     $3.75   \n",
      "818                                                NaN     $3.27   \n",
      "850                                           [Sprite]     $3.75   \n"
     ]
    }
   ],
   "source": [
    "print(df.query('quantity ==3').head(5))\n",
    "print(df.loc[df['quantity']==3,:].head(5))"
   ]
  },
  {
   "cell_type": "markdown",
   "id": "bb2329eb-a588-49db-975d-8d2d3f1eb0c0",
   "metadata": {
    "jp-MarkdownHeadingCollapsed": true
   },
   "source": [
    "## quantity 컬럼 값이 3인 데이터를 추출하여 index를 0부터 정렬하고 첫 5행을 출력\n",
    "- ### index drop하기"
   ]
  },
  {
   "cell_type": "code",
   "execution_count": 22,
   "id": "7796ca16-9da5-40f6-8b37-d69a3fa0343a",
   "metadata": {},
   "outputs": [
    {
     "name": "stdout",
     "output_type": "stream",
     "text": [
      "   order_id  quantity          item_name  \\\n",
      "0       178         3       Chicken Bowl   \n",
      "1       193         3               Bowl   \n",
      "2       284         3  Canned Soft Drink   \n",
      "3       338         3      Bottled Water   \n",
      "4       350         3  Canned Soft Drink   \n",
      "\n",
      "                                  choice_description item_price  \n",
      "0  [[Fresh Tomato Salsa (Mild), Tomatillo-Green C...    $32.94   \n",
      "1  [Braised Carnitas, Pinto Beans, [Sour Cream, C...    $22.20   \n",
      "2                                        [Diet Coke]     $3.75   \n",
      "3                                                NaN     $3.27   \n",
      "4                                           [Sprite]     $3.75   \n"
     ]
    }
   ],
   "source": [
    "print(df.loc[df['quantity']==3].reset_index(drop=True).head(5))"
   ]
  },
  {
   "cell_type": "markdown",
   "id": "d90a3e56-a4a5-49fa-ac65-d3cc53d4ae3e",
   "metadata": {
    "jp-MarkdownHeadingCollapsed": true
   },
   "source": [
    "## quantity,item_price 두개의 컬럼으로 구성된 새로운 데이터 프레임을 정의"
   ]
  },
  {
   "cell_type": "code",
   "execution_count": 23,
   "id": "1786db22-aaf5-4df8-89c9-82ad352611cb",
   "metadata": {},
   "outputs": [
    {
     "name": "stdout",
     "output_type": "stream",
     "text": [
      "      quantity item_price\n",
      "0            1     $2.39 \n",
      "1            1     $3.39 \n",
      "2            1     $3.39 \n",
      "3            1     $2.39 \n",
      "4            2    $16.98 \n",
      "...        ...        ...\n",
      "4617         1    $11.75 \n",
      "4618         1    $11.75 \n",
      "4619         1    $11.25 \n",
      "4620         1     $8.75 \n",
      "4621         1     $8.75 \n",
      "\n",
      "[4622 rows x 2 columns]\n"
     ]
    }
   ],
   "source": [
    "new_df = df[['quantity','item_price']]\n",
    "print(new_df)"
   ]
  },
  {
   "cell_type": "markdown",
   "id": "21c9771f-1aef-4b77-a72f-351aa5f93045",
   "metadata": {
    "jp-MarkdownHeadingCollapsed": true
   },
   "source": [
    "## item_price 컬럼의 달러표시 문자를 제거하고 float타입으로 저장하여 new_price 컬럼에 저장\n",
    "- ### 컬럼의 모든 문자형 데이터를 변환하는 방법"
   ]
  },
  {
   "cell_type": "code",
   "execution_count": 24,
   "id": "cbe16262-72d4-4211-94c8-0f04eeba9b4a",
   "metadata": {},
   "outputs": [
    {
     "name": "stdout",
     "output_type": "stream",
     "text": [
      "0        2.39\n",
      "1        3.39\n",
      "2        3.39\n",
      "3        2.39\n",
      "4       16.98\n",
      "        ...  \n",
      "4617    11.75\n",
      "4618    11.75\n",
      "4619    11.25\n",
      "4620     8.75\n",
      "4621     8.75\n",
      "Name: new_price, Length: 4622, dtype: float64\n"
     ]
    }
   ],
   "source": [
    "df['new_price'] = df['item_price'].str.replace('$','').astype(float)\n",
    "print(df['new_price'])"
   ]
  },
  {
   "cell_type": "markdown",
   "id": "8946c67b-613f-4dcf-9385-f0634abd8da7",
   "metadata": {
    "jp-MarkdownHeadingCollapsed": true
   },
   "source": [
    "## new_price 컬럼이 5 이하의 값을 가지는 데이터프레임 추출 및 전체 갯수 출력"
   ]
  },
  {
   "cell_type": "code",
   "execution_count": 25,
   "id": "7e945a3d-2294-4f2e-bb9b-0e0708819bee",
   "metadata": {},
   "outputs": [
    {
     "name": "stdout",
     "output_type": "stream",
     "text": [
      "1652\n"
     ]
    }
   ],
   "source": [
    "print(len(df.loc[df['new_price']<=5,:]))"
   ]
  },
  {
   "cell_type": "markdown",
   "id": "4a9b00e3-9e53-4a54-adbf-57930d925fb5",
   "metadata": {
    "jp-MarkdownHeadingCollapsed": true
   },
   "source": [
    "## item_name명이 Chicken Salad Bowl인 데이터 프레임 추출 및 index 값 초기화"
   ]
  },
  {
   "cell_type": "code",
   "execution_count": 26,
   "id": "28137580-f6ab-4d97-8c70-e4c86c91e80b",
   "metadata": {},
   "outputs": [
    {
     "name": "stdout",
     "output_type": "stream",
     "text": [
      "     order_id  quantity           item_name  \\\n",
      "0          20         1  Chicken Salad Bowl   \n",
      "1          60         2  Chicken Salad Bowl   \n",
      "2          94         2  Chicken Salad Bowl   \n",
      "3         111         1  Chicken Salad Bowl   \n",
      "4         137         2  Chicken Salad Bowl   \n",
      "..        ...       ...                 ...   \n",
      "105      1813         2  Chicken Salad Bowl   \n",
      "106      1822         1  Chicken Salad Bowl   \n",
      "107      1834         1  Chicken Salad Bowl   \n",
      "108      1834         1  Chicken Salad Bowl   \n",
      "109      1834         1  Chicken Salad Bowl   \n",
      "\n",
      "                                    choice_description item_price  new_price  \n",
      "0    [Fresh Tomato Salsa, [Fajita Vegetables, Pinto...     $8.75        8.75  \n",
      "1    [Tomatillo Green Chili Salsa, [Sour Cream, Che...    $22.50       22.50  \n",
      "2    [Fresh Tomato Salsa, [Fajita Vegetables, Pinto...    $22.50       22.50  \n",
      "3    [Fresh Tomato Salsa, [Fajita Vegetables, Rice,...     $8.75        8.75  \n",
      "4              [Fresh Tomato Salsa, Fajita Vegetables]    $17.50       17.50  \n",
      "..                                                 ...        ...        ...  \n",
      "105  [Fresh Tomato Salsa, [Fajita Vegetables, Pinto...    $17.50       17.50  \n",
      "106  [Fresh Tomato Salsa, [Black Beans, Cheese, Gua...    $11.25       11.25  \n",
      "107  [Fresh Tomato Salsa, [Fajita Vegetables, Pinto...    $11.25       11.25  \n",
      "108  [Fresh Tomato Salsa, [Fajita Vegetables, Lettu...     $8.75        8.75  \n",
      "109  [Fresh Tomato Salsa, [Fajita Vegetables, Pinto...     $8.75        8.75  \n",
      "\n",
      "[110 rows x 6 columns]\n"
     ]
    }
   ],
   "source": [
    "print(df.loc[df['item_name'] =='Chicken Salad Bowl',:].reset_index(drop=True))"
   ]
  },
  {
   "cell_type": "markdown",
   "id": "334bd235-a3d4-4679-b99c-740ada0ca0c4",
   "metadata": {
    "jp-MarkdownHeadingCollapsed": true
   },
   "source": [
    "## new_price 값이 9 이하이고 item_name 값이 Chicken Salad Bowl인 데이터 프레임 추출"
   ]
  },
  {
   "cell_type": "code",
   "execution_count": 27,
   "id": "148c9dc3-b339-4eb2-8f0a-349aeae70b2f",
   "metadata": {},
   "outputs": [
    {
     "name": "stdout",
     "output_type": "stream",
     "text": [
      "      order_id  quantity           item_name  \\\n",
      "44          20         1  Chicken Salad Bowl   \n",
      "256        111         1  Chicken Salad Bowl   \n",
      "526        220         1  Chicken Salad Bowl   \n",
      "528        221         1  Chicken Salad Bowl   \n",
      "529        221         1  Chicken Salad Bowl   \n",
      "568        234         1  Chicken Salad Bowl   \n",
      "585        240         1  Chicken Salad Bowl   \n",
      "693        286         1  Chicken Salad Bowl   \n",
      "702        289         1  Chicken Salad Bowl   \n",
      "762        314         1  Chicken Salad Bowl   \n",
      "1109       458         1  Chicken Salad Bowl   \n",
      "1460       592         1  Chicken Salad Bowl   \n",
      "1471       598         1  Chicken Salad Bowl   \n",
      "1483       602         1  Chicken Salad Bowl   \n",
      "1547       628         1  Chicken Salad Bowl   \n",
      "1601       649         1  Chicken Salad Bowl   \n",
      "1621       654         1  Chicken Salad Bowl   \n",
      "1756       709         1  Chicken Salad Bowl   \n",
      "1977       798         1  Chicken Salad Bowl   \n",
      "2031       818         1  Chicken Salad Bowl   \n",
      "2113       850         1  Chicken Salad Bowl   \n",
      "2224       896         1  Chicken Salad Bowl   \n",
      "2314       926         1  Chicken Salad Bowl   \n",
      "2728      1083         1  Chicken Salad Bowl   \n",
      "2858      1136         1  Chicken Salad Bowl   \n",
      "2883      1145         1  Chicken Salad Bowl   \n",
      "2897      1152         1  Chicken Salad Bowl   \n",
      "2989      1189         1  Chicken Salad Bowl   \n",
      "3033      1206         1  Chicken Salad Bowl   \n",
      "3069      1222         1  Chicken Salad Bowl   \n",
      "3117      1243         1  Chicken Salad Bowl   \n",
      "3259      1305         1  Chicken Salad Bowl   \n",
      "3261      1305         1  Chicken Salad Bowl   \n",
      "3310      1327         1  Chicken Salad Bowl   \n",
      "3315      1329         1  Chicken Salad Bowl   \n",
      "3381      1357         1  Chicken Salad Bowl   \n",
      "3411      1368         1  Chicken Salad Bowl   \n",
      "3623      1450         1  Chicken Salad Bowl   \n",
      "3656      1461         1  Chicken Salad Bowl   \n",
      "3706      1483         1  Chicken Salad Bowl   \n",
      "3712      1483         1  Chicken Salad Bowl   \n",
      "3790      1517         1  Chicken Salad Bowl   \n",
      "3798      1521         1  Chicken Salad Bowl   \n",
      "3974      1592         1  Chicken Salad Bowl   \n",
      "3997      1601         1  Chicken Salad Bowl   \n",
      "4012      1606         1  Chicken Salad Bowl   \n",
      "4035      1615         1  Chicken Salad Bowl   \n",
      "4064      1627         1  Chicken Salad Bowl   \n",
      "4205      1679         1  Chicken Salad Bowl   \n",
      "4207      1679         1  Chicken Salad Bowl   \n",
      "4333      1730         1  Chicken Salad Bowl   \n",
      "4352      1738         1  Chicken Salad Bowl   \n",
      "4439      1769         1  Chicken Salad Bowl   \n",
      "4520      1797         1  Chicken Salad Bowl   \n",
      "4620      1834         1  Chicken Salad Bowl   \n",
      "4621      1834         1  Chicken Salad Bowl   \n",
      "\n",
      "                                     choice_description item_price  new_price  \n",
      "44    [Fresh Tomato Salsa, [Fajita Vegetables, Pinto...     $8.75        8.75  \n",
      "256   [Fresh Tomato Salsa, [Fajita Vegetables, Rice,...     $8.75        8.75  \n",
      "526   [Roasted Chili Corn Salsa, [Black Beans, Sour ...     $8.75        8.75  \n",
      "528   [Tomatillo Green Chili Salsa, [Fajita Vegetabl...     $8.75        8.75  \n",
      "529   [Tomatillo Green Chili Salsa, [Fajita Vegetabl...     $8.75        8.75  \n",
      "568             [Fresh Tomato Salsa, Fajita Vegetables]     $8.75        8.75  \n",
      "585             [Fresh Tomato Salsa, Fajita Vegetables]     $8.75        8.75  \n",
      "693   [Fresh Tomato Salsa, [Sour Cream, Cheese, Lett...     $8.75        8.75  \n",
      "702   [Tomatillo Red Chili Salsa, [Black Beans, Chee...     $8.75        8.75  \n",
      "762   [Fresh Tomato Salsa, [Fajita Vegetables, Lettu...     $8.75        8.75  \n",
      "1109  [Fresh Tomato Salsa, [Fajita Vegetables, Rice,...     $8.75        8.75  \n",
      "1460                      [Fresh Tomato Salsa, Lettuce]     $8.75        8.75  \n",
      "1471  [Roasted Chili Corn Salsa, [Fajita Vegetables,...     $8.75        8.75  \n",
      "1483  [Fresh Tomato Salsa, [Fajita Vegetables, Chees...     $8.75        8.75  \n",
      "1547  [Fresh Tomato Salsa, [Fajita Vegetables, Rice,...     $8.75        8.75  \n",
      "1601  [Roasted Chili Corn Salsa, [Fajita Vegetables,...     $8.75        8.75  \n",
      "1621  [Roasted Chili Corn Salsa, [Fajita Vegetables,...     $8.75        8.75  \n",
      "1756  [Fresh Tomato Salsa, [Fajita Vegetables, Sour ...     $8.75        8.75  \n",
      "1977  [Fresh Tomato Salsa, [Fajita Vegetables, Sour ...     $8.75        8.75  \n",
      "2031  [Roasted Chili Corn Salsa, [Rice, Black Beans,...     $8.75        8.75  \n",
      "2113  [Fresh Tomato Salsa, [Rice, Black Beans, Cheese]]     $8.75        8.75  \n",
      "2224  [Fresh Tomato Salsa, [Pinto Beans, Sour Cream,...     $8.75        8.75  \n",
      "2314     [Roasted Chili Corn Salsa, [Rice, Sour Cream]]     $8.75        8.75  \n",
      "2728      [Roasted Chili Corn Salsa, [Cheese, Lettuce]]     $8.75        8.75  \n",
      "2858  [Fresh Tomato Salsa, [Fajita Vegetables, Chees...     $8.75        8.75  \n",
      "2883  [Roasted Chili Corn Salsa, [Black Beans, Sour ...     $8.75        8.75  \n",
      "2897                 [Roasted Chili Corn Salsa, Cheese]     $8.75        8.75  \n",
      "2989  [Fresh Tomato Salsa, [Fajita Vegetables, Rice,...     $8.75        8.75  \n",
      "3033            [Fresh Tomato Salsa, [Cheese, Lettuce]]     $8.75        8.75  \n",
      "3069  [Fresh Tomato Salsa, [Fajita Vegetables, Black...     $8.75        8.75  \n",
      "3117  [Roasted Chili Corn Salsa, [Rice, Pinto Beans,...     $8.75        8.75  \n",
      "3259  [Fresh Tomato Salsa, [Fajita Vegetables, Pinto...     $8.75        8.75  \n",
      "3261  [Fresh Tomato Salsa, [Fajita Vegetables, Lettu...     $8.75        8.75  \n",
      "3310                               [Fresh Tomato Salsa]     $8.75        8.75  \n",
      "3315              [Fresh Tomato Salsa, [Rice, Lettuce]]     $8.75        8.75  \n",
      "3381            [Fresh Tomato Salsa, [Cheese, Lettuce]]     $8.75        8.75  \n",
      "3411       [Fresh Tomato Salsa, [Pinto Beans, Lettuce]]     $8.75        8.75  \n",
      "3623  [Roasted Chili Corn Salsa, [Rice, Pinto Beans,...     $8.75        8.75  \n",
      "3656  [Tomatillo Green Chili Salsa, [Fajita Vegetabl...     $8.75        8.75  \n",
      "3706  [Roasted Chili Corn Salsa, [Pinto Beans, Chees...     $8.75        8.75  \n",
      "3712  [Roasted Chili Corn Salsa, [Black Beans, Chees...     $8.75        8.75  \n",
      "3790  [Fresh Tomato Salsa, [Fajita Vegetables, Chees...     $8.75        8.75  \n",
      "3798  [Fresh Tomato Salsa, [Fajita Vegetables, Lettu...     $8.75        8.75  \n",
      "3974  [Fresh Tomato Salsa, [Rice, Pinto Beans, Lettu...     $8.75        8.75  \n",
      "3997  [Tomatillo Green Chili Salsa, [Fajita Vegetabl...     $8.75        8.75  \n",
      "4012                               [Fresh Tomato Salsa]     $8.75        8.75  \n",
      "4035  [Fresh Tomato Salsa, [Fajita Vegetables, Chees...     $8.75        8.75  \n",
      "4064  [Fresh Tomato Salsa, [Rice, Black Beans, Chees...     $8.75        8.75  \n",
      "4205  [Roasted Chili Corn Salsa, [Black Beans, Chees...     $8.75        8.75  \n",
      "4207  [Fresh Tomato Salsa, [Black Beans, Cheese, Sou...     $8.75        8.75  \n",
      "4333        [Tomatillo Red Chili Salsa, [Rice, Cheese]]     $8.75        8.75  \n",
      "4352  [Tomatillo Red Chili Salsa, [Rice, Fajita Vege...     $8.75        8.75  \n",
      "4439  [Fresh Tomato Salsa, [Rice, Black Beans, Chees...     $8.75        8.75  \n",
      "4520                      [Fresh Tomato Salsa, Lettuce]     $8.75        8.75  \n",
      "4620  [Fresh Tomato Salsa, [Fajita Vegetables, Lettu...     $8.75        8.75  \n",
      "4621  [Fresh Tomato Salsa, [Fajita Vegetables, Pinto...     $8.75        8.75  \n"
     ]
    }
   ],
   "source": [
    "print(df.loc[(df['new_price']<=9)&(df['item_name']=='Chicken Salad Bowl'),:])"
   ]
  },
  {
   "cell_type": "markdown",
   "id": "3d2cda5d-8252-453d-882f-b77913e7c5f3",
   "metadata": {
    "jp-MarkdownHeadingCollapsed": true
   },
   "source": [
    "## df의 new_price 컬럼 값에 따라 오름차순으로 정리하고 index를 초기화"
   ]
  },
  {
   "cell_type": "code",
   "execution_count": 28,
   "id": "1a0478c3-4570-4cd0-9592-30f83610f2e5",
   "metadata": {},
   "outputs": [
    {
     "name": "stdout",
     "output_type": "stream",
     "text": [
      "      order_id  quantity                     item_name  \\\n",
      "0          471         1                 Bottled Water   \n",
      "1          338         1                   Canned Soda   \n",
      "2         1575         1                   Canned Soda   \n",
      "3           47         1                   Canned Soda   \n",
      "4         1014         1                   Canned Soda   \n",
      "...        ...       ...                           ...   \n",
      "4617      1443         3                Veggie Burrito   \n",
      "4618      1443         4               Chicken Burrito   \n",
      "4619       511         4               Chicken Burrito   \n",
      "4620      1398         3                 Carnitas Bowl   \n",
      "4621      1443        15  Chips and Fresh Tomato Salsa   \n",
      "\n",
      "                                     choice_description item_price  new_price  \n",
      "0                                                   NaN     $1.09        1.09  \n",
      "1                                           [Coca Cola]     $1.09        1.09  \n",
      "2                                          [Dr. Pepper]     $1.09        1.09  \n",
      "3                                          [Dr. Pepper]     $1.09        1.09  \n",
      "4                                           [Coca Cola]     $1.09        1.09  \n",
      "...                                                 ...        ...        ...  \n",
      "4617  [Fresh Tomato Salsa, [Fajita Vegetables, Rice,...    $33.75       33.75  \n",
      "4618  [Fresh Tomato Salsa, [Rice, Black Beans, Chees...    $35.00       35.00  \n",
      "4619  [Fresh Tomato Salsa, [Fajita Vegetables, Rice,...    $35.00       35.00  \n",
      "4620  [Roasted Chili Corn Salsa, [Fajita Vegetables,...    $35.25       35.25  \n",
      "4621                                                NaN    $44.25       44.25  \n",
      "\n",
      "[4622 rows x 6 columns]\n"
     ]
    }
   ],
   "source": [
    "print(df.sort_values('new_price').reset_index(drop=True))"
   ]
  },
  {
   "cell_type": "markdown",
   "id": "d7ce0a52-f6ce-4f91-a7f3-9ba4eeb6ddb8",
   "metadata": {
    "jp-MarkdownHeadingCollapsed": true
   },
   "source": [
    "## df의 item_name 컬럼 값 중 Chips를 포함하는 경우의 데이터 출력"
   ]
  },
  {
   "cell_type": "code",
   "execution_count": 29,
   "id": "5ae764e5-7bce-494b-8e9e-94e2535fe4cd",
   "metadata": {},
   "outputs": [
    {
     "name": "stdout",
     "output_type": "stream",
     "text": [
      "      order_id  quantity                              item_name  \\\n",
      "0            1         1           Chips and Fresh Tomato Salsa   \n",
      "3            1         1  Chips and Tomatillo-Green Chili Salsa   \n",
      "6            3         1                          Side of Chips   \n",
      "10           5         1                    Chips and Guacamole   \n",
      "14           7         1                    Chips and Guacamole   \n",
      "...        ...       ...                                    ...   \n",
      "4596      1826         1                    Chips and Guacamole   \n",
      "4600      1827         1                    Chips and Guacamole   \n",
      "4605      1828         1                    Chips and Guacamole   \n",
      "4613      1831         1                                  Chips   \n",
      "4616      1832         1                    Chips and Guacamole   \n",
      "\n",
      "     choice_description item_price  new_price  \n",
      "0                   NaN     $2.39        2.39  \n",
      "3                   NaN     $2.39        2.39  \n",
      "6                   NaN     $1.69        1.69  \n",
      "10                  NaN     $4.45        4.45  \n",
      "14                  NaN     $4.45        4.45  \n",
      "...                 ...        ...        ...  \n",
      "4596                NaN     $4.45        4.45  \n",
      "4600                NaN     $4.45        4.45  \n",
      "4605                NaN     $4.45        4.45  \n",
      "4613                NaN     $2.15        2.15  \n",
      "4616                NaN     $4.45        4.45  \n",
      "\n",
      "[1084 rows x 6 columns]\n"
     ]
    }
   ],
   "source": [
    "print(df.loc[df['item_name'].str.contains('Chips')])"
   ]
  },
  {
   "cell_type": "markdown",
   "id": "78287ac4-dc7d-40c1-85bc-f02d0f8711be",
   "metadata": {
    "jp-MarkdownHeadingCollapsed": true
   },
   "source": [
    "## df의 짝수번째 컬럼만을 포함하는 데이터프레임을 출력\n",
    "- ### 짝수번째 컬럼만 출력하기"
   ]
  },
  {
   "cell_type": "code",
   "execution_count": 30,
   "id": "fdb02c69-f083-4542-9e30-9d5f4ad97a49",
   "metadata": {},
   "outputs": [
    {
     "name": "stdout",
     "output_type": "stream",
     "text": [
      "      order_id                              item_name item_price\n",
      "0            1           Chips and Fresh Tomato Salsa     $2.39 \n",
      "1            1                                   Izze     $3.39 \n",
      "2            1                       Nantucket Nectar     $3.39 \n",
      "3            1  Chips and Tomatillo-Green Chili Salsa     $2.39 \n",
      "4            2                           Chicken Bowl    $16.98 \n",
      "...        ...                                    ...        ...\n",
      "4617      1833                          Steak Burrito    $11.75 \n",
      "4618      1833                          Steak Burrito    $11.75 \n",
      "4619      1834                     Chicken Salad Bowl    $11.25 \n",
      "4620      1834                     Chicken Salad Bowl     $8.75 \n",
      "4621      1834                     Chicken Salad Bowl     $8.75 \n",
      "\n",
      "[4622 rows x 3 columns]\n"
     ]
    }
   ],
   "source": [
    "print(df.iloc[:,::2])"
   ]
  },
  {
   "cell_type": "markdown",
   "id": "98730b7e-7abe-4621-8fd2-79a7eda8bd83",
   "metadata": {
    "jp-MarkdownHeadingCollapsed": true
   },
   "source": [
    "## df의 new_price 컬럼 값에 따라 내림차순으로 정리하고 index를 초기화"
   ]
  },
  {
   "cell_type": "code",
   "execution_count": 31,
   "id": "df51e79a-4d69-46b1-a4bc-d1cfa9fc1c47",
   "metadata": {},
   "outputs": [
    {
     "name": "stdout",
     "output_type": "stream",
     "text": [
      "      order_id  quantity                     item_name  \\\n",
      "0         1443        15  Chips and Fresh Tomato Salsa   \n",
      "1         1398         3                 Carnitas Bowl   \n",
      "2          511         4               Chicken Burrito   \n",
      "3         1443         4               Chicken Burrito   \n",
      "4         1443         3                Veggie Burrito   \n",
      "...        ...       ...                           ...   \n",
      "4617      1578         1                   Canned Soda   \n",
      "4618      1162         1                 Bottled Water   \n",
      "4619       567         1                   Canned Soda   \n",
      "4620      1014         1                   Canned Soda   \n",
      "4621       591         1                   Canned Soda   \n",
      "\n",
      "                                     choice_description item_price  new_price  \n",
      "0                                                   NaN    $44.25       44.25  \n",
      "1     [Roasted Chili Corn Salsa, [Fajita Vegetables,...    $35.25       35.25  \n",
      "2     [Fresh Tomato Salsa, [Fajita Vegetables, Rice,...    $35.00       35.00  \n",
      "3     [Fresh Tomato Salsa, [Rice, Black Beans, Chees...    $35.00       35.00  \n",
      "4     [Fresh Tomato Salsa, [Fajita Vegetables, Rice,...    $33.75       33.75  \n",
      "...                                                 ...        ...        ...  \n",
      "4617                                  [Diet Dr. Pepper]     $1.09        1.09  \n",
      "4618                                                NaN     $1.09        1.09  \n",
      "4619                                        [Coca Cola]     $1.09        1.09  \n",
      "4620                                        [Coca Cola]     $1.09        1.09  \n",
      "4621                                           [Sprite]     $1.09        1.09  \n",
      "\n",
      "[4622 rows x 6 columns]\n"
     ]
    }
   ],
   "source": [
    "print(df.sort_values('new_price',ascending = False).reset_index(drop=True))"
   ]
  },
  {
   "cell_type": "markdown",
   "id": "5d26e8a7-d04f-4b0c-ba40-ea524e5f8064",
   "metadata": {
    "jp-MarkdownHeadingCollapsed": true
   },
   "source": [
    "## df의 item_name 컬럼 값이 Steak Salad 또는 Bowl인 데이터를 인덱싱\n",
    "- ### or 조건문 사용하기"
   ]
  },
  {
   "cell_type": "code",
   "execution_count": 32,
   "id": "67f57582-9d6d-497f-8dc7-a359e782bfeb",
   "metadata": {},
   "outputs": [
    {
     "name": "stdout",
     "output_type": "stream",
     "text": [
      "      order_id  quantity    item_name  \\\n",
      "445        193         3         Bowl   \n",
      "664        276         1  Steak Salad   \n",
      "673        279         1         Bowl   \n",
      "752        311         1  Steak Salad   \n",
      "893        369         1  Steak Salad   \n",
      "3502      1406         1  Steak Salad   \n",
      "\n",
      "                                     choice_description item_price  new_price  \n",
      "445   [Braised Carnitas, Pinto Beans, [Sour Cream, C...    $22.20       22.20  \n",
      "664   [Tomatillo-Red Chili Salsa (Hot), [Black Beans...     $8.99        8.99  \n",
      "673   [Adobo-Marinated and Grilled Steak, [Sour Crea...     $7.40        7.40  \n",
      "752   [Tomatillo-Red Chili Salsa (Hot), [Black Beans...     $8.99        8.99  \n",
      "893   [Fresh Tomato Salsa (Mild), [Rice, Cheese, Sou...     $8.99        8.99  \n",
      "3502                        [[Lettuce, Fajita Veggies]]     $8.69        8.69  \n"
     ]
    }
   ],
   "source": [
    "print(df.loc[(df['item_name'] =='Steak Salad')|(df['item_name'] == 'Bowl'),:])"
   ]
  },
  {
   "cell_type": "markdown",
   "id": "2d9d43ff-d385-49b1-835b-41bd1367b221",
   "metadata": {
    "jp-MarkdownHeadingCollapsed": true
   },
   "source": [
    "## df의 item_name 컬럼 값이 Steak Salad 또는 Bowl인 데이터를 데이터 프레임화 한 후, item_name을 기준으로 중복행이 있으면 첫번째 행만 남기고 제거"
   ]
  },
  {
   "cell_type": "code",
   "execution_count": 33,
   "id": "bc49e049-42ca-4847-82f2-cc952dbe5b5a",
   "metadata": {},
   "outputs": [
    {
     "name": "stdout",
     "output_type": "stream",
     "text": [
      "     order_id  quantity    item_name  \\\n",
      "445       193         3         Bowl   \n",
      "664       276         1  Steak Salad   \n",
      "\n",
      "                                    choice_description item_price  new_price  \n",
      "445  [Braised Carnitas, Pinto Beans, [Sour Cream, C...    $22.20       22.20  \n",
      "664  [Tomatillo-Red Chili Salsa (Hot), [Black Beans...     $8.99        8.99  \n"
     ]
    }
   ],
   "source": [
    "print(df.loc[(df['item_name']=='Steak Salad')|(df['item_name']=='Bowl')].drop_duplicates('item_name'))"
   ]
  },
  {
   "cell_type": "markdown",
   "id": "6cd8b808-2312-40f1-9027-56014b072a94",
   "metadata": {
    "jp-MarkdownHeadingCollapsed": true
   },
   "source": [
    "## df의 item_name 컬럼 값이 Steak Salad 또는 Bowl인 데이터를 데이터 프레임화 한 후, item_name을 기준으로 중복행이 있으면 마지막 행만 남기고 제거\n",
    "- ### 마지막 행만 남기기"
   ]
  },
  {
   "cell_type": "code",
   "execution_count": 34,
   "id": "6da1bf86-afa9-4d05-b022-88493d779e7f",
   "metadata": {},
   "outputs": [
    {
     "name": "stdout",
     "output_type": "stream",
     "text": [
      "      order_id  quantity    item_name  \\\n",
      "673        279         1         Bowl   \n",
      "3502      1406         1  Steak Salad   \n",
      "\n",
      "                                     choice_description item_price  new_price  \n",
      "673   [Adobo-Marinated and Grilled Steak, [Sour Crea...     $7.40        7.40  \n",
      "3502                        [[Lettuce, Fajita Veggies]]     $8.69        8.69  \n"
     ]
    }
   ],
   "source": [
    "print(df.loc[(df['item_name']=='Steak Salad')|(df['item_name']=='Bowl')].drop_duplicates('item_name',keep='last'))"
   ]
  },
  {
   "cell_type": "markdown",
   "id": "9a837b73-d058-452d-bac8-706942870097",
   "metadata": {
    "jp-MarkdownHeadingCollapsed": true
   },
   "source": [
    "## df의 데이터 중 new_price 값이 new_price 값의 평균값 이상을 가지는 데이터 인덱싱"
   ]
  },
  {
   "cell_type": "code",
   "execution_count": 35,
   "id": "fb4afba1-e879-4ee6-9a20-4f91817965f8",
   "metadata": {},
   "outputs": [
    {
     "name": "stdout",
     "output_type": "stream",
     "text": [
      "      order_id  quantity           item_name  \\\n",
      "4            2         2        Chicken Bowl   \n",
      "5            3         1        Chicken Bowl   \n",
      "7            4         1       Steak Burrito   \n",
      "8            4         1    Steak Soft Tacos   \n",
      "9            5         1       Steak Burrito   \n",
      "...        ...       ...                 ...   \n",
      "4617      1833         1       Steak Burrito   \n",
      "4618      1833         1       Steak Burrito   \n",
      "4619      1834         1  Chicken Salad Bowl   \n",
      "4620      1834         1  Chicken Salad Bowl   \n",
      "4621      1834         1  Chicken Salad Bowl   \n",
      "\n",
      "                                     choice_description item_price  new_price  \n",
      "4     [Tomatillo-Red Chili Salsa (Hot), [Black Beans...    $16.98       16.98  \n",
      "5     [Fresh Tomato Salsa (Mild), [Rice, Cheese, Sou...    $10.98       10.98  \n",
      "7     [Tomatillo Red Chili Salsa, [Fajita Vegetables...    $11.75       11.75  \n",
      "8     [Tomatillo Green Chili Salsa, [Pinto Beans, Ch...     $9.25        9.25  \n",
      "9     [Fresh Tomato Salsa, [Rice, Black Beans, Pinto...     $9.25        9.25  \n",
      "...                                                 ...        ...        ...  \n",
      "4617  [Fresh Tomato Salsa, [Rice, Black Beans, Sour ...    $11.75       11.75  \n",
      "4618  [Fresh Tomato Salsa, [Rice, Sour Cream, Cheese...    $11.75       11.75  \n",
      "4619  [Fresh Tomato Salsa, [Fajita Vegetables, Pinto...    $11.25       11.25  \n",
      "4620  [Fresh Tomato Salsa, [Fajita Vegetables, Lettu...     $8.75        8.75  \n",
      "4621  [Fresh Tomato Salsa, [Fajita Vegetables, Pinto...     $8.75        8.75  \n",
      "\n",
      "[2890 rows x 6 columns]\n"
     ]
    }
   ],
   "source": [
    "print(df.loc[df['new_price']>=df['new_price'].mean()])"
   ]
  },
  {
   "cell_type": "markdown",
   "id": "48f28f72-f91f-4a9f-afd7-bbbf55494523",
   "metadata": {
    "jp-MarkdownHeadingCollapsed": true
   },
   "source": [
    "## df의 데이터 중 item_name의 값이 Izze 데이터를 FIzzy Lizzy로 수정"
   ]
  },
  {
   "cell_type": "code",
   "execution_count": 36,
   "id": "a40d3821-96f7-4a6a-a385-72bb65e06e1b",
   "metadata": {},
   "outputs": [
    {
     "name": "stdout",
     "output_type": "stream",
     "text": [
      "         order_id     quantity                              item_name  \\\n",
      "0               1            1           Chips and Fresh Tomato Salsa   \n",
      "1     Flzzy Lizzy  Flzzy Lizzy                            Flzzy Lizzy   \n",
      "2               1            1                       Nantucket Nectar   \n",
      "3               1            1  Chips and Tomatillo-Green Chili Salsa   \n",
      "4               2            2                           Chicken Bowl   \n",
      "...           ...          ...                                    ...   \n",
      "4617         1833            1                          Steak Burrito   \n",
      "4618         1833            1                          Steak Burrito   \n",
      "4619         1834            1                     Chicken Salad Bowl   \n",
      "4620         1834            1                     Chicken Salad Bowl   \n",
      "4621         1834            1                     Chicken Salad Bowl   \n",
      "\n",
      "                                     choice_description   item_price  \\\n",
      "0                                                   NaN       $2.39    \n",
      "1                                           Flzzy Lizzy  Flzzy Lizzy   \n",
      "2                                               [Apple]       $3.39    \n",
      "3                                                   NaN       $2.39    \n",
      "4     [Tomatillo-Red Chili Salsa (Hot), [Black Beans...      $16.98    \n",
      "...                                                 ...          ...   \n",
      "4617  [Fresh Tomato Salsa, [Rice, Black Beans, Sour ...      $11.75    \n",
      "4618  [Fresh Tomato Salsa, [Rice, Sour Cream, Cheese...      $11.75    \n",
      "4619  [Fresh Tomato Salsa, [Fajita Vegetables, Pinto...      $11.25    \n",
      "4620  [Fresh Tomato Salsa, [Fajita Vegetables, Lettu...       $8.75    \n",
      "4621  [Fresh Tomato Salsa, [Fajita Vegetables, Pinto...       $8.75    \n",
      "\n",
      "        new_price  \n",
      "0            2.39  \n",
      "1     Flzzy Lizzy  \n",
      "2            3.39  \n",
      "3            2.39  \n",
      "4           16.98  \n",
      "...           ...  \n",
      "4617        11.75  \n",
      "4618        11.75  \n",
      "4619        11.25  \n",
      "4620         8.75  \n",
      "4621         8.75  \n",
      "\n",
      "[4622 rows x 6 columns]\n"
     ]
    },
    {
     "name": "stderr",
     "output_type": "stream",
     "text": [
      "/tmp/ipykernel_33564/3716510020.py:1: FutureWarning: Setting an item of incompatible dtype is deprecated and will raise an error in a future version of pandas. Value 'Flzzy Lizzy' has dtype incompatible with int64, please explicitly cast to a compatible dtype first.\n",
      "  df.loc[df.item_name == 'Izze'] = 'Flzzy Lizzy'\n",
      "/tmp/ipykernel_33564/3716510020.py:1: FutureWarning: Setting an item of incompatible dtype is deprecated and will raise an error in a future version of pandas. Value 'Flzzy Lizzy' has dtype incompatible with int64, please explicitly cast to a compatible dtype first.\n",
      "  df.loc[df.item_name == 'Izze'] = 'Flzzy Lizzy'\n",
      "/tmp/ipykernel_33564/3716510020.py:1: FutureWarning: Setting an item of incompatible dtype is deprecated and will raise an error in a future version of pandas. Value 'Flzzy Lizzy' has dtype incompatible with float64, please explicitly cast to a compatible dtype first.\n",
      "  df.loc[df.item_name == 'Izze'] = 'Flzzy Lizzy'\n"
     ]
    }
   ],
   "source": [
    "df.loc[df.item_name == 'Izze'] = 'Flzzy Lizzy'\n",
    "print(df)"
   ]
  },
  {
   "cell_type": "markdown",
   "id": "8945faa9-3bc6-4b48-9a5f-765ab78fe2ea",
   "metadata": {
    "jp-MarkdownHeadingCollapsed": true
   },
   "source": [
    "## df의 데이터 중 choice_description 값이 NaN인 데이터의 갯수"
   ]
  },
  {
   "cell_type": "code",
   "execution_count": 37,
   "id": "4a4a3571-15c3-4f19-9527-cad4c5c43e70",
   "metadata": {},
   "outputs": [
    {
     "name": "stdout",
     "output_type": "stream",
     "text": [
      "1246\n"
     ]
    }
   ],
   "source": [
    "print(df['choice_description'].isna().sum())"
   ]
  },
  {
   "cell_type": "markdown",
   "id": "1bb2976f-75f3-4228-8d77-b41de59c2a03",
   "metadata": {
    "jp-MarkdownHeadingCollapsed": true
   },
   "source": [
    "## df의 데이터 중 choice_description 값이 NaN인 데이터를 NoData 값으로 대체하라(loc 이용)"
   ]
  },
  {
   "cell_type": "code",
   "execution_count": 38,
   "id": "abda9773-a618-46a4-a461-de92537b4946",
   "metadata": {},
   "outputs": [
    {
     "name": "stdout",
     "output_type": "stream",
     "text": [
      "         order_id     quantity                              item_name  \\\n",
      "0               1            1           Chips and Fresh Tomato Salsa   \n",
      "1     Flzzy Lizzy  Flzzy Lizzy                            Flzzy Lizzy   \n",
      "2               1            1                       Nantucket Nectar   \n",
      "3               1            1  Chips and Tomatillo-Green Chili Salsa   \n",
      "4               2            2                           Chicken Bowl   \n",
      "...           ...          ...                                    ...   \n",
      "4617         1833            1                          Steak Burrito   \n",
      "4618         1833            1                          Steak Burrito   \n",
      "4619         1834            1                     Chicken Salad Bowl   \n",
      "4620         1834            1                     Chicken Salad Bowl   \n",
      "4621         1834            1                     Chicken Salad Bowl   \n",
      "\n",
      "                                     choice_description   item_price  \\\n",
      "0                                                NoData       $2.39    \n",
      "1                                           Flzzy Lizzy  Flzzy Lizzy   \n",
      "2                                               [Apple]       $3.39    \n",
      "3                                                NoData       $2.39    \n",
      "4     [Tomatillo-Red Chili Salsa (Hot), [Black Beans...      $16.98    \n",
      "...                                                 ...          ...   \n",
      "4617  [Fresh Tomato Salsa, [Rice, Black Beans, Sour ...      $11.75    \n",
      "4618  [Fresh Tomato Salsa, [Rice, Sour Cream, Cheese...      $11.75    \n",
      "4619  [Fresh Tomato Salsa, [Fajita Vegetables, Pinto...      $11.25    \n",
      "4620  [Fresh Tomato Salsa, [Fajita Vegetables, Lettu...       $8.75    \n",
      "4621  [Fresh Tomato Salsa, [Fajita Vegetables, Pinto...       $8.75    \n",
      "\n",
      "        new_price  \n",
      "0            2.39  \n",
      "1     Flzzy Lizzy  \n",
      "2            3.39  \n",
      "3            2.39  \n",
      "4           16.98  \n",
      "...           ...  \n",
      "4617        11.75  \n",
      "4618        11.75  \n",
      "4619        11.25  \n",
      "4620         8.75  \n",
      "4621         8.75  \n",
      "\n",
      "[4622 rows x 6 columns]\n"
     ]
    }
   ],
   "source": [
    "df.loc[df.choice_description.isnull(),'choice_description'] = 'NoData'\n",
    "print(df)"
   ]
  },
  {
   "cell_type": "markdown",
   "id": "671c3ba8-e33c-44b2-ac63-e06810bacf7c",
   "metadata": {
    "jp-MarkdownHeadingCollapsed": true
   },
   "source": [
    "## df의 데이터 중 choice_description 값에 Black이 들어가는 경우를 인덱싱"
   ]
  },
  {
   "cell_type": "code",
   "execution_count": 39,
   "id": "7e49998c-3831-46e9-b9f5-b92895641a64",
   "metadata": {},
   "outputs": [
    {
     "name": "stdout",
     "output_type": "stream",
     "text": [
      "     order_id quantity             item_name  \\\n",
      "4           2        2          Chicken Bowl   \n",
      "7           4        1         Steak Burrito   \n",
      "9           5        1         Steak Burrito   \n",
      "11          6        1  Chicken Crispy Tacos   \n",
      "12          6        1    Chicken Soft Tacos   \n",
      "...       ...      ...                   ...   \n",
      "4604     1828        1          Chicken Bowl   \n",
      "4608     1829        1        Veggie Burrito   \n",
      "4611     1830        1        Veggie Burrito   \n",
      "4612     1831        1         Carnitas Bowl   \n",
      "4617     1833        1         Steak Burrito   \n",
      "\n",
      "                                     choice_description item_price new_price  \n",
      "4     [Tomatillo-Red Chili Salsa (Hot), [Black Beans...    $16.98      16.98  \n",
      "7     [Tomatillo Red Chili Salsa, [Fajita Vegetables...    $11.75      11.75  \n",
      "9     [Fresh Tomato Salsa, [Rice, Black Beans, Pinto...     $9.25       9.25  \n",
      "11    [Roasted Chili Corn Salsa, [Fajita Vegetables,...     $8.75       8.75  \n",
      "12    [Roasted Chili Corn Salsa, [Rice, Black Beans,...     $8.75       8.75  \n",
      "...                                                 ...        ...       ...  \n",
      "4604  [Fresh Tomato Salsa, [Rice, Black Beans, Chees...     $8.75       8.75  \n",
      "4608  [Tomatillo Red Chili Salsa, [Fajita Vegetables...    $11.25      11.25  \n",
      "4611  [Tomatillo Green Chili Salsa, [Rice, Fajita Ve...    $11.25      11.25  \n",
      "4612  [Fresh Tomato Salsa, [Fajita Vegetables, Rice,...     $9.25       9.25  \n",
      "4617  [Fresh Tomato Salsa, [Rice, Black Beans, Sour ...    $11.75      11.75  \n",
      "\n",
      "[1345 rows x 6 columns]\n"
     ]
    }
   ],
   "source": [
    "print(df.loc[df.choice_description.str.contains('Black')])"
   ]
  },
  {
   "cell_type": "markdown",
   "id": "7b77f939-55f5-488d-a691-b9d7f141ac97",
   "metadata": {
    "jp-MarkdownHeadingCollapsed": true
   },
   "source": [
    "## df의 데이터 중 choice_description 값에 Vegetables이 들어가지 않는 경우의 갯수 출력\n",
    "- ### not 조건문 사용"
   ]
  },
  {
   "cell_type": "code",
   "execution_count": 43,
   "id": "452b089a-479e-418d-a35b-bdc21b503ecf",
   "metadata": {},
   "outputs": [
    {
     "name": "stdout",
     "output_type": "stream",
     "text": [
      "3900\n"
     ]
    }
   ],
   "source": [
    "print(len(df.loc[~df.choice_description.str.contains('Vegetables')]))"
   ]
  },
  {
   "cell_type": "markdown",
   "id": "970e5a19-be51-4f69-907f-4522af2b380c",
   "metadata": {
    "jp-MarkdownHeadingCollapsed": true
   },
   "source": [
    "## df의 데이터 중 item_name 값이 N으로 시작하는 데이터를 모두 추출"
   ]
  },
  {
   "cell_type": "code",
   "execution_count": 45,
   "id": "5263d79e-c278-4143-a719-ee3ff03d0031",
   "metadata": {},
   "outputs": [
    {
     "name": "stdout",
     "output_type": "stream",
     "text": [
      "     order_id quantity         item_name         choice_description  \\\n",
      "2           1        1  Nantucket Nectar                    [Apple]   \n",
      "22         11        1  Nantucket Nectar       [Pomegranate Cherry]   \n",
      "105        46        1  Nantucket Nectar  [Pineapple Orange Banana]   \n",
      "173        77        1  Nantucket Nectar                    [Apple]   \n",
      "205        91        1  Nantucket Nectar             [Peach Orange]   \n",
      "436       189        1  Nantucket Nectar       [Pomegranate Cherry]   \n",
      "601       247        2  Nantucket Nectar  [Pineapple Orange Banana]   \n",
      "925       381        1  Nantucket Nectar       [Pomegranate Cherry]   \n",
      "1356      553        1  Nantucket Nectar       [Pomegranate Cherry]   \n",
      "1585      641        1  Nantucket Nectar             [Peach Orange]   \n",
      "1626      656        1  Nantucket Nectar  [Pineapple Orange Banana]   \n",
      "1706      690        1  Nantucket Nectar                    [Apple]   \n",
      "2162      872        1  Nantucket Nectar  [Pineapple Orange Banana]   \n",
      "2379      947        2  Nantucket Nectar             [Peach Orange]   \n",
      "2381      947        1  Nantucket Nectar                    [Apple]   \n",
      "2430      965        1  Nantucket Nectar       [Pomegranate Cherry]   \n",
      "2653     1053        1  Nantucket Nectar  [Pineapple Orange Banana]   \n",
      "2818     1118        1  Nantucket Nectar                    [Apple]   \n",
      "2838     1128        1  Nantucket Nectar             [Peach Orange]   \n",
      "2853     1133        1  Nantucket Nectar                    [Apple]   \n",
      "2949     1172        1  Nantucket Nectar             [Peach Orange]   \n",
      "3318     1330        1  Nantucket Nectar             [Peach Orange]   \n",
      "3368     1351        1  Nantucket Nectar  [Pineapple Orange Banana]   \n",
      "3570     1433        1  Nantucket Nectar  [Pineapple Orange Banana]   \n",
      "3845     1541        1  Nantucket Nectar             [Peach Orange]   \n",
      "4019     1609        1  Nantucket Nectar  [Pineapple Orange Banana]   \n",
      "4078     1632        1  Nantucket Nectar             [Peach Orange]   \n",
      "\n",
      "     item_price new_price  \n",
      "2        $3.39       3.39  \n",
      "22       $3.39       3.39  \n",
      "105      $3.39       3.39  \n",
      "173      $3.39       3.39  \n",
      "205      $3.39       3.39  \n",
      "436      $3.39       3.39  \n",
      "601      $6.78       6.78  \n",
      "925      $3.39       3.39  \n",
      "1356     $3.39       3.39  \n",
      "1585     $3.39       3.39  \n",
      "1626     $3.39       3.39  \n",
      "1706     $3.39       3.39  \n",
      "2162     $3.39       3.39  \n",
      "2379     $6.78       6.78  \n",
      "2381     $3.39       3.39  \n",
      "2430     $3.39       3.39  \n",
      "2653     $3.39       3.39  \n",
      "2818     $3.39       3.39  \n",
      "2838     $3.39       3.39  \n",
      "2853     $3.39       3.39  \n",
      "2949     $3.39       3.39  \n",
      "3318     $3.39       3.39  \n",
      "3368     $3.39       3.39  \n",
      "3570     $3.39       3.39  \n",
      "3845     $3.39       3.39  \n",
      "4019     $3.39       3.39  \n",
      "4078     $3.39       3.39  \n"
     ]
    }
   ],
   "source": [
    "print(df.loc[df.item_name.str.startswith('N')])"
   ]
  },
  {
   "cell_type": "markdown",
   "id": "52182af4-810b-4282-a69d-15bf155df7ba",
   "metadata": {
    "jp-MarkdownHeadingCollapsed": true
   },
   "source": [
    "## df의 데이터 중 item_name 값의 단어 길이가 15개 이상인 데이터를 인덱싱"
   ]
  },
  {
   "cell_type": "code",
   "execution_count": 48,
   "id": "f8f7fa92-4cac-4606-b114-c6db4a89f1bb",
   "metadata": {},
   "outputs": [
    {
     "name": "stdout",
     "output_type": "stream",
     "text": [
      "     order_id quantity                              item_name  \\\n",
      "0           1        1           Chips and Fresh Tomato Salsa   \n",
      "2           1        1                       Nantucket Nectar   \n",
      "3           1        1  Chips and Tomatillo-Green Chili Salsa   \n",
      "8           4        1                       Steak Soft Tacos   \n",
      "10          5        1                    Chips and Guacamole   \n",
      "...       ...      ...                                    ...   \n",
      "4615     1832        1                     Chicken Soft Tacos   \n",
      "4616     1832        1                    Chips and Guacamole   \n",
      "4619     1834        1                     Chicken Salad Bowl   \n",
      "4620     1834        1                     Chicken Salad Bowl   \n",
      "4621     1834        1                     Chicken Salad Bowl   \n",
      "\n",
      "                                     choice_description item_price new_price  \n",
      "0                                                NoData     $2.39       2.39  \n",
      "2                                               [Apple]     $3.39       3.39  \n",
      "3                                                NoData     $2.39       2.39  \n",
      "8     [Tomatillo Green Chili Salsa, [Pinto Beans, Ch...     $9.25       9.25  \n",
      "10                                               NoData     $4.45       4.45  \n",
      "...                                                 ...        ...       ...  \n",
      "4615   [Fresh Tomato Salsa, [Rice, Cheese, Sour Cream]]     $8.75       8.75  \n",
      "4616                                             NoData     $4.45       4.45  \n",
      "4619  [Fresh Tomato Salsa, [Fajita Vegetables, Pinto...    $11.25      11.25  \n",
      "4620  [Fresh Tomato Salsa, [Fajita Vegetables, Lettu...     $8.75       8.75  \n",
      "4621  [Fresh Tomato Salsa, [Fajita Vegetables, Pinto...     $8.75       8.75  \n",
      "\n",
      "[2373 rows x 6 columns]\n"
     ]
    }
   ],
   "source": [
    "print(df[df.item_name.str.len() >= 15])"
   ]
  },
  {
   "cell_type": "markdown",
   "id": "21163dad-1f43-47fc-9af1-2cfa6f42a56c",
   "metadata": {
    "jp-MarkdownHeadingCollapsed": true
   },
   "source": [
    "## df의 데이터 중 new_price 값이 lst에 해당하는 경우의 데이터 프레임 갯수 출력\n",
    "- ### 그룹 내에 포함되어 있는 값 찾기"
   ]
  },
  {
   "cell_type": "code",
   "execution_count": 51,
   "id": "f895834a-a0f9-41d7-a7a0-508a4415d66c",
   "metadata": {},
   "outputs": [
    {
     "name": "stdout",
     "output_type": "stream",
     "text": [
      "1373\n"
     ]
    }
   ],
   "source": [
    "lst =[1.69, 2.39, 3.39, 4.45, 9.25, 10.98, 11.75, 16.98]\n",
    "print(len(df.loc[df.new_price.isin(lst)]))"
   ]
  },
  {
   "cell_type": "markdown",
   "id": "28c72679-eb21-472a-858d-a555a0ba3f81",
   "metadata": {},
   "source": [
    "# CHAPTER 03 : Grouping\n",
    "- group 별 빈도수 구하기\n",
    "- 컬럼명 변경하기\n",
    "- 그룹의 최댓값 구하기\n",
    "- 그룹의 평균, 분산, 최댓값, 최소값 구하기\n",
    "- pandas 없이 pivot table 만들기\n",
    "- pivot table의 결측값 채우기\n",
    "- pivot table의 각 값의 비율 구하기"
   ]
  },
  {
   "cell_type": "markdown",
   "id": "a2630f68-c32d-4a32-9669-b2d660e24224",
   "metadata": {
    "jp-MarkdownHeadingCollapsed": true
   },
   "source": [
    "## 데이터 로드"
   ]
  },
  {
   "cell_type": "code",
   "execution_count": 53,
   "id": "5366bdca-e18b-46ef-ac06-0b8c64d9fa04",
   "metadata": {},
   "outputs": [
    {
     "name": "stdout",
     "output_type": "stream",
     "text": [
      "     id                                              name  host_id  \\\n",
      "0  2539                Clean & quiet apt home by the park     2787   \n",
      "1  2595                             Skylit Midtown Castle     2845   \n",
      "2  3647               THE VILLAGE OF HARLEM....NEW YORK !     4632   \n",
      "3  3831                   Cozy Entire Floor of Brownstone     4869   \n",
      "4  5022  Entire Apt: Spacious Studio/Loft by central park     7192   \n",
      "\n",
      "     host_name neighbourhood_group neighbourhood  latitude  longitude  \\\n",
      "0         John            Brooklyn    Kensington  40.64749  -73.97237   \n",
      "1     Jennifer           Manhattan       Midtown  40.75362  -73.98377   \n",
      "2    Elisabeth           Manhattan        Harlem  40.80902  -73.94190   \n",
      "3  LisaRoxanne            Brooklyn  Clinton Hill  40.68514  -73.95976   \n",
      "4        Laura           Manhattan   East Harlem  40.79851  -73.94399   \n",
      "\n",
      "         room_type  price  minimum_nights  number_of_reviews last_review  \\\n",
      "0     Private room    149               1                  9  2018-10-19   \n",
      "1  Entire home/apt    225               1                 45  2019-05-21   \n",
      "2     Private room    150               3                  0         NaN   \n",
      "3  Entire home/apt     89               1                270  2019-07-05   \n",
      "4  Entire home/apt     80              10                  9  2018-11-19   \n",
      "\n",
      "   reviews_per_month  calculated_host_listings_count  availability_365  \n",
      "0               0.21                               6               365  \n",
      "1               0.38                               2               355  \n",
      "2                NaN                               1               365  \n",
      "3               4.64                               1               194  \n",
      "4               0.10                               1                 0  \n"
     ]
    }
   ],
   "source": [
    "df= pd.read_csv('https://raw.githubusercontent.com/Datamanim/pandas/main/AB_NYC_2019.csv')\n",
    "print(df.head(5))"
   ]
  },
  {
   "cell_type": "markdown",
   "id": "286ce85c-508c-47ef-bddd-33322b5ec460",
   "metadata": {
    "jp-MarkdownHeadingCollapsed": true
   },
   "source": [
    "## 데이터의 각 host_name의 빈도수를 구하고 host_name으로 정렬하여 상위 5개 출력\n",
    "- ### group별 빈도수 구하기"
   ]
  },
  {
   "cell_type": "code",
   "execution_count": 64,
   "id": "ca91a169-1b78-46cc-bea1-64e58a0b158a",
   "metadata": {},
   "outputs": [
    {
     "name": "stdout",
     "output_type": "stream",
     "text": [
      "host_name\n",
      "'Cil                        1\n",
      "(Ari) HENRY LEE             1\n",
      "(Email hidden by Airbnb)    6\n",
      "(Mary) Haiy                 1\n",
      "-TheQueensCornerLot         1\n",
      "dtype: int64\n"
     ]
    }
   ],
   "source": [
    "print(df.groupby('host_name').size().head(5))"
   ]
  },
  {
   "cell_type": "markdown",
   "id": "5df5f899-2e5f-4d6a-b24d-412ff56a7ad2",
   "metadata": {},
   "source": [
    "## 데이터의 각 host_name의 빈도수를 구하고 빈도수 기준 내림차순 정렬한 데이터 프레임 출력, 빈도수 컬럼은 counts로 명명\n",
    "- ### 컬럼명 변경하기"
   ]
  },
  {
   "cell_type": "code",
   "execution_count": 73,
   "id": "180fb1dd-f6cb-4068-a21e-e9b2ef3683c6",
   "metadata": {},
   "outputs": [
    {
     "name": "stdout",
     "output_type": "stream",
     "text": [
      "              counts\n",
      "host_name           \n",
      "Michael          417\n",
      "David            403\n",
      "Sonder (NYC)     327\n",
      "John             294\n",
      "Alex             279\n",
      "...              ...\n",
      "Jerbean            1\n",
      "Jerald             1\n",
      "Jeonghoon          1\n",
      "Jeny               1\n",
      "현선                 1\n",
      "\n",
      "[11452 rows x 1 columns]\n"
     ]
    }
   ],
   "source": [
    "df_group = df.groupby('host_name').size().to_frame().rename(columns={0:'counts'}).sort_values('counts',ascending=False)\n",
    "print(df_group)"
   ]
  },
  {
   "cell_type": "markdown",
   "id": "2fd4c0f8-4116-4457-8bcb-ce3c8bf1d7bf",
   "metadata": {
    "jp-MarkdownHeadingCollapsed": true
   },
   "source": [
    "## neighbourhood_group의 값에 따른 neighbourhood 컬럼 값의 갯수 "
   ]
  },
  {
   "cell_type": "code",
   "execution_count": 80,
   "id": "af234abe-b072-4e1c-809e-d442186a67ad",
   "metadata": {},
   "outputs": [
    {
     "name": "stdout",
     "output_type": "stream",
     "text": [
      "    neighbourhood_group  neighbourhood   0\n",
      "0                 Bronx       Allerton  42\n",
      "1                 Bronx     Baychester   7\n",
      "2                 Bronx        Belmont  24\n",
      "3                 Bronx      Bronxdale  19\n",
      "4                 Bronx    Castle Hill   9\n",
      "..                  ...            ...  ..\n",
      "216       Staten Island    Tottenville   7\n",
      "217       Staten Island  West Brighton  18\n",
      "218       Staten Island    Westerleigh   2\n",
      "219       Staten Island    Willowbrook   1\n",
      "220       Staten Island        Woodrow   1\n",
      "\n",
      "[221 rows x 3 columns]\n"
     ]
    }
   ],
   "source": [
    "print(df.groupby(['neighbourhood_group','neighbourhood']).size().reset_index())"
   ]
  },
  {
   "cell_type": "markdown",
   "id": "4c0c8302-bbd3-4d30-bab6-0cc55cd56d2c",
   "metadata": {
    "jp-MarkdownHeadingCollapsed": true
   },
   "source": [
    "## neighbourhood_group의 값에 따른 neighbourhood 컬럼값 중 neighbourhood_group 그룹의 최대값들을 출력\n",
    "- ### 그룹의 최대값 구하기"
   ]
  },
  {
   "cell_type": "code",
   "execution_count": 85,
   "id": "811ebee5-3f07-4255-a965-f6f99f0d96a6",
   "metadata": {},
   "outputs": [
    {
     "name": "stdout",
     "output_type": "stream",
     "text": [
      "                       neighbourhood     0\n",
      "neighbourhood_group                       \n",
      "Bronx                       Woodlawn    70\n",
      "Brooklyn             Windsor Terrace  3920\n",
      "Manhattan               West Village  2658\n",
      "Queens                      Woodside   900\n",
      "Staten Island                Woodrow    48\n"
     ]
    }
   ],
   "source": [
    "print(df.groupby(['neighbourhood_group','neighbourhood']).size().reset_index().groupby('neighbourhood_group').max())"
   ]
  },
  {
   "cell_type": "markdown",
   "id": "6386e8dc-6c86-435a-ada6-bf90fa95eeac",
   "metadata": {
    "jp-MarkdownHeadingCollapsed": true
   },
   "source": [
    "## neighbourhood_group 값에 따른 price값의 평균, 분산, 최대, 최소 값\n",
    "- ### 평균, 분산, 최대, 최소 값 구하기"
   ]
  },
  {
   "cell_type": "code",
   "execution_count": 89,
   "id": "d6c6eadf-f8e5-45b9-aa99-0c47896e81c5",
   "metadata": {},
   "outputs": [
    {
     "name": "stdout",
     "output_type": "stream",
     "text": [
      "                          price                         \n",
      "                           mean           var    max min\n",
      "neighbourhood_group                                     \n",
      "Bronx                 87.496792  11386.885081   2500   0\n",
      "Brooklyn             124.383207  34921.719135  10000   0\n",
      "Manhattan            196.875814  84904.159185  10000   0\n",
      "Queens                99.517649  27923.130227  10000  10\n",
      "Staten Island        114.812332  77073.088342   5000  13\n"
     ]
    }
   ],
   "source": [
    "print(df[['neighbourhood_group','price']].groupby('neighbourhood_group').agg(['mean','var','max','min']))"
   ]
  },
  {
   "cell_type": "markdown",
   "id": "d2378da6-1c89-48d6-8cc4-660a28ba5c1d",
   "metadata": {
    "jp-MarkdownHeadingCollapsed": true
   },
   "source": [
    "## neighbourhood_group 값에 따른 reviews_per_month 값의 평균, 분산, 최대, 최소 값"
   ]
  },
  {
   "cell_type": "code",
   "execution_count": 90,
   "id": "f4cd9b01-b552-42de-8d6f-9b3a6bef4741",
   "metadata": {},
   "outputs": [
    {
     "name": "stdout",
     "output_type": "stream",
     "text": [
      "                    reviews_per_month                       \n",
      "                                 mean       var    max   min\n",
      "neighbourhood_group                                         \n",
      "Bronx                        1.837831  2.799878  10.34  0.02\n",
      "Brooklyn                     1.283212  2.299040  14.00  0.01\n",
      "Manhattan                    1.272131  2.651206  58.50  0.01\n",
      "Queens                       1.941200  4.897848  20.94  0.01\n",
      "Staten Island                1.872580  2.840895  10.12  0.02\n"
     ]
    }
   ],
   "source": [
    "print(df[['neighbourhood_group','reviews_per_month']].groupby('neighbourhood_group').agg(['mean','var','max','min']))"
   ]
  },
  {
   "cell_type": "markdown",
   "id": "65969fe9-6639-4ac4-9a0d-b2f7980e8be7",
   "metadata": {
    "jp-MarkdownHeadingCollapsed": true
   },
   "source": [
    "## neighbourhood 값과 neighboorhooud_group 값에 따른 price의 평균 "
   ]
  },
  {
   "cell_type": "code",
   "execution_count": 93,
   "id": "7a0830db-58c3-4737-bf4f-9bdb69f3009a",
   "metadata": {},
   "outputs": [
    {
     "name": "stdout",
     "output_type": "stream",
     "text": [
      "                                           mean\n",
      "neighbourhood   neighbourhood_group            \n",
      "Allerton        Bronx                 87.595238\n",
      "Arden Heights   Staten Island         67.250000\n",
      "Arrochar        Staten Island        115.000000\n",
      "Arverne         Queens               171.779221\n",
      "Astoria         Queens               117.187778\n",
      "...                                         ...\n",
      "Windsor Terrace Brooklyn             138.993631\n",
      "Woodhaven       Queens                67.170455\n",
      "Woodlawn        Bronx                 60.090909\n",
      "Woodrow         Staten Island        700.000000\n",
      "Woodside        Queens                85.097872\n",
      "\n",
      "[221 rows x 1 columns]\n"
     ]
    }
   ],
   "source": [
    "print(df.groupby(['neighbourhood','neighbourhood_group']).price.agg(['mean']))"
   ]
  },
  {
   "cell_type": "markdown",
   "id": "9b5ff6b7-d9bb-48fc-b9d5-aa13dd210aef",
   "metadata": {
    "jp-MarkdownHeadingCollapsed": true
   },
   "source": [
    "## neighborhood 값과 neighborhood_group값에 따른 price의 평균을 계층적 indexing 없이 출력\n",
    "- ### pandas 없이 pivot table 만들기"
   ]
  },
  {
   "cell_type": "code",
   "execution_count": 98,
   "id": "dd63482b-c91d-46b5-9993-149ace486982",
   "metadata": {},
   "outputs": [
    {
     "name": "stdout",
     "output_type": "stream",
     "text": [
      "neighbourhood_group      Bronx    Brooklyn  Manhattan      Queens  \\\n",
      "neighbourhood                                                       \n",
      "Allerton             87.595238         NaN        NaN         NaN   \n",
      "Arden Heights              NaN         NaN        NaN         NaN   \n",
      "Arrochar                   NaN         NaN        NaN         NaN   \n",
      "Arverne                    NaN         NaN        NaN  171.779221   \n",
      "Astoria                    NaN         NaN        NaN  117.187778   \n",
      "...                        ...         ...        ...         ...   \n",
      "Windsor Terrace            NaN  138.993631        NaN         NaN   \n",
      "Woodhaven                  NaN         NaN        NaN   67.170455   \n",
      "Woodlawn             60.090909         NaN        NaN         NaN   \n",
      "Woodrow                    NaN         NaN        NaN         NaN   \n",
      "Woodside                   NaN         NaN        NaN   85.097872   \n",
      "\n",
      "neighbourhood_group  Staten Island  \n",
      "neighbourhood                       \n",
      "Allerton                       NaN  \n",
      "Arden Heights                67.25  \n",
      "Arrochar                    115.00  \n",
      "Arverne                        NaN  \n",
      "Astoria                        NaN  \n",
      "...                            ...  \n",
      "Windsor Terrace                NaN  \n",
      "Woodhaven                      NaN  \n",
      "Woodlawn                       NaN  \n",
      "Woodrow                     700.00  \n",
      "Woodside                       NaN  \n",
      "\n",
      "[221 rows x 5 columns]\n",
      "neighbourhood_group      Bronx    Brooklyn  Manhattan      Queens  \\\n",
      "neighbourhood                                                       \n",
      "Allerton             87.595238         NaN        NaN         NaN   \n",
      "Arden Heights              NaN         NaN        NaN         NaN   \n",
      "Arrochar                   NaN         NaN        NaN         NaN   \n",
      "Arverne                    NaN         NaN        NaN  171.779221   \n",
      "Astoria                    NaN         NaN        NaN  117.187778   \n",
      "...                        ...         ...        ...         ...   \n",
      "Windsor Terrace            NaN  138.993631        NaN         NaN   \n",
      "Woodhaven                  NaN         NaN        NaN   67.170455   \n",
      "Woodlawn             60.090909         NaN        NaN         NaN   \n",
      "Woodrow                    NaN         NaN        NaN         NaN   \n",
      "Woodside                   NaN         NaN        NaN   85.097872   \n",
      "\n",
      "neighbourhood_group  Staten Island  \n",
      "neighbourhood                       \n",
      "Allerton                       NaN  \n",
      "Arden Heights                67.25  \n",
      "Arrochar                    115.00  \n",
      "Arverne                        NaN  \n",
      "Astoria                        NaN  \n",
      "...                            ...  \n",
      "Windsor Terrace                NaN  \n",
      "Woodhaven                      NaN  \n",
      "Woodlawn                       NaN  \n",
      "Woodrow                     700.00  \n",
      "Woodside                       NaN  \n",
      "\n",
      "[221 rows x 5 columns]\n"
     ]
    }
   ],
   "source": [
    "print(pd.pivot_table(df,index='neighbourhood',columns='neighbourhood_group',values='price',aggfunc='mean'))\n",
    "print(df.groupby(['neighbourhood','neighbourhood_group']).price.mean().unstack())"
   ]
  },
  {
   "cell_type": "markdown",
   "id": "eecbd641-2a74-4ff4-8430-ac53dd86c9ad",
   "metadata": {
    "jp-MarkdownHeadingCollapsed": true
   },
   "source": [
    "## neighbourhood값과 neighbourhood_group 값에 따른 price의 평균을 계층적 indexing 없이 구하고 nan 값은 -999값으로 채우기\n",
    "- ### pivot table 결측값 채우기"
   ]
  },
  {
   "cell_type": "code",
   "execution_count": 99,
   "id": "37aea2d7-e4cf-456e-9b1b-eb846ba9923a",
   "metadata": {},
   "outputs": [
    {
     "name": "stdout",
     "output_type": "stream",
     "text": [
      "neighbourhood_group       Bronx    Brooklyn  Manhattan      Queens  \\\n",
      "neighbourhood                                                        \n",
      "Allerton              87.595238 -999.000000     -999.0 -999.000000   \n",
      "Arden Heights       -999.000000 -999.000000     -999.0 -999.000000   \n",
      "Arrochar            -999.000000 -999.000000     -999.0 -999.000000   \n",
      "Arverne             -999.000000 -999.000000     -999.0  171.779221   \n",
      "Astoria             -999.000000 -999.000000     -999.0  117.187778   \n",
      "...                         ...         ...        ...         ...   \n",
      "Windsor Terrace     -999.000000  138.993631     -999.0 -999.000000   \n",
      "Woodhaven           -999.000000 -999.000000     -999.0   67.170455   \n",
      "Woodlawn              60.090909 -999.000000     -999.0 -999.000000   \n",
      "Woodrow             -999.000000 -999.000000     -999.0 -999.000000   \n",
      "Woodside            -999.000000 -999.000000     -999.0   85.097872   \n",
      "\n",
      "neighbourhood_group  Staten Island  \n",
      "neighbourhood                       \n",
      "Allerton                   -999.00  \n",
      "Arden Heights                67.25  \n",
      "Arrochar                    115.00  \n",
      "Arverne                    -999.00  \n",
      "Astoria                    -999.00  \n",
      "...                            ...  \n",
      "Windsor Terrace            -999.00  \n",
      "Woodhaven                  -999.00  \n",
      "Woodlawn                   -999.00  \n",
      "Woodrow                     700.00  \n",
      "Woodside                   -999.00  \n",
      "\n",
      "[221 rows x 5 columns]\n"
     ]
    }
   ],
   "source": [
    "print(df.groupby(['neighbourhood','neighbourhood_group']).price.mean().unstack().fillna(-999))"
   ]
  },
  {
   "cell_type": "markdown",
   "id": "22fca802-e506-490f-89df-3c98198e3ac6",
   "metadata": {
    "jp-MarkdownHeadingCollapsed": true
   },
   "source": [
    "## 데이터 중 neighbourhood_group 값이 Queens 값을 가지는 데이터들 중 neighbourhood 그룹 별로 price 값의 평균, 분산, 최대, 최소값 출력"
   ]
  },
  {
   "cell_type": "code",
   "execution_count": 100,
   "id": "bae65299-6f3a-497c-b9c9-24a484753e09",
   "metadata": {},
   "outputs": [
    {
     "name": "stdout",
     "output_type": "stream",
     "text": [
      "                           mean            var    max  min\n",
      "neighbourhood                                             \n",
      "Arverne              171.779221   37383.411141   1500   35\n",
      "Astoria              117.187778  122428.811196  10000   25\n",
      "Bay Terrace          142.000000    6816.400000    258   32\n",
      "Bayside              157.948718  166106.470985   2600   30\n",
      "Bayswater             87.470588    2330.889706    230   45\n",
      "Belle Harbor         171.500000    8226.571429    350   85\n",
      "Bellerose             99.357143    3093.016484    240   42\n",
      "Breezy Point         213.333333    1008.333333    250  195\n",
      "Briarwood            105.875000   18503.165909   1000   30\n",
      "Cambria Heights       81.730769    2960.604615    250   31\n",
      "College Point         88.000000    6445.555556    400   44\n",
      "Corona                59.171875    2430.557292    359   23\n",
      "Ditmars Steinway      95.029126    4214.112785    600   22\n",
      "Douglaston            82.750000    2347.071429    178   40\n",
      "East Elmhurst         81.183784    4369.487779    700   16\n",
      "Edgemere              94.727273    4219.418182    200   40\n",
      "Elmhurst              80.459916    3896.563005    443   15\n",
      "Far Rockaway         165.862069   52575.980296    900   35\n",
      "Flushing              93.514085   12417.177448   1500   15\n",
      "Forest Hills         121.625000   44533.368881   2350   16\n",
      "Fresh Meadows         99.500000    6394.451613    375   39\n",
      "Glendale              90.796296    3230.882250    299   25\n",
      "Hollis                88.642857    1483.016484    175   50\n",
      "Holliswood           135.750000    5091.583333    239   79\n",
      "Howard Beach         115.400000    4241.936842    250   40\n",
      "Jackson Heights       80.897849    2150.470590    260   23\n",
      "Jamaica               95.770563    8067.047130   1000   10\n",
      "Jamaica Estates      182.947368   29006.052632    750   35\n",
      "Jamaica Hills        132.125000   11304.696429    325   50\n",
      "Kew Gardens           88.375000    2632.306452    219   35\n",
      "Kew Gardens Hills    112.307692    6230.621538    399   40\n",
      "Laurelton             95.333333    4355.529412    254   34\n",
      "Little Neck           75.200000    2368.700000    149   32\n",
      "Long Island City     127.465549   15529.503009   2000   30\n",
      "Maspeth               83.645455    2223.607089    245   11\n",
      "Middle Village       109.580645    3537.118280    265   28\n",
      "Neponsit             274.666667    5625.333333    350  200\n",
      "Ozone Park            85.274194    1705.415389    200   25\n",
      "Queens Village        83.933333    2386.470056    320   25\n",
      "Rego Park             83.877358    3659.003863    300   21\n",
      "Richmond Hill         87.117021    3474.147449    300   28\n",
      "Ridgewood             77.184397    2629.311889    375   20\n",
      "Rockaway Beach       132.178571    6254.622078    545   49\n",
      "Rosedale              76.694915    2963.939801    350   22\n",
      "South Ozone Park      82.400000    4619.989744    400   29\n",
      "Springfield Gardens   94.235294    2490.848739    300   40\n",
      "St. Albans           100.828947    9489.903684    600   25\n",
      "Sunnyside             84.865014    2727.746922    600   12\n",
      "Whitestone           107.545455   13632.072727    400   35\n",
      "Woodhaven             67.170455    1642.464864    250   10\n",
      "Woodside              85.097872    5001.900636    500   28\n"
     ]
    }
   ],
   "source": [
    "print(df.loc[df.neighbourhood_group == 'Queens'].groupby('neighbourhood').price.agg(['mean','var','max','min']))                                                                            "
   ]
  },
  {
   "cell_type": "markdown",
   "id": "ffce7a0c-bdfb-4978-8487-51da19d1f7cf",
   "metadata": {
    "jp-MarkdownHeadingCollapsed": true
   },
   "source": [
    "## 데이터 중 neighbourhood_group 값에 따른 room_type 컬럼의 숫자를 구하고 neighbourhood_group 값을 기준으로 각 값의 비율 출력\n",
    "- ### 각 값의 비율 출력"
   ]
  },
  {
   "cell_type": "code",
   "execution_count": 107,
   "id": "496ecd8d-7b44-44fb-a544-ee5aa5a4880c",
   "metadata": {},
   "outputs": [
    {
     "name": "stdout",
     "output_type": "stream",
     "text": [
      "room_type            Entire home/apt  Private room  Shared room\n",
      "neighbourhood_group                                            \n",
      "Bronx                       0.347388      0.597617     0.054995\n",
      "Brooklyn                    0.475478      0.503979     0.020543\n",
      "Manhattan                   0.609344      0.368496     0.022160\n",
      "Queens                      0.369926      0.595129     0.034945\n",
      "Staten Island               0.471850      0.504021     0.024129\n"
     ]
    },
    {
     "name": "stderr",
     "output_type": "stream",
     "text": [
      "/tmp/ipykernel_33564/3996703264.py:2: FutureWarning: Setting an item of incompatible dtype is deprecated and will raise in a future error of pandas. Value '[0.34738772 0.47547752 0.60934398 0.36992587 0.47184987]' has dtype incompatible with int64, please explicitly cast to a compatible dtype first.\n",
      "  df_group.loc[:,:] = (df_group.values/df_group.sum(axis=1).values.reshape(-1,1))\n",
      "/tmp/ipykernel_33564/3996703264.py:2: FutureWarning: Setting an item of incompatible dtype is deprecated and will raise in a future error of pandas. Value '[0.59761687 0.50397931 0.36849638 0.59512884 0.50402145]' has dtype incompatible with int64, please explicitly cast to a compatible dtype first.\n",
      "  df_group.loc[:,:] = (df_group.values/df_group.sum(axis=1).values.reshape(-1,1))\n",
      "/tmp/ipykernel_33564/3996703264.py:2: FutureWarning: Setting an item of incompatible dtype is deprecated and will raise in a future error of pandas. Value '[0.05499542 0.02054318 0.02215964 0.03494529 0.02412869]' has dtype incompatible with int64, please explicitly cast to a compatible dtype first.\n",
      "  df_group.loc[:,:] = (df_group.values/df_group.sum(axis=1).values.reshape(-1,1))\n"
     ]
    }
   ],
   "source": [
    "df_group = df[['neighbourhood_group','room_type']].groupby(['neighbourhood_group','room_type']).size().unstack()\n",
    "df_group.loc[:,:] = (df_group.values/df_group.sum(axis=1).values.reshape(-1,1))\n",
    "print(df_group)"
   ]
  },
  {
   "cell_type": "markdown",
   "id": "e9d5e250-fe33-43a7-8f45-469a02fe2ac8",
   "metadata": {},
   "source": [
    "# CHAPTER 04 : Apply & Map\n",
    "- map 함수 이용하여 컬럼 매핑\n",
    "- dataframe에 조건 적용하기"
   ]
  },
  {
   "cell_type": "markdown",
   "id": "c8ba9754-d51d-4695-a532-03f6afbe2e87",
   "metadata": {
    "jp-MarkdownHeadingCollapsed": true
   },
   "source": [
    "## 데이터 로드 및 데이텨 행과 열의 갯수 출력"
   ]
  },
  {
   "cell_type": "code",
   "execution_count": 33,
   "id": "797fc68d-b5aa-49de-9d9b-591a6139a149",
   "metadata": {},
   "outputs": [
    {
     "name": "stdout",
     "output_type": "stream",
     "text": [
      "(10127, 19)\n"
     ]
    }
   ],
   "source": [
    "import pandas as pd\n",
    "df = pd.read_csv('https://raw.githubusercontent.com/Datamanim/pandas/main/BankChurnersUp.csv')\n",
    "print(df.shape)"
   ]
  },
  {
   "cell_type": "markdown",
   "id": "0b07ea0e-27b7-4069-92ee-05ecb8068416",
   "metadata": {
    "jp-MarkdownHeadingCollapsed": true
   },
   "source": [
    "## income_Category의 카테고리를 map 함수를 이용하여 다음과 같이 변경하여 newIncome 컬럼에 매핑\n",
    "- ### map 함수 이용하여 컬럼 매핑"
   ]
  },
  {
   "cell_type": "code",
   "execution_count": 34,
   "id": "42196121-b733-42ad-9b84-490239cb9521",
   "metadata": {},
   "outputs": [
    {
     "name": "stdout",
     "output_type": "stream",
     "text": [
      "   Unnamed: 0  CLIENTNUM     Attrition_Flag  Customer_Age Gender  \\\n",
      "0           0  768805383  Existing Customer            45      M   \n",
      "1           1  818770008  Existing Customer            49      F   \n",
      "2           2  713982108  Existing Customer            51      M   \n",
      "3           3  769911858  Existing Customer            40      F   \n",
      "\n",
      "   Dependent_count Education_Level Marital_Status Income_Category  \\\n",
      "0                3     High School        Married     $60K - $80K   \n",
      "1                5        Graduate         Single  Less than $40K   \n",
      "2                3        Graduate        Married    $80K - $120K   \n",
      "3                4     High School        Unknown  Less than $40K   \n",
      "\n",
      "  Card_Category  Months_on_book  Total_Relationship_Count  \\\n",
      "0          Blue              39                         5   \n",
      "1          Blue              44                         6   \n",
      "2          Blue              36                         4   \n",
      "3          Blue              34                         3   \n",
      "\n",
      "   Months_Inactive_12_mon  Contacts_Count_12_mon  Credit_Limit  \\\n",
      "0                       1                      3       12691.0   \n",
      "1                       1                      2        8256.0   \n",
      "2                       1                      0        3418.0   \n",
      "3                       4                      1        3313.0   \n",
      "\n",
      "   Total_Revolving_Bal  Avg_Open_To_Buy  Total_Amt_Chng_Q4_Q1  \\\n",
      "0                  777          11914.0                 1.335   \n",
      "1                  864           7392.0                 1.541   \n",
      "2                    0           3418.0                 2.594   \n",
      "3                 2517            796.0                 1.405   \n",
      "\n",
      "   Total_Trans_Amt newIncome  \n",
      "0             1144         c  \n",
      "1             1291         a  \n",
      "2             1887         d  \n",
      "3             1171         a  \n"
     ]
    }
   ],
   "source": [
    "dict = {'Unknown' : 'N',\n",
    "'Less than $40K' : 'a',\n",
    "'$40K - $60K' : 'b',\n",
    "'$60K - $80K' : 'c',\n",
    "'$80K - $120K' : 'd',\n",
    "'$120K +' : 'e'}\n",
    "\n",
    "df['newIncome'] = df.Income_Category.map(lambda x: dict[x])\n",
    "print(df.head(4))"
   ]
  },
  {
   "cell_type": "markdown",
   "id": "b56d8503-ad94-4052-a45d-ba905b3362c2",
   "metadata": {
    "jp-MarkdownHeadingCollapsed": true
   },
   "source": [
    "## Income_Category의 카테고리를 apply함수를 이용하여 다음과 같이 변경하여 newIncome 컬럼에 매핑"
   ]
  },
  {
   "cell_type": "code",
   "execution_count": 35,
   "id": "7a6616dd-5dd6-43e4-8240-578ae01b6cf9",
   "metadata": {},
   "outputs": [
    {
     "name": "stdout",
     "output_type": "stream",
     "text": [
      "   Unnamed: 0  CLIENTNUM     Attrition_Flag  Customer_Age Gender  \\\n",
      "0           0  768805383  Existing Customer            45      M   \n",
      "1           1  818770008  Existing Customer            49      F   \n",
      "2           2  713982108  Existing Customer            51      M   \n",
      "3           3  769911858  Existing Customer            40      F   \n",
      "4           4  709106358  Existing Customer            40      M   \n",
      "\n",
      "   Dependent_count Education_Level Marital_Status Income_Category  \\\n",
      "0                3     High School        Married     $60K - $80K   \n",
      "1                5        Graduate         Single  Less than $40K   \n",
      "2                3        Graduate        Married    $80K - $120K   \n",
      "3                4     High School        Unknown  Less than $40K   \n",
      "4                3      Uneducated        Married     $60K - $80K   \n",
      "\n",
      "  Card_Category  Months_on_book  Total_Relationship_Count  \\\n",
      "0          Blue              39                         5   \n",
      "1          Blue              44                         6   \n",
      "2          Blue              36                         4   \n",
      "3          Blue              34                         3   \n",
      "4          Blue              21                         5   \n",
      "\n",
      "   Months_Inactive_12_mon  Contacts_Count_12_mon  Credit_Limit  \\\n",
      "0                       1                      3       12691.0   \n",
      "1                       1                      2        8256.0   \n",
      "2                       1                      0        3418.0   \n",
      "3                       4                      1        3313.0   \n",
      "4                       1                      0        4716.0   \n",
      "\n",
      "   Total_Revolving_Bal  Avg_Open_To_Buy  Total_Amt_Chng_Q4_Q1  \\\n",
      "0                  777          11914.0                 1.335   \n",
      "1                  864           7392.0                 1.541   \n",
      "2                    0           3418.0                 2.594   \n",
      "3                 2517            796.0                 1.405   \n",
      "4                    0           4716.0                 2.175   \n",
      "\n",
      "   Total_Trans_Amt newIncome  \n",
      "0             1144         c  \n",
      "1             1291         a  \n",
      "2             1887         d  \n",
      "3             1171         a  \n",
      "4              816         c  \n"
     ]
    }
   ],
   "source": [
    "def newincome(row):\n",
    "    if row == 'Unknown':\n",
    "        answer = 'N'\n",
    "    elif row ==  'Less than $40K':\n",
    "        answer = 'a'\n",
    "    elif row =='$40K - $60K': \n",
    "        answer = 'b'\n",
    "    elif row == '$60K - $80K': \n",
    "        answer = 'c'\n",
    "    elif row =='$80K - $120K': \n",
    "        answer = 'd'\n",
    "    elif row =='$120K +': \n",
    "        answer ='e'\n",
    "    return answer\n",
    "df['newIncome'] = df.Income_Category.apply(newincome)\n",
    "print(df.head(5))"
   ]
  },
  {
   "cell_type": "markdown",
   "id": "aefe1fd2-041f-4190-bd27-55aa9e09d576",
   "metadata": {
    "jp-MarkdownHeadingCollapsed": true
   },
   "source": [
    "## Customer_Age의 값을 이용하여 나이 구간을 AgeState 컬럼으로 정의"
   ]
  },
  {
   "cell_type": "code",
   "execution_count": 36,
   "id": "a0fb5589-3df2-4610-bba8-446386878542",
   "metadata": {},
   "outputs": [
    {
     "name": "stdout",
     "output_type": "stream",
     "text": [
      "AgeState\n",
      "2     195\n",
      "3    1841\n",
      "4    4561\n",
      "5    2998\n",
      "6     530\n",
      "7       2\n",
      "dtype: int64\n"
     ]
    }
   ],
   "source": [
    "df['AgeState'] = df.Customer_Age.map(lambda x : x//10)\n",
    "print(df.groupby('AgeState').size())"
   ]
  },
  {
   "cell_type": "markdown",
   "id": "cd27d273-0c35-40fc-b809-406a3f34861d",
   "metadata": {
    "jp-MarkdownHeadingCollapsed": true
   },
   "source": [
    "## Education_Level 중 Graduate단어가 포함되는 값은 1 그렇지 않은 경우에는 0으로 변경하여 newEduLevel 컬럼을 정의하고 빈도수를 출력"
   ]
  },
  {
   "cell_type": "code",
   "execution_count": 37,
   "id": "8a1a8618-ffdb-48d5-ae6d-5944d1995cf6",
   "metadata": {},
   "outputs": [
    {
     "name": "stdout",
     "output_type": "stream",
     "text": [
      "newEduLevel\n",
      "0    6483\n",
      "1    3644\n",
      "dtype: int64\n"
     ]
    }
   ],
   "source": [
    "def newedulevel(row):\n",
    "    if 'Graduate' in row:\n",
    "        answer = 1\n",
    "    else:\n",
    "        answer = 0\n",
    "    return answer\n",
    "df['newEduLevel'] = df.Education_Level.apply(newedulevel)\n",
    "df['newEduLevel'] = df.Education_Level.map(lambda x : 1 if 'Graduate' in x else 0)\n",
    "print(df.groupby('newEduLevel').size())"
   ]
  },
  {
   "cell_type": "markdown",
   "id": "78daa673-25ec-404e-9586-59e7ccc90955",
   "metadata": {
    "jp-MarkdownHeadingCollapsed": true
   },
   "source": [
    "## Credit_Limit 컬럼값이 4500 이상인 경우 1 그외의 경우에는 모두 0으로 하는 newLimit 정의 후, 각 값들의 빈도수 출력"
   ]
  },
  {
   "cell_type": "code",
   "execution_count": 38,
   "id": "940cf57f-6def-4c2f-a507-996ef41087be",
   "metadata": {},
   "outputs": [
    {
     "name": "stdout",
     "output_type": "stream",
     "text": [
      "newLimit\n",
      "0    5031\n",
      "1    5096\n",
      "dtype: int64\n"
     ]
    }
   ],
   "source": [
    "def newlimit(row):\n",
    "    if row >= 4500:\n",
    "        answer = 1\n",
    "    else:\n",
    "        answer = 0\n",
    "    return answer\n",
    "df['newLimit'] = df.Credit_Limit.apply(newlimit)\n",
    "print(df.groupby('newLimit').size())"
   ]
  },
  {
   "cell_type": "markdown",
   "id": "5670d407-ae1d-4602-b69e-aa401d7d19f8",
   "metadata": {
    "jp-MarkdownHeadingCollapsed": true
   },
   "source": [
    "## Marital_Sattus 컬럼값이 Married 이고 Card_Category 컬럼의 값이 Platinum인 경우 1 그외의 경우에는 모두 0으로 하는 newState 컬럼을 정의 후, 각 값들의 빈도수 출력\n",
    "- ### dataframe에 조건 적용하기"
   ]
  },
  {
   "cell_type": "code",
   "execution_count": 39,
   "id": "69671ac2-e4b8-48ce-b61e-a901fa9df1f7",
   "metadata": {},
   "outputs": [
    {
     "name": "stdout",
     "output_type": "stream",
     "text": [
      "newState\n",
      "0    10120\n",
      "1        7\n",
      "Name: count, dtype: int64\n"
     ]
    }
   ],
   "source": [
    "def newstate(x):\n",
    "    if x.Marital_Status == 'Married' and x.Card_Category == 'Platinum':\n",
    "        return 1\n",
    "    else:\n",
    "        return 0\n",
    "df['newState'] = df.apply(newstate,axis=1)\n",
    "print(df['newState'].value_counts())\n"
   ]
  },
  {
   "cell_type": "markdown",
   "id": "8504443b-7b2d-43e9-804a-4d5fbadfd4a4",
   "metadata": {
    "jp-MarkdownHeadingCollapsed": true
   },
   "source": [
    "## Gender 컬럼값이 M인 경우 male, F인 경우 female로 값을 변경하여 Gender 칼럼에 새롭게 정의하고, 각 value 빈도 수 출력"
   ]
  },
  {
   "cell_type": "code",
   "execution_count": 40,
   "id": "3178ab5e-fa34-42e1-9f29-76061e173377",
   "metadata": {},
   "outputs": [
    {
     "name": "stdout",
     "output_type": "stream",
     "text": [
      "Gender\n",
      "female    5358\n",
      "male      4769\n",
      "Name: count, dtype: int64\n"
     ]
    }
   ],
   "source": [
    "df['Gender'] = df.Gender.map(lambda x : 'male' if x == 'M' else 'female' )\n",
    "print(df['Gender'].value_counts())"
   ]
  },
  {
   "cell_type": "markdown",
   "id": "0ba8b691-ecf5-44b1-b985-59d579766012",
   "metadata": {
    "jp-MarkdownHeadingCollapsed": true
   },
   "source": [
    "# CHAPTER 05 : Time Series\n",
    "- 시계열 데이터 수정하기\n",
    "- 앞, 뒤 값으로 결측치 대체\n",
    "- 년도 + 월 기준으로 그룹 만들기\n",
    "- 데이터 1차 차분\n",
    "- 이동평균\n",
    "- datetime format 변경\n",
    "- 요일 이름 저장\n",
    "- 차분이 모두 동일하다면 시간이 연속이라 판단\n",
    "- resample :인덱스를 원하는 주기로 변경해주는 메소드"
   ]
  },
  {
   "cell_type": "markdown",
   "id": "a48a2872-e0dd-42bf-a5a5-d4c53031e5cf",
   "metadata": {
    "jp-MarkdownHeadingCollapsed": true
   },
   "source": [
    "\n",
    "## 데이터 로드"
   ]
  },
  {
   "cell_type": "code",
   "execution_count": 82,
   "id": "6bd7b6bc-60fd-4e3a-856d-8d95ee0438fd",
   "metadata": {},
   "outputs": [
    {
     "name": "stdout",
     "output_type": "stream",
     "text": [
      "<class 'pandas.core.frame.DataFrame'>\n",
      "RangeIndex: 6574 entries, 0 to 6573\n",
      "Data columns (total 13 columns):\n",
      " #   Column    Non-Null Count  Dtype  \n",
      "---  ------    --------------  -----  \n",
      " 0   Yr_Mo_Dy  6574 non-null   object \n",
      " 1   RPT       6568 non-null   float64\n",
      " 2   VAL       6571 non-null   float64\n",
      " 3   ROS       6572 non-null   float64\n",
      " 4   KIL       6569 non-null   float64\n",
      " 5   SHA       6572 non-null   float64\n",
      " 6   BIR       6574 non-null   float64\n",
      " 7   DUB       6571 non-null   float64\n",
      " 8   CLA       6572 non-null   float64\n",
      " 9   MUL       6571 non-null   float64\n",
      " 10  CLO       6573 non-null   float64\n",
      " 11  BEL       6574 non-null   float64\n",
      " 12  MAL       6570 non-null   float64\n",
      "dtypes: float64(12), object(1)\n",
      "memory usage: 667.8+ KB\n",
      "None\n"
     ]
    }
   ],
   "source": [
    "import pandas as pd \n",
    "df = pd.read_csv('https://raw.githubusercontent.com/Datamanim/pandas/main/timeTest.csv')\n",
    "print(df.info())"
   ]
  },
  {
   "cell_type": "markdown",
   "id": "e9bccf4d-5b0a-44c1-b6e2-77e6f2d201c7",
   "metadata": {
    "jp-MarkdownHeadingCollapsed": true
   },
   "source": [
    "## Yr_Mo_Dy을 판다스에서 인식할 수 있는 datatime64타입으로 변경"
   ]
  },
  {
   "cell_type": "code",
   "execution_count": 83,
   "id": "f8539567-13ab-4e3c-9358-3847679973c1",
   "metadata": {},
   "outputs": [
    {
     "name": "stdout",
     "output_type": "stream",
     "text": [
      "0      2061-01-01\n",
      "1      2061-01-02\n",
      "2      2061-01-03\n",
      "3      2061-01-04\n",
      "4      2061-01-05\n",
      "          ...    \n",
      "6569   1978-12-27\n",
      "6570   1978-12-28\n",
      "6571   1978-12-29\n",
      "6572   1978-12-30\n",
      "6573   1978-12-31\n",
      "Name: Yr_Mo_Dy, Length: 6574, dtype: datetime64[ns]\n"
     ]
    }
   ],
   "source": [
    "df['Yr_Mo_Dy'] = pd.to_datetime(df['Yr_Mo_Dy'])\n",
    "print(df['Yr_Mo_Dy'])"
   ]
  },
  {
   "cell_type": "markdown",
   "id": "ba380bd7-84d9-4b21-8206-6f6243971c3d",
   "metadata": {
    "jp-MarkdownHeadingCollapsed": true
   },
   "source": [
    "## Yr_Mo_Dy에 존재하는 년도의 유일값 출력"
   ]
  },
  {
   "cell_type": "code",
   "execution_count": 84,
   "id": "d7b5233a-4c18-4394-8faa-021f9a2b9feb",
   "metadata": {},
   "outputs": [
    {
     "name": "stdout",
     "output_type": "stream",
     "text": [
      "[2061 2062 2063 2064 2065 2066 2067 2068 2069 2070 1971 1972 1973 1974\n",
      " 1975 1976 1977 1978]\n"
     ]
    }
   ],
   "source": [
    "print(df['Yr_Mo_Dy'].dt.year.unique())"
   ]
  },
  {
   "cell_type": "markdown",
   "id": "8b5752a0-4598-42a5-9604-5b49e40122dd",
   "metadata": {
    "jp-MarkdownHeadingCollapsed": true
   },
   "source": [
    "## Yr_Mo_Dy에 년도가 2061년 이상의 경우 100을 빼서 새로운 날짜를 Yr_Mo_Dy 컬럼에 정의\n",
    "- ### 시계열 데이터 수정하기"
   ]
  },
  {
   "cell_type": "code",
   "execution_count": 85,
   "id": "9476fe15-0a9c-495e-819d-85852a79edd8",
   "metadata": {},
   "outputs": [],
   "source": [
    "def newyear(row):\n",
    "    import datetime\n",
    "    if row.year >= 2061:\n",
    "        rowyear = row.year - 100\n",
    "    else:\n",
    "        rowyear = row.year        \n",
    "    answer = pd.to_datetime(datetime.date(rowyear,row.month,row.day))\n",
    "    return answer \n",
    "\n",
    "df['Yr_Mo_Dy'] = df['Yr_Mo_Dy'].apply(newyear)"
   ]
  },
  {
   "cell_type": "markdown",
   "id": "5c743be0-9e37-46c9-8322-f2834c836b5b",
   "metadata": {
    "jp-MarkdownHeadingCollapsed": true
   },
   "source": [
    "## 년도별 각컬럼의 평균값을 구함"
   ]
  },
  {
   "cell_type": "code",
   "execution_count": 86,
   "id": "1ef68174-00a5-4020-93cf-a9804b270e2e",
   "metadata": {},
   "outputs": [
    {
     "name": "stdout",
     "output_type": "stream",
     "text": [
      "                Yr_Mo_Dy        RPT        VAL        ROS       KIL  \\\n",
      "Yr                                                                    \n",
      "1961 1961-07-02 00:00:00  12.299583  10.351796  11.362369  6.958227   \n",
      "1962 1962-07-02 00:00:00  12.246923  10.110438  11.732712  6.960440   \n",
      "1963 1963-07-02 00:00:00  12.813452  10.836986  12.541151  7.330055   \n",
      "1964 1964-07-01 12:00:00  12.363661  10.920164  12.104372  6.787787   \n",
      "1965 1965-07-02 00:00:00  12.451370  11.075534  11.848767  6.858466   \n",
      "1966 1966-07-02 00:00:00  13.461973  11.557205  12.020630  7.345726   \n",
      "1967 1967-07-02 00:00:00  12.737151  10.990986  11.739397  7.143425   \n",
      "1968 1968-07-01 12:00:00  11.835628  10.468197  11.409754  6.477678   \n",
      "1969 1969-07-02 00:00:00  11.166356   9.723699  10.902000  5.767973   \n",
      "1970 1970-07-02 00:00:00  12.600329  10.726932  11.730247  6.217178   \n",
      "1971 1971-07-02 00:00:00  11.273123   9.095178  11.088329  5.241507   \n",
      "1972 1972-07-01 12:00:00  12.463962  10.561311  12.058333  5.929699   \n",
      "1973 1973-07-02 00:00:00  11.828466  10.680493  10.680493  5.547863   \n",
      "1974 1974-07-02 00:00:00  13.643096  11.811781  12.336356  6.427041   \n",
      "1975 1975-07-02 00:00:00  12.008575  10.293836  11.564712  5.269096   \n",
      "1976 1976-07-01 12:00:00  11.737842  10.203115  10.761230  5.109426   \n",
      "1977 1977-07-02 00:00:00  13.099616  11.144493  12.627836  6.073945   \n",
      "1978 1978-07-02 00:00:00  12.504356  11.044274  11.380000  6.082356   \n",
      "\n",
      "            SHA       BIR        DUB        CLA       MUL        CLO  \\\n",
      "Yr                                                                     \n",
      "1961  10.881763  7.729726   9.733923   8.858788  8.647652   9.835577   \n",
      "1962  10.657918  7.393068  11.020712   8.793753  8.316822   9.676247   \n",
      "1963  11.724110  8.434712  11.075699  10.336548  8.903589  10.224438   \n",
      "1964  11.454481  7.570874  10.259153   9.467350  7.789016  10.207951   \n",
      "1965  11.024795  7.478110  10.618712   8.879918  7.907425   9.918082   \n",
      "1966  11.805041  7.793671  10.579808   8.835096  8.514438   9.768959   \n",
      "1967  11.630740  7.368164  10.652027   9.325616  8.645014   9.547425   \n",
      "1968  10.760765  6.067322   8.859180   8.255519  7.224945   7.832978   \n",
      "1969   9.873918  6.189973   8.564493   7.711397  7.924521   7.754384   \n",
      "1970  10.567370  7.609452   9.609890   8.334630  9.297616   8.289808   \n",
      "1971   9.440329  6.097151   8.385890   6.757315  7.915370   7.229753   \n",
      "1972   9.430410  6.358825   9.704508   7.680792  8.357295   7.515273   \n",
      "1973   9.640877  6.548740   8.482110   7.614274  8.245534   7.812411   \n",
      "1974  11.110986  6.809781  10.084603   9.896986  9.331753   8.736356   \n",
      "1975   9.190082  5.668521   8.562603   7.843836  8.797945   7.382822   \n",
      "1976   8.846339  6.311038   9.149126   7.146202  8.883716   7.883087   \n",
      "1977  10.003836  8.586438  11.523205   8.378384  9.098192   8.821616   \n",
      "1978  10.167233  7.650658   9.489342   8.800466  9.089753   8.301699   \n",
      "\n",
      "            BEL        MAL  \n",
      "Yr                          \n",
      "1961  13.502795  13.680773  \n",
      "1962  12.930685  14.323956  \n",
      "1963  13.638877  14.999014  \n",
      "1964  13.740546  14.910301  \n",
      "1965  12.964247  15.591644  \n",
      "1966  14.265836  16.307260  \n",
      "1967  14.774548  17.135945  \n",
      "1968  12.808634  15.017486  \n",
      "1969  12.621233  15.762904  \n",
      "1970  13.183644  16.456027  \n",
      "1971  12.208932  15.025233  \n",
      "1972  12.727377  15.028716  \n",
      "1973  12.169699  15.441096  \n",
      "1974  13.252959  16.947671  \n",
      "1975  12.631671  15.307863  \n",
      "1976  12.332377  15.471448  \n",
      "1977  13.459068  16.590849  \n",
      "1978  12.967397  16.771370  \n"
     ]
    }
   ],
   "source": [
    "df['Yr'] = df.Yr_Mo_Dy.dt.year\n",
    "print(df.groupby('Yr').mean())"
   ]
  },
  {
   "cell_type": "markdown",
   "id": "43c83834-3954-4314-a92c-f56c82b95932",
   "metadata": {},
   "source": [
    "## weekday 컬럼을 만들고 요일별로 매핑(월:0,일:6)"
   ]
  },
  {
   "cell_type": "code",
   "execution_count": 87,
   "id": "9d1fb6ca-0d37-46dc-a396-85788bbce0bb",
   "metadata": {},
   "outputs": [
    {
     "name": "stdout",
     "output_type": "stream",
     "text": [
      "       Yr_Mo_Dy    RPT    VAL    ROS    KIL    SHA    BIR    DUB    CLA  \\\n",
      "0    1961-01-01  15.04  14.96  13.17   9.29    NaN   9.87  13.67  10.25   \n",
      "1    1961-01-02  14.71    NaN  10.83   6.50  12.62   7.67  11.50  10.04   \n",
      "2    1961-01-03  18.50  16.88  12.33  10.13  11.17   6.17  11.25    NaN   \n",
      "3    1961-01-04  10.58   6.63  11.75   4.58   4.54   2.88   8.63   1.79   \n",
      "4    1961-01-05  13.33  13.25  11.42   6.17  10.71   8.21  11.92   6.54   \n",
      "...         ...    ...    ...    ...    ...    ...    ...    ...    ...   \n",
      "6569 1978-12-27  17.58  16.96  17.62   8.08  13.21  11.67  14.46  15.59   \n",
      "6570 1978-12-28  13.21   5.46  13.46   5.00   8.12   9.42  14.33  16.25   \n",
      "6571 1978-12-29  14.00  10.29  14.42   8.71   9.71  10.54  19.17  12.46   \n",
      "6572 1978-12-30  18.50  14.04  21.29   9.13  12.75   9.71  18.08  12.87   \n",
      "6573 1978-12-31  20.33  17.41  27.29   9.59  12.08  10.13  19.25  11.63   \n",
      "\n",
      "        MUL    CLO    BEL    MAL    Yr  weekday  \n",
      "0     10.83  12.58  18.50  15.04  1961        6  \n",
      "1      9.79   9.67  17.54  13.83  1961        0  \n",
      "2      8.50   7.67  12.75  12.71  1961        1  \n",
      "3      5.83   5.88   5.46  10.88  1961        2  \n",
      "4     10.92  10.34  12.92  11.83  1961        3  \n",
      "...     ...    ...    ...    ...   ...      ...  \n",
      "6569  14.04  14.00  17.21  40.08  1978        2  \n",
      "6570  15.25  18.05  21.79  41.46  1978        3  \n",
      "6571  14.50  16.42  18.88  29.58  1978        4  \n",
      "6572  12.46  12.12  14.67  28.79  1978        5  \n",
      "6573  11.58  11.38  12.08  22.08  1978        6  \n",
      "\n",
      "[6574 rows x 15 columns]\n"
     ]
    }
   ],
   "source": [
    "df['weekday'] = df.Yr_Mo_Dy.dt.weekday\n",
    "print(df)"
   ]
  },
  {
   "cell_type": "markdown",
   "id": "3d10e6c0-8cc9-4853-bc33-9a9a74595b96",
   "metadata": {
    "jp-MarkdownHeadingCollapsed": true
   },
   "source": [
    "## weekday 컬럼을 기준으로 주말이면 1 평일이면 0의 값을 가지는 weekCheck 컬럼 만들기"
   ]
  },
  {
   "cell_type": "code",
   "execution_count": 88,
   "id": "540b8309-9a03-43ba-88c2-57fcf294fbbb",
   "metadata": {},
   "outputs": [
    {
     "name": "stdout",
     "output_type": "stream",
     "text": [
      "       Yr_Mo_Dy    RPT    VAL    ROS    KIL    SHA    BIR    DUB    CLA  \\\n",
      "0    1961-01-01  15.04  14.96  13.17   9.29    NaN   9.87  13.67  10.25   \n",
      "1    1961-01-02  14.71    NaN  10.83   6.50  12.62   7.67  11.50  10.04   \n",
      "2    1961-01-03  18.50  16.88  12.33  10.13  11.17   6.17  11.25    NaN   \n",
      "3    1961-01-04  10.58   6.63  11.75   4.58   4.54   2.88   8.63   1.79   \n",
      "4    1961-01-05  13.33  13.25  11.42   6.17  10.71   8.21  11.92   6.54   \n",
      "...         ...    ...    ...    ...    ...    ...    ...    ...    ...   \n",
      "6569 1978-12-27  17.58  16.96  17.62   8.08  13.21  11.67  14.46  15.59   \n",
      "6570 1978-12-28  13.21   5.46  13.46   5.00   8.12   9.42  14.33  16.25   \n",
      "6571 1978-12-29  14.00  10.29  14.42   8.71   9.71  10.54  19.17  12.46   \n",
      "6572 1978-12-30  18.50  14.04  21.29   9.13  12.75   9.71  18.08  12.87   \n",
      "6573 1978-12-31  20.33  17.41  27.29   9.59  12.08  10.13  19.25  11.63   \n",
      "\n",
      "        MUL    CLO    BEL    MAL    Yr  weekday  WeekCheck  \n",
      "0     10.83  12.58  18.50  15.04  1961        6          1  \n",
      "1      9.79   9.67  17.54  13.83  1961        0          0  \n",
      "2      8.50   7.67  12.75  12.71  1961        1          0  \n",
      "3      5.83   5.88   5.46  10.88  1961        2          0  \n",
      "4     10.92  10.34  12.92  11.83  1961        3          0  \n",
      "...     ...    ...    ...    ...   ...      ...        ...  \n",
      "6569  14.04  14.00  17.21  40.08  1978        2          0  \n",
      "6570  15.25  18.05  21.79  41.46  1978        3          0  \n",
      "6571  14.50  16.42  18.88  29.58  1978        4          0  \n",
      "6572  12.46  12.12  14.67  28.79  1978        5          1  \n",
      "6573  11.58  11.38  12.08  22.08  1978        6          1  \n",
      "\n",
      "[6574 rows x 16 columns]\n"
     ]
    }
   ],
   "source": [
    "df['WeekCheck'] = df.weekday.map(lambda x : 0 if x <= 4 else 1)\n",
    "print(df)"
   ]
  },
  {
   "cell_type": "markdown",
   "id": "1131dfd5-14d6-4304-91ca-efcdee2443a3",
   "metadata": {
    "jp-MarkdownHeadingCollapsed": true
   },
   "source": [
    "## 년도, 일자 상관없이 모든 컬럼의 각 달의 평균"
   ]
  },
  {
   "cell_type": "code",
   "execution_count": 89,
   "id": "11da8426-c1e7-4195-9df2-80b88e2d3a26",
   "metadata": {},
   "outputs": [
    {
     "name": "stdout",
     "output_type": "stream",
     "text": [
      "                              Yr_Mo_Dy        RPT        VAL        ROS  \\\n",
      "Yr_Mo_Dy                                                                  \n",
      "1        1969-07-17 06:40:00.000000000  14.847325  12.914560  13.299624   \n",
      "2        1969-08-17 07:50:33.070866142  13.710906  12.111122  12.879132   \n",
      "3        1969-09-14 12:00:00.000000000  13.158687  11.505842  12.648118   \n",
      "4        1969-10-15 00:00:00.000000000  12.555648  10.429759  12.204815   \n",
      "5        1969-11-14 12:00:00.000000000  11.724032  10.145619  11.550394   \n",
      "6        1969-12-15 00:00:00.000000000  10.451317   8.949704  10.361315   \n",
      "7        1970-01-14 12:00:00.000000000   9.992007   8.357778   9.349642   \n",
      "8        1970-02-14 12:00:00.000000000  10.213411   8.415143   9.993441   \n",
      "9        1970-03-17 00:00:00.000000000  11.458519   9.981002  10.756883   \n",
      "10       1970-04-16 12:00:00.000000000  12.660610  11.010681  11.453943   \n",
      "11       1970-05-17 00:00:00.000000000  13.200722  11.639500  12.293407   \n",
      "12       1970-06-16 12:00:00.000000000  14.446398  12.353602  13.212276   \n",
      "\n",
      "               KIL        SHA       BIR        DUB       CLA       MUL  \\\n",
      "Yr_Mo_Dy                                                                 \n",
      "1         7.199498  11.667734  8.054839  11.819355  9.512047  9.543208   \n",
      "2         6.942411  11.551772  7.633858  11.206024  9.341437  9.313169   \n",
      "3         7.265907  11.554516  7.959409  11.310179  9.635896  9.700324   \n",
      "4         6.898037  10.677667  7.441389  10.221315  8.909056  8.930870   \n",
      "5         6.307487  10.224301  6.942061   8.797738  8.452903  8.040806   \n",
      "6         5.652278   9.529926  6.410093   8.009556  7.920796  7.639796   \n",
      "7         5.416935   9.302634  5.972348   7.843501  7.262760  7.544480   \n",
      "8         5.270681   8.901559  5.891057   7.772312  6.842025  7.240573   \n",
      "9         5.615176   9.766315  6.566222   8.609722  7.745677  7.610556   \n",
      "10        6.065215  10.550251  7.159910   9.387778  8.726308  8.347181   \n",
      "11        6.247611  10.501130  7.134333  10.814861  8.427167  8.604000   \n",
      "12        6.829910  11.301254  7.963710  11.849050  9.209355  9.447258   \n",
      "\n",
      "                CLO        BEL        MAL           Yr   weekday  WeekCheck  \n",
      "Yr_Mo_Dy                                                                     \n",
      "1         10.053566  14.550520  18.028763  1969.500000  2.989247   0.284946  \n",
      "2          9.518051  13.728898  17.156142  1969.503937  3.005906   0.287402  \n",
      "3         10.096953  13.810609  16.909317  1969.500000  3.000000   0.283154  \n",
      "4          9.158019  12.664759  14.937611  1969.500000  3.011111   0.288889  \n",
      "5          8.524857  12.767258  13.736039  1969.500000  2.982079   0.283154  \n",
      "6          7.729185  12.246407  12.861818  1969.500000  3.007407   0.285185  \n",
      "7          7.321416  11.676505  12.800789  1969.500000  3.001792   0.288530  \n",
      "8          7.002783  11.110090  12.565943  1969.500000  2.991039   0.283154  \n",
      "9          7.689278  12.686389  14.761963  1969.500000  3.009259   0.287037  \n",
      "10         8.850376  14.155323  16.697151  1969.500000  2.998208   0.286738  \n",
      "11         8.943167  13.815741  18.114185  1969.500000  2.992593   0.283333  \n",
      "12         9.627670  14.259516  18.697599  1969.500000  3.017921   0.288530  \n"
     ]
    }
   ],
   "source": [
    "print(df.groupby(df.Yr_Mo_Dy.dt.month).mean())"
   ]
  },
  {
   "cell_type": "markdown",
   "id": "08b41cd4-5429-4e04-a4e5-d4c0220b0658",
   "metadata": {
    "jp-MarkdownHeadingCollapsed": true
   },
   "source": [
    "## 모든 결측치는 컬럼기준 직전의 값으로 대체하고 첫번째 행에 결측치가 있을 경우 뒤에 있는 값으로 대체\n",
    "- ### 앞, 뒤 값으로 결측치 대체"
   ]
  },
  {
   "cell_type": "code",
   "execution_count": 91,
   "id": "04fbf98f-fa2d-4b27-ae40-3163fc490840",
   "metadata": {},
   "outputs": [
    {
     "name": "stdout",
     "output_type": "stream",
     "text": [
      "Yr_Mo_Dy     0\n",
      "RPT          0\n",
      "VAL          0\n",
      "ROS          0\n",
      "KIL          0\n",
      "SHA          0\n",
      "BIR          0\n",
      "DUB          0\n",
      "CLA          0\n",
      "MUL          0\n",
      "CLO          0\n",
      "BEL          0\n",
      "MAL          0\n",
      "Yr           0\n",
      "weekday      0\n",
      "WeekCheck    0\n",
      "dtype: int64\n"
     ]
    },
    {
     "name": "stderr",
     "output_type": "stream",
     "text": [
      "/tmp/ipykernel_17106/1820063705.py:1: FutureWarning: DataFrame.fillna with 'method' is deprecated and will raise in a future version. Use obj.ffill() or obj.bfill() instead.\n",
      "  df = df.fillna(method='ffill').fillna(method='bfill')\n"
     ]
    }
   ],
   "source": [
    "df = df.fillna(method='ffill').fillna(method='bfill')\n",
    "print(df.isnull().sum())"
   ]
  },
  {
   "cell_type": "markdown",
   "id": "f02090ff-ed62-46c8-a6b9-b954820bcb47",
   "metadata": {
    "jp-MarkdownHeadingCollapsed": true
   },
   "source": [
    "## 년도-월을 기준으로 모든 컬럼의 평균값 구하기\n",
    "- ### 년도 + 월 기준으로 그룹만들기"
   ]
  },
  {
   "cell_type": "code",
   "execution_count": 94,
   "id": "6f2f2390-10a8-40a1-aad9-ebda13cae55d",
   "metadata": {},
   "outputs": [
    {
     "name": "stdout",
     "output_type": "stream",
     "text": [
      "                    Yr_Mo_Dy        RPT        VAL        ROS       KIL  \\\n",
      "Yr_Mo_Dy                                                                  \n",
      "1961-01  1961-01-16 00:00:00  14.932581  12.084194  13.431613  7.736774   \n",
      "1961-02  1961-02-14 12:00:00  16.269286  14.975357  14.324643  9.116786   \n",
      "1961-03  1961-03-16 00:00:00  11.015806  11.296452  10.752903  7.137742   \n",
      "1961-04  1961-04-15 12:00:00  10.722667   9.427667   9.998000  5.830667   \n",
      "1961-05  1961-05-16 00:00:00   9.860968   8.735161  10.818065  5.892258   \n",
      "...                      ...        ...        ...        ...       ...   \n",
      "1978-08  1978-08-16 00:00:00   9.645161   8.259355   9.032258  4.502903   \n",
      "1978-09  1978-09-15 12:00:00  10.913667  10.895000  10.635000  5.725000   \n",
      "1978-10  1978-10-16 00:00:00   9.897742   8.670968   9.295806  4.721290   \n",
      "1978-11  1978-11-15 12:00:00  16.151667  14.802667  13.508000  7.317333   \n",
      "1978-12  1978-12-16 00:00:00  16.175484  13.748065  15.635161  7.094839   \n",
      "\n",
      "                SHA        BIR        DUB        CLA        MUL        CLO  \\\n",
      "Yr_Mo_Dy                                                                     \n",
      "1961-01   11.215806   8.588065  11.184839   9.270968   9.085806  10.107419   \n",
      "1961-02   13.852143  10.937500  11.890714  11.846071  11.821429  12.714286   \n",
      "1961-03   10.509355   8.866774   9.644194   9.829677  10.646129  11.251935   \n",
      "1961-04    8.435000   6.495000   6.925333   7.094667   7.342333   7.237000   \n",
      "1961-05    9.490323   6.574839   7.477097   8.177097   8.039355   8.499355   \n",
      "...             ...        ...        ...        ...        ...        ...   \n",
      "1978-08    7.368065   5.935161   5.650323   5.417742   7.241290   5.536774   \n",
      "1978-09   10.372000   9.278333  10.790333   9.583000  10.069333   8.939000   \n",
      "1978-10    8.525161   6.774194   8.115484   7.337742   8.297742   8.243871   \n",
      "1978-11   11.475000   8.743000  11.492333   9.657333  10.701333  10.676000   \n",
      "1978-12   11.398710   9.241613  12.077419  10.194839  10.616774  11.028710   \n",
      "\n",
      "                BEL        MAL      Yr   weekday  WeekCheck  \n",
      "Yr_Mo_Dy                                                     \n",
      "1961-01   13.880968  14.703226  1961.0  2.935484   0.290323  \n",
      "1961-02   18.583214  15.411786  1961.0  3.000000   0.285714  \n",
      "1961-03   16.410968  15.637742  1961.0  3.000000   0.258065  \n",
      "1961-04   11.147333  10.278333  1961.0  3.166667   0.333333  \n",
      "1961-05   11.900323  12.011613  1961.0  2.806452   0.258065  \n",
      "...             ...        ...     ...       ...        ...  \n",
      "1978-08   10.466774  12.054194  1978.0  2.903226   0.258065  \n",
      "1978-09   15.680333  19.391333  1978.0  3.100000   0.300000  \n",
      "1978-10   13.776774  17.150000  1978.0  2.935484   0.290323  \n",
      "1978-11   17.404667  20.723000  1978.0  2.966667   0.266667  \n",
      "1978-12   13.859677  21.371613  1978.0  3.193548   0.322581  \n",
      "\n",
      "[216 rows x 16 columns]\n"
     ]
    }
   ],
   "source": [
    "print(df.groupby(df.Yr_Mo_Dy.dt.to_period('M')).mean())"
   ]
  },
  {
   "cell_type": "markdown",
   "id": "86a7d019-0526-4714-a1b5-9ab913617821",
   "metadata": {
    "jp-MarkdownHeadingCollapsed": true
   },
   "source": [
    "## RPT 칼럼의 값을 일자별 기준으로 1차차분\n",
    "- ### 데이터 1차 차분"
   ]
  },
  {
   "cell_type": "code",
   "execution_count": 96,
   "id": "6ea907b9-197a-4e4e-81dd-123382dccf03",
   "metadata": {},
   "outputs": [
    {
     "name": "stdout",
     "output_type": "stream",
     "text": [
      "0        NaN\n",
      "1      -0.33\n",
      "2       3.79\n",
      "3      -7.92\n",
      "4       2.75\n",
      "        ... \n",
      "6569    3.75\n",
      "6570   -4.37\n",
      "6571    0.79\n",
      "6572    4.50\n",
      "6573    1.83\n",
      "Name: RPT, Length: 6574, dtype: float64\n"
     ]
    }
   ],
   "source": [
    "print(df['RPT'].diff())"
   ]
  },
  {
   "cell_type": "markdown",
   "id": "f5bc3d28-fff3-4602-8356-e9288759c429",
   "metadata": {
    "jp-MarkdownHeadingCollapsed": true
   },
   "source": [
    "## RPT와 VAL의 컬럼을 일주일 간격으로 각각 이동평균한 값\n",
    "- ### 이동평균"
   ]
  },
  {
   "cell_type": "code",
   "execution_count": 97,
   "id": "cc5167e3-c9d1-4bbf-b59a-5e31a50302fa",
   "metadata": {},
   "outputs": [
    {
     "name": "stdout",
     "output_type": "stream",
     "text": [
      "            RPT        VAL\n",
      "0           NaN        NaN\n",
      "1           NaN        NaN\n",
      "2           NaN        NaN\n",
      "3           NaN        NaN\n",
      "4           NaN        NaN\n",
      "...         ...        ...\n",
      "6569  11.868571   9.362857\n",
      "6570  11.904286   9.595714\n",
      "6571  13.017143  10.011429\n",
      "6572  13.285714  10.118571\n",
      "6573  14.951429  11.801429\n",
      "\n",
      "[6574 rows x 2 columns]\n"
     ]
    }
   ],
   "source": [
    "print(df[['RPT','VAL']].rolling(7).mean())"
   ]
  },
  {
   "cell_type": "markdown",
   "id": "8a5591a6-bfb0-44a2-9ec3-dd03dadbf776",
   "metadata": {
    "jp-MarkdownHeadingCollapsed": true
   },
   "source": [
    "## 년-월-일:시 컬럼을 pandas에서 인식할 수 있는 datetime 형태로 변경\n",
    "- ### datetime format 변경"
   ]
  },
  {
   "cell_type": "code",
   "execution_count": 130,
   "id": "d3ebe8c0-950f-48f4-8406-2e7bf2746b49",
   "metadata": {},
   "outputs": [
    {
     "name": "stdout",
     "output_type": "stream",
     "text": [
      "               (년-월-일:시) PM10등급  PM10 PM2.5등급  PM2.5 오존등급     오존 이산화질소등급  \\\n",
      "0    2021-05-15 15:00:00     보통  47.0      보통   19.0   좋음  0.017      좋음   \n",
      "1    2021-05-15 14:00:00     보통  43.0      보통   20.0   좋음  0.024      좋음   \n",
      "2    2021-05-15 13:00:00     보통  34.0      보통   24.0   보통  0.035      좋음   \n",
      "3    2021-05-15 12:00:00     보통  41.0      보통   27.0   보통  0.037      좋음   \n",
      "4    2021-05-15 11:00:00     보통  51.0      보통   34.0   보통  0.033      좋음   \n",
      "...                  ...    ...   ...     ...    ...  ...    ...     ...   \n",
      "1234 2021-03-25 05:00:00     보통  39.0      보통   18.0   좋음  0.026      좋음   \n",
      "1235 2021-03-25 04:00:00     보통  34.0      좋음   15.0   좋음  0.017      보통   \n",
      "1236 2021-03-25 03:00:00     보통  35.0      좋음   13.0   좋음  0.029      좋음   \n",
      "1237 2021-03-25 02:00:00     보통  35.0      좋음   13.0   보통  0.031      좋음   \n",
      "1238 2021-03-25 01:00:00     보통  42.0      좋음   13.0   좋음  0.022      보통   \n",
      "\n",
      "      이산화질소 일산화탄소등급  일산화탄소 아황산가스등급  아황산가스  \n",
      "0     0.023      좋음    0.4      좋음  0.003  \n",
      "1     0.019      좋음    0.3      좋음  0.003  \n",
      "2     0.017      좋음    0.4      좋음  0.004  \n",
      "3     0.020      좋음    0.4      좋음  0.004  \n",
      "4     0.023      좋음    0.4      좋음  0.005  \n",
      "...     ...     ...    ...     ...    ...  \n",
      "1234  0.025      좋음    0.4      좋음  0.003  \n",
      "1235  0.033      좋음    0.4      좋음  0.002  \n",
      "1236  0.025      좋음    0.4      좋음  0.003  \n",
      "1237  0.025      좋음    0.3      좋음  0.003  \n",
      "1238  0.037      좋음    0.4      좋음  0.003  \n",
      "\n",
      "[1239 rows x 13 columns]\n"
     ]
    }
   ],
   "source": [
    "df =pd.read_csv('https://raw.githubusercontent.com/Datamanim/pandas/main/seoul_pm.csv')\n",
    "def change_date(x):\n",
    "    import datetime\n",
    "    hour = x.split(':')[1]\n",
    "    date = x.split(\":\")[0]\n",
    "    \n",
    "    if hour =='24':\n",
    "        hour ='00:00:00'\n",
    "        \n",
    "        FinalDate = pd.to_datetime(date +\" \"+hour) +datetime.timedelta(days=1)\n",
    "        \n",
    "    else:\n",
    "        hour = hour +':00:00'\n",
    "        FinalDate = pd.to_datetime(date +\" \"+hour)\n",
    "    \n",
    "    return FinalDate\n",
    "\n",
    "df['(년-월-일:시)'] = df['(년-월-일:시)'].apply(change_date)\n",
    "\n",
    "print(df)"
   ]
  },
  {
   "cell_type": "markdown",
   "id": "83639f42-d2ad-45e4-8ad7-12b23c9cb274",
   "metadata": {
    "jp-MarkdownHeadingCollapsed": true
   },
   "source": [
    "## 일자별 영어요일 이름을 dayName 컬럼에 저장\n",
    "- ###  요일 이름 저장"
   ]
  },
  {
   "cell_type": "code",
   "execution_count": 131,
   "id": "232c63e8-013d-4186-b0bb-ac1b58038cfb",
   "metadata": {},
   "outputs": [
    {
     "name": "stdout",
     "output_type": "stream",
     "text": [
      "               (년-월-일:시) PM10등급  PM10 PM2.5등급  PM2.5 오존등급     오존 이산화질소등급  \\\n",
      "0    2021-05-15 15:00:00     보통  47.0      보통   19.0   좋음  0.017      좋음   \n",
      "1    2021-05-15 14:00:00     보통  43.0      보통   20.0   좋음  0.024      좋음   \n",
      "2    2021-05-15 13:00:00     보통  34.0      보통   24.0   보통  0.035      좋음   \n",
      "3    2021-05-15 12:00:00     보통  41.0      보통   27.0   보통  0.037      좋음   \n",
      "4    2021-05-15 11:00:00     보통  51.0      보통   34.0   보통  0.033      좋음   \n",
      "...                  ...    ...   ...     ...    ...  ...    ...     ...   \n",
      "1234 2021-03-25 05:00:00     보통  39.0      보통   18.0   좋음  0.026      좋음   \n",
      "1235 2021-03-25 04:00:00     보통  34.0      좋음   15.0   좋음  0.017      보통   \n",
      "1236 2021-03-25 03:00:00     보통  35.0      좋음   13.0   좋음  0.029      좋음   \n",
      "1237 2021-03-25 02:00:00     보통  35.0      좋음   13.0   보통  0.031      좋음   \n",
      "1238 2021-03-25 01:00:00     보통  42.0      좋음   13.0   좋음  0.022      보통   \n",
      "\n",
      "      이산화질소 일산화탄소등급  일산화탄소 아황산가스등급  아황산가스   dayName  \n",
      "0     0.023      좋음    0.4      좋음  0.003  Saturday  \n",
      "1     0.019      좋음    0.3      좋음  0.003  Saturday  \n",
      "2     0.017      좋음    0.4      좋음  0.004  Saturday  \n",
      "3     0.020      좋음    0.4      좋음  0.004  Saturday  \n",
      "4     0.023      좋음    0.4      좋음  0.005  Saturday  \n",
      "...     ...     ...    ...     ...    ...       ...  \n",
      "1234  0.025      좋음    0.4      좋음  0.003  Thursday  \n",
      "1235  0.033      좋음    0.4      좋음  0.002  Thursday  \n",
      "1236  0.025      좋음    0.4      좋음  0.003  Thursday  \n",
      "1237  0.025      좋음    0.3      좋음  0.003  Thursday  \n",
      "1238  0.037      좋음    0.4      좋음  0.003  Thursday  \n",
      "\n",
      "[1239 rows x 14 columns]\n"
     ]
    }
   ],
   "source": [
    "df['dayName'] =df['(년-월-일:시)'].dt.day_name()\n",
    "print(df)"
   ]
  },
  {
   "cell_type": "markdown",
   "id": "e8b002b9-8ceb-4c83-aba5-ec3fbb242c4c",
   "metadata": {
    "jp-MarkdownHeadingCollapsed": true
   },
   "source": [
    "## 일자별 각 PM 10 등급의 빈도수 파악"
   ]
  },
  {
   "cell_type": "code",
   "execution_count": 132,
   "id": "da49d3e3-ef6f-4d84-82b9-80a662251f69",
   "metadata": {},
   "outputs": [
    {
     "data": {
      "text/html": [
       "<div>\n",
       "<style scoped>\n",
       "    .dataframe tbody tr th:only-of-type {\n",
       "        vertical-align: middle;\n",
       "    }\n",
       "\n",
       "    .dataframe tbody tr th {\n",
       "        vertical-align: top;\n",
       "    }\n",
       "\n",
       "    .dataframe thead th {\n",
       "        text-align: right;\n",
       "    }\n",
       "</style>\n",
       "<table border=\"1\" class=\"dataframe\">\n",
       "  <thead>\n",
       "    <tr style=\"text-align: right;\">\n",
       "      <th>PM10등급</th>\n",
       "      <th>나쁨</th>\n",
       "      <th>매우나쁨</th>\n",
       "      <th>보통</th>\n",
       "      <th>좋음</th>\n",
       "    </tr>\n",
       "    <tr>\n",
       "      <th>dayName</th>\n",
       "      <th></th>\n",
       "      <th></th>\n",
       "      <th></th>\n",
       "      <th></th>\n",
       "    </tr>\n",
       "  </thead>\n",
       "  <tbody>\n",
       "    <tr>\n",
       "      <th>Friday</th>\n",
       "      <td>31.0</td>\n",
       "      <td>17.0</td>\n",
       "      <td>120.0</td>\n",
       "      <td>21.0</td>\n",
       "    </tr>\n",
       "    <tr>\n",
       "      <th>Monday</th>\n",
       "      <td>1.0</td>\n",
       "      <td>21.0</td>\n",
       "      <td>83.0</td>\n",
       "      <td>63.0</td>\n",
       "    </tr>\n",
       "    <tr>\n",
       "      <th>Saturday</th>\n",
       "      <td>31.0</td>\n",
       "      <td>27.0</td>\n",
       "      <td>71.0</td>\n",
       "      <td>54.0</td>\n",
       "    </tr>\n",
       "    <tr>\n",
       "      <th>Sunday</th>\n",
       "      <td>2.0</td>\n",
       "      <td>1.0</td>\n",
       "      <td>67.0</td>\n",
       "      <td>98.0</td>\n",
       "    </tr>\n",
       "    <tr>\n",
       "      <th>Thursday</th>\n",
       "      <td>41.0</td>\n",
       "      <td>0.0</td>\n",
       "      <td>144.0</td>\n",
       "      <td>5.0</td>\n",
       "    </tr>\n",
       "    <tr>\n",
       "      <th>Tuesday</th>\n",
       "      <td>13.0</td>\n",
       "      <td>10.0</td>\n",
       "      <td>71.0</td>\n",
       "      <td>74.0</td>\n",
       "    </tr>\n",
       "    <tr>\n",
       "      <th>Wednesday</th>\n",
       "      <td>26.0</td>\n",
       "      <td>0.0</td>\n",
       "      <td>95.0</td>\n",
       "      <td>46.0</td>\n",
       "    </tr>\n",
       "  </tbody>\n",
       "</table>\n",
       "</div>"
      ],
      "text/plain": [
       "PM10등급       나쁨  매우나쁨     보통    좋음\n",
       "dayName                           \n",
       "Friday     31.0  17.0  120.0  21.0\n",
       "Monday      1.0  21.0   83.0  63.0\n",
       "Saturday   31.0  27.0   71.0  54.0\n",
       "Sunday      2.0   1.0   67.0  98.0\n",
       "Thursday   41.0   0.0  144.0   5.0\n",
       "Tuesday    13.0  10.0   71.0  74.0\n",
       "Wednesday  26.0   0.0   95.0  46.0"
      ]
     },
     "execution_count": 132,
     "metadata": {},
     "output_type": "execute_result"
    }
   ],
   "source": [
    "df_group = df.groupby(['dayName','PM10등급'],as_index=False).size()\n",
    "pd.pivot_table(df_group,index='dayName',columns='PM10등급',values='size',aggfunc= 'sum').fillna(0)"
   ]
  },
  {
   "cell_type": "markdown",
   "id": "36cad282-a79b-445d-b3a9-3ec228e15e91",
   "metadata": {
    "jp-MarkdownHeadingCollapsed": true
   },
   "source": [
    "## 시간이 연속적으로 존재하며 결측치가 없는지 확인\n",
    "- ### 차분이 없다면 시간이 연속이라 판단"
   ]
  },
  {
   "cell_type": "code",
   "execution_count": 133,
   "id": "c85df850-974d-4180-8e36-7f37e14c7d3b",
   "metadata": {},
   "outputs": [
    {
     "name": "stdout",
     "output_type": "stream",
     "text": [
      "True\n"
     ]
    }
   ],
   "source": [
    "check = len(df['(년-월-일:시)'].diff().unique())\n",
    "if check >= 2:\n",
    "    print(True)\n",
    "else:\n",
    "    print(False)"
   ]
  },
  {
   "cell_type": "markdown",
   "id": "b2e56f45-b660-45dc-b600-960ecabe8f49",
   "metadata": {
    "jp-MarkdownHeadingCollapsed": true
   },
   "source": [
    "## 날짜 컬럼을 index로 만들기"
   ]
  },
  {
   "cell_type": "code",
   "execution_count": 134,
   "id": "7b074d7d-4ade-4057-809d-a347b4e274cf",
   "metadata": {},
   "outputs": [
    {
     "data": {
      "text/html": [
       "<div>\n",
       "<style scoped>\n",
       "    .dataframe tbody tr th:only-of-type {\n",
       "        vertical-align: middle;\n",
       "    }\n",
       "\n",
       "    .dataframe tbody tr th {\n",
       "        vertical-align: top;\n",
       "    }\n",
       "\n",
       "    .dataframe thead th {\n",
       "        text-align: right;\n",
       "    }\n",
       "</style>\n",
       "<table border=\"1\" class=\"dataframe\">\n",
       "  <thead>\n",
       "    <tr style=\"text-align: right;\">\n",
       "      <th></th>\n",
       "      <th>PM10등급</th>\n",
       "      <th>PM10</th>\n",
       "      <th>PM2.5등급</th>\n",
       "      <th>PM2.5</th>\n",
       "      <th>오존등급</th>\n",
       "      <th>오존</th>\n",
       "      <th>이산화질소등급</th>\n",
       "      <th>이산화질소</th>\n",
       "      <th>일산화탄소등급</th>\n",
       "      <th>일산화탄소</th>\n",
       "      <th>아황산가스등급</th>\n",
       "      <th>아황산가스</th>\n",
       "      <th>dayName</th>\n",
       "    </tr>\n",
       "    <tr>\n",
       "      <th>(년-월-일:시)</th>\n",
       "      <th></th>\n",
       "      <th></th>\n",
       "      <th></th>\n",
       "      <th></th>\n",
       "      <th></th>\n",
       "      <th></th>\n",
       "      <th></th>\n",
       "      <th></th>\n",
       "      <th></th>\n",
       "      <th></th>\n",
       "      <th></th>\n",
       "      <th></th>\n",
       "      <th></th>\n",
       "    </tr>\n",
       "  </thead>\n",
       "  <tbody>\n",
       "    <tr>\n",
       "      <th>2021-05-15 15:00:00</th>\n",
       "      <td>보통</td>\n",
       "      <td>47.0</td>\n",
       "      <td>보통</td>\n",
       "      <td>19.0</td>\n",
       "      <td>좋음</td>\n",
       "      <td>0.017</td>\n",
       "      <td>좋음</td>\n",
       "      <td>0.023</td>\n",
       "      <td>좋음</td>\n",
       "      <td>0.4</td>\n",
       "      <td>좋음</td>\n",
       "      <td>0.003</td>\n",
       "      <td>Saturday</td>\n",
       "    </tr>\n",
       "    <tr>\n",
       "      <th>2021-05-15 14:00:00</th>\n",
       "      <td>보통</td>\n",
       "      <td>43.0</td>\n",
       "      <td>보통</td>\n",
       "      <td>20.0</td>\n",
       "      <td>좋음</td>\n",
       "      <td>0.024</td>\n",
       "      <td>좋음</td>\n",
       "      <td>0.019</td>\n",
       "      <td>좋음</td>\n",
       "      <td>0.3</td>\n",
       "      <td>좋음</td>\n",
       "      <td>0.003</td>\n",
       "      <td>Saturday</td>\n",
       "    </tr>\n",
       "    <tr>\n",
       "      <th>2021-05-15 13:00:00</th>\n",
       "      <td>보통</td>\n",
       "      <td>34.0</td>\n",
       "      <td>보통</td>\n",
       "      <td>24.0</td>\n",
       "      <td>보통</td>\n",
       "      <td>0.035</td>\n",
       "      <td>좋음</td>\n",
       "      <td>0.017</td>\n",
       "      <td>좋음</td>\n",
       "      <td>0.4</td>\n",
       "      <td>좋음</td>\n",
       "      <td>0.004</td>\n",
       "      <td>Saturday</td>\n",
       "    </tr>\n",
       "    <tr>\n",
       "      <th>2021-05-15 12:00:00</th>\n",
       "      <td>보통</td>\n",
       "      <td>41.0</td>\n",
       "      <td>보통</td>\n",
       "      <td>27.0</td>\n",
       "      <td>보통</td>\n",
       "      <td>0.037</td>\n",
       "      <td>좋음</td>\n",
       "      <td>0.020</td>\n",
       "      <td>좋음</td>\n",
       "      <td>0.4</td>\n",
       "      <td>좋음</td>\n",
       "      <td>0.004</td>\n",
       "      <td>Saturday</td>\n",
       "    </tr>\n",
       "    <tr>\n",
       "      <th>2021-05-15 11:00:00</th>\n",
       "      <td>보통</td>\n",
       "      <td>51.0</td>\n",
       "      <td>보통</td>\n",
       "      <td>34.0</td>\n",
       "      <td>보통</td>\n",
       "      <td>0.033</td>\n",
       "      <td>좋음</td>\n",
       "      <td>0.023</td>\n",
       "      <td>좋음</td>\n",
       "      <td>0.4</td>\n",
       "      <td>좋음</td>\n",
       "      <td>0.005</td>\n",
       "      <td>Saturday</td>\n",
       "    </tr>\n",
       "    <tr>\n",
       "      <th>...</th>\n",
       "      <td>...</td>\n",
       "      <td>...</td>\n",
       "      <td>...</td>\n",
       "      <td>...</td>\n",
       "      <td>...</td>\n",
       "      <td>...</td>\n",
       "      <td>...</td>\n",
       "      <td>...</td>\n",
       "      <td>...</td>\n",
       "      <td>...</td>\n",
       "      <td>...</td>\n",
       "      <td>...</td>\n",
       "      <td>...</td>\n",
       "    </tr>\n",
       "    <tr>\n",
       "      <th>2021-03-25 05:00:00</th>\n",
       "      <td>보통</td>\n",
       "      <td>39.0</td>\n",
       "      <td>보통</td>\n",
       "      <td>18.0</td>\n",
       "      <td>좋음</td>\n",
       "      <td>0.026</td>\n",
       "      <td>좋음</td>\n",
       "      <td>0.025</td>\n",
       "      <td>좋음</td>\n",
       "      <td>0.4</td>\n",
       "      <td>좋음</td>\n",
       "      <td>0.003</td>\n",
       "      <td>Thursday</td>\n",
       "    </tr>\n",
       "    <tr>\n",
       "      <th>2021-03-25 04:00:00</th>\n",
       "      <td>보통</td>\n",
       "      <td>34.0</td>\n",
       "      <td>좋음</td>\n",
       "      <td>15.0</td>\n",
       "      <td>좋음</td>\n",
       "      <td>0.017</td>\n",
       "      <td>보통</td>\n",
       "      <td>0.033</td>\n",
       "      <td>좋음</td>\n",
       "      <td>0.4</td>\n",
       "      <td>좋음</td>\n",
       "      <td>0.002</td>\n",
       "      <td>Thursday</td>\n",
       "    </tr>\n",
       "    <tr>\n",
       "      <th>2021-03-25 03:00:00</th>\n",
       "      <td>보통</td>\n",
       "      <td>35.0</td>\n",
       "      <td>좋음</td>\n",
       "      <td>13.0</td>\n",
       "      <td>좋음</td>\n",
       "      <td>0.029</td>\n",
       "      <td>좋음</td>\n",
       "      <td>0.025</td>\n",
       "      <td>좋음</td>\n",
       "      <td>0.4</td>\n",
       "      <td>좋음</td>\n",
       "      <td>0.003</td>\n",
       "      <td>Thursday</td>\n",
       "    </tr>\n",
       "    <tr>\n",
       "      <th>2021-03-25 02:00:00</th>\n",
       "      <td>보통</td>\n",
       "      <td>35.0</td>\n",
       "      <td>좋음</td>\n",
       "      <td>13.0</td>\n",
       "      <td>보통</td>\n",
       "      <td>0.031</td>\n",
       "      <td>좋음</td>\n",
       "      <td>0.025</td>\n",
       "      <td>좋음</td>\n",
       "      <td>0.3</td>\n",
       "      <td>좋음</td>\n",
       "      <td>0.003</td>\n",
       "      <td>Thursday</td>\n",
       "    </tr>\n",
       "    <tr>\n",
       "      <th>2021-03-25 01:00:00</th>\n",
       "      <td>보통</td>\n",
       "      <td>42.0</td>\n",
       "      <td>좋음</td>\n",
       "      <td>13.0</td>\n",
       "      <td>좋음</td>\n",
       "      <td>0.022</td>\n",
       "      <td>보통</td>\n",
       "      <td>0.037</td>\n",
       "      <td>좋음</td>\n",
       "      <td>0.4</td>\n",
       "      <td>좋음</td>\n",
       "      <td>0.003</td>\n",
       "      <td>Thursday</td>\n",
       "    </tr>\n",
       "  </tbody>\n",
       "</table>\n",
       "<p>1239 rows × 13 columns</p>\n",
       "</div>"
      ],
      "text/plain": [
       "                    PM10등급  PM10 PM2.5등급  PM2.5 오존등급     오존 이산화질소등급  이산화질소  \\\n",
       "(년-월-일:시)                                                                    \n",
       "2021-05-15 15:00:00     보통  47.0      보통   19.0   좋음  0.017      좋음  0.023   \n",
       "2021-05-15 14:00:00     보통  43.0      보통   20.0   좋음  0.024      좋음  0.019   \n",
       "2021-05-15 13:00:00     보통  34.0      보통   24.0   보통  0.035      좋음  0.017   \n",
       "2021-05-15 12:00:00     보통  41.0      보통   27.0   보통  0.037      좋음  0.020   \n",
       "2021-05-15 11:00:00     보통  51.0      보통   34.0   보통  0.033      좋음  0.023   \n",
       "...                    ...   ...     ...    ...  ...    ...     ...    ...   \n",
       "2021-03-25 05:00:00     보통  39.0      보통   18.0   좋음  0.026      좋음  0.025   \n",
       "2021-03-25 04:00:00     보통  34.0      좋음   15.0   좋음  0.017      보통  0.033   \n",
       "2021-03-25 03:00:00     보통  35.0      좋음   13.0   좋음  0.029      좋음  0.025   \n",
       "2021-03-25 02:00:00     보통  35.0      좋음   13.0   보통  0.031      좋음  0.025   \n",
       "2021-03-25 01:00:00     보통  42.0      좋음   13.0   좋음  0.022      보통  0.037   \n",
       "\n",
       "                    일산화탄소등급  일산화탄소 아황산가스등급  아황산가스   dayName  \n",
       "(년-월-일:시)                                                    \n",
       "2021-05-15 15:00:00      좋음    0.4      좋음  0.003  Saturday  \n",
       "2021-05-15 14:00:00      좋음    0.3      좋음  0.003  Saturday  \n",
       "2021-05-15 13:00:00      좋음    0.4      좋음  0.004  Saturday  \n",
       "2021-05-15 12:00:00      좋음    0.4      좋음  0.004  Saturday  \n",
       "2021-05-15 11:00:00      좋음    0.4      좋음  0.005  Saturday  \n",
       "...                     ...    ...     ...    ...       ...  \n",
       "2021-03-25 05:00:00      좋음    0.4      좋음  0.003  Thursday  \n",
       "2021-03-25 04:00:00      좋음    0.4      좋음  0.002  Thursday  \n",
       "2021-03-25 03:00:00      좋음    0.4      좋음  0.003  Thursday  \n",
       "2021-03-25 02:00:00      좋음    0.3      좋음  0.003  Thursday  \n",
       "2021-03-25 01:00:00      좋음    0.4      좋음  0.003  Thursday  \n",
       "\n",
       "[1239 rows x 13 columns]"
      ]
     },
     "execution_count": 134,
     "metadata": {},
     "output_type": "execute_result"
    }
   ],
   "source": [
    "df = df.set_index('(년-월-일:시)')\n",
    "df"
   ]
  },
  {
   "cell_type": "markdown",
   "id": "b4ee5107-0475-43ee-9f0a-6b82bc0d5ff7",
   "metadata": {
    "jp-MarkdownHeadingCollapsed": true
   },
   "source": [
    "## 데이터를 주단위로 뽑아서 최소, 최대, 평균, 표준편차를 구하기\n",
    "- ### resample : 인덱스를 원하는 주기로 나누어주는 매서드"
   ]
  },
  {
   "cell_type": "code",
   "execution_count": 142,
   "id": "f6dbeaa3-5470-4984-b17e-90b73d870a05",
   "metadata": {},
   "outputs": [
    {
     "data": {
      "text/plain": [
       "(년-월-일:시)\n",
       "2021-03-28     95\n",
       "2021-04-04    168\n",
       "2021-04-11    168\n",
       "2021-04-18    168\n",
       "2021-04-25    168\n",
       "2021-05-02    168\n",
       "2021-05-09    168\n",
       "2021-05-16    136\n",
       "Freq: W-SUN, dtype: int64"
      ]
     },
     "execution_count": 142,
     "metadata": {},
     "output_type": "execute_result"
    }
   ],
   "source": [
    "# df.resample('W').agg(['min','max','mean','std'])\n",
    "df.resample('W').size()"
   ]
  },
  {
   "cell_type": "markdown",
   "id": "b9c846ed-cb0f-419b-a66a-57ff1b0b0069",
   "metadata": {
    "jp-MarkdownHeadingCollapsed": true
   },
   "source": [
    "# CHAPTER 06 : Pivot"
   ]
  },
  {
   "cell_type": "markdown",
   "id": "60c7508a-da18-4060-8b0b-f8b0f3792d95",
   "metadata": {
    "jp-MarkdownHeadingCollapsed": true
   },
   "source": [
    "## Indicator를 삭제하고 First Tooltip 컬럼에 신뢰구간에 해당하는 표현 제거"
   ]
  },
  {
   "cell_type": "code",
   "execution_count": 6,
   "id": "a2e0e531-57c3-4d7b-9d45-0ea70af58af6",
   "metadata": {},
   "outputs": [
    {
     "name": "stdout",
     "output_type": "stream",
     "text": [
      "          Location  Period        Dim1  First Tooltip\n",
      "0      Afghanistan    2019  Both sexes          60.27\n",
      "1      Afghanistan    2019        Male          63.83\n",
      "2      Afghanistan    2019      Female          56.57\n",
      "3      Afghanistan    2018  Both sexes          62.54\n",
      "4      Afghanistan    2018        Male          66.08\n",
      "...            ...     ...         ...            ...\n",
      "29994  Timor-Leste    2002  Both sexes          96.97\n",
      "29995  Timor-Leste    2002        Male         102.60\n",
      "29996  Timor-Leste    2002      Female          91.04\n",
      "29997  Timor-Leste    2001  Both sexes         102.50\n",
      "29998  Timor-Leste    2001        Male         108.20\n",
      "\n",
      "[29999 rows x 4 columns]\n"
     ]
    }
   ],
   "source": [
    "import pandas as pd\n",
    "df = pd.read_csv('https://raw.githubusercontent.com/Datamanim/pandas/main/under5MortalityRate.csv')\n",
    "df.drop('Indicator',axis=1, inplace=True)\n",
    "df['First Tooltip'] = df['First Tooltip'].map(lambda x : float(x.split(\"[\")[0]))\n",
    "print(df)"
   ]
  },
  {
   "cell_type": "markdown",
   "id": "b724b5c0-f041-4e40-9200-378bf06741ab",
   "metadata": {
    "jp-MarkdownHeadingCollapsed": true
   },
   "source": [
    "## 년도가 2015년 이상, Dim1이 Both sexes인 케이스만 추출"
   ]
  },
  {
   "cell_type": "code",
   "execution_count": 7,
   "id": "5cdcea83-034c-457f-9a06-7e1355278db7",
   "metadata": {},
   "outputs": [
    {
     "name": "stdout",
     "output_type": "stream",
     "text": [
      "          Location  Period        Dim1  First Tooltip\n",
      "0      Afghanistan    2019  Both sexes          60.27\n",
      "3      Afghanistan    2018  Both sexes          62.54\n",
      "6      Afghanistan    2017  Both sexes          64.94\n",
      "9      Afghanistan    2016  Both sexes          67.57\n",
      "12     Afghanistan    2015  Both sexes          70.44\n",
      "...            ...     ...         ...            ...\n",
      "29943  Timor-Leste    2019  Both sexes          44.22\n",
      "29946  Timor-Leste    2018  Both sexes          45.62\n",
      "29949  Timor-Leste    2017  Both sexes          47.27\n",
      "29952  Timor-Leste    2016  Both sexes          49.01\n",
      "29955  Timor-Leste    2015  Both sexes          50.76\n",
      "\n",
      "[860 rows x 4 columns]\n"
     ]
    }
   ],
   "source": [
    "print(df.loc[(df.Period >= 2015) & (df.Dim1 == \"Both sexes\")])"
   ]
  },
  {
   "cell_type": "markdown",
   "id": "bee16d7d-65cb-407b-9858-6aebde1ca13a",
   "metadata": {
    "jp-MarkdownHeadingCollapsed": true
   },
   "source": [
    "## 나라에 따른 년도별 사망률을 데이터 프레임"
   ]
  },
  {
   "cell_type": "code",
   "execution_count": 11,
   "id": "4194a09f-6fc9-4601-a082-9ce7390c060c",
   "metadata": {},
   "outputs": [
    {
     "name": "stdout",
     "output_type": "stream",
     "text": [
      "Period                                      2015   2016   2017   2018   2019\n",
      "Location                                                                    \n",
      "Afghanistan                                70.44  67.57  64.94  62.54  60.27\n",
      "Albania                                     9.57   9.42   9.42   9.53   9.68\n",
      "Algeria                                    25.18  24.79  24.32  23.81  23.26\n",
      "Andorra                                     3.53   3.37   3.22   3.09   2.97\n",
      "Angola                                     88.20  84.21  80.62  77.67  74.69\n",
      "...                                          ...    ...    ...    ...    ...\n",
      "Syrian Arab Republic                       23.18  23.27  22.97  22.11  21.53\n",
      "Tajikistan                                 37.75  36.82  35.81  34.80  33.78\n",
      "Thailand                                   10.80  10.32   9.86   9.42   9.01\n",
      "The former Yugoslav Republic of Macedonia  12.97  11.97   9.94   7.83   6.12\n",
      "Timor-Leste                                50.76  49.01  47.27  45.62  44.22\n",
      "\n",
      "[172 rows x 5 columns]\n"
     ]
    }
   ],
   "source": [
    "print(pd.pivot_table(df.loc[(df.Period >= 2015) & (df.Dim1 == \"Both sexes\")],columns='Period',index='Location',values='First Tooltip'))"
   ]
  },
  {
   "cell_type": "markdown",
   "id": "a3b53a73-2285-48aa-a2b7-2cd9eb7e7468",
   "metadata": {
    "jp-MarkdownHeadingCollapsed": true
   },
   "source": [
    "## Dim1에 따른 년도별 사망비율의 평균"
   ]
  },
  {
   "cell_type": "code",
   "execution_count": 12,
   "id": "356e8b23-d84a-47bf-9d2f-cc54ce24cd68",
   "metadata": {},
   "outputs": [
    {
     "name": "stdout",
     "output_type": "stream",
     "text": [
      "Period            1950        1951        1952        1953        1954  \\\n",
      "Dim1                                                                     \n",
      "Both sexes  147.700816  155.537544  157.811094  156.147206  154.539857   \n",
      "Female      140.909796  149.210175  151.516094  150.250882  148.688286   \n",
      "Male        154.151224  161.538246  163.760781  161.742059  160.081000   \n",
      "\n",
      "Period            1955        1956        1957        1958        1959  ...  \\\n",
      "Dim1                                                                    ...   \n",
      "Both sexes  155.797179  159.241163  156.170114  150.813222  150.574000  ...   \n",
      "Female      149.843205  153.048721  149.988295  144.719667  144.451474  ...   \n",
      "Male        161.456923  165.089535  162.015000  156.573556  156.375053  ...   \n",
      "\n",
      "Period           2010       2011       2012       2013       2014       2015  \\\n",
      "Dim1                                                                           \n",
      "Both sexes  37.718488  35.573663  34.290988  33.099360  32.053314  31.012093   \n",
      "Female      34.953023  32.877616  31.654070  30.521337  29.524302  28.544360   \n",
      "Male        40.340174  38.140291  36.793081  35.543663  34.446105  33.354302   \n",
      "\n",
      "Period           2016       2017       2018       2019  \n",
      "Dim1                                                    \n",
      "Both sexes  29.956337  29.030465  28.083837  27.191744  \n",
      "Female      27.542035  26.675291  25.782616  24.945349  \n",
      "Male        32.242616  31.273198  30.283023  29.350349  \n",
      "\n",
      "[3 rows x 70 columns]\n"
     ]
    }
   ],
   "source": [
    "print(pd.pivot_table(df,index='Dim1',columns='Period',values='First Tooltip',aggfunc='mean'))"
   ]
  },
  {
   "cell_type": "markdown",
   "id": "638c971a-f086-4d05-9fbc-3826d488e9f4",
   "metadata": {
    "jp-MarkdownHeadingCollapsed": true
   },
   "source": [
    "## 한국 KOR 데이터만 추출"
   ]
  },
  {
   "cell_type": "code",
   "execution_count": 13,
   "id": "6b1c1979-80d9-48ca-8a70-dca3e3c7dd46",
   "metadata": {},
   "outputs": [
    {
     "name": "stdout",
     "output_type": "stream",
     "text": [
      "      Year         City    Sport                 Discipline          Athlete  \\\n",
      "2652  1992  Albertville  Skating  Short Track Speed Skating      LEE, Jun-Ho   \n",
      "2653  1992  Albertville  Skating  Short Track Speed Skating     KIM, Ki-Hoon   \n",
      "2671  1992  Albertville  Skating  Short Track Speed Skating     KIM, Ki-Hoon   \n",
      "2672  1992  Albertville  Skating  Short Track Speed Skating      LEE, Jun-Ho   \n",
      "2673  1992  Albertville  Skating  Short Track Speed Skating       MO, Ji-Soo   \n",
      "...    ...          ...      ...                        ...              ...   \n",
      "5528  2014        Sochi  Skating  Short Track Speed Skating   PARK, Seung-Hi   \n",
      "5544  2014        Sochi  Skating              Speed skating   JOO, Hyong Jun   \n",
      "5545  2014        Sochi  Skating              Speed skating   KIM, Cheol Min   \n",
      "5546  2014        Sochi  Skating              Speed skating  LEE, Seung Hoon   \n",
      "5565  2014        Sochi  Skating              Speed skating    LEE, Sang Hwa   \n",
      "\n",
      "     Country Gender         Event   Medal  \n",
      "2652     KOR    Men         1000M  Bronze  \n",
      "2653     KOR    Men         1000M    Gold  \n",
      "2671     KOR    Men   5000M Relay    Gold  \n",
      "2672     KOR    Men   5000M Relay    Gold  \n",
      "2673     KOR    Men   5000M Relay    Gold  \n",
      "...      ...    ...           ...     ...  \n",
      "5528     KOR  Women          500M  Bronze  \n",
      "5544     KOR    Men  Team Pursuit  Silver  \n",
      "5545     KOR    Men  Team Pursuit  Silver  \n",
      "5546     KOR    Men  Team Pursuit  Silver  \n",
      "5565     KOR  Women          500M    Gold  \n",
      "\n",
      "[87 rows x 9 columns]\n"
     ]
    }
   ],
   "source": [
    "df = pd.read_csv('https://raw.githubusercontent.com/Datamanim/pandas/main/winter.csv')\n",
    "print(df.loc[df['Country']=='KOR'])"
   ]
  },
  {
   "cell_type": "markdown",
   "id": "3b1e7ed0-faea-46dc-9821-8aa0964c7534",
   "metadata": {
    "jp-MarkdownHeadingCollapsed": true
   },
   "source": [
    "## 한국 올림픽 메달리스트 데이터에서 년도에 따른 medal 갯수 데이터프레임화"
   ]
  },
  {
   "cell_type": "code",
   "execution_count": 22,
   "id": "aef784c5-84e6-4d2f-a35f-574e5c7ac915",
   "metadata": {},
   "outputs": [
    {
     "name": "stdout",
     "output_type": "stream",
     "text": [
      "Medal  Bronze  Gold  Silver\n",
      "Year                       \n",
      "1924       41    38      39\n",
      "1928       31    30      28\n",
      "1932       39    33      44\n",
      "1936       35    36      37\n",
      "1948       46    46      48\n",
      "1952       47    45      44\n",
      "1956       50    51      49\n",
      "1960       49    50      48\n",
      "1964       58    60      67\n",
      "1968       63    66      70\n",
      "1972       66    70      64\n",
      "1976       70    70      70\n",
      "1980       72    72      74\n",
      "1984       74    74      74\n",
      "1988       88    88      88\n",
      "1992      107   108     110\n",
      "1994      114   114     115\n",
      "1998      151   149     147\n",
      "2002      161   163     157\n",
      "2006      177   176     178\n",
      "2010      176   176     177\n",
      "2014      204   206     202\n"
     ]
    }
   ],
   "source": [
    "print(df.pivot_table(df.loc[df.Country=='KOR'],index='Year',columns ='Medal',aggfunc='size'))"
   ]
  },
  {
   "cell_type": "markdown",
   "id": "cf87ba24-a2d9-4256-9c0e-fd08dbe01b9e",
   "metadata": {
    "jp-MarkdownHeadingCollapsed": true
   },
   "source": [
    "## 전체 데이터에서 sport 종류에 따른 성별 수"
   ]
  },
  {
   "cell_type": "code",
   "execution_count": 24,
   "id": "f8185173-cd3a-4317-a185-2bd44ad7c06d",
   "metadata": {},
   "outputs": [
    {
     "name": "stdout",
     "output_type": "stream",
     "text": [
      "Gender       Men  Women\n",
      "Sport                  \n",
      "Biathlon     270    150\n",
      "Bobsleigh    416     36\n",
      "Curling       97     75\n",
      "Ice Hockey  1231    305\n",
      "Luge         135     45\n",
      "Skating      665    564\n",
      "Skiing      1130    651\n"
     ]
    }
   ],
   "source": [
    "print(pd.pivot_table(df,index='Sport',columns='Gender',aggfunc='size'))"
   ]
  },
  {
   "cell_type": "markdown",
   "id": "27d0d458-b401-42dc-a523-bdf679a53207",
   "metadata": {
    "jp-MarkdownHeadingCollapsed": true
   },
   "source": [
    "## 전체 데이터에서 Discipline 종류에 따른 Medal 수"
   ]
  },
  {
   "cell_type": "code",
   "execution_count": 25,
   "id": "62786ea2-0fb0-4c7c-b95e-a9e06f2990c8",
   "metadata": {},
   "outputs": [
    {
     "name": "stdout",
     "output_type": "stream",
     "text": [
      "Medal                      Bronze  Gold  Silver\n",
      "Discipline                                     \n",
      "Alpine Skiing                 141   143     144\n",
      "Biathlon                      139   140     141\n",
      "Bobsleigh                     147   134     141\n",
      "Cross Country Skiing          263   264     262\n",
      "Curling                        56    58      58\n",
      "Figure skating                118   122     119\n",
      "Freestyle Skiing               34    34      34\n",
      "Ice Hockey                    512   510     514\n",
      "Luge                           60    62      58\n",
      "Nordic Combined                55    55      55\n",
      "Short Track Speed Skating      96    97      97\n",
      "Skeleton                       10    10      10\n",
      "Ski Jumping                    68    69      70\n",
      "Snowboard                      30    30      30\n",
      "Speed skating                 190   193     197\n"
     ]
    }
   ],
   "source": [
    "print(pd.pivot_table(df,index='Discipline',columns='Medal',aggfunc='size'))"
   ]
  },
  {
   "cell_type": "markdown",
   "id": "d490b19c-e3eb-4c6b-a323-5e37abc21bff",
   "metadata": {
    "jp-MarkdownHeadingCollapsed": true
   },
   "source": [
    "# CHAPTER 07 : Merge, Concat\n",
    "- join 활용하기\n",
    "- merge 함수 사용하기"
   ]
  },
  {
   "cell_type": "markdown",
   "id": "3ad1b82c-f227-47c7-a38b-07991b2df7f0",
   "metadata": {
    "jp-MarkdownHeadingCollapsed": true
   },
   "source": [
    "## df1과 df2 데이터를 하나의 데이터 프레임으로 합치기"
   ]
  },
  {
   "cell_type": "code",
   "execution_count": 39,
   "id": "719d6bf0-632d-41fd-98a2-e291f364e71d",
   "metadata": {},
   "outputs": [
    {
     "name": "stdout",
     "output_type": "stream",
     "text": [
      "                       2010    2011    2012    2013    2014    2015    2016  \\\n",
      "Location                                                                      \n",
      "Afghanistan          64.023  61.640  59.367  57.170  55.080  53.107  51.267   \n",
      "Albania              11.803  10.807   9.943   9.267   8.790   8.493   8.363   \n",
      "Algeria              23.540  22.907  22.450  22.117  21.850  21.587  21.257   \n",
      "Andorra               4.240   4.033   3.843   3.667   3.490   3.330   3.187   \n",
      "Angola               75.713  71.280  67.233  63.570  60.430  57.757  55.510   \n",
      "Antigua and Barbuda   8.667   8.223   7.807   7.420   7.070   6.757   6.483   \n",
      "Argentina            12.887  12.380  11.840  11.283  10.733  10.203   9.683   \n",
      "Armenia              16.497  15.677  14.897  14.170  13.477  12.817  12.183   \n",
      "Australia             3.993   3.803   3.623   3.467   3.343   3.253   3.183   \n",
      "Austria               3.573   3.463   3.333   3.210   3.113   3.043   2.987   \n",
      "\n",
      "                       2017    2018    2019  \n",
      "Location                                     \n",
      "Afghanistan          49.560  47.983  46.453  \n",
      "Albania               8.363   8.453   8.597  \n",
      "Algeria              20.850  20.407  19.930  \n",
      "Andorra               3.060   2.933   2.827  \n",
      "Angola               53.460  51.757  50.093  \n",
      "Antigua and Barbuda   6.230   6.000   5.783  \n",
      "Argentina             9.177   8.680   8.227  \n",
      "Armenia              11.583  11.007  10.497  \n",
      "Australia             3.137   3.090   3.047  \n",
      "Austria               2.943   2.897   2.843  \n"
     ]
    }
   ],
   "source": [
    "df = pd.read_csv('https://raw.githubusercontent.com/Datamanim/pandas/main/mergeTEst.csv',index_col= 0)\n",
    "df1 = df.iloc[:4,:]\n",
    "df2 = df.iloc[4:,:]\n",
    "df3 = df.iloc[:2,:4]\n",
    "df4 = df.iloc[5:,3:]\n",
    "df5 = df.T.iloc[:7,:3]\n",
    "df6 = df.T.iloc[6:,2:5]\n",
    "\n",
    "print(pd.concat([df1,df2]))"
   ]
  },
  {
   "cell_type": "markdown",
   "id": "173c77bd-a2a7-4c11-8c72-f70100d174b5",
   "metadata": {
    "jp-MarkdownHeadingCollapsed": true
   },
   "source": [
    "## df3과 df4 데이터를 하나의 데이터 프레임으로 합치기, 둘다 포함하고 있는 년도에 대해서만 고려\n",
    "- ### join 활용하기"
   ]
  },
  {
   "cell_type": "code",
   "execution_count": 40,
   "id": "485eed67-8366-4d17-adcd-23ea1d73cd04",
   "metadata": {},
   "outputs": [
    {
     "name": "stdout",
     "output_type": "stream",
     "text": [
      "                       2013\n",
      "Location                   \n",
      "Afghanistan          57.170\n",
      "Albania               9.267\n",
      "Antigua and Barbuda   7.420\n",
      "Argentina            11.283\n",
      "Armenia              14.170\n",
      "Australia             3.467\n",
      "Austria               3.210\n"
     ]
    }
   ],
   "source": [
    "print(pd.concat([df3,df4],join='inner'))"
   ]
  },
  {
   "cell_type": "markdown",
   "id": "b9106ec5-646e-4bc5-a4a1-a0eec98f1bd8",
   "metadata": {
    "jp-MarkdownHeadingCollapsed": true
   },
   "source": [
    "## df3과 df4를 하나의 데이터 프레임으로 합치기, 모든 컬럼을 포함하고, 결측치는 0으로 대체"
   ]
  },
  {
   "cell_type": "code",
   "execution_count": 41,
   "id": "2f2bc345-600e-425f-83df-1cd6b5004628",
   "metadata": {},
   "outputs": [
    {
     "name": "stdout",
     "output_type": "stream",
     "text": [
      "                       2010    2011    2012    2013    2014    2015    2016  \\\n",
      "Location                                                                      \n",
      "Afghanistan          64.023  61.640  59.367  57.170   0.000   0.000   0.000   \n",
      "Albania              11.803  10.807   9.943   9.267   0.000   0.000   0.000   \n",
      "Antigua and Barbuda   0.000   0.000   0.000   7.420   7.070   6.757   6.483   \n",
      "Argentina             0.000   0.000   0.000  11.283  10.733  10.203   9.683   \n",
      "Armenia               0.000   0.000   0.000  14.170  13.477  12.817  12.183   \n",
      "Australia             0.000   0.000   0.000   3.467   3.343   3.253   3.183   \n",
      "Austria               0.000   0.000   0.000   3.210   3.113   3.043   2.987   \n",
      "\n",
      "                       2017    2018    2019  \n",
      "Location                                     \n",
      "Afghanistan           0.000   0.000   0.000  \n",
      "Albania               0.000   0.000   0.000  \n",
      "Antigua and Barbuda   6.230   6.000   5.783  \n",
      "Argentina             9.177   8.680   8.227  \n",
      "Armenia              11.583  11.007  10.497  \n",
      "Australia             3.137   3.090   3.047  \n",
      "Austria               2.943   2.897   2.843  \n"
     ]
    }
   ],
   "source": [
    "print(pd.concat([df3,df4],join = 'outer').fillna(0))"
   ]
  },
  {
   "cell_type": "markdown",
   "id": "3514b4ce-a1a8-47b4-9755-2a65de91c19f",
   "metadata": {
    "jp-MarkdownHeadingCollapsed": true
   },
   "source": [
    "## df5와 df6 데이터를 하나의 데이터 프레임으로 merge함수를 이용하여 합치기, Algeria 컬럼을 key로 하고 합집합으로 합치기\n",
    "- ### merge 함수 사용하기"
   ]
  },
  {
   "cell_type": "code",
   "execution_count": 43,
   "id": "736a29b4-c15f-4804-be7a-c325f32fb317",
   "metadata": {},
   "outputs": [
    {
     "name": "stdout",
     "output_type": "stream",
     "text": [
      "Location  Afghanistan  Albania  Algeria  Andorra  Angola\n",
      "0                 NaN      NaN   19.930    2.827  50.093\n",
      "1                 NaN      NaN   20.407    2.933  51.757\n",
      "2                 NaN      NaN   20.850    3.060  53.460\n",
      "3              51.267    8.363   21.257    3.187  55.510\n",
      "4              53.107    8.493   21.587      NaN     NaN\n",
      "5              55.080    8.790   21.850      NaN     NaN\n",
      "6              57.170    9.267   22.117      NaN     NaN\n",
      "7              59.367    9.943   22.450      NaN     NaN\n",
      "8              61.640   10.807   22.907      NaN     NaN\n",
      "9              64.023   11.803   23.540      NaN     NaN\n"
     ]
    }
   ],
   "source": [
    "print(pd.merge(df5,df6,on='Algeria',how='outer'))"
   ]
  },
  {
   "cell_type": "code",
   "execution_count": null,
   "id": "b615eb55-b093-4f16-949d-c6556de2490f",
   "metadata": {},
   "outputs": [],
   "source": []
  }
 ],
 "metadata": {
  "kernelspec": {
   "display_name": "Python 3 (ipykernel)",
   "language": "python",
   "name": "python3"
  },
  "language_info": {
   "codemirror_mode": {
    "name": "ipython",
    "version": 3
   },
   "file_extension": ".py",
   "mimetype": "text/x-python",
   "name": "python",
   "nbconvert_exporter": "python",
   "pygments_lexer": "ipython3",
   "version": "3.11.9"
  }
 },
 "nbformat": 4,
 "nbformat_minor": 5
}
