{
 "cells": [
  {
   "cell_type": "markdown",
   "id": "f6d9a3a0-e3d6-4a79-bebd-cda2f22cd796",
   "metadata": {
    "jp-MarkdownHeadingCollapsed": true
   },
   "source": [
    "# CHAPTER 01 : Getting & Knowing Data"
   ]
  },
  {
   "cell_type": "markdown",
   "id": "429d3fc8-bee9-4c75-8cd2-84bd4d1a7084",
   "metadata": {
    "jp-MarkdownHeadingCollapsed": true
   },
   "source": [
    "## 데이터 불러오기"
   ]
  },
  {
   "cell_type": "code",
   "execution_count": 1,
   "id": "2ecd6aeb-58c1-428d-b1a4-53d3ec1a6824",
   "metadata": {},
   "outputs": [
    {
     "name": "stdout",
     "output_type": "stream",
     "text": [
      "           gameId   creationTime  gameDuration  seasonId  winner  firstBlood  \\\n",
      "0      3326086514  1504279457970          1949         9       1           2   \n",
      "1      3229566029  1497848803862          1851         9       1           1   \n",
      "2      3327363504  1504360103310          1493         9       1           2   \n",
      "3      3326856598  1504348503996          1758         9       1           1   \n",
      "4      3330080762  1504554410899          2094         9       1           2   \n",
      "...           ...            ...           ...       ...     ...         ...   \n",
      "51485  3308904636  1503076540231          1944         9       2           1   \n",
      "51486  3215685759  1496957179355          3304         9       2           1   \n",
      "51487  3322765040  1504029863961          2156         9       2           2   \n",
      "51488  3256675373  1499562036246          1475         9       2           2   \n",
      "51489  3317333020  1503612754059          1445         9       1           1   \n",
      "\n",
      "       firstTower  firstInhibitor  firstBaron  firstDragon  ...  \\\n",
      "0               1               1           1            1  ...   \n",
      "1               1               1           0            1  ...   \n",
      "2               1               1           1            2  ...   \n",
      "3               1               1           1            1  ...   \n",
      "4               1               1           1            1  ...   \n",
      "...           ...             ...         ...          ...  ...   \n",
      "51485           2               2           0            2  ...   \n",
      "51486           1               2           2            2  ...   \n",
      "51487           2               2           0            1  ...   \n",
      "51488           2               2           0            2  ...   \n",
      "51489           1               1           1            2  ...   \n",
      "\n",
      "       t2_towerKills  t2_inhibitorKills  t2_baronKills  t2_dragonKills  \\\n",
      "0                  5                  0              0               1   \n",
      "1                  2                  0              0               0   \n",
      "2                  2                  0              0               1   \n",
      "3                  0                  0              0               0   \n",
      "4                  3                  0              0               1   \n",
      "...              ...                ...            ...             ...   \n",
      "51485             10                  2              0               4   \n",
      "51486             11                  7              4               4   \n",
      "51487             10                  2              0               2   \n",
      "51488             11                  3              0               1   \n",
      "51489              1                  0              0               1   \n",
      "\n",
      "       t2_riftHeraldKills  t2_ban1  t2_ban2  t2_ban3  t2_ban4  t2_ban5  \n",
      "0                       1      114       67       43       16       51  \n",
      "1                       0       11       67      238       51      420  \n",
      "2                       0      157      238      121       57       28  \n",
      "3                       0      164       18      141       40       51  \n",
      "4                       0       86       11      201      122       18  \n",
      "...                   ...      ...      ...      ...      ...      ...  \n",
      "51485                   0       55       -1       90      238      157  \n",
      "51486                   1      157       55      119      154      105  \n",
      "51487                   0      113      122       53       11      157  \n",
      "51488                   0      154       39       51       90      114  \n",
      "51489                   0       11      157      141       31       18  \n",
      "\n",
      "[51490 rows x 61 columns]\n"
     ]
    }
   ],
   "source": [
    "import pandas as pd \n",
    "df = pd.read_csv('https://raw.githubusercontent.com/Datamanim/pandas/main/lol.csv',sep='\\t')\n",
    "print(df)"
   ]
  },
  {
   "cell_type": "markdown",
   "id": "4b1e1104-bfb9-4293-8f6a-a007e400c1cf",
   "metadata": {
    "jp-MarkdownHeadingCollapsed": true
   },
   "source": [
    "## 데이터의 상위 5개 출력"
   ]
  },
  {
   "cell_type": "code",
   "execution_count": 2,
   "id": "ad7bf012-0212-422a-a351-7780be8874e5",
   "metadata": {},
   "outputs": [
    {
     "name": "stdout",
     "output_type": "stream",
     "text": [
      "       gameId   creationTime  gameDuration  seasonId  winner  firstBlood  \\\n",
      "0  3326086514  1504279457970          1949         9       1           2   \n",
      "1  3229566029  1497848803862          1851         9       1           1   \n",
      "2  3327363504  1504360103310          1493         9       1           2   \n",
      "3  3326856598  1504348503996          1758         9       1           1   \n",
      "4  3330080762  1504554410899          2094         9       1           2   \n",
      "\n",
      "   firstTower  firstInhibitor  firstBaron  firstDragon  ...  t2_towerKills  \\\n",
      "0           1               1           1            1  ...              5   \n",
      "1           1               1           0            1  ...              2   \n",
      "2           1               1           1            2  ...              2   \n",
      "3           1               1           1            1  ...              0   \n",
      "4           1               1           1            1  ...              3   \n",
      "\n",
      "   t2_inhibitorKills  t2_baronKills  t2_dragonKills  t2_riftHeraldKills  \\\n",
      "0                  0              0               1                   1   \n",
      "1                  0              0               0                   0   \n",
      "2                  0              0               1                   0   \n",
      "3                  0              0               0                   0   \n",
      "4                  0              0               1                   0   \n",
      "\n",
      "   t2_ban1  t2_ban2  t2_ban3  t2_ban4  t2_ban5  \n",
      "0      114       67       43       16       51  \n",
      "1       11       67      238       51      420  \n",
      "2      157      238      121       57       28  \n",
      "3      164       18      141       40       51  \n",
      "4       86       11      201      122       18  \n",
      "\n",
      "[5 rows x 61 columns]\n"
     ]
    }
   ],
   "source": [
    "print(df.head(5))"
   ]
  },
  {
   "cell_type": "markdown",
   "id": "8758510f-9e95-4c23-bc7d-6e070fb46c49",
   "metadata": {
    "jp-MarkdownHeadingCollapsed": true
   },
   "source": [
    "## 데이터의 행과 열 갯수 파악"
   ]
  },
  {
   "cell_type": "code",
   "execution_count": 3,
   "id": "2999eb08-fb06-4af4-8a7f-8358f02c2dbd",
   "metadata": {},
   "outputs": [
    {
     "name": "stdout",
     "output_type": "stream",
     "text": [
      "행 갯수 :  61\n",
      "열 갯수 :  51490\n",
      "행 갯수 :  61\n",
      "열 갯수 :  51490\n"
     ]
    }
   ],
   "source": [
    "print('행 갯수 : ',len(df.columns))\n",
    "print('열 갯수 : ',len(df))\n",
    "print('행 갯수 : ',df.shape[1])\n",
    "print('열 갯수 : ',df.shape[0])\n"
   ]
  },
  {
   "cell_type": "markdown",
   "id": "52180555-0cca-4d15-a1f8-1152bdbcc2ff",
   "metadata": {
    "jp-MarkdownHeadingCollapsed": true
   },
   "source": [
    "## 전체 컬럼 출력"
   ]
  },
  {
   "cell_type": "code",
   "execution_count": 4,
   "id": "039f7f79-0244-4b5c-b329-46190fa96e62",
   "metadata": {},
   "outputs": [
    {
     "name": "stdout",
     "output_type": "stream",
     "text": [
      "Index(['gameId', 'creationTime', 'gameDuration', 'seasonId', 'winner',\n",
      "       'firstBlood', 'firstTower', 'firstInhibitor', 'firstBaron',\n",
      "       'firstDragon', 'firstRiftHerald', 't1_champ1id', 't1_champ1_sum1',\n",
      "       't1_champ1_sum2', 't1_champ2id', 't1_champ2_sum1', 't1_champ2_sum2',\n",
      "       't1_champ3id', 't1_champ3_sum1', 't1_champ3_sum2', 't1_champ4id',\n",
      "       't1_champ4_sum1', 't1_champ4_sum2', 't1_champ5id', 't1_champ5_sum1',\n",
      "       't1_champ5_sum2', 't1_towerKills', 't1_inhibitorKills', 't1_baronKills',\n",
      "       't1_dragonKills', 't1_riftHeraldKills', 't1_ban1', 't1_ban2', 't1_ban3',\n",
      "       't1_ban4', 't1_ban5', 't2_champ1id', 't2_champ1_sum1', 't2_champ1_sum2',\n",
      "       't2_champ2id', 't2_champ2_sum1', 't2_champ2_sum2', 't2_champ3id',\n",
      "       't2_champ3_sum1', 't2_champ3_sum2', 't2_champ4id', 't2_champ4_sum1',\n",
      "       't2_champ4_sum2', 't2_champ5id', 't2_champ5_sum1', 't2_champ5_sum2',\n",
      "       't2_towerKills', 't2_inhibitorKills', 't2_baronKills', 't2_dragonKills',\n",
      "       't2_riftHeraldKills', 't2_ban1', 't2_ban2', 't2_ban3', 't2_ban4',\n",
      "       't2_ban5'],\n",
      "      dtype='object')\n"
     ]
    }
   ],
   "source": [
    "print(df.columns)"
   ]
  },
  {
   "cell_type": "markdown",
   "id": "04568a54-c864-45b4-8e6f-39c7ff48495b",
   "metadata": {
    "jp-MarkdownHeadingCollapsed": true
   },
   "source": [
    "## 6번째 컬럼명 출력"
   ]
  },
  {
   "cell_type": "code",
   "execution_count": 5,
   "id": "5c7b5fb0-b469-4349-8433-2a1f08752a73",
   "metadata": {},
   "outputs": [
    {
     "name": "stdout",
     "output_type": "stream",
     "text": [
      "firstBlood\n"
     ]
    }
   ],
   "source": [
    "print(df.columns[5])"
   ]
  },
  {
   "cell_type": "markdown",
   "id": "fee03e08-f37c-4a8f-aecf-4c78a1a4cd56",
   "metadata": {
    "jp-MarkdownHeadingCollapsed": true
   },
   "source": [
    "## 6번째 컬럼의 데이터 타입 확인"
   ]
  },
  {
   "cell_type": "code",
   "execution_count": 6,
   "id": "b20aa895-2b65-4720-86e3-594be17c8ae1",
   "metadata": {},
   "outputs": [
    {
     "name": "stdout",
     "output_type": "stream",
     "text": [
      "int64\n"
     ]
    }
   ],
   "source": [
    "print(df.iloc[:,5].dtype)"
   ]
  },
  {
   "cell_type": "markdown",
   "id": "8f6c22ee-cb0f-4846-8240-54c32c0e8cdf",
   "metadata": {
    "jp-MarkdownHeadingCollapsed": true
   },
   "source": [
    "## 데이터셋의 인덱스 구성"
   ]
  },
  {
   "cell_type": "code",
   "execution_count": 7,
   "id": "d8c3ebcc-80ba-4f69-88fb-a017a0d5db5c",
   "metadata": {},
   "outputs": [
    {
     "name": "stdout",
     "output_type": "stream",
     "text": [
      "RangeIndex(start=0, stop=51490, step=1)\n"
     ]
    }
   ],
   "source": [
    "print(df.index)"
   ]
  },
  {
   "cell_type": "markdown",
   "id": "b5f7b91c-3df4-4399-99ce-1289350e5f11",
   "metadata": {
    "jp-MarkdownHeadingCollapsed": true
   },
   "source": [
    "## 6번째 컬럼의 3번째 값"
   ]
  },
  {
   "cell_type": "code",
   "execution_count": 8,
   "id": "52099b99-df43-48bc-9ca2-05480d36bde7",
   "metadata": {},
   "outputs": [
    {
     "name": "stdout",
     "output_type": "stream",
     "text": [
      "2\n"
     ]
    }
   ],
   "source": [
    "print(df.iloc[2,5])"
   ]
  },
  {
   "cell_type": "markdown",
   "id": "40972329-3f9f-404f-94ea-1bc7a7d3f003",
   "metadata": {
    "jp-MarkdownHeadingCollapsed": true
   },
   "source": [
    "## 6번째 컬럼의 3번째 값"
   ]
  },
  {
   "cell_type": "code",
   "execution_count": 9,
   "id": "9b271d5d-898e-4874-b4e4-cf8bc4ba979f",
   "metadata": {},
   "outputs": [],
   "source": [
    "DataUrl = 'https://raw.githubusercontent.com/Datamanim/pandas/main/Jeju.csv'\n",
    "df = pd.read_csv(DataUrl,encoding='euc-kr')"
   ]
  },
  {
   "cell_type": "markdown",
   "id": "aec5c8bd-6ffc-41f9-9e47-c19ca99ce23c",
   "metadata": {
    "jp-MarkdownHeadingCollapsed": true
   },
   "source": [
    "## 데이터 마지막 3개행"
   ]
  },
  {
   "cell_type": "code",
   "execution_count": 10,
   "id": "446fb828-e58e-4006-974b-08659b9db2ae",
   "metadata": {},
   "outputs": [
    {
     "name": "stdout",
     "output_type": "stream",
     "text": [
      "         id          일자   시도명 읍면동명         거주인구       근무인구        방문인구  \\\n",
      "9618  32066  2020-04-30   제주시  도두동    28397.481   3144.895   84052.697   \n",
      "9619  32067  2020-04-30  서귀포시  안덕면   348037.846  29106.286  251129.660   \n",
      "9620  32068  2020-04-30   제주시   연동  1010643.372  65673.477  447622.068   \n",
      "\n",
      "           총 유동인구   평균 속도  평균 소요 시간  평균 기온  일강수량  평균 풍속  \n",
      "9618   115595.073  41.053    29.421   20.3   0.0    3.0  \n",
      "9619   628273.792  46.595    49.189   17.6   0.0    3.5  \n",
      "9620  1523938.917  40.863    27.765   14.1   0.0    4.8  \n",
      "         id          일자   시도명 읍면동명         거주인구       근무인구        방문인구  \\\n",
      "9618  32066  2020-04-30   제주시  도두동    28397.481   3144.895   84052.697   \n",
      "9619  32067  2020-04-30  서귀포시  안덕면   348037.846  29106.286  251129.660   \n",
      "9620  32068  2020-04-30   제주시   연동  1010643.372  65673.477  447622.068   \n",
      "\n",
      "           총 유동인구   평균 속도  평균 소요 시간  평균 기온  일강수량  평균 풍속  \n",
      "9618   115595.073  41.053    29.421   20.3   0.0    3.0  \n",
      "9619   628273.792  46.595    49.189   17.6   0.0    3.5  \n",
      "9620  1523938.917  40.863    27.765   14.1   0.0    4.8  \n"
     ]
    }
   ],
   "source": [
    "print(df.iloc[-3:,:])\n",
    "print(df.tail(3))"
   ]
  },
  {
   "cell_type": "markdown",
   "id": "e5a8e480-5ad2-4d56-be08-147665a9cf2c",
   "metadata": {
    "jp-MarkdownHeadingCollapsed": true
   },
   "source": [
    "## 수치형 변수를 가진 컬럼 출력"
   ]
  },
  {
   "cell_type": "code",
   "execution_count": 11,
   "id": "f17fce63-8cc5-4e43-a11e-61f37ee514bc",
   "metadata": {},
   "outputs": [
    {
     "name": "stdout",
     "output_type": "stream",
     "text": [
      "Index(['id', '거주인구', '근무인구', '방문인구', '총 유동인구', '평균 속도', '평균 소요 시간', '평균 기온',\n",
      "       '일강수량', '평균 풍속'],\n",
      "      dtype='object')\n",
      "Index(['id', '거주인구', '근무인구', '방문인구', '총 유동인구', '평균 속도', '평균 소요 시간', '평균 기온',\n",
      "       '일강수량', '평균 풍속'],\n",
      "      dtype='object')\n"
     ]
    }
   ],
   "source": [
    "print(df.describe().columns)\n",
    "print(df.select_dtypes(exclude=object).columns)"
   ]
  },
  {
   "cell_type": "markdown",
   "id": "7c58be2f-f7c2-496f-8309-a95f303e9a4e",
   "metadata": {
    "jp-MarkdownHeadingCollapsed": true
   },
   "source": [
    "## 범주형 변수를 가진 컬럼 출력"
   ]
  },
  {
   "cell_type": "code",
   "execution_count": 12,
   "id": "4e850d9e-6c1a-4b35-a329-aca2a488a5c8",
   "metadata": {},
   "outputs": [
    {
     "name": "stdout",
     "output_type": "stream",
     "text": [
      "Index(['일자', '시도명', '읍면동명'], dtype='object')\n"
     ]
    }
   ],
   "source": [
    "print(df.select_dtypes(include=object).columns)"
   ]
  },
  {
   "cell_type": "markdown",
   "id": "86bb8df6-03d9-41f8-89fc-9c9321b6e7bf",
   "metadata": {
    "jp-MarkdownHeadingCollapsed": true
   },
   "source": [
    "## 각 컬럼의 결측치 숫자 파악"
   ]
  },
  {
   "cell_type": "code",
   "execution_count": 13,
   "id": "556f09c1-7344-4bbb-b68e-1e60c82fc648",
   "metadata": {},
   "outputs": [
    {
     "name": "stdout",
     "output_type": "stream",
     "text": [
      "id          0\n",
      "일자          0\n",
      "시도명         0\n",
      "읍면동명        0\n",
      "거주인구        0\n",
      "근무인구        0\n",
      "방문인구        0\n",
      "총 유동인구      0\n",
      "평균 속도       0\n",
      "평균 소요 시간    0\n",
      "평균 기온       0\n",
      "일강수량        0\n",
      "평균 풍속       0\n",
      "dtype: int64\n"
     ]
    }
   ],
   "source": [
    "print(df.isnull().sum())"
   ]
  },
  {
   "cell_type": "markdown",
   "id": "9ce2bda0-9db9-4582-b474-a87cc1c01f5a",
   "metadata": {
    "jp-MarkdownHeadingCollapsed": true
   },
   "source": [
    "## 각 컬럼의 데이터 수, 데이터타입을 한번에 파악"
   ]
  },
  {
   "cell_type": "code",
   "execution_count": 14,
   "id": "bd7e4d4d-d1d8-4b4b-b489-92d18bf5a969",
   "metadata": {},
   "outputs": [
    {
     "name": "stdout",
     "output_type": "stream",
     "text": [
      "<class 'pandas.core.frame.DataFrame'>\n",
      "RangeIndex: 9621 entries, 0 to 9620\n",
      "Data columns (total 13 columns):\n",
      " #   Column    Non-Null Count  Dtype  \n",
      "---  ------    --------------  -----  \n",
      " 0   id        9621 non-null   int64  \n",
      " 1   일자        9621 non-null   object \n",
      " 2   시도명       9621 non-null   object \n",
      " 3   읍면동명      9621 non-null   object \n",
      " 4   거주인구      9621 non-null   float64\n",
      " 5   근무인구      9621 non-null   float64\n",
      " 6   방문인구      9621 non-null   float64\n",
      " 7   총 유동인구    9621 non-null   float64\n",
      " 8   평균 속도     9621 non-null   float64\n",
      " 9   평균 소요 시간  9621 non-null   float64\n",
      " 10  평균 기온     9621 non-null   float64\n",
      " 11  일강수량      9621 non-null   float64\n",
      " 12  평균 풍속     9621 non-null   float64\n",
      "dtypes: float64(9), int64(1), object(3)\n",
      "memory usage: 977.3+ KB\n",
      "None\n"
     ]
    }
   ],
   "source": [
    "print(df.info())"
   ]
  },
  {
   "cell_type": "markdown",
   "id": "d756f6f5-3451-4b14-a0dd-990caef0ee86",
   "metadata": {
    "jp-MarkdownHeadingCollapsed": true
   },
   "source": [
    "## 수치형 변수의 분포 확인"
   ]
  },
  {
   "cell_type": "code",
   "execution_count": 15,
   "id": "eca96c72-d67f-4f3a-ad53-d6502eda5799",
   "metadata": {},
   "outputs": [
    {
     "name": "stdout",
     "output_type": "stream",
     "text": [
      "                 id          거주인구           근무인구           방문인구        총 유동인구  \\\n",
      "count   9621.000000  9.621000e+03    9621.000000    9621.000000  9.621000e+03   \n",
      "mean   27258.000000  3.174315e+05   35471.201510  195889.561802  5.487922e+05   \n",
      "std     2777.487804  2.982079e+05   40381.214775  140706.090325  4.608802e+05   \n",
      "min    22448.000000  9.305552e+03    1407.936000   11538.322000  2.225181e+04   \n",
      "25%    24853.000000  9.539939e+04   12074.498000   99632.153000  2.216910e+05   \n",
      "50%    27258.000000  2.221105e+05   21960.928000  152805.335000  3.866935e+05   \n",
      "75%    29663.000000  4.106671e+05   40192.032000  236325.109000  6.406918e+05   \n",
      "max    32068.000000  1.364504e+06  263476.965000  723459.209000  2.066484e+06   \n",
      "\n",
      "             평균 속도     평균 소요 시간        평균 기온         일강수량        평균 풍속  \n",
      "count  9621.000000  9621.000000  9621.000000  9621.000000  9621.000000  \n",
      "mean     41.109084    37.215873    13.550828     6.972426     2.753171  \n",
      "std       8.758631    12.993786     7.745515    27.617260     1.498538  \n",
      "min      24.333000    12.667000    -9.600000     0.000000     0.000000  \n",
      "25%      34.250000    27.889000     7.600000     0.000000     1.700000  \n",
      "50%      39.640000    34.500000    13.400000     0.000000     2.400000  \n",
      "75%      49.105000    46.176000    19.700000     1.500000     3.400000  \n",
      "max     103.000000   172.200000    30.400000   587.500000    13.333000  \n"
     ]
    }
   ],
   "source": [
    "print(df.describe())"
   ]
  },
  {
   "cell_type": "markdown",
   "id": "0a6693fd-d857-4a90-a944-5c3f1f47d2c4",
   "metadata": {
    "jp-MarkdownHeadingCollapsed": true
   },
   "source": [
    "## 거주인구 컬럼의 값 확인"
   ]
  },
  {
   "cell_type": "code",
   "execution_count": 16,
   "id": "a1ea0815-d6b1-472a-a418-f03998acb2c8",
   "metadata": {},
   "outputs": [
    {
     "name": "stdout",
     "output_type": "stream",
     "text": [
      "0         32249.987\n",
      "1        213500.997\n",
      "2       1212382.218\n",
      "3         33991.653\n",
      "4        155036.925\n",
      "           ...     \n",
      "9616     228260.005\n",
      "9617     459959.064\n",
      "9618      28397.481\n",
      "9619     348037.846\n",
      "9620    1010643.372\n",
      "Name: 거주인구, Length: 9621, dtype: float64\n"
     ]
    }
   ],
   "source": [
    "print(df['거주인구'])"
   ]
  },
  {
   "cell_type": "markdown",
   "id": "aa4d8922-cd93-4d80-b196-1084f425110e",
   "metadata": {
    "jp-MarkdownHeadingCollapsed": true
   },
   "source": [
    "## 평균속도 컬럼의 4분위 범위(IQR) 값"
   ]
  },
  {
   "cell_type": "code",
   "execution_count": 17,
   "id": "7842b315-3338-4328-ae9f-faa4f932ff6b",
   "metadata": {},
   "outputs": [
    {
     "name": "stdout",
     "output_type": "stream",
     "text": [
      "14.854999999999997\n"
     ]
    }
   ],
   "source": [
    "print((df['평균 속도'].describe()['75%'] - df['평균 속도'].describe()['25%']))"
   ]
  },
  {
   "cell_type": "markdown",
   "id": "417c6db5-8ea8-4fcd-9f7e-993c1b88bebf",
   "metadata": {
    "jp-MarkdownHeadingCollapsed": true
   },
   "source": [
    "## 읍면동명 컬럼의 유일값 갯수 출력"
   ]
  },
  {
   "cell_type": "code",
   "execution_count": 18,
   "id": "c6f302c0-7791-4337-989b-a40423dff634",
   "metadata": {},
   "outputs": [
    {
     "name": "stdout",
     "output_type": "stream",
     "text": [
      "41\n"
     ]
    }
   ],
   "source": [
    "print(len(df['읍면동명'].unique()))"
   ]
  },
  {
   "cell_type": "markdown",
   "id": "9eefd29d-e337-4856-a803-7453d570cb48",
   "metadata": {
    "jp-MarkdownHeadingCollapsed": true
   },
   "source": [
    "## 읍면동명 컬럼의 유일값 모두 출력"
   ]
  },
  {
   "cell_type": "code",
   "execution_count": 19,
   "id": "d4a52f81-3fe8-4919-9457-85da062e169f",
   "metadata": {},
   "outputs": [
    {
     "name": "stdout",
     "output_type": "stream",
     "text": [
      "['도두동' '외도동' '이도2동' '일도1동' '대천동' '서홍동' '한경면' '송산동' '조천읍' '일도2동' '영천동'\n",
      " '예래동' '대륜동' '삼도1동' '이호동' '건입동' '중앙동' '삼양동' '삼도2동' '이도1동' '남원읍' '대정읍'\n",
      " '정방동' '효돈동' '아라동' '한림읍' '구좌읍' '용담1동' '오라동' '화북동' '연동' '표선면' '중문동' '성산읍'\n",
      " '안덕면' '천지동' '노형동' '동홍동' '용담2동' '봉개동' '애월읍']\n"
     ]
    }
   ],
   "source": [
    "print(df['읍면동명'].unique())"
   ]
  },
  {
   "cell_type": "markdown",
   "id": "38c07e22-7de3-4df6-9475-a0bf7d4f849f",
   "metadata": {
    "jp-MarkdownHeadingCollapsed": true
   },
   "source": [
    "# CHAPERTER 02 : Filtering & Sorting\n",
    "- index drop하기\n",
    "- 컬럼의 모든 문자형 데이터를 변환하기\n",
    "- 짝수번쨰 컾럼만 추출\n",
    "- or 조건문 사용\n",
    "- 마지막 행만 남기기\n",
    "  not 조건문 사용\n",
    "  그룹 내에 포함되어 있는 값 찾기"
   ]
  },
  {
   "cell_type": "markdown",
   "id": "50659d23-d15d-4bb8-97ed-327fe73918fe",
   "metadata": {
    "jp-MarkdownHeadingCollapsed": true
   },
   "source": [
    "## 데이터 로드"
   ]
  },
  {
   "cell_type": "code",
   "execution_count": 20,
   "id": "2252806d-d36c-4ad6-876a-7340cc75d5a8",
   "metadata": {},
   "outputs": [],
   "source": [
    "df= pd.read_csv('https://raw.githubusercontent.com/Datamanim/pandas/main/chipo.csv')"
   ]
  },
  {
   "cell_type": "markdown",
   "id": "02104880-e05c-4c26-a794-5c47c8639b91",
   "metadata": {
    "jp-MarkdownHeadingCollapsed": true
   },
   "source": [
    "## quantity 컬럼 값이 3인 데이터 추출하여 첫 5행 출력"
   ]
  },
  {
   "cell_type": "code",
   "execution_count": 21,
   "id": "49a6b9c3-4954-4e8a-a0c2-2ac70f6e1a89",
   "metadata": {},
   "outputs": [
    {
     "name": "stdout",
     "output_type": "stream",
     "text": [
      "     order_id  quantity          item_name  \\\n",
      "409       178         3       Chicken Bowl   \n",
      "445       193         3               Bowl   \n",
      "689       284         3  Canned Soft Drink   \n",
      "818       338         3      Bottled Water   \n",
      "850       350         3  Canned Soft Drink   \n",
      "\n",
      "                                    choice_description item_price  \n",
      "409  [[Fresh Tomato Salsa (Mild), Tomatillo-Green C...    $32.94   \n",
      "445  [Braised Carnitas, Pinto Beans, [Sour Cream, C...    $22.20   \n",
      "689                                        [Diet Coke]     $3.75   \n",
      "818                                                NaN     $3.27   \n",
      "850                                           [Sprite]     $3.75   \n",
      "     order_id  quantity          item_name  \\\n",
      "409       178         3       Chicken Bowl   \n",
      "445       193         3               Bowl   \n",
      "689       284         3  Canned Soft Drink   \n",
      "818       338         3      Bottled Water   \n",
      "850       350         3  Canned Soft Drink   \n",
      "\n",
      "                                    choice_description item_price  \n",
      "409  [[Fresh Tomato Salsa (Mild), Tomatillo-Green C...    $32.94   \n",
      "445  [Braised Carnitas, Pinto Beans, [Sour Cream, C...    $22.20   \n",
      "689                                        [Diet Coke]     $3.75   \n",
      "818                                                NaN     $3.27   \n",
      "850                                           [Sprite]     $3.75   \n"
     ]
    }
   ],
   "source": [
    "print(df.query('quantity ==3').head(5))\n",
    "print(df.loc[df['quantity']==3,:].head(5))"
   ]
  },
  {
   "cell_type": "markdown",
   "id": "bb2329eb-a588-49db-975d-8d2d3f1eb0c0",
   "metadata": {
    "jp-MarkdownHeadingCollapsed": true
   },
   "source": [
    "## quantity 컬럼 값이 3인 데이터를 추출하여 index를 0부터 정렬하고 첫 5행을 출력\n",
    "- ### index drop하기"
   ]
  },
  {
   "cell_type": "code",
   "execution_count": 22,
   "id": "7796ca16-9da5-40f6-8b37-d69a3fa0343a",
   "metadata": {},
   "outputs": [
    {
     "name": "stdout",
     "output_type": "stream",
     "text": [
      "   order_id  quantity          item_name  \\\n",
      "0       178         3       Chicken Bowl   \n",
      "1       193         3               Bowl   \n",
      "2       284         3  Canned Soft Drink   \n",
      "3       338         3      Bottled Water   \n",
      "4       350         3  Canned Soft Drink   \n",
      "\n",
      "                                  choice_description item_price  \n",
      "0  [[Fresh Tomato Salsa (Mild), Tomatillo-Green C...    $32.94   \n",
      "1  [Braised Carnitas, Pinto Beans, [Sour Cream, C...    $22.20   \n",
      "2                                        [Diet Coke]     $3.75   \n",
      "3                                                NaN     $3.27   \n",
      "4                                           [Sprite]     $3.75   \n"
     ]
    }
   ],
   "source": [
    "print(df.loc[df['quantity']==3].reset_index(drop=True).head(5))"
   ]
  },
  {
   "cell_type": "markdown",
   "id": "d90a3e56-a4a5-49fa-ac65-d3cc53d4ae3e",
   "metadata": {
    "jp-MarkdownHeadingCollapsed": true
   },
   "source": [
    "## quantity,item_price 두개의 컬럼으로 구성된 새로운 데이터 프레임을 정의"
   ]
  },
  {
   "cell_type": "code",
   "execution_count": 23,
   "id": "1786db22-aaf5-4df8-89c9-82ad352611cb",
   "metadata": {},
   "outputs": [
    {
     "name": "stdout",
     "output_type": "stream",
     "text": [
      "      quantity item_price\n",
      "0            1     $2.39 \n",
      "1            1     $3.39 \n",
      "2            1     $3.39 \n",
      "3            1     $2.39 \n",
      "4            2    $16.98 \n",
      "...        ...        ...\n",
      "4617         1    $11.75 \n",
      "4618         1    $11.75 \n",
      "4619         1    $11.25 \n",
      "4620         1     $8.75 \n",
      "4621         1     $8.75 \n",
      "\n",
      "[4622 rows x 2 columns]\n"
     ]
    }
   ],
   "source": [
    "new_df = df[['quantity','item_price']]\n",
    "print(new_df)"
   ]
  },
  {
   "cell_type": "markdown",
   "id": "21c9771f-1aef-4b77-a72f-351aa5f93045",
   "metadata": {
    "jp-MarkdownHeadingCollapsed": true
   },
   "source": [
    "## item_price 컬럼의 달러표시 문자를 제거하고 float타입으로 저장하여 new_price 컬럼에 저장\n",
    "- ### 컬럼의 모든 문자형 데이터를 변환하는 방법"
   ]
  },
  {
   "cell_type": "code",
   "execution_count": 24,
   "id": "cbe16262-72d4-4211-94c8-0f04eeba9b4a",
   "metadata": {},
   "outputs": [
    {
     "name": "stdout",
     "output_type": "stream",
     "text": [
      "0        2.39\n",
      "1        3.39\n",
      "2        3.39\n",
      "3        2.39\n",
      "4       16.98\n",
      "        ...  \n",
      "4617    11.75\n",
      "4618    11.75\n",
      "4619    11.25\n",
      "4620     8.75\n",
      "4621     8.75\n",
      "Name: new_price, Length: 4622, dtype: float64\n"
     ]
    }
   ],
   "source": [
    "df['new_price'] = df['item_price'].str.replace('$','').astype(float)\n",
    "print(df['new_price'])"
   ]
  },
  {
   "cell_type": "markdown",
   "id": "8946c67b-613f-4dcf-9385-f0634abd8da7",
   "metadata": {
    "jp-MarkdownHeadingCollapsed": true
   },
   "source": [
    "## new_price 컬럼이 5 이하의 값을 가지는 데이터프레임 추출 및 전체 갯수 출력"
   ]
  },
  {
   "cell_type": "code",
   "execution_count": 25,
   "id": "7e945a3d-2294-4f2e-bb9b-0e0708819bee",
   "metadata": {},
   "outputs": [
    {
     "name": "stdout",
     "output_type": "stream",
     "text": [
      "1652\n"
     ]
    }
   ],
   "source": [
    "print(len(df.loc[df['new_price']<=5,:]))"
   ]
  },
  {
   "cell_type": "markdown",
   "id": "4a9b00e3-9e53-4a54-adbf-57930d925fb5",
   "metadata": {
    "jp-MarkdownHeadingCollapsed": true
   },
   "source": [
    "## item_name명이 Chicken Salad Bowl인 데이터 프레임 추출 및 index 값 초기화"
   ]
  },
  {
   "cell_type": "code",
   "execution_count": 26,
   "id": "28137580-f6ab-4d97-8c70-e4c86c91e80b",
   "metadata": {},
   "outputs": [
    {
     "name": "stdout",
     "output_type": "stream",
     "text": [
      "     order_id  quantity           item_name  \\\n",
      "0          20         1  Chicken Salad Bowl   \n",
      "1          60         2  Chicken Salad Bowl   \n",
      "2          94         2  Chicken Salad Bowl   \n",
      "3         111         1  Chicken Salad Bowl   \n",
      "4         137         2  Chicken Salad Bowl   \n",
      "..        ...       ...                 ...   \n",
      "105      1813         2  Chicken Salad Bowl   \n",
      "106      1822         1  Chicken Salad Bowl   \n",
      "107      1834         1  Chicken Salad Bowl   \n",
      "108      1834         1  Chicken Salad Bowl   \n",
      "109      1834         1  Chicken Salad Bowl   \n",
      "\n",
      "                                    choice_description item_price  new_price  \n",
      "0    [Fresh Tomato Salsa, [Fajita Vegetables, Pinto...     $8.75        8.75  \n",
      "1    [Tomatillo Green Chili Salsa, [Sour Cream, Che...    $22.50       22.50  \n",
      "2    [Fresh Tomato Salsa, [Fajita Vegetables, Pinto...    $22.50       22.50  \n",
      "3    [Fresh Tomato Salsa, [Fajita Vegetables, Rice,...     $8.75        8.75  \n",
      "4              [Fresh Tomato Salsa, Fajita Vegetables]    $17.50       17.50  \n",
      "..                                                 ...        ...        ...  \n",
      "105  [Fresh Tomato Salsa, [Fajita Vegetables, Pinto...    $17.50       17.50  \n",
      "106  [Fresh Tomato Salsa, [Black Beans, Cheese, Gua...    $11.25       11.25  \n",
      "107  [Fresh Tomato Salsa, [Fajita Vegetables, Pinto...    $11.25       11.25  \n",
      "108  [Fresh Tomato Salsa, [Fajita Vegetables, Lettu...     $8.75        8.75  \n",
      "109  [Fresh Tomato Salsa, [Fajita Vegetables, Pinto...     $8.75        8.75  \n",
      "\n",
      "[110 rows x 6 columns]\n"
     ]
    }
   ],
   "source": [
    "print(df.loc[df['item_name'] =='Chicken Salad Bowl',:].reset_index(drop=True))"
   ]
  },
  {
   "cell_type": "markdown",
   "id": "334bd235-a3d4-4679-b99c-740ada0ca0c4",
   "metadata": {
    "jp-MarkdownHeadingCollapsed": true
   },
   "source": [
    "## new_price 값이 9 이하이고 item_name 값이 Chicken Salad Bowl인 데이터 프레임 추출"
   ]
  },
  {
   "cell_type": "code",
   "execution_count": 27,
   "id": "148c9dc3-b339-4eb2-8f0a-349aeae70b2f",
   "metadata": {},
   "outputs": [
    {
     "name": "stdout",
     "output_type": "stream",
     "text": [
      "      order_id  quantity           item_name  \\\n",
      "44          20         1  Chicken Salad Bowl   \n",
      "256        111         1  Chicken Salad Bowl   \n",
      "526        220         1  Chicken Salad Bowl   \n",
      "528        221         1  Chicken Salad Bowl   \n",
      "529        221         1  Chicken Salad Bowl   \n",
      "568        234         1  Chicken Salad Bowl   \n",
      "585        240         1  Chicken Salad Bowl   \n",
      "693        286         1  Chicken Salad Bowl   \n",
      "702        289         1  Chicken Salad Bowl   \n",
      "762        314         1  Chicken Salad Bowl   \n",
      "1109       458         1  Chicken Salad Bowl   \n",
      "1460       592         1  Chicken Salad Bowl   \n",
      "1471       598         1  Chicken Salad Bowl   \n",
      "1483       602         1  Chicken Salad Bowl   \n",
      "1547       628         1  Chicken Salad Bowl   \n",
      "1601       649         1  Chicken Salad Bowl   \n",
      "1621       654         1  Chicken Salad Bowl   \n",
      "1756       709         1  Chicken Salad Bowl   \n",
      "1977       798         1  Chicken Salad Bowl   \n",
      "2031       818         1  Chicken Salad Bowl   \n",
      "2113       850         1  Chicken Salad Bowl   \n",
      "2224       896         1  Chicken Salad Bowl   \n",
      "2314       926         1  Chicken Salad Bowl   \n",
      "2728      1083         1  Chicken Salad Bowl   \n",
      "2858      1136         1  Chicken Salad Bowl   \n",
      "2883      1145         1  Chicken Salad Bowl   \n",
      "2897      1152         1  Chicken Salad Bowl   \n",
      "2989      1189         1  Chicken Salad Bowl   \n",
      "3033      1206         1  Chicken Salad Bowl   \n",
      "3069      1222         1  Chicken Salad Bowl   \n",
      "3117      1243         1  Chicken Salad Bowl   \n",
      "3259      1305         1  Chicken Salad Bowl   \n",
      "3261      1305         1  Chicken Salad Bowl   \n",
      "3310      1327         1  Chicken Salad Bowl   \n",
      "3315      1329         1  Chicken Salad Bowl   \n",
      "3381      1357         1  Chicken Salad Bowl   \n",
      "3411      1368         1  Chicken Salad Bowl   \n",
      "3623      1450         1  Chicken Salad Bowl   \n",
      "3656      1461         1  Chicken Salad Bowl   \n",
      "3706      1483         1  Chicken Salad Bowl   \n",
      "3712      1483         1  Chicken Salad Bowl   \n",
      "3790      1517         1  Chicken Salad Bowl   \n",
      "3798      1521         1  Chicken Salad Bowl   \n",
      "3974      1592         1  Chicken Salad Bowl   \n",
      "3997      1601         1  Chicken Salad Bowl   \n",
      "4012      1606         1  Chicken Salad Bowl   \n",
      "4035      1615         1  Chicken Salad Bowl   \n",
      "4064      1627         1  Chicken Salad Bowl   \n",
      "4205      1679         1  Chicken Salad Bowl   \n",
      "4207      1679         1  Chicken Salad Bowl   \n",
      "4333      1730         1  Chicken Salad Bowl   \n",
      "4352      1738         1  Chicken Salad Bowl   \n",
      "4439      1769         1  Chicken Salad Bowl   \n",
      "4520      1797         1  Chicken Salad Bowl   \n",
      "4620      1834         1  Chicken Salad Bowl   \n",
      "4621      1834         1  Chicken Salad Bowl   \n",
      "\n",
      "                                     choice_description item_price  new_price  \n",
      "44    [Fresh Tomato Salsa, [Fajita Vegetables, Pinto...     $8.75        8.75  \n",
      "256   [Fresh Tomato Salsa, [Fajita Vegetables, Rice,...     $8.75        8.75  \n",
      "526   [Roasted Chili Corn Salsa, [Black Beans, Sour ...     $8.75        8.75  \n",
      "528   [Tomatillo Green Chili Salsa, [Fajita Vegetabl...     $8.75        8.75  \n",
      "529   [Tomatillo Green Chili Salsa, [Fajita Vegetabl...     $8.75        8.75  \n",
      "568             [Fresh Tomato Salsa, Fajita Vegetables]     $8.75        8.75  \n",
      "585             [Fresh Tomato Salsa, Fajita Vegetables]     $8.75        8.75  \n",
      "693   [Fresh Tomato Salsa, [Sour Cream, Cheese, Lett...     $8.75        8.75  \n",
      "702   [Tomatillo Red Chili Salsa, [Black Beans, Chee...     $8.75        8.75  \n",
      "762   [Fresh Tomato Salsa, [Fajita Vegetables, Lettu...     $8.75        8.75  \n",
      "1109  [Fresh Tomato Salsa, [Fajita Vegetables, Rice,...     $8.75        8.75  \n",
      "1460                      [Fresh Tomato Salsa, Lettuce]     $8.75        8.75  \n",
      "1471  [Roasted Chili Corn Salsa, [Fajita Vegetables,...     $8.75        8.75  \n",
      "1483  [Fresh Tomato Salsa, [Fajita Vegetables, Chees...     $8.75        8.75  \n",
      "1547  [Fresh Tomato Salsa, [Fajita Vegetables, Rice,...     $8.75        8.75  \n",
      "1601  [Roasted Chili Corn Salsa, [Fajita Vegetables,...     $8.75        8.75  \n",
      "1621  [Roasted Chili Corn Salsa, [Fajita Vegetables,...     $8.75        8.75  \n",
      "1756  [Fresh Tomato Salsa, [Fajita Vegetables, Sour ...     $8.75        8.75  \n",
      "1977  [Fresh Tomato Salsa, [Fajita Vegetables, Sour ...     $8.75        8.75  \n",
      "2031  [Roasted Chili Corn Salsa, [Rice, Black Beans,...     $8.75        8.75  \n",
      "2113  [Fresh Tomato Salsa, [Rice, Black Beans, Cheese]]     $8.75        8.75  \n",
      "2224  [Fresh Tomato Salsa, [Pinto Beans, Sour Cream,...     $8.75        8.75  \n",
      "2314     [Roasted Chili Corn Salsa, [Rice, Sour Cream]]     $8.75        8.75  \n",
      "2728      [Roasted Chili Corn Salsa, [Cheese, Lettuce]]     $8.75        8.75  \n",
      "2858  [Fresh Tomato Salsa, [Fajita Vegetables, Chees...     $8.75        8.75  \n",
      "2883  [Roasted Chili Corn Salsa, [Black Beans, Sour ...     $8.75        8.75  \n",
      "2897                 [Roasted Chili Corn Salsa, Cheese]     $8.75        8.75  \n",
      "2989  [Fresh Tomato Salsa, [Fajita Vegetables, Rice,...     $8.75        8.75  \n",
      "3033            [Fresh Tomato Salsa, [Cheese, Lettuce]]     $8.75        8.75  \n",
      "3069  [Fresh Tomato Salsa, [Fajita Vegetables, Black...     $8.75        8.75  \n",
      "3117  [Roasted Chili Corn Salsa, [Rice, Pinto Beans,...     $8.75        8.75  \n",
      "3259  [Fresh Tomato Salsa, [Fajita Vegetables, Pinto...     $8.75        8.75  \n",
      "3261  [Fresh Tomato Salsa, [Fajita Vegetables, Lettu...     $8.75        8.75  \n",
      "3310                               [Fresh Tomato Salsa]     $8.75        8.75  \n",
      "3315              [Fresh Tomato Salsa, [Rice, Lettuce]]     $8.75        8.75  \n",
      "3381            [Fresh Tomato Salsa, [Cheese, Lettuce]]     $8.75        8.75  \n",
      "3411       [Fresh Tomato Salsa, [Pinto Beans, Lettuce]]     $8.75        8.75  \n",
      "3623  [Roasted Chili Corn Salsa, [Rice, Pinto Beans,...     $8.75        8.75  \n",
      "3656  [Tomatillo Green Chili Salsa, [Fajita Vegetabl...     $8.75        8.75  \n",
      "3706  [Roasted Chili Corn Salsa, [Pinto Beans, Chees...     $8.75        8.75  \n",
      "3712  [Roasted Chili Corn Salsa, [Black Beans, Chees...     $8.75        8.75  \n",
      "3790  [Fresh Tomato Salsa, [Fajita Vegetables, Chees...     $8.75        8.75  \n",
      "3798  [Fresh Tomato Salsa, [Fajita Vegetables, Lettu...     $8.75        8.75  \n",
      "3974  [Fresh Tomato Salsa, [Rice, Pinto Beans, Lettu...     $8.75        8.75  \n",
      "3997  [Tomatillo Green Chili Salsa, [Fajita Vegetabl...     $8.75        8.75  \n",
      "4012                               [Fresh Tomato Salsa]     $8.75        8.75  \n",
      "4035  [Fresh Tomato Salsa, [Fajita Vegetables, Chees...     $8.75        8.75  \n",
      "4064  [Fresh Tomato Salsa, [Rice, Black Beans, Chees...     $8.75        8.75  \n",
      "4205  [Roasted Chili Corn Salsa, [Black Beans, Chees...     $8.75        8.75  \n",
      "4207  [Fresh Tomato Salsa, [Black Beans, Cheese, Sou...     $8.75        8.75  \n",
      "4333        [Tomatillo Red Chili Salsa, [Rice, Cheese]]     $8.75        8.75  \n",
      "4352  [Tomatillo Red Chili Salsa, [Rice, Fajita Vege...     $8.75        8.75  \n",
      "4439  [Fresh Tomato Salsa, [Rice, Black Beans, Chees...     $8.75        8.75  \n",
      "4520                      [Fresh Tomato Salsa, Lettuce]     $8.75        8.75  \n",
      "4620  [Fresh Tomato Salsa, [Fajita Vegetables, Lettu...     $8.75        8.75  \n",
      "4621  [Fresh Tomato Salsa, [Fajita Vegetables, Pinto...     $8.75        8.75  \n"
     ]
    }
   ],
   "source": [
    "print(df.loc[(df['new_price']<=9)&(df['item_name']=='Chicken Salad Bowl'),:])"
   ]
  },
  {
   "cell_type": "markdown",
   "id": "3d2cda5d-8252-453d-882f-b77913e7c5f3",
   "metadata": {
    "jp-MarkdownHeadingCollapsed": true
   },
   "source": [
    "## df의 new_price 컬럼 값에 따라 오름차순으로 정리하고 index를 초기화"
   ]
  },
  {
   "cell_type": "code",
   "execution_count": 28,
   "id": "1a0478c3-4570-4cd0-9592-30f83610f2e5",
   "metadata": {},
   "outputs": [
    {
     "name": "stdout",
     "output_type": "stream",
     "text": [
      "      order_id  quantity                     item_name  \\\n",
      "0          471         1                 Bottled Water   \n",
      "1          338         1                   Canned Soda   \n",
      "2         1575         1                   Canned Soda   \n",
      "3           47         1                   Canned Soda   \n",
      "4         1014         1                   Canned Soda   \n",
      "...        ...       ...                           ...   \n",
      "4617      1443         3                Veggie Burrito   \n",
      "4618      1443         4               Chicken Burrito   \n",
      "4619       511         4               Chicken Burrito   \n",
      "4620      1398         3                 Carnitas Bowl   \n",
      "4621      1443        15  Chips and Fresh Tomato Salsa   \n",
      "\n",
      "                                     choice_description item_price  new_price  \n",
      "0                                                   NaN     $1.09        1.09  \n",
      "1                                           [Coca Cola]     $1.09        1.09  \n",
      "2                                          [Dr. Pepper]     $1.09        1.09  \n",
      "3                                          [Dr. Pepper]     $1.09        1.09  \n",
      "4                                           [Coca Cola]     $1.09        1.09  \n",
      "...                                                 ...        ...        ...  \n",
      "4617  [Fresh Tomato Salsa, [Fajita Vegetables, Rice,...    $33.75       33.75  \n",
      "4618  [Fresh Tomato Salsa, [Rice, Black Beans, Chees...    $35.00       35.00  \n",
      "4619  [Fresh Tomato Salsa, [Fajita Vegetables, Rice,...    $35.00       35.00  \n",
      "4620  [Roasted Chili Corn Salsa, [Fajita Vegetables,...    $35.25       35.25  \n",
      "4621                                                NaN    $44.25       44.25  \n",
      "\n",
      "[4622 rows x 6 columns]\n"
     ]
    }
   ],
   "source": [
    "print(df.sort_values('new_price').reset_index(drop=True))"
   ]
  },
  {
   "cell_type": "markdown",
   "id": "d7ce0a52-f6ce-4f91-a7f3-9ba4eeb6ddb8",
   "metadata": {
    "jp-MarkdownHeadingCollapsed": true
   },
   "source": [
    "## df의 item_name 컬럼 값 중 Chips를 포함하는 경우의 데이터 출력"
   ]
  },
  {
   "cell_type": "code",
   "execution_count": 29,
   "id": "5ae764e5-7bce-494b-8e9e-94e2535fe4cd",
   "metadata": {},
   "outputs": [
    {
     "name": "stdout",
     "output_type": "stream",
     "text": [
      "      order_id  quantity                              item_name  \\\n",
      "0            1         1           Chips and Fresh Tomato Salsa   \n",
      "3            1         1  Chips and Tomatillo-Green Chili Salsa   \n",
      "6            3         1                          Side of Chips   \n",
      "10           5         1                    Chips and Guacamole   \n",
      "14           7         1                    Chips and Guacamole   \n",
      "...        ...       ...                                    ...   \n",
      "4596      1826         1                    Chips and Guacamole   \n",
      "4600      1827         1                    Chips and Guacamole   \n",
      "4605      1828         1                    Chips and Guacamole   \n",
      "4613      1831         1                                  Chips   \n",
      "4616      1832         1                    Chips and Guacamole   \n",
      "\n",
      "     choice_description item_price  new_price  \n",
      "0                   NaN     $2.39        2.39  \n",
      "3                   NaN     $2.39        2.39  \n",
      "6                   NaN     $1.69        1.69  \n",
      "10                  NaN     $4.45        4.45  \n",
      "14                  NaN     $4.45        4.45  \n",
      "...                 ...        ...        ...  \n",
      "4596                NaN     $4.45        4.45  \n",
      "4600                NaN     $4.45        4.45  \n",
      "4605                NaN     $4.45        4.45  \n",
      "4613                NaN     $2.15        2.15  \n",
      "4616                NaN     $4.45        4.45  \n",
      "\n",
      "[1084 rows x 6 columns]\n"
     ]
    }
   ],
   "source": [
    "print(df.loc[df['item_name'].str.contains('Chips')])"
   ]
  },
  {
   "cell_type": "markdown",
   "id": "78287ac4-dc7d-40c1-85bc-f02d0f8711be",
   "metadata": {
    "jp-MarkdownHeadingCollapsed": true
   },
   "source": [
    "## df의 짝수번째 컬럼만을 포함하는 데이터프레임을 출력\n",
    "- ### 짝수번째 컬럼만 출력하기"
   ]
  },
  {
   "cell_type": "code",
   "execution_count": 30,
   "id": "fdb02c69-f083-4542-9e30-9d5f4ad97a49",
   "metadata": {},
   "outputs": [
    {
     "name": "stdout",
     "output_type": "stream",
     "text": [
      "      order_id                              item_name item_price\n",
      "0            1           Chips and Fresh Tomato Salsa     $2.39 \n",
      "1            1                                   Izze     $3.39 \n",
      "2            1                       Nantucket Nectar     $3.39 \n",
      "3            1  Chips and Tomatillo-Green Chili Salsa     $2.39 \n",
      "4            2                           Chicken Bowl    $16.98 \n",
      "...        ...                                    ...        ...\n",
      "4617      1833                          Steak Burrito    $11.75 \n",
      "4618      1833                          Steak Burrito    $11.75 \n",
      "4619      1834                     Chicken Salad Bowl    $11.25 \n",
      "4620      1834                     Chicken Salad Bowl     $8.75 \n",
      "4621      1834                     Chicken Salad Bowl     $8.75 \n",
      "\n",
      "[4622 rows x 3 columns]\n"
     ]
    }
   ],
   "source": [
    "print(df.iloc[:,::2])"
   ]
  },
  {
   "cell_type": "markdown",
   "id": "98730b7e-7abe-4621-8fd2-79a7eda8bd83",
   "metadata": {
    "jp-MarkdownHeadingCollapsed": true
   },
   "source": [
    "## df의 new_price 컬럼 값에 따라 내림차순으로 정리하고 index를 초기화"
   ]
  },
  {
   "cell_type": "code",
   "execution_count": 31,
   "id": "df51e79a-4d69-46b1-a4bc-d1cfa9fc1c47",
   "metadata": {},
   "outputs": [
    {
     "name": "stdout",
     "output_type": "stream",
     "text": [
      "      order_id  quantity                     item_name  \\\n",
      "0         1443        15  Chips and Fresh Tomato Salsa   \n",
      "1         1398         3                 Carnitas Bowl   \n",
      "2          511         4               Chicken Burrito   \n",
      "3         1443         4               Chicken Burrito   \n",
      "4         1443         3                Veggie Burrito   \n",
      "...        ...       ...                           ...   \n",
      "4617      1578         1                   Canned Soda   \n",
      "4618      1162         1                 Bottled Water   \n",
      "4619       567         1                   Canned Soda   \n",
      "4620      1014         1                   Canned Soda   \n",
      "4621       591         1                   Canned Soda   \n",
      "\n",
      "                                     choice_description item_price  new_price  \n",
      "0                                                   NaN    $44.25       44.25  \n",
      "1     [Roasted Chili Corn Salsa, [Fajita Vegetables,...    $35.25       35.25  \n",
      "2     [Fresh Tomato Salsa, [Fajita Vegetables, Rice,...    $35.00       35.00  \n",
      "3     [Fresh Tomato Salsa, [Rice, Black Beans, Chees...    $35.00       35.00  \n",
      "4     [Fresh Tomato Salsa, [Fajita Vegetables, Rice,...    $33.75       33.75  \n",
      "...                                                 ...        ...        ...  \n",
      "4617                                  [Diet Dr. Pepper]     $1.09        1.09  \n",
      "4618                                                NaN     $1.09        1.09  \n",
      "4619                                        [Coca Cola]     $1.09        1.09  \n",
      "4620                                        [Coca Cola]     $1.09        1.09  \n",
      "4621                                           [Sprite]     $1.09        1.09  \n",
      "\n",
      "[4622 rows x 6 columns]\n"
     ]
    }
   ],
   "source": [
    "print(df.sort_values('new_price',ascending = False).reset_index(drop=True))"
   ]
  },
  {
   "cell_type": "markdown",
   "id": "5d26e8a7-d04f-4b0c-ba40-ea524e5f8064",
   "metadata": {
    "jp-MarkdownHeadingCollapsed": true
   },
   "source": [
    "## df의 item_name 컬럼 값이 Steak Salad 또는 Bowl인 데이터를 인덱싱\n",
    "- ### or 조건문 사용하기"
   ]
  },
  {
   "cell_type": "code",
   "execution_count": 32,
   "id": "67f57582-9d6d-497f-8dc7-a359e782bfeb",
   "metadata": {},
   "outputs": [
    {
     "name": "stdout",
     "output_type": "stream",
     "text": [
      "      order_id  quantity    item_name  \\\n",
      "445        193         3         Bowl   \n",
      "664        276         1  Steak Salad   \n",
      "673        279         1         Bowl   \n",
      "752        311         1  Steak Salad   \n",
      "893        369         1  Steak Salad   \n",
      "3502      1406         1  Steak Salad   \n",
      "\n",
      "                                     choice_description item_price  new_price  \n",
      "445   [Braised Carnitas, Pinto Beans, [Sour Cream, C...    $22.20       22.20  \n",
      "664   [Tomatillo-Red Chili Salsa (Hot), [Black Beans...     $8.99        8.99  \n",
      "673   [Adobo-Marinated and Grilled Steak, [Sour Crea...     $7.40        7.40  \n",
      "752   [Tomatillo-Red Chili Salsa (Hot), [Black Beans...     $8.99        8.99  \n",
      "893   [Fresh Tomato Salsa (Mild), [Rice, Cheese, Sou...     $8.99        8.99  \n",
      "3502                        [[Lettuce, Fajita Veggies]]     $8.69        8.69  \n"
     ]
    }
   ],
   "source": [
    "print(df.loc[(df['item_name'] =='Steak Salad')|(df['item_name'] == 'Bowl'),:])"
   ]
  },
  {
   "cell_type": "markdown",
   "id": "2d9d43ff-d385-49b1-835b-41bd1367b221",
   "metadata": {
    "jp-MarkdownHeadingCollapsed": true
   },
   "source": [
    "## df의 item_name 컬럼 값이 Steak Salad 또는 Bowl인 데이터를 데이터 프레임화 한 후, item_name을 기준으로 중복행이 있으면 첫번째 행만 남기고 제거"
   ]
  },
  {
   "cell_type": "code",
   "execution_count": 33,
   "id": "bc49e049-42ca-4847-82f2-cc952dbe5b5a",
   "metadata": {},
   "outputs": [
    {
     "name": "stdout",
     "output_type": "stream",
     "text": [
      "     order_id  quantity    item_name  \\\n",
      "445       193         3         Bowl   \n",
      "664       276         1  Steak Salad   \n",
      "\n",
      "                                    choice_description item_price  new_price  \n",
      "445  [Braised Carnitas, Pinto Beans, [Sour Cream, C...    $22.20       22.20  \n",
      "664  [Tomatillo-Red Chili Salsa (Hot), [Black Beans...     $8.99        8.99  \n"
     ]
    }
   ],
   "source": [
    "print(df.loc[(df['item_name']=='Steak Salad')|(df['item_name']=='Bowl')].drop_duplicates('item_name'))"
   ]
  },
  {
   "cell_type": "markdown",
   "id": "6cd8b808-2312-40f1-9027-56014b072a94",
   "metadata": {
    "jp-MarkdownHeadingCollapsed": true
   },
   "source": [
    "## df의 item_name 컬럼 값이 Steak Salad 또는 Bowl인 데이터를 데이터 프레임화 한 후, item_name을 기준으로 중복행이 있으면 마지막 행만 남기고 제거\n",
    "- ### 마지막 행만 남기기"
   ]
  },
  {
   "cell_type": "code",
   "execution_count": 34,
   "id": "6da1bf86-afa9-4d05-b022-88493d779e7f",
   "metadata": {},
   "outputs": [
    {
     "name": "stdout",
     "output_type": "stream",
     "text": [
      "      order_id  quantity    item_name  \\\n",
      "673        279         1         Bowl   \n",
      "3502      1406         1  Steak Salad   \n",
      "\n",
      "                                     choice_description item_price  new_price  \n",
      "673   [Adobo-Marinated and Grilled Steak, [Sour Crea...     $7.40        7.40  \n",
      "3502                        [[Lettuce, Fajita Veggies]]     $8.69        8.69  \n"
     ]
    }
   ],
   "source": [
    "print(df.loc[(df['item_name']=='Steak Salad')|(df['item_name']=='Bowl')].drop_duplicates('item_name',keep='last'))"
   ]
  },
  {
   "cell_type": "markdown",
   "id": "9a837b73-d058-452d-bac8-706942870097",
   "metadata": {
    "jp-MarkdownHeadingCollapsed": true
   },
   "source": [
    "## df의 데이터 중 new_price 값이 new_price 값의 평균값 이상을 가지는 데이터 인덱싱"
   ]
  },
  {
   "cell_type": "code",
   "execution_count": 35,
   "id": "fb4afba1-e879-4ee6-9a20-4f91817965f8",
   "metadata": {},
   "outputs": [
    {
     "name": "stdout",
     "output_type": "stream",
     "text": [
      "      order_id  quantity           item_name  \\\n",
      "4            2         2        Chicken Bowl   \n",
      "5            3         1        Chicken Bowl   \n",
      "7            4         1       Steak Burrito   \n",
      "8            4         1    Steak Soft Tacos   \n",
      "9            5         1       Steak Burrito   \n",
      "...        ...       ...                 ...   \n",
      "4617      1833         1       Steak Burrito   \n",
      "4618      1833         1       Steak Burrito   \n",
      "4619      1834         1  Chicken Salad Bowl   \n",
      "4620      1834         1  Chicken Salad Bowl   \n",
      "4621      1834         1  Chicken Salad Bowl   \n",
      "\n",
      "                                     choice_description item_price  new_price  \n",
      "4     [Tomatillo-Red Chili Salsa (Hot), [Black Beans...    $16.98       16.98  \n",
      "5     [Fresh Tomato Salsa (Mild), [Rice, Cheese, Sou...    $10.98       10.98  \n",
      "7     [Tomatillo Red Chili Salsa, [Fajita Vegetables...    $11.75       11.75  \n",
      "8     [Tomatillo Green Chili Salsa, [Pinto Beans, Ch...     $9.25        9.25  \n",
      "9     [Fresh Tomato Salsa, [Rice, Black Beans, Pinto...     $9.25        9.25  \n",
      "...                                                 ...        ...        ...  \n",
      "4617  [Fresh Tomato Salsa, [Rice, Black Beans, Sour ...    $11.75       11.75  \n",
      "4618  [Fresh Tomato Salsa, [Rice, Sour Cream, Cheese...    $11.75       11.75  \n",
      "4619  [Fresh Tomato Salsa, [Fajita Vegetables, Pinto...    $11.25       11.25  \n",
      "4620  [Fresh Tomato Salsa, [Fajita Vegetables, Lettu...     $8.75        8.75  \n",
      "4621  [Fresh Tomato Salsa, [Fajita Vegetables, Pinto...     $8.75        8.75  \n",
      "\n",
      "[2890 rows x 6 columns]\n"
     ]
    }
   ],
   "source": [
    "print(df.loc[df['new_price']>=df['new_price'].mean()])"
   ]
  },
  {
   "cell_type": "markdown",
   "id": "48f28f72-f91f-4a9f-afd7-bbbf55494523",
   "metadata": {
    "jp-MarkdownHeadingCollapsed": true
   },
   "source": [
    "## df의 데이터 중 item_name의 값이 Izze 데이터를 FIzzy Lizzy로 수정"
   ]
  },
  {
   "cell_type": "code",
   "execution_count": 36,
   "id": "a40d3821-96f7-4a6a-a385-72bb65e06e1b",
   "metadata": {},
   "outputs": [
    {
     "name": "stdout",
     "output_type": "stream",
     "text": [
      "         order_id     quantity                              item_name  \\\n",
      "0               1            1           Chips and Fresh Tomato Salsa   \n",
      "1     Flzzy Lizzy  Flzzy Lizzy                            Flzzy Lizzy   \n",
      "2               1            1                       Nantucket Nectar   \n",
      "3               1            1  Chips and Tomatillo-Green Chili Salsa   \n",
      "4               2            2                           Chicken Bowl   \n",
      "...           ...          ...                                    ...   \n",
      "4617         1833            1                          Steak Burrito   \n",
      "4618         1833            1                          Steak Burrito   \n",
      "4619         1834            1                     Chicken Salad Bowl   \n",
      "4620         1834            1                     Chicken Salad Bowl   \n",
      "4621         1834            1                     Chicken Salad Bowl   \n",
      "\n",
      "                                     choice_description   item_price  \\\n",
      "0                                                   NaN       $2.39    \n",
      "1                                           Flzzy Lizzy  Flzzy Lizzy   \n",
      "2                                               [Apple]       $3.39    \n",
      "3                                                   NaN       $2.39    \n",
      "4     [Tomatillo-Red Chili Salsa (Hot), [Black Beans...      $16.98    \n",
      "...                                                 ...          ...   \n",
      "4617  [Fresh Tomato Salsa, [Rice, Black Beans, Sour ...      $11.75    \n",
      "4618  [Fresh Tomato Salsa, [Rice, Sour Cream, Cheese...      $11.75    \n",
      "4619  [Fresh Tomato Salsa, [Fajita Vegetables, Pinto...      $11.25    \n",
      "4620  [Fresh Tomato Salsa, [Fajita Vegetables, Lettu...       $8.75    \n",
      "4621  [Fresh Tomato Salsa, [Fajita Vegetables, Pinto...       $8.75    \n",
      "\n",
      "        new_price  \n",
      "0            2.39  \n",
      "1     Flzzy Lizzy  \n",
      "2            3.39  \n",
      "3            2.39  \n",
      "4           16.98  \n",
      "...           ...  \n",
      "4617        11.75  \n",
      "4618        11.75  \n",
      "4619        11.25  \n",
      "4620         8.75  \n",
      "4621         8.75  \n",
      "\n",
      "[4622 rows x 6 columns]\n"
     ]
    },
    {
     "name": "stderr",
     "output_type": "stream",
     "text": [
      "/tmp/ipykernel_33564/3716510020.py:1: FutureWarning: Setting an item of incompatible dtype is deprecated and will raise an error in a future version of pandas. Value 'Flzzy Lizzy' has dtype incompatible with int64, please explicitly cast to a compatible dtype first.\n",
      "  df.loc[df.item_name == 'Izze'] = 'Flzzy Lizzy'\n",
      "/tmp/ipykernel_33564/3716510020.py:1: FutureWarning: Setting an item of incompatible dtype is deprecated and will raise an error in a future version of pandas. Value 'Flzzy Lizzy' has dtype incompatible with int64, please explicitly cast to a compatible dtype first.\n",
      "  df.loc[df.item_name == 'Izze'] = 'Flzzy Lizzy'\n",
      "/tmp/ipykernel_33564/3716510020.py:1: FutureWarning: Setting an item of incompatible dtype is deprecated and will raise an error in a future version of pandas. Value 'Flzzy Lizzy' has dtype incompatible with float64, please explicitly cast to a compatible dtype first.\n",
      "  df.loc[df.item_name == 'Izze'] = 'Flzzy Lizzy'\n"
     ]
    }
   ],
   "source": [
    "df.loc[df.item_name == 'Izze'] = 'Flzzy Lizzy'\n",
    "print(df)"
   ]
  },
  {
   "cell_type": "markdown",
   "id": "8945faa9-3bc6-4b48-9a5f-765ab78fe2ea",
   "metadata": {
    "jp-MarkdownHeadingCollapsed": true
   },
   "source": [
    "## df의 데이터 중 choice_description 값이 NaN인 데이터의 갯수"
   ]
  },
  {
   "cell_type": "code",
   "execution_count": 37,
   "id": "4a4a3571-15c3-4f19-9527-cad4c5c43e70",
   "metadata": {},
   "outputs": [
    {
     "name": "stdout",
     "output_type": "stream",
     "text": [
      "1246\n"
     ]
    }
   ],
   "source": [
    "print(df['choice_description'].isna().sum())"
   ]
  },
  {
   "cell_type": "markdown",
   "id": "1bb2976f-75f3-4228-8d77-b41de59c2a03",
   "metadata": {
    "jp-MarkdownHeadingCollapsed": true
   },
   "source": [
    "## df의 데이터 중 choice_description 값이 NaN인 데이터를 NoData 값으로 대체하라(loc 이용)"
   ]
  },
  {
   "cell_type": "code",
   "execution_count": 38,
   "id": "abda9773-a618-46a4-a461-de92537b4946",
   "metadata": {},
   "outputs": [
    {
     "name": "stdout",
     "output_type": "stream",
     "text": [
      "         order_id     quantity                              item_name  \\\n",
      "0               1            1           Chips and Fresh Tomato Salsa   \n",
      "1     Flzzy Lizzy  Flzzy Lizzy                            Flzzy Lizzy   \n",
      "2               1            1                       Nantucket Nectar   \n",
      "3               1            1  Chips and Tomatillo-Green Chili Salsa   \n",
      "4               2            2                           Chicken Bowl   \n",
      "...           ...          ...                                    ...   \n",
      "4617         1833            1                          Steak Burrito   \n",
      "4618         1833            1                          Steak Burrito   \n",
      "4619         1834            1                     Chicken Salad Bowl   \n",
      "4620         1834            1                     Chicken Salad Bowl   \n",
      "4621         1834            1                     Chicken Salad Bowl   \n",
      "\n",
      "                                     choice_description   item_price  \\\n",
      "0                                                NoData       $2.39    \n",
      "1                                           Flzzy Lizzy  Flzzy Lizzy   \n",
      "2                                               [Apple]       $3.39    \n",
      "3                                                NoData       $2.39    \n",
      "4     [Tomatillo-Red Chili Salsa (Hot), [Black Beans...      $16.98    \n",
      "...                                                 ...          ...   \n",
      "4617  [Fresh Tomato Salsa, [Rice, Black Beans, Sour ...      $11.75    \n",
      "4618  [Fresh Tomato Salsa, [Rice, Sour Cream, Cheese...      $11.75    \n",
      "4619  [Fresh Tomato Salsa, [Fajita Vegetables, Pinto...      $11.25    \n",
      "4620  [Fresh Tomato Salsa, [Fajita Vegetables, Lettu...       $8.75    \n",
      "4621  [Fresh Tomato Salsa, [Fajita Vegetables, Pinto...       $8.75    \n",
      "\n",
      "        new_price  \n",
      "0            2.39  \n",
      "1     Flzzy Lizzy  \n",
      "2            3.39  \n",
      "3            2.39  \n",
      "4           16.98  \n",
      "...           ...  \n",
      "4617        11.75  \n",
      "4618        11.75  \n",
      "4619        11.25  \n",
      "4620         8.75  \n",
      "4621         8.75  \n",
      "\n",
      "[4622 rows x 6 columns]\n"
     ]
    }
   ],
   "source": [
    "df.loc[df.choice_description.isnull(),'choice_description'] = 'NoData'\n",
    "print(df)"
   ]
  },
  {
   "cell_type": "markdown",
   "id": "671c3ba8-e33c-44b2-ac63-e06810bacf7c",
   "metadata": {
    "jp-MarkdownHeadingCollapsed": true
   },
   "source": [
    "## df의 데이터 중 choice_description 값에 Black이 들어가는 경우를 인덱싱"
   ]
  },
  {
   "cell_type": "code",
   "execution_count": 39,
   "id": "7e49998c-3831-46e9-b9f5-b92895641a64",
   "metadata": {},
   "outputs": [
    {
     "name": "stdout",
     "output_type": "stream",
     "text": [
      "     order_id quantity             item_name  \\\n",
      "4           2        2          Chicken Bowl   \n",
      "7           4        1         Steak Burrito   \n",
      "9           5        1         Steak Burrito   \n",
      "11          6        1  Chicken Crispy Tacos   \n",
      "12          6        1    Chicken Soft Tacos   \n",
      "...       ...      ...                   ...   \n",
      "4604     1828        1          Chicken Bowl   \n",
      "4608     1829        1        Veggie Burrito   \n",
      "4611     1830        1        Veggie Burrito   \n",
      "4612     1831        1         Carnitas Bowl   \n",
      "4617     1833        1         Steak Burrito   \n",
      "\n",
      "                                     choice_description item_price new_price  \n",
      "4     [Tomatillo-Red Chili Salsa (Hot), [Black Beans...    $16.98      16.98  \n",
      "7     [Tomatillo Red Chili Salsa, [Fajita Vegetables...    $11.75      11.75  \n",
      "9     [Fresh Tomato Salsa, [Rice, Black Beans, Pinto...     $9.25       9.25  \n",
      "11    [Roasted Chili Corn Salsa, [Fajita Vegetables,...     $8.75       8.75  \n",
      "12    [Roasted Chili Corn Salsa, [Rice, Black Beans,...     $8.75       8.75  \n",
      "...                                                 ...        ...       ...  \n",
      "4604  [Fresh Tomato Salsa, [Rice, Black Beans, Chees...     $8.75       8.75  \n",
      "4608  [Tomatillo Red Chili Salsa, [Fajita Vegetables...    $11.25      11.25  \n",
      "4611  [Tomatillo Green Chili Salsa, [Rice, Fajita Ve...    $11.25      11.25  \n",
      "4612  [Fresh Tomato Salsa, [Fajita Vegetables, Rice,...     $9.25       9.25  \n",
      "4617  [Fresh Tomato Salsa, [Rice, Black Beans, Sour ...    $11.75      11.75  \n",
      "\n",
      "[1345 rows x 6 columns]\n"
     ]
    }
   ],
   "source": [
    "print(df.loc[df.choice_description.str.contains('Black')])"
   ]
  },
  {
   "cell_type": "markdown",
   "id": "7b77f939-55f5-488d-a691-b9d7f141ac97",
   "metadata": {
    "jp-MarkdownHeadingCollapsed": true
   },
   "source": [
    "## df의 데이터 중 choice_description 값에 Vegetables이 들어가지 않는 경우의 갯수 출력\n",
    "- ### not 조건문 사용"
   ]
  },
  {
   "cell_type": "code",
   "execution_count": 43,
   "id": "452b089a-479e-418d-a35b-bdc21b503ecf",
   "metadata": {},
   "outputs": [
    {
     "name": "stdout",
     "output_type": "stream",
     "text": [
      "3900\n"
     ]
    }
   ],
   "source": [
    "print(len(df.loc[~df.choice_description.str.contains('Vegetables')]))"
   ]
  },
  {
   "cell_type": "markdown",
   "id": "970e5a19-be51-4f69-907f-4522af2b380c",
   "metadata": {
    "jp-MarkdownHeadingCollapsed": true
   },
   "source": [
    "## df의 데이터 중 item_name 값이 N으로 시작하는 데이터를 모두 추출"
   ]
  },
  {
   "cell_type": "code",
   "execution_count": 45,
   "id": "5263d79e-c278-4143-a719-ee3ff03d0031",
   "metadata": {},
   "outputs": [
    {
     "name": "stdout",
     "output_type": "stream",
     "text": [
      "     order_id quantity         item_name         choice_description  \\\n",
      "2           1        1  Nantucket Nectar                    [Apple]   \n",
      "22         11        1  Nantucket Nectar       [Pomegranate Cherry]   \n",
      "105        46        1  Nantucket Nectar  [Pineapple Orange Banana]   \n",
      "173        77        1  Nantucket Nectar                    [Apple]   \n",
      "205        91        1  Nantucket Nectar             [Peach Orange]   \n",
      "436       189        1  Nantucket Nectar       [Pomegranate Cherry]   \n",
      "601       247        2  Nantucket Nectar  [Pineapple Orange Banana]   \n",
      "925       381        1  Nantucket Nectar       [Pomegranate Cherry]   \n",
      "1356      553        1  Nantucket Nectar       [Pomegranate Cherry]   \n",
      "1585      641        1  Nantucket Nectar             [Peach Orange]   \n",
      "1626      656        1  Nantucket Nectar  [Pineapple Orange Banana]   \n",
      "1706      690        1  Nantucket Nectar                    [Apple]   \n",
      "2162      872        1  Nantucket Nectar  [Pineapple Orange Banana]   \n",
      "2379      947        2  Nantucket Nectar             [Peach Orange]   \n",
      "2381      947        1  Nantucket Nectar                    [Apple]   \n",
      "2430      965        1  Nantucket Nectar       [Pomegranate Cherry]   \n",
      "2653     1053        1  Nantucket Nectar  [Pineapple Orange Banana]   \n",
      "2818     1118        1  Nantucket Nectar                    [Apple]   \n",
      "2838     1128        1  Nantucket Nectar             [Peach Orange]   \n",
      "2853     1133        1  Nantucket Nectar                    [Apple]   \n",
      "2949     1172        1  Nantucket Nectar             [Peach Orange]   \n",
      "3318     1330        1  Nantucket Nectar             [Peach Orange]   \n",
      "3368     1351        1  Nantucket Nectar  [Pineapple Orange Banana]   \n",
      "3570     1433        1  Nantucket Nectar  [Pineapple Orange Banana]   \n",
      "3845     1541        1  Nantucket Nectar             [Peach Orange]   \n",
      "4019     1609        1  Nantucket Nectar  [Pineapple Orange Banana]   \n",
      "4078     1632        1  Nantucket Nectar             [Peach Orange]   \n",
      "\n",
      "     item_price new_price  \n",
      "2        $3.39       3.39  \n",
      "22       $3.39       3.39  \n",
      "105      $3.39       3.39  \n",
      "173      $3.39       3.39  \n",
      "205      $3.39       3.39  \n",
      "436      $3.39       3.39  \n",
      "601      $6.78       6.78  \n",
      "925      $3.39       3.39  \n",
      "1356     $3.39       3.39  \n",
      "1585     $3.39       3.39  \n",
      "1626     $3.39       3.39  \n",
      "1706     $3.39       3.39  \n",
      "2162     $3.39       3.39  \n",
      "2379     $6.78       6.78  \n",
      "2381     $3.39       3.39  \n",
      "2430     $3.39       3.39  \n",
      "2653     $3.39       3.39  \n",
      "2818     $3.39       3.39  \n",
      "2838     $3.39       3.39  \n",
      "2853     $3.39       3.39  \n",
      "2949     $3.39       3.39  \n",
      "3318     $3.39       3.39  \n",
      "3368     $3.39       3.39  \n",
      "3570     $3.39       3.39  \n",
      "3845     $3.39       3.39  \n",
      "4019     $3.39       3.39  \n",
      "4078     $3.39       3.39  \n"
     ]
    }
   ],
   "source": [
    "print(df.loc[df.item_name.str.startswith('N')])"
   ]
  },
  {
   "cell_type": "markdown",
   "id": "52182af4-810b-4282-a69d-15bf155df7ba",
   "metadata": {
    "jp-MarkdownHeadingCollapsed": true
   },
   "source": [
    "## df의 데이터 중 item_name 값의 단어 길이가 15개 이상인 데이터를 인덱싱"
   ]
  },
  {
   "cell_type": "code",
   "execution_count": 48,
   "id": "f8f7fa92-4cac-4606-b114-c6db4a89f1bb",
   "metadata": {},
   "outputs": [
    {
     "name": "stdout",
     "output_type": "stream",
     "text": [
      "     order_id quantity                              item_name  \\\n",
      "0           1        1           Chips and Fresh Tomato Salsa   \n",
      "2           1        1                       Nantucket Nectar   \n",
      "3           1        1  Chips and Tomatillo-Green Chili Salsa   \n",
      "8           4        1                       Steak Soft Tacos   \n",
      "10          5        1                    Chips and Guacamole   \n",
      "...       ...      ...                                    ...   \n",
      "4615     1832        1                     Chicken Soft Tacos   \n",
      "4616     1832        1                    Chips and Guacamole   \n",
      "4619     1834        1                     Chicken Salad Bowl   \n",
      "4620     1834        1                     Chicken Salad Bowl   \n",
      "4621     1834        1                     Chicken Salad Bowl   \n",
      "\n",
      "                                     choice_description item_price new_price  \n",
      "0                                                NoData     $2.39       2.39  \n",
      "2                                               [Apple]     $3.39       3.39  \n",
      "3                                                NoData     $2.39       2.39  \n",
      "8     [Tomatillo Green Chili Salsa, [Pinto Beans, Ch...     $9.25       9.25  \n",
      "10                                               NoData     $4.45       4.45  \n",
      "...                                                 ...        ...       ...  \n",
      "4615   [Fresh Tomato Salsa, [Rice, Cheese, Sour Cream]]     $8.75       8.75  \n",
      "4616                                             NoData     $4.45       4.45  \n",
      "4619  [Fresh Tomato Salsa, [Fajita Vegetables, Pinto...    $11.25      11.25  \n",
      "4620  [Fresh Tomato Salsa, [Fajita Vegetables, Lettu...     $8.75       8.75  \n",
      "4621  [Fresh Tomato Salsa, [Fajita Vegetables, Pinto...     $8.75       8.75  \n",
      "\n",
      "[2373 rows x 6 columns]\n"
     ]
    }
   ],
   "source": [
    "print(df[df.item_name.str.len() >= 15])"
   ]
  },
  {
   "cell_type": "markdown",
   "id": "21163dad-1f43-47fc-9af1-2cfa6f42a56c",
   "metadata": {
    "jp-MarkdownHeadingCollapsed": true
   },
   "source": [
    "## df의 데이터 중 new_price 값이 lst에 해당하는 경우의 데이터 프레임 갯수 출력\n",
    "- ### 그룹 내에 포함되어 있는 값 찾기"
   ]
  },
  {
   "cell_type": "code",
   "execution_count": 51,
   "id": "f895834a-a0f9-41d7-a7a0-508a4415d66c",
   "metadata": {},
   "outputs": [
    {
     "name": "stdout",
     "output_type": "stream",
     "text": [
      "1373\n"
     ]
    }
   ],
   "source": [
    "lst =[1.69, 2.39, 3.39, 4.45, 9.25, 10.98, 11.75, 16.98]\n",
    "print(len(df.loc[df.new_price.isin(lst)]))"
   ]
  },
  {
   "cell_type": "markdown",
   "id": "28c72679-eb21-472a-858d-a555a0ba3f81",
   "metadata": {},
   "source": [
    "# CHAPTER 03 : Grouping\n",
    "- group 별 빈도수 구하기\n",
    "- 컬럼명 변경하기\n",
    "- 그룹으"
   ]
  },
  {
   "cell_type": "markdown",
   "id": "a2630f68-c32d-4a32-9669-b2d660e24224",
   "metadata": {
    "jp-MarkdownHeadingCollapsed": true
   },
   "source": [
    "## 데이터 로드"
   ]
  },
  {
   "cell_type": "code",
   "execution_count": 53,
   "id": "5366bdca-e18b-46ef-ac06-0b8c64d9fa04",
   "metadata": {},
   "outputs": [
    {
     "name": "stdout",
     "output_type": "stream",
     "text": [
      "     id                                              name  host_id  \\\n",
      "0  2539                Clean & quiet apt home by the park     2787   \n",
      "1  2595                             Skylit Midtown Castle     2845   \n",
      "2  3647               THE VILLAGE OF HARLEM....NEW YORK !     4632   \n",
      "3  3831                   Cozy Entire Floor of Brownstone     4869   \n",
      "4  5022  Entire Apt: Spacious Studio/Loft by central park     7192   \n",
      "\n",
      "     host_name neighbourhood_group neighbourhood  latitude  longitude  \\\n",
      "0         John            Brooklyn    Kensington  40.64749  -73.97237   \n",
      "1     Jennifer           Manhattan       Midtown  40.75362  -73.98377   \n",
      "2    Elisabeth           Manhattan        Harlem  40.80902  -73.94190   \n",
      "3  LisaRoxanne            Brooklyn  Clinton Hill  40.68514  -73.95976   \n",
      "4        Laura           Manhattan   East Harlem  40.79851  -73.94399   \n",
      "\n",
      "         room_type  price  minimum_nights  number_of_reviews last_review  \\\n",
      "0     Private room    149               1                  9  2018-10-19   \n",
      "1  Entire home/apt    225               1                 45  2019-05-21   \n",
      "2     Private room    150               3                  0         NaN   \n",
      "3  Entire home/apt     89               1                270  2019-07-05   \n",
      "4  Entire home/apt     80              10                  9  2018-11-19   \n",
      "\n",
      "   reviews_per_month  calculated_host_listings_count  availability_365  \n",
      "0               0.21                               6               365  \n",
      "1               0.38                               2               355  \n",
      "2                NaN                               1               365  \n",
      "3               4.64                               1               194  \n",
      "4               0.10                               1                 0  \n"
     ]
    }
   ],
   "source": [
    "df= pd.read_csv('https://raw.githubusercontent.com/Datamanim/pandas/main/AB_NYC_2019.csv')\n",
    "print(df.head(5))"
   ]
  },
  {
   "cell_type": "markdown",
   "id": "286ce85c-508c-47ef-bddd-33322b5ec460",
   "metadata": {
    "jp-MarkdownHeadingCollapsed": true
   },
   "source": [
    "## 데이터의 각 host_name의 빈도수를 구하고 host_name으로 정렬하여 상위 5개 출력\n",
    "- ### group별 빈도수 구하기"
   ]
  },
  {
   "cell_type": "code",
   "execution_count": 64,
   "id": "ca91a169-1b78-46cc-bea1-64e58a0b158a",
   "metadata": {},
   "outputs": [
    {
     "name": "stdout",
     "output_type": "stream",
     "text": [
      "host_name\n",
      "'Cil                        1\n",
      "(Ari) HENRY LEE             1\n",
      "(Email hidden by Airbnb)    6\n",
      "(Mary) Haiy                 1\n",
      "-TheQueensCornerLot         1\n",
      "dtype: int64\n"
     ]
    }
   ],
   "source": [
    "print(df.groupby('host_name').size().head(5))"
   ]
  },
  {
   "cell_type": "markdown",
   "id": "5df5f899-2e5f-4d6a-b24d-412ff56a7ad2",
   "metadata": {
    "jp-MarkdownHeadingCollapsed": true
   },
   "source": [
    "## 데이터의 각 host_name의 빈도수를 구하고 빈도수 기준 내림차순 정렬한 데이터 프레임 출력, 빈도수 컬럼은 counts로 명명\n",
    "- ### 컬럼명 변경하기"
   ]
  },
  {
   "cell_type": "code",
   "execution_count": 73,
   "id": "180fb1dd-f6cb-4068-a21e-e9b2ef3683c6",
   "metadata": {},
   "outputs": [
    {
     "name": "stdout",
     "output_type": "stream",
     "text": [
      "              counts\n",
      "host_name           \n",
      "Michael          417\n",
      "David            403\n",
      "Sonder (NYC)     327\n",
      "John             294\n",
      "Alex             279\n",
      "...              ...\n",
      "Jerbean            1\n",
      "Jerald             1\n",
      "Jeonghoon          1\n",
      "Jeny               1\n",
      "현선                 1\n",
      "\n",
      "[11452 rows x 1 columns]\n"
     ]
    }
   ],
   "source": [
    "df_group = df.groupby('host_name').size().to_frame().rename(columns={0:'counts'}).sort_values('counts',ascending=False)\n",
    "print(df_group)"
   ]
  },
  {
   "cell_type": "markdown",
   "id": "2fd4c0f8-4116-4457-8bcb-ce3c8bf1d7bf",
   "metadata": {
    "jp-MarkdownHeadingCollapsed": true
   },
   "source": [
    "## neighbourhood_group의 값에 따른 neighbourhood 컬럼 값의 갯수 "
   ]
  },
  {
   "cell_type": "code",
   "execution_count": 80,
   "id": "af234abe-b072-4e1c-809e-d442186a67ad",
   "metadata": {},
   "outputs": [
    {
     "name": "stdout",
     "output_type": "stream",
     "text": [
      "    neighbourhood_group  neighbourhood   0\n",
      "0                 Bronx       Allerton  42\n",
      "1                 Bronx     Baychester   7\n",
      "2                 Bronx        Belmont  24\n",
      "3                 Bronx      Bronxdale  19\n",
      "4                 Bronx    Castle Hill   9\n",
      "..                  ...            ...  ..\n",
      "216       Staten Island    Tottenville   7\n",
      "217       Staten Island  West Brighton  18\n",
      "218       Staten Island    Westerleigh   2\n",
      "219       Staten Island    Willowbrook   1\n",
      "220       Staten Island        Woodrow   1\n",
      "\n",
      "[221 rows x 3 columns]\n"
     ]
    }
   ],
   "source": [
    "print(df.groupby(['neighbourhood_group','neighbourhood']).size().reset_index())"
   ]
  },
  {
   "cell_type": "markdown",
   "id": "4c0c8302-bbd3-4d30-bab6-0cc55cd56d2c",
   "metadata": {
    "jp-MarkdownHeadingCollapsed": true
   },
   "source": [
    "## neighbourhood_group의 값에 따른 neighbourhood 컬럼값 중 neighbourhood_group 그룹의 최대값들을 출력\n",
    "- ### 그룹의 최대값 구하기"
   ]
  },
  {
   "cell_type": "code",
   "execution_count": 85,
   "id": "811ebee5-3f07-4255-a965-f6f99f0d96a6",
   "metadata": {},
   "outputs": [
    {
     "name": "stdout",
     "output_type": "stream",
     "text": [
      "                       neighbourhood     0\n",
      "neighbourhood_group                       \n",
      "Bronx                       Woodlawn    70\n",
      "Brooklyn             Windsor Terrace  3920\n",
      "Manhattan               West Village  2658\n",
      "Queens                      Woodside   900\n",
      "Staten Island                Woodrow    48\n"
     ]
    }
   ],
   "source": [
    "print(df.groupby(['neighbourhood_group','neighbourhood']).size().reset_index().groupby('neighbourhood_group').max())"
   ]
  },
  {
   "cell_type": "markdown",
   "id": "6386e8dc-6c86-435a-ada6-bf90fa95eeac",
   "metadata": {
    "jp-MarkdownHeadingCollapsed": true
   },
   "source": [
    "## neighbourhood_group 값에 따른 price값의 평균, 분산, 최대, 최소 값\n",
    "- ### 평균, 분산, 최대, 최소 값 구하기"
   ]
  },
  {
   "cell_type": "code",
   "execution_count": 89,
   "id": "d6c6eadf-f8e5-45b9-aa99-0c47896e81c5",
   "metadata": {},
   "outputs": [
    {
     "name": "stdout",
     "output_type": "stream",
     "text": [
      "                          price                         \n",
      "                           mean           var    max min\n",
      "neighbourhood_group                                     \n",
      "Bronx                 87.496792  11386.885081   2500   0\n",
      "Brooklyn             124.383207  34921.719135  10000   0\n",
      "Manhattan            196.875814  84904.159185  10000   0\n",
      "Queens                99.517649  27923.130227  10000  10\n",
      "Staten Island        114.812332  77073.088342   5000  13\n"
     ]
    }
   ],
   "source": [
    "print(df[['neighbourhood_group','price']].groupby('neighbourhood_group').agg(['mean','var','max','min']))"
   ]
  },
  {
   "cell_type": "markdown",
   "id": "d2378da6-1c89-48d6-8cc4-660a28ba5c1d",
   "metadata": {
    "jp-MarkdownHeadingCollapsed": true
   },
   "source": [
    "## neighbourhood_group 값에 따른 reviews_per_month 값의 평균, 분산, 최대, 최소 값"
   ]
  },
  {
   "cell_type": "code",
   "execution_count": 90,
   "id": "f4cd9b01-b552-42de-8d6f-9b3a6bef4741",
   "metadata": {},
   "outputs": [
    {
     "name": "stdout",
     "output_type": "stream",
     "text": [
      "                    reviews_per_month                       \n",
      "                                 mean       var    max   min\n",
      "neighbourhood_group                                         \n",
      "Bronx                        1.837831  2.799878  10.34  0.02\n",
      "Brooklyn                     1.283212  2.299040  14.00  0.01\n",
      "Manhattan                    1.272131  2.651206  58.50  0.01\n",
      "Queens                       1.941200  4.897848  20.94  0.01\n",
      "Staten Island                1.872580  2.840895  10.12  0.02\n"
     ]
    }
   ],
   "source": [
    "print(df[['neighbourhood_group','reviews_per_month']].groupby('neighbourhood_group').agg(['mean','var','max','min']))"
   ]
  },
  {
   "cell_type": "markdown",
   "id": "65969fe9-6639-4ac4-9a0d-b2f7980e8be7",
   "metadata": {
    "jp-MarkdownHeadingCollapsed": true
   },
   "source": [
    "## neighbourhood 값과 neighboorhooud_group 값에 따른 price의 평균 "
   ]
  },
  {
   "cell_type": "code",
   "execution_count": 93,
   "id": "7a0830db-58c3-4737-bf4f-9bdb69f3009a",
   "metadata": {},
   "outputs": [
    {
     "name": "stdout",
     "output_type": "stream",
     "text": [
      "                                           mean\n",
      "neighbourhood   neighbourhood_group            \n",
      "Allerton        Bronx                 87.595238\n",
      "Arden Heights   Staten Island         67.250000\n",
      "Arrochar        Staten Island        115.000000\n",
      "Arverne         Queens               171.779221\n",
      "Astoria         Queens               117.187778\n",
      "...                                         ...\n",
      "Windsor Terrace Brooklyn             138.993631\n",
      "Woodhaven       Queens                67.170455\n",
      "Woodlawn        Bronx                 60.090909\n",
      "Woodrow         Staten Island        700.000000\n",
      "Woodside        Queens                85.097872\n",
      "\n",
      "[221 rows x 1 columns]\n"
     ]
    }
   ],
   "source": [
    "print(df.groupby(['neighbourhood','neighbourhood_group']).price.agg(['mean']))"
   ]
  },
  {
   "cell_type": "markdown",
   "id": "9b5ff6b7-d9bb-48fc-b9d5-aa13dd210aef",
   "metadata": {
    "jp-MarkdownHeadingCollapsed": true
   },
   "source": [
    "## neighborhood 값과 neighborhood_group값에 따른 price의 평균을 계층적 indexing 없이 출력\n",
    "- ### pandas 없이 pivot table 만들기"
   ]
  },
  {
   "cell_type": "code",
   "execution_count": 98,
   "id": "dd63482b-c91d-46b5-9993-149ace486982",
   "metadata": {},
   "outputs": [
    {
     "name": "stdout",
     "output_type": "stream",
     "text": [
      "neighbourhood_group      Bronx    Brooklyn  Manhattan      Queens  \\\n",
      "neighbourhood                                                       \n",
      "Allerton             87.595238         NaN        NaN         NaN   \n",
      "Arden Heights              NaN         NaN        NaN         NaN   \n",
      "Arrochar                   NaN         NaN        NaN         NaN   \n",
      "Arverne                    NaN         NaN        NaN  171.779221   \n",
      "Astoria                    NaN         NaN        NaN  117.187778   \n",
      "...                        ...         ...        ...         ...   \n",
      "Windsor Terrace            NaN  138.993631        NaN         NaN   \n",
      "Woodhaven                  NaN         NaN        NaN   67.170455   \n",
      "Woodlawn             60.090909         NaN        NaN         NaN   \n",
      "Woodrow                    NaN         NaN        NaN         NaN   \n",
      "Woodside                   NaN         NaN        NaN   85.097872   \n",
      "\n",
      "neighbourhood_group  Staten Island  \n",
      "neighbourhood                       \n",
      "Allerton                       NaN  \n",
      "Arden Heights                67.25  \n",
      "Arrochar                    115.00  \n",
      "Arverne                        NaN  \n",
      "Astoria                        NaN  \n",
      "...                            ...  \n",
      "Windsor Terrace                NaN  \n",
      "Woodhaven                      NaN  \n",
      "Woodlawn                       NaN  \n",
      "Woodrow                     700.00  \n",
      "Woodside                       NaN  \n",
      "\n",
      "[221 rows x 5 columns]\n",
      "neighbourhood_group      Bronx    Brooklyn  Manhattan      Queens  \\\n",
      "neighbourhood                                                       \n",
      "Allerton             87.595238         NaN        NaN         NaN   \n",
      "Arden Heights              NaN         NaN        NaN         NaN   \n",
      "Arrochar                   NaN         NaN        NaN         NaN   \n",
      "Arverne                    NaN         NaN        NaN  171.779221   \n",
      "Astoria                    NaN         NaN        NaN  117.187778   \n",
      "...                        ...         ...        ...         ...   \n",
      "Windsor Terrace            NaN  138.993631        NaN         NaN   \n",
      "Woodhaven                  NaN         NaN        NaN   67.170455   \n",
      "Woodlawn             60.090909         NaN        NaN         NaN   \n",
      "Woodrow                    NaN         NaN        NaN         NaN   \n",
      "Woodside                   NaN         NaN        NaN   85.097872   \n",
      "\n",
      "neighbourhood_group  Staten Island  \n",
      "neighbourhood                       \n",
      "Allerton                       NaN  \n",
      "Arden Heights                67.25  \n",
      "Arrochar                    115.00  \n",
      "Arverne                        NaN  \n",
      "Astoria                        NaN  \n",
      "...                            ...  \n",
      "Windsor Terrace                NaN  \n",
      "Woodhaven                      NaN  \n",
      "Woodlawn                       NaN  \n",
      "Woodrow                     700.00  \n",
      "Woodside                       NaN  \n",
      "\n",
      "[221 rows x 5 columns]\n"
     ]
    }
   ],
   "source": [
    "print(pd.pivot_table(df,index='neighbourhood',columns='neighbourhood_group',values='price',aggfunc='mean'))\n",
    "print(df.groupby(['neighbourhood','neighbourhood_group']).price.mean().unstack())"
   ]
  },
  {
   "cell_type": "markdown",
   "id": "eecbd641-2a74-4ff4-8430-ac53dd86c9ad",
   "metadata": {
    "jp-MarkdownHeadingCollapsed": true
   },
   "source": [
    "## neighbourhood값과 neighbourhood_group 값에 따른 price의 평균을 계층적 indexing 없이 구하고 nan 값은 -999값으로 채우기\n",
    "- ### pivot table 결측값 채우기"
   ]
  },
  {
   "cell_type": "code",
   "execution_count": 99,
   "id": "37aea2d7-e4cf-456e-9b1b-eb846ba9923a",
   "metadata": {},
   "outputs": [
    {
     "name": "stdout",
     "output_type": "stream",
     "text": [
      "neighbourhood_group       Bronx    Brooklyn  Manhattan      Queens  \\\n",
      "neighbourhood                                                        \n",
      "Allerton              87.595238 -999.000000     -999.0 -999.000000   \n",
      "Arden Heights       -999.000000 -999.000000     -999.0 -999.000000   \n",
      "Arrochar            -999.000000 -999.000000     -999.0 -999.000000   \n",
      "Arverne             -999.000000 -999.000000     -999.0  171.779221   \n",
      "Astoria             -999.000000 -999.000000     -999.0  117.187778   \n",
      "...                         ...         ...        ...         ...   \n",
      "Windsor Terrace     -999.000000  138.993631     -999.0 -999.000000   \n",
      "Woodhaven           -999.000000 -999.000000     -999.0   67.170455   \n",
      "Woodlawn              60.090909 -999.000000     -999.0 -999.000000   \n",
      "Woodrow             -999.000000 -999.000000     -999.0 -999.000000   \n",
      "Woodside            -999.000000 -999.000000     -999.0   85.097872   \n",
      "\n",
      "neighbourhood_group  Staten Island  \n",
      "neighbourhood                       \n",
      "Allerton                   -999.00  \n",
      "Arden Heights                67.25  \n",
      "Arrochar                    115.00  \n",
      "Arverne                    -999.00  \n",
      "Astoria                    -999.00  \n",
      "...                            ...  \n",
      "Windsor Terrace            -999.00  \n",
      "Woodhaven                  -999.00  \n",
      "Woodlawn                   -999.00  \n",
      "Woodrow                     700.00  \n",
      "Woodside                   -999.00  \n",
      "\n",
      "[221 rows x 5 columns]\n"
     ]
    }
   ],
   "source": [
    "print(df.groupby(['neighbourhood','neighbourhood_group']).price.mean().unstack().fillna(-999))"
   ]
  },
  {
   "cell_type": "markdown",
   "id": "22fca802-e506-490f-89df-3c98198e3ac6",
   "metadata": {
    "jp-MarkdownHeadingCollapsed": true
   },
   "source": [
    "## 데이터 중 neighbourhood_group 값이 Queens 값을 가지는 데이터들 중 neighbourhood 그룹 별로 price 값의 평균, 분산, 최대, 최소값 출력"
   ]
  },
  {
   "cell_type": "code",
   "execution_count": 100,
   "id": "bae65299-6f3a-497c-b9c9-24a484753e09",
   "metadata": {},
   "outputs": [
    {
     "name": "stdout",
     "output_type": "stream",
     "text": [
      "                           mean            var    max  min\n",
      "neighbourhood                                             \n",
      "Arverne              171.779221   37383.411141   1500   35\n",
      "Astoria              117.187778  122428.811196  10000   25\n",
      "Bay Terrace          142.000000    6816.400000    258   32\n",
      "Bayside              157.948718  166106.470985   2600   30\n",
      "Bayswater             87.470588    2330.889706    230   45\n",
      "Belle Harbor         171.500000    8226.571429    350   85\n",
      "Bellerose             99.357143    3093.016484    240   42\n",
      "Breezy Point         213.333333    1008.333333    250  195\n",
      "Briarwood            105.875000   18503.165909   1000   30\n",
      "Cambria Heights       81.730769    2960.604615    250   31\n",
      "College Point         88.000000    6445.555556    400   44\n",
      "Corona                59.171875    2430.557292    359   23\n",
      "Ditmars Steinway      95.029126    4214.112785    600   22\n",
      "Douglaston            82.750000    2347.071429    178   40\n",
      "East Elmhurst         81.183784    4369.487779    700   16\n",
      "Edgemere              94.727273    4219.418182    200   40\n",
      "Elmhurst              80.459916    3896.563005    443   15\n",
      "Far Rockaway         165.862069   52575.980296    900   35\n",
      "Flushing              93.514085   12417.177448   1500   15\n",
      "Forest Hills         121.625000   44533.368881   2350   16\n",
      "Fresh Meadows         99.500000    6394.451613    375   39\n",
      "Glendale              90.796296    3230.882250    299   25\n",
      "Hollis                88.642857    1483.016484    175   50\n",
      "Holliswood           135.750000    5091.583333    239   79\n",
      "Howard Beach         115.400000    4241.936842    250   40\n",
      "Jackson Heights       80.897849    2150.470590    260   23\n",
      "Jamaica               95.770563    8067.047130   1000   10\n",
      "Jamaica Estates      182.947368   29006.052632    750   35\n",
      "Jamaica Hills        132.125000   11304.696429    325   50\n",
      "Kew Gardens           88.375000    2632.306452    219   35\n",
      "Kew Gardens Hills    112.307692    6230.621538    399   40\n",
      "Laurelton             95.333333    4355.529412    254   34\n",
      "Little Neck           75.200000    2368.700000    149   32\n",
      "Long Island City     127.465549   15529.503009   2000   30\n",
      "Maspeth               83.645455    2223.607089    245   11\n",
      "Middle Village       109.580645    3537.118280    265   28\n",
      "Neponsit             274.666667    5625.333333    350  200\n",
      "Ozone Park            85.274194    1705.415389    200   25\n",
      "Queens Village        83.933333    2386.470056    320   25\n",
      "Rego Park             83.877358    3659.003863    300   21\n",
      "Richmond Hill         87.117021    3474.147449    300   28\n",
      "Ridgewood             77.184397    2629.311889    375   20\n",
      "Rockaway Beach       132.178571    6254.622078    545   49\n",
      "Rosedale              76.694915    2963.939801    350   22\n",
      "South Ozone Park      82.400000    4619.989744    400   29\n",
      "Springfield Gardens   94.235294    2490.848739    300   40\n",
      "St. Albans           100.828947    9489.903684    600   25\n",
      "Sunnyside             84.865014    2727.746922    600   12\n",
      "Whitestone           107.545455   13632.072727    400   35\n",
      "Woodhaven             67.170455    1642.464864    250   10\n",
      "Woodside              85.097872    5001.900636    500   28\n"
     ]
    }
   ],
   "source": [
    "print(df.loc[df.neighbourhood_group == 'Queens'].groupby('neighbourhood').price.agg(['mean','var','max','min']))                                                                            "
   ]
  },
  {
   "cell_type": "markdown",
   "id": "ffce7a0c-bdfb-4978-8487-51da19d1f7cf",
   "metadata": {
    "jp-MarkdownHeadingCollapsed": true
   },
   "source": [
    "## 데이터 중 neighbourhood_group 값에 따른 room_type 컬럼의 숫자를 구하고 neighbourhood_group 값을 기준으로 각 값의 비율 출력\n",
    "- ### 각 값의 비율 출력"
   ]
  },
  {
   "cell_type": "code",
   "execution_count": 107,
   "id": "496ecd8d-7b44-44fb-a544-ee5aa5a4880c",
   "metadata": {},
   "outputs": [
    {
     "name": "stdout",
     "output_type": "stream",
     "text": [
      "room_type            Entire home/apt  Private room  Shared room\n",
      "neighbourhood_group                                            \n",
      "Bronx                       0.347388      0.597617     0.054995\n",
      "Brooklyn                    0.475478      0.503979     0.020543\n",
      "Manhattan                   0.609344      0.368496     0.022160\n",
      "Queens                      0.369926      0.595129     0.034945\n",
      "Staten Island               0.471850      0.504021     0.024129\n"
     ]
    },
    {
     "name": "stderr",
     "output_type": "stream",
     "text": [
      "/tmp/ipykernel_33564/3996703264.py:2: FutureWarning: Setting an item of incompatible dtype is deprecated and will raise in a future error of pandas. Value '[0.34738772 0.47547752 0.60934398 0.36992587 0.47184987]' has dtype incompatible with int64, please explicitly cast to a compatible dtype first.\n",
      "  df_group.loc[:,:] = (df_group.values/df_group.sum(axis=1).values.reshape(-1,1))\n",
      "/tmp/ipykernel_33564/3996703264.py:2: FutureWarning: Setting an item of incompatible dtype is deprecated and will raise in a future error of pandas. Value '[0.59761687 0.50397931 0.36849638 0.59512884 0.50402145]' has dtype incompatible with int64, please explicitly cast to a compatible dtype first.\n",
      "  df_group.loc[:,:] = (df_group.values/df_group.sum(axis=1).values.reshape(-1,1))\n",
      "/tmp/ipykernel_33564/3996703264.py:2: FutureWarning: Setting an item of incompatible dtype is deprecated and will raise in a future error of pandas. Value '[0.05499542 0.02054318 0.02215964 0.03494529 0.02412869]' has dtype incompatible with int64, please explicitly cast to a compatible dtype first.\n",
      "  df_group.loc[:,:] = (df_group.values/df_group.sum(axis=1).values.reshape(-1,1))\n"
     ]
    }
   ],
   "source": [
    "df_group = df[['neighbourhood_group','room_type']].groupby(['neighbourhood_group','room_type']).size().unstack()\n",
    "df_group.loc[:,:] = (df_group.values/df_group.sum(axis=1).values.reshape(-1,1))\n",
    "print(df_group)"
   ]
  },
  {
   "cell_type": "code",
   "execution_count": null,
   "id": "bbef55cb-9cd4-401e-bbff-04c65c6c0aa4",
   "metadata": {},
   "outputs": [],
   "source": []
  }
 ],
 "metadata": {
  "kernelspec": {
   "display_name": "Python 3 (ipykernel)",
   "language": "python",
   "name": "python3"
  },
  "language_info": {
   "codemirror_mode": {
    "name": "ipython",
    "version": 3
   },
   "file_extension": ".py",
   "mimetype": "text/x-python",
   "name": "python",
   "nbconvert_exporter": "python",
   "pygments_lexer": "ipython3",
   "version": "3.11.9"
  }
 },
 "nbformat": 4,
 "nbformat_minor": 5
}
