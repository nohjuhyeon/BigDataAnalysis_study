{
 "cells": [
  {
   "cell_type": "markdown",
   "id": "429d3fc8-bee9-4c75-8cd2-84bd4d1a7084",
   "metadata": {
    "jp-MarkdownHeadingCollapsed": true
   },
   "source": [
    "# 데이터 불러오기"
   ]
  },
  {
   "cell_type": "code",
   "execution_count": 4,
   "id": "2ecd6aeb-58c1-428d-b1a4-53d3ec1a6824",
   "metadata": {},
   "outputs": [
    {
     "name": "stdout",
     "output_type": "stream",
     "text": [
      "           gameId   creationTime  gameDuration  seasonId  winner  firstBlood  \\\n",
      "0      3326086514  1504279457970          1949         9       1           2   \n",
      "1      3229566029  1497848803862          1851         9       1           1   \n",
      "2      3327363504  1504360103310          1493         9       1           2   \n",
      "3      3326856598  1504348503996          1758         9       1           1   \n",
      "4      3330080762  1504554410899          2094         9       1           2   \n",
      "...           ...            ...           ...       ...     ...         ...   \n",
      "51485  3308904636  1503076540231          1944         9       2           1   \n",
      "51486  3215685759  1496957179355          3304         9       2           1   \n",
      "51487  3322765040  1504029863961          2156         9       2           2   \n",
      "51488  3256675373  1499562036246          1475         9       2           2   \n",
      "51489  3317333020  1503612754059          1445         9       1           1   \n",
      "\n",
      "       firstTower  firstInhibitor  firstBaron  firstDragon  ...  \\\n",
      "0               1               1           1            1  ...   \n",
      "1               1               1           0            1  ...   \n",
      "2               1               1           1            2  ...   \n",
      "3               1               1           1            1  ...   \n",
      "4               1               1           1            1  ...   \n",
      "...           ...             ...         ...          ...  ...   \n",
      "51485           2               2           0            2  ...   \n",
      "51486           1               2           2            2  ...   \n",
      "51487           2               2           0            1  ...   \n",
      "51488           2               2           0            2  ...   \n",
      "51489           1               1           1            2  ...   \n",
      "\n",
      "       t2_towerKills  t2_inhibitorKills  t2_baronKills  t2_dragonKills  \\\n",
      "0                  5                  0              0               1   \n",
      "1                  2                  0              0               0   \n",
      "2                  2                  0              0               1   \n",
      "3                  0                  0              0               0   \n",
      "4                  3                  0              0               1   \n",
      "...              ...                ...            ...             ...   \n",
      "51485             10                  2              0               4   \n",
      "51486             11                  7              4               4   \n",
      "51487             10                  2              0               2   \n",
      "51488             11                  3              0               1   \n",
      "51489              1                  0              0               1   \n",
      "\n",
      "       t2_riftHeraldKills  t2_ban1  t2_ban2  t2_ban3  t2_ban4  t2_ban5  \n",
      "0                       1      114       67       43       16       51  \n",
      "1                       0       11       67      238       51      420  \n",
      "2                       0      157      238      121       57       28  \n",
      "3                       0      164       18      141       40       51  \n",
      "4                       0       86       11      201      122       18  \n",
      "...                   ...      ...      ...      ...      ...      ...  \n",
      "51485                   0       55       -1       90      238      157  \n",
      "51486                   1      157       55      119      154      105  \n",
      "51487                   0      113      122       53       11      157  \n",
      "51488                   0      154       39       51       90      114  \n",
      "51489                   0       11      157      141       31       18  \n",
      "\n",
      "[51490 rows x 61 columns]\n"
     ]
    }
   ],
   "source": [
    "import pandas as pd \n",
    "df = pd.read_csv('https://raw.githubusercontent.com/Datamanim/pandas/main/lol.csv',sep='\\t')\n",
    "print(df)"
   ]
  },
  {
   "cell_type": "markdown",
   "id": "4b1e1104-bfb9-4293-8f6a-a007e400c1cf",
   "metadata": {
    "jp-MarkdownHeadingCollapsed": true
   },
   "source": [
    "# 데이터의 상위 5개 출력"
   ]
  },
  {
   "cell_type": "code",
   "execution_count": 5,
   "id": "ad7bf012-0212-422a-a351-7780be8874e5",
   "metadata": {},
   "outputs": [
    {
     "name": "stdout",
     "output_type": "stream",
     "text": [
      "       gameId   creationTime  gameDuration  seasonId  winner  firstBlood  \\\n",
      "0  3326086514  1504279457970          1949         9       1           2   \n",
      "1  3229566029  1497848803862          1851         9       1           1   \n",
      "2  3327363504  1504360103310          1493         9       1           2   \n",
      "3  3326856598  1504348503996          1758         9       1           1   \n",
      "4  3330080762  1504554410899          2094         9       1           2   \n",
      "\n",
      "   firstTower  firstInhibitor  firstBaron  firstDragon  ...  t2_towerKills  \\\n",
      "0           1               1           1            1  ...              5   \n",
      "1           1               1           0            1  ...              2   \n",
      "2           1               1           1            2  ...              2   \n",
      "3           1               1           1            1  ...              0   \n",
      "4           1               1           1            1  ...              3   \n",
      "\n",
      "   t2_inhibitorKills  t2_baronKills  t2_dragonKills  t2_riftHeraldKills  \\\n",
      "0                  0              0               1                   1   \n",
      "1                  0              0               0                   0   \n",
      "2                  0              0               1                   0   \n",
      "3                  0              0               0                   0   \n",
      "4                  0              0               1                   0   \n",
      "\n",
      "   t2_ban1  t2_ban2  t2_ban3  t2_ban4  t2_ban5  \n",
      "0      114       67       43       16       51  \n",
      "1       11       67      238       51      420  \n",
      "2      157      238      121       57       28  \n",
      "3      164       18      141       40       51  \n",
      "4       86       11      201      122       18  \n",
      "\n",
      "[5 rows x 61 columns]\n"
     ]
    }
   ],
   "source": [
    "print(df.head(5))"
   ]
  },
  {
   "cell_type": "markdown",
   "id": "8758510f-9e95-4c23-bc7d-6e070fb46c49",
   "metadata": {
    "jp-MarkdownHeadingCollapsed": true
   },
   "source": [
    "# 데이터의 행과 열 갯수 파악"
   ]
  },
  {
   "cell_type": "code",
   "execution_count": 13,
   "id": "2999eb08-fb06-4af4-8a7f-8358f02c2dbd",
   "metadata": {},
   "outputs": [
    {
     "name": "stdout",
     "output_type": "stream",
     "text": [
      "행 갯수 :  61\n",
      "열 갯수 :  51490\n",
      "행 갯수 :  61\n",
      "열 갯수 :  51490\n"
     ]
    }
   ],
   "source": [
    "print('행 갯수 : ',len(df.columns))\n",
    "print('열 갯수 : ',len(df))\n",
    "print('행 갯수 : ',df.shape[1])\n",
    "print('열 갯수 : ',df.shape[0])\n"
   ]
  },
  {
   "cell_type": "markdown",
   "id": "52180555-0cca-4d15-a1f8-1152bdbcc2ff",
   "metadata": {
    "jp-MarkdownHeadingCollapsed": true
   },
   "source": [
    "# 전체 컬럼 출력"
   ]
  },
  {
   "cell_type": "code",
   "execution_count": 14,
   "id": "039f7f79-0244-4b5c-b329-46190fa96e62",
   "metadata": {},
   "outputs": [
    {
     "name": "stdout",
     "output_type": "stream",
     "text": [
      "Index(['gameId', 'creationTime', 'gameDuration', 'seasonId', 'winner',\n",
      "       'firstBlood', 'firstTower', 'firstInhibitor', 'firstBaron',\n",
      "       'firstDragon', 'firstRiftHerald', 't1_champ1id', 't1_champ1_sum1',\n",
      "       't1_champ1_sum2', 't1_champ2id', 't1_champ2_sum1', 't1_champ2_sum2',\n",
      "       't1_champ3id', 't1_champ3_sum1', 't1_champ3_sum2', 't1_champ4id',\n",
      "       't1_champ4_sum1', 't1_champ4_sum2', 't1_champ5id', 't1_champ5_sum1',\n",
      "       't1_champ5_sum2', 't1_towerKills', 't1_inhibitorKills', 't1_baronKills',\n",
      "       't1_dragonKills', 't1_riftHeraldKills', 't1_ban1', 't1_ban2', 't1_ban3',\n",
      "       't1_ban4', 't1_ban5', 't2_champ1id', 't2_champ1_sum1', 't2_champ1_sum2',\n",
      "       't2_champ2id', 't2_champ2_sum1', 't2_champ2_sum2', 't2_champ3id',\n",
      "       't2_champ3_sum1', 't2_champ3_sum2', 't2_champ4id', 't2_champ4_sum1',\n",
      "       't2_champ4_sum2', 't2_champ5id', 't2_champ5_sum1', 't2_champ5_sum2',\n",
      "       't2_towerKills', 't2_inhibitorKills', 't2_baronKills', 't2_dragonKills',\n",
      "       't2_riftHeraldKills', 't2_ban1', 't2_ban2', 't2_ban3', 't2_ban4',\n",
      "       't2_ban5'],\n",
      "      dtype='object')\n"
     ]
    }
   ],
   "source": [
    "print(df.columns)"
   ]
  },
  {
   "cell_type": "markdown",
   "id": "04568a54-c864-45b4-8e6f-39c7ff48495b",
   "metadata": {
    "jp-MarkdownHeadingCollapsed": true
   },
   "source": [
    "# 6번째 컬럼명 출력"
   ]
  },
  {
   "cell_type": "code",
   "execution_count": 15,
   "id": "5c7b5fb0-b469-4349-8433-2a1f08752a73",
   "metadata": {},
   "outputs": [
    {
     "name": "stdout",
     "output_type": "stream",
     "text": [
      "firstBlood\n"
     ]
    }
   ],
   "source": [
    "print(df.columns[5])"
   ]
  },
  {
   "cell_type": "markdown",
   "id": "fee03e08-f37c-4a8f-aecf-4c78a1a4cd56",
   "metadata": {},
   "source": [
    "# 6번째 컬럼의 데이터 타입 확인"
   ]
  },
  {
   "cell_type": "code",
   "execution_count": 25,
   "id": "b20aa895-2b65-4720-86e3-594be17c8ae1",
   "metadata": {},
   "outputs": [
    {
     "name": "stdout",
     "output_type": "stream",
     "text": [
      "int64\n"
     ]
    }
   ],
   "source": [
    "print(df.iloc[:,5].dtype)"
   ]
  },
  {
   "cell_type": "markdown",
   "id": "8f6c22ee-cb0f-4846-8240-54c32c0e8cdf",
   "metadata": {},
   "source": [
    "# 데이터셋의 인덱스 구성"
   ]
  },
  {
   "cell_type": "code",
   "execution_count": 26,
   "id": "d8c3ebcc-80ba-4f69-88fb-a017a0d5db5c",
   "metadata": {},
   "outputs": [
    {
     "name": "stdout",
     "output_type": "stream",
     "text": [
      "RangeIndex(start=0, stop=51490, step=1)\n"
     ]
    }
   ],
   "source": [
    "print(df.index)"
   ]
  },
  {
   "cell_type": "markdown",
   "id": "b5f7b91c-3df4-4399-99ce-1289350e5f11",
   "metadata": {},
   "source": [
    "# 6번째 컬럼의 3번째 값"
   ]
  },
  {
   "cell_type": "code",
   "execution_count": 27,
   "id": "52099b99-df43-48bc-9ca2-05480d36bde7",
   "metadata": {},
   "outputs": [
    {
     "name": "stdout",
     "output_type": "stream",
     "text": [
      "2\n"
     ]
    }
   ],
   "source": [
    "print(df.iloc[2,5])"
   ]
  },
  {
   "cell_type": "markdown",
   "id": "40972329-3f9f-404f-94ea-1bc7a7d3f003",
   "metadata": {},
   "source": [
    "# 6번째 컬럼의 3번째 값"
   ]
  },
  {
   "cell_type": "code",
   "execution_count": 28,
   "id": "9b271d5d-898e-4874-b4e4-cf8bc4ba979f",
   "metadata": {},
   "outputs": [],
   "source": [
    "DataUrl = 'https://raw.githubusercontent.com/Datamanim/pandas/main/Jeju.csv'\n",
    "df = pd.read_csv(DataUrl,encoding='euc-kr')"
   ]
  },
  {
   "cell_type": "markdown",
   "id": "aec5c8bd-6ffc-41f9-9e47-c19ca99ce23c",
   "metadata": {},
   "source": [
    "# 데이터 마지막 3개행"
   ]
  },
  {
   "cell_type": "code",
   "execution_count": 34,
   "id": "446fb828-e58e-4006-974b-08659b9db2ae",
   "metadata": {},
   "outputs": [
    {
     "name": "stdout",
     "output_type": "stream",
     "text": [
      "         id          일자   시도명 읍면동명         거주인구       근무인구        방문인구  \\\n",
      "9618  32066  2020-04-30   제주시  도두동    28397.481   3144.895   84052.697   \n",
      "9619  32067  2020-04-30  서귀포시  안덕면   348037.846  29106.286  251129.660   \n",
      "9620  32068  2020-04-30   제주시   연동  1010643.372  65673.477  447622.068   \n",
      "\n",
      "           총 유동인구   평균 속도  평균 소요 시간  평균 기온  일강수량  평균 풍속  \n",
      "9618   115595.073  41.053    29.421   20.3   0.0    3.0  \n",
      "9619   628273.792  46.595    49.189   17.6   0.0    3.5  \n",
      "9620  1523938.917  40.863    27.765   14.1   0.0    4.8  \n",
      "         id          일자   시도명 읍면동명         거주인구       근무인구        방문인구  \\\n",
      "9618  32066  2020-04-30   제주시  도두동    28397.481   3144.895   84052.697   \n",
      "9619  32067  2020-04-30  서귀포시  안덕면   348037.846  29106.286  251129.660   \n",
      "9620  32068  2020-04-30   제주시   연동  1010643.372  65673.477  447622.068   \n",
      "\n",
      "           총 유동인구   평균 속도  평균 소요 시간  평균 기온  일강수량  평균 풍속  \n",
      "9618   115595.073  41.053    29.421   20.3   0.0    3.0  \n",
      "9619   628273.792  46.595    49.189   17.6   0.0    3.5  \n",
      "9620  1523938.917  40.863    27.765   14.1   0.0    4.8  \n"
     ]
    }
   ],
   "source": [
    "print(df.iloc[-3:,:])\n",
    "print(df.tail(3))"
   ]
  },
  {
   "cell_type": "markdown",
   "id": "e5a8e480-5ad2-4d56-be08-147665a9cf2c",
   "metadata": {},
   "source": [
    "# 수치형 변수를 가진 컬럼 출력"
   ]
  },
  {
   "cell_type": "code",
   "execution_count": 41,
   "id": "f17fce63-8cc5-4e43-a11e-61f37ee514bc",
   "metadata": {},
   "outputs": [
    {
     "name": "stdout",
     "output_type": "stream",
     "text": [
      "Index(['id', '거주인구', '근무인구', '방문인구', '총 유동인구', '평균 속도', '평균 소요 시간', '평균 기온',\n",
      "       '일강수량', '평균 풍속'],\n",
      "      dtype='object')\n",
      "Index(['id', '거주인구', '근무인구', '방문인구', '총 유동인구', '평균 속도', '평균 소요 시간', '평균 기온',\n",
      "       '일강수량', '평균 풍속'],\n",
      "      dtype='object')\n"
     ]
    }
   ],
   "source": [
    "print(df.describe().columns)\n",
    "print(df.select_dtypes(exclude=object).columns)"
   ]
  },
  {
   "cell_type": "code",
   "execution_count": null,
   "id": "c2a76a7d-50bd-43ba-97c7-5556a8cdb406",
   "metadata": {},
   "outputs": [],
   "source": [
    "# 범주형 변수를 가진 컬러"
   ]
  }
 ],
 "metadata": {
  "kernelspec": {
   "display_name": "Python 3 (ipykernel)",
   "language": "python",
   "name": "python3"
  },
  "language_info": {
   "codemirror_mode": {
    "name": "ipython",
    "version": 3
   },
   "file_extension": ".py",
   "mimetype": "text/x-python",
   "name": "python",
   "nbconvert_exporter": "python",
   "pygments_lexer": "ipython3",
   "version": "3.11.9"
  }
 },
 "nbformat": 4,
 "nbformat_minor": 5
}
