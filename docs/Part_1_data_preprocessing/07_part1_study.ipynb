{
 "cells": [
  {
   "cell_type": "markdown",
   "id": "6c50827e-d437-4982-8ffc-beed54e9bb76",
   "metadata": {
    "jp-MarkdownHeadingCollapsed": true
   },
   "source": [
    "# 유튜브 인기동영상 데이터"
   ]
  },
  {
   "cell_type": "markdown",
   "id": "41aaf67a-0b5e-427d-ac6c-e45f3b793fcf",
   "metadata": {},
   "source": [
    "## 데이터 로드"
   ]
  },
  {
   "cell_type": "code",
   "execution_count": 1,
   "id": "42b90454-8edc-47d5-8d7e-d9a032ec3a31",
   "metadata": {},
   "outputs": [
    {
     "data": {
      "text/html": [
       "<div>\n",
       "<style scoped>\n",
       "    .dataframe tbody tr th:only-of-type {\n",
       "        vertical-align: middle;\n",
       "    }\n",
       "\n",
       "    .dataframe tbody tr th {\n",
       "        vertical-align: top;\n",
       "    }\n",
       "\n",
       "    .dataframe thead th {\n",
       "        text-align: right;\n",
       "    }\n",
       "</style>\n",
       "<table border=\"1\" class=\"dataframe\">\n",
       "  <thead>\n",
       "    <tr style=\"text-align: right;\">\n",
       "      <th></th>\n",
       "      <th>title</th>\n",
       "      <th>channelTitle</th>\n",
       "      <th>categoryId</th>\n",
       "      <th>view_count</th>\n",
       "      <th>likes</th>\n",
       "      <th>dislikes</th>\n",
       "      <th>comment_count</th>\n",
       "      <th>channelId</th>\n",
       "      <th>trending_date2</th>\n",
       "    </tr>\n",
       "  </thead>\n",
       "  <tbody>\n",
       "    <tr>\n",
       "      <th>0</th>\n",
       "      <td>[신병] 물자창고</td>\n",
       "      <td>장삐쭈</td>\n",
       "      <td>23</td>\n",
       "      <td>1893473</td>\n",
       "      <td>38249</td>\n",
       "      <td>730</td>\n",
       "      <td>8595</td>\n",
       "      <td>UChbE5OZQ6dRHECsX0tEPEZQ</td>\n",
       "      <td>2021-01-01</td>\n",
       "    </tr>\n",
       "    <tr>\n",
       "      <th>1</th>\n",
       "      <td>RAIN(비) - 나로 바꾸자 Switch to me (duet with JYP) MV</td>\n",
       "      <td>RAIN's Official Channel</td>\n",
       "      <td>10</td>\n",
       "      <td>2600864</td>\n",
       "      <td>0</td>\n",
       "      <td>0</td>\n",
       "      <td>20129</td>\n",
       "      <td>UCxXgIeE5hxWxHG6dz9Scg2w</td>\n",
       "      <td>2021-01-01</td>\n",
       "    </tr>\n",
       "    <tr>\n",
       "      <th>2</th>\n",
       "      <td>2020년 제야의 종 온라인 타종행사 | 보신각 현장 행사는 진행하지 않습니다.</td>\n",
       "      <td>서울시 · Seoul</td>\n",
       "      <td>29</td>\n",
       "      <td>347049</td>\n",
       "      <td>3564</td>\n",
       "      <td>120</td>\n",
       "      <td>178</td>\n",
       "      <td>UCZUPZW5idAxYp-Asj__lVAA</td>\n",
       "      <td>2021-01-01</td>\n",
       "    </tr>\n",
       "    <tr>\n",
       "      <th>3</th>\n",
       "      <td>고기남자의 칠면조 파티</td>\n",
       "      <td>고기남자 MeatMan</td>\n",
       "      <td>26</td>\n",
       "      <td>528458</td>\n",
       "      <td>15372</td>\n",
       "      <td>280</td>\n",
       "      <td>3470</td>\n",
       "      <td>UCT3CumbFIJiW33uq0UI3zlg</td>\n",
       "      <td>2021-01-01</td>\n",
       "    </tr>\n",
       "    <tr>\n",
       "      <th>4</th>\n",
       "      <td>골목 3mc를 분노하게 만든 마음고생이 심했을 공릉 백반집 사장님의 푸념?! [예능...</td>\n",
       "      <td>스브스밥집</td>\n",
       "      <td>24</td>\n",
       "      <td>494904</td>\n",
       "      <td>3918</td>\n",
       "      <td>111</td>\n",
       "      <td>3142</td>\n",
       "      <td>UCdWgRSfttvDucq4ApcCg5Mw</td>\n",
       "      <td>2021-01-01</td>\n",
       "    </tr>\n",
       "  </tbody>\n",
       "</table>\n",
       "</div>"
      ],
      "text/plain": [
       "                                               title             channelTitle  \\\n",
       "0                                          [신병] 물자창고                      장삐쭈   \n",
       "1   RAIN(비) - 나로 바꾸자 Switch to me (duet with JYP) MV  RAIN's Official Channel   \n",
       "2       2020년 제야의 종 온라인 타종행사 | 보신각 현장 행사는 진행하지 않습니다.              서울시 · Seoul   \n",
       "3                                       고기남자의 칠면조 파티             고기남자 MeatMan   \n",
       "4  골목 3mc를 분노하게 만든 마음고생이 심했을 공릉 백반집 사장님의 푸념?! [예능...                    스브스밥집   \n",
       "\n",
       "   categoryId  view_count  likes  dislikes  comment_count  \\\n",
       "0          23     1893473  38249       730           8595   \n",
       "1          10     2600864      0         0          20129   \n",
       "2          29      347049   3564       120            178   \n",
       "3          26      528458  15372       280           3470   \n",
       "4          24      494904   3918       111           3142   \n",
       "\n",
       "                  channelId trending_date2  \n",
       "0  UChbE5OZQ6dRHECsX0tEPEZQ     2021-01-01  \n",
       "1  UCxXgIeE5hxWxHG6dz9Scg2w     2021-01-01  \n",
       "2  UCZUPZW5idAxYp-Asj__lVAA     2021-01-01  \n",
       "3  UCT3CumbFIJiW33uq0UI3zlg     2021-01-01  \n",
       "4  UCdWgRSfttvDucq4ApcCg5Mw     2021-01-01  "
      ]
     },
     "execution_count": 1,
     "metadata": {},
     "output_type": "execute_result"
    }
   ],
   "source": [
    "import pandas as pd\n",
    "df = pd.read_csv(\"https://raw.githubusercontent.com/Datamanim/datarepo/main/youtube/youtube.csv\",index_col=0)\n",
    "df.head()"
   ]
  },
  {
   "cell_type": "markdown",
   "id": "8ffcaa59-b9d6-4c9f-a6b7-6e4f3410a173",
   "metadata": {
    "jp-MarkdownHeadingCollapsed": true
   },
   "source": [
    "## 인기동영상 제작횟수가 많은 채널 상위 10개명을 출력(날짜 기준, 중복 포함)"
   ]
  },
  {
   "cell_type": "code",
   "execution_count": 2,
   "id": "93f8dcf4-71aa-44ac-9b9e-1fa100c7eefb",
   "metadata": {},
   "outputs": [
    {
     "name": "stdout",
     "output_type": "stream",
     "text": [
      "['장삐쭈' '총몇명' '파뿌리' '짤툰' '런닝맨 - 스브스 공식 채널' '엠뚜루마뚜루 : MBC 공식 종합 채널' 'SPOTV'\n",
      " '채널 십오야' '이과장' 'BANGTANTV']\n"
     ]
    }
   ],
   "source": [
    "print(df.loc[df.channelId.isin(list(df.groupby('channelId').size().sort_values(ascending=False).keys()[:10]))].channelTitle.unique())"
   ]
  },
  {
   "cell_type": "markdown",
   "id": "6da871ed-cefd-4b65-b371-24279b00f2f7",
   "metadata": {
    "jp-MarkdownHeadingCollapsed": true
   },
   "source": [
    "## 논란으로 인기동영상이 된 케이스 확인, dislikes 수가 like 수보다 높은 동영상을 제작한 채널을 모두 출력"
   ]
  },
  {
   "cell_type": "code",
   "execution_count": 3,
   "id": "9c82e0b4-ecdf-48da-8a4f-566982ff4bda",
   "metadata": {},
   "outputs": [
    {
     "name": "stdout",
     "output_type": "stream",
     "text": [
      "['핫도그TV' 'ASMR 애정TV' '하얀트리HayanTree' '양팡 YangPang' '철구형 (CHULTUBE)'\n",
      " '왜냐맨하우스' '(MUTUBE)와꾸대장봉준' '오메킴TV' '육지담' 'MapleStory_KR'\n",
      " 'ROAD FIGHTING CHAMPIONSHIP' '사나이 김기훈' '나혼자산다 STUDIO' 'Gen.G esports']\n"
     ]
    }
   ],
   "source": [
    "print(df.loc[df.dislikes > df.likes].channelTitle.unique())"
   ]
  },
  {
   "cell_type": "markdown",
   "id": "93871143-7817-4156-ac8c-3d8a49ab9102",
   "metadata": {
    "jp-MarkdownHeadingCollapsed": true
   },
   "source": [
    "## 채널명을 한번이라도 바꾼 채널의 갯수"
   ]
  },
  {
   "cell_type": "code",
   "execution_count": 4,
   "id": "95d983e6-ca63-42a0-b116-a02651aa6336",
   "metadata": {},
   "outputs": [
    {
     "name": "stdout",
     "output_type": "stream",
     "text": [
      "71\n"
     ]
    }
   ],
   "source": [
    "change = df[['channelId','channelTitle']].drop_duplicates().channelId.value_counts()\n",
    "print(len(change[change>1]))"
   ]
  },
  {
   "cell_type": "markdown",
   "id": "7af4414c-9b88-438a-87b3-adf25fa6dad2",
   "metadata": {
    "jp-MarkdownHeadingCollapsed": true
   },
   "source": [
    "## 일요일에 인기있었던 영상들 중 가장 많은 영상 종류"
   ]
  },
  {
   "cell_type": "code",
   "execution_count": 5,
   "id": "68e20168-0eda-4d1e-a8c5-c55787b3939a",
   "metadata": {},
   "outputs": [
    {
     "name": "stdout",
     "output_type": "stream",
     "text": [
      "24\n"
     ]
    }
   ],
   "source": [
    "# df['weekends'] = df['trending_date2'].dt.weekends\n",
    "df['trending_date2'] = pd.to_datetime(df['trending_date2'])\n",
    "df['weekday'] = df['trending_date2'].dt.day_name()\n",
    "print(df.loc[df.weekday=='Sunday'].categoryId.value_counts().index[0])"
   ]
  },
  {
   "cell_type": "markdown",
   "id": "bbcde889-5472-44d5-ab74-28183389f0e7",
   "metadata": {
    "jp-MarkdownHeadingCollapsed": true
   },
   "source": [
    "## 각 요일별 인기 영상들의 categoryID는 각각 몇개 씩인지 하나의 데이터 프레임으로 표현하라"
   ]
  },
  {
   "cell_type": "code",
   "execution_count": 6,
   "id": "2f98730a-f8d3-4886-8a45-f232624bc322",
   "metadata": {},
   "outputs": [
    {
     "name": "stdout",
     "output_type": "stream",
     "text": [
      "weekday     Friday  Monday  Saturday  Sunday  Thursday  Tuesday  Wednesday\n",
      "categoryId                                                                \n",
      "1              243     263       255     274       246      257        234\n",
      "2              120     105       119      99       128      119        129\n",
      "10             833     837       776     830       890      894        917\n",
      "15             187     215       198     217       207      208        207\n",
      "17             633     668       592     636       682      708        706\n",
      "19              90      92        87      91        92       89         85\n",
      "20             283     298       296     289       282      285        291\n",
      "22            1288    1373      1289    1337      1341     1375       1333\n",
      "23             568     594       570     556       560      569        566\n",
      "24            2976    3148      3066    3096      2954     3084       3090\n",
      "25             444     453       422     437       470      452        468\n",
      "26             369     378       364     363       375      394        385\n",
      "27             183     205       183     199       194      194        212\n",
      "28             171     160       173     167       166      161        165\n",
      "29              12      10        10       9        13       11         12\n"
     ]
    }
   ],
   "source": [
    "print(pd.pivot_table(df,index='categoryId',columns='weekday',aggfunc='size'))"
   ]
  },
  {
   "cell_type": "markdown",
   "id": "8c70e78f-d9cf-4699-809e-57572106ddb3",
   "metadata": {
    "jp-MarkdownHeadingCollapsed": true
   },
   "source": [
    "## viewcount 대비 댓글 수가 가장 높은 영상을 확인"
   ]
  },
  {
   "cell_type": "code",
   "execution_count": 11,
   "id": "788c5a11-1eea-4b16-91e8-ee9291101420",
   "metadata": {},
   "outputs": [
    {
     "name": "stderr",
     "output_type": "stream",
     "text": [
      "/tmp/ipykernel_762/1598414501.py:2: SettingWithCopyWarning: \n",
      "A value is trying to be set on a copy of a slice from a DataFrame.\n",
      "Try using .loc[row_indexer,col_indexer] = value instead\n",
      "\n",
      "See the caveats in the documentation: https://pandas.pydata.org/pandas-docs/stable/user_guide/indexing.html#returning-a-view-versus-a-copy\n",
      "  quest['feedback'] = quest['comment_count']/quest['view_count'].dropna()\n"
     ]
    },
    {
     "data": {
      "text/plain": [
       "'60분 동안 댓글이 달리지 않으면, 영상이 삭제됩니다. (챌린지)'"
      ]
     },
     "execution_count": 11,
     "metadata": {},
     "output_type": "execute_result"
    }
   ],
   "source": [
    "quest = df.loc[df.view_count != 0]\n",
    "quest['feedback'] = quest['comment_count']/quest['view_count'].dropna()\n",
    "\n",
    "quest.sort_values('feedback',ascending =False).iloc[0]['title']"
   ]
  },
  {
   "cell_type": "markdown",
   "id": "45207346-1164-45dc-9261-90db83ebefab",
   "metadata": {
    "jp-MarkdownHeadingCollapsed": true
   },
   "source": [
    "## viewcount 대비 댓글 수가 가장 높은 영상을 확인"
   ]
  },
  {
   "cell_type": "code",
   "execution_count": 22,
   "id": "c4241251-4a73-4bff-91cc-328feb24fbb1",
   "metadata": {},
   "outputs": [
    {
     "name": "stderr",
     "output_type": "stream",
     "text": [
      "/tmp/ipykernel_762/2899900271.py:2: SettingWithCopyWarning: \n",
      "A value is trying to be set on a copy of a slice from a DataFrame.\n",
      "Try using .loc[row_indexer,col_indexer] = value instead\n",
      "\n",
      "See the caveats in the documentation: https://pandas.pydata.org/pandas-docs/stable/user_guide/indexing.html#returning-a-view-versus-a-copy\n",
      "  quest['feedback'] = (quest.comment_count/quest.view_count)\n"
     ]
    },
    {
     "data": {
      "text/plain": [
       "'Join the BTS #PermissiontoDance Challenge only on YouTube #Shorts'"
      ]
     },
     "execution_count": 22,
     "metadata": {},
     "output_type": "execute_result"
    }
   ],
   "source": [
    "quest = df.loc[df.view_count !=0]\n",
    "quest['feedback'] = (quest.comment_count/quest.view_count)\n",
    "quest = quest.loc[quest.feedback != 0]\n",
    "quest.sort_values('feedback').iloc[0]['title']"
   ]
  },
  {
   "cell_type": "markdown",
   "id": "c2ae6001-e2f5-4610-aba4-fc3e3aee7786",
   "metadata": {
    "jp-MarkdownHeadingCollapsed": true
   },
   "source": [
    "## 좋아요 수 대비 싫아요 비율이 가장 낮은 영상 확인"
   ]
  },
  {
   "cell_type": "code",
   "execution_count": 23,
   "id": "ef928ceb-0574-4f71-8c11-be4f93a0ecff",
   "metadata": {},
   "outputs": [
    {
     "name": "stderr",
     "output_type": "stream",
     "text": [
      "/tmp/ipykernel_762/2567045718.py:2: SettingWithCopyWarning: \n",
      "A value is trying to be set on a copy of a slice from a DataFrame.\n",
      "Try using .loc[row_indexer,col_indexer] = value instead\n",
      "\n",
      "See the caveats in the documentation: https://pandas.pydata.org/pandas-docs/stable/user_guide/indexing.html#returning-a-view-versus-a-copy\n",
      "  quest['ratio']=df.dislikes/df.likes\n"
     ]
    },
    {
     "data": {
      "text/plain": [
       "'[줌터뷰] *최초공개* 사부작즈🐰🐶의 비공식 이름은 아이라인즈? 꿀조합 티키타카 가득한 NCT 127 도영&정우의 줌터뷰'"
      ]
     },
     "execution_count": 23,
     "metadata": {},
     "output_type": "execute_result"
    }
   ],
   "source": [
    "quest = df.loc[(df.likes != 0) & (df.dislikes != 0)]\n",
    "quest['ratio']=df.dislikes/df.likes\n",
    "quest.sort_values('ratio').iloc[0]['title']"
   ]
  },
  {
   "cell_type": "markdown",
   "id": "2daeba7f-a99b-4ed0-bad6-ea4997e541c3",
   "metadata": {
    "jp-MarkdownHeadingCollapsed": true
   },
   "source": [
    "## 가장 많은 트렌드 영상을 제작한 채널의 이름"
   ]
  },
  {
   "cell_type": "code",
   "execution_count": 24,
   "id": "94650d4d-9c30-4494-a6e6-944135ec5054",
   "metadata": {},
   "outputs": [
    {
     "name": "stdout",
     "output_type": "stream",
     "text": [
      "짤툰\n"
     ]
    }
   ],
   "source": [
    "print(df.loc[df.channelId == df.channelId.value_counts().index[0]].channelTitle.unique()[0])"
   ]
  },
  {
   "cell_type": "markdown",
   "id": "21b1e2f8-457b-4092-ae79-faa406f74254",
   "metadata": {
    "jp-MarkdownHeadingCollapsed": true
   },
   "source": [
    "## 20회 이상 인기동영상 리스트에 포함된 동영상의 숫자"
   ]
  },
  {
   "cell_type": "code",
   "execution_count": 25,
   "id": "3dce988f-2af9-43a3-b74a-33956a9bb871",
   "metadata": {},
   "outputs": [
    {
     "name": "stdout",
     "output_type": "stream",
     "text": [
      "40\n"
     ]
    }
   ],
   "source": [
    "print((df[['title','channelId']].value_counts() >= 20).sum())\n"
   ]
  },
  {
   "cell_type": "markdown",
   "id": "daac0cd2-3447-4675-9610-40e55338da43",
   "metadata": {
    "jp-MarkdownHeadingCollapsed": true
   },
   "source": [
    "# 유튜브 공범컨텐츠 동영상 데이터"
   ]
  },
  {
   "cell_type": "markdown",
   "id": "be87be65-6b37-4d95-af51-903be700d0ba",
   "metadata": {
    "jp-MarkdownHeadingCollapsed": true
   },
   "source": [
    "## 데이터 로드"
   ]
  },
  {
   "cell_type": "code",
   "execution_count": 26,
   "id": "5446f40d-61e5-4cda-a2cf-f56652e93ce3",
   "metadata": {},
   "outputs": [],
   "source": [
    "import pandas as pd\n",
    "channel =pd.read_csv('https://raw.githubusercontent.com/Datamanim/datarepo/main/youtube/channelInfo.csv')\n",
    "video =pd.read_csv('https://raw.githubusercontent.com/Datamanim/datarepo/main/youtube/videoInfo.csv')"
   ]
  },
  {
   "cell_type": "markdown",
   "id": "c9d3857c-3913-4d0c-99d3-2c6283d827bf",
   "metadata": {
    "jp-MarkdownHeadingCollapsed": true
   },
   "source": [
    "## 각 데이터의 'ct' 컬럼을 시간으로 인식할 수 있게 datatype을 변경하고 video 데이터의 videoname의 각 value 마다 몇 개의 데이터씩 가지고 있는지 확인"
   ]
  },
  {
   "cell_type": "code",
   "execution_count": 32,
   "id": "0617df9c-2986-4669-8df5-06b4af68d60d",
   "metadata": {},
   "outputs": [
    {
     "name": "stdout",
     "output_type": "stream",
     "text": [
      "videoname\n",
      "공범 EP1    3492\n",
      "공범 EP2    3204\n",
      "공범 EP3    2568\n",
      "공범 EP4    2280\n",
      "공범 EP5    1562\n",
      "공범 EP6    1274\n",
      "공범 EP7     555\n",
      "공범 EP8     266\n",
      "Name: count, dtype: int64\n"
     ]
    }
   ],
   "source": [
    "channel['ct'] = pd.to_datetime(channel['ct'])\n",
    "video['ct'] = pd.to_datetime(video['ct'])\n",
    "print(video['videoname'].value_counts())"
   ]
  },
  {
   "cell_type": "markdown",
   "id": "5949ad03-5c7b-4996-9228-220b9411d671",
   "metadata": {
    "jp-MarkdownHeadingCollapsed": true
   },
   "source": [
    "## 수집된 각 vide의 가장 최신화된 날짜의 viewcount 값 출력"
   ]
  },
  {
   "cell_type": "code",
   "execution_count": 43,
   "id": "6b01ec83-8c4a-4098-9be0-838931e696c1",
   "metadata": {},
   "outputs": [
    {
     "name": "stdout",
     "output_type": "stream",
     "text": [
      "   viewcnt videoname                  ct\n",
      "0  3180532    공범 EP1 2021-11-01 15:30:03\n",
      "1  2199328    공범 EP2 2021-11-01 15:30:03\n",
      "2  1671294    공범 EP3 2021-11-01 15:30:03\n",
      "3  1818493    공범 EP4 2021-11-01 15:30:03\n",
      "4  1503435    공범 EP5 2021-11-01 15:30:04\n",
      "5  1750222    공범 EP6 2021-11-01 15:30:04\n",
      "6  1630200    공범 EP7 2021-11-01 15:30:05\n",
      "7  1289088    공범 EP8 2021-11-01 15:30:05\n"
     ]
    }
   ],
   "source": [
    "print(video[['viewcnt','videoname','ct']].sort_values(['videoname','ct']).drop_duplicates('videoname',keep='last').reset_index(drop=True))"
   ]
  },
  {
   "cell_type": "markdown",
   "id": "db60e7e3-76f9-4832-959a-ee621706bf8a",
   "metadata": {
    "jp-MarkdownHeadingCollapsed": true
   },
   "source": [
    "## channel 데이터 중 2021-10-03일 이후 각 채널의 처음 기록 됐던 구독자 수 출력"
   ]
  },
  {
   "cell_type": "code",
   "execution_count": 51,
   "id": "d0794ee1-720d-4009-914f-e2e679f8eb92",
   "metadata": {},
   "outputs": [
    {
     "name": "stdout",
     "output_type": "stream",
     "text": [
      "        channelname   subcnt\n",
      "0            논리왕 전기   922000\n",
      "1             야전삽짱재   257000\n",
      "2           형사!탐정되다    14900\n",
      "3       릴펄 Lilpearl    10100\n",
      "4               조나단   215000\n",
      "5        김농밀의 농밀한 삶     7520\n",
      "6     Balming Tiger    54300\n",
      "7               꽈뚜룹  1330000\n",
      "8   와글와글 WagleWagle    55000\n",
      "9        츄정ChuJeong   322000\n",
      "10    곽토리 kwak tori   471000\n"
     ]
    }
   ],
   "source": [
    "quest = channel.loc[channel.ct >= '2021-10-03'].sort_values(['channelid','ct']).drop_duplicates('channelid',keep='first')\n",
    "print(quest[['channelname','subcnt']].reset_index(drop=True))"
   ]
  },
  {
   "cell_type": "markdown",
   "id": "e2b216ba-bcb4-45da-9fdb-e1368b9940a5",
   "metadata": {
    "jp-MarkdownHeadingCollapsed": true
   },
   "source": [
    "## 각 채널의 2021-10-03 03:00:00 ~ 2021-11-01 15:00:00 까지 구독자수의 증가량"
   ]
  },
  {
   "cell_type": "code",
   "execution_count": 74,
   "id": "3a5b3076-55a8-4ee9-9303-39b8e72077ec",
   "metadata": {},
   "outputs": [
    {
     "name": "stdout",
     "output_type": "stream",
     "text": [
      "        channelname    del\n",
      "0            논리왕 전기 -11000\n",
      "1             야전삽짱재  11000\n",
      "2           형사!탐정되다  10300\n",
      "3       릴펄 Lilpearl  11000\n",
      "4               조나단  12000\n",
      "5        김농밀의 농밀한 삶   1540\n",
      "6     Balming Tiger   2500\n",
      "7               꽈뚜룹  70000\n",
      "8   와글와글 WagleWagle      0\n",
      "9        츄정ChuJeong   1000\n",
      "10    곽토리 kwak tori  -2000\n"
     ]
    }
   ],
   "source": [
    "before = channel.loc[channel.ct >= '2021-10-03 03:00:00'].sort_values(['channelid','ct']).drop_duplicates('channelid',keep='first')\n",
    "before = before.rename(columns={'subcnt':'before'})\n",
    "after = channel.loc[channel.ct >= '2021-11-01 15:00:00'].sort_values(['channelid','ct']).drop_duplicates('channelid',keep='last')\n",
    "after = after.rename(columns={'subcnt':'after'})\n",
    "after\n",
    "total = pd.merge(before[['channelid','channelname','before']],after[['channelid','channelname','after']])\n",
    "total['del'] = total['after'] - total['before']\n",
    "print(total[['channelname','del']])"
   ]
  },
  {
   "cell_type": "markdown",
   "id": "de723a17-16e0-425d-b656-06fd9d17e014",
   "metadata": {
    "jp-MarkdownHeadingCollapsed": true
   },
   "source": [
    "## 각 비디오는 10분 간격으로 구독자 수, 좋아요, 싫어요 수, 댓글 수 가 수집됨. 공범 EP1의 비디오 정보 데이터 중 수집간격이 5분 이하, 20분 이상인 데이터 구간(해당 시점 전, 후)의 시각을 모두 출력"
   ]
  },
  {
   "cell_type": "code",
   "execution_count": 117,
   "id": "82542b1b-fec5-46c1-9b3a-2826b24979fd",
   "metadata": {},
   "outputs": [
    {
     "name": "stdout",
     "output_type": "stream",
     "text": [
      "          videopk  viewcnt  likecnt  dislikecnt  favoritecnt  cmcnt  \\\n",
      "720   c5JQp6xafqc  2153676    34104         830            0   7120   \n",
      "721   c5JQp6xafqc  2228250    34559         849            0   7191   \n",
      "722   c5JQp6xafqc  2228250    34559         849            0   7191   \n",
      "723   c5JQp6xafqc  2228669    34566         849            0   7194   \n",
      "1635  c5JQp6xafqc  2706691    37893         987            0   7410   \n",
      "1636  c5JQp6xafqc  2707933    37901         988            0   7410   \n",
      "1637  c5JQp6xafqc  2708448    37903         988            0   7410   \n",
      "\n",
      "                      ct videoname  \n",
      "720  2021-10-12 19:20:03    공범 EP1  \n",
      "721  2021-10-13 09:41:37    공범 EP1  \n",
      "722  2021-10-13 09:41:37    공범 EP1  \n",
      "723  2021-10-13 09:50:03    공범 EP1  \n",
      "1635 2021-10-19 17:50:02    공범 EP1  \n",
      "1636 2021-10-19 18:20:03    공범 EP1  \n",
      "1637 2021-10-19 18:30:03    공범 EP1  \n"
     ]
    }
   ],
   "source": [
    "part1 = video.loc[video['videoname'] == ' 공범 EP1'].sort_values('ct')\n",
    "part1.loc[(part1.ct.diff(1) <= '0 days 00:5:00')|(part1.ct.diff(1) >= '0 days 00:20:00')]\n",
    "print(part1.loc[[720,721,722,723,1635,1636,1637],:])"
   ]
  },
  {
   "cell_type": "markdown",
   "id": "ca672680-5a46-464c-8276-50d8edce36a7",
   "metadata": {
    "jp-MarkdownHeadingCollapsed": true
   },
   "source": [
    "## 각 에피소드의 시작날짜(년-월-일)을 에피소드 이름과 묶어 데이터 프레임으로 만들고 출력"
   ]
  },
  {
   "cell_type": "code",
   "execution_count": 133,
   "id": "a57092f7-1447-47b6-a818-a1282c309145",
   "metadata": {},
   "outputs": [
    {
     "name": "stdout",
     "output_type": "stream",
     "text": [
      "      videoname        date\n",
      "10       공범 EP1  2021-10-07\n",
      "3496     공범 EP2  2021-10-09\n",
      "6696     공범 EP3  2021-10-14\n",
      "9264     공범 EP4  2021-10-16\n",
      "11544    공범 EP5  2021-10-21\n",
      "13661    공범 EP6  2021-10-23\n",
      "13106    공범 EP7  2021-10-28\n",
      "14935    공범 EP8  2021-10-30\n"
     ]
    }
   ],
   "source": [
    "video['date'] = video['ct'].dt.date\n",
    "result = video.sort_values(['videoname','date']).drop_duplicates('videoname',keep='first')\n",
    "print(result[['videoname','date']])\n"
   ]
  },
  {
   "cell_type": "markdown",
   "id": "d836c63f-ade5-4112-b32c-cc32a39a741a",
   "metadata": {
    "jp-MarkdownHeadingCollapsed": true
   },
   "source": [
    "## video 정보의 가장 최근 데이터들에서 각 에피소드의 싫어요/좋아요 비율을 ratio 커럼으로 만들고 videoname,ratio로 구성된 데이터 프레임을 ratio 오름차순으로 정렬"
   ]
  },
  {
   "cell_type": "code",
   "execution_count": 142,
   "id": "79be81a2-bc2f-4b14-9ecc-35f19ea75b24",
   "metadata": {},
   "outputs": [
    {
     "name": "stdout",
     "output_type": "stream",
     "text": [
      "      videoname     ratio\n",
      "13660    공범 EP7  0.013636\n",
      "14934    공범 EP6  0.015881\n",
      "11543    공범 EP4  0.017971\n",
      "13105    공범 EP5  0.021128\n",
      "9263     공범 EP3  0.022360\n",
      "3491     공범 EP1  0.027118\n",
      "6695     공범 EP2  0.029844\n",
      "15200    공범 EP8  0.141357\n"
     ]
    }
   ],
   "source": [
    "result = video.sort_values(['videoname','ct']).drop_duplicates('videoname',keep='last')\n",
    "result['ratio'] = result.dislikecnt/result.likecnt\n",
    "print(result[['videoname','ratio']].sort_values('ratio'))"
   ]
  },
  {
   "cell_type": "markdown",
   "id": "ee517283-e2fa-4b19-8573-c158b2a80c9d",
   "metadata": {
    "jp-MarkdownHeadingCollapsed": true
   },
   "source": [
    "## 2021-11-01 00:00:00 ~ 15:00:00까지 각 에피소드별 viewcnt의 증가량을 데이터 프레임으로 만드시오"
   ]
  },
  {
   "cell_type": "code",
   "execution_count": 153,
   "id": "c181ea0e-487d-4099-ad0c-b451f53995f7",
   "metadata": {},
   "outputs": [
    {
     "name": "stdout",
     "output_type": "stream",
     "text": [
      "  videoname  viewcnt\n",
      "0    공범 EP1    13298\n",
      "1    공범 EP2    10300\n",
      "2    공범 EP3     9927\n",
      "3    공범 EP4     9824\n",
      "4    공범 EP5    10824\n",
      "5    공범 EP6    14141\n",
      "6    공범 EP7    26949\n",
      "7    공범 EP8    89147\n"
     ]
    }
   ],
   "source": [
    "before = video.loc[(video.ct >= '2021-11-01 00:00:00'),['videoname','viewcnt','ct']].sort_values(['videoname','ct']).drop_duplicates('videoname',keep='first')\n",
    "before = before.rename(columns={'viewcnt':'before'})\n",
    "after = video.loc[(video.ct <= '2021-11-01 15:00:00'),['videoname','viewcnt','ct']].sort_values(['videoname','ct']).drop_duplicates('videoname',keep='last')\n",
    "after = after.rename(columns={'viewcnt':'after'})\n",
    "total = pd.merge(before[['videoname','before']],after[['videoname','after']])\n",
    "total['viewcnt'] = total['after']-total['before']\n",
    "print(total[['videoname','viewcnt']])"
   ]
  },
  {
   "cell_type": "markdown",
   "id": "7cc762fb-ac69-48b3-b1c4-8dc3a435ab0f",
   "metadata": {
    "jp-MarkdownHeadingCollapsed": true
   },
   "source": [
    "## video 데이터 중에서 중복되는 데이터의 시간대와 videoname"
   ]
  },
  {
   "cell_type": "code",
   "execution_count": 174,
   "id": "28f9e977-d780-4c2a-b3bf-b34e3f5952cd",
   "metadata": {},
   "outputs": [
    {
     "name": "stdout",
     "output_type": "stream",
     "text": [
      "     videoname                  ct\n",
      "722     공범 EP1 2021-10-13 09:41:37\n",
      "3927    공범 EP2 2021-10-13 09:41:37\n"
     ]
    }
   ],
   "source": [
    "answer = video[video.index.isin(set(video.index) - set(video.drop_duplicates().index))]\n",
    "print(answer[['videoname','ct']])"
   ]
  },
  {
   "cell_type": "markdown",
   "id": "10ce0c9b-de18-4b5a-bb11-f70ffb21fd28",
   "metadata": {
    "jp-MarkdownHeadingCollapsed": true
   },
   "source": [
    "# 월드컵 출전선수 골기록 데이터"
   ]
  },
  {
   "cell_type": "markdown",
   "id": "3b947b67-0866-4bf0-a7bf-be51b6b19a59",
   "metadata": {
    "jp-MarkdownHeadingCollapsed": true
   },
   "source": [
    "## 데이터 로드"
   ]
  },
  {
   "cell_type": "code",
   "execution_count": 410,
   "id": "f814b1b7-df75-4576-a0de-012ffa03a2f3",
   "metadata": {},
   "outputs": [
    {
     "data": {
      "text/html": [
       "<div>\n",
       "<style scoped>\n",
       "    .dataframe tbody tr th:only-of-type {\n",
       "        vertical-align: middle;\n",
       "    }\n",
       "\n",
       "    .dataframe tbody tr th {\n",
       "        vertical-align: top;\n",
       "    }\n",
       "\n",
       "    .dataframe thead th {\n",
       "        text-align: right;\n",
       "    }\n",
       "</style>\n",
       "<table border=\"1\" class=\"dataframe\">\n",
       "  <thead>\n",
       "    <tr style=\"text-align: right;\">\n",
       "      <th></th>\n",
       "      <th>Player</th>\n",
       "      <th>Goals</th>\n",
       "      <th>Years</th>\n",
       "      <th>Country</th>\n",
       "    </tr>\n",
       "  </thead>\n",
       "  <tbody>\n",
       "    <tr>\n",
       "      <th>0</th>\n",
       "      <td>Miroslav Klose</td>\n",
       "      <td>16</td>\n",
       "      <td>2002-2006-2010-2014</td>\n",
       "      <td>Germany</td>\n",
       "    </tr>\n",
       "    <tr>\n",
       "      <th>1</th>\n",
       "      <td>Ronaldo</td>\n",
       "      <td>15</td>\n",
       "      <td>1998-2002-2006</td>\n",
       "      <td>Brazil</td>\n",
       "    </tr>\n",
       "    <tr>\n",
       "      <th>2</th>\n",
       "      <td>Gerd Muller</td>\n",
       "      <td>14</td>\n",
       "      <td>1970-1974</td>\n",
       "      <td>Germany</td>\n",
       "    </tr>\n",
       "    <tr>\n",
       "      <th>3</th>\n",
       "      <td>Just Fontaine</td>\n",
       "      <td>13</td>\n",
       "      <td>1958</td>\n",
       "      <td>France</td>\n",
       "    </tr>\n",
       "    <tr>\n",
       "      <th>4</th>\n",
       "      <td>Pele</td>\n",
       "      <td>12</td>\n",
       "      <td>1958-1962-1966-1970</td>\n",
       "      <td>Brazil</td>\n",
       "    </tr>\n",
       "  </tbody>\n",
       "</table>\n",
       "</div>"
      ],
      "text/plain": [
       "           Player  Goals                Years  Country\n",
       "0  Miroslav Klose     16  2002-2006-2010-2014  Germany\n",
       "1         Ronaldo     15       1998-2002-2006   Brazil\n",
       "2     Gerd Muller     14            1970-1974  Germany\n",
       "3   Just Fontaine     13                 1958   France\n",
       "4            Pele     12  1958-1962-1966-1970   Brazil"
      ]
     },
     "execution_count": 410,
     "metadata": {},
     "output_type": "execute_result"
    }
   ],
   "source": [
    "import pandas as pd\n",
    "\n",
    "df= pd.read_csv('https://raw.githubusercontent.com/Datamanim/datarepo/main/worldcup/worldcupgoals.csv')\n",
    "df.head()"
   ]
  },
  {
   "cell_type": "markdown",
   "id": "ab9f62c7-6601-45b4-b22c-e6e37e6b79e6",
   "metadata": {
    "jp-MarkdownHeadingCollapsed": true
   },
   "source": [
    "## 주어진 전체 기간의 각 나라별 골득점수 상위 5개 국가와 그 득점수 출력"
   ]
  },
  {
   "cell_type": "code",
   "execution_count": 411,
   "id": "5483e51a-f350-49e0-b406-d4876ccce1f9",
   "metadata": {},
   "outputs": [
    {
     "name": "stdout",
     "output_type": "stream",
     "text": [
      "           Goals\n",
      "Country         \n",
      "Brazil       228\n",
      "Germany      226\n",
      "Argentina    135\n",
      "Italy        123\n",
      "France       115\n"
     ]
    }
   ],
   "source": [
    "print(df[['Country','Goals']].groupby('Country').sum().sort_values('Goals',ascending=False).head(5))\n"
   ]
  },
  {
   "cell_type": "markdown",
   "id": "a20583a3-acbc-4f0d-91af-fdd76d3b6fd0",
   "metadata": {
    "jp-MarkdownHeadingCollapsed": true
   },
   "source": [
    "## 골득점을 한 선수가 많은 상위 5개 국가와 그 선수 숫자를 데이터 프레임 형식으로 출력"
   ]
  },
  {
   "cell_type": "code",
   "execution_count": 412,
   "id": "de7eb6a3-81a4-484f-8534-029779a3c066",
   "metadata": {},
   "outputs": [
    {
     "name": "stdout",
     "output_type": "stream",
     "text": [
      "Country\n",
      "Brazil       81\n",
      "Germany      78\n",
      "Italy        60\n",
      "Argentina    59\n",
      "France       58\n",
      "dtype: int64\n"
     ]
    }
   ],
   "source": [
    "print(df[['Country','Player']].groupby('Country').size().sort_values(ascending=False).head(5))"
   ]
  },
  {
   "cell_type": "markdown",
   "id": "6378c7a0-524c-4a6e-b7d2-c5cc052deb1d",
   "metadata": {
    "jp-MarkdownHeadingCollapsed": true
   },
   "source": [
    "## 년도 표기가 4자리 숫자로 안된 케이스가 몇 건인지 출력"
   ]
  },
  {
   "cell_type": "code",
   "execution_count": 413,
   "id": "44aa57d7-aa03-4d76-9c70-7a6f25b28900",
   "metadata": {},
   "outputs": [
    {
     "name": "stdout",
     "output_type": "stream",
     "text": [
      "45\n"
     ]
    }
   ],
   "source": [
    "df['Years_list'] = df['Years'].str.split('-')\n",
    "def check(row):\n",
    "    answer = False\n",
    "    for i in row:\n",
    "        if len(i) != 4:\n",
    "            answer = True\n",
    "    return answer\n",
    "df['Check'] = df['Years_list'].apply(check)\n",
    "print(len(df.loc[df['Check'] == True]))"
   ]
  },
  {
   "cell_type": "markdown",
   "id": "12753292-ec7b-45d7-b8cd-98677b9d72d3",
   "metadata": {
    "jp-MarkdownHeadingCollapsed": true
   },
   "source": [
    "## 년도 표기가 4자리 숫자로 되어있는 케이스만 추출"
   ]
  },
  {
   "cell_type": "code",
   "execution_count": 414,
   "id": "0da9940b-5c8a-472a-a66c-af88ad480b2d",
   "metadata": {},
   "outputs": [
    {
     "name": "stdout",
     "output_type": "stream",
     "text": [
      "1250\n"
     ]
    }
   ],
   "source": [
    "df2 = df.loc[df['Check'] == False]\n",
    "print(len(df2))"
   ]
  },
  {
   "cell_type": "markdown",
   "id": "5bc00be4-9af9-4f0e-ae27-e0e770411147",
   "metadata": {
    "jp-MarkdownHeadingCollapsed": true
   },
   "source": [
    "## 월드컵 출전횟수를 나타내는 'LenCup' 컬럼을 추가하고 4회 출전한 선수의 숫자 출력"
   ]
  },
  {
   "cell_type": "code",
   "execution_count": 415,
   "id": "9308b4a5-297f-4017-a083-704f8b2b4a92",
   "metadata": {},
   "outputs": [
    {
     "name": "stdout",
     "output_type": "stream",
     "text": [
      "16\n"
     ]
    },
    {
     "name": "stderr",
     "output_type": "stream",
     "text": [
      "/tmp/ipykernel_762/715742222.py:1: SettingWithCopyWarning: \n",
      "A value is trying to be set on a copy of a slice from a DataFrame.\n",
      "Try using .loc[row_indexer,col_indexer] = value instead\n",
      "\n",
      "See the caveats in the documentation: https://pandas.pydata.org/pandas-docs/stable/user_guide/indexing.html#returning-a-view-versus-a-copy\n",
      "  df2['LenCup'] = df.Years_list.map(lambda x : len(x))\n"
     ]
    }
   ],
   "source": [
    "df2['LenCup'] = df.Years_list.map(lambda x : len(x))\n",
    "print(len(df2.loc[df2.LenCup == 4]))"
   ]
  },
  {
   "cell_type": "markdown",
   "id": "824e9aa3-a8e3-4393-b9d1-644acb63d790",
   "metadata": {
    "jp-MarkdownHeadingCollapsed": true
   },
   "source": [
    "## Yugoslavia 국가의 월드컵 출전횟수가 2회인 선수들의 숫자"
   ]
  },
  {
   "cell_type": "code",
   "execution_count": 416,
   "id": "6180520e-83ba-4ae7-9acf-7b160dd1ded8",
   "metadata": {},
   "outputs": [
    {
     "name": "stdout",
     "output_type": "stream",
     "text": [
      "7\n"
     ]
    }
   ],
   "source": [
    "print(len(df2[(df2.Country == 'Yugoslavia') & (df2.LenCup == 2)]))"
   ]
  },
  {
   "cell_type": "markdown",
   "id": "d0c3eb9d-21d2-4559-8406-6363fc91967c",
   "metadata": {
    "jp-MarkdownHeadingCollapsed": true
   },
   "source": [
    "## 2002년도에 출전한 전체 선수 "
   ]
  },
  {
   "cell_type": "code",
   "execution_count": 417,
   "id": "8e76b39e-79d3-4794-84bc-3a042e421e3b",
   "metadata": {},
   "outputs": [
    {
     "name": "stdout",
     "output_type": "stream",
     "text": [
      "156\n"
     ]
    }
   ],
   "source": [
    "print(len(df2.loc[df2.Years.str.contains('2002')]))"
   ]
  },
  {
   "cell_type": "markdown",
   "id": "3e744e47-a28f-408a-be2e-851c21f1aca9",
   "metadata": {
    "jp-MarkdownHeadingCollapsed": true
   },
   "source": [
    "## 이름에 'carlos' 단어가 들어가는 선수의 숫자"
   ]
  },
  {
   "cell_type": "code",
   "execution_count": 418,
   "id": "7fac35d0-5e07-4e43-9bb8-e7ba12f08a51",
   "metadata": {},
   "outputs": [
    {
     "name": "stdout",
     "output_type": "stream",
     "text": [
      "13\n"
     ]
    }
   ],
   "source": [
    "print(len(df2.loc[df.Player.str.lower().str.contains('carlos')]))"
   ]
  },
  {
   "cell_type": "markdown",
   "id": "58006b39-c7c2-49e8-9219-371fc20f807b",
   "metadata": {
    "jp-MarkdownHeadingCollapsed": true
   },
   "source": [
    "## 월드컵 출전 횟수가 1회뿐인 선수들 중에서 가장 많은 득점을 올렸던 선수"
   ]
  },
  {
   "cell_type": "code",
   "execution_count": 419,
   "id": "3142c97d-a653-4c56-9422-8a9c5e5a5563",
   "metadata": {},
   "outputs": [
    {
     "name": "stdout",
     "output_type": "stream",
     "text": [
      "Just Fontaine\n"
     ]
    }
   ],
   "source": [
    "print(df2.loc[df2.LenCup == 1].sort_values('Goals',ascending=False)['Player'].values[0])"
   ]
  },
  {
   "cell_type": "markdown",
   "id": "abe51c53-b978-4a1e-82f0-7235abab9e68",
   "metadata": {
    "jp-MarkdownHeadingCollapsed": true
   },
   "source": [
    "## 월드컵 출전횟수가 1회 뿐인 선수들이 가장 많은 국가"
   ]
  },
  {
   "cell_type": "code",
   "execution_count": 420,
   "id": "fdde7caf-5d69-44ab-a13f-2e7174f8baa0",
   "metadata": {},
   "outputs": [
    {
     "name": "stdout",
     "output_type": "stream",
     "text": [
      "Brazil\n"
     ]
    }
   ],
   "source": [
    "print(df2.loc[df2.LenCup == 1].groupby('Country').size().sort_values(ascending=False).index[0])"
   ]
  },
  {
   "cell_type": "markdown",
   "id": "1f012ac7-61d7-471d-8ce8-7048ffd51bfa",
   "metadata": {
    "jp-MarkdownHeadingCollapsed": true
   },
   "source": [
    "# 서울시 따릉이 이용정보 데이터"
   ]
  },
  {
   "cell_type": "markdown",
   "id": "25f14ece-0c3d-4fae-981b-de759393f93a",
   "metadata": {
    "jp-MarkdownHeadingCollapsed": true
   },
   "source": [
    "## 데이터 로드"
   ]
  },
  {
   "cell_type": "code",
   "execution_count": 421,
   "id": "d3ca26ea-c771-4aa6-8fc2-4d8263b8be6c",
   "metadata": {},
   "outputs": [
    {
     "data": {
      "text/html": [
       "<div>\n",
       "<style scoped>\n",
       "    .dataframe tbody tr th:only-of-type {\n",
       "        vertical-align: middle;\n",
       "    }\n",
       "\n",
       "    .dataframe tbody tr th {\n",
       "        vertical-align: top;\n",
       "    }\n",
       "\n",
       "    .dataframe thead th {\n",
       "        text-align: right;\n",
       "    }\n",
       "</style>\n",
       "<table border=\"1\" class=\"dataframe\">\n",
       "  <thead>\n",
       "    <tr style=\"text-align: right;\">\n",
       "      <th></th>\n",
       "      <th>대여일자</th>\n",
       "      <th>대여시간</th>\n",
       "      <th>대여소번호</th>\n",
       "      <th>대여구분코드</th>\n",
       "      <th>성별</th>\n",
       "      <th>연령대코드</th>\n",
       "      <th>이용건수</th>\n",
       "      <th>운동량</th>\n",
       "      <th>탄소량</th>\n",
       "      <th>이동거리</th>\n",
       "      <th>사용시간</th>\n",
       "    </tr>\n",
       "  </thead>\n",
       "  <tbody>\n",
       "    <tr>\n",
       "      <th>0</th>\n",
       "      <td>2021-06-01</td>\n",
       "      <td>0</td>\n",
       "      <td>3541</td>\n",
       "      <td>정기권</td>\n",
       "      <td>F</td>\n",
       "      <td>~10대</td>\n",
       "      <td>1</td>\n",
       "      <td>0.00</td>\n",
       "      <td>0.00</td>\n",
       "      <td>0.00</td>\n",
       "      <td>8</td>\n",
       "    </tr>\n",
       "    <tr>\n",
       "      <th>1</th>\n",
       "      <td>2021-06-01</td>\n",
       "      <td>0</td>\n",
       "      <td>765</td>\n",
       "      <td>정기권</td>\n",
       "      <td>F</td>\n",
       "      <td>~10대</td>\n",
       "      <td>1</td>\n",
       "      <td>27.21</td>\n",
       "      <td>0.35</td>\n",
       "      <td>1526.81</td>\n",
       "      <td>19</td>\n",
       "    </tr>\n",
       "    <tr>\n",
       "      <th>2</th>\n",
       "      <td>2021-06-01</td>\n",
       "      <td>0</td>\n",
       "      <td>2637</td>\n",
       "      <td>정기권</td>\n",
       "      <td>F</td>\n",
       "      <td>~10대</td>\n",
       "      <td>1</td>\n",
       "      <td>41.40</td>\n",
       "      <td>0.37</td>\n",
       "      <td>1608.56</td>\n",
       "      <td>18</td>\n",
       "    </tr>\n",
       "    <tr>\n",
       "      <th>3</th>\n",
       "      <td>2021-06-01</td>\n",
       "      <td>0</td>\n",
       "      <td>2919</td>\n",
       "      <td>정기권</td>\n",
       "      <td>F</td>\n",
       "      <td>~10대</td>\n",
       "      <td>1</td>\n",
       "      <td>0.00</td>\n",
       "      <td>0.00</td>\n",
       "      <td>0.00</td>\n",
       "      <td>75</td>\n",
       "    </tr>\n",
       "    <tr>\n",
       "      <th>4</th>\n",
       "      <td>2021-06-01</td>\n",
       "      <td>0</td>\n",
       "      <td>549</td>\n",
       "      <td>정기권</td>\n",
       "      <td>F</td>\n",
       "      <td>~10대</td>\n",
       "      <td>1</td>\n",
       "      <td>13.04</td>\n",
       "      <td>0.17</td>\n",
       "      <td>731.55</td>\n",
       "      <td>6</td>\n",
       "    </tr>\n",
       "  </tbody>\n",
       "</table>\n",
       "</div>"
      ],
      "text/plain": [
       "         대여일자  대여시간  대여소번호 대여구분코드 성별 연령대코드  이용건수    운동량   탄소량     이동거리  사용시간\n",
       "0  2021-06-01     0   3541    정기권  F  ~10대     1   0.00  0.00     0.00     8\n",
       "1  2021-06-01     0    765    정기권  F  ~10대     1  27.21  0.35  1526.81    19\n",
       "2  2021-06-01     0   2637    정기권  F  ~10대     1  41.40  0.37  1608.56    18\n",
       "3  2021-06-01     0   2919    정기권  F  ~10대     1   0.00  0.00     0.00    75\n",
       "4  2021-06-01     0    549    정기권  F  ~10대     1  13.04  0.17   731.55     6"
      ]
     },
     "execution_count": 421,
     "metadata": {},
     "output_type": "execute_result"
    }
   ],
   "source": [
    "import pandas as pd\n",
    "df =pd.read_csv('https://raw.githubusercontent.com/Datamanim/datarepo/main/bicycle/seoul_bi.csv')\n",
    "df.head()"
   ]
  },
  {
   "cell_type": "markdown",
   "id": "630dfba6-0cbb-47b6-9533-f32e77dbea96",
   "metadata": {
    "jp-MarkdownHeadingCollapsed": true
   },
   "source": [
    "## 대여일자별 데이터의 수를 데이터프레임으로 출력하고, 가장 많은 데이터가 있는 날짜 출력"
   ]
  },
  {
   "cell_type": "code",
   "execution_count": 422,
   "id": "9b16937a-a2a2-4cda-beb3-33b6581d81a3",
   "metadata": {},
   "outputs": [
    {
     "name": "stdout",
     "output_type": "stream",
     "text": [
      "대여일자\n",
      "2021-06-01    48081\n",
      "2021-06-02    56100\n",
      "2021-06-03    18985\n",
      "2021-06-04    56788\n",
      "2021-06-05    52730\n",
      "2021-06-06    47787\n",
      "2021-06-07    52623\n",
      "2021-06-08    55623\n",
      "2021-06-09    54507\n",
      "2021-06-10    36992\n",
      "2021-06-11    52089\n",
      "2021-06-12    48569\n",
      "2021-06-13    43131\n",
      "2021-06-14    54945\n",
      "dtype: int64\n",
      "2021-06-04\n"
     ]
    }
   ],
   "source": [
    "print(df.groupby('대여일자').size())\n",
    "print(df.groupby('대여일자').size().sort_values(ascending= False).index[0])"
   ]
  },
  {
   "cell_type": "markdown",
   "id": "32d760f9-1488-46f1-8b81-96dd6a1559b5",
   "metadata": {
    "jp-MarkdownHeadingCollapsed": true
   },
   "source": [
    "## 각 일자의 요일을 표기하고 day_name 칼럼을 추가하고 이를 이용하여 각 요일별 이용 회숫의 총합을 데이터 프레임으로 출력"
   ]
  },
  {
   "cell_type": "code",
   "execution_count": 423,
   "id": "56ef5c5c-1950-4181-9dfa-17a8398fa6b4",
   "metadata": {},
   "outputs": [
    {
     "name": "stdout",
     "output_type": "stream",
     "text": [
      "day_name\n",
      "Friday       108877\n",
      "Monday       107568\n",
      "Saturday     101299\n",
      "Sunday        90918\n",
      "Thursday      55977\n",
      "Tuesday      103704\n",
      "Wednesday    110607\n",
      "dtype: int64\n"
     ]
    }
   ],
   "source": [
    "df['대여일자'] = pd.to_datetime(df['대여일자'])\n",
    "df['day_name'] = df['대여일자'].dt.day_name()\n",
    "print(df.groupby('day_name').size())"
   ]
  },
  {
   "cell_type": "markdown",
   "id": "3fa38d17-7f74-4d11-aebb-ff252b13309b",
   "metadata": {
    "jp-MarkdownHeadingCollapsed": true
   },
   "source": [
    "## 각 요일별 가장 많이 이용한 대여소의 이용횟수와 대여소 번호를 데이터 프레임으로 출력"
   ]
  },
  {
   "cell_type": "code",
   "execution_count": 424,
   "id": "a1a39995-d71e-4e0e-b797-449780ae80b9",
   "metadata": {},
   "outputs": [
    {
     "data": {
      "text/html": [
       "<div>\n",
       "<style scoped>\n",
       "    .dataframe tbody tr th:only-of-type {\n",
       "        vertical-align: middle;\n",
       "    }\n",
       "\n",
       "    .dataframe tbody tr th {\n",
       "        vertical-align: top;\n",
       "    }\n",
       "\n",
       "    .dataframe thead th {\n",
       "        text-align: right;\n",
       "    }\n",
       "</style>\n",
       "<table border=\"1\" class=\"dataframe\">\n",
       "  <thead>\n",
       "    <tr style=\"text-align: right;\">\n",
       "      <th></th>\n",
       "      <th>day_name</th>\n",
       "      <th>대여소번호</th>\n",
       "      <th>0</th>\n",
       "    </tr>\n",
       "  </thead>\n",
       "  <tbody>\n",
       "    <tr>\n",
       "      <th>0</th>\n",
       "      <td>Saturday</td>\n",
       "      <td>502</td>\n",
       "      <td>378</td>\n",
       "    </tr>\n",
       "    <tr>\n",
       "      <th>1</th>\n",
       "      <td>Sunday</td>\n",
       "      <td>502</td>\n",
       "      <td>372</td>\n",
       "    </tr>\n",
       "    <tr>\n",
       "      <th>8</th>\n",
       "      <td>Wednesday</td>\n",
       "      <td>502</td>\n",
       "      <td>282</td>\n",
       "    </tr>\n",
       "    <tr>\n",
       "      <th>9</th>\n",
       "      <td>Friday</td>\n",
       "      <td>502</td>\n",
       "      <td>277</td>\n",
       "    </tr>\n",
       "    <tr>\n",
       "      <th>10</th>\n",
       "      <td>Tuesday</td>\n",
       "      <td>502</td>\n",
       "      <td>267</td>\n",
       "    </tr>\n",
       "    <tr>\n",
       "      <th>19</th>\n",
       "      <td>Monday</td>\n",
       "      <td>502</td>\n",
       "      <td>242</td>\n",
       "    </tr>\n",
       "    <tr>\n",
       "      <th>298</th>\n",
       "      <td>Thursday</td>\n",
       "      <td>2715</td>\n",
       "      <td>137</td>\n",
       "    </tr>\n",
       "  </tbody>\n",
       "</table>\n",
       "</div>"
      ],
      "text/plain": [
       "      day_name  대여소번호    0\n",
       "0     Saturday    502  378\n",
       "1       Sunday    502  372\n",
       "8    Wednesday    502  282\n",
       "9       Friday    502  277\n",
       "10     Tuesday    502  267\n",
       "19      Monday    502  242\n",
       "298   Thursday   2715  137"
      ]
     },
     "execution_count": 424,
     "metadata": {},
     "output_type": "execute_result"
    }
   ],
   "source": [
    "df.groupby(['day_name','대여소번호']).size().sort_values(ascending=False).reset_index().drop_duplicates('day_name',keep='first')"
   ]
  },
  {
   "cell_type": "markdown",
   "id": "f6014c92-885c-41af-a5f0-9153b1270112",
   "metadata": {
    "jp-MarkdownHeadingCollapsed": true
   },
   "source": [
    "## 나이대별 대여구분 코드의 (일일권/전체횟수) 비율을 구한 후 가장 높은 비율을 가지는 나이대 확인/일일권의 경우 일일권과 일일권(비회원)을 모두 포함"
   ]
  },
  {
   "cell_type": "code",
   "execution_count": 425,
   "id": "65e81056-4565-4c91-96d9-d485b7452b52",
   "metadata": {},
   "outputs": [
    {
     "name": "stdout",
     "output_type": "stream",
     "text": [
      "연령대코드\n",
      "20대     0.239913\n",
      "30대     0.166702\n",
      "40대     0.110585\n",
      "50대     0.065414\n",
      "60대     0.042462\n",
      "70대~    0.048962\n",
      "~10대    0.312525\n",
      "dtype: float64\n",
      "~10대\n"
     ]
    }
   ],
   "source": [
    "print((df.loc[df['대여구분코드'].str.contains('일일권')].groupby('연령대코드').size() /df.groupby('연령대코드').size()))\n",
    "print((df.loc[df['대여구분코드'].str.contains('일일권')].groupby('연령대코드').size() /df.groupby('연령대코드').size()).sort_values().index[-1])"
   ]
  },
  {
   "cell_type": "markdown",
   "id": "93af558c-c134-42e4-adc8-21b04e75f34b",
   "metadata": {
    "jp-MarkdownHeadingCollapsed": true
   },
   "source": [
    "## 연령대별 평균 이동거리"
   ]
  },
  {
   "cell_type": "code",
   "execution_count": 426,
   "id": "9525e05e-2f4e-412e-a92e-2e1ef931a432",
   "metadata": {
    "scrolled": true
   },
   "outputs": [
    {
     "name": "stdout",
     "output_type": "stream",
     "text": [
      "연령대코드\n",
      "20대     3211.890552\n",
      "30대     3341.443859\n",
      "40대     3514.857416\n",
      "50대     3593.668100\n",
      "60대     3538.145737\n",
      "70대~    3085.039641\n",
      "~10대    2634.426279\n",
      "Name: 이동거리, dtype: float64\n"
     ]
    }
   ],
   "source": [
    "print(df.groupby('연령대코드').이동거리.mean())"
   ]
  },
  {
   "cell_type": "markdown",
   "id": "641814c0-9c7e-4171-99dc-505605c99f82",
   "metadata": {
    "jp-MarkdownHeadingCollapsed": true
   },
   "source": [
    "## 연령대가 20대인 데이터를 추출하고, 이동거리값이 추출한 데이터의 이동거리값의 평균 이상인 데이터를 추출, 최종 추출된 데이터를 대여일자, 대여소 번호 순서로 내림차순 정렬 후 1행부터 200행까지의 탄소량의 평균을 소숫점 3째 자리까지 구하기"
   ]
  },
  {
   "cell_type": "code",
   "execution_count": 427,
   "id": "a54c3480-00ee-4378-8c14-7e6942235508",
   "metadata": {},
   "outputs": [
    {
     "name": "stdout",
     "output_type": "stream",
     "text": [
      "1.643\n"
     ]
    }
   ],
   "source": [
    "answer = df.loc[df.연령대코드 == '20대'].loc[df.이동거리 >= df.이동거리.mean()].sort_values(['대여일자','대여소번호'],ascending=False).reset_index(drop=True)[:200]\n",
    "answer['탄소량'] = answer['탄소량'].astype(float)\n",
    "print(round(answer['탄소량'].mean(),3))"
   ]
  },
  {
   "cell_type": "markdown",
   "id": "d6688e4d-8ead-4600-9c53-f306784f0841",
   "metadata": {
    "jp-MarkdownHeadingCollapsed": true
   },
   "source": [
    "## 6월 7일 ~10의 이용건수의 중앙값"
   ]
  },
  {
   "cell_type": "code",
   "execution_count": 428,
   "id": "3bfbade0-778a-4148-b940-765da9861d65",
   "metadata": {},
   "outputs": [
    {
     "data": {
      "text/plain": [
       "1.0"
      ]
     },
     "execution_count": 428,
     "metadata": {},
     "output_type": "execute_result"
    }
   ],
   "source": [
    "df.loc[(df.대여일자 == '2021-06-07')&(df.연령대코드 == '~10대')].이용건수.median()"
   ]
  },
  {
   "cell_type": "markdown",
   "id": "dd30e3a9-f945-4a70-b964-51f5e27fa99c",
   "metadata": {
    "jp-MarkdownHeadingCollapsed": true
   },
   "source": [
    "## 평일 출근 시간대의 대여소별 이용 횟수 추출/ 대여시간별 이용횟수의 상위 3개 대여소와 이용횟수"
   ]
  },
  {
   "cell_type": "code",
   "execution_count": 429,
   "id": "aba96d0c-3e75-4b3d-b8e5-bd7d547fb04c",
   "metadata": {},
   "outputs": [
    {
     "name": "stdout",
     "output_type": "stream",
     "text": [
      "            이용 횟수\n",
      "대여시간 대여소번호       \n",
      "8    2701     119\n",
      "     646      115\n",
      "     1152      92\n",
      "7    259      104\n",
      "     230       77\n",
      "     726       77\n",
      "6    2744      45\n",
      "     1125      40\n",
      "     1028      36\n"
     ]
    }
   ],
   "source": [
    "result = df.loc[(~df.day_name.isin(['Saturday','Sunday']))&(df.대여시간.isin([6,7,8]))].groupby(['대여시간','대여소번호']).size().to_frame('이용 횟수')\n",
    "print(result.sort_values(['대여시간','이용 횟수'],ascending=False).groupby('대여시간').head(3))"
   ]
  },
  {
   "cell_type": "markdown",
   "id": "23e0445b-07f6-4904-8e8f-430e51d2be56",
   "metadata": {
    "jp-MarkdownHeadingCollapsed": true
   },
   "source": [
    "## 이동거리 평균 이상의 이동거리 값을 가지는 데이터의 이동거리 표본표준편차"
   ]
  },
  {
   "cell_type": "code",
   "execution_count": 430,
   "id": "1e183c93-4297-401d-9075-dbce1ee31e61",
   "metadata": {},
   "outputs": [
    {
     "name": "stdout",
     "output_type": "stream",
     "text": [
      "5092.139707505356\n"
     ]
    }
   ],
   "source": [
    "import numpy as np\n",
    "print(df.loc[df.이동거리 >= df.이동거리.mean()].이동거리.std())"
   ]
  },
  {
   "cell_type": "markdown",
   "id": "2356b827-9992-4a91-9a7c-9f221869063d",
   "metadata": {
    "jp-MarkdownHeadingCollapsed": true
   },
   "source": [
    "## 남성와 여성의 이동거리값의 평균값"
   ]
  },
  {
   "cell_type": "code",
   "execution_count": 432,
   "id": "4742f731-aca0-4166-a4c0-c72ad0ae658a",
   "metadata": {},
   "outputs": [
    {
     "data": {
      "text/plain": [
       "sex\n",
       "남성    3209.110871\n",
       "여성    3468.575025\n",
       "Name: 이동거리, dtype: float64"
      ]
     },
     "execution_count": 432,
     "metadata": {},
     "output_type": "execute_result"
    }
   ],
   "source": [
    "def sex(row):\n",
    "    if row == 'F' or row == 'f':\n",
    "        answer = '여성'\n",
    "    else:\n",
    "        answer = '남성'\n",
    "    return answer\n",
    "df['sex'] = df['성별'].apply(sex)\n",
    "df\n",
    "df.groupby('sex').이동거리.mean()"
   ]
  },
  {
   "cell_type": "markdown",
   "id": "35b81f97-6465-4ea0-97df-d98fa252f9a9",
   "metadata": {
    "jp-MarkdownHeadingCollapsed": true
   },
   "source": [
    "# 전세계 행복도 지표 데이터"
   ]
  },
  {
   "cell_type": "markdown",
   "id": "93b4381d-0d80-49cd-8980-030d8d0e28f4",
   "metadata": {
    "jp-MarkdownHeadingCollapsed": true
   },
   "source": [
    "## 데이터 로드"
   ]
  },
  {
   "cell_type": "code",
   "execution_count": 433,
   "id": "b8f7f578-dd3e-40a1-9c36-2b57f7b78338",
   "metadata": {},
   "outputs": [
    {
     "data": {
      "text/html": [
       "<div>\n",
       "<style scoped>\n",
       "    .dataframe tbody tr th:only-of-type {\n",
       "        vertical-align: middle;\n",
       "    }\n",
       "\n",
       "    .dataframe tbody tr th {\n",
       "        vertical-align: top;\n",
       "    }\n",
       "\n",
       "    .dataframe thead th {\n",
       "        text-align: right;\n",
       "    }\n",
       "</style>\n",
       "<table border=\"1\" class=\"dataframe\">\n",
       "  <thead>\n",
       "    <tr style=\"text-align: right;\">\n",
       "      <th></th>\n",
       "      <th>행복랭킹</th>\n",
       "      <th>나라명</th>\n",
       "      <th>점수</th>\n",
       "      <th>상대GDP</th>\n",
       "      <th>사회적지원</th>\n",
       "      <th>행복기대치</th>\n",
       "      <th>선택의 자유도</th>\n",
       "      <th>관대함</th>\n",
       "      <th>부패에 대한인식</th>\n",
       "      <th>년도</th>\n",
       "    </tr>\n",
       "  </thead>\n",
       "  <tbody>\n",
       "    <tr>\n",
       "      <th>0</th>\n",
       "      <td>1</td>\n",
       "      <td>Finland</td>\n",
       "      <td>7.769</td>\n",
       "      <td>1.340</td>\n",
       "      <td>1.587</td>\n",
       "      <td>0.986</td>\n",
       "      <td>0.596</td>\n",
       "      <td>0.153</td>\n",
       "      <td>0.393</td>\n",
       "      <td>2019</td>\n",
       "    </tr>\n",
       "    <tr>\n",
       "      <th>1</th>\n",
       "      <td>2</td>\n",
       "      <td>Denmark</td>\n",
       "      <td>7.600</td>\n",
       "      <td>1.383</td>\n",
       "      <td>1.573</td>\n",
       "      <td>0.996</td>\n",
       "      <td>0.592</td>\n",
       "      <td>0.252</td>\n",
       "      <td>0.410</td>\n",
       "      <td>2019</td>\n",
       "    </tr>\n",
       "    <tr>\n",
       "      <th>2</th>\n",
       "      <td>3</td>\n",
       "      <td>Norway</td>\n",
       "      <td>7.554</td>\n",
       "      <td>1.488</td>\n",
       "      <td>1.582</td>\n",
       "      <td>1.028</td>\n",
       "      <td>0.603</td>\n",
       "      <td>0.271</td>\n",
       "      <td>0.341</td>\n",
       "      <td>2019</td>\n",
       "    </tr>\n",
       "    <tr>\n",
       "      <th>3</th>\n",
       "      <td>4</td>\n",
       "      <td>Iceland</td>\n",
       "      <td>7.494</td>\n",
       "      <td>1.380</td>\n",
       "      <td>1.624</td>\n",
       "      <td>1.026</td>\n",
       "      <td>0.591</td>\n",
       "      <td>0.354</td>\n",
       "      <td>0.118</td>\n",
       "      <td>2019</td>\n",
       "    </tr>\n",
       "    <tr>\n",
       "      <th>4</th>\n",
       "      <td>5</td>\n",
       "      <td>Netherlands</td>\n",
       "      <td>7.488</td>\n",
       "      <td>1.396</td>\n",
       "      <td>1.522</td>\n",
       "      <td>0.999</td>\n",
       "      <td>0.557</td>\n",
       "      <td>0.322</td>\n",
       "      <td>0.298</td>\n",
       "      <td>2019</td>\n",
       "    </tr>\n",
       "  </tbody>\n",
       "</table>\n",
       "</div>"
      ],
      "text/plain": [
       "   행복랭킹          나라명     점수  상대GDP  사회적지원  행복기대치  선택의 자유도    관대함  부패에 대한인식  \\\n",
       "0     1      Finland  7.769  1.340  1.587  0.986    0.596  0.153     0.393   \n",
       "1     2      Denmark  7.600  1.383  1.573  0.996    0.592  0.252     0.410   \n",
       "2     3       Norway  7.554  1.488  1.582  1.028    0.603  0.271     0.341   \n",
       "3     4      Iceland  7.494  1.380  1.624  1.026    0.591  0.354     0.118   \n",
       "4     5  Netherlands  7.488  1.396  1.522  0.999    0.557  0.322     0.298   \n",
       "\n",
       "     년도  \n",
       "0  2019  \n",
       "1  2019  \n",
       "2  2019  \n",
       "3  2019  \n",
       "4  2019  "
      ]
     },
     "execution_count": 433,
     "metadata": {},
     "output_type": "execute_result"
    }
   ],
   "source": [
    "import pandas as pd\n",
    "df =pd.read_csv('https://raw.githubusercontent.com/Datamanim/datarepo/main/happy2/happiness.csv',encoding='utf-8')\n",
    "df.head()"
   ]
  },
  {
   "cell_type": "markdown",
   "id": "b40bd57c-a26a-4dbe-9c70-27a79af42e0f",
   "metadata": {
    "jp-MarkdownHeadingCollapsed": true
   },
   "source": [
    "## 데이터는 2018년도와 2019년도의 전세계 행복 지수를 표현하고, 각 년도의 행복랭킹 50위 이내의 나라들의 각각의 행복 점수 평균을 데이터 프레임으로 표시"
   ]
  },
  {
   "cell_type": "code",
   "execution_count": 446,
   "id": "ff070781-faf9-4e13-b50e-54eee8e9c885",
   "metadata": {},
   "outputs": [
    {
     "name": "stdout",
     "output_type": "stream",
     "text": [
      "           점수\n",
      "년도           \n",
      "2018  6.64678\n",
      "2019  6.67002\n"
     ]
    }
   ],
   "source": [
    "answer = df.loc[(df.년도 == 2018)|(df.년도 == 2019)].sort_values(['년도','점수'],ascending=False).groupby('년도').head(50)\n",
    "print(answer.groupby('년도').점수.mean().to_frame())"
   ]
  },
  {
   "cell_type": "markdown",
   "id": "48bd22f6-c490-4d4a-a13b-c46db4d986a0",
   "metadata": {
    "jp-MarkdownHeadingCollapsed": true
   },
   "source": [
    "## 2018년도 데이터들만 추출하여 행복점수와 부패에 대한 인식에 대한 상관계수를 구하기"
   ]
  },
  {
   "cell_type": "code",
   "execution_count": 457,
   "id": "5c40a89d-ce2d-46ea-8a97-2c2206084c76",
   "metadata": {},
   "outputs": [
    {
     "name": "stdout",
     "output_type": "stream",
     "text": [
      "0.40529152271510027\n"
     ]
    }
   ],
   "source": [
    "print(df.loc[df.년도 == 2018][['점수','부패에 대한인식']].corr().iloc[0,1])"
   ]
  },
  {
   "cell_type": "markdown",
   "id": "81737fb8-0187-47eb-9a6b-827e0d64715c",
   "metadata": {
    "jp-MarkdownHeadingCollapsed": true
   },
   "source": [
    "## 2018년도와 2019년도의 행복랭킹이 변화하지 않은 나라명의 수"
   ]
  },
  {
   "cell_type": "code",
   "execution_count": 484,
   "id": "0a80ae7d-84ae-4d9a-9f76-7a282f4d83a5",
   "metadata": {},
   "outputs": [
    {
     "name": "stdout",
     "output_type": "stream",
     "text": [
      "15\n"
     ]
    }
   ],
   "source": [
    "df2018 = df.loc[df.년도 == 2018]\n",
    "df2018 = df2018.rename(columns={'년도':'2018','행복랭킹':'2018 점수'})\n",
    "df2019 = df.loc[df.년도 == 2019]\n",
    "df2019 = df2019.rename(columns={'년도':'2019','행복랭킹':'2019 점수'})\n",
    "df2019 =df2019[['나라명','2019 점수']]\n",
    "df2018 = df2018[['나라명','2018 점수']]\n",
    "total = pd.merge(df2018,df2019)\n",
    "total['diff'] = total['2019 점수'] - total['2018 점수']\n",
    "# total.loc[total.diff == 0]\n",
    "print(len(total.loc[total['diff']==0]))"
   ]
  },
  {
   "cell_type": "markdown",
   "id": "179007b6-7e8a-482a-950f-b3f3dace8a90",
   "metadata": {
    "jp-MarkdownHeadingCollapsed": true
   },
   "source": [
    "## 2019년도 데이터들만 추출하여 각 변수간 상관계수를 구하고 내림차순으로 정렬한 후 상위 5개를 데이터 프레임으로 출력, 컬렴명 v1, v2, corr 표시"
   ]
  },
  {
   "cell_type": "code",
   "execution_count": 501,
   "id": "30b4d622-646a-4220-a570-b9411e8bcb9e",
   "metadata": {},
   "outputs": [
    {
     "name": "stdout",
     "output_type": "stream",
     "text": [
      "      v1     v2      corr\n",
      "0  상대GDP  행복기대치  0.835462\n",
      "1  행복기대치  상대GDP  0.835462\n",
      "2  상대GDP  사회적지원  0.754906\n",
      "3  사회적지원  상대GDP  0.754906\n",
      "4  사회적지원  행복기대치  0.719009\n"
     ]
    }
   ],
   "source": [
    "df2019 = df.loc[df.년도 == 2019]\n",
    "result = df2019[['상대GDP','사회적지원','행복기대치','선택의 자유도','관대함','부패에 대한인식']].corr().unstack().reset_index().drop_duplicates()\n",
    "result = result.rename(columns={'level_0':'v1','level_1':'v2',0:'corr'})\n",
    "print(result.loc[result['corr'] != 1].sort_values('corr',ascending=False).reset_index(drop=True).head(5))"
   ]
  },
  {
   "cell_type": "markdown",
   "id": "df7ece14-feb9-41e0-9373-5bcf6b487ec7",
   "metadata": {
    "jp-MarkdownHeadingCollapsed": true
   },
   "source": [
    "## 각 년도별 하위 행복점수의 하위 5개 국가의 평균 행복점수"
   ]
  },
  {
   "cell_type": "code",
   "execution_count": 511,
   "id": "ad2787db-b297-4b96-b1aa-27f1b930d924",
   "metadata": {},
   "outputs": [
    {
     "name": "stdout",
     "output_type": "stream",
     "text": [
      "년도\n",
      "2018    3.1800\n",
      "2019    3.1408\n",
      "Name: 점수, dtype: float64\n"
     ]
    }
   ],
   "source": [
    "result = df.sort_values(['년도','점수']).groupby('년도').head(5)\n",
    "print(result.groupby('년도').점수.mean())"
   ]
  },
  {
   "cell_type": "markdown",
   "id": "9e3b8ef9-0c81-4426-b525-539073660973",
   "metadata": {
    "jp-MarkdownHeadingCollapsed": true
   },
   "source": [
    "## 각 년도의 부패에 대한 인식을 내림차순 정렬했을 때 상위 20개 국가의 부패에 대한 인식의 평균"
   ]
  },
  {
   "cell_type": "code",
   "execution_count": 515,
   "id": "d6e9835c-4ae5-4d62-a97e-d408e6a26370",
   "metadata": {},
   "outputs": [
    {
     "name": "stdout",
     "output_type": "stream",
     "text": [
      "년도\n",
      "2018    0.3267\n",
      "2019    0.3201\n",
      "Name: 부패에 대한인식, dtype: float64\n"
     ]
    }
   ],
   "source": [
    "result = df.sort_values(['년도','부패에 대한인식'],ascending=False).groupby('년도').head(20)\n",
    "print(result.groupby('년도')['부패에 대한인식'].mean())"
   ]
  },
  {
   "cell_type": "markdown",
   "id": "cf223229-bf15-4dec-9bfa-32d594d2859b",
   "metadata": {
    "jp-MarkdownHeadingCollapsed": true
   },
   "source": [
    "## 2018년도 행복랭킹 50위 이내에 포함됐다가 2019년 50위 밖으로 밀려난 국가의 숫자"
   ]
  },
  {
   "cell_type": "code",
   "execution_count": 519,
   "id": "ebf20f7f-7934-4d71-bfeb-713b2c61a8bd",
   "metadata": {},
   "outputs": [
    {
     "name": "stdout",
     "output_type": "stream",
     "text": [
      "4\n"
     ]
    }
   ],
   "source": [
    "df2018 = df.loc[(df.행복랭킹 <= 50)&(df.년도 == 2018)]\n",
    "df2019 = df.loc[(df.행복랭킹 >= 50)&(df.년도 == 2019)]\n",
    "total = pd.merge(df2018['나라명'],df2019['나라명'])\n",
    "print(len(total))"
   ]
  },
  {
   "cell_type": "markdown",
   "id": "a8dae5a7-065a-429f-ad7b-0c2e6a7436fe",
   "metadata": {
    "jp-MarkdownHeadingCollapsed": true
   },
   "source": [
    "## 2018년, 2019년 모두 기록이 있는 나라들 중 년도별 행복점수가 가장 증가한 나라와 그 증가 수치"
   ]
  },
  {
   "cell_type": "code",
   "execution_count": 529,
   "id": "299be9a0-9cf9-48af-802b-e31cc21387cb",
   "metadata": {},
   "outputs": [
    {
     "data": {
      "text/html": [
       "<div>\n",
       "<style scoped>\n",
       "    .dataframe tbody tr th:only-of-type {\n",
       "        vertical-align: middle;\n",
       "    }\n",
       "\n",
       "    .dataframe tbody tr th {\n",
       "        vertical-align: top;\n",
       "    }\n",
       "\n",
       "    .dataframe thead th {\n",
       "        text-align: right;\n",
       "    }\n",
       "</style>\n",
       "<table border=\"1\" class=\"dataframe\">\n",
       "  <thead>\n",
       "    <tr style=\"text-align: right;\">\n",
       "      <th></th>\n",
       "      <th>나라명</th>\n",
       "      <th>2018점수</th>\n",
       "      <th>2019점수</th>\n",
       "      <th>diff</th>\n",
       "    </tr>\n",
       "  </thead>\n",
       "  <tbody>\n",
       "    <tr>\n",
       "      <th>151</th>\n",
       "      <td>Burundi</td>\n",
       "      <td>2.905</td>\n",
       "      <td>3.775</td>\n",
       "      <td>0.87</td>\n",
       "    </tr>\n",
       "  </tbody>\n",
       "</table>\n",
       "</div>"
      ],
      "text/plain": [
       "         나라명  2018점수  2019점수  diff\n",
       "151  Burundi   2.905   3.775  0.87"
      ]
     },
     "execution_count": 529,
     "metadata": {},
     "output_type": "execute_result"
    }
   ],
   "source": [
    "df2018 = df.loc[df.년도 == 2018]\n",
    "df2019 = df.loc[df.년도 == 2019]\n",
    "df2018 = df2018[['나라명','점수']]\n",
    "df2018 = df2018.rename(columns={'점수':'2018점수'})\n",
    "df2019 = df2019[['나라명','점수']]\n",
    "df2019 = df2019.rename(columns={'점수':'2019점수'})\n",
    "total = pd.merge(df2018,df2019)\n",
    "total['diff'] = total['2019점수'] - total['2018점수']\n",
    "total.sort_values('diff',ascending=False).head(1)"
   ]
  },
  {
   "cell_type": "markdown",
   "id": "fcdde499-1b81-46de-82fc-d3b17096cf6d",
   "metadata": {
    "jp-MarkdownHeadingCollapsed": true
   },
   "source": [
    "# 지역구 에너지 소비량 데이터"
   ]
  },
  {
   "cell_type": "markdown",
   "id": "33cdbd02-b0b3-42d7-93d3-30ab2a307c99",
   "metadata": {
    "jp-MarkdownHeadingCollapsed": true
   },
   "source": [
    "## 데이터 로드"
   ]
  },
  {
   "cell_type": "code",
   "execution_count": 530,
   "id": "cc19477c-dfb4-46a0-8a05-8265322cf172",
   "metadata": {},
   "outputs": [
    {
     "data": {
      "text/html": [
       "<div>\n",
       "<style scoped>\n",
       "    .dataframe tbody tr th:only-of-type {\n",
       "        vertical-align: middle;\n",
       "    }\n",
       "\n",
       "    .dataframe tbody tr th {\n",
       "        vertical-align: top;\n",
       "    }\n",
       "\n",
       "    .dataframe thead th {\n",
       "        text-align: right;\n",
       "    }\n",
       "</style>\n",
       "<table border=\"1\" class=\"dataframe\">\n",
       "  <thead>\n",
       "    <tr style=\"text-align: right;\">\n",
       "      <th></th>\n",
       "      <th>DateTime</th>\n",
       "      <th>Temperature</th>\n",
       "      <th>Humidity</th>\n",
       "      <th>Wind Speed</th>\n",
       "      <th>general diffuse flows</th>\n",
       "      <th>diffuse flows</th>\n",
       "      <th>Zone 1 Power Consumption</th>\n",
       "      <th>Zone 2  Power Consumption</th>\n",
       "      <th>Zone 3  Power Consumption</th>\n",
       "    </tr>\n",
       "  </thead>\n",
       "  <tbody>\n",
       "    <tr>\n",
       "      <th>0</th>\n",
       "      <td>1/1/2017 0:00</td>\n",
       "      <td>6.559</td>\n",
       "      <td>73.8</td>\n",
       "      <td>0.083</td>\n",
       "      <td>0.051</td>\n",
       "      <td>0.119</td>\n",
       "      <td>34055.69620</td>\n",
       "      <td>16128.87538</td>\n",
       "      <td>20240.96386</td>\n",
       "    </tr>\n",
       "    <tr>\n",
       "      <th>1</th>\n",
       "      <td>1/1/2017 0:10</td>\n",
       "      <td>6.414</td>\n",
       "      <td>74.5</td>\n",
       "      <td>0.083</td>\n",
       "      <td>0.070</td>\n",
       "      <td>0.085</td>\n",
       "      <td>29814.68354</td>\n",
       "      <td>19375.07599</td>\n",
       "      <td>20131.08434</td>\n",
       "    </tr>\n",
       "    <tr>\n",
       "      <th>2</th>\n",
       "      <td>1/1/2017 0:20</td>\n",
       "      <td>6.313</td>\n",
       "      <td>74.5</td>\n",
       "      <td>0.080</td>\n",
       "      <td>0.062</td>\n",
       "      <td>0.100</td>\n",
       "      <td>29128.10127</td>\n",
       "      <td>19006.68693</td>\n",
       "      <td>19668.43373</td>\n",
       "    </tr>\n",
       "    <tr>\n",
       "      <th>3</th>\n",
       "      <td>1/1/2017 0:30</td>\n",
       "      <td>6.121</td>\n",
       "      <td>75.0</td>\n",
       "      <td>0.083</td>\n",
       "      <td>0.091</td>\n",
       "      <td>0.096</td>\n",
       "      <td>28228.86076</td>\n",
       "      <td>18361.09422</td>\n",
       "      <td>18899.27711</td>\n",
       "    </tr>\n",
       "    <tr>\n",
       "      <th>4</th>\n",
       "      <td>1/1/2017 0:40</td>\n",
       "      <td>5.921</td>\n",
       "      <td>75.7</td>\n",
       "      <td>0.081</td>\n",
       "      <td>0.048</td>\n",
       "      <td>0.085</td>\n",
       "      <td>27335.69620</td>\n",
       "      <td>17872.34043</td>\n",
       "      <td>18442.40964</td>\n",
       "    </tr>\n",
       "  </tbody>\n",
       "</table>\n",
       "</div>"
      ],
      "text/plain": [
       "        DateTime  Temperature  Humidity  Wind Speed  general diffuse flows  \\\n",
       "0  1/1/2017 0:00        6.559      73.8       0.083                  0.051   \n",
       "1  1/1/2017 0:10        6.414      74.5       0.083                  0.070   \n",
       "2  1/1/2017 0:20        6.313      74.5       0.080                  0.062   \n",
       "3  1/1/2017 0:30        6.121      75.0       0.083                  0.091   \n",
       "4  1/1/2017 0:40        5.921      75.7       0.081                  0.048   \n",
       "\n",
       "   diffuse flows  Zone 1 Power Consumption  Zone 2  Power Consumption  \\\n",
       "0          0.119               34055.69620                16128.87538   \n",
       "1          0.085               29814.68354                19375.07599   \n",
       "2          0.100               29128.10127                19006.68693   \n",
       "3          0.096               28228.86076                18361.09422   \n",
       "4          0.085               27335.69620                17872.34043   \n",
       "\n",
       "   Zone 3  Power Consumption  \n",
       "0                20240.96386  \n",
       "1                20131.08434  \n",
       "2                19668.43373  \n",
       "3                18899.27711  \n",
       "4                18442.40964  "
      ]
     },
     "execution_count": 530,
     "metadata": {},
     "output_type": "execute_result"
    }
   ],
   "source": [
    "import pandas as pd\n",
    "df= pd.read_csv('https://raw.githubusercontent.com/Datamanim/datarepo/main/consum/Tetuan%20City%20power%20consumption.csv')\n",
    "df.head()"
   ]
  },
  {
   "cell_type": "markdown",
   "id": "41c9b147-dc03-4329-aafa-8deddfb4bc6a",
   "metadata": {
    "jp-MarkdownHeadingCollapsed": true
   },
   "source": [
    "## dataframe 컬럼을 통해 각 월별로 몇개의 데이터가 있는지 데이터 프레임으로 출력"
   ]
  },
  {
   "cell_type": "code",
   "execution_count": 536,
   "id": "350732b9-a0e7-46ff-b689-eed2310fe03e",
   "metadata": {},
   "outputs": [
    {
     "name": "stdout",
     "output_type": "stream",
     "text": [
      "month\n",
      "1     4464\n",
      "2     4032\n",
      "3     4464\n",
      "4     4320\n",
      "5     4464\n",
      "6     4320\n",
      "7     4464\n",
      "8     4464\n",
      "9     4320\n",
      "10    4464\n",
      "11    4320\n",
      "12    4320\n",
      "dtype: int64\n"
     ]
    }
   ],
   "source": [
    "df['month'] = pd.to_datetime(df.DateTime).dt.month\n",
    "print(df.groupby('month').size())"
   ]
  },
  {
   "cell_type": "markdown",
   "id": "7edbbbe0-c51f-4137-8798-8b21cc63bfa9",
   "metadata": {
    "jp-MarkdownHeadingCollapsed": true
   },
   "source": [
    "## 3월달의 각 시간대별 온도 평균들 중 가장 낮은 시간대의 온도 출력"
   ]
  },
  {
   "cell_type": "code",
   "execution_count": 549,
   "id": "cc553c3b-719d-497a-8a36-d3fa4e3a029a",
   "metadata": {},
   "outputs": [
    {
     "name": "stdout",
     "output_type": "stream",
     "text": [
      "hour\n",
      "7    11.506613\n",
      "Name: Temperature, dtype: float64\n"
     ]
    }
   ],
   "source": [
    "df['hour'] = pd.to_datetime(df.DateTime).dt.hour\n",
    "print(df.loc[df.month == 3].groupby('hour').Temperature.mean().sort_values().head(1))"
   ]
  },
  {
   "cell_type": "markdown",
   "id": "ceccf84c-2ce6-448c-842c-9dae5aafb0a6",
   "metadata": {
    "jp-MarkdownHeadingCollapsed": true
   },
   "source": [
    "## 3월달의 각 시간대별 온도의 평균들 중 가장 높은 시간대의 온도 출력"
   ]
  },
  {
   "cell_type": "code",
   "execution_count": 551,
   "id": "d66a1c71-ea37-4122-93ba-bc8a56916868",
   "metadata": {},
   "outputs": [
    {
     "name": "stdout",
     "output_type": "stream",
     "text": [
      "hour\n",
      "15    18.393602\n",
      "Name: Temperature, dtype: float64\n"
     ]
    }
   ],
   "source": [
    "df['hour'] = pd.to_datetime(df.DateTime).dt.hour\n",
    "print(df.loc[df.month == 3].groupby('hour').Temperature.mean().sort_values(ascending=False).head(1))"
   ]
  },
  {
   "cell_type": "markdown",
   "id": "4324eb9a-60e3-43be-8305-4489ef9e5506",
   "metadata": {
    "jp-MarkdownHeadingCollapsed": true
   },
   "source": [
    "## Zone 1 Power Consumption 컬럼의 value 값의 크기가 Zone 2 Power Consumption 컬럼의 value값의 크기보다 큰 데이터들의 Humidity의 평균"
   ]
  },
  {
   "cell_type": "code",
   "execution_count": 563,
   "id": "d000caf4-0f5c-41a5-a8b3-6ddac1bf9d85",
   "metadata": {},
   "outputs": [
    {
     "name": "stdout",
     "output_type": "stream",
     "text": [
      "68.23624448055052\n"
     ]
    }
   ],
   "source": [
    "df['diff'] = df['Zone 1 Power Consumption'] - df['Zone 2  Power Consumption']\n",
    "print(df.loc[df['diff'] > 0].Humidity.mean())"
   ]
  },
  {
   "cell_type": "markdown",
   "id": "ef26f5a2-dcc6-485c-8ec8-6546a9ff7c5e",
   "metadata": {
    "jp-MarkdownHeadingCollapsed": true
   },
   "source": [
    "## 각 zone의 에너지 소비량의 상관관계를 구해서 데이터 프레임으로 표기"
   ]
  },
  {
   "cell_type": "code",
   "execution_count": 570,
   "id": "9ac3008d-af4c-46c0-85bb-3e4fc047f6e3",
   "metadata": {},
   "outputs": [
    {
     "data": {
      "text/html": [
       "<div>\n",
       "<style scoped>\n",
       "    .dataframe tbody tr th:only-of-type {\n",
       "        vertical-align: middle;\n",
       "    }\n",
       "\n",
       "    .dataframe tbody tr th {\n",
       "        vertical-align: top;\n",
       "    }\n",
       "\n",
       "    .dataframe thead th {\n",
       "        text-align: right;\n",
       "    }\n",
       "</style>\n",
       "<table border=\"1\" class=\"dataframe\">\n",
       "  <thead>\n",
       "    <tr style=\"text-align: right;\">\n",
       "      <th></th>\n",
       "      <th>Zone 1 Power Consumption</th>\n",
       "      <th>Zone 2  Power Consumption</th>\n",
       "      <th>Zone 3  Power Consumption</th>\n",
       "    </tr>\n",
       "  </thead>\n",
       "  <tbody>\n",
       "    <tr>\n",
       "      <th>Zone 1 Power Consumption</th>\n",
       "      <td>1.000000</td>\n",
       "      <td>0.834519</td>\n",
       "      <td>0.750733</td>\n",
       "    </tr>\n",
       "    <tr>\n",
       "      <th>Zone 2  Power Consumption</th>\n",
       "      <td>0.834519</td>\n",
       "      <td>1.000000</td>\n",
       "      <td>0.570932</td>\n",
       "    </tr>\n",
       "    <tr>\n",
       "      <th>Zone 3  Power Consumption</th>\n",
       "      <td>0.750733</td>\n",
       "      <td>0.570932</td>\n",
       "      <td>1.000000</td>\n",
       "    </tr>\n",
       "  </tbody>\n",
       "</table>\n",
       "</div>"
      ],
      "text/plain": [
       "                           Zone 1 Power Consumption  \\\n",
       "Zone 1 Power Consumption                   1.000000   \n",
       "Zone 2  Power Consumption                  0.834519   \n",
       "Zone 3  Power Consumption                  0.750733   \n",
       "\n",
       "                           Zone 2  Power Consumption  \\\n",
       "Zone 1 Power Consumption                    0.834519   \n",
       "Zone 2  Power Consumption                   1.000000   \n",
       "Zone 3  Power Consumption                   0.570932   \n",
       "\n",
       "                           Zone 3  Power Consumption  \n",
       "Zone 1 Power Consumption                    0.750733  \n",
       "Zone 2  Power Consumption                   0.570932  \n",
       "Zone 3  Power Consumption                   1.000000  "
      ]
     },
     "execution_count": 570,
     "metadata": {},
     "output_type": "execute_result"
    }
   ],
   "source": [
    "df[['Zone 1 Power Consumption','Zone 2  Power Consumption','Zone 3  Power Consumption']].corr()"
   ]
  },
  {
   "cell_type": "markdown",
   "id": "578a4c96-98c4-487b-88f8-4ce6d21b5f74",
   "metadata": {
    "jp-MarkdownHeadingCollapsed": true
   },
   "source": [
    "## Temperature의 값이 10미만의 경우 A, 10이상 20미만의 경우 B, 20 이상 30 미만의 경우 C, 그 외의 경우 D라고 할 때 각 단계의 데이터 숫자"
   ]
  },
  {
   "cell_type": "code",
   "execution_count": 575,
   "id": "a379d326-f05f-4091-b304-44256a53ebaf",
   "metadata": {},
   "outputs": [
    {
     "name": "stdout",
     "output_type": "stream",
     "text": [
      "grade\n",
      "A     2874\n",
      "B    26993\n",
      "C    21105\n",
      "D     1444\n",
      "dtype: int64\n"
     ]
    }
   ],
   "source": [
    "def temperature(row):\n",
    "    if row < 10:\n",
    "        answer = \"A\"\n",
    "    elif row >= 10 and row < 20:\n",
    "        answer = 'B'\n",
    "    elif row >= 20 and row < 30:\n",
    "        answer = 'C'\n",
    "    else:\n",
    "        answer = 'D'\n",
    "    return answer\n",
    "df['grade'] = df['Temperature'].apply(temperature)\n",
    "print(df.groupby('grade').size())"
   ]
  },
  {
   "cell_type": "markdown",
   "id": "04e0f93c-62f7-4b61-8134-3f68c660dbbb",
   "metadata": {
    "jp-MarkdownHeadingCollapsed": true
   },
   "source": [
    "## 6월 데이터 중 12시의 Temperature의 표준편차"
   ]
  },
  {
   "cell_type": "code",
   "execution_count": 578,
   "id": "2b54ed62-4c49-4144-a47b-446510bd8b5f",
   "metadata": {},
   "outputs": [
    {
     "data": {
      "text/plain": [
       "2.0499417827951025"
      ]
     },
     "execution_count": 578,
     "metadata": {},
     "output_type": "execute_result"
    }
   ],
   "source": [
    "df.loc[(df['month'] == 6)&(df['hour'] == 12)].Temperature.std()"
   ]
  },
  {
   "cell_type": "markdown",
   "id": "b6911bef-25e5-49a6-8c87-c8c894c1e6eb",
   "metadata": {
    "jp-MarkdownHeadingCollapsed": true
   },
   "source": [
    "## 6월 데이터 중 12시의 Temperature의 분산"
   ]
  },
  {
   "cell_type": "code",
   "execution_count": 580,
   "id": "c95737a2-057e-4028-8ce0-303df74b5340",
   "metadata": {},
   "outputs": [
    {
     "name": "stdout",
     "output_type": "stream",
     "text": [
      "4.202261312849163\n"
     ]
    }
   ],
   "source": [
    "print(df.loc[(df['month'] == 6)&(df['hour'] == 12)].Temperature.var())"
   ]
  },
  {
   "cell_type": "markdown",
   "id": "e372d66b-9cdb-4098-9ac7-b4244c9c60a4",
   "metadata": {
    "jp-MarkdownHeadingCollapsed": true
   },
   "source": [
    "## Temperature의 평균 이상의 Temperature의 값을 가지는 데이터를 Temperature를 기준으로 정렬 했을 때 4번째 행의 Humidity"
   ]
  },
  {
   "cell_type": "code",
   "execution_count": 587,
   "id": "70002040-cc0c-4b3a-a1bf-3839bd189c3a",
   "metadata": {},
   "outputs": [
    {
     "name": "stdout",
     "output_type": "stream",
     "text": [
      "87.9\n"
     ]
    }
   ],
   "source": [
    "print(df.loc[df['Temperature']>= df['Temperature'].mean()].sort_values('Temperature').reset_index(drop=True).loc[3,'Humidity'])"
   ]
  },
  {
   "cell_type": "markdown",
   "id": "bca73944-a966-46b4-8243-4423ffd86f97",
   "metadata": {
    "jp-MarkdownHeadingCollapsed": true
   },
   "source": [
    "## Temperature의 중간값 이상의 Temperature의 값을 가지는 데이터를 Temperature를 기준으로 정렬했을 때 4번째 행의 Humidity"
   ]
  },
  {
   "cell_type": "code",
   "execution_count": 589,
   "id": "0fafd268-8616-4c14-ba5a-2c38f65c64a5",
   "metadata": {},
   "outputs": [
    {
     "name": "stdout",
     "output_type": "stream",
     "text": [
      "80.3\n"
     ]
    }
   ],
   "source": [
    "print(df.loc[df['Temperature']>= df['Temperature'].median()].sort_values('Temperature').reset_index(drop=True).loc[3,'Humidity'])"
   ]
  },
  {
   "cell_type": "markdown",
   "id": "3264fab3-ffec-4d2c-807c-76cc816acb26",
   "metadata": {},
   "source": [
    "# 포켓몬 정보 데이터"
   ]
  },
  {
   "cell_type": "code",
   "execution_count": null,
   "id": "1b796540-e665-4599-832f-835063f43fdc",
   "metadata": {},
   "outputs": [],
   "source": []
  }
 ],
 "metadata": {
  "kernelspec": {
   "display_name": "Python 3 (ipykernel)",
   "language": "python",
   "name": "python3"
  },
  "language_info": {
   "codemirror_mode": {
    "name": "ipython",
    "version": 3
   },
   "file_extension": ".py",
   "mimetype": "text/x-python",
   "name": "python",
   "nbconvert_exporter": "python",
   "pygments_lexer": "ipython3",
   "version": "3.11.9"
  }
 },
 "nbformat": 4,
 "nbformat_minor": 5
}
