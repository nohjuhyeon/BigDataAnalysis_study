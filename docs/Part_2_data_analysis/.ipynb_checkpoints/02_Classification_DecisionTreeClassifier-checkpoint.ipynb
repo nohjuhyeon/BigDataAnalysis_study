{
 "cells": [
  {
   "cell_type": "markdown",
   "id": "c73b7996-919d-4900-9072-7912e29f1184",
   "metadata": {
    "jp-MarkdownHeadingCollapsed": true
   },
   "source": [
    "# 실습하기"
   ]
  },
  {
   "cell_type": "markdown",
   "id": "1b002bf4-ed0e-495b-8932-f94ba258c15f",
   "metadata": {},
   "source": [
    "## 데이터 준비"
   ]
  },
  {
   "cell_type": "code",
   "execution_count": 42,
   "id": "7571bd19-d58b-456b-b82e-cebd8206383c",
   "metadata": {},
   "outputs": [],
   "source": [
    "import pandas as pd\n",
    "import numpy as np\n",
    "import matplotlib.pyplot as plt\n",
    "import sklearn\n",
    "from sklearn.model_selection import train_test_split\n",
    "from sklearn.tree import DecisionTreeClassifier\n",
    "from sklearn.metrics import accuracy_score\n",
    "from sklearn.metrics import confusion_matrix\n",
    "from sklearn.metrics import classification_report \n",
    "from sklearn.preprocessing import LabelEncoder\n",
    "\n",
    "df = pd.read_csv(\"https://raw.githubusercontent.com/YoungjinBD/dataset/main/titanic.csv\")"
   ]
  },
  {
   "cell_type": "code",
   "execution_count": 43,
   "id": "fcff410f-754d-4bc8-abc7-b84992c4ec41",
   "metadata": {},
   "outputs": [
    {
     "name": "stdout",
     "output_type": "stream",
     "text": [
      "        PassengerId    Survived      Pclass                     Name   Sex  \\\n",
      "count    891.000000  891.000000  891.000000                      891   891   \n",
      "unique          NaN         NaN         NaN                      891     2   \n",
      "top             NaN         NaN         NaN  Braund, Mr. Owen Harris  male   \n",
      "freq            NaN         NaN         NaN                        1   577   \n",
      "mean     446.000000    0.383838    2.308642                      NaN   NaN   \n",
      "std      257.353842    0.486592    0.836071                      NaN   NaN   \n",
      "min        1.000000    0.000000    1.000000                      NaN   NaN   \n",
      "25%      223.500000    0.000000    2.000000                      NaN   NaN   \n",
      "50%      446.000000    0.000000    3.000000                      NaN   NaN   \n",
      "75%      668.500000    1.000000    3.000000                      NaN   NaN   \n",
      "max      891.000000    1.000000    3.000000                      NaN   NaN   \n",
      "\n",
      "               Age       SibSp       Parch  Ticket        Fare    Cabin  \\\n",
      "count   714.000000  891.000000  891.000000     891  891.000000      204   \n",
      "unique         NaN         NaN         NaN     681         NaN      147   \n",
      "top            NaN         NaN         NaN  347082         NaN  B96 B98   \n",
      "freq           NaN         NaN         NaN       7         NaN        4   \n",
      "mean     29.699118    0.523008    0.381594     NaN   32.204208      NaN   \n",
      "std      14.526497    1.102743    0.806057     NaN   49.693429      NaN   \n",
      "min       0.420000    0.000000    0.000000     NaN    0.000000      NaN   \n",
      "25%      20.125000    0.000000    0.000000     NaN    7.910400      NaN   \n",
      "50%      28.000000    0.000000    0.000000     NaN   14.454200      NaN   \n",
      "75%      38.000000    1.000000    0.000000     NaN   31.000000      NaN   \n",
      "max      80.000000    8.000000    6.000000     NaN  512.329200      NaN   \n",
      "\n",
      "       Embarked  \n",
      "count       889  \n",
      "unique        3  \n",
      "top           S  \n",
      "freq        644  \n",
      "mean        NaN  \n",
      "std         NaN  \n",
      "min         NaN  \n",
      "25%         NaN  \n",
      "50%         NaN  \n",
      "75%         NaN  \n",
      "max         NaN  \n",
      "<class 'pandas.core.frame.DataFrame'>\n",
      "RangeIndex: 891 entries, 0 to 890\n",
      "Data columns (total 12 columns):\n",
      " #   Column       Non-Null Count  Dtype  \n",
      "---  ------       --------------  -----  \n",
      " 0   PassengerId  891 non-null    int64  \n",
      " 1   Survived     891 non-null    int64  \n",
      " 2   Pclass       891 non-null    int64  \n",
      " 3   Name         891 non-null    object \n",
      " 4   Sex          891 non-null    object \n",
      " 5   Age          714 non-null    float64\n",
      " 6   SibSp        891 non-null    int64  \n",
      " 7   Parch        891 non-null    int64  \n",
      " 8   Ticket       891 non-null    object \n",
      " 9   Fare         891 non-null    float64\n",
      " 10  Cabin        204 non-null    object \n",
      " 11  Embarked     889 non-null    object \n",
      "dtypes: float64(2), int64(5), object(5)\n",
      "memory usage: 83.7+ KB\n",
      "None\n"
     ]
    }
   ],
   "source": [
    "print(df.describe(include='all'))\n",
    "print(df.info())"
   ]
  },
  {
   "cell_type": "markdown",
   "id": "c77efdc7-dd0f-4716-b947-2c20e9fba26b",
   "metadata": {},
   "source": [
    "## 데이터 전처리"
   ]
  },
  {
   "cell_type": "markdown",
   "id": "fb0c3102-83c1-48fa-b764-98f78f1db076",
   "metadata": {},
   "source": [
    "### 결측치 처리"
   ]
  },
  {
   "cell_type": "code",
   "execution_count": 44,
   "id": "f74d751c-1edc-4183-89da-ed3030e1a83f",
   "metadata": {},
   "outputs": [
    {
     "name": "stdout",
     "output_type": "stream",
     "text": [
      "PassengerId      0\n",
      "Survived         0\n",
      "Pclass           0\n",
      "Name             0\n",
      "Sex              0\n",
      "Age            177\n",
      "SibSp            0\n",
      "Parch            0\n",
      "Ticket           0\n",
      "Fare             0\n",
      "Cabin          687\n",
      "Embarked         2\n",
      "dtype: int64\n"
     ]
    }
   ],
   "source": [
    "print(df.isnull().sum())"
   ]
  },
  {
   "cell_type": "code",
   "execution_count": 45,
   "id": "4ca4f758-8e3d-454c-b37f-0bcba96f67b5",
   "metadata": {},
   "outputs": [
    {
     "name": "stdout",
     "output_type": "stream",
     "text": [
      "PassengerId      0\n",
      "Survived         0\n",
      "Pclass           0\n",
      "Name             0\n",
      "Sex              0\n",
      "Age              0\n",
      "SibSp            0\n",
      "Parch            0\n",
      "Ticket           0\n",
      "Fare             0\n",
      "Cabin          687\n",
      "Embarked         2\n",
      "dtype: int64\n"
     ]
    },
    {
     "name": "stderr",
     "output_type": "stream",
     "text": [
      "/tmp/ipykernel_25523/1155469407.py:1: FutureWarning: A value is trying to be set on a copy of a DataFrame or Series through chained assignment using an inplace method.\n",
      "The behavior will change in pandas 3.0. This inplace method will never work because the intermediate object on which we are setting values always behaves as a copy.\n",
      "\n",
      "For example, when doing 'df[col].method(value, inplace=True)', try using 'df.method({col: value}, inplace=True)' or df[col] = df[col].method(value) instead, to perform the operation inplace on the original object.\n",
      "\n",
      "\n",
      "  df['Age'].fillna(df['Age'].mean(),inplace=True)\n"
     ]
    }
   ],
   "source": [
    "df['Age'].fillna(df['Age'].mean(),inplace=True)\n",
    "print(df.isnull().sum())"
   ]
  },
  {
   "cell_type": "code",
   "execution_count": 46,
   "id": "95000c86-2878-442f-8a86-5cdbc579388e",
   "metadata": {},
   "outputs": [
    {
     "name": "stdout",
     "output_type": "stream",
     "text": [
      "PassengerId      0\n",
      "Survived         0\n",
      "Pclass           0\n",
      "Name             0\n",
      "Sex              0\n",
      "Age              0\n",
      "SibSp            0\n",
      "Parch            0\n",
      "Ticket           0\n",
      "Fare             0\n",
      "Cabin          687\n",
      "Embarked         0\n",
      "dtype: int64\n"
     ]
    },
    {
     "name": "stderr",
     "output_type": "stream",
     "text": [
      "/tmp/ipykernel_25523/2829318923.py:1: FutureWarning: A value is trying to be set on a copy of a DataFrame or Series through chained assignment using an inplace method.\n",
      "The behavior will change in pandas 3.0. This inplace method will never work because the intermediate object on which we are setting values always behaves as a copy.\n",
      "\n",
      "For example, when doing 'df[col].method(value, inplace=True)', try using 'df.method({col: value}, inplace=True)' or df[col] = df[col].method(value) instead, to perform the operation inplace on the original object.\n",
      "\n",
      "\n",
      "  df['Embarked'].fillna(df['Embarked'].mode()[0],inplace=True)\n"
     ]
    }
   ],
   "source": [
    "df['Embarked'].fillna(df['Embarked'].mode()[0],inplace=True)\n",
    "print(df.isnull().sum())"
   ]
  },
  {
   "cell_type": "markdown",
   "id": "29239c18-491b-446a-b14a-7a1f2fa14399",
   "metadata": {},
   "source": [
    "### 레이블 인코딩"
   ]
  },
  {
   "cell_type": "code",
   "execution_count": 47,
   "id": "59e1aa1b-0ee3-4d47-bb3c-7142a943ef47",
   "metadata": {},
   "outputs": [
    {
     "name": "stdout",
     "output_type": "stream",
     "text": [
      "['male' 'female']\n"
     ]
    }
   ],
   "source": [
    "print(df['Sex'].unique())"
   ]
  },
  {
   "cell_type": "code",
   "execution_count": 49,
   "id": "07127276-14d0-4a9b-9ba0-0c3c35784088",
   "metadata": {},
   "outputs": [],
   "source": [
    "df['Sex'] = LabelEncoder().fit_transform(df['Sex'])\n",
    "df['Embarked'] = LabelEncoder().fit_transform(df['Embarked'])"
   ]
  },
  {
   "cell_type": "markdown",
   "id": "75d902e7-3873-4152-8ea4-55ed7fa4b75b",
   "metadata": {},
   "source": [
    "### 파생변수 생성"
   ]
  },
  {
   "cell_type": "code",
   "execution_count": 50,
   "id": "baab6615-e8c7-4cbe-a1f3-e9be906ee0cd",
   "metadata": {},
   "outputs": [],
   "source": [
    "df['FamilySize'] = df['SibSp'] + df['Parch']"
   ]
  },
  {
   "cell_type": "code",
   "execution_count": 51,
   "id": "fa50fd0c-d5c7-419b-8afd-046d391352d1",
   "metadata": {},
   "outputs": [
    {
     "name": "stdout",
     "output_type": "stream",
     "text": [
      "        PassengerId    Survived      Pclass                     Name  \\\n",
      "count    891.000000  891.000000  891.000000                      891   \n",
      "unique          NaN         NaN         NaN                      891   \n",
      "top             NaN         NaN         NaN  Braund, Mr. Owen Harris   \n",
      "freq            NaN         NaN         NaN                        1   \n",
      "mean     446.000000    0.383838    2.308642                      NaN   \n",
      "std      257.353842    0.486592    0.836071                      NaN   \n",
      "min        1.000000    0.000000    1.000000                      NaN   \n",
      "25%      223.500000    0.000000    2.000000                      NaN   \n",
      "50%      446.000000    0.000000    3.000000                      NaN   \n",
      "75%      668.500000    1.000000    3.000000                      NaN   \n",
      "max      891.000000    1.000000    3.000000                      NaN   \n",
      "\n",
      "               Sex         Age       SibSp       Parch  Ticket        Fare  \\\n",
      "count   891.000000  891.000000  891.000000  891.000000     891  891.000000   \n",
      "unique         NaN         NaN         NaN         NaN     681         NaN   \n",
      "top            NaN         NaN         NaN         NaN  347082         NaN   \n",
      "freq           NaN         NaN         NaN         NaN       7         NaN   \n",
      "mean      0.647587   29.699118    0.523008    0.381594     NaN   32.204208   \n",
      "std       0.477990   13.002015    1.102743    0.806057     NaN   49.693429   \n",
      "min       0.000000    0.420000    0.000000    0.000000     NaN    0.000000   \n",
      "25%       0.000000   22.000000    0.000000    0.000000     NaN    7.910400   \n",
      "50%       1.000000   29.699118    0.000000    0.000000     NaN   14.454200   \n",
      "75%       1.000000   35.000000    1.000000    0.000000     NaN   31.000000   \n",
      "max       1.000000   80.000000    8.000000    6.000000     NaN  512.329200   \n",
      "\n",
      "          Cabin    Embarked  FamilySize  \n",
      "count       204  891.000000  891.000000  \n",
      "unique      147         NaN         NaN  \n",
      "top     B96 B98         NaN         NaN  \n",
      "freq          4         NaN         NaN  \n",
      "mean        NaN    1.536476    0.904602  \n",
      "std         NaN    0.791503    1.613459  \n",
      "min         NaN    0.000000    0.000000  \n",
      "25%         NaN    1.000000    0.000000  \n",
      "50%         NaN    2.000000    0.000000  \n",
      "75%         NaN    2.000000    1.000000  \n",
      "max         NaN    2.000000   10.000000  \n"
     ]
    }
   ],
   "source": [
    "print(df.describe(include='all'))"
   ]
  },
  {
   "cell_type": "markdown",
   "id": "7a6e9803-709b-499d-abce-f08273c3e3bf",
   "metadata": {},
   "source": [
    "## 분석 데이터셋 준비"
   ]
  },
  {
   "cell_type": "code",
   "execution_count": 52,
   "id": "cc0e2dc6-36d0-4b21-895c-2e9bd8445f97",
   "metadata": {},
   "outputs": [],
   "source": [
    "x = df[['Pclass','Sex','Age','Fare','Embarked','FamilySize']]\n",
    "y = df['Survived']"
   ]
  },
  {
   "cell_type": "code",
   "execution_count": 53,
   "id": "1339cbef-eb1d-475a-b47a-9507ad3fac9f",
   "metadata": {},
   "outputs": [],
   "source": [
    "x_train,x_test,y_train,y_test = train_test_split(x,y,test_size=0.2,random_state=11)"
   ]
  },
  {
   "cell_type": "markdown",
   "id": "5a5e0d82-d53c-473f-ba27-f5675310931d",
   "metadata": {},
   "source": [
    "## 분석 진행"
   ]
  },
  {
   "cell_type": "code",
   "execution_count": 54,
   "id": "3367e93c-7ee9-4e80-bab5-c0d617c8d262",
   "metadata": {},
   "outputs": [],
   "source": [
    "dt = DecisionTreeClassifier(random_state=11)\n",
    "dt.fit(x_train,y_train)\n",
    "pred = dt.predict(x_test)"
   ]
  },
  {
   "cell_type": "markdown",
   "id": "a6ab2ea3-1898-4a65-b1a2-03029c9b0072",
   "metadata": {},
   "source": [
    "## 모델 평가"
   ]
  },
  {
   "cell_type": "code",
   "execution_count": 55,
   "id": "47ca8c81-458d-411d-84ce-dc314c1063cb",
   "metadata": {},
   "outputs": [
    {
     "name": "stdout",
     "output_type": "stream",
     "text": [
      "0.7877094972067039\n",
      "[[98 20]\n",
      " [18 43]]\n",
      "              precision    recall  f1-score   support\n",
      "\n",
      "           0       0.84      0.83      0.84       118\n",
      "           1       0.68      0.70      0.69        61\n",
      "\n",
      "    accuracy                           0.79       179\n",
      "   macro avg       0.76      0.77      0.77       179\n",
      "weighted avg       0.79      0.79      0.79       179\n",
      "\n"
     ]
    }
   ],
   "source": [
    "acc = accuracy_score(y_test,pred)\n",
    "print(acc)\n",
    "cm = confusion_matrix(y_test,pred)\n",
    "print(cm)\n",
    "cr = classification_report(y_test,pred)\n",
    "print(cr)"
   ]
  },
  {
   "cell_type": "markdown",
   "id": "0587504c-00cd-4f7a-ac42-6749f0ee6273",
   "metadata": {},
   "source": [
    "# 연습하기"
   ]
  },
  {
   "cell_type": "code",
   "execution_count": 68,
   "id": "15b806d7-3e43-4a8d-9587-8c6c18d1907e",
   "metadata": {},
   "outputs": [
    {
     "name": "stdout",
     "output_type": "stream",
     "text": [
      "        PassengerId    Survived      Pclass                     Name  \\\n",
      "count    891.000000  891.000000  891.000000                      891   \n",
      "unique          NaN         NaN         NaN                      891   \n",
      "top             NaN         NaN         NaN  Braund, Mr. Owen Harris   \n",
      "freq            NaN         NaN         NaN                        1   \n",
      "mean     446.000000    0.383838    2.308642                      NaN   \n",
      "std      257.353842    0.486592    0.836071                      NaN   \n",
      "min        1.000000    0.000000    1.000000                      NaN   \n",
      "25%      223.500000    0.000000    2.000000                      NaN   \n",
      "50%      446.000000    0.000000    3.000000                      NaN   \n",
      "75%      668.500000    1.000000    3.000000                      NaN   \n",
      "max      891.000000    1.000000    3.000000                      NaN   \n",
      "\n",
      "               Sex         Age       SibSp       Parch  Ticket        Fare  \\\n",
      "count   891.000000  891.000000  891.000000  891.000000     891  891.000000   \n",
      "unique         NaN         NaN         NaN         NaN     681         NaN   \n",
      "top            NaN         NaN         NaN         NaN  347082         NaN   \n",
      "freq           NaN         NaN         NaN         NaN       7         NaN   \n",
      "mean      0.647587   29.699118    0.523008    0.381594     NaN   32.204208   \n",
      "std       0.477990   13.002015    1.102743    0.806057     NaN   49.693429   \n",
      "min       0.000000    0.420000    0.000000    0.000000     NaN    0.000000   \n",
      "25%       0.000000   22.000000    0.000000    0.000000     NaN    7.910400   \n",
      "50%       1.000000   29.699118    0.000000    0.000000     NaN   14.454200   \n",
      "75%       1.000000   35.000000    1.000000    0.000000     NaN   31.000000   \n",
      "max       1.000000   80.000000    8.000000    6.000000     NaN  512.329200   \n",
      "\n",
      "          Cabin    Embarked  FamilySize  \n",
      "count       204  891.000000  891.000000  \n",
      "unique      147         NaN         NaN  \n",
      "top     B96 B98         NaN         NaN  \n",
      "freq          4         NaN         NaN  \n",
      "mean        NaN    1.536476    0.904602  \n",
      "std         NaN    0.791503    1.613459  \n",
      "min         NaN    0.000000    0.000000  \n",
      "25%         NaN    1.000000    0.000000  \n",
      "50%         NaN    2.000000    0.000000  \n",
      "75%         NaN    2.000000    1.000000  \n",
      "max         NaN    2.000000   10.000000  \n",
      "(712, 6) (179, 6) (712,) (179,)\n",
      "0.7877094972067039\n",
      "[[98 18]\n",
      " [20 43]]\n",
      "              precision    recall  f1-score   support\n",
      "\n",
      "           0       0.83      0.84      0.84       116\n",
      "           1       0.70      0.68      0.69        63\n",
      "\n",
      "    accuracy                           0.79       179\n",
      "   macro avg       0.77      0.76      0.77       179\n",
      "weighted avg       0.79      0.79      0.79       179\n",
      "\n"
     ]
    },
    {
     "name": "stderr",
     "output_type": "stream",
     "text": [
      "/tmp/ipykernel_25523/2199647961.py:17: FutureWarning: A value is trying to be set on a copy of a DataFrame or Series through chained assignment using an inplace method.\n",
      "The behavior will change in pandas 3.0. This inplace method will never work because the intermediate object on which we are setting values always behaves as a copy.\n",
      "\n",
      "For example, when doing 'df[col].method(value, inplace=True)', try using 'df.method({col: value}, inplace=True)' or df[col] = df[col].method(value) instead, to perform the operation inplace on the original object.\n",
      "\n",
      "\n",
      "  df['Age'].fillna(df['Age'].mean(),inplace=True)\n",
      "/tmp/ipykernel_25523/2199647961.py:18: FutureWarning: A value is trying to be set on a copy of a DataFrame or Series through chained assignment using an inplace method.\n",
      "The behavior will change in pandas 3.0. This inplace method will never work because the intermediate object on which we are setting values always behaves as a copy.\n",
      "\n",
      "For example, when doing 'df[col].method(value, inplace=True)', try using 'df.method({col: value}, inplace=True)' or df[col] = df[col].method(value) instead, to perform the operation inplace on the original object.\n",
      "\n",
      "\n",
      "  df['Embarked'].fillna(df['Embarked'].mode()[0],inplace=True)\n"
     ]
    }
   ],
   "source": [
    "import pandas as pd\n",
    "import numpy as np\n",
    "import matplotlib.pyplot as plt\n",
    "import sklearn\n",
    "from sklearn.tree import DecisionTreeClassifier\n",
    "from sklearn.preprocessing import LabelEncoder\n",
    "from sklearn.model_selection import train_test_split\n",
    "from sklearn.metrics import accuracy_score\n",
    "from sklearn.metrics import confusion_matrix\n",
    "from sklearn.metrics import classification_report \n",
    "\n",
    "# 데이터 준비\n",
    "df = pd.read_csv(\"https://raw.githubusercontent.com/YoungjinBD/dataset/main/titanic.csv\")\n",
    "\n",
    "# 데이터 전처리\n",
    "## 결측치 처리\n",
    "df['Age'].fillna(df['Age'].mean(),inplace=True)\n",
    "df['Embarked'].fillna(df['Embarked'].mode()[0],inplace=True)\n",
    "\n",
    "## 라벨인코딩\n",
    "df['Sex'] = LabelEncoder().fit_transform(df['Sex'])\n",
    "df['Embarked'] = LabelEncoder().fit_transform(df['Embarked'])\n",
    "\n",
    "## 파생변수 생성\n",
    "df['FamilySize'] = df['SibSp'] + df['Parch']\n",
    "\n",
    "## 데이터 확인\n",
    "print(df.describe(include='all'))\n",
    "\n",
    "# 학습, 테스트 데이터 셋 분류\n",
    "x = df[['Pclass','Sex','Age','Fare','Embarked','FamilySize']]\n",
    "y = df['Survived']\n",
    "x_train, x_test, y_train, y_test = train_test_split(x,y,test_size = 0.2, random_state = 11)\n",
    "print(x_train.shape,x_test.shape,y_train.shape,y_test.shape)\n",
    "\n",
    "# 분석 진행\n",
    "dt = DecisionTreeClassifier(random_state=11)\n",
    "dt.fit(x_train,y_train)\n",
    "pred = dt.predict(x_test)\n",
    "\n",
    "# 모델 평가\n",
    "acc = accuracy_score(pred,y_test)\n",
    "print(acc)\n",
    "cm = confusion_matrix(pred,y_test)\n",
    "print(cm)\n",
    "cr = classification_report(pred,y_test)\n",
    "print(cr)"
   ]
  },
  {
   "cell_type": "code",
   "execution_count": null,
   "id": "1b9b29e0-c248-470b-a2e3-4fcccee7c2a0",
   "metadata": {},
   "outputs": [],
   "source": []
  }
 ],
 "metadata": {
  "kernelspec": {
   "display_name": "Python 3 (ipykernel)",
   "language": "python",
   "name": "python3"
  },
  "language_info": {
   "codemirror_mode": {
    "name": "ipython",
    "version": 3
   },
   "file_extension": ".py",
   "mimetype": "text/x-python",
   "name": "python",
   "nbconvert_exporter": "python",
   "pygments_lexer": "ipython3",
   "version": "3.11.9"
  }
 },
 "nbformat": 4,
 "nbformat_minor": 5
}
