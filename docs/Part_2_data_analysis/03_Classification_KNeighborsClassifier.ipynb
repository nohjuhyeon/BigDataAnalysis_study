{
 "cells": [
  {
   "cell_type": "markdown",
   "id": "a1fa68fd-06ba-4f17-a7c2-ef07c4aa66c3",
   "metadata": {
    "jp-MarkdownHeadingCollapsed": true
   },
   "source": [
    "# 실습하기"
   ]
  },
  {
   "cell_type": "markdown",
   "id": "ad35d02f-1a3f-4ae4-9722-2780fde60a93",
   "metadata": {},
   "source": [
    "## 데이터 준비"
   ]
  },
  {
   "cell_type": "code",
   "execution_count": 4,
   "id": "b2bdbde9-dda5-4b6f-af4a-b25beaac6dd9",
   "metadata": {},
   "outputs": [
    {
     "name": "stdout",
     "output_type": "stream",
     "text": [
      "        sepal_length  sepal_width  petal_length  petal_width species\n",
      "count     150.000000   150.000000    150.000000   150.000000     150\n",
      "unique           NaN          NaN           NaN          NaN       3\n",
      "top              NaN          NaN           NaN          NaN  setosa\n",
      "freq             NaN          NaN           NaN          NaN      50\n",
      "mean        5.843333     3.057333      3.758000     1.199333     NaN\n",
      "std         0.828066     0.435866      1.765298     0.762238     NaN\n",
      "min         4.300000     2.000000      1.000000     0.100000     NaN\n",
      "25%         5.100000     2.800000      1.600000     0.300000     NaN\n",
      "50%         5.800000     3.000000      4.350000     1.300000     NaN\n",
      "75%         6.400000     3.300000      5.100000     1.800000     NaN\n",
      "max         7.900000     4.400000      6.900000     2.500000     NaN\n",
      "<class 'pandas.core.frame.DataFrame'>\n",
      "RangeIndex: 150 entries, 0 to 149\n",
      "Data columns (total 5 columns):\n",
      " #   Column        Non-Null Count  Dtype  \n",
      "---  ------        --------------  -----  \n",
      " 0   sepal_length  150 non-null    float64\n",
      " 1   sepal_width   150 non-null    float64\n",
      " 2   petal_length  150 non-null    float64\n",
      " 3   petal_width   150 non-null    float64\n",
      " 4   species       150 non-null    object \n",
      "dtypes: float64(4), object(1)\n",
      "memory usage: 6.0+ KB\n",
      "None\n"
     ]
    }
   ],
   "source": [
    "import pandas as pd\n",
    "import numpy as np\n",
    "import matplotlib.pyplot as plt\n",
    "import sklearn\n",
    "from sklearn.preprocessing import LabelEncoder\n",
    "from sklearn.preprocessing import MinMaxScaler\n",
    "from sklearn.model_selection import train_test_split\n",
    "from sklearn.metrics import accuracy_score\n",
    "from sklearn.metrics import confusion_matrix\n",
    "from sklearn.metrics import classification_report\n",
    "from sklearn.neighbors import KNeighborsClassifier\n",
    "\n",
    "df = pd.read_csv(\"https://raw.githubusercontent.com/YoungjinBD/dataset/main/iris.csv\")\n",
    "print(df.describe(include='all'))\n",
    "print(df.info())"
   ]
  },
  {
   "cell_type": "markdown",
   "id": "c2052e46-3e13-45b6-906a-07c5c657016d",
   "metadata": {},
   "source": [
    "## 데이터 전처리"
   ]
  },
  {
   "cell_type": "markdown",
   "id": "1e7389ec-ea9e-420c-9446-ba08daa893f1",
   "metadata": {},
   "source": [
    "### Min_Max 정규화"
   ]
  },
  {
   "cell_type": "code",
   "execution_count": 6,
   "id": "bfc58a50-0901-446d-8eab-9fd56c33fb3f",
   "metadata": {},
   "outputs": [],
   "source": [
    "scaler = MinMaxScaler()\n",
    "df['sepal_length'] = scaler.fit_transform(df[['sepal_length']])\n",
    "df['sepal_width'] = scaler.fit_transform(df[['sepal_width']])\n",
    "df['petal_length'] = scaler.fit_transform(df[['petal_length']])\n",
    "df['petal_width'] = scaler.fit_transform(df[['petal_width']])"
   ]
  },
  {
   "cell_type": "markdown",
   "id": "2a0b0e1d-e7ea-4172-ae7f-3c137caaf4bd",
   "metadata": {},
   "source": [
    "## 분석 데이터셋 준비"
   ]
  },
  {
   "cell_type": "code",
   "execution_count": 7,
   "id": "3adf59c1-84ec-46bb-868c-12af0903abba",
   "metadata": {},
   "outputs": [],
   "source": [
    "x = df[['sepal_length','sepal_width','petal_length','petal_width']]\n",
    "y = df['species']"
   ]
  },
  {
   "cell_type": "code",
   "execution_count": 9,
   "id": "e6a9d09c-e852-4301-bbe3-3d2bb9292ea6",
   "metadata": {},
   "outputs": [
    {
     "name": "stdout",
     "output_type": "stream",
     "text": [
      "(120, 4) (30, 4) (120,) (30,)\n"
     ]
    }
   ],
   "source": [
    "x_train,x_test,y_train,y_test = train_test_split(x,y,test_size=0.2,random_state=11)\n",
    "print(x_train.shape,x_test.shape,y_train.shape,y_test.shape)"
   ]
  },
  {
   "cell_type": "markdown",
   "id": "1c40f9ff-407c-4f1b-a900-f5f918d5692d",
   "metadata": {},
   "source": [
    "## 분석 진행"
   ]
  },
  {
   "cell_type": "code",
   "execution_count": 11,
   "id": "b4b479b1-7ce3-4966-ad6a-981e629fc0a3",
   "metadata": {},
   "outputs": [],
   "source": [
    "knc = KNeighborsClassifier(n_neighbors=3)\n",
    "knc.fit(x_train,y_train)\n",
    "pred = knc.predict(x_test)"
   ]
  },
  {
   "cell_type": "markdown",
   "id": "572412af-2088-4dce-9471-01b2c54af999",
   "metadata": {},
   "source": [
    "## 모델 평가"
   ]
  },
  {
   "cell_type": "code",
   "execution_count": 13,
   "id": "23fe56ae-e008-4016-a527-dc8713dd4569",
   "metadata": {},
   "outputs": [
    {
     "name": "stdout",
     "output_type": "stream",
     "text": [
      "0.9333333333333333\n",
      "[[ 9  0  0]\n",
      " [ 0 10  0]\n",
      " [ 0  2  9]]\n",
      "              precision    recall  f1-score   support\n",
      "\n",
      "      setosa       1.00      1.00      1.00         9\n",
      "  versicolor       0.83      1.00      0.91        10\n",
      "   virginica       1.00      0.82      0.90        11\n",
      "\n",
      "    accuracy                           0.93        30\n",
      "   macro avg       0.94      0.94      0.94        30\n",
      "weighted avg       0.94      0.93      0.93        30\n",
      "\n"
     ]
    }
   ],
   "source": [
    "acc = accuracy_score(y_test,pred)\n",
    "print(acc)\n",
    "cm = confusion_matrix(y_test,pred)\n",
    "print(cm)\n",
    "cr = classification_report(y_test,pred)\n",
    "print(cr)"
   ]
  },
  {
   "cell_type": "markdown",
   "id": "c43889a4-baa0-41c5-b3de-c4258e574d59",
   "metadata": {},
   "source": [
    "# 연습하기"
   ]
  },
  {
   "cell_type": "markdown",
   "id": "8fb87fbd-188b-4f6f-94f2-aadeb298eefe",
   "metadata": {
    "jp-MarkdownHeadingCollapsed": true
   },
   "source": [
    "## iris"
   ]
  },
  {
   "cell_type": "code",
   "execution_count": 8,
   "id": "63579e45-37aa-40cd-b1cf-b517d0ccb45b",
   "metadata": {},
   "outputs": [
    {
     "name": "stdout",
     "output_type": "stream",
     "text": [
      "        sepal_length  sepal_width  petal_length  petal_width species\n",
      "count     150.000000   150.000000    150.000000   150.000000     150\n",
      "unique           NaN          NaN           NaN          NaN       3\n",
      "top              NaN          NaN           NaN          NaN  setosa\n",
      "freq             NaN          NaN           NaN          NaN      50\n",
      "mean        5.843333     3.057333      3.758000     1.199333     NaN\n",
      "std         0.828066     0.435866      1.765298     0.762238     NaN\n",
      "min         4.300000     2.000000      1.000000     0.100000     NaN\n",
      "25%         5.100000     2.800000      1.600000     0.300000     NaN\n",
      "50%         5.800000     3.000000      4.350000     1.300000     NaN\n",
      "75%         6.400000     3.300000      5.100000     1.800000     NaN\n",
      "max         7.900000     4.400000      6.900000     2.500000     NaN\n",
      "<class 'pandas.core.frame.DataFrame'>\n",
      "RangeIndex: 150 entries, 0 to 149\n",
      "Data columns (total 5 columns):\n",
      " #   Column        Non-Null Count  Dtype  \n",
      "---  ------        --------------  -----  \n",
      " 0   sepal_length  150 non-null    float64\n",
      " 1   sepal_width   150 non-null    float64\n",
      " 2   petal_length  150 non-null    float64\n",
      " 3   petal_width   150 non-null    float64\n",
      " 4   species       150 non-null    object \n",
      "dtypes: float64(4), object(1)\n",
      "memory usage: 6.0+ KB\n",
      "None\n",
      "sepal_length    0\n",
      "sepal_width     0\n",
      "petal_length    0\n",
      "petal_width     0\n",
      "species         0\n",
      "dtype: int64\n",
      "(120, 4) (30, 4) (120,) (30,)\n",
      "0.9333333333333333\n",
      "[[ 9  0  0]\n",
      " [ 0 10  0]\n",
      " [ 0  2  9]]\n",
      "              precision    recall  f1-score   support\n",
      "\n",
      "      setosa       1.00      1.00      1.00         9\n",
      "  versicolor       0.83      1.00      0.91        10\n",
      "   virginica       1.00      0.82      0.90        11\n",
      "\n",
      "    accuracy                           0.93        30\n",
      "   macro avg       0.94      0.94      0.94        30\n",
      "weighted avg       0.94      0.93      0.93        30\n",
      "\n"
     ]
    }
   ],
   "source": [
    "import pandas as pd\n",
    "import numpy as np\n",
    "import matplotlib.pyplot as plt\n",
    "import sklearn\n",
    "from sklearn.preprocessing import LabelEncoder, MinMaxScaler\n",
    "from sklearn.neighbors import KNeighborsClassifier\n",
    "from sklearn.model_selection import train_test_split\n",
    "from sklearn.metrics import accuracy_score, confusion_matrix, classification_report\n",
    "\n",
    "# 데이터 준비\n",
    "df = pd.read_csv(\"https://raw.githubusercontent.com/YoungjinBD/dataset/main/iris.csv\")\n",
    "print(df.describe(include='all'))\n",
    "print(df.info())\n",
    "\n",
    "# 데이터 전처리\n",
    "## 결측치 확인\n",
    "print(df.isnull().sum())\n",
    "\n",
    "## 데이터 정규화\n",
    "scaler = MinMaxScaler()\n",
    "df['sepal_length'] = scaler.fit_transform(df[['sepal_length']])\n",
    "df['sepal_width'] = scaler.fit_transform(df[['sepal_width']])\n",
    "df['petal_length'] = scaler.fit_transform(df[['petal_length']])\n",
    "df['petal_width'] = scaler.fit_transform(df[['petal_width']])\n",
    "\n",
    "# 분석 데이터 셋 준비\n",
    "x = df[['sepal_length','sepal_width','petal_length','petal_width']]\n",
    "y = df['species']\n",
    "\n",
    "x_train,x_test,y_train,y_test = train_test_split(x,y, test_size=0.2,random_state = 11)\n",
    "print(x_train.shape,x_test.shape,y_train.shape,y_test.shape)\n",
    "\n",
    "# 분석 진행\n",
    "knc = KNeighborsClassifier(n_neighbors = 3)\n",
    "knc.fit(x_train,y_train)\n",
    "pred = knc.predict(x_test)\n",
    "\n",
    "# 모델 평가\n",
    "acc = accuracy_score(y_test,pred)\n",
    "print(acc)\n",
    "cm = confusion_matrix(y_test,pred)\n",
    "print(cm)\n",
    "cr = classification_report(y_test,pred)\n",
    "print(cr)"
   ]
  },
  {
   "cell_type": "markdown",
   "id": "ec1a95c8-892d-409c-85ca-bb994c27c2df",
   "metadata": {},
   "source": [
    "## titanic"
   ]
  },
  {
   "cell_type": "code",
   "execution_count": 25,
   "id": "fc656d72-737e-4ed2-bec9-ec098652c125",
   "metadata": {},
   "outputs": [
    {
     "name": "stdout",
     "output_type": "stream",
     "text": [
      "        PassengerId    Survived      Pclass                     Name  \\\n",
      "count    891.000000  891.000000  891.000000                      891   \n",
      "unique          NaN         NaN         NaN                      891   \n",
      "top             NaN         NaN         NaN  Braund, Mr. Owen Harris   \n",
      "freq            NaN         NaN         NaN                        1   \n",
      "mean     446.000000    0.383838    2.308642                      NaN   \n",
      "std      257.353842    0.486592    0.836071                      NaN   \n",
      "min        1.000000    0.000000    1.000000                      NaN   \n",
      "25%      223.500000    0.000000    2.000000                      NaN   \n",
      "50%      446.000000    0.000000    3.000000                      NaN   \n",
      "75%      668.500000    1.000000    3.000000                      NaN   \n",
      "max      891.000000    1.000000    3.000000                      NaN   \n",
      "\n",
      "               Sex         Age       SibSp       Parch  Ticket        Fare  \\\n",
      "count   891.000000  891.000000  891.000000  891.000000     891  891.000000   \n",
      "unique         NaN         NaN         NaN         NaN     681         NaN   \n",
      "top            NaN         NaN         NaN         NaN  347082         NaN   \n",
      "freq           NaN         NaN         NaN         NaN       7         NaN   \n",
      "mean      0.647587   29.699118    0.523008    0.381594     NaN   32.204208   \n",
      "std       0.477990   13.002015    1.102743    0.806057     NaN   49.693429   \n",
      "min       0.000000    0.420000    0.000000    0.000000     NaN    0.000000   \n",
      "25%       0.000000   22.000000    0.000000    0.000000     NaN    7.910400   \n",
      "50%       1.000000   29.699118    0.000000    0.000000     NaN   14.454200   \n",
      "75%       1.000000   35.000000    1.000000    0.000000     NaN   31.000000   \n",
      "max       1.000000   80.000000    8.000000    6.000000     NaN  512.329200   \n",
      "\n",
      "          Cabin    Embarked  FamilySize  \n",
      "count       204  891.000000  891.000000  \n",
      "unique      147         NaN         NaN  \n",
      "top     B96 B98         NaN         NaN  \n",
      "freq          4         NaN         NaN  \n",
      "mean        NaN    1.536476    0.904602  \n",
      "std         NaN    0.791503    1.613459  \n",
      "min         NaN    0.000000    0.000000  \n",
      "25%         NaN    1.000000    0.000000  \n",
      "50%         NaN    2.000000    0.000000  \n",
      "75%         NaN    2.000000    1.000000  \n",
      "max         NaN    2.000000   10.000000  \n",
      "(712, 6) (179, 6) (712,) (179,)\n",
      "0.7262569832402235\n",
      "[[95 23]\n",
      " [26 35]]\n",
      "              precision    recall  f1-score   support\n",
      "\n",
      "           0       0.79      0.81      0.79       118\n",
      "           1       0.60      0.57      0.59        61\n",
      "\n",
      "    accuracy                           0.73       179\n",
      "   macro avg       0.69      0.69      0.69       179\n",
      "weighted avg       0.72      0.73      0.72       179\n",
      "\n"
     ]
    },
    {
     "name": "stderr",
     "output_type": "stream",
     "text": [
      "/tmp/ipykernel_62816/2862773128.py:15: FutureWarning: A value is trying to be set on a copy of a DataFrame or Series through chained assignment using an inplace method.\n",
      "The behavior will change in pandas 3.0. This inplace method will never work because the intermediate object on which we are setting values always behaves as a copy.\n",
      "\n",
      "For example, when doing 'df[col].method(value, inplace=True)', try using 'df.method({col: value}, inplace=True)' or df[col] = df[col].method(value) instead, to perform the operation inplace on the original object.\n",
      "\n",
      "\n",
      "  df['Age'].fillna(df['Age'].mean(),inplace=True)\n",
      "/tmp/ipykernel_62816/2862773128.py:16: FutureWarning: A value is trying to be set on a copy of a DataFrame or Series through chained assignment using an inplace method.\n",
      "The behavior will change in pandas 3.0. This inplace method will never work because the intermediate object on which we are setting values always behaves as a copy.\n",
      "\n",
      "For example, when doing 'df[col].method(value, inplace=True)', try using 'df.method({col: value}, inplace=True)' or df[col] = df[col].method(value) instead, to perform the operation inplace on the original object.\n",
      "\n",
      "\n",
      "  df['Embarked'].fillna(df['Embarked'].mode()[0],inplace=True)\n"
     ]
    }
   ],
   "source": [
    "import pandas as pd\n",
    "import numpy as np\n",
    "import matplotlib.pyplot as plt\n",
    "import sklearn\n",
    "from sklearn.preprocessing import LabelEncoder, MinMaxScaler\n",
    "from sklearn.model_selection import train_test_split\n",
    "from sklearn.metrics import accuracy_score, confusion_matrix, classification_report\n",
    "from sklearn.neighbors import KNeighborsClassifier\n",
    "\n",
    "# 데이터 준비\n",
    "df = pd.read_csv(\"https://raw.githubusercontent.com/YoungjinBD/dataset/main/titanic.csv\")\n",
    "\n",
    "# 데이터 전처리\n",
    "## 결측치 확인\n",
    "df['Age'].fillna(df['Age'].mean(),inplace=True)\n",
    "df['Embarked'].fillna(df['Embarked'].mode()[0],inplace=True)\n",
    "\n",
    "## 라벨인코딩\n",
    "df['Sex'] = LabelEncoder().fit_transform(df['Sex'])\n",
    "df['Embarked'] = LabelEncoder().fit_transform(df['Embarked'])\n",
    "\n",
    "## 파생변수 생성\n",
    "df['FamilySize'] = df['SibSp'] + df['Parch']\n",
    "\n",
    "## 데이터 확인\n",
    "print(df.describe(include='all'))\n",
    "\n",
    "## 분석 데이터 셋 준비\n",
    "x = df[['Pclass','Sex','Age','Fare','Embarked','FamilySize']]\n",
    "y = df['Survived']\n",
    "\n",
    "x_train,x_test,y_train,y_test = train_test_split(x,y,test_size = 0.2, random_state = 11)\n",
    "print(x_train.shape,x_test.shape,y_train.shape,y_test.shape)\n",
    "\n",
    "# 분석 진행\n",
    "knc = KNeighborsClassifier(n_neighbors = 7)\n",
    "knc.fit(x_train,y_train)\n",
    "pred = knc.predict(x_test)\n",
    "\n",
    "# 모델 평가\n",
    "acc = accuracy_score(y_test,pred)\n",
    "print(acc)\n",
    "cm = confusion_matrix(y_test,pred)\n",
    "print(cm)\n",
    "cr = classification_report(y_test,pred)\n",
    "print(cr)"
   ]
  },
  {
   "cell_type": "code",
   "execution_count": null,
   "id": "62bbd18d-85c8-46ef-aa79-9916d18b8d57",
   "metadata": {},
   "outputs": [],
   "source": []
  }
 ],
 "metadata": {
  "kernelspec": {
   "display_name": "Python 3 (ipykernel)",
   "language": "python",
   "name": "python3"
  },
  "language_info": {
   "codemirror_mode": {
    "name": "ipython",
    "version": 3
   },
   "file_extension": ".py",
   "mimetype": "text/x-python",
   "name": "python",
   "nbconvert_exporter": "python",
   "pygments_lexer": "ipython3",
   "version": "3.11.9"
  }
 },
 "nbformat": 4,
 "nbformat_minor": 5
}
