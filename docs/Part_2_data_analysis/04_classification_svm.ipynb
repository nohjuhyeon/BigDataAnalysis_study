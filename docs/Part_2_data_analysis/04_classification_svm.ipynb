{
 "cells": [
  {
   "cell_type": "markdown",
   "id": "a02c463f-6606-4190-a174-2307a7fce7d3",
   "metadata": {},
   "source": [
    "# 실습하기"
   ]
  },
  {
   "cell_type": "markdown",
   "id": "cd6c7b5f-3ffa-4741-b25c-937bc3e94b9b",
   "metadata": {},
   "source": [
    "## 데이터 준비"
   ]
  },
  {
   "cell_type": "code",
   "execution_count": 2,
   "id": "03951b2c-5d7b-438e-891d-7fe03dd78c68",
   "metadata": {},
   "outputs": [
    {
     "name": "stdout",
     "output_type": "stream",
     "text": [
      "        PassengerId    Survived      Pclass                     Name   Sex  \\\n",
      "count    891.000000  891.000000  891.000000                      891   891   \n",
      "unique          NaN         NaN         NaN                      891     2   \n",
      "top             NaN         NaN         NaN  Braund, Mr. Owen Harris  male   \n",
      "freq            NaN         NaN         NaN                        1   577   \n",
      "mean     446.000000    0.383838    2.308642                      NaN   NaN   \n",
      "std      257.353842    0.486592    0.836071                      NaN   NaN   \n",
      "min        1.000000    0.000000    1.000000                      NaN   NaN   \n",
      "25%      223.500000    0.000000    2.000000                      NaN   NaN   \n",
      "50%      446.000000    0.000000    3.000000                      NaN   NaN   \n",
      "75%      668.500000    1.000000    3.000000                      NaN   NaN   \n",
      "max      891.000000    1.000000    3.000000                      NaN   NaN   \n",
      "\n",
      "               Age       SibSp       Parch  Ticket        Fare    Cabin  \\\n",
      "count   714.000000  891.000000  891.000000     891  891.000000      204   \n",
      "unique         NaN         NaN         NaN     681         NaN      147   \n",
      "top            NaN         NaN         NaN  347082         NaN  B96 B98   \n",
      "freq           NaN         NaN         NaN       7         NaN        4   \n",
      "mean     29.699118    0.523008    0.381594     NaN   32.204208      NaN   \n",
      "std      14.526497    1.102743    0.806057     NaN   49.693429      NaN   \n",
      "min       0.420000    0.000000    0.000000     NaN    0.000000      NaN   \n",
      "25%      20.125000    0.000000    0.000000     NaN    7.910400      NaN   \n",
      "50%      28.000000    0.000000    0.000000     NaN   14.454200      NaN   \n",
      "75%      38.000000    1.000000    0.000000     NaN   31.000000      NaN   \n",
      "max      80.000000    8.000000    6.000000     NaN  512.329200      NaN   \n",
      "\n",
      "       Embarked  \n",
      "count       889  \n",
      "unique        3  \n",
      "top           S  \n",
      "freq        644  \n",
      "mean        NaN  \n",
      "std         NaN  \n",
      "min         NaN  \n",
      "25%         NaN  \n",
      "50%         NaN  \n",
      "75%         NaN  \n",
      "max         NaN  \n",
      "<class 'pandas.core.frame.DataFrame'>\n",
      "RangeIndex: 891 entries, 0 to 890\n",
      "Data columns (total 12 columns):\n",
      " #   Column       Non-Null Count  Dtype  \n",
      "---  ------       --------------  -----  \n",
      " 0   PassengerId  891 non-null    int64  \n",
      " 1   Survived     891 non-null    int64  \n",
      " 2   Pclass       891 non-null    int64  \n",
      " 3   Name         891 non-null    object \n",
      " 4   Sex          891 non-null    object \n",
      " 5   Age          714 non-null    float64\n",
      " 6   SibSp        891 non-null    int64  \n",
      " 7   Parch        891 non-null    int64  \n",
      " 8   Ticket       891 non-null    object \n",
      " 9   Fare         891 non-null    float64\n",
      " 10  Cabin        204 non-null    object \n",
      " 11  Embarked     889 non-null    object \n",
      "dtypes: float64(2), int64(5), object(5)\n",
      "memory usage: 83.7+ KB\n",
      "None\n"
     ]
    }
   ],
   "source": [
    "import pandas as pd\n",
    "import numpy as np\n",
    "import matplotlib.pyplot as plt\n",
    "import sklearn\n",
    "from sklearn.preprocessing import LabelEncoder, MinMaxScaler\n",
    "from sklearn.model_selection import train_test_split\n",
    "from sklearn.metrics import accuracy_score, confusion_matrix, classification_report\n",
    "from sklearn import svm\n",
    "\n",
    "df = pd.read_csv(\"https://raw.githubusercontent.com/YoungjinBD/dataset/main/titanic.csv\")\n",
    "print(df.describe(include='all'))\n",
    "print(df.info())"
   ]
  },
  {
   "cell_type": "markdown",
   "id": "5b524a72-7991-4f89-8b3b-19b0c2d2f7bd",
   "metadata": {
    "jp-MarkdownHeadingCollapsed": true
   },
   "source": [
    "## 데이터 전처리"
   ]
  },
  {
   "cell_type": "markdown",
   "id": "93364a20-c89f-42bd-80dd-f0e0172dd9aa",
   "metadata": {
    "jp-MarkdownHeadingCollapsed": true
   },
   "source": [
    "### 결측치 처리"
   ]
  },
  {
   "cell_type": "code",
   "execution_count": 3,
   "id": "360826f1-ba8c-4426-8695-5b450bf86b26",
   "metadata": {},
   "outputs": [
    {
     "name": "stdout",
     "output_type": "stream",
     "text": [
      "PassengerId      0\n",
      "Survived         0\n",
      "Pclass           0\n",
      "Name             0\n",
      "Sex              0\n",
      "Age            177\n",
      "SibSp            0\n",
      "Parch            0\n",
      "Ticket           0\n",
      "Fare             0\n",
      "Cabin          687\n",
      "Embarked         2\n",
      "dtype: int64\n"
     ]
    }
   ],
   "source": [
    "print(df.isnull().sum())"
   ]
  },
  {
   "cell_type": "code",
   "execution_count": 5,
   "id": "5aab3d66-5b5a-419a-9b77-c675dc563083",
   "metadata": {},
   "outputs": [
    {
     "name": "stdout",
     "output_type": "stream",
     "text": [
      "PassengerId      0\n",
      "Survived         0\n",
      "Pclass           0\n",
      "Name             0\n",
      "Sex              0\n",
      "Age              0\n",
      "SibSp            0\n",
      "Parch            0\n",
      "Ticket           0\n",
      "Fare             0\n",
      "Cabin          687\n",
      "Embarked         0\n",
      "dtype: int64\n"
     ]
    },
    {
     "name": "stderr",
     "output_type": "stream",
     "text": [
      "/tmp/ipykernel_71670/261776523.py:1: FutureWarning: A value is trying to be set on a copy of a DataFrame or Series through chained assignment using an inplace method.\n",
      "The behavior will change in pandas 3.0. This inplace method will never work because the intermediate object on which we are setting values always behaves as a copy.\n",
      "\n",
      "For example, when doing 'df[col].method(value, inplace=True)', try using 'df.method({col: value}, inplace=True)' or df[col] = df[col].method(value) instead, to perform the operation inplace on the original object.\n",
      "\n",
      "\n",
      "  df['Age'].fillna(df['Age'].mean(),inplace=True)\n"
     ]
    }
   ],
   "source": [
    "df['Age'].fillna(df['Age'].mean(),inplace=True)\n",
    "df['Embarked'].fillna(df['Embarked'].mode()[0],inplace=True)\n",
    "print(df.isnull().sum())"
   ]
  },
  {
   "cell_type": "markdown",
   "id": "9f11975f-ddb7-48af-b8b0-284b78d8cdc4",
   "metadata": {
    "jp-MarkdownHeadingCollapsed": true
   },
   "source": [
    "### 원-핫 인코딩"
   ]
  },
  {
   "cell_type": "code",
   "execution_count": 7,
   "id": "b9bb914e-6443-4a99-ac71-25698221bcae",
   "metadata": {},
   "outputs": [
    {
     "name": "stdout",
     "output_type": "stream",
     "text": [
      "     PassengerId  Survived  Pclass  \\\n",
      "0              1         0       3   \n",
      "1              2         1       1   \n",
      "2              3         1       3   \n",
      "3              4         1       1   \n",
      "4              5         0       3   \n",
      "..           ...       ...     ...   \n",
      "886          887         0       2   \n",
      "887          888         1       1   \n",
      "888          889         0       3   \n",
      "889          890         1       1   \n",
      "890          891         0       3   \n",
      "\n",
      "                                                  Name     Sex        Age  \\\n",
      "0                              Braund, Mr. Owen Harris    male  22.000000   \n",
      "1    Cumings, Mrs. John Bradley (Florence Briggs Th...  female  38.000000   \n",
      "2                               Heikkinen, Miss. Laina  female  26.000000   \n",
      "3         Futrelle, Mrs. Jacques Heath (Lily May Peel)  female  35.000000   \n",
      "4                             Allen, Mr. William Henry    male  35.000000   \n",
      "..                                                 ...     ...        ...   \n",
      "886                              Montvila, Rev. Juozas    male  27.000000   \n",
      "887                       Graham, Miss. Margaret Edith  female  19.000000   \n",
      "888           Johnston, Miss. Catherine Helen \"Carrie\"  female  29.699118   \n",
      "889                              Behr, Mr. Karl Howell    male  26.000000   \n",
      "890                                Dooley, Mr. Patrick    male  32.000000   \n",
      "\n",
      "     SibSp  Parch            Ticket     Fare Cabin Embarked  female   male  \n",
      "0        1      0         A/5 21171   7.2500   NaN        S   False   True  \n",
      "1        1      0          PC 17599  71.2833   C85        C    True  False  \n",
      "2        0      0  STON/O2. 3101282   7.9250   NaN        S    True  False  \n",
      "3        1      0            113803  53.1000  C123        S    True  False  \n",
      "4        0      0            373450   8.0500   NaN        S   False   True  \n",
      "..     ...    ...               ...      ...   ...      ...     ...    ...  \n",
      "886      0      0            211536  13.0000   NaN        S   False   True  \n",
      "887      0      0            112053  30.0000   B42        S    True  False  \n",
      "888      1      2        W./C. 6607  23.4500   NaN        S    True  False  \n",
      "889      0      0            111369  30.0000  C148        C   False   True  \n",
      "890      0      0            370376   7.7500   NaN        Q   False   True  \n",
      "\n",
      "[891 rows x 14 columns]\n"
     ]
    }
   ],
   "source": [
    "onehot_sex = pd.get_dummies(df['Sex'])\n",
    "df = pd.concat([df,onehot_sex],axis=1)\n",
    "print(df)"
   ]
  },
  {
   "cell_type": "code",
   "execution_count": 8,
   "id": "966fc3a4-adc5-4136-bf69-86c44a9bbf50",
   "metadata": {},
   "outputs": [
    {
     "name": "stdout",
     "output_type": "stream",
     "text": [
      "     PassengerId  Survived  Pclass  \\\n",
      "0              1         0       3   \n",
      "1              2         1       1   \n",
      "2              3         1       3   \n",
      "3              4         1       1   \n",
      "4              5         0       3   \n",
      "..           ...       ...     ...   \n",
      "886          887         0       2   \n",
      "887          888         1       1   \n",
      "888          889         0       3   \n",
      "889          890         1       1   \n",
      "890          891         0       3   \n",
      "\n",
      "                                                  Name     Sex        Age  \\\n",
      "0                              Braund, Mr. Owen Harris    male  22.000000   \n",
      "1    Cumings, Mrs. John Bradley (Florence Briggs Th...  female  38.000000   \n",
      "2                               Heikkinen, Miss. Laina  female  26.000000   \n",
      "3         Futrelle, Mrs. Jacques Heath (Lily May Peel)  female  35.000000   \n",
      "4                             Allen, Mr. William Henry    male  35.000000   \n",
      "..                                                 ...     ...        ...   \n",
      "886                              Montvila, Rev. Juozas    male  27.000000   \n",
      "887                       Graham, Miss. Margaret Edith  female  19.000000   \n",
      "888           Johnston, Miss. Catherine Helen \"Carrie\"  female  29.699118   \n",
      "889                              Behr, Mr. Karl Howell    male  26.000000   \n",
      "890                                Dooley, Mr. Patrick    male  32.000000   \n",
      "\n",
      "     SibSp  Parch            Ticket     Fare Cabin Embarked  female   male  \\\n",
      "0        1      0         A/5 21171   7.2500   NaN        S   False   True   \n",
      "1        1      0          PC 17599  71.2833   C85        C    True  False   \n",
      "2        0      0  STON/O2. 3101282   7.9250   NaN        S    True  False   \n",
      "3        1      0            113803  53.1000  C123        S    True  False   \n",
      "4        0      0            373450   8.0500   NaN        S   False   True   \n",
      "..     ...    ...               ...      ...   ...      ...     ...    ...   \n",
      "886      0      0            211536  13.0000   NaN        S   False   True   \n",
      "887      0      0            112053  30.0000   B42        S    True  False   \n",
      "888      1      2        W./C. 6607  23.4500   NaN        S    True  False   \n",
      "889      0      0            111369  30.0000  C148        C   False   True   \n",
      "890      0      0            370376   7.7500   NaN        Q   False   True   \n",
      "\n",
      "         C      Q      S  \n",
      "0    False  False   True  \n",
      "1     True  False  False  \n",
      "2    False  False   True  \n",
      "3    False  False   True  \n",
      "4    False  False   True  \n",
      "..     ...    ...    ...  \n",
      "886  False  False   True  \n",
      "887  False  False   True  \n",
      "888  False  False   True  \n",
      "889   True  False  False  \n",
      "890  False   True  False  \n",
      "\n",
      "[891 rows x 17 columns]\n"
     ]
    }
   ],
   "source": [
    "onehotEmbarked = pd.get_dummies(df['Embarked'])\n",
    "df = pd.concat([df,onehotEmbarked],axis=1)\n",
    "print(df)"
   ]
  },
  {
   "cell_type": "markdown",
   "id": "b5546612-e870-4232-8f5d-32c0d16c71c8",
   "metadata": {
    "jp-MarkdownHeadingCollapsed": true
   },
   "source": [
    "### 파생변수 생성"
   ]
  },
  {
   "cell_type": "code",
   "execution_count": 9,
   "id": "972a1924-b7dd-48e5-b683-658d9727cbeb",
   "metadata": {},
   "outputs": [],
   "source": [
    "df['FamilySize'] = df['SibSp']+df['Parch']"
   ]
  },
  {
   "cell_type": "markdown",
   "id": "3b4f8073-9c1a-4790-afc9-e4b836e22da1",
   "metadata": {
    "jp-MarkdownHeadingCollapsed": true
   },
   "source": [
    "## 분석 데이터 셋 준비"
   ]
  },
  {
   "cell_type": "code",
   "execution_count": 10,
   "id": "0637d1e9-5311-48b0-83b9-ef0a7f46df8c",
   "metadata": {},
   "outputs": [
    {
     "name": "stdout",
     "output_type": "stream",
     "text": [
      "        PassengerId    Survived      Pclass                     Name   Sex  \\\n",
      "count    891.000000  891.000000  891.000000                      891   891   \n",
      "unique          NaN         NaN         NaN                      891     2   \n",
      "top             NaN         NaN         NaN  Braund, Mr. Owen Harris  male   \n",
      "freq            NaN         NaN         NaN                        1   577   \n",
      "mean     446.000000    0.383838    2.308642                      NaN   NaN   \n",
      "std      257.353842    0.486592    0.836071                      NaN   NaN   \n",
      "min        1.000000    0.000000    1.000000                      NaN   NaN   \n",
      "25%      223.500000    0.000000    2.000000                      NaN   NaN   \n",
      "50%      446.000000    0.000000    3.000000                      NaN   NaN   \n",
      "75%      668.500000    1.000000    3.000000                      NaN   NaN   \n",
      "max      891.000000    1.000000    3.000000                      NaN   NaN   \n",
      "\n",
      "               Age       SibSp       Parch  Ticket        Fare    Cabin  \\\n",
      "count   891.000000  891.000000  891.000000     891  891.000000      204   \n",
      "unique         NaN         NaN         NaN     681         NaN      147   \n",
      "top            NaN         NaN         NaN  347082         NaN  B96 B98   \n",
      "freq           NaN         NaN         NaN       7         NaN        4   \n",
      "mean     29.699118    0.523008    0.381594     NaN   32.204208      NaN   \n",
      "std      13.002015    1.102743    0.806057     NaN   49.693429      NaN   \n",
      "min       0.420000    0.000000    0.000000     NaN    0.000000      NaN   \n",
      "25%      22.000000    0.000000    0.000000     NaN    7.910400      NaN   \n",
      "50%      29.699118    0.000000    0.000000     NaN   14.454200      NaN   \n",
      "75%      35.000000    1.000000    0.000000     NaN   31.000000      NaN   \n",
      "max      80.000000    8.000000    6.000000     NaN  512.329200      NaN   \n",
      "\n",
      "       Embarked female  male      C      Q     S  FamilySize  \n",
      "count       891    891   891    891    891   891  891.000000  \n",
      "unique        3      2     2      2      2     2         NaN  \n",
      "top           S  False  True  False  False  True         NaN  \n",
      "freq        646    577   577    723    814   646         NaN  \n",
      "mean        NaN    NaN   NaN    NaN    NaN   NaN    0.904602  \n",
      "std         NaN    NaN   NaN    NaN    NaN   NaN    1.613459  \n",
      "min         NaN    NaN   NaN    NaN    NaN   NaN    0.000000  \n",
      "25%         NaN    NaN   NaN    NaN    NaN   NaN    0.000000  \n",
      "50%         NaN    NaN   NaN    NaN    NaN   NaN    0.000000  \n",
      "75%         NaN    NaN   NaN    NaN    NaN   NaN    1.000000  \n",
      "max         NaN    NaN   NaN    NaN    NaN   NaN   10.000000  \n"
     ]
    }
   ],
   "source": [
    "print(df.describe(include='all'))"
   ]
  },
  {
   "cell_type": "code",
   "execution_count": 12,
   "id": "779cf847-26b3-473b-b22e-b90763234d63",
   "metadata": {},
   "outputs": [],
   "source": [
    "x = df[['Pclass','Age','Fare','female','male','C','Q','S','FamilySize']]\n",
    "y = df['Survived']"
   ]
  },
  {
   "cell_type": "code",
   "execution_count": 13,
   "id": "a4975eb0-1dc0-4e37-b940-8b97a4f13854",
   "metadata": {},
   "outputs": [
    {
     "name": "stdout",
     "output_type": "stream",
     "text": [
      "(712, 9) (179, 9) (712,) (179,)\n"
     ]
    }
   ],
   "source": [
    "x_train,x_test,y_train,y_test = train_test_split(x,y,test_size=0.2,random_state = 11)\n",
    "print(x_train.shape,x_test.shape,y_train.shape,y_test.shape)"
   ]
  },
  {
   "cell_type": "markdown",
   "id": "1a2497f5-30f4-4327-96e9-955b00a2f2c1",
   "metadata": {},
   "source": [
    "## 분석 진행"
   ]
  },
  {
   "cell_type": "code",
   "execution_count": 14,
   "id": "9bddf41c-4268-41fb-9e5a-a9e2b5b9750e",
   "metadata": {},
   "outputs": [],
   "source": [
    "sv = svm.SVC(kernel='rbf')\n",
    "sv.fit(x_train,y_train)\n",
    "pred = sv.predict(x_test)"
   ]
  },
  {
   "cell_type": "markdown",
   "id": "6d3f0225-50c6-4287-afb3-0b38f527bb4b",
   "metadata": {},
   "source": [
    "## 모델 평가"
   ]
  },
  {
   "cell_type": "code",
   "execution_count": 15,
   "id": "2ca80eeb-689e-48fd-b60e-dedf813a34e0",
   "metadata": {},
   "outputs": [
    {
     "name": "stdout",
     "output_type": "stream",
     "text": [
      "0.7206703910614525\n",
      "[[110  42]\n",
      " [  8  19]]\n",
      "              precision    recall  f1-score   support\n",
      "\n",
      "           0       0.93      0.72      0.81       152\n",
      "           1       0.31      0.70      0.43        27\n",
      "\n",
      "    accuracy                           0.72       179\n",
      "   macro avg       0.62      0.71      0.62       179\n",
      "weighted avg       0.84      0.72      0.76       179\n",
      "\n"
     ]
    }
   ],
   "source": [
    "acc = accuracy_score(pred,y_test)\n",
    "print(acc)\n",
    "cm = confusion_matrix(pred,y_test)\n",
    "print(cm)\n",
    "cr = classification_report(pred,y_test)\n",
    "print(cr)"
   ]
  },
  {
   "cell_type": "markdown",
   "id": "c731f11d-f1b3-49f7-be67-c41311815df9",
   "metadata": {
    "jp-MarkdownHeadingCollapsed": true
   },
   "source": [
    "# 연습하기"
   ]
  },
  {
   "cell_type": "code",
   "execution_count": 18,
   "id": "b1e6e125-8f53-42cc-9bcc-f84ae166b94d",
   "metadata": {},
   "outputs": [
    {
     "name": "stdout",
     "output_type": "stream",
     "text": [
      "0.7206703910614525\n",
      "[[110   8]\n",
      " [ 42  19]]\n",
      "              precision    recall  f1-score   support\n",
      "\n",
      "           0       0.72      0.93      0.81       118\n",
      "           1       0.70      0.31      0.43        61\n",
      "\n",
      "    accuracy                           0.72       179\n",
      "   macro avg       0.71      0.62      0.62       179\n",
      "weighted avg       0.72      0.72      0.68       179\n",
      "\n"
     ]
    },
    {
     "name": "stderr",
     "output_type": "stream",
     "text": [
      "/tmp/ipykernel_80574/828455910.py:16: FutureWarning: A value is trying to be set on a copy of a DataFrame or Series through chained assignment using an inplace method.\n",
      "The behavior will change in pandas 3.0. This inplace method will never work because the intermediate object on which we are setting values always behaves as a copy.\n",
      "\n",
      "For example, when doing 'df[col].method(value, inplace=True)', try using 'df.method({col: value}, inplace=True)' or df[col] = df[col].method(value) instead, to perform the operation inplace on the original object.\n",
      "\n",
      "\n",
      "  df['Age'].fillna(df['Age'].mean(),inplace=True)\n",
      "/tmp/ipykernel_80574/828455910.py:17: FutureWarning: A value is trying to be set on a copy of a DataFrame or Series through chained assignment using an inplace method.\n",
      "The behavior will change in pandas 3.0. This inplace method will never work because the intermediate object on which we are setting values always behaves as a copy.\n",
      "\n",
      "For example, when doing 'df[col].method(value, inplace=True)', try using 'df.method({col: value}, inplace=True)' or df[col] = df[col].method(value) instead, to perform the operation inplace on the original object.\n",
      "\n",
      "\n",
      "  df['Embarked'].fillna(df['Embarked'].mode()[0], inplace=True)\n"
     ]
    }
   ],
   "source": [
    "import pandas as pd\n",
    "import numpy as np\n",
    "import matplotlib.pyplot as plt\n",
    "import sklearn\n",
    "from sklearn.preprocessing import LabelEncoder, MinMaxScaler\n",
    "from sklearn.model_selection import train_test_split\n",
    "from sklearn.metrics import accuracy_score, confusion_matrix, classification_report\n",
    "from sklearn import svm\n",
    "sv = svm.SVC(kernel='rbf')\n",
    "\n",
    "# 데이터 준비\n",
    "df = pd.read_csv(\"https://raw.githubusercontent.com/YoungjinBD/dataset/main/titanic.csv\")\n",
    "\n",
    "# 데이터 전처리\n",
    "## 결측치 처리\n",
    "df['Age'].fillna(df['Age'].mean(),inplace=True)\n",
    "df['Embarked'].fillna(df['Embarked'].mode()[0], inplace=True)\n",
    "\n",
    "## 원핫인코딩\n",
    "onehotSex = pd.get_dummies(df['Sex'])\n",
    "onehotEmbarked = pd.get_dummies(df['Embarked'])\n",
    "df = pd.concat([df,onehotSex,onehotEmbarked],axis=1)\n",
    "\n",
    "## 파생함수 생성\n",
    "df['FamilySize'] = df['SibSp'] + df['Parch']\n",
    "\n",
    "## 데이터 확인\n",
    "\n",
    "# 분석 데이터셋 준비\n",
    "x = df[['Pclass','Age','Fare','FamilySize','female','male','C','Q','S']]\n",
    "y = df['Survived']\n",
    "x_train, x_test, y_train, y_test = train_test_split(x,y,test_size = 0.2, random_state = 11)\n",
    "\n",
    "# 분석 진행\n",
    "sv.fit(x_train,y_train)\n",
    "pred = sv.predict(x_test)\n",
    "\n",
    "# 모델 평가\n",
    "acc = accuracy_score(y_test, pred)\n",
    "print(acc)\n",
    "cm = confusion_matrix(y_test, pred)\n",
    "print(cm)\n",
    "cr = classification_report(y_test, pred)\n",
    "print(cr)"
   ]
  },
  {
   "cell_type": "code",
   "execution_count": null,
   "id": "356e48f9-5b9b-44d8-a87a-af4c264201b1",
   "metadata": {},
   "outputs": [],
   "source": []
  }
 ],
 "metadata": {
  "kernelspec": {
   "display_name": "Python 3 (ipykernel)",
   "language": "python",
   "name": "python3"
  },
  "language_info": {
   "codemirror_mode": {
    "name": "ipython",
    "version": 3
   },
   "file_extension": ".py",
   "mimetype": "text/x-python",
   "name": "python",
   "nbconvert_exporter": "python",
   "pygments_lexer": "ipython3",
   "version": "3.11.9"
  }
 },
 "nbformat": 4,
 "nbformat_minor": 5
}
