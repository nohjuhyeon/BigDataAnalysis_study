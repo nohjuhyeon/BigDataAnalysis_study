{
 "cells": [
  {
   "cell_type": "markdown",
   "id": "f5d0e816-b907-4cae-8faf-7284dcd45125",
   "metadata": {},
   "source": [
    "# 실습하기"
   ]
  },
  {
   "cell_type": "markdown",
   "id": "186f68a8-a27a-490d-9ee6-df62ddda325f",
   "metadata": {},
   "source": [
    "## 데이터 준비"
   ]
  },
  {
   "cell_type": "code",
   "execution_count": 4,
   "id": "9a284931-e85f-483e-8bc1-17c598c680d1",
   "metadata": {},
   "outputs": [
    {
     "name": "stdout",
     "output_type": "stream",
     "text": [
      "        sepal_length  sepal_width  petal_length  petal_width species\n",
      "count     150.000000   150.000000    150.000000   150.000000     150\n",
      "unique           NaN          NaN           NaN          NaN       3\n",
      "top              NaN          NaN           NaN          NaN  setosa\n",
      "freq             NaN          NaN           NaN          NaN      50\n",
      "mean        5.843333     3.057333      3.758000     1.199333     NaN\n",
      "std         0.828066     0.435866      1.765298     0.762238     NaN\n",
      "min         4.300000     2.000000      1.000000     0.100000     NaN\n",
      "25%         5.100000     2.800000      1.600000     0.300000     NaN\n",
      "50%         5.800000     3.000000      4.350000     1.300000     NaN\n",
      "75%         6.400000     3.300000      5.100000     1.800000     NaN\n",
      "max         7.900000     4.400000      6.900000     2.500000     NaN\n",
      "<class 'pandas.core.frame.DataFrame'>\n",
      "RangeIndex: 150 entries, 0 to 149\n",
      "Data columns (total 5 columns):\n",
      " #   Column        Non-Null Count  Dtype  \n",
      "---  ------        --------------  -----  \n",
      " 0   sepal_length  150 non-null    float64\n",
      " 1   sepal_width   150 non-null    float64\n",
      " 2   petal_length  150 non-null    float64\n",
      " 3   petal_width   150 non-null    float64\n",
      " 4   species       150 non-null    object \n",
      "dtypes: float64(4), object(1)\n",
      "memory usage: 6.0+ KB\n",
      "None\n"
     ]
    }
   ],
   "source": [
    "import pandas as pd\n",
    "import numpy as np\n",
    "import matplotlib.pyplot as plt\n",
    "import sklearn\n",
    "from sklearn.preprocessing import LabelEncoder, MinMaxScaler\n",
    "from sklearn.model_selection import train_test_split\n",
    "from sklearn.metrics import accuracy_score, confusion_matrix, classification_report\n",
    "from sklearn.linear_model import LogisticRegression\n",
    "\n",
    "df = pd.read_csv(\"https://raw.githubusercontent.com/YoungjinBD/dataset/main/iris.csv\")\n",
    "print(df.describe(include='all'))\n",
    "print(df.info())"
   ]
  },
  {
   "cell_type": "markdown",
   "id": "cb5cb75d-1e5d-4c03-87f4-1cc05754e9af",
   "metadata": {},
   "source": [
    "## 데이터 전처리"
   ]
  },
  {
   "cell_type": "markdown",
   "id": "e2e80401-2a51-4b47-a220-f3bd4db4fb38",
   "metadata": {},
   "source": [
    "### 결측치 확인"
   ]
  },
  {
   "cell_type": "code",
   "execution_count": 5,
   "id": "a799a2af-bf6f-4c3a-8d5d-139887ec5f6a",
   "metadata": {},
   "outputs": [
    {
     "name": "stdout",
     "output_type": "stream",
     "text": [
      "sepal_length    0\n",
      "sepal_width     0\n",
      "petal_length    0\n",
      "petal_width     0\n",
      "species         0\n",
      "dtype: int64\n"
     ]
    }
   ],
   "source": [
    "print(df.isnull().sum())"
   ]
  },
  {
   "cell_type": "markdown",
   "id": "83b724ca-368a-4a03-bc88-98a2ce10ba9c",
   "metadata": {},
   "source": [
    "### 데이터 정규화"
   ]
  },
  {
   "cell_type": "code",
   "execution_count": 7,
   "id": "fa6fe7b7-0221-4197-aca7-d2d00d38d602",
   "metadata": {},
   "outputs": [],
   "source": [
    "scaler = MinMaxScaler()\n",
    "df['sepal_length'] = scaler.fit_transform(df[['sepal_length']])\n",
    "df['sepal_width'] = scaler.fit_transform(df[['sepal_width']])\n",
    "df['petal_length'] = scaler.fit_transform(df[['petal_length']])\n",
    "df['petal_width'] = scaler.fit_transform(df[['petal_width']])"
   ]
  },
  {
   "cell_type": "markdown",
   "id": "b5cbb6fd-3637-44ab-af8e-4a38ec8a56be",
   "metadata": {},
   "source": [
    "### 데이터 확인"
   ]
  },
  {
   "cell_type": "code",
   "execution_count": 9,
   "id": "21a4fc03-cc51-449c-8634-a403bfe32d63",
   "metadata": {},
   "outputs": [
    {
     "name": "stdout",
     "output_type": "stream",
     "text": [
      "        sepal_length  sepal_width  petal_length  petal_width species\n",
      "count     150.000000   150.000000    150.000000   150.000000     150\n",
      "unique           NaN          NaN           NaN          NaN       3\n",
      "top              NaN          NaN           NaN          NaN  setosa\n",
      "freq             NaN          NaN           NaN          NaN      50\n",
      "mean        0.428704     0.440556      0.467458     0.458056     NaN\n",
      "std         0.230018     0.181611      0.299203     0.317599     NaN\n",
      "min         0.000000     0.000000      0.000000     0.000000     NaN\n",
      "25%         0.222222     0.333333      0.101695     0.083333     NaN\n",
      "50%         0.416667     0.416667      0.567797     0.500000     NaN\n",
      "75%         0.583333     0.541667      0.694915     0.708333     NaN\n",
      "max         1.000000     1.000000      1.000000     1.000000     NaN\n"
     ]
    }
   ],
   "source": [
    "print(df.describe(include='all'))"
   ]
  },
  {
   "cell_type": "markdown",
   "id": "f86a37fe-20f5-4dae-9ffa-4b844af940d0",
   "metadata": {},
   "source": [
    "## 분석 데이터 셋 준비"
   ]
  },
  {
   "cell_type": "code",
   "execution_count": 10,
   "id": "bd436ea2-b665-4b56-a379-645dca7832a2",
   "metadata": {},
   "outputs": [],
   "source": [
    "x = df[['sepal_length','sepal_width','petal_length','petal_width']]\n",
    "y = df['species']"
   ]
  },
  {
   "cell_type": "code",
   "execution_count": 11,
   "id": "18de10c3-3426-4787-a80c-db569db489f8",
   "metadata": {},
   "outputs": [],
   "source": [
    "x_train,x_test,y_train,y_test = train_test_split(x,y,test_size = 0.2, random_state = 11)"
   ]
  },
  {
   "cell_type": "code",
   "execution_count": 12,
   "id": "a6b0ceb1-35ed-47ba-b1b8-10d21de3da72",
   "metadata": {},
   "outputs": [
    {
     "name": "stdout",
     "output_type": "stream",
     "text": [
      "(120, 4) (30, 4) (120,) (30,)\n"
     ]
    }
   ],
   "source": [
    "print(x_train.shape,x_test.shape,y_train.shape,y_test.shape)"
   ]
  },
  {
   "cell_type": "markdown",
   "id": "f0334ab2-c628-4f23-8b80-372ff50c5e03",
   "metadata": {},
   "source": [
    "## 분석 진행"
   ]
  },
  {
   "cell_type": "code",
   "execution_count": 14,
   "id": "8e885420-df36-431a-b8f0-c0fa2055f8e1",
   "metadata": {},
   "outputs": [],
   "source": [
    "lr = LogisticRegression()\n",
    "lr.fit(x_train,y_train)\n",
    "pred = lr.predict(x_test)"
   ]
  },
  {
   "cell_type": "markdown",
   "id": "d6d296ff-1cc1-428b-9f3b-5c1bef80a84a",
   "metadata": {},
   "source": [
    "## 모델 평가"
   ]
  },
  {
   "cell_type": "code",
   "execution_count": 16,
   "id": "fb02fffc-0604-4d20-8b0a-1f92dd10d9cb",
   "metadata": {},
   "outputs": [
    {
     "name": "stdout",
     "output_type": "stream",
     "text": [
      "0.8333333333333334\n",
      "[[9 0 0]\n",
      " [0 7 3]\n",
      " [0 2 9]]\n",
      "              precision    recall  f1-score   support\n",
      "\n",
      "      setosa       1.00      1.00      1.00         9\n",
      "  versicolor       0.78      0.70      0.74        10\n",
      "   virginica       0.75      0.82      0.78        11\n",
      "\n",
      "    accuracy                           0.83        30\n",
      "   macro avg       0.84      0.84      0.84        30\n",
      "weighted avg       0.83      0.83      0.83        30\n",
      "\n"
     ]
    }
   ],
   "source": [
    "acc = accuracy_score(y_test,pred)\n",
    "print(acc)\n",
    "cm = confusion_matrix(y_test,pred)\n",
    "print(cm)\n",
    "cr = classification_report(y_test,pred)\n",
    "print(cr)"
   ]
  },
  {
   "cell_type": "markdown",
   "id": "2cd73838-751e-4d65-9058-0ae42c132465",
   "metadata": {},
   "source": [
    "# 연습하기"
   ]
  },
  {
   "cell_type": "code",
   "execution_count": 6,
   "id": "2fda9e70-9aad-4c4e-8886-1a29b81df604",
   "metadata": {},
   "outputs": [
    {
     "name": "stdout",
     "output_type": "stream",
     "text": [
      "        sepal_length  sepal_width  petal_length  petal_width species\n",
      "count     150.000000   150.000000    150.000000   150.000000     150\n",
      "unique           NaN          NaN           NaN          NaN       3\n",
      "top              NaN          NaN           NaN          NaN  setosa\n",
      "freq             NaN          NaN           NaN          NaN      50\n",
      "mean        5.843333     3.057333      3.758000     1.199333     NaN\n",
      "std         0.828066     0.435866      1.765298     0.762238     NaN\n",
      "min         4.300000     2.000000      1.000000     0.100000     NaN\n",
      "25%         5.100000     2.800000      1.600000     0.300000     NaN\n",
      "50%         5.800000     3.000000      4.350000     1.300000     NaN\n",
      "75%         6.400000     3.300000      5.100000     1.800000     NaN\n",
      "max         7.900000     4.400000      6.900000     2.500000     NaN\n",
      "<class 'pandas.core.frame.DataFrame'>\n",
      "RangeIndex: 150 entries, 0 to 149\n",
      "Data columns (total 5 columns):\n",
      " #   Column        Non-Null Count  Dtype  \n",
      "---  ------        --------------  -----  \n",
      " 0   sepal_length  150 non-null    float64\n",
      " 1   sepal_width   150 non-null    float64\n",
      " 2   petal_length  150 non-null    float64\n",
      " 3   petal_width   150 non-null    float64\n",
      " 4   species       150 non-null    object \n",
      "dtypes: float64(4), object(1)\n",
      "memory usage: 6.0+ KB\n",
      "None\n",
      "0.8333333333333334\n",
      "[[9 0 0]\n",
      " [0 7 3]\n",
      " [0 2 9]]\n",
      "              precision    recall  f1-score   support\n",
      "\n",
      "      setosa       1.00      1.00      1.00         9\n",
      "  versicolor       0.78      0.70      0.74        10\n",
      "   virginica       0.75      0.82      0.78        11\n",
      "\n",
      "    accuracy                           0.83        30\n",
      "   macro avg       0.84      0.84      0.84        30\n",
      "weighted avg       0.83      0.83      0.83        30\n",
      "\n"
     ]
    }
   ],
   "source": [
    "import pandas as pd\n",
    "import numpy as np\n",
    "import matplotlib.pyplot as plt\n",
    "import sklearn\n",
    "from sklearn.preprocessing import MinMaxScaler, LabelEncoder\n",
    "from sklearn.model_selection import train_test_split\n",
    "from sklearn.metrics import accuracy_score, confusion_matrix, classification_report\n",
    "from sklearn.linear_model import LogisticRegression \n",
    "\n",
    "df = pd.read_csv(\"https://raw.githubusercontent.com/YoungjinBD/dataset/main/iris.csv\")\n",
    "print(df.describe(include='all'))\n",
    "print(df.info())\n",
    "\n",
    "scaler = MinMaxScaler()\n",
    "df['sepal_length'] = scaler.fit_transform(df[['sepal_length']])\n",
    "df['sepal_width'] = scaler.fit_transform(df[['sepal_width']])\n",
    "df['petal_length'] = scaler.fit_transform(df[['petal_length']])\n",
    "df['petal_width'] = scaler.fit_transform(df[['petal_width']])\n",
    "\n",
    "x = df[['sepal_length','sepal_width','petal_length','petal_width']]\n",
    "y = df['species']\n",
    "\n",
    "x_train,x_test,y_train,y_test = train_test_split(x,y,test_size=0.2, random_state = 11)\n",
    "\n",
    "lr = LogisticRegression()\n",
    "lr.fit(x_train,y_train)\n",
    "pred = lr.predict(x_test)\n",
    "\n",
    "acc = accuracy_score(y_test,pred)\n",
    "print(acc)\n",
    "cm = confusion_matrix(y_test,pred)\n",
    "print(cm)\n",
    "cr = classification_report(y_test,pred)\n",
    "print(cr)"
   ]
  },
  {
   "cell_type": "code",
   "execution_count": null,
   "id": "a4c60e9b-c34c-479f-bc26-3977cd27bdba",
   "metadata": {},
   "outputs": [],
   "source": []
  }
 ],
 "metadata": {
  "kernelspec": {
   "display_name": "Python 3 (ipykernel)",
   "language": "python",
   "name": "python3"
  },
  "language_info": {
   "codemirror_mode": {
    "name": "ipython",
    "version": 3
   },
   "file_extension": ".py",
   "mimetype": "text/x-python",
   "name": "python",
   "nbconvert_exporter": "python",
   "pygments_lexer": "ipython3",
   "version": "3.11.9"
  }
 },
 "nbformat": 4,
 "nbformat_minor": 5
}
