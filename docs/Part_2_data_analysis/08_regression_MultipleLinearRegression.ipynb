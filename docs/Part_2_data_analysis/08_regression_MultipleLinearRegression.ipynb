{
 "cells": [
  {
   "cell_type": "markdown",
   "id": "5872f7af-b4f3-4730-ab0a-bc3da74571e1",
   "metadata": {},
   "source": [
    "# 실습하기"
   ]
  },
  {
   "cell_type": "markdown",
   "id": "73a005d5-beef-43e3-97ff-6f6a6d0c012e",
   "metadata": {},
   "source": [
    "## 데이터 준비하기"
   ]
  },
  {
   "cell_type": "code",
   "execution_count": 7,
   "id": "83706378-8903-40dd-b98a-1e024895db06",
   "metadata": {},
   "outputs": [
    {
     "name": "stdout",
     "output_type": "stream",
     "text": [
      "           longitude      latitude  housing_median_age   total_rooms  \\\n",
      "count   20640.000000  20640.000000        20640.000000  20640.000000   \n",
      "unique           NaN           NaN                 NaN           NaN   \n",
      "top              NaN           NaN                 NaN           NaN   \n",
      "freq             NaN           NaN                 NaN           NaN   \n",
      "mean     -119.569704     35.631861           28.639486   2635.763081   \n",
      "std         2.003532      2.135952           12.585558   2181.615252   \n",
      "min      -124.350000     32.540000            1.000000      2.000000   \n",
      "25%      -121.800000     33.930000           18.000000   1447.750000   \n",
      "50%      -118.490000     34.260000           29.000000   2127.000000   \n",
      "75%      -118.010000     37.710000           37.000000   3148.000000   \n",
      "max      -114.310000     41.950000           52.000000  39320.000000   \n",
      "\n",
      "        total_bedrooms    population    households  median_income  \\\n",
      "count     20433.000000  20640.000000  20640.000000   20640.000000   \n",
      "unique             NaN           NaN           NaN            NaN   \n",
      "top                NaN           NaN           NaN            NaN   \n",
      "freq               NaN           NaN           NaN            NaN   \n",
      "mean        537.870553   1425.476744    499.539680       3.870671   \n",
      "std         421.385070   1132.462122    382.329753       1.899822   \n",
      "min           1.000000      3.000000      1.000000       0.499900   \n",
      "25%         296.000000    787.000000    280.000000       2.563400   \n",
      "50%         435.000000   1166.000000    409.000000       3.534800   \n",
      "75%         647.000000   1725.000000    605.000000       4.743250   \n",
      "max        6445.000000  35682.000000   6082.000000      15.000100   \n",
      "\n",
      "        median_house_value ocean_proximity  \n",
      "count         20640.000000           20640  \n",
      "unique                 NaN               5  \n",
      "top                    NaN       <1H OCEAN  \n",
      "freq                   NaN            9136  \n",
      "mean         206855.816909             NaN  \n",
      "std          115395.615874             NaN  \n",
      "min           14999.000000             NaN  \n",
      "25%          119600.000000             NaN  \n",
      "50%          179700.000000             NaN  \n",
      "75%          264725.000000             NaN  \n",
      "max          500001.000000             NaN  \n",
      "<class 'pandas.core.frame.DataFrame'>\n",
      "RangeIndex: 20640 entries, 0 to 20639\n",
      "Data columns (total 10 columns):\n",
      " #   Column              Non-Null Count  Dtype  \n",
      "---  ------              --------------  -----  \n",
      " 0   longitude           20640 non-null  float64\n",
      " 1   latitude            20640 non-null  float64\n",
      " 2   housing_median_age  20640 non-null  float64\n",
      " 3   total_rooms         20640 non-null  float64\n",
      " 4   total_bedrooms      20433 non-null  float64\n",
      " 5   population          20640 non-null  float64\n",
      " 6   households          20640 non-null  float64\n",
      " 7   median_income       20640 non-null  float64\n",
      " 8   median_house_value  20640 non-null  float64\n",
      " 9   ocean_proximity     20640 non-null  object \n",
      "dtypes: float64(9), object(1)\n",
      "memory usage: 1.6+ MB\n",
      "None\n"
     ]
    }
   ],
   "source": [
    "import pandas as pd\n",
    "import numpy as np\n",
    "import matplotlib.pyplot as plt\n",
    "import sklearn\n",
    "from sklearn.preprocessing import MinMaxScaler, LabelEncoder\n",
    "from sklearn.model_selection import train_test_split\n",
    "from sklearn.metrics import r2_score, accuracy_score, confusion_matrix, classification_report \n",
    "from sklearn.linear_model import LinearRegression\n",
    "\n",
    "df = pd.read_csv(\"https://raw.githubusercontent.com/YoungjinBD/dataset/main/housing.csv\")\n",
    "print(df.describe(include='all'))\n",
    "print(df.info())"
   ]
  },
  {
   "cell_type": "markdown",
   "id": "56061b14-fb4e-40c1-bcfc-251274af4222",
   "metadata": {},
   "source": [
    "## 데이터 전처리"
   ]
  },
  {
   "cell_type": "markdown",
   "id": "261c1280-2369-4092-ada5-f546e18cf742",
   "metadata": {},
   "source": [
    "### 결측치 처리"
   ]
  },
  {
   "cell_type": "code",
   "execution_count": 8,
   "id": "32f766ad-8265-45bf-a129-7224dd214083",
   "metadata": {},
   "outputs": [
    {
     "name": "stdout",
     "output_type": "stream",
     "text": [
      "longitude               0\n",
      "latitude                0\n",
      "housing_median_age      0\n",
      "total_rooms             0\n",
      "total_bedrooms        207\n",
      "population              0\n",
      "households              0\n",
      "median_income           0\n",
      "median_house_value      0\n",
      "ocean_proximity         0\n",
      "dtype: int64\n"
     ]
    }
   ],
   "source": [
    "print(df.isnull().sum())"
   ]
  },
  {
   "cell_type": "code",
   "execution_count": 9,
   "id": "1f7888d7-afb7-4e4d-a555-f4ce23f31f4c",
   "metadata": {},
   "outputs": [],
   "source": [
    "df.dropna(inplace=True)"
   ]
  },
  {
   "cell_type": "code",
   "execution_count": 10,
   "id": "20c45890-c1ba-4a73-a166-f57f1247bba6",
   "metadata": {},
   "outputs": [
    {
     "name": "stdout",
     "output_type": "stream",
     "text": [
      "longitude             0\n",
      "latitude              0\n",
      "housing_median_age    0\n",
      "total_rooms           0\n",
      "total_bedrooms        0\n",
      "population            0\n",
      "households            0\n",
      "median_income         0\n",
      "median_house_value    0\n",
      "ocean_proximity       0\n",
      "dtype: int64\n"
     ]
    }
   ],
   "source": [
    "print(df.isnull().sum())"
   ]
  },
  {
   "cell_type": "markdown",
   "id": "dcfd2962-ee15-4334-88ee-bc398cf9cd7a",
   "metadata": {},
   "source": [
    "### 범주형 데이터 삭제"
   ]
  },
  {
   "cell_type": "code",
   "execution_count": 11,
   "id": "4a5f433f-965e-4fd5-8edd-9948a9edfeb0",
   "metadata": {},
   "outputs": [],
   "source": [
    "df.drop('ocean_proximity',axis=1, inplace=True)"
   ]
  },
  {
   "cell_type": "code",
   "execution_count": 13,
   "id": "5dc77c4e-82ba-4468-b979-7d9e1c3690c6",
   "metadata": {},
   "outputs": [
    {
     "name": "stdout",
     "output_type": "stream",
     "text": [
      "          longitude      latitude  housing_median_age   total_rooms  \\\n",
      "count  20433.000000  20433.000000        20433.000000  20433.000000   \n",
      "mean    -119.570689     35.633221           28.633094   2636.504233   \n",
      "std        2.003578      2.136348           12.591805   2185.269567   \n",
      "min     -124.350000     32.540000            1.000000      2.000000   \n",
      "25%     -121.800000     33.930000           18.000000   1450.000000   \n",
      "50%     -118.490000     34.260000           29.000000   2127.000000   \n",
      "75%     -118.010000     37.720000           37.000000   3143.000000   \n",
      "max     -114.310000     41.950000           52.000000  39320.000000   \n",
      "\n",
      "       total_bedrooms    population    households  median_income  \\\n",
      "count    20433.000000  20433.000000  20433.000000   20433.000000   \n",
      "mean       537.870553   1424.946949    499.433465       3.871162   \n",
      "std        421.385070   1133.208490    382.299226       1.899291   \n",
      "min          1.000000      3.000000      1.000000       0.499900   \n",
      "25%        296.000000    787.000000    280.000000       2.563700   \n",
      "50%        435.000000   1166.000000    409.000000       3.536500   \n",
      "75%        647.000000   1722.000000    604.000000       4.744000   \n",
      "max       6445.000000  35682.000000   6082.000000      15.000100   \n",
      "\n",
      "       median_house_value  \n",
      "count        20433.000000  \n",
      "mean        206864.413155  \n",
      "std         115435.667099  \n",
      "min          14999.000000  \n",
      "25%         119500.000000  \n",
      "50%         179700.000000  \n",
      "75%         264700.000000  \n",
      "max         500001.000000  \n"
     ]
    }
   ],
   "source": [
    "print(df.describe(include='all'))"
   ]
  },
  {
   "cell_type": "markdown",
   "id": "0db239e2-7491-49c4-88ee-51818306f38f",
   "metadata": {},
   "source": [
    "### 상관관계 확인"
   ]
  },
  {
   "cell_type": "code",
   "execution_count": 15,
   "id": "590e87e1-4389-4c83-87a7-2179ee2562fa",
   "metadata": {},
   "outputs": [
    {
     "name": "stdout",
     "output_type": "stream",
     "text": [
      "                    longitude  latitude  housing_median_age  total_rooms  \\\n",
      "longitude            1.000000 -0.924616           -0.109357     0.045480   \n",
      "latitude            -0.924616  1.000000            0.011899    -0.036667   \n",
      "housing_median_age  -0.109357  0.011899            1.000000    -0.360628   \n",
      "total_rooms          0.045480 -0.036667           -0.360628     1.000000   \n",
      "total_bedrooms       0.069608 -0.066983           -0.320451     0.930380   \n",
      "population           0.100270 -0.108997           -0.295787     0.857281   \n",
      "households           0.056513 -0.071774           -0.302768     0.918992   \n",
      "median_income       -0.015550 -0.079626           -0.118278     0.197882   \n",
      "median_house_value  -0.045398 -0.144638            0.106432     0.133294   \n",
      "\n",
      "                    total_bedrooms  population  households  median_income  \\\n",
      "longitude                 0.069608    0.100270    0.056513      -0.015550   \n",
      "latitude                 -0.066983   -0.108997   -0.071774      -0.079626   \n",
      "housing_median_age       -0.320451   -0.295787   -0.302768      -0.118278   \n",
      "total_rooms               0.930380    0.857281    0.918992       0.197882   \n",
      "total_bedrooms            1.000000    0.877747    0.979728      -0.007723   \n",
      "population                0.877747    1.000000    0.907186       0.005087   \n",
      "households                0.979728    0.907186    1.000000       0.013434   \n",
      "median_income            -0.007723    0.005087    0.013434       1.000000   \n",
      "median_house_value        0.049686   -0.025300    0.064894       0.688355   \n",
      "\n",
      "                    median_house_value  \n",
      "longitude                    -0.045398  \n",
      "latitude                     -0.144638  \n",
      "housing_median_age            0.106432  \n",
      "total_rooms                   0.133294  \n",
      "total_bedrooms                0.049686  \n",
      "population                   -0.025300  \n",
      "households                    0.064894  \n",
      "median_income                 0.688355  \n",
      "median_house_value            1.000000  \n"
     ]
    }
   ],
   "source": [
    "print(df.corr(method='pearson'))"
   ]
  },
  {
   "cell_type": "markdown",
   "id": "3eac01f9-7163-450c-82b5-f169f92a327e",
   "metadata": {},
   "source": [
    "## 분석 데이터셋 준비"
   ]
  },
  {
   "cell_type": "code",
   "execution_count": 16,
   "id": "25e0b2c6-dae6-4577-8993-b7d2a07e5aa2",
   "metadata": {},
   "outputs": [],
   "source": [
    "x = df.drop('median_house_value',axis=1)\n",
    "y = df['median_house_value']"
   ]
  },
  {
   "cell_type": "code",
   "execution_count": 26,
   "id": "ea5b948d-d144-40ba-927c-b30ccfecab65",
   "metadata": {},
   "outputs": [],
   "source": [
    "x_train,x_test, y_train,y_test = train_test_split(x,y,test_size=0.3, random_state=42)"
   ]
  },
  {
   "cell_type": "markdown",
   "id": "66e3122f-2e2c-4461-99e8-5047e0127632",
   "metadata": {},
   "source": [
    "## 분석 진행"
   ]
  },
  {
   "cell_type": "code",
   "execution_count": 27,
   "id": "d55dac65-ef22-4ede-8e46-a37509e63ecf",
   "metadata": {},
   "outputs": [
    {
     "name": "stdout",
     "output_type": "stream",
     "text": [
      "기울기 :  [-4.21262308e+04 -4.20623763e+04  1.18784999e+03 -8.57874086e+00\n",
      "  1.18123421e+02 -3.55751755e+01  3.73676747e+01  4.03297253e+04]\n",
      "y 절편 :  -3530241.307796696\n"
     ]
    }
   ],
   "source": [
    "lr = LinearRegression()\n",
    "lr.fit(x_train,y_train)\n",
    "print('기울기 : ',lr.coef_)\n",
    "print('y 절편 : ',lr.intercept_)"
   ]
  },
  {
   "cell_type": "code",
   "execution_count": 28,
   "id": "149c87aa-e527-4eed-9a6b-ca21fa116c3c",
   "metadata": {},
   "outputs": [],
   "source": [
    "pred = lr.predict(x_test)"
   ]
  },
  {
   "cell_type": "markdown",
   "id": "d75560f1-1af7-422c-bf62-7e5a139f0b27",
   "metadata": {},
   "source": [
    "## 모델 평가"
   ]
  },
  {
   "cell_type": "code",
   "execution_count": 29,
   "id": "404a506d-ce9e-46e7-bf4d-c7744c589d7a",
   "metadata": {},
   "outputs": [
    {
     "name": "stdout",
     "output_type": "stream",
     "text": [
      "0.6445130291082323\n"
     ]
    }
   ],
   "source": [
    "print(r2_score(y_test,pred))"
   ]
  },
  {
   "cell_type": "markdown",
   "id": "c395481f-c04b-4179-9db9-e5b0992744a2",
   "metadata": {
    "jp-MarkdownHeadingCollapsed": true
   },
   "source": [
    "# 연습하기"
   ]
  },
  {
   "cell_type": "code",
   "execution_count": 2,
   "id": "69c13614-94fe-4639-b8d0-d3c7af60089b",
   "metadata": {},
   "outputs": [
    {
     "name": "stdout",
     "output_type": "stream",
     "text": [
      "          longitude      latitude  housing_median_age   total_rooms  \\\n",
      "count  20433.000000  20433.000000        20433.000000  20433.000000   \n",
      "mean    -119.570689     35.633221           28.633094   2636.504233   \n",
      "std        2.003578      2.136348           12.591805   2185.269567   \n",
      "min     -124.350000     32.540000            1.000000      2.000000   \n",
      "25%     -121.800000     33.930000           18.000000   1450.000000   \n",
      "50%     -118.490000     34.260000           29.000000   2127.000000   \n",
      "75%     -118.010000     37.720000           37.000000   3143.000000   \n",
      "max     -114.310000     41.950000           52.000000  39320.000000   \n",
      "\n",
      "       total_bedrooms    population    households  median_income  \\\n",
      "count    20433.000000  20433.000000  20433.000000   20433.000000   \n",
      "mean       537.870553   1424.946949    499.433465       3.871162   \n",
      "std        421.385070   1133.208490    382.299226       1.899291   \n",
      "min          1.000000      3.000000      1.000000       0.499900   \n",
      "25%        296.000000    787.000000    280.000000       2.563700   \n",
      "50%        435.000000   1166.000000    409.000000       3.536500   \n",
      "75%        647.000000   1722.000000    604.000000       4.744000   \n",
      "max       6445.000000  35682.000000   6082.000000      15.000100   \n",
      "\n",
      "       median_house_value  \n",
      "count        20433.000000  \n",
      "mean        206864.413155  \n",
      "std         115435.667099  \n",
      "min          14999.000000  \n",
      "25%         119500.000000  \n",
      "50%         179700.000000  \n",
      "75%         264700.000000  \n",
      "max         500001.000000  \n",
      "기울기 :  [-4.21262308e+04 -4.20623763e+04  1.18784999e+03 -8.57874086e+00\n",
      "  1.18123421e+02 -3.55751755e+01  3.73676747e+01  4.03297253e+04]\n",
      "y 절편 :  -3530241.307796696\n",
      "0.6334125389213838\n",
      "0.6445130291082323\n"
     ]
    }
   ],
   "source": [
    "import pandas as pd\n",
    "import numpy as np\n",
    "import matplotlib.pyplot as plt\n",
    "import sklearn\n",
    "from sklearn.preprocessing import MinMaxScaler, LabelEncoder\n",
    "from sklearn.model_selection import train_test_split\n",
    "from sklearn.metrics import r2_score, accuracy_score, confusion_matrix, classification_report \n",
    "from sklearn.linear_model import LinearRegression\n",
    "\n",
    "df = pd.read_csv(\"https://raw.githubusercontent.com/YoungjinBD/dataset/main/housing.csv\")\n",
    "\n",
    "df.dropna(axis = 0,inplace=True)\n",
    "df.drop('ocean_proximity',axis=1,inplace=True)\n",
    "print(df.describe(include='all'))\n",
    "\n",
    "x = df.drop('median_house_value',axis=1)\n",
    "y = df['median_house_value']\n",
    "\n",
    "x_train,x_test,y_train,y_test = train_test_split(x,y,test_size= 0.3, random_state= 42)\n",
    "\n",
    "lr = LinearRegression()\n",
    "lr.fit(x_train,y_train)\n",
    "print('기울기 : ',lr.coef_)\n",
    "print('y 절편 : ',lr.intercept_)\n",
    "\n",
    "train_pred = lr.predict(x_train)\n",
    "test_pred = lr.predict(x_test)\n",
    "\n",
    "print(r2_score(y_train,train_pred))\n",
    "print(r2_score(y_test,test_pred))"
   ]
  },
  {
   "cell_type": "code",
   "execution_count": null,
   "id": "525ed547-db48-48e5-af6c-f17a8cc273cb",
   "metadata": {},
   "outputs": [],
   "source": []
  }
 ],
 "metadata": {
  "kernelspec": {
   "display_name": "Python 3 (ipykernel)",
   "language": "python",
   "name": "python3"
  },
  "language_info": {
   "codemirror_mode": {
    "name": "ipython",
    "version": 3
   },
   "file_extension": ".py",
   "mimetype": "text/x-python",
   "name": "python",
   "nbconvert_exporter": "python",
   "pygments_lexer": "ipython3",
   "version": "3.11.9"
  }
 },
 "nbformat": 4,
 "nbformat_minor": 5
}
