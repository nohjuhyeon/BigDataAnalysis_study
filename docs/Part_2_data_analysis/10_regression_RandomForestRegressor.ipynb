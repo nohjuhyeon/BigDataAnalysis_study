{
 "cells": [
  {
   "cell_type": "markdown",
   "id": "356701d5-3515-4d14-bbd6-0944bd8c5a81",
   "metadata": {
    "jp-MarkdownHeadingCollapsed": true
   },
   "source": [
    "# 실습하기"
   ]
  },
  {
   "cell_type": "markdown",
   "id": "176a0725-763a-4990-b62e-fbd40c749fe9",
   "metadata": {},
   "source": [
    "## 데이터 가져오기"
   ]
  },
  {
   "cell_type": "code",
   "execution_count": 2,
   "id": "222bd245-034b-4de9-b2fd-f5fa384b5190",
   "metadata": {},
   "outputs": [
    {
     "name": "stdout",
     "output_type": "stream",
     "text": [
      "           longitude      latitude  housing_median_age   total_rooms  \\\n",
      "count   20640.000000  20640.000000        20640.000000  20640.000000   \n",
      "unique           NaN           NaN                 NaN           NaN   \n",
      "top              NaN           NaN                 NaN           NaN   \n",
      "freq             NaN           NaN                 NaN           NaN   \n",
      "mean     -119.569704     35.631861           28.639486   2635.763081   \n",
      "std         2.003532      2.135952           12.585558   2181.615252   \n",
      "min      -124.350000     32.540000            1.000000      2.000000   \n",
      "25%      -121.800000     33.930000           18.000000   1447.750000   \n",
      "50%      -118.490000     34.260000           29.000000   2127.000000   \n",
      "75%      -118.010000     37.710000           37.000000   3148.000000   \n",
      "max      -114.310000     41.950000           52.000000  39320.000000   \n",
      "\n",
      "        total_bedrooms    population    households  median_income  \\\n",
      "count     20433.000000  20640.000000  20640.000000   20640.000000   \n",
      "unique             NaN           NaN           NaN            NaN   \n",
      "top                NaN           NaN           NaN            NaN   \n",
      "freq               NaN           NaN           NaN            NaN   \n",
      "mean        537.870553   1425.476744    499.539680       3.870671   \n",
      "std         421.385070   1132.462122    382.329753       1.899822   \n",
      "min           1.000000      3.000000      1.000000       0.499900   \n",
      "25%         296.000000    787.000000    280.000000       2.563400   \n",
      "50%         435.000000   1166.000000    409.000000       3.534800   \n",
      "75%         647.000000   1725.000000    605.000000       4.743250   \n",
      "max        6445.000000  35682.000000   6082.000000      15.000100   \n",
      "\n",
      "        median_house_value ocean_proximity  \n",
      "count         20640.000000           20640  \n",
      "unique                 NaN               5  \n",
      "top                    NaN       <1H OCEAN  \n",
      "freq                   NaN            9136  \n",
      "mean         206855.816909             NaN  \n",
      "std          115395.615874             NaN  \n",
      "min           14999.000000             NaN  \n",
      "25%          119600.000000             NaN  \n",
      "50%          179700.000000             NaN  \n",
      "75%          264725.000000             NaN  \n",
      "max          500001.000000             NaN  \n",
      "<class 'pandas.core.frame.DataFrame'>\n",
      "RangeIndex: 20640 entries, 0 to 20639\n",
      "Data columns (total 10 columns):\n",
      " #   Column              Non-Null Count  Dtype  \n",
      "---  ------              --------------  -----  \n",
      " 0   longitude           20640 non-null  float64\n",
      " 1   latitude            20640 non-null  float64\n",
      " 2   housing_median_age  20640 non-null  float64\n",
      " 3   total_rooms         20640 non-null  float64\n",
      " 4   total_bedrooms      20433 non-null  float64\n",
      " 5   population          20640 non-null  float64\n",
      " 6   households          20640 non-null  float64\n",
      " 7   median_income       20640 non-null  float64\n",
      " 8   median_house_value  20640 non-null  float64\n",
      " 9   ocean_proximity     20640 non-null  object \n",
      "dtypes: float64(9), object(1)\n",
      "memory usage: 1.6+ MB\n",
      "None\n"
     ]
    }
   ],
   "source": [
    "import pandas as pd\n",
    "import numpy as np\n",
    "import matplotlib.pyplot as plt\n",
    "from sklearn.preprocessing import LabelEncoder, MinMaxScaler\n",
    "from sklearn.model_selection import train_test_split\n",
    "from sklearn.metrics import r2_score, mean_squared_error, accuracy_score, confusion_matrix, classification_report \n",
    "from sklearn.ensemble import RandomForestRegressor\n",
    "df = pd.read_csv(\"https://raw.githubusercontent.com/YoungjinBD/dataset/main/housing.csv\")\n",
    "print(df.describe(include='all'))\n",
    "print(df.info())"
   ]
  },
  {
   "cell_type": "markdown",
   "id": "bce97378-c703-481e-9bee-a06fe7e8128a",
   "metadata": {},
   "source": [
    "## 데이터 전처리"
   ]
  },
  {
   "cell_type": "code",
   "execution_count": 3,
   "id": "fc9a8be7-f4ee-410f-aa71-0aa2d810fba5",
   "metadata": {},
   "outputs": [
    {
     "name": "stdout",
     "output_type": "stream",
     "text": [
      "longitude               0\n",
      "latitude                0\n",
      "housing_median_age      0\n",
      "total_rooms             0\n",
      "total_bedrooms        207\n",
      "population              0\n",
      "households              0\n",
      "median_income           0\n",
      "median_house_value      0\n",
      "ocean_proximity         0\n",
      "dtype: int64\n"
     ]
    }
   ],
   "source": [
    "print(df.isnull().sum())"
   ]
  },
  {
   "cell_type": "code",
   "execution_count": 4,
   "id": "a4aa9a53-1c02-45b8-ab32-be6fcada7e36",
   "metadata": {},
   "outputs": [],
   "source": [
    "df.dropna(axis=0,inplace=True)"
   ]
  },
  {
   "cell_type": "code",
   "execution_count": 5,
   "id": "245cacb3-d6b3-4634-834f-6b815cdb50ad",
   "metadata": {},
   "outputs": [],
   "source": [
    "df.drop('ocean_proximity',axis=1, inplace=True)"
   ]
  },
  {
   "cell_type": "markdown",
   "id": "8e24c4a4-7021-480c-89c0-25fd51793d72",
   "metadata": {},
   "source": [
    "## 분석 데이터 준비"
   ]
  },
  {
   "cell_type": "code",
   "execution_count": 6,
   "id": "41fa273c-80b6-4345-8235-932ea0465d4e",
   "metadata": {},
   "outputs": [
    {
     "name": "stdout",
     "output_type": "stream",
     "text": [
      "                    longitude  latitude  housing_median_age  total_rooms  \\\n",
      "longitude            1.000000 -0.924616           -0.109357     0.045480   \n",
      "latitude            -0.924616  1.000000            0.011899    -0.036667   \n",
      "housing_median_age  -0.109357  0.011899            1.000000    -0.360628   \n",
      "total_rooms          0.045480 -0.036667           -0.360628     1.000000   \n",
      "total_bedrooms       0.069608 -0.066983           -0.320451     0.930380   \n",
      "population           0.100270 -0.108997           -0.295787     0.857281   \n",
      "households           0.056513 -0.071774           -0.302768     0.918992   \n",
      "median_income       -0.015550 -0.079626           -0.118278     0.197882   \n",
      "median_house_value  -0.045398 -0.144638            0.106432     0.133294   \n",
      "\n",
      "                    total_bedrooms  population  households  median_income  \\\n",
      "longitude                 0.069608    0.100270    0.056513      -0.015550   \n",
      "latitude                 -0.066983   -0.108997   -0.071774      -0.079626   \n",
      "housing_median_age       -0.320451   -0.295787   -0.302768      -0.118278   \n",
      "total_rooms               0.930380    0.857281    0.918992       0.197882   \n",
      "total_bedrooms            1.000000    0.877747    0.979728      -0.007723   \n",
      "population                0.877747    1.000000    0.907186       0.005087   \n",
      "households                0.979728    0.907186    1.000000       0.013434   \n",
      "median_income            -0.007723    0.005087    0.013434       1.000000   \n",
      "median_house_value        0.049686   -0.025300    0.064894       0.688355   \n",
      "\n",
      "                    median_house_value  \n",
      "longitude                    -0.045398  \n",
      "latitude                     -0.144638  \n",
      "housing_median_age            0.106432  \n",
      "total_rooms                   0.133294  \n",
      "total_bedrooms                0.049686  \n",
      "population                   -0.025300  \n",
      "households                    0.064894  \n",
      "median_income                 0.688355  \n",
      "median_house_value            1.000000  \n"
     ]
    }
   ],
   "source": [
    "print(df.corr(method='pearson'))"
   ]
  },
  {
   "cell_type": "code",
   "execution_count": 7,
   "id": "a06b31b3-a923-41ef-ac75-3e6f39714a52",
   "metadata": {},
   "outputs": [],
   "source": [
    "x = df.drop('median_house_value',axis=1)\n",
    "y = df['median_house_value']"
   ]
  },
  {
   "cell_type": "code",
   "execution_count": 8,
   "id": "b85998f6-98d4-4579-9622-76a7a00b3c76",
   "metadata": {},
   "outputs": [],
   "source": [
    "x_train,x_test,y_train,y_test = train_test_split(x,y, test_size = 0.3, random_state = 42)"
   ]
  },
  {
   "cell_type": "markdown",
   "id": "4c242a84-8b44-4bb9-90a9-25d5fa46f885",
   "metadata": {},
   "source": [
    "##  분석 진행"
   ]
  },
  {
   "cell_type": "code",
   "execution_count": 10,
   "id": "31cd90ed-df8f-45ed-8172-68bfa259bea2",
   "metadata": {},
   "outputs": [],
   "source": [
    "rfr = RandomForestRegressor(max_depth = 3, random_state = 42)\n",
    "rfr.fit(x_train,y_train)\n",
    "pred = rfr.predict(x_test)"
   ]
  },
  {
   "cell_type": "markdown",
   "id": "b2b31d15-9720-4321-8b33-c8d6616b4811",
   "metadata": {},
   "source": [
    "## 모델 평가"
   ]
  },
  {
   "cell_type": "code",
   "execution_count": 11,
   "id": "8f92abd9-6378-447d-961d-20700bc6922f",
   "metadata": {},
   "outputs": [
    {
     "name": "stdout",
     "output_type": "stream",
     "text": [
      "0.5163257607399465\n",
      "6447828605.376922\n"
     ]
    }
   ],
   "source": [
    "print(r2_score(y_test,pred))\n",
    "print(mean_squared_error(y_test,pred))"
   ]
  },
  {
   "cell_type": "markdown",
   "id": "b64085e9-346f-45c4-b625-7e6d18002933",
   "metadata": {},
   "source": [
    "# 연습하기"
   ]
  },
  {
   "cell_type": "code",
   "execution_count": 11,
   "id": "52a3a6ae-b372-4b49-b06f-8c496c311f70",
   "metadata": {},
   "outputs": [
    {
     "name": "stdout",
     "output_type": "stream",
     "text": [
      "0.5163257607399465\n",
      "6447828605.376922\n"
     ]
    }
   ],
   "source": [
    "import pandas as pd\n",
    "import numpy as np\n",
    "import matplotlib.pyplot as plt\n",
    "from sklearn.preprocessing import MinMaxScaler, LabelEncoder\n",
    "from sklearn.model_selection import train_test_split\n",
    "from sklearn.metrics import r2_score, mean_squared_error, accuracy_score, confusion_matrix, classification_report \n",
    "from sklearn.ensemble import RandomForestRegressor\n",
    "\n",
    "df = pd.read_csv(\"https://raw.githubusercontent.com/YoungjinBD/dataset/main/housing.csv\")\n",
    "\n",
    "df.dropna(axis=0,inplace=True)\n",
    "df.drop('ocean_proximity',axis=1,inplace=True)\n",
    "\n",
    "x = df.drop('median_house_value',axis=1)\n",
    "y = df['median_house_value']\n",
    "\n",
    "x_train,x_test,y_train,y_test = train_test_split(x,y, test_size = 0.3, random_state =42)\n",
    "\n",
    "rfr = RandomForestRegressor(random_state = 42, max_depth = 3)\n",
    "rfr.fit(x_train,y_train)\n",
    "pred = rfr.predict(x_test)\n",
    "\n",
    "print(r2_score(y_test,pred))\n",
    "print(mean_squared_error(y_test,pred))"
   ]
  },
  {
   "cell_type": "code",
   "execution_count": null,
   "id": "ca1f588e-b7c5-4888-acf3-19150b388560",
   "metadata": {},
   "outputs": [],
   "source": []
  }
 ],
 "metadata": {
  "kernelspec": {
   "display_name": "Python 3 (ipykernel)",
   "language": "python",
   "name": "python3"
  },
  "language_info": {
   "codemirror_mode": {
    "name": "ipython",
    "version": 3
   },
   "file_extension": ".py",
   "mimetype": "text/x-python",
   "name": "python",
   "nbconvert_exporter": "python",
   "pygments_lexer": "ipython3",
   "version": "3.11.9"
  }
 },
 "nbformat": 4,
 "nbformat_minor": 5
}
