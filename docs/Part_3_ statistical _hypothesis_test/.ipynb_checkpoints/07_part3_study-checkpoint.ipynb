{
 "cells": [
  {
   "cell_type": "markdown",
   "id": "a64c125d-5023-41ec-9243-8ef9aa0ceeff",
   "metadata": {},
   "source": [
    "# 정규성 검정"
   ]
  },
  {
   "cell_type": "code",
   "execution_count": 3,
   "id": "310765b5-8918-4021-b880-b5e01e9da279",
   "metadata": {},
   "outputs": [
    {
     "name": "stdout",
     "output_type": "stream",
     "text": [
      "귀무가설을 기각할 수 없습니다. 정규분포에 해당합니다.\n"
     ]
    }
   ],
   "source": [
    "import pandas as pd \n",
    "import matplotlib.pyplot as plt\n",
    "from scipy.stats import shapiro \n",
    "df = pd.read_csv('https://raw.githubusercontent.com/Datamanim/datarepo/main/scipy/normal1.csv')\n",
    "statistic,p_value = shapiro(df)\n",
    "if p_value > 0.05:\n",
    "    print('귀무가설을 기각할 수 없습니다. 정규분포에 해당합니다.')\n",
    "else:\n",
    "    print('귀무가설을 기각합니다. 정규분포에 해당하지 않을 가능성이 있습니다.')\n",
    "\n",
    "# plt.hist(df)\n",
    "# plt.show()"
   ]
  },
  {
   "cell_type": "code",
   "execution_count": 4,
   "id": "2c70dc9e-db6d-4650-af4a-19ad07a57906",
   "metadata": {},
   "outputs": [
    {
     "data": {
      "image/png": "[encoded data removed]",
      "text/plain": [
       "<Figure size 640x480 with 1 Axes>"
      ]
     },
     "metadata": {},
     "output_type": "display_data"
    },
    {
     "name": "stdout",
     "output_type": "stream",
     "text": [
      "귀무가설을 기각합니다. 정규분포에 해당하지 않습니다.\n"
     ]
    }
   ],
   "source": [
    "import pandas as pd \n",
    "import matplotlib.pyplot as plt\n",
    "from scipy.stats import shapiro\n",
    "df = pd.read_csv('https://raw.githubusercontent.com/Datamanim/datarepo/main/scipy/normal3.csv')\n",
    "plt.hist(df)\n",
    "plt.show()\n",
    "statistic,pvalue = shapiro(df)\n",
    "if pvalue > 0.05:\n",
    "    print('귀무가설을 기각할 수 없습니다. 정규분포에 해당합니다.')\n",
    "else:\n",
    "    print('귀무가설을 기각합니다. 정규분포에 해당하지 않습니다.')"
   ]
  },
  {
   "cell_type": "code",
   "execution_count": 7,
   "id": "9e3f959b-7933-485e-9be7-a7f33905afe3",
   "metadata": {},
   "outputs": [
    {
     "name": "stdout",
     "output_type": "stream",
     "text": [
      "비정규분포에 해당\n"
     ]
    },
    {
     "name": "stderr",
     "output_type": "stream",
     "text": [
      "/usr/local/lib/python3.11/site-packages/pandas/core/internals/blocks.py:393: RuntimeWarning: invalid value encountered in log\n",
      "  result = func(self.values, **kwargs)\n"
     ]
    }
   ],
   "source": [
    "import numpy as np\n",
    "import matplotlib.pyplot as plt\n",
    "import pandas as pd\n",
    "from scipy.stats import shapiro\n",
    "df = pd.read_csv('https://raw.githubusercontent.com/Datamanim/datarepo/main/scipy/normal3.csv')\n",
    "statistic, pvalue = shapiro(np.log(df))\n",
    "if pvalue > 0.05 :\n",
    "    print(' 정규분포에 해당')\n",
    "else:\n",
    "    print('비정규분포에 해당')\n",
    "# plt.hist(log_y_data)\n",
    "plt.show()"
   ]
  },
  {
   "cell_type": "code",
   "execution_count": 14,
   "id": "205a58e4-4d2f-431f-9f73-ffc892ba2018",
   "metadata": {},
   "outputs": [
    {
     "name": "stdout",
     "output_type": "stream",
     "text": [
      "비정규분포에 해당\n"
     ]
    },
    {
     "data": {
      "image/png": "[encoded data removed]",
      "text/plain": [
       "<Figure size 640x480 with 1 Axes>"
      ]
     },
     "metadata": {},
     "output_type": "display_data"
    }
   ],
   "source": [
    "import pandas as pd \n",
    "import matplotlib.pyplot as plt\n",
    "from scipy.stats import shapiro, anderson\n",
    "df = pd.read_csv('https://raw.githubusercontent.com/Datamanim/datarepo/main/scipy/normal6.csv')\n",
    "statistic,critical_values,significance_level = anderson(df['data'].values)\n",
    "if statistic < critical_values[2]:\n",
    "    print(\"정규분포에 해당함\")\n",
    "else:\n",
    "    print('비정규분포에 해당')\n",
    "\n",
    "plt.hist(df)\n",
    "plt.show()\n"
   ]
  },
  {
   "cell_type": "markdown",
   "id": "6bb89a25-7fe9-4b01-abc3-64a78429fc39",
   "metadata": {},
   "source": [
    "# 단일 표본 t검정"
   ]
  },
  {
   "cell_type": "code",
   "execution_count": 19,
   "id": "5e27a6dc-6ba5-43ac-849f-07d16c42a058",
   "metadata": {},
   "outputs": [
    {
     "name": "stdout",
     "output_type": "stream",
     "text": [
      "정규분포\n",
      "165라 할 수 없음\n"
     ]
    }
   ],
   "source": [
    "import pandas as pd \n",
    "from scipy.stats import shapiro\n",
    "from scipy import stats\n",
    "df = pd.read_csv('https://raw.githubusercontent.com/Datamanim/datarepo/main/scipy/height1.csv')\n",
    "statistic,pvalue= shapiro(df)\n",
    "if pvalue > 0.05:\n",
    "    print('정규분포')\n",
    "else:\n",
    "    print('비정규분포')\n",
    "\n",
    "statistic,pvalue = stats.ttest_1samp(df,165)\n",
    "if pvalue > 0.05:\n",
    "    print('165라 할 수 있음')\n",
    "else:\n",
    "    print('165라 할 수 없음')"
   ]
  },
  {
   "cell_type": "code",
   "execution_count": 20,
   "id": "7d52c0be-7de7-4b72-a731-d6c89db2e6e1",
   "metadata": {},
   "outputs": [
    {
     "name": "stdout",
     "output_type": "stream",
     "text": [
      "비정규분포\n",
      "165라 할 수 없음\n"
     ]
    }
   ],
   "source": [
    "import pandas as pd \n",
    "from scipy import stats \n",
    "df = pd.read_csv('https://raw.githubusercontent.com/Datamanim/datarepo/main/scipy/height2.csv')\n",
    "\n",
    "statistic,pvalue = stats.shapiro(df)\n",
    "if pvalue > 0.05:\n",
    "    print('정규분포')\n",
    "    statistic,pvalue = stats.ttest_1samp(df,165,alternative='two-side')\n",
    "    if pvalue> 0.05:\n",
    "        print('165라 할 수 있음')\n",
    "    else:\n",
    "        print('165라 할 수 없음')\n",
    "else:\n",
    "    print('비정규분포')\n",
    "    statistic,pvalue = stats.wilcoxon(df-165)\n",
    "    if pvalue > 0.05:\n",
    "        print('165라 할 수 있음')\n",
    "    else:\n",
    "        print('165라 할 수 없음')"
   ]
  },
  {
   "cell_type": "markdown",
   "id": "71f3513e-a8d0-4ca0-b5ce-dbfb9a398b6f",
   "metadata": {},
   "source": [
    "# 등분산 검정"
   ]
  },
  {
   "cell_type": "code",
   "execution_count": 30,
   "id": "54fe8313-cb3a-4942-a1e0-6366a5703de4",
   "metadata": {},
   "outputs": [
    {
     "name": "stdout",
     "output_type": "stream",
     "text": [
      "등분산임\n",
      "등분산임\n",
      "등분산임\n",
      "등분산임\n",
      "등분산임\n"
     ]
    }
   ],
   "source": [
    "import pandas as pd \n",
    "import numpy as np\n",
    "from scipy import stats \n",
    "df = pd.read_csv('https://raw.githubusercontent.com/Datamanim/datarepo/main/scipy/scipy2.csv')\n",
    "df.head()\n",
    "classa = df.loc[df['class'] == 'A'].score\n",
    "classb = df.loc[df['class'] == 'B'].score\n",
    "\n",
    "statistic,pvalue = stats.bartlett(classa,classb)\n",
    "if pvalue > 0.05:\n",
    "    print('등분산임')\n",
    "else:\n",
    "    print('등분산이 아님')\n",
    "statistic,pvalue = stats.fligner(classa,classb,center='median')\n",
    "if pvalue > 0.05:\n",
    "    print('등분산임')\n",
    "else:\n",
    "    print('등분산이 아님')\n",
    "statistic,pvalue = stats.fligner(classa,classb,center='mean')\n",
    "if pvalue > 0.05:\n",
    "    print('등분산임')\n",
    "else:\n",
    "    print('등분산이 아님')\n",
    "\n",
    "statistic,pvalue = stats.levene(classa,classb,center='median')\n",
    "if pvalue > 0.05:\n",
    "    print('등분산임')\n",
    "else:\n",
    "    print('등분산이 아님')\n",
    "statistic,pvalue = stats.levene(classa,classb,center='mean')\n",
    "if pvalue > 0.05:\n",
    "    print('등분산임')\n",
    "else:\n",
    "    print('등분산이 아님')\n"
   ]
  },
  {
   "cell_type": "code",
   "execution_count": 36,
   "id": "8ea67f7c-fa21-4e15-aa2d-9bf044428797",
   "metadata": {},
   "outputs": [
    {
     "name": "stdout",
     "output_type": "stream",
     "text": [
      "등분산임\n",
      "등분산이 아님\n",
      "등분산이 아님\n",
      "등분산이 아님\n",
      "등분산이 아님\n"
     ]
    }
   ],
   "source": [
    "import pandas as pd \n",
    "from scipy import stats \n",
    "import numpy as np\n",
    "df = pd.read_csv('https://raw.githubusercontent.com/Datamanim/datarepo/main/scipy/scipy3.csv')\n",
    "df.head()\n",
    "classa = df.loc[df['class']=='A'].score\n",
    "classb = df.loc[df['class']=='B'].score\n",
    "# print(dir(stats))\n",
    "statistic, pvalue = stats.bartlett(classa,classb)\n",
    "if pvalue > 0.05:\n",
    "    print('등분산임')\n",
    "else:\n",
    "    print('등분산이 아님')\n",
    "\n",
    "statistic, pvalue = stats.levene(classa,classb,center='mean')\n",
    "if pvalue > 0.05:\n",
    "    print('등분산임')\n",
    "else:\n",
    "    print('등분산이 아님')\n",
    "\n",
    "statistic, pvalue = stats.fligner(classa,classb,center='mean')\n",
    "if pvalue > 0.05:\n",
    "    print('등분산임')\n",
    "else:\n",
    "    print('등분산이 아님')\n",
    "\n",
    "statistic, pvalue = stats.levene(classa,classb,center='median')\n",
    "if pvalue > 0.05:\n",
    "    print('등분산임')\n",
    "else:\n",
    "    print('등분산이 아님')\n",
    "\n",
    "statistic, pvalue = stats.fligner(classa,classb,center='median')\n",
    "if pvalue > 0.05:\n",
    "    print('등분산임')\n",
    "else:\n",
    "    print('등분산이 아님')"
   ]
  },
  {
   "cell_type": "code",
   "execution_count": 41,
   "id": "5f3a4424-0aba-4003-8991-4f1c3c446c05",
   "metadata": {},
   "outputs": [
    {
     "name": "stdout",
     "output_type": "stream",
     "text": [
      "등분산이 아님\n",
      "등분산이 아님\n",
      "등분산이 아님\n",
      "등분산이 아님\n",
      "등분산임\n"
     ]
    }
   ],
   "source": [
    "import pandas as pd \n",
    "df = pd.read_csv('https://raw.githubusercontent.com/Datamanim/datarepo/main/scipy/scipy6.csv')\n",
    "df.head()\n",
    "classa = df.A\n",
    "classb = df.B\n",
    "\n",
    "statistic,pvalue = stats.fligner(classa,classb,center='median')\n",
    "if pvalue > 0.05:\n",
    "    print('등분산임')\n",
    "else:\n",
    "    print('등분산이 아님')\n",
    "\n",
    "statistic,pvalue = stats.fligner(classa,classb,center='mean')\n",
    "if pvalue > 0.05:\n",
    "    print('등분산임')\n",
    "else:\n",
    "    print('등분산이 아님')\n",
    "\n",
    "statistic,pvalue = stats.levene(classa,classb,center='median')\n",
    "if pvalue > 0.05:\n",
    "    print('등분산임')\n",
    "else:\n",
    "    print('등분산이 아님')\n",
    "\n",
    "statistic,pvalue = stats.levene(classa,classb,center='mean')\n",
    "if pvalue > 0.05:\n",
    "    print('등분산임')\n",
    "else:\n",
    "    print('등분산이 아님')\n",
    "\n",
    "statistic,pvalue = stats.bartlett(classa,classb)\n",
    "if pvalue > 0.05:\n",
    "    print('등분산임')\n",
    "else:\n",
    "    print('등분산이 아님')\n"
   ]
  },
  {
   "cell_type": "code",
   "execution_count": 46,
   "id": "3f4bb667-d0af-4bd3-9c77-ff7c075a4ec7",
   "metadata": {},
   "outputs": [
    {
     "name": "stdout",
     "output_type": "stream",
     "text": [
      "등분산임\n",
      "등분산이 아님\n",
      "등분산이 아님\n",
      "등분산이 아님\n",
      "등분산이 아님\n"
     ]
    }
   ],
   "source": [
    "import pandas as pd \n",
    "df = pd.read_csv('https://raw.githubusercontent.com/Datamanim/datarepo/main/scipy/scipy5.csv')\n",
    "df.head()\n",
    "classa = df.A.dropna()\n",
    "classb = df.B.dropna()\n",
    "\n",
    "statistic,pvalue = stats.bartlett(classa,classb)\n",
    "if pvalue > 0.05:\n",
    "    print('등분산임')\n",
    "else:\n",
    "    print('등분산이 아님')\n",
    "\n",
    "statistic,pvalue = stats.fligner(classa,classb,center = 'mean')\n",
    "if pvalue > 0.05:\n",
    "    print('등분산임')\n",
    "else:\n",
    "    print('등분산이 아님')\n",
    "\n",
    "statistic,pvalue = stats.fligner(classa,classb,center = 'median')\n",
    "if pvalue > 0.05:\n",
    "    print('등분산임')\n",
    "else:\n",
    "    print('등분산이 아님')\n",
    "\n",
    "statistic,pvalue = stats.levene(classa,classb,center = 'mean')\n",
    "if pvalue > 0.05:\n",
    "    print('등분산임')\n",
    "else:\n",
    "    print('등분산이 아님')\n",
    "\n",
    "statistic,pvalue = stats.levene(classa,classb,center = 'median')\n",
    "if pvalue > 0.05:\n",
    "    print('등분산임')\n",
    "else:\n",
    "    print('등분산이 아님')\n",
    "\n"
   ]
  },
  {
   "cell_type": "markdown",
   "id": "b4a54285-5c28-4de1-885e-153d462f203a",
   "metadata": {},
   "source": [
    "# 대응표본의 차이 검정"
   ]
  },
  {
   "cell_type": "code",
   "execution_count": 49,
   "id": "6693a852-828e-4dd4-9fe0-e4bda6280f00",
   "metadata": {},
   "outputs": [
    {
     "data": {
      "image/png": "[encoded data removed]",
      "text/plain": [
       "<Figure size 640x480 with 1 Axes>"
      ]
     },
     "metadata": {},
     "output_type": "display_data"
    },
    {
     "name": "stdout",
     "output_type": "stream",
     "text": [
      "정규분포\n",
      "정규분포\n",
      "차이가 있음\n"
     ]
    }
   ],
   "source": [
    "import pandas as pd \n",
    "import matplotlib.pyplot as plt\n",
    "from scipy import stats \n",
    "import numpy as np \n",
    "df1 = pd.read_csv('https://raw.githubusercontent.com/Datamanim/datarepo/main/scipy/ind1.csv')\n",
    "df2 = pd.read_csv('https://raw.githubusercontent.com/Datamanim/datarepo/main/scipy/ind2.csv')\n",
    "\n",
    "\n",
    "plt.hist(df1,label='df1',alpha=0.4)\n",
    "plt.hist(df2,label=\"df2\",alpha=0.4)\n",
    "plt.xlabel('Score bins')\n",
    "plt.ylabel('Counts')\n",
    "plt.legend()\n",
    "plt.show()\n",
    "\n",
    "statistic,pvalue = stats.shapiro(df1)\n",
    "if pvalue > 0.05:\n",
    "    print('정규분포')\n",
    "else:\n",
    "    print('비정규분포')\n",
    "\n",
    "statistic,pvalue = stats.shapiro(df2)\n",
    "if pvalue > 0.05:\n",
    "    print('정규분포')\n",
    "else:\n",
    "    print('비정규분포')\n",
    "\n",
    "statstic,pvalue = stats.ttest_ind(df1,df2)\n",
    "if pvalue > 0.05:\n",
    "    print('차이가 없음')\n",
    "else:\n",
    "    print('차이가 있음')"
   ]
  },
  {
   "cell_type": "code",
   "execution_count": null,
   "id": "15fb9b80-d054-4c19-9325-90ed78802ae9",
   "metadata": {},
   "outputs": [],
   "source": []
  }
 ],
 "metadata": {
  "kernelspec": {
   "display_name": "Python 3 (ipykernel)",
   "language": "python",
   "name": "python3"
  },
  "language_info": {
   "codemirror_mode": {
    "name": "ipython",
    "version": 3
   },
   "file_extension": ".py",
   "mimetype": "text/x-python",
   "name": "python",
   "nbconvert_exporter": "python",
   "pygments_lexer": "ipython3",
   "version": "3.11.9"
  }
 },
 "nbformat": 4,
 "nbformat_minor": 5
}
