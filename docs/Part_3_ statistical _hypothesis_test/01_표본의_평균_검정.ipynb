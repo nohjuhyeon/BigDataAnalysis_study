{
 "cells": [
  {
   "cell_type": "markdown",
   "id": "85158eec-61f2-440b-a973-ba6555c8ff9e",
   "metadata": {},
   "source": [
    "# 표본의 평균 검정"
   ]
  },
  {
   "cell_type": "markdown",
   "id": "2bf89593-b807-4346-8bbb-7ea61ac157bd",
   "metadata": {},
   "source": [
    "## z-test(양측) : 모집단의 분산을 알고 있은 경우"
   ]
  },
  {
   "cell_type": "code",
   "execution_count": 2,
   "id": "e493c81d-1aed-45a1-8240-371326ab586e",
   "metadata": {},
   "outputs": [
    {
     "name": "stdout",
     "output_type": "stream",
     "text": [
      "표본평균 :  27.9\n",
      "검정통계량 :  -0.15811388300842122\n",
      "임계값 :  1.959963984540054\n",
      "p-값 :  0.87436706116289\n",
      "귀무가설을 기각하지 못합니다. 표본평균이 모집단 평균과 차이가 없을 가능성이 있습니다.\n"
     ]
    }
   ],
   "source": [
    "import pandas as pd\n",
    "import numpy as np\n",
    "from scipy.stats import norm\n",
    "\n",
    "# 예제 데이터 생성\n",
    "data = np.array([23,25,28,30,26,27,29,32,31,28])\n",
    "\n",
    "# 모집단의 평균과 분산 (표준편차)\n",
    "population_mean = 28\n",
    "population_variance = 4 \n",
    "\n",
    "# 유의수준 설정\n",
    "alpha = 0.05\n",
    "\n",
    "# 단측 또는 양측 검정 선택\n",
    "alternative = 'two.sided'\n",
    "\n",
    "# 표본평균 계산\n",
    "sample_mean = np.mean(data)\n",
    "\n",
    "# 표본 크기\n",
    "n = len(data)\n",
    "\n",
    "# 검정통계량 계산( Z-검정)\n",
    "test_statistic = (sample_mean - population_mean) / (np.sqrt(population_variance)/ np.sqrt(n))\n",
    "\n",
    "# 임계값 계산 (Z-검정, 양측 검정)\n",
    "critical_value = norm.ppf(1-alpha/2)\n",
    "\n",
    "# p-값 계산(양측 검정)\n",
    "p_value = 2*(1-norm.cdf(abs(test_statistic)))\n",
    "\n",
    "# 결과 출력\n",
    "print('표본평균 : ',sample_mean)\n",
    "print('검정통계량 : ',test_statistic)\n",
    "print('임계값 : ', critical_value)\n",
    "print('p-값 : ',p_value)\n",
    "\n",
    "# 결과 해석\n",
    "if abs(test_statistic) > critical_value:\n",
    "    print('귀무가설을 기각합니다. 표본평균이 평균과 다릅니다.')\n",
    "else: \n",
    "    print('귀무가설을 기각하지 못합니다. 표본평균이 모집단 평균과 차이가 없을 가능성이 있습니다.')"
   ]
  },
  {
   "cell_type": "markdown",
   "id": "4ba3fc60-1c4d-491d-89eb-55e632253b52",
   "metadata": {},
   "source": [
    "## t-test(양측) : 모집단의 분산(표준편차)를 모르는 경우"
   ]
  },
  {
   "cell_type": "code",
   "execution_count": 4,
   "id": "170c8744-a638-4386-b74c-e81219f8ab27",
   "metadata": {},
   "outputs": [
    {
     "name": "stdout",
     "output_type": "stream",
     "text": [
      "t-통계량 :  31.887160448233363\n",
      "p-값 :  1.4410218033665443e-10\n",
      "95% 신뢰구간 :  (25.920702252679696, 29.8792977473203)\n",
      "귀무가설을 기각합니다. 표본평균이 모집단 평균과 다릅니다.\n"
     ]
    }
   ],
   "source": [
    "import pandas as pd\n",
    "import numpy as np\n",
    "from scipy import stats \n",
    "\n",
    "# 예제 데이터 생성\n",
    "data = np.array([23,25,28,30,26,27,29,32,31,28])\n",
    "\n",
    "# 유의수준 설정\n",
    "alpha = 0.05\n",
    "\n",
    "# 단측 또는 양측 검정 선택\n",
    "alternative = 'two-sided'\n",
    "\n",
    "# t-검정 수행\n",
    "t_statistic,p_value= stats.ttest_1samp(data,popmean=0, alternative=alternative)\n",
    "\n",
    "# 95% 신뢰구간 계산\n",
    "confidence_interval = stats.t.interval(1-alpha,len(data)-1,loc=np.mean(data),scale=stats.sem(data))\n",
    "\n",
    "# 결과 출력\n",
    "print('t-통계량 : ',t_statistic)\n",
    "print('p-값 : ',p_value)\n",
    "print('95% 신뢰구간 : ', confidence_interval)\n",
    "\n",
    "# 결과 해석\n",
    "if p_value < alpha:\n",
    "    print('귀무가설을 기각합니다. 표본평균이 모집단 평균과 다릅니다.')\n",
    "else:\n",
    "    print('귀무가설을 기각하지 못합니다. 표본평균이 모집단 평균과 차이가 없을 가능성이 있습니다.')\n"
   ]
  },
  {
   "cell_type": "markdown",
   "id": "66db7655-e9d0-4b04-88b5-05901272e501",
   "metadata": {},
   "source": [
    "## 연습하기\n",
    "### mpg 데이터에 대한 표본평균을 구하시오.(반올림하여 소수 넷쨰자리까지 계산)\n",
    "### mpg 데이터에 대한 표본분산을 구하시오.(반올림하여 소수 넷째자리까지 계산)\n",
    "### mpg의 평균이 20이라는 가설에 대해서 검정을 하시오. \n",
    "### mpg의 평균이 95% 신뢰구간을 구하시오. "
   ]
  },
  {
   "cell_type": "code",
   "execution_count": 16,
   "id": "0d888352-c993-4425-9375-d9610b449ba6",
   "metadata": {},
   "outputs": [
    {
     "name": "stdout",
     "output_type": "stream",
     "text": [
      "표본평균 :  20.0906\n",
      "표본분산 :  36.3241\n",
      "검정 통계량 :  0.08506003568133688\n",
      "p-value :  0.9327606409093872\n",
      "95% 신뢰구간 :  17.91767850874625 - 22.263571491253757\n"
     ]
    }
   ],
   "source": [
    "import pandas as pd\n",
    "import numpy as np\n",
    "from scipy import stats \n",
    "mtcars = pd.read_csv('http://raw.githubusercontent.com/YoungjinBD/dataset/main/mtcars.csv')\n",
    "# mpg 데이터에 대한 표본평균을 구하시오.(반올림하여 소수 넷쨰자리까지 계산)\n",
    "means = round(mtcars['mpg'].mean(),4)\n",
    "print('표본평균 : ',means)\n",
    "# mpg 데이터에 대한 표본분산을 구하시오.(반올림하여 소수 넷째자리까지 계산)\n",
    "variance = round(np.var(mtcars['mpg'],ddof=1),4)\n",
    "print('표본분산 : ',variance)\n",
    "# mpg의 평균이 20이라는 가설에 대해서 검정을 하시오. \n",
    "t_statistic,p_value = stats.ttest_1samp(mtcars['mpg'],20)\n",
    "print('검정 통계량 : ',t_statistic)\n",
    "print('p-value : ',p_value)\n",
    "# mpg의 평균이 95% 신뢰구간을 구하시오. \n",
    "\n",
    "confidence_interval = stats.t.interval(0.95, len(mtcars['mpg'])-1,loc=np.mean(mtcars['mpg']),scale = stats.sem(mtcars['mpg']))\n",
    "print('95% 신뢰구간 : ',confidence_interval[0],'-', confidence_interval[1])"
   ]
  },
  {
   "cell_type": "code",
   "execution_count": 27,
   "id": "f09fa4b8-b36c-44c1-b723-3dc9579fcf63",
   "metadata": {},
   "outputs": [
    {
     "name": "stdout",
     "output_type": "stream",
     "text": [
      "표본평균 :  20.0906\n",
      "표본분산:  36.3241\n",
      "검정통계량 :  0.08506003568133688\n",
      "p-value :  0.9327606409093872\n",
      "귀무가설을 기각할 수 없음, 평균이 20가 다르다고 할 수 없음\n",
      "95% 신뢰구간 :  17.91767850874625 - 22.263571491253757\n"
     ]
    }
   ],
   "source": [
    "import pandas as pd\n",
    "import numpy as np\n",
    "from scipy import stats \n",
    "mtcars = pd.read_csv('http://raw.githubusercontent.com/YoungjinBD/dataset/main/mtcars.csv')\n",
    "# mpg 데이터에 대한 표본평균을 구하시오.(반올림하여 소수 넷쨰자리까지 계산)\n",
    "print('표본평균 : ',round(np.mean(mtcars['mpg']),4))\n",
    "\n",
    "# mpg 데이터에 대한 표본분산을 구하시오.(반올림하여 소수 넷째자리까지 계산)\n",
    "print('표본분산: ',round(np.var(mtcars['mpg'],ddof=1),4))\n",
    "\n",
    "# mpg의 평균이 20이라는 가설에 대해서 검정을 하시오. \n",
    "t_statistic, p_value = stats.ttest_1samp(mtcars['mpg'],20)\n",
    "print('검정통계량 : ',t_statistic)\n",
    "print('p-value : ',p_value)\n",
    "print('귀무가설을 기각할 수 없음, 평균이 20가 다르다고 할 수 없음')\n",
    "\n",
    "# mpg의 평균이 95% 신뢰구간을 구하시오. \n",
    "confidence_interval = stats.t.interval(0.95,len(mtcars['mpg'])-1, loc = np.mean(mtcars['mpg']),scale = stats.sem(mtcars['mpg']))\n",
    "print('95% 신뢰구간 : ',confidence_interval[0],'-',confidence_interval[1])"
   ]
  },
  {
   "cell_type": "code",
   "execution_count": null,
   "id": "78cddfe8-3020-4815-8d0d-6e4543ca10f3",
   "metadata": {},
   "outputs": [],
   "source": []
  }
 ],
 "metadata": {
  "kernelspec": {
   "display_name": "Python 3 (ipykernel)",
   "language": "python",
   "name": "python3"
  },
  "language_info": {
   "codemirror_mode": {
    "name": "ipython",
    "version": 3
   },
   "file_extension": ".py",
   "mimetype": "text/x-python",
   "name": "python",
   "nbconvert_exporter": "python",
   "pygments_lexer": "ipython3",
   "version": "3.11.9"
  }
 },
 "nbformat": 4,
 "nbformat_minor": 5
}
