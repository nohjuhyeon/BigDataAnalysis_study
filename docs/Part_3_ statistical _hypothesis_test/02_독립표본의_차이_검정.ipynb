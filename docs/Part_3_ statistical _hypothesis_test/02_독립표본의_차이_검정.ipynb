{
 "cells": [
  {
   "cell_type": "markdown",
   "id": "f062d292-270b-4e9c-a9e3-a8111801c3d3",
   "metadata": {},
   "source": [
    "# 두 독립표본의 평균, 중앙값 차이 검정"
   ]
  },
  {
   "cell_type": "markdown",
   "id": "b6ddfd3c-626e-4c7f-acb8-5a704894aa67",
   "metadata": {},
   "source": [
    "## T-검정 : 정규분포를 따를 때"
   ]
  },
  {
   "cell_type": "code",
   "execution_count": 6,
   "id": "ac130242-4a04-40aa-a086-a56f0ab4ff4d",
   "metadata": {},
   "outputs": [
    {
     "name": "stdout",
     "output_type": "stream",
     "text": [
      "검정 통계량 :  1.5778641172210597\n",
      "p_value :  0.15324889402868613\n",
      "두 그룹의 평균은 유의미하게 다르지 않습니다.\n"
     ]
    }
   ],
   "source": [
    "import pandas as pd\n",
    "import numpy as np\n",
    "from scipy import stats \n",
    "\n",
    "sample1 = [23,25,28,30,32]\n",
    "sample2 = [19,21,24,26,29]\n",
    "\n",
    "t_statistic,p_value = stats.ttest_ind(sample1,sample2)\n",
    "\n",
    "mean_sample1 = np.mean(sample1)\n",
    "mean_sample2 = np.mean(sample2)\n",
    "\n",
    "print('검정 통계량 : ',t_statistic)\n",
    "print('p_value : ',p_value)\n",
    "if p_value < 0.05:\n",
    "    print(' 두 그룹의 평균은 유의미하게 다릅니다.')\n",
    "else:\n",
    "    print('두 그룹의 평균은 유의미하게 다르지 않습니다.')"
   ]
  },
  {
   "cell_type": "markdown",
   "id": "9cba4a5a-18d8-4f06-80c5-577ae9cd1f0b",
   "metadata": {},
   "source": [
    "## mann-whitney U 검정 : 정규분포를 따르지 않을 때 "
   ]
  },
  {
   "cell_type": "code",
   "execution_count": 8,
   "id": "31c3c9ba-bf36-41b7-a6cc-c84c33ac5454",
   "metadata": {},
   "outputs": [
    {
     "name": "stdout",
     "output_type": "stream",
     "text": [
      "검정 통계량 :  19.0\n",
      "p_value :  0.2222222222222222\n",
      "두 그룹의 평균은 유의미하게 다르지 않습니다.\n"
     ]
    }
   ],
   "source": [
    "import pandas as pd\n",
    "import numpy as np\n",
    "from scipy import stats \n",
    "\n",
    "sample1 = [23,25,28,30,32]\n",
    "sample2 = [19,21,24,26,29]\n",
    "\n",
    "\n",
    "t_statistic,p_value = stats.mannwhitneyu(sample1,sample2)\n",
    "print('검정 통계량 : ',t_statistic)\n",
    "print('p_value : ',p_value)\n",
    "if p_value < 0.05:\n",
    "    print(' 두 그룹의 평균은 유의미하게 다릅니다.')\n",
    "else:\n",
    "    print('두 그룹의 평균은 유의미하게 다르지 않습니다.')"
   ]
  },
  {
   "cell_type": "markdown",
   "id": "db860ef8-ac0a-4128-8109-bd205a34fe6b",
   "metadata": {},
   "source": [
    "# 정규성 검정"
   ]
  },
  {
   "cell_type": "code",
   "execution_count": 10,
   "id": "0ec5a5bd-c2f8-429f-b1c2-cff4177dbb09",
   "metadata": {},
   "outputs": [
    {
     "name": "stdout",
     "output_type": "stream",
     "text": [
      "검정 통계량 :  19.0\n",
      "p_value :  0.7484769348718906\n",
      "귀무가설을 기각하며, 데이터는 정규분포를 따르지 않을 가능성이 있습니다.\n"
     ]
    }
   ],
   "source": [
    "import pandas as pd\n",
    "import numpy as np\n",
    "from scipy import stats \n",
    "\n",
    "data = [2.4,2.7,3.1,3.2,3.5,3.7,3.9,4.1,4.2]\n",
    "\n",
    "statistic,p_value = stats.shapiro(data)\n",
    "print('검정 통계량 : ',t_statistic)\n",
    "print('p_value : ',p_value)\n",
    "if p_value < 0.05:\n",
    "    print('귀무가설을 기각하지 못하며, 데이터는 정규분포를 따를 가능성이 높습니다.')\n",
    "else:\n",
    "    print('귀무가설을 기각하며, 데이터는 정규분포를 따르지 않을 가능성이 있습니다.')\n"
   ]
  },
  {
   "cell_type": "markdown",
   "id": "7856f1ad-68e3-4a8f-a7d8-b5f15c54f51b",
   "metadata": {},
   "source": [
    "## 연습하기\n",
    "- ### 각각의 샘플의 평균을 구하시오.\n",
    "- ### 각 샘플에 대해서 정규성 테스트를 수행하시오.\n",
    "- ### 샘플에 대한 (2)의 결과를 바탕으로 적절한 검정 방법을 선택하여 평균에 대한 차이가 있는지 검정을 수행하시오(유의수준은 0.05)"
   ]
  },
  {
   "cell_type": "code",
   "execution_count": 18,
   "id": "be49f45b-2a0a-4999-893f-32680f6825a2",
   "metadata": {},
   "outputs": [
    {
     "name": "stdout",
     "output_type": "stream",
     "text": [
      "남성 평균 :  100.0\n",
      "여성 평균 :  108.0\n",
      "0.9326357614973092\n",
      "0.17352612045868016\n",
      "귀무가설을 기각하지 못하며, 남성 데이터는 정규분포를 따를 가능성이 높습니다.\n",
      "귀무가설을 기각하지 못하며, 여성 데이터는 정규분포를 따를 가능성이 높습니다.\n",
      "검정 통계량 :  -2.670573872669349\n",
      "p_value :  0.011082895240510138\n",
      " 두 그룹의 평균은 유의미하게 다릅니다.\n"
     ]
    }
   ],
   "source": [
    "import pandas as pd\n",
    "import numpy as np\n",
    "from scipy import stats \n",
    "\n",
    "data_m = [117,108,105,89,101,93,96,108,108,94,93,112,92,91,100,96,120,86,96,95]\n",
    "data_f = [121,101,102,114,103,105,101,131,96,109,109,113,115,94,108,96,110,112,120,100]\n",
    "\n",
    "# 각각의 샘플의 평균을 구하시오.\n",
    "print('남성 평균 : ',np.mean(data_m))\n",
    "print('여성 평균 : ',np.mean(data_f))\n",
    "# 각 샘플에 대해서 정규성 테스트를 수행하시오.\n",
    "m_statistic,m_p_value = stats.shapiro(data_m)\n",
    "f_statistic,f_p_value = stats.shapiro(data_f)\n",
    "print(m_statistic)\n",
    "print(m_p_value)\n",
    "if m_p_value > 0.05:\n",
    "    print('귀무가설을 기각하지 못하며, 남성 데이터는 정규분포를 따를 가능성이 높습니다.')\n",
    "else:\n",
    "    print('귀무가설을 기각하며, 남성 데이터는 정규분포를 따르지 않을 가능성이 있습니다.')\n",
    "\n",
    "if f_p_value > 0.05:\n",
    "    print('귀무가설을 기각하지 못하며, 여성 데이터는 정규분포를 따를 가능성이 높습니다.')\n",
    "else:\n",
    "    print('귀무가설을 기각하며, 여성 데이터는 정규분포를 따르지 않을 가능성이 있습니다.')\n",
    "\n",
    "# 샘플에 대한 (2)의 결과를 바탕으로 적절한 검정 방법을 선택하여 평균에 대한 차이가 있는지 검정을 수행하시오(유의수준은 0.05)\n",
    "\n",
    "statistic,p_value = stats.ttest_ind(data_m,data_f)\n",
    "print('검정 통계량 : ',statistic)\n",
    "print('p_value : ',p_value)\n",
    "if p_value > 0.05:\n",
    "    print('두 그룹의 평균은 유의미하게 다르지 않습니다.')\n",
    "else:\n",
    "    print(' 두 그룹의 평균은 유의미하게 다릅니다.')\n"
   ]
  },
  {
   "cell_type": "code",
   "execution_count": null,
   "id": "7e33edd3-2453-4ee1-86ba-c6992fb21561",
   "metadata": {},
   "outputs": [],
   "source": []
  }
 ],
 "metadata": {
  "kernelspec": {
   "display_name": "Python 3 (ipykernel)",
   "language": "python",
   "name": "python3"
  },
  "language_info": {
   "codemirror_mode": {
    "name": "ipython",
    "version": 3
   },
   "file_extension": ".py",
   "mimetype": "text/x-python",
   "name": "python",
   "nbconvert_exporter": "python",
   "pygments_lexer": "ipython3",
   "version": "3.11.9"
  }
 },
 "nbformat": 4,
 "nbformat_minor": 5
}
