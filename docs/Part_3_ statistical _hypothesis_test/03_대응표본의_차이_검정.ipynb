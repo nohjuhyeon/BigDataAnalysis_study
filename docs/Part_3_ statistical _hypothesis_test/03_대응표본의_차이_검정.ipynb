{
 "cells": [
  {
   "cell_type": "markdown",
   "id": "4b3cb3ef-d584-49df-9139-66c62e01c2df",
   "metadata": {},
   "source": [
    "# 대응표본의 평균 차이 검정"
   ]
  },
  {
   "cell_type": "markdown",
   "id": "986ecf39-a655-44a4-b926-88afd8dd88b1",
   "metadata": {},
   "source": [
    "## t-검정"
   ]
  },
  {
   "cell_type": "code",
   "execution_count": 1,
   "id": "bca763c4-62a6-454e-9f4d-1887f86e59f2",
   "metadata": {},
   "outputs": [
    {
     "name": "stdout",
     "output_type": "stream",
     "text": [
      "검정 통계량 :  -8.25674954467424\n",
      "p-value :  0.0011738040715128372\n",
      "귀무가설을 기각할 수 있으므로, 평균 차이가 유의미하다고 할 수 있음\n"
     ]
    }
   ],
   "source": [
    "import pandas as pd\n",
    "import numpy as np\n",
    "from scipy import stats \n",
    "data_before = [72,75,68,71,73]\n",
    "data_after = [76,79,74,78,80]\n",
    "\n",
    "t_statistic,p_value = stats.ttest_rel(data_before,data_after)\n",
    "print('검정 통계량 : ',t_statistic)\n",
    "print('p-value : ',p_value)\n",
    "if p_value > 0.05:\n",
    "    print('귀무가설을 기각할 수 없으므로, 평균 차이가 유의미하다고 할 수 없음')\n",
    "else:\n",
    "    print('귀무가설을 기각할 수 있으므로, 평균 차이가 유의미하다고 할 수 있음')"
   ]
  },
  {
   "cell_type": "markdown",
   "id": "316c97e8-6662-4663-abf4-5432756c0769",
   "metadata": {},
   "source": [
    "## 연습\n",
    "- ### 두 데이터셋의 정규성 검정 테스트를 하시오\n",
    "- ### (1)의 결과를 기반으로 적절한 검정방법을 선택하여 평균 수면시간에 차이가 있는지에 대한 검정을 수행하시오"
   ]
  },
  {
   "cell_type": "code",
   "execution_count": 5,
   "id": "8f4605ea-ad7a-47b2-ba6c-44e4535287a9",
   "metadata": {},
   "outputs": [
    {
     "name": "stdout",
     "output_type": "stream",
     "text": [
      "귀무가설을 기각할 수 없으므로, 정규분포를 따름\n",
      "귀무가설을 기각할 수 없으므로, 정규분포를 따름\n",
      "검정 통계량 :  -4.743416490252569\n",
      "p-value :  0.0010538712570165528\n",
      "귀무가설을 기각할 수 있으므로, 평균 차이가 유의미하다고 할 수 있음\n"
     ]
    }
   ],
   "source": [
    "import pandas as pd\n",
    "import numpy as np\n",
    "from scipy import stats \n",
    "before = [7,3,4,5,2,1,6,6,5,4]\n",
    "after = [8,4,5,6,2,3,6,8,6,5]\n",
    "\n",
    "# 두 데이터셋의 정규성 검정 테스트를 하시오\n",
    "before_statistic,before_p_value = stats.shapiro(before)\n",
    "after_statistic,after_p_value = stats.shapiro(after)\n",
    "if before_p_value > 0.05:\n",
    "    print('귀무가설을 기각할 수 없으므로, 정규분포를 따름')\n",
    "else:\n",
    "    print('귀무가설을 기각할 수 있으므로, 정규분포를 따르지 않음')\n",
    "\n",
    "if after_p_value > 0.05:\n",
    "    print('귀무가설을 기각할 수 없으므로, 정규분포를 따름')\n",
    "else:\n",
    "    print('귀무가설을 기각할 수 있으므로, 정규분포를 따르지 않음')\n",
    "\n",
    "# (1)의 결과를 기반으로 적절한 검정방법을 선택하여 평균 수면시간에 차이가 있는지에 대한 검정을 수행하시오\n",
    "t_statistic,p_value = stats.ttest_rel(before,after)\n",
    "print('검정 통계량 : ',t_statistic)\n",
    "print('p-value : ',p_value)\n",
    "if p_value > 0.05:\n",
    "    print('귀무가설을 기각할 수 없으므로, 평균 차이가 유의미하다고 할 수 없음')\n",
    "else:\n",
    "    print('귀무가설을 기각할 수 있으므로, 평균 차이가 유의미하다고 할 수 있음')\n"
   ]
  },
  {
   "cell_type": "code",
   "execution_count": null,
   "id": "0b6e50ed-0e8d-4d77-82bb-3bc859b6ef9b",
   "metadata": {},
   "outputs": [],
   "source": []
  }
 ],
 "metadata": {
  "kernelspec": {
   "display_name": "Python 3 (ipykernel)",
   "language": "python",
   "name": "python3"
  },
  "language_info": {
   "codemirror_mode": {
    "name": "ipython",
    "version": 3
   },
   "file_extension": ".py",
   "mimetype": "text/x-python",
   "name": "python",
   "nbconvert_exporter": "python",
   "pygments_lexer": "ipython3",
   "version": "3.11.9"
  }
 },
 "nbformat": 4,
 "nbformat_minor": 5
}
