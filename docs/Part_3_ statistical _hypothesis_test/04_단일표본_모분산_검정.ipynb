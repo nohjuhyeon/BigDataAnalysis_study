{
 "cells": [
  {
   "cell_type": "markdown",
   "id": "133be500-a90f-4399-ad84-e3db24272449",
   "metadata": {},
   "source": [
    "# 단일표본 모분산 검정(x2 검정)"
   ]
  },
  {
   "cell_type": "code",
   "execution_count": 8,
   "id": "695146f1-b6e6-4897-89f0-a703346461d0",
   "metadata": {},
   "outputs": [
    {
     "name": "stdout",
     "output_type": "stream",
     "text": [
      "chi-Square Statistic :  0.9800000000000009\n",
      "p-value :  0.9951447440742881\n",
      "귀무가설을 기각할 수 없습니다. 모분산은 1.0과 같을 가능성이 있습니다.\n"
     ]
    }
   ],
   "source": [
    "import numpy as np\n",
    "from scipy.stats import chi2\n",
    "\n",
    "data = np.array([14.2,15.1,14.8,15.4,14.9,15.2,14.6,15.0])\n",
    "\n",
    "# 모분산 = 1.0\n",
    "population_variance = 1.0\n",
    "\n",
    "# 검정통게량 = (n-1) * 표본분산 / 모분산\n",
    "sample_variance = np.var(data,ddof=1)\n",
    "n = len(data)\n",
    "chi2_stat = (n-1) * sample_variance / population_variance\n",
    "\n",
    "# 카이제곱 분포의 자유도 \n",
    "degrees_of_freedom = n-1\n",
    "\n",
    "p_value = 1 - chi2.cdf(chi2_stat,degrees_of_freedom)\n",
    "\n",
    "print('chi-Square Statistic : ',chi2_stat)\n",
    "print('p-value : ',p_value)\n",
    "\n",
    "if p_value > 0.05:\n",
    "    print('귀무가설을 기각할 수 없습니다. 모분산은 1.0과 같을 가능성이 있습니다.')\n",
    "else:\n",
    "    print('귀무가설을 기각합니다. 모분산은 1.0과 다릅니다.')\n"
   ]
  },
  {
   "cell_type": "code",
   "execution_count": 10,
   "id": "0f6e4119-f7cf-4571-8414-cfd6de9f3e6a",
   "metadata": {},
   "outputs": [
    {
     "name": "stdout",
     "output_type": "stream",
     "text": [
      "귀무가설을 기각할 수 없습니다. 모분산이 1.0과 같을 가능성이 있습니다.\n"
     ]
    }
   ],
   "source": [
    "import numpy as np\n",
    "from scipy.stats import chi2\n",
    "data = np.array([14.2,15.1,14.8,15.4,14.9,15.2,14.6,15.0])\n",
    "\n",
    "population_variance = 1.0\n",
    "n = len(data)\n",
    "\n",
    "variance = np.var(data,ddof=1)\n",
    "\n",
    "chi2_stats = (n-1) * variance / population_variance\n",
    "\n",
    "degree_of_freedom = n-1\n",
    "\n",
    "p_value = 1 - chi2.cdf(chi2_stats,degree_of_freedom)\n",
    "if p_value > 0.05:\n",
    "    print('귀무가설을 기각할 수 없습니다. 모분산이 1.0과 같을 가능성이 있습니다.')\n",
    "else:\n",
    "    print('귀무가설을 기각합니다. 모분산이 1.0과 다릅니다.')"
   ]
  },
  {
   "cell_type": "code",
   "execution_count": null,
   "id": "94501d0b-7ccf-48dc-9aef-90c945aa1b4e",
   "metadata": {},
   "outputs": [],
   "source": []
  }
 ],
 "metadata": {
  "kernelspec": {
   "display_name": "Python 3 (ipykernel)",
   "language": "python",
   "name": "python3"
  },
  "language_info": {
   "codemirror_mode": {
    "name": "ipython",
    "version": 3
   },
   "file_extension": ".py",
   "mimetype": "text/x-python",
   "name": "python",
   "nbconvert_exporter": "python",
   "pygments_lexer": "ipython3",
   "version": "3.11.9"
  }
 },
 "nbformat": 4,
 "nbformat_minor": 5
}
