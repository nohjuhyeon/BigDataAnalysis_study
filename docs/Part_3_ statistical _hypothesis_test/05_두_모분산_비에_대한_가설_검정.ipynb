{
 "cells": [
  {
   "cell_type": "markdown",
   "id": "90ab2011-4669-419f-a02f-27130fe7ed38",
   "metadata": {},
   "source": [
    "# 두 모분산 비에 대한 가설 검정(F 검정 : 일원분산분석)"
   ]
  },
  {
   "cell_type": "code",
   "execution_count": 2,
   "id": "d266767d-007f-43db-82cb-fad17af2546b",
   "metadata": {},
   "outputs": [
    {
     "name": "stdout",
     "output_type": "stream",
     "text": [
      "표본 1의 분산 5.776336488392834\n",
      "표본 2의 분산 10.380009661082248\n",
      "f-통계량 0.5564866196656871\n",
      "귀무가설을 기각합니다. 두 모분산이 다릅니다.\n"
     ]
    }
   ],
   "source": [
    "import numpy as np\n",
    "import pandas as pd\n",
    "from scipy import stats \n",
    "\n",
    "# 2개의 표본 생성\n",
    "np.random.seed(123)\n",
    "sample1 = np.random.normal(loc=5,scale=2,size=50)\n",
    "sample2 = np.random.normal(loc=5,scale=3,size=50)\n",
    "\n",
    "# 분산 계산\n",
    "variance_sample1 = np.var(sample1, ddof=1)\n",
    "variance_sample2 = np.var(sample2, ddof=1)\n",
    "# F-검정 실행\n",
    "f_statistic = variance_sample1/variance_sample2\n",
    "df1 = len(sample1)-1\n",
    "df2 = len(sample2)-1\n",
    "\n",
    "p_value = stats.f.cdf(f_statistic,df1,df2)\n",
    "\n",
    "print('표본 1의 분산',variance_sample1)\n",
    "print('표본 2의 분산',variance_sample2)\n",
    "print('f-통계량',f_statistic)\n",
    "\n",
    "if p_value > 0.05:\n",
    "    print('귀무가설을 기각할 수 없습니다. 두 모분산이 같을 가능성이 있습니다.')\n",
    "else:\n",
    "    print('귀무가설을 기각합니다. 두 모분산이 다릅니다.')"
   ]
  },
  {
   "cell_type": "code",
   "execution_count": null,
   "id": "3091b170-527f-48c9-a802-800bd40888fc",
   "metadata": {},
   "outputs": [],
   "source": []
  }
 ],
 "metadata": {
  "kernelspec": {
   "display_name": "Python 3 (ipykernel)",
   "language": "python",
   "name": "python3"
  },
  "language_info": {
   "codemirror_mode": {
    "name": "ipython",
    "version": 3
   },
   "file_extension": ".py",
   "mimetype": "text/x-python",
   "name": "python",
   "nbconvert_exporter": "python",
   "pygments_lexer": "ipython3",
   "version": "3.11.9"
  }
 },
 "nbformat": 4,
 "nbformat_minor": 5
}
