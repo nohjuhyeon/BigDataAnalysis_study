{
 "cells": [
  {
   "cell_type": "markdown",
   "id": "a64c125d-5023-41ec-9243-8ef9aa0ceeff",
   "metadata": {},
   "source": [
    "# 정규성 검정"
   ]
  },
  {
   "cell_type": "code",
   "execution_count": 3,
   "id": "310765b5-8918-4021-b880-b5e01e9da279",
   "metadata": {},
   "outputs": [
    {
     "name": "stdout",
     "output_type": "stream",
     "text": [
      "귀무가설을 기각할 수 없습니다. 정규분포에 해당합니다.\n"
     ]
    }
   ],
   "source": [
    "import pandas as pd \n",
    "import matplotlib.pyplot as plt\n",
    "from scipy.stats import shapiro \n",
    "df = pd.read_csv('https://raw.githubusercontent.com/Datamanim/datarepo/main/scipy/normal1.csv')\n",
    "statistic,p_value = shapiro(df)\n",
    "if p_value > 0.05:\n",
    "    print('귀무가설을 기각할 수 없습니다. 정규분포에 해당합니다.')\n",
    "else:\n",
    "    print('귀무가설을 기각합니다. 정규분포에 해당하지 않을 가능성이 있습니다.')\n",
    "\n",
    "# plt.hist(df)\n",
    "# plt.show()"
   ]
  },
  {
   "cell_type": "code",
   "execution_count": 4,
   "id": "2c70dc9e-db6d-4650-af4a-19ad07a57906",
   "metadata": {},
   "outputs": [
    {
     "data": {
      "image/png": "[encoded data removed]",
      "text/plain": [
       "<Figure size 640x480 with 1 Axes>"
      ]
     },
     "metadata": {},
     "output_type": "display_data"
    },
    {
     "name": "stdout",
     "output_type": "stream",
     "text": [
      "귀무가설을 기각합니다. 정규분포에 해당하지 않습니다.\n"
     ]
    }
   ],
   "source": [
    "import pandas as pd \n",
    "import matplotlib.pyplot as plt\n",
    "from scipy.stats import shapiro\n",
    "df = pd.read_csv('https://raw.githubusercontent.com/Datamanim/datarepo/main/scipy/normal3.csv')\n",
    "plt.hist(df)\n",
    "plt.show()\n",
    "statistic,pvalue = shapiro(df)\n",
    "if pvalue > 0.05:\n",
    "    print('귀무가설을 기각할 수 없습니다. 정규분포에 해당합니다.')\n",
    "else:\n",
    "    print('귀무가설을 기각합니다. 정규분포에 해당하지 않습니다.')"
   ]
  },
  {
   "cell_type": "code",
   "execution_count": 7,
   "id": "9e3f959b-7933-485e-9be7-a7f33905afe3",
   "metadata": {},
   "outputs": [
    {
     "name": "stdout",
     "output_type": "stream",
     "text": [
      "비정규분포에 해당\n"
     ]
    },
    {
     "name": "stderr",
     "output_type": "stream",
     "text": [
      "/usr/local/lib/python3.11/site-packages/pandas/core/internals/blocks.py:393: RuntimeWarning: invalid value encountered in log\n",
      "  result = func(self.values, **kwargs)\n"
     ]
    }
   ],
   "source": [
    "import numpy as np\n",
    "import matplotlib.pyplot as plt\n",
    "import pandas as pd\n",
    "from scipy.stats import shapiro\n",
    "df = pd.read_csv('https://raw.githubusercontent.com/Datamanim/datarepo/main/scipy/normal3.csv')\n",
    "statistic, pvalue = shapiro(np.log(df))\n",
    "if pvalue > 0.05 :\n",
    "    print(' 정규분포에 해당')\n",
    "else:\n",
    "    print('비정규분포에 해당')\n",
    "# plt.hist(log_y_data)\n",
    "plt.show()"
   ]
  },
  {
   "cell_type": "code",
   "execution_count": 14,
   "id": "205a58e4-4d2f-431f-9f73-ffc892ba2018",
   "metadata": {},
   "outputs": [
    {
     "name": "stdout",
     "output_type": "stream",
     "text": [
      "비정규분포에 해당\n"
     ]
    },
    {
     "data": {
      "image/png": "[encoded data removed]",
      "text/plain": [
       "<Figure size 640x480 with 1 Axes>"
      ]
     },
     "metadata": {},
     "output_type": "display_data"
    }
   ],
   "source": [
    "import pandas as pd \n",
    "import matplotlib.pyplot as plt\n",
    "from scipy.stats import shapiro, anderson\n",
    "df = pd.read_csv('https://raw.githubusercontent.com/Datamanim/datarepo/main/scipy/normal6.csv')\n",
    "statistic,critical_values,significance_level = anderson(df['data'].values)\n",
    "if statistic < critical_values[2]:\n",
    "    print(\"정규분포에 해당함\")\n",
    "else:\n",
    "    print('비정규분포에 해당')\n",
    "\n",
    "plt.hist(df)\n",
    "plt.show()\n"
   ]
  },
  {
   "cell_type": "markdown",
   "id": "6bb89a25-7fe9-4b01-abc3-64a78429fc39",
   "metadata": {},
   "source": [
    "# 단일 표본 t검정"
   ]
  },
  {
   "cell_type": "code",
   "execution_count": 19,
   "id": "5e27a6dc-6ba5-43ac-849f-07d16c42a058",
   "metadata": {},
   "outputs": [
    {
     "name": "stdout",
     "output_type": "stream",
     "text": [
      "정규분포\n",
      "165라 할 수 없음\n"
     ]
    }
   ],
   "source": [
    "import pandas as pd \n",
    "from scipy.stats import shapiro\n",
    "from scipy import stats\n",
    "df = pd.read_csv('https://raw.githubusercontent.com/Datamanim/datarepo/main/scipy/height1.csv')\n",
    "statistic,pvalue= shapiro(df)\n",
    "if pvalue > 0.05:\n",
    "    print('정규분포')\n",
    "else:\n",
    "    print('비정규분포')\n",
    "\n",
    "statistic,pvalue = stats.ttest_1samp(df,165)\n",
    "if pvalue > 0.05:\n",
    "    print('165라 할 수 있음')\n",
    "else:\n",
    "    print('165라 할 수 없음')"
   ]
  },
  {
   "cell_type": "code",
   "execution_count": 20,
   "id": "7d52c0be-7de7-4b72-a731-d6c89db2e6e1",
   "metadata": {},
   "outputs": [
    {
     "name": "stdout",
     "output_type": "stream",
     "text": [
      "비정규분포\n",
      "165라 할 수 없음\n"
     ]
    }
   ],
   "source": [
    "import pandas as pd \n",
    "from scipy import stats \n",
    "df = pd.read_csv('https://raw.githubusercontent.com/Datamanim/datarepo/main/scipy/height2.csv')\n",
    "\n",
    "statistic,pvalue = stats.shapiro(df)\n",
    "if pvalue > 0.05:\n",
    "    print('정규분포')\n",
    "    statistic,pvalue = stats.ttest_1samp(df,165,alternative='two-side')\n",
    "    if pvalue> 0.05:\n",
    "        print('165라 할 수 있음')\n",
    "    else:\n",
    "        print('165라 할 수 없음')\n",
    "else:\n",
    "    print('비정규분포')\n",
    "    statistic,pvalue = stats.wilcoxon(df-165)\n",
    "    if pvalue > 0.05:\n",
    "        print('165라 할 수 있음')\n",
    "    else:\n",
    "        print('165라 할 수 없음')"
   ]
  },
  {
   "cell_type": "markdown",
   "id": "71f3513e-a8d0-4ca0-b5ce-dbfb9a398b6f",
   "metadata": {},
   "source": [
    "# 등분산 검정"
   ]
  },
  {
   "cell_type": "code",
   "execution_count": 30,
   "id": "54fe8313-cb3a-4942-a1e0-6366a5703de4",
   "metadata": {},
   "outputs": [
    {
     "name": "stdout",
     "output_type": "stream",
     "text": [
      "등분산임\n",
      "등분산임\n",
      "등분산임\n",
      "등분산임\n",
      "등분산임\n"
     ]
    }
   ],
   "source": [
    "import pandas as pd \n",
    "import numpy as np\n",
    "from scipy import stats \n",
    "df = pd.read_csv('https://raw.githubusercontent.com/Datamanim/datarepo/main/scipy/scipy2.csv')\n",
    "df.head()\n",
    "classa = df.loc[df['class'] == 'A'].score\n",
    "classb = df.loc[df['class'] == 'B'].score\n",
    "\n",
    "statistic,pvalue = stats.bartlett(classa,classb)\n",
    "if pvalue > 0.05:\n",
    "    print('등분산임')\n",
    "else:\n",
    "    print('등분산이 아님')\n",
    "statistic,pvalue = stats.fligner(classa,classb,center='median')\n",
    "if pvalue > 0.05:\n",
    "    print('등분산임')\n",
    "else:\n",
    "    print('등분산이 아님')\n",
    "statistic,pvalue = stats.fligner(classa,classb,center='mean')\n",
    "if pvalue > 0.05:\n",
    "    print('등분산임')\n",
    "else:\n",
    "    print('등분산이 아님')\n",
    "\n",
    "statistic,pvalue = stats.levene(classa,classb,center='median')\n",
    "if pvalue > 0.05:\n",
    "    print('등분산임')\n",
    "else:\n",
    "    print('등분산이 아님')\n",
    "statistic,pvalue = stats.levene(classa,classb,center='mean')\n",
    "if pvalue > 0.05:\n",
    "    print('등분산임')\n",
    "else:\n",
    "    print('등분산이 아님')\n"
   ]
  },
  {
   "cell_type": "code",
   "execution_count": 36,
   "id": "8ea67f7c-fa21-4e15-aa2d-9bf044428797",
   "metadata": {},
   "outputs": [
    {
     "name": "stdout",
     "output_type": "stream",
     "text": [
      "등분산임\n",
      "등분산이 아님\n",
      "등분산이 아님\n",
      "등분산이 아님\n",
      "등분산이 아님\n"
     ]
    }
   ],
   "source": [
    "import pandas as pd \n",
    "from scipy import stats \n",
    "import numpy as np\n",
    "df = pd.read_csv('https://raw.githubusercontent.com/Datamanim/datarepo/main/scipy/scipy3.csv')\n",
    "df.head()\n",
    "classa = df.loc[df['class']=='A'].score\n",
    "classb = df.loc[df['class']=='B'].score\n",
    "# print(dir(stats))\n",
    "statistic, pvalue = stats.bartlett(classa,classb)\n",
    "if pvalue > 0.05:\n",
    "    print('등분산임')\n",
    "else:\n",
    "    print('등분산이 아님')\n",
    "\n",
    "statistic, pvalue = stats.levene(classa,classb,center='mean')\n",
    "if pvalue > 0.05:\n",
    "    print('등분산임')\n",
    "else:\n",
    "    print('등분산이 아님')\n",
    "\n",
    "statistic, pvalue = stats.fligner(classa,classb,center='mean')\n",
    "if pvalue > 0.05:\n",
    "    print('등분산임')\n",
    "else:\n",
    "    print('등분산이 아님')\n",
    "\n",
    "statistic, pvalue = stats.levene(classa,classb,center='median')\n",
    "if pvalue > 0.05:\n",
    "    print('등분산임')\n",
    "else:\n",
    "    print('등분산이 아님')\n",
    "\n",
    "statistic, pvalue = stats.fligner(classa,classb,center='median')\n",
    "if pvalue > 0.05:\n",
    "    print('등분산임')\n",
    "else:\n",
    "    print('등분산이 아님')"
   ]
  },
  {
   "cell_type": "code",
   "execution_count": 41,
   "id": "5f3a4424-0aba-4003-8991-4f1c3c446c05",
   "metadata": {},
   "outputs": [
    {
     "name": "stdout",
     "output_type": "stream",
     "text": [
      "등분산이 아님\n",
      "등분산이 아님\n",
      "등분산이 아님\n",
      "등분산이 아님\n",
      "등분산임\n"
     ]
    }
   ],
   "source": [
    "import pandas as pd \n",
    "df = pd.read_csv('https://raw.githubusercontent.com/Datamanim/datarepo/main/scipy/scipy6.csv')\n",
    "df.head()\n",
    "classa = df.A\n",
    "classb = df.B\n",
    "\n",
    "statistic,pvalue = stats.fligner(classa,classb,center='median')\n",
    "if pvalue > 0.05:\n",
    "    print('등분산임')\n",
    "else:\n",
    "    print('등분산이 아님')\n",
    "\n",
    "statistic,pvalue = stats.fligner(classa,classb,center='mean')\n",
    "if pvalue > 0.05:\n",
    "    print('등분산임')\n",
    "else:\n",
    "    print('등분산이 아님')\n",
    "\n",
    "statistic,pvalue = stats.levene(classa,classb,center='median')\n",
    "if pvalue > 0.05:\n",
    "    print('등분산임')\n",
    "else:\n",
    "    print('등분산이 아님')\n",
    "\n",
    "statistic,pvalue = stats.levene(classa,classb,center='mean')\n",
    "if pvalue > 0.05:\n",
    "    print('등분산임')\n",
    "else:\n",
    "    print('등분산이 아님')\n",
    "\n",
    "statistic,pvalue = stats.bartlett(classa,classb)\n",
    "if pvalue > 0.05:\n",
    "    print('등분산임')\n",
    "else:\n",
    "    print('등분산이 아님')\n"
   ]
  },
  {
   "cell_type": "code",
   "execution_count": 46,
   "id": "3f4bb667-d0af-4bd3-9c77-ff7c075a4ec7",
   "metadata": {},
   "outputs": [
    {
     "name": "stdout",
     "output_type": "stream",
     "text": [
      "등분산임\n",
      "등분산이 아님\n",
      "등분산이 아님\n",
      "등분산이 아님\n",
      "등분산이 아님\n"
     ]
    }
   ],
   "source": [
    "import pandas as pd \n",
    "df = pd.read_csv('https://raw.githubusercontent.com/Datamanim/datarepo/main/scipy/scipy5.csv')\n",
    "df.head()\n",
    "classa = df.A.dropna()\n",
    "classb = df.B.dropna()\n",
    "\n",
    "statistic,pvalue = stats.bartlett(classa,classb)\n",
    "if pvalue > 0.05:\n",
    "    print('등분산임')\n",
    "else:\n",
    "    print('등분산이 아님')\n",
    "\n",
    "statistic,pvalue = stats.fligner(classa,classb,center = 'mean')\n",
    "if pvalue > 0.05:\n",
    "    print('등분산임')\n",
    "else:\n",
    "    print('등분산이 아님')\n",
    "\n",
    "statistic,pvalue = stats.fligner(classa,classb,center = 'median')\n",
    "if pvalue > 0.05:\n",
    "    print('등분산임')\n",
    "else:\n",
    "    print('등분산이 아님')\n",
    "\n",
    "statistic,pvalue = stats.levene(classa,classb,center = 'mean')\n",
    "if pvalue > 0.05:\n",
    "    print('등분산임')\n",
    "else:\n",
    "    print('등분산이 아님')\n",
    "\n",
    "statistic,pvalue = stats.levene(classa,classb,center = 'median')\n",
    "if pvalue > 0.05:\n",
    "    print('등분산임')\n",
    "else:\n",
    "    print('등분산이 아님')\n",
    "\n"
   ]
  },
  {
   "cell_type": "markdown",
   "id": "b4a54285-5c28-4de1-885e-153d462f203a",
   "metadata": {},
   "source": [
    "# 독립표본의 차이 검정"
   ]
  },
  {
   "cell_type": "code",
   "execution_count": 52,
   "id": "6693a852-828e-4dd4-9fe0-e4bda6280f00",
   "metadata": {},
   "outputs": [
    {
     "data": {
      "image/png": "[encoded data removed]",
      "text/plain": [
       "<Figure size 640x480 with 1 Axes>"
      ]
     },
     "metadata": {},
     "output_type": "display_data"
    },
    {
     "name": "stdout",
     "output_type": "stream",
     "text": [
      "정규분포\n",
      "정규분포\n",
      "등분산\n",
      "차이가 있음\n"
     ]
    }
   ],
   "source": [
    "import pandas as pd \n",
    "import matplotlib.pyplot as plt\n",
    "from scipy import stats \n",
    "import numpy as np \n",
    "df1 = pd.read_csv('https://raw.githubusercontent.com/Datamanim/datarepo/main/scipy/ind1.csv')\n",
    "df2 = pd.read_csv('https://raw.githubusercontent.com/Datamanim/datarepo/main/scipy/ind2.csv')\n",
    "\n",
    "\n",
    "plt.hist(df1,label='df1',alpha=0.4)\n",
    "plt.hist(df2,label=\"df2\",alpha=0.4)\n",
    "plt.xlabel('Score bins')\n",
    "plt.ylabel('Counts')\n",
    "plt.legend()\n",
    "plt.show()\n",
    "\n",
    "# 정규성 검정\n",
    "statistic,pvalue = stats.shapiro(df1)\n",
    "if pvalue > 0.05:\n",
    "    print('정규분포')\n",
    "else:\n",
    "    print('비정규분포')\n",
    "\n",
    "statistic,pvalue = stats.shapiro(df2)\n",
    "if pvalue > 0.05:\n",
    "    print('정규분포')\n",
    "else:\n",
    "    print('비정규분포')\n",
    "\n",
    "# 등분산 검정 \n",
    "statistic,pvalue = stats.levene(df1,df2,center= 'median')\n",
    "if pvalue > 0.05:\n",
    "    print('등분산')\n",
    "else:\n",
    "    print('등분산 아님')\n",
    "\n",
    "statstic,pvalue = stats.ttest_ind(df1,df2,equal_var = True)\n",
    "if pvalue > 0.05:\n",
    "    print('차이가 없음')\n",
    "else:\n",
    "    print('차이가 있음')"
   ]
  },
  {
   "cell_type": "code",
   "execution_count": 56,
   "id": "15fb9b80-d054-4c19-9325-90ed78802ae9",
   "metadata": {},
   "outputs": [
    {
     "data": {
      "image/png": "[encoded data removed]",
      "text/plain": [
       "<Figure size 640x480 with 1 Axes>"
      ]
     },
     "metadata": {},
     "output_type": "display_data"
    },
    {
     "name": "stdout",
     "output_type": "stream",
     "text": [
      "비정규분포\n",
      "비정규분포\n",
      "두 집단의 차이가 없음\n"
     ]
    }
   ],
   "source": [
    "import pandas as pd \n",
    "import matplotlib.pyplot as plt\n",
    "import numpy as np\n",
    "from scipy import stats \n",
    "df = pd.read_csv('https://raw.githubusercontent.com/Datamanim/datarepo/main/scipy/scipy5.csv')\n",
    "\n",
    "plt.hist(df['A'],alpha=0.5,label='A')\n",
    "plt.hist(df['B'].dropna(),alpha=0.5,label=\"B\")\n",
    "plt.xlabel('Score bins')\n",
    "plt.ylabel('Counts')\n",
    "plt.legend()\n",
    "plt.show()\n",
    "\n",
    "dfa =  df['A'].dropna()\n",
    "dfb =  df['B'].dropna()\n",
    "\n",
    "# 정규성 검정\n",
    "statistic,pvalue = stats.shapiro(dfa)\n",
    "if pvalue > 0.05:\n",
    "    print('정규분포')\n",
    "else:\n",
    "    print('비정규분포')\n",
    "statistic,pvalue = stats.shapiro(dfb)\n",
    "if pvalue > 0.05:\n",
    "    print('정규분포')\n",
    "else:\n",
    "    print('비정규분포')\n",
    "\n",
    "statistic,pvalue = stats.mannwhitneyu(dfa,dfb)\n",
    "if pvalue > 0.05:\n",
    "    print('두 집단의 차이가 없음')\n",
    "else:\n",
    "    print('두 집단의 차이가 있음')"
   ]
  },
  {
   "cell_type": "code",
   "execution_count": 63,
   "id": "f32be691-35a1-4603-941a-7c42422f8e0e",
   "metadata": {},
   "outputs": [
    {
     "data": {
      "image/png": "[encoded data removed]",
      "text/plain": [
       "<Figure size 640x480 with 1 Axes>"
      ]
     },
     "metadata": {},
     "output_type": "display_data"
    },
    {
     "name": "stdout",
     "output_type": "stream",
     "text": [
      "정규분포\n",
      "정규분포\n",
      "이분산\n",
      "평균의 차이가 있음\n"
     ]
    }
   ],
   "source": [
    "import pandas as pd \n",
    "import matplotlib.pyplot as plt\n",
    "import numpy as np\n",
    "from scipy import stats \n",
    "df = pd.read_csv('https://raw.githubusercontent.com/Datamanim/datarepo/main/scipy/ind3.csv')\n",
    "\n",
    "plt.hist(df[df['group'] =='a'].data,label='A',alpha=0.5)\n",
    "plt.hist(df[df['group'] =='b'].data,label=\"B\",alpha=0.5)\n",
    "plt.xlabel('Score bins')\n",
    "plt.ylabel('Counts')\n",
    "plt.legend()\n",
    "plt.show()\n",
    "\n",
    "\n",
    "dfa = df.loc[df['group']=='a'].data\n",
    "dfb = df.loc[df['group']=='b'].data\n",
    "\n",
    "statistic,pvalue = stats.shapiro(dfa)\n",
    "if pvalue > 0.05:\n",
    "    print('정규분포')\n",
    "else:\n",
    "    print('비정규분포')\n",
    "statistic,pvalue = stats.shapiro(dfb)\n",
    "if pvalue > 0.05:\n",
    "    print('정규분포')\n",
    "else:\n",
    "    print('비정규분포')\n",
    "\n",
    "# 등분산 검정\n",
    "statistic,pvalue = stats.levene(dfa,dfb,center='mean')\n",
    "if pvalue > 0.05:\n",
    "    print('등분산')\n",
    "else:\n",
    "    print('이분산')\n",
    "\n",
    "statistic,pvalue = stats.ttest_ind(dfa,dfb,equal_var=False)\n",
    "if pvalue > 0.05:\n",
    "    print('평균의 차이가 없음')\n",
    "else:\n",
    "    print('평균의 차이가 있음')"
   ]
  },
  {
   "cell_type": "code",
   "execution_count": 67,
   "id": "f92a8f2c-b8d6-4725-9500-ecae07dc48bc",
   "metadata": {},
   "outputs": [
    {
     "data": {
      "image/png": "[encoded data removed]",
      "text/plain": [
       "<Figure size 640x480 with 1 Axes>"
      ]
     },
     "metadata": {},
     "output_type": "display_data"
    },
    {
     "name": "stdout",
     "output_type": "stream",
     "text": [
      "정규분포\n",
      "정규분포\n",
      "이분산\n",
      "평균의 차이가 없음\n"
     ]
    }
   ],
   "source": [
    "import pandas as pd \n",
    "import matplotlib.pyplot as plt\n",
    "import numpy as np\n",
    "from scipy import stats \n",
    "df = pd.read_csv('https://raw.githubusercontent.com/Datamanim/datarepo/main/scipy/ind6.csv')\n",
    "\n",
    "plt.hist(df['a'],alpha=0.5,label='A')\n",
    "plt.hist(df['b'],alpha=0.5,label=\"B\")\n",
    "plt.xlabel('Score bins')\n",
    "plt.ylabel('Counts')\n",
    "plt.legend()\n",
    "plt.show()\n",
    "\n",
    "dfa = df.a.dropna()\n",
    "dfb = df.b.dropna()\n",
    "\n",
    "# 정규성 검정\n",
    "statistic,pvalue = stats.shapiro(dfa)\n",
    "if pvalue > 0.05:\n",
    "    print('정규분포')\n",
    "else:\n",
    "    print('비정규분포')\n",
    "\n",
    "statistic,pvalue = stats.shapiro(dfb)\n",
    "if pvalue > 0.05:\n",
    "    print('정규분포')\n",
    "else:\n",
    "    print('비정규분포')\n",
    "\n",
    "# 등분산 검정\n",
    "\n",
    "statistic,pvalue = stats.levene(dfa,dfb,center='mean')\n",
    "if pvalue > 0.05:\n",
    "    print('등분산')\n",
    "else:\n",
    "    print('이분산')\n",
    "\n",
    "statistic,pvalue = stats.ttest_ind(dfa,dfb,equal_var=False)\n",
    "if pvalue > 0.05:\n",
    "    print('평균의 차이가 없음')\n",
    "else:\n",
    "    print('평균의 차이가 있음')"
   ]
  },
  {
   "cell_type": "markdown",
   "id": "2c896842-0c16-4cfa-97ea-bbff3e98d5eb",
   "metadata": {},
   "source": [
    "# 대응표본 t 검정"
   ]
  },
  {
   "cell_type": "code",
   "execution_count": 74,
   "id": "ea123e58-4eb2-4a1c-89a7-0d78612c6592",
   "metadata": {},
   "outputs": [
    {
     "data": {
      "image/png": "[encoded data removed]",
      "text/plain": [
       "<Figure size 640x480 with 2 Axes>"
      ]
     },
     "metadata": {},
     "output_type": "display_data"
    },
    {
     "name": "stdout",
     "output_type": "stream",
     "text": [
      "         before       after\n",
      "0    216.289726  175.897620\n",
      "1    190.279454  189.295934\n",
      "2    217.744689  219.233935\n",
      "3    235.021264  195.021021\n",
      "4    234.098484  213.218227\n",
      "..          ...         ...\n",
      "115  186.546583  239.845621\n",
      "116  199.853014  300.032396\n",
      "117  182.322187  201.310529\n",
      "118  256.739402  195.169040\n",
      "119  248.858766  292.766655\n",
      "\n",
      "[120 rows x 2 columns]\n",
      "정규분포\n",
      "정규분포\n",
      "등분산\n",
      "차이가 있음\n"
     ]
    }
   ],
   "source": [
    "import pandas as pd \n",
    "import matplotlib.pyplot as plt\n",
    "import numpy as np\n",
    "from scipy import stats\n",
    "df = pd.read_csv('https://raw.githubusercontent.com/Datamanim/datarepo/main/scipy/rel2.csv')\n",
    "\n",
    "fig ,ax = plt.subplots(1,2)\n",
    "ax[0].boxplot(df['before'])\n",
    "ax[1].boxplot(df['after'])\n",
    "ax[0].set_xticklabels(['before'])\n",
    "ax[1].set_xticklabels(['after'])\n",
    "ax[0].set_ylim(100,350)\n",
    "ax[1].set_ylim(100,350)\n",
    "ax[1].get_yaxis().set_visible(False)\n",
    "ax[0].set_ylabel('value')\n",
    "plt.show()\n",
    "print(df)\n",
    "before = df['before'].dropna()\n",
    "after = df['after'].dropna()\n",
    "\n",
    "# 정규성 검정\n",
    "statistic,pvalue = stats.shapiro(before)\n",
    "if pvalue > 0.05:\n",
    "    print('정규분포')\n",
    "else:\n",
    "    print('비정규분포')\n",
    "\n",
    "statistic,pvalue = stats.shapiro(after)\n",
    "if pvalue > 0.05:\n",
    "    print('정규분포')\n",
    "else:\n",
    "    print('비정규분포')\n",
    "\n",
    "# 등분산 검정\n",
    "statistic,pvalue = stats.levene(before,after,center='mean')\n",
    "if pvalue > 0.05:\n",
    "    print('등분산')\n",
    "else:\n",
    "    print('이분산')\n",
    "\n",
    "statistic,pvalue = stats.ttest_rel(before,after)\n",
    "if pvalue > 0.05:\n",
    "    print('차이가 없음')\n",
    "else:\n",
    "    print('차이가 있음')"
   ]
  },
  {
   "cell_type": "code",
   "execution_count": 77,
   "id": "eb1590c2-e20a-42ac-9d1a-6088d739773b",
   "metadata": {},
   "outputs": [
    {
     "data": {
      "image/png": "[encoded data removed]",
      "text/plain": [
       "<Figure size 640x480 with 2 Axes>"
      ]
     },
     "metadata": {},
     "output_type": "display_data"
    },
    {
     "name": "stdout",
     "output_type": "stream",
     "text": [
      "정규분포\n",
      "정규분포\n",
      "차이가 없음\n"
     ]
    }
   ],
   "source": [
    "import pandas as pd \n",
    "import matplotlib.pyplot as plt\n",
    "import numpy as np \n",
    "from scipy import stats \n",
    "df = pd.read_csv('https://raw.githubusercontent.com/Datamanim/datarepo/main/scipy/rel3.csv')\n",
    "\n",
    "fig ,ax = plt.subplots(1,2)\n",
    "ax[0].boxplot(df['before'])\n",
    "ax[1].boxplot(df['after'])\n",
    "ax[0].set_xticklabels(['before'])\n",
    "ax[1].set_xticklabels(['after'])\n",
    "ax[0].set_ylim(130,300)\n",
    "ax[1].set_ylim(130,300)\n",
    "ax[1].get_yaxis().set_visible(False)\n",
    "ax[0].set_ylabel('value')\n",
    "plt.show()\n",
    "before = df.before.dropna()\n",
    "after = df.after.dropna()\n",
    "\n",
    "statistic,pvalue = stats.shapiro(before)\n",
    "if pvalue > 0.05:\n",
    "    print('정규분포')\n",
    "else:\n",
    "    print('비정규분포')\n",
    "\n",
    "statistic,pvalue = stats.shapiro(after)\n",
    "if pvalue > 0.05:\n",
    "    print('정규분포')\n",
    "else:\n",
    "    print('비정규분포')\n",
    "\n",
    "statistic,pvalue = stats.ttest_rel(before,after)\n",
    "if pvalue > 0.05:\n",
    "    print('차이가 없음')\n",
    "else:\n",
    "    print('차이가 있음')"
   ]
  },
  {
   "cell_type": "code",
   "execution_count": 85,
   "id": "ea270681-335a-496c-bfa3-145ad7deb5f3",
   "metadata": {},
   "outputs": [
    {
     "data": {
      "image/png": "[encoded data removed]",
      "text/plain": [
       "<Figure size 640x480 with 2 Axes>"
      ]
     },
     "metadata": {},
     "output_type": "display_data"
    },
    {
     "name": "stdout",
     "output_type": "stream",
     "text": [
      "비정규분포\n",
      "비정규분포\n",
      "차이가 없음\n"
     ]
    }
   ],
   "source": [
    "import pandas as pd \n",
    "import matplotlib.pyplot as plt\n",
    "import numpy as np\n",
    "from scipy import stats \n",
    "df = pd.read_csv('https://raw.githubusercontent.com/Datamanim/datarepo/main/scipy/rel1.csv')\n",
    "\n",
    "fig ,ax = plt.subplots(1,2)\n",
    "ax[0].boxplot(df['before'])\n",
    "ax[1].boxplot(df['after'])\n",
    "ax[0].set_xticklabels(['before'])\n",
    "ax[1].set_xticklabels(['after'])\n",
    "ax[0].set_ylim(145,170)\n",
    "ax[1].set_ylim(145,170)\n",
    "ax[1].get_yaxis().set_visible(False)\n",
    "ax[0].set_ylabel('value')\n",
    "plt.show()\n",
    "\n",
    "before = df.before.dropna()\n",
    "afater = df.after.dropna()\n",
    "\n",
    "statistics,pvalue = stats.shapiro(before)\n",
    "if pvalue > 0.05:\n",
    "    print('정규분포')\n",
    "else:\n",
    "    print('비정규분포')\n",
    "\n",
    "statistics,pvalue = stats.shapiro(after)\n",
    "if pvalue > 0.05:\n",
    "    print('정규분포')\n",
    "else:\n",
    "    print('비정규분포')\n",
    "\n",
    "\n",
    "statistics,pvalue = stats.wilcoxon(before,after)\n",
    "if pvalue > 0.05 : \n",
    "    print('차이가 없음')\n",
    "else:\n",
    "    print('차이가 있음')"
   ]
  },
  {
   "cell_type": "code",
   "execution_count": 93,
   "id": "6589ed6e-787a-49bf-bc1f-ac00154941a5",
   "metadata": {},
   "outputs": [
    {
     "data": {
      "image/png": "[encoded data removed]",
      "text/plain": [
       "<Figure size 640x480 with 2 Axes>"
      ]
     },
     "metadata": {},
     "output_type": "display_data"
    },
    {
     "name": "stdout",
     "output_type": "stream",
     "text": [
      "정규분포\n",
      "정규분포\n",
      "b가 더 큼\n"
     ]
    }
   ],
   "source": [
    "import pandas as pd \n",
    "import matplotlib.pyplot as plt\n",
    "import numpy as np\n",
    "from scipy import stats\n",
    "df = pd.read_csv('https://raw.githubusercontent.com/Datamanim/datarepo/main/scipy/rel4.csv')\n",
    "\n",
    "fig ,ax = plt.subplots(1,2)\n",
    "ax[0].boxplot(df[df['group']=='a'].rpm)\n",
    "ax[1].boxplot(df[df['group']=='b'].rpm)\n",
    "ax[0].set_xticklabels(['a'])\n",
    "ax[1].set_xticklabels(['b'])\n",
    "ax[0].set_ylim(430,600)\n",
    "ax[1].set_ylim(430,600)\n",
    "ax[1].get_yaxis().set_visible(False)\n",
    "ax[0].set_ylabel('rpm')\n",
    "plt.show()\n",
    "\n",
    "dfa = df.loc[df['group'] == 'a'].rpm\n",
    "dfb = df.loc[df['group'] == 'b'].rpm\n",
    "\n",
    "statistic,pvalue = stats.shapiro(dfa)\n",
    "if pvalue > 0.05:\n",
    "    print('정규분포')\n",
    "else:\n",
    "    print('비정규분포')\n",
    "\n",
    "statistic,pvalue = stats.shapiro(dfb)\n",
    "if pvalue > 0.05:\n",
    "    print('정규분포')\n",
    "else:\n",
    "    print('비정규분포')\n",
    "\n",
    "# print(help(stats.ttest_rel))\n",
    "statistic,pvalue = stats.ttest_rel(dfa,dfb,alternative = 'greater')\n",
    "if pvalue > 0.05:\n",
    "    print('b가 더 큼')\n",
    "else:\n",
    "    print('\ba가 더 큼')"
   ]
  },
  {
   "cell_type": "markdown",
   "id": "f123caf0-97ba-46f3-8628-44258d3494d4",
   "metadata": {},
   "source": [
    "# 카이제곱 검정"
   ]
  },
  {
   "cell_type": "code",
   "execution_count": 98,
   "id": "0dbd837e-4b2b-4f71-8a8c-7c530ed37625",
   "metadata": {},
   "outputs": [
    {
     "data": {
      "image/png": "[encoded data removed]",
      "text/plain": [
       "<Figure size 640x480 with 1 Axes>"
      ]
     },
     "metadata": {},
     "output_type": "display_data"
    },
    {
     "name": "stdout",
     "output_type": "stream",
     "text": [
      "주사위 분포와 동일함\n"
     ]
    }
   ],
   "source": [
    "import pandas as pd \n",
    "import matplotlib.pyplot as plt\n",
    "from scipy import stats \n",
    "df = pd.read_csv('https://raw.githubusercontent.com/Datamanim/datarepo/main/scipy/dice.csv')\n",
    "\n",
    "plt.bar(df.dice_number,df.counts)\n",
    "plt.xlabel('dice value')\n",
    "plt.ylabel('counts')\n",
    "plt.show()\n",
    "df['expected'] = (df['counts'].sum()/6).astype(int)\n",
    "statistic, pvalue = stats.chisquare(df['counts'],df['expected'])\n",
    "if pvalue > 0.05:\n",
    "    print('주사위 분포와 동일함')\n",
    "else:\n",
    "    print('동일하지 않음')"
   ]
  },
  {
   "cell_type": "code",
   "execution_count": 114,
   "id": "24cf80de-e3d4-4d1d-88ba-186b291992eb",
   "metadata": {},
   "outputs": [
    {
     "name": "stdout",
     "output_type": "stream",
     "text": [
      "       count  expected\n",
      "hands                 \n",
      "right    420     400.0\n",
      "left      80     100.0\n",
      "적합하지 않음\n"
     ]
    }
   ],
   "source": [
    "import pandas as pd \n",
    "import matplotlib.pyplot as plt\n",
    "df = pd.read_csv('https://raw.githubusercontent.com/Datamanim/datarepo/main/scipy/hands2.csv')\n",
    "df.head()\n",
    "df = df.value_counts().to_frame()\n",
    "df.loc['right','expected'] = int(df['count'].sum()*0.8)\n",
    "df.loc['left','expected'] = int(df['count'].sum()*0.2)\n",
    "print(df)\n",
    "statistic, pvalue = stats.chisquare(df['count'],df['expected'])\n",
    "if pvalue > 0.05:\n",
    "    print('적합함')\n",
    "else:\n",
    "    print('적합하지 않음')"
   ]
  },
  {
   "cell_type": "code",
   "execution_count": 134,
   "id": "d284fd47-7254-4af6-84af-a0e2a1d0431e",
   "metadata": {},
   "outputs": [
    {
     "name": "stdout",
     "output_type": "stream",
     "text": [
      "등급         A     B     C     D\n",
      "측정회원성별                        \n",
      "F       1484  1130  1147  1120\n",
      "M       1865  2219  2202  2229\n",
      "독립적이지 않음\n"
     ]
    }
   ],
   "source": [
    "import pandas as pd \n",
    "import matplotlib.pyplot as plt\n",
    "df = pd.read_csv('https://raw.githubusercontent.com/Datamanim/datarepo/main/body/body.csv')\n",
    "df.head()\n",
    "\n",
    "df = pd.crosstab(df.측정회원성별, df.등급)\n",
    "print(df)\n",
    "statistic,pvalue,dof,expect = stats.chi2_contingency(df)\n",
    "if pvalue > 0.05:\n",
    "    print('독립적임')\n",
    "else:\n",
    "    print('독립적이지 않음')"
   ]
  },
  {
   "cell_type": "code",
   "execution_count": 140,
   "id": "69cb02a3-bd91-4495-a6a6-b3643b23fce4",
   "metadata": {},
   "outputs": [
    {
     "name": "stdout",
     "output_type": "stream",
     "text": [
      "독립적임\n",
      "독립적이지 않음\n"
     ]
    }
   ],
   "source": [
    "import pandas as pd \n",
    "import matplotlib.pyplot as plt\n",
    "df = pd.read_csv('https://raw.githubusercontent.com/Datamanim/datarepo/main/scipy/fe2.csv',index_col=0)\n",
    "# df = df.unstack().reset_index()\n",
    "# cdf = pd.crosstab(df.groupby('level_0')[0].sum()[:2],df.groupby('level_1')[0].sum()[:2])\n",
    "statistic,pvalue,dof,expect = stats.chi2_contingency(df.iloc[:2,:2])\n",
    "if pvalue > 0.05:\n",
    "    print('독립적임')\n",
    "else:\n",
    "    print('독립적이지 않음')\n",
    "\n",
    "pvalue = stats.fisher_exact(df.iloc[:2,:2])[1]\n",
    "if pvalue > 0.05:\n",
    "    print('독립적임')\n",
    "else:\n",
    "    print('독립적이지 않음')"
   ]
  },
  {
   "cell_type": "code",
   "execution_count": null,
   "id": "dd5514b3-bc94-4901-bdf2-c74b074b7bd6",
   "metadata": {},
   "outputs": [],
   "source": []
  }
 ],
 "metadata": {
  "kernelspec": {
   "display_name": "Python 3 (ipykernel)",
   "language": "python",
   "name": "python3"
  },
  "language_info": {
   "codemirror_mode": {
    "name": "ipython",
    "version": 3
   },
   "file_extension": ".py",
   "mimetype": "text/x-python",
   "name": "python",
   "nbconvert_exporter": "python",
   "pygments_lexer": "ipython3",
   "version": "3.11.9"
  }
 },
 "nbformat": 4,
 "nbformat_minor": 5
}
