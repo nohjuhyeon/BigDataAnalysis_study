{
 "cells": [
  {
   "cell_type": "markdown",
   "id": "512e5739-3317-4849-bd73-c9fb044e39c8",
   "metadata": {},
   "source": [
    "# 작업 1유형"
   ]
  },
  {
   "cell_type": "markdown",
   "id": "afff2987-f69c-430a-b0e7-21d6b36a3802",
   "metadata": {},
   "source": [
    "## 데이터 로드"
   ]
  },
  {
   "cell_type": "code",
   "execution_count": 1,
   "id": "c7d2ba72-a700-4199-aeee-a0fb93145541",
   "metadata": {},
   "outputs": [],
   "source": [
    "import pandas as pd\n",
    "df = pd.read_csv('https://raw.githubusercontent.com/Datamanim/datarepo/main/bank/train.csv')"
   ]
  },
  {
   "cell_type": "markdown",
   "id": "8b10dcc9-a450-4652-9137-ef0171475082",
   "metadata": {},
   "source": [
    "## 마케팅 응답 고객들의 나이를 10살 단위로 변환 햿을 때, 가장 많은 인원을 가진 나이대"
   ]
  },
  {
   "cell_type": "code",
   "execution_count": 8,
   "id": "d54e9ee2-35f1-4ea4-a9b7-0ae4a4e66103",
   "metadata": {},
   "outputs": [
    {
     "name": "stdout",
     "output_type": "stream",
     "text": [
      "30\n"
     ]
    }
   ],
   "source": [
    "df['age_range'] = df['age'].map(lambda x : x//10 * 10)\n",
    "print((df['age_range'].value_counts().index[0]))"
   ]
  },
  {
   "cell_type": "markdown",
   "id": "727e9876-3061-4162-a36f-d4b880568fac",
   "metadata": {},
   "source": [
    "## 마케팅 응답 고객들의 나이를 10살 단위로 변환 헀을 때, 가장 많은 나이대 구간의 인원"
   ]
  },
  {
   "cell_type": "code",
   "execution_count": 10,
   "id": "02090b3a-92d5-486a-a1a6-b7a3f48c89c8",
   "metadata": {},
   "outputs": [
    {
     "name": "stdout",
     "output_type": "stream",
     "text": [
      "5056\n"
     ]
    }
   ],
   "source": [
    "print((df['age_range'].value_counts().values[0]))"
   ]
  },
  {
   "cell_type": "markdown",
   "id": "f507a056-7c5f-407e-ad3f-e4c3b0291c21",
   "metadata": {},
   "source": [
    "## 나이가 25살 이상 29살 미만인 응답 고객들 중 housing 컬럼의 값이 yes인 고객의 수"
   ]
  },
  {
   "cell_type": "code",
   "execution_count": 14,
   "id": "d9c2824b-629b-47f9-8aa5-d2438d226556",
   "metadata": {},
   "outputs": [
    {
     "name": "stdout",
     "output_type": "stream",
     "text": [
      "504\n"
     ]
    }
   ],
   "source": [
    "print(len(df.loc[(df.age >= 25)&(df.age< 29)&(df.housing=='yes')]))"
   ]
  },
  {
   "cell_type": "markdown",
   "id": "0dd29469-e772-4d4b-b507-c4c3b12a7029",
   "metadata": {},
   "source": [
    "## numeric한 값을 가지지 않은 컬럼들 중 unique한 값을 가장 많이 가지는 컬럼"
   ]
  },
  {
   "cell_type": "code",
   "execution_count": 26,
   "id": "f3cfefd2-e310-428b-962e-0bc6796c3e19",
   "metadata": {},
   "outputs": [
    {
     "name": "stdout",
     "output_type": "stream",
     "text": [
      "job month\n"
     ]
    }
   ],
   "source": [
    "print(df.describe(include='object').loc['unique',:].sort_values(ascending=False).index[0],df.describe(include='object').loc['unique',:].sort_values(ascending=False).index[1])"
   ]
  },
  {
   "cell_type": "markdown",
   "id": "dd0a0591-4ac8-4a6c-8530-9ad061cb4aa0",
   "metadata": {},
   "source": [
    "## balance 컬럼값들의 평균값 이상을 가지는 데이터를 ID 값을 기준으로 내림차순 정렬했을 때 상위 100개 데이터의 balance 평균"
   ]
  },
  {
   "cell_type": "code",
   "execution_count": 31,
   "id": "e6915def-09a3-4ecf-b1ab-db3313cfaab9",
   "metadata": {},
   "outputs": [
    {
     "name": "stdout",
     "output_type": "stream",
     "text": [
      "3473.73\n"
     ]
    }
   ],
   "source": [
    "print(df.loc[df.balance >= df.balance.mean()].sort_values('ID',ascending=False)[:100].balance.mean())"
   ]
  },
  {
   "cell_type": "markdown",
   "id": "7fb3402f-1218-4085-963b-c83a29d26906",
   "metadata": {},
   "source": [
    "## 가장 많은 광고를 집행했던 날짜"
   ]
  },
  {
   "cell_type": "code",
   "execution_count": 45,
   "id": "aaffd4a3-f526-4a73-a89b-fccb2be9b07b",
   "metadata": {},
   "outputs": [
    {
     "name": "stdout",
     "output_type": "stream",
     "text": [
      "month    may\n",
      "day       15\n",
      "Name: 0, dtype: object\n"
     ]
    }
   ],
   "source": [
    "print(df.groupby(['month','day']).size().sort_values(ascending=False).reset_index().loc[0,['month','day']])"
   ]
  },
  {
   "cell_type": "markdown",
   "id": "420f3c81-7d3b-4831-a645-4188cc3bc25f",
   "metadata": {},
   "source": [
    "## 데이터의 job이 unknown 상태인 고객들의 age 컬럼 값의 정규성 검정"
   ]
  },
  {
   "cell_type": "code",
   "execution_count": 49,
   "id": "3b9f36b0-7699-4b1b-9fba-1d6526192007",
   "metadata": {},
   "outputs": [
    {
     "name": "stdout",
     "output_type": "stream",
     "text": [
      "0.1961223594771469\n"
     ]
    }
   ],
   "source": [
    "from scipy import stats \n",
    "statistic, pvalue = stats.shapiro(df.loc[df.job=='unknown'].age)\n",
    "print(pvalue)"
   ]
  },
  {
   "cell_type": "markdown",
   "id": "3b5473ca-cf71-43a2-8fd6-cf91059ae0c6",
   "metadata": {},
   "source": [
    "## age와 balance의 상관계수 "
   ]
  },
  {
   "cell_type": "code",
   "execution_count": 61,
   "id": "9d953684-2a1a-40f1-9fdf-547202446f62",
   "metadata": {},
   "outputs": [
    {
     "name": "stdout",
     "output_type": "stream",
     "text": [
      "0.10198734763981462\n"
     ]
    }
   ],
   "source": [
    "import numpy as np\n",
    "print(df[['age','balance']].corr().iloc[0,1])"
   ]
  },
  {
   "cell_type": "markdown",
   "id": "0ff267f8-f13e-4cb5-8420-6d0e8cdafb15",
   "metadata": {},
   "source": [
    "## y변수와 education 변수는 독립인지 카이제곱검정을 통해 p-value 확인"
   ]
  },
  {
   "cell_type": "code",
   "execution_count": 66,
   "id": "8ab91c65-a488-421a-94f5-8d7dc11dbf8a",
   "metadata": {},
   "outputs": [
    {
     "name": "stdout",
     "output_type": "stream",
     "text": [
      "7.901201277473551e-29\n"
     ]
    }
   ],
   "source": [
    "df_matrix = pd.crosstab(df.y,df.education)\n",
    "statistic,pvalue,dof,expected = stats.chi2_contingency(df_matrix)\n",
    "print(pvalue)"
   ]
  },
  {
   "cell_type": "markdown",
   "id": "86b75f98-ad04-4cc5-9081-43277716de83",
   "metadata": {},
   "source": [
    "## 각 job에 따라 divorced/married 인원의 비율을 확인했을 때 그 값이 가장 높은 값"
   ]
  },
  {
   "cell_type": "code",
   "execution_count": 82,
   "id": "6749730d-3707-44e9-bc27-5bcd2c363380",
   "metadata": {},
   "outputs": [
    {
     "name": "stdout",
     "output_type": "stream",
     "text": [
      "0.2831050228310502\n"
     ]
    }
   ],
   "source": [
    "df.marital.unique()\n",
    "result = df.groupby(['job','marital']).size().unstack()\n",
    "result['ratio'] = result.divorced/result.married\n",
    "print(result.sort_values('ratio',ascending=False).ratio.values[0])"
   ]
  },
  {
   "cell_type": "markdown",
   "id": "25d60a22-451e-4ae0-902c-24e173e3a7b8",
   "metadata": {},
   "source": [
    "# 작업 2유형"
   ]
  },
  {
   "cell_type": "code",
   "execution_count": 112,
   "id": "ca05104f-5314-433c-bbce-a776a8640674",
   "metadata": {},
   "outputs": [
    {
     "name": "stdout",
     "output_type": "stream",
     "text": [
      "                age           job       marital     education       default  \\\n",
      "count  12870.000000  12870.000000  12870.000000  12870.000000  12870.000000   \n",
      "mean      41.091142      4.413287      1.188811      1.255556      0.016162   \n",
      "std       11.305560      3.254204      0.618390      0.753291      0.126102   \n",
      "min       18.000000      0.000000      0.000000      0.000000      0.000000   \n",
      "25%       32.000000      1.000000      1.000000      1.000000      0.000000   \n",
      "50%       39.000000      4.000000      1.000000      1.000000      0.000000   \n",
      "75%       49.000000      7.000000      2.000000      2.000000      0.000000   \n",
      "max       95.000000     11.000000      2.000000      3.000000      1.000000   \n",
      "\n",
      "             balance       housing          loan       contact           day  \\\n",
      "count   12870.000000  12870.000000  12870.000000  12870.000000  12870.000000   \n",
      "mean     1483.774437      0.513209      0.140637      0.571329     15.641103   \n",
      "std      3311.055181      0.499845      0.347660      0.865050      8.368983   \n",
      "min     -6847.000000      0.000000      0.000000      0.000000      1.000000   \n",
      "25%       102.000000      0.000000      0.000000      0.000000      8.000000   \n",
      "50%       515.000000      1.000000      0.000000      0.000000     16.000000   \n",
      "75%      1591.750000      1.000000      0.000000      2.000000     21.000000   \n",
      "max    102127.000000      1.000000      1.000000      2.000000     31.000000   \n",
      "\n",
      "              month      campaign         pdays      previous      poutcome  \n",
      "count  12870.000000  12870.000000  12870.000000  12870.000000  12870.000000  \n",
      "mean       5.491531      2.659130     45.555478      0.688967      2.523310  \n",
      "std        3.101247      2.863507    104.449411      2.049696      0.991083  \n",
      "min        0.000000      1.000000     -1.000000      0.000000      0.000000  \n",
      "25%        3.000000      1.000000     -1.000000      0.000000      3.000000  \n",
      "50%        6.000000      2.000000     -1.000000      0.000000      3.000000  \n",
      "75%        8.000000      3.000000     -1.000000      0.000000      3.000000  \n",
      "max       11.000000     43.000000    854.000000     58.000000      3.000000  \n",
      "\n",
      "count    12870.000000\n",
      "mean         0.308236\n",
      "std          0.461783\n",
      "min          0.000000\n",
      "25%          0.000000\n",
      "50%          0.000000\n",
      "75%          1.000000\n",
      "max          1.000000\n",
      "Name: y, dtype: float64\n",
      "0.7796610169491526\n",
      "0.5617977528089888\n",
      "0.6912442396313364\n",
      "0.47318611987381703\n",
      "0.7701927148392015\n",
      "      age  job  marital  education  default  balance  housing  loan  contact  \\\n",
      "0      32    4        2          2        0    12569        0     0        0   \n",
      "1      25    7        2          1        0      801        0     0        0   \n",
      "2      46    1        1          1        0     1728        1     0        2   \n",
      "3      39    4        0          1        0       51        0     0        2   \n",
      "4      31    7        2          2        0     1626        0     0        2   \n",
      "...   ...  ...      ...        ...      ...      ...      ...   ...      ...   \n",
      "4286   47    0        1          1        0      520        0     0        1   \n",
      "4287   33    9        1          1        0      133        0     0        0   \n",
      "4288   40    0        1          1        0     2574        1     0        0   \n",
      "4289   39    1        1          1        0     2467        0     0        0   \n",
      "4290   46    6        1          0        0       49        0     0        0   \n",
      "\n",
      "      day  month  campaign  pdays  previous  poutcome  \n",
      "0       1      5         2    295         2         2  \n",
      "1       5      6         2     -1         0         3  \n",
      "2      26      8         2     -1         0         3  \n",
      "3      17      6         2     -1         0         3  \n",
      "4      31      5         1     -1         0         3  \n",
      "...   ...    ...       ...    ...       ...       ...  \n",
      "4286    9      3         6     -1         0         3  \n",
      "4287   12      9         2    192         1         2  \n",
      "4288   20      9         1     -1         0         3  \n",
      "4289   19      5         2    276         3         1  \n",
      "4290   27      1         6     -1         0         3  \n",
      "\n",
      "[4291 rows x 15 columns]\n",
      "         ID  predict\n",
      "0     53608     0.75\n",
      "1     51055     0.60\n",
      "2     52573     0.08\n",
      "3     50458     0.17\n",
      "4     52272     0.18\n",
      "...     ...      ...\n",
      "4286  50332     0.13\n",
      "4287  51293     0.80\n",
      "4288  54023     0.25\n",
      "4289  53775     0.61\n",
      "4290  51945     0.02\n",
      "\n",
      "[4291 rows x 2 columns]\n"
     ]
    }
   ],
   "source": [
    "import numpy as np\n",
    "import pandas as pd\n",
    "from sklearn.preprocessing import LabelEncoder, MinMaxScaler \n",
    "from sklearn.model_selection import train_test_split \n",
    "from sklearn.metrics import f1_score, accuracy_score, precision_score, recall_score, roc_auc_score \n",
    "from sklearn.ensemble import RandomForestClassifier \n",
    "train= pd.read_csv('https://raw.githubusercontent.com/Datamanim/datarepo/main/bank/train.csv')\n",
    "test= pd.read_csv('https://raw.githubusercontent.com/Datamanim/datarepo/main/bank/test.csv')\n",
    "submission= pd.read_csv('https://raw.githubusercontent.com/Datamanim/datarepo/main/bank/submission.csv')\n",
    "\n",
    "for i in train.describe(include='object').columns:\n",
    "    train[i] = LabelEncoder().fit_transform(train[i])\n",
    "for i in test.describe(include='object').columns:\n",
    "    test[i] = LabelEncoder().fit_transform(test[i])\n",
    "test.drop(['ID'],axis=1,inplace=True)\n",
    "feature = train.drop(['ID','y'],axis=1)\n",
    "target = train['y']\n",
    "\n",
    "print(feature.describe(include='all'))\n",
    "print('')\n",
    "print(target.describe(include='all'))\n",
    "\n",
    "ftr,fte,ttr,tte = train_test_split(feature,target, test_size= 0.33, random_state = 23)\n",
    "\n",
    "RFC = RandomForestClassifier(random_state = 23)\n",
    "RFC.fit(ftr,ttr)\n",
    "pred = RFC.predict(fte)\n",
    "pred_proba = RFC.predict_proba(fte)[:,1]\n",
    "\n",
    "acc = accuracy_score(tte,pred)\n",
    "f1 = f1_score(tte,pred)\n",
    "precision = precision_score(tte,pred)\n",
    "recall = recall_score(tte,pred)\n",
    "auc = roc_auc_score(tte,pred_proba)\n",
    "print(acc)\n",
    "print(f1)\n",
    "print(precision)\n",
    "print(recall)\n",
    "print(auc)\n",
    "\n",
    "pred = RFC.predict(test)\n",
    "pred_proba = RFC.predict_proba(test)\n",
    "submission['predict'] = pred_proba[:,1]\n",
    "print(test)\n",
    "print(submission)"
   ]
  },
  {
   "cell_type": "raw",
   "id": "8cf1fc8f-ec89-46d6-a182-2cfe590424b3",
   "metadata": {},
   "source": []
  }
 ],
 "metadata": {
  "kernelspec": {
   "display_name": "Python 3 (ipykernel)",
   "language": "python",
   "name": "python3"
  },
  "language_info": {
   "codemirror_mode": {
    "name": "ipython",
    "version": 3
   },
   "file_extension": ".py",
   "mimetype": "text/x-python",
   "name": "python",
   "nbconvert_exporter": "python",
   "pygments_lexer": "ipython3",
   "version": "3.11.9"
  }
 },
 "nbformat": 4,
 "nbformat_minor": 5
}
