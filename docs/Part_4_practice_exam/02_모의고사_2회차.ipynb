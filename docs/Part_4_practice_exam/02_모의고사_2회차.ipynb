{
 "cells": [
  {
   "cell_type": "markdown",
   "id": "61c7d12a-968d-49ad-9143-ff7ef5745917",
   "metadata": {},
   "source": [
    "# 작업 1유형"
   ]
  },
  {
   "cell_type": "markdown",
   "id": "896fedd5-7ff4-42ed-b272-3247cab13a01",
   "metadata": {},
   "source": [
    "## 데이터 로드"
   ]
  },
  {
   "cell_type": "code",
   "execution_count": 71,
   "id": "689967f1-59c9-4b75-96bd-650e886a895e",
   "metadata": {},
   "outputs": [],
   "source": [
    "import pandas as pd\n",
    "df = pd.read_csv('https://raw.githubusercontent.com/Datamanim/datarepo/main/stroke_/train.csv')"
   ]
  },
  {
   "cell_type": "markdown",
   "id": "f118e5d4-4990-4313-b214-fb68079b780d",
   "metadata": {},
   "source": [
    "## 성별이 Male인 환자들의 age 평균값"
   ]
  },
  {
   "cell_type": "code",
   "execution_count": 72,
   "id": "e379d47b-c013-40f0-93dc-4f249ce385c3",
   "metadata": {},
   "outputs": [
    {
     "name": "stdout",
     "output_type": "stream",
     "text": [
      "44.68623481781376\n"
     ]
    }
   ],
   "source": [
    "df.age = df.age.str.replace('*','')\n",
    "df.age = df.age.astype(int)\n",
    "print(df.loc[df['gender'] == 'Male'].age.mean())"
   ]
  },
  {
   "cell_type": "markdown",
   "id": "16feabcf-0ca4-4f70-b7ee-8c28bf86fd79",
   "metadata": {},
   "source": [
    "## bmi 컬럼의 결측치를 bmi 컬럼의 결측치를 제외한 나머지 값들의 중앙값으로 채웠을 경우 bmi 컬럼의 평균(소숫점 3자리까지)"
   ]
  },
  {
   "cell_type": "code",
   "execution_count": 73,
   "id": "2b610458-166a-42c4-bb86-6bb5cde8c362",
   "metadata": {},
   "outputs": [
    {
     "name": "stdout",
     "output_type": "stream",
     "text": [
      "29.166\n"
     ]
    }
   ],
   "source": [
    "print(round(df.bmi.fillna(df.bmi.median()).mean(),3))"
   ]
  },
  {
   "cell_type": "markdown",
   "id": "c6de0bbd-a10d-4a0c-a7e0-25ab5254ed0c",
   "metadata": {},
   "source": [
    "## bmi 컬럼의 결측치를 이전 행의 bmi 값으로 채웠을 경우 bmi 컬럼의 평균(소숫점 3자리까지)"
   ]
  },
  {
   "cell_type": "code",
   "execution_count": 74,
   "id": "bad09391-8bb7-4e28-b91d-787a6730a373",
   "metadata": {},
   "outputs": [
    {
     "name": "stdout",
     "output_type": "stream",
     "text": [
      "29.188\n"
     ]
    },
    {
     "name": "stderr",
     "output_type": "stream",
     "text": [
      "/tmp/ipykernel_50006/2022984429.py:1: FutureWarning: Series.fillna with 'method' is deprecated and will raise in a future version. Use obj.ffill() or obj.bfill() instead.\n",
      "  print(round(df.bmi.fillna(method='ffill').mean(),3))\n"
     ]
    }
   ],
   "source": [
    "print(round(df.bmi.fillna(method='ffill').mean(),3))"
   ]
  },
  {
   "cell_type": "markdown",
   "id": "093fd541-3b26-4426-82fe-2c8eaadf4342",
   "metadata": {},
   "source": [
    "## bmi 컬럼의 각 결측치들을 결측치를 가진 환자 나이대의 평균 bmi 값으로 대체한 후 대체된 bmi 컬럼의 평균(소숫점 3자리까지)"
   ]
  },
  {
   "cell_type": "code",
   "execution_count": 75,
   "id": "d4e832d4-8c11-4a99-8349-8e6c5b2b2d0d",
   "metadata": {},
   "outputs": [
    {
     "name": "stdout",
     "output_type": "stream",
     "text": [
      "29.198\n"
     ]
    }
   ],
   "source": [
    "df['age_group'] = df['age'].map(lambda x : x//10 * 10)\n",
    "print(round(df.bmi.fillna(df.groupby('age_group').bmi.mean()).mean(),3))"
   ]
  },
  {
   "cell_type": "markdown",
   "id": "b906616b-f836-4d92-be38-2cc4e23d062c",
   "metadata": {},
   "source": [
    "## avg_glucose_level 컬럼의 값이 200 이상인 데이터를 모두 199로 변경하고 stroke값이 1인 데이터의 avg_glucose_level값의 평균(소숫점 3자리까지)"
   ]
  },
  {
   "cell_type": "code",
   "execution_count": 77,
   "id": "5087f635-63a9-44dd-8cfa-15c90969c849",
   "metadata": {},
   "outputs": [
    {
     "name": "stdout",
     "output_type": "stream",
     "text": [
      "131.428\n"
     ]
    },
    {
     "name": "stderr",
     "output_type": "stream",
     "text": [
      "/tmp/ipykernel_50006/4003914888.py:1: SettingWithCopyWarning: \n",
      "A value is trying to be set on a copy of a slice from a DataFrame.\n",
      "Try using .loc[row_indexer,col_indexer] = value instead\n",
      "\n",
      "See the caveats in the documentation: https://pandas.pydata.org/pandas-docs/stable/user_guide/indexing.html#returning-a-view-versus-a-copy\n",
      "  df.loc[df['avg_glucose_level'] >= 200].avg_glucose_level = 199\n"
     ]
    }
   ],
   "source": [
    "df.loc[df['avg_glucose_level'] >= 200].avg_glucose_level = 199\n",
    "print(round(df.loc[df.stroke == 1].avg_glucose_level.mean(),3))"
   ]
  },
  {
   "cell_type": "markdown",
   "id": "2d4385f4-ed47-46f5-919f-55b41ef70181",
   "metadata": {},
   "source": [
    "## 데이터 로드"
   ]
  },
  {
   "cell_type": "code",
   "execution_count": 78,
   "id": "51374c5e-274e-499c-b3a3-777949672125",
   "metadata": {},
   "outputs": [
    {
     "data": {
      "text/html": [
       "<div>\n",
       "<style scoped>\n",
       "    .dataframe tbody tr th:only-of-type {\n",
       "        vertical-align: middle;\n",
       "    }\n",
       "\n",
       "    .dataframe tbody tr th {\n",
       "        vertical-align: top;\n",
       "    }\n",
       "\n",
       "    .dataframe thead th {\n",
       "        text-align: right;\n",
       "    }\n",
       "</style>\n",
       "<table border=\"1\" class=\"dataframe\">\n",
       "  <thead>\n",
       "    <tr style=\"text-align: right;\">\n",
       "      <th></th>\n",
       "      <th>#</th>\n",
       "      <th>Name</th>\n",
       "      <th>Type 1</th>\n",
       "      <th>Type 2</th>\n",
       "      <th>Total</th>\n",
       "      <th>HP</th>\n",
       "      <th>Attack</th>\n",
       "      <th>Defense</th>\n",
       "      <th>Sp. Atk</th>\n",
       "      <th>Sp. Def</th>\n",
       "      <th>Speed</th>\n",
       "      <th>Generation</th>\n",
       "      <th>Legendary</th>\n",
       "    </tr>\n",
       "  </thead>\n",
       "  <tbody>\n",
       "    <tr>\n",
       "      <th>0</th>\n",
       "      <td>1</td>\n",
       "      <td>Bulbasaur</td>\n",
       "      <td>Grass</td>\n",
       "      <td>Poison</td>\n",
       "      <td>318</td>\n",
       "      <td>45</td>\n",
       "      <td>49</td>\n",
       "      <td>49</td>\n",
       "      <td>65</td>\n",
       "      <td>65</td>\n",
       "      <td>45</td>\n",
       "      <td>1</td>\n",
       "      <td>False</td>\n",
       "    </tr>\n",
       "    <tr>\n",
       "      <th>1</th>\n",
       "      <td>2</td>\n",
       "      <td>Ivysaur</td>\n",
       "      <td>Grass</td>\n",
       "      <td>Poison</td>\n",
       "      <td>405</td>\n",
       "      <td>60</td>\n",
       "      <td>62</td>\n",
       "      <td>63</td>\n",
       "      <td>80</td>\n",
       "      <td>80</td>\n",
       "      <td>60</td>\n",
       "      <td>1</td>\n",
       "      <td>False</td>\n",
       "    </tr>\n",
       "    <tr>\n",
       "      <th>2</th>\n",
       "      <td>3</td>\n",
       "      <td>Venusaur</td>\n",
       "      <td>Grass</td>\n",
       "      <td>Poison</td>\n",
       "      <td>525</td>\n",
       "      <td>80</td>\n",
       "      <td>82</td>\n",
       "      <td>83</td>\n",
       "      <td>100</td>\n",
       "      <td>100</td>\n",
       "      <td>80</td>\n",
       "      <td>1</td>\n",
       "      <td>False</td>\n",
       "    </tr>\n",
       "    <tr>\n",
       "      <th>3</th>\n",
       "      <td>3</td>\n",
       "      <td>VenusaurMega Venusaur</td>\n",
       "      <td>Grass</td>\n",
       "      <td>Poison</td>\n",
       "      <td>625</td>\n",
       "      <td>80</td>\n",
       "      <td>100</td>\n",
       "      <td>123</td>\n",
       "      <td>122</td>\n",
       "      <td>120</td>\n",
       "      <td>80</td>\n",
       "      <td>1</td>\n",
       "      <td>False</td>\n",
       "    </tr>\n",
       "    <tr>\n",
       "      <th>4</th>\n",
       "      <td>4</td>\n",
       "      <td>Charmander</td>\n",
       "      <td>Fire</td>\n",
       "      <td>NaN</td>\n",
       "      <td>309</td>\n",
       "      <td>39</td>\n",
       "      <td>52</td>\n",
       "      <td>43</td>\n",
       "      <td>60</td>\n",
       "      <td>50</td>\n",
       "      <td>65</td>\n",
       "      <td>1</td>\n",
       "      <td>False</td>\n",
       "    </tr>\n",
       "  </tbody>\n",
       "</table>\n",
       "</div>"
      ],
      "text/plain": [
       "   #                   Name Type 1  Type 2  Total  HP  Attack  Defense  \\\n",
       "0  1              Bulbasaur  Grass  Poison    318  45      49       49   \n",
       "1  2                Ivysaur  Grass  Poison    405  60      62       63   \n",
       "2  3               Venusaur  Grass  Poison    525  80      82       83   \n",
       "3  3  VenusaurMega Venusaur  Grass  Poison    625  80     100      123   \n",
       "4  4             Charmander   Fire     NaN    309  39      52       43   \n",
       "\n",
       "   Sp. Atk  Sp. Def  Speed  Generation  Legendary  \n",
       "0       65       65     45           1      False  \n",
       "1       80       80     60           1      False  \n",
       "2      100      100     80           1      False  \n",
       "3      122      120     80           1      False  \n",
       "4       60       50     65           1      False  "
      ]
     },
     "execution_count": 78,
     "metadata": {},
     "output_type": "execute_result"
    }
   ],
   "source": [
    "import pandas as pd\n",
    "df = pd.read_csv('https://raw.githubusercontent.com/Datamanim/datarepo/main/pok/Pokemon.csv')\n",
    "df.head()"
   ]
  },
  {
   "cell_type": "markdown",
   "id": "48f15a3c-af7a-455d-a0a6-7f1b655b2b49",
   "metadata": {},
   "source": [
    "## Attack 컬럼의 값을 기준으로 내림차순 정렬했을 때 상위 400위 까지 포켓몬들과 401-800위가지의 포켓몬들 사이에서 전설포켓몬의 숫자 차이"
   ]
  },
  {
   "cell_type": "code",
   "execution_count": 92,
   "id": "450934f8-40e2-4f11-ba9a-2c7f826abe20",
   "metadata": {},
   "outputs": [
    {
     "name": "stdout",
     "output_type": "stream",
     "text": [
      "57\n"
     ]
    }
   ],
   "source": [
    "print(len(df.sort_values('Attack',ascending=False)[:400].loc[df['Legendary']==True]) - len(df.sort_values('Attack',ascending=False)[400:].loc[df['Legendary']==True]))"
   ]
  },
  {
   "cell_type": "markdown",
   "id": "1bd82321-232c-4451-a5b6-d55cae37d35f",
   "metadata": {},
   "source": [
    "## Type 1 컬럼의 종류에 따른 Total 컬럼의 평균값을 내림차순 정렬했을 때 상위 3번째 Type 1"
   ]
  },
  {
   "cell_type": "code",
   "execution_count": 96,
   "id": "9009cef3-01d9-473d-b5f2-c477132cf2c8",
   "metadata": {},
   "outputs": [
    {
     "name": "stdout",
     "output_type": "stream",
     "text": [
      "Flying\n"
     ]
    }
   ],
   "source": [
    "print(df.groupby('Type 1').Total.mean().sort_values(ascending=False).index[2])"
   ]
  },
  {
   "cell_type": "markdown",
   "id": "d5945b69-ad62-48e3-864c-a87dea788ea0",
   "metadata": {},
   "source": [
    "## 결측치가 존재하는 행을 모두 지운 후 처음부터 60% 데이터를 추출하여 Defense 컬럼의 1분위수"
   ]
  },
  {
   "cell_type": "code",
   "execution_count": 104,
   "id": "21aa9368-4ad9-4459-8eb2-7ad523c8b6ca",
   "metadata": {},
   "outputs": [
    {
     "name": "stdout",
     "output_type": "stream",
     "text": [
      "50.0\n"
     ]
    }
   ],
   "source": [
    "print(df.dropna()[:int(len(df.dropna())*0.6)].Defense.describe()['25%'])"
   ]
  },
  {
   "cell_type": "markdown",
   "id": "942f7386-4e41-4e3e-aa9b-82e6e44ee866",
   "metadata": {},
   "source": [
    "## Type 1 컬럼의 속성이 Fire 인 포켓몬들의 Attack의 평균이상인 Water 속성의 포켓몬 수"
   ]
  },
  {
   "cell_type": "code",
   "execution_count": 108,
   "id": "8f8cfba7-83a9-492c-955b-e046b2395c7f",
   "metadata": {},
   "outputs": [
    {
     "name": "stdout",
     "output_type": "stream",
     "text": [
      "37\n"
     ]
    }
   ],
   "source": [
    "print(len(df.loc[(df['Type 1'] == 'Water')& (df['Attack'] >= df.loc[df['Type 1']=='Fire'].Attack.mean())]))"
   ]
  },
  {
   "cell_type": "markdown",
   "id": "defcb0a5-47e7-454e-9f10-db2e3e8c5437",
   "metadata": {},
   "source": [
    "## 각 세대 중의 Speed와 Defense 컬럼의 차이(절댓값)이 가장 큰 세대"
   ]
  },
  {
   "cell_type": "code",
   "execution_count": 116,
   "id": "06adaaf6-935d-48ac-ad02-44c8d4393e28",
   "metadata": {},
   "outputs": [
    {
     "name": "stdout",
     "output_type": "stream",
     "text": [
      "2\n"
     ]
    }
   ],
   "source": [
    "print(abs(df.groupby('Generation').Speed.mean() - df.groupby('Generation').Defense.mean()).sort_values(ascending=False).index[0])"
   ]
  },
  {
   "cell_type": "markdown",
   "id": "33aa3f61-76ee-4e26-9fc5-78fba9aa8532",
   "metadata": {},
   "source": [
    "# 작업 2유형"
   ]
  },
  {
   "cell_type": "code",
   "execution_count": 143,
   "id": "a58de47e-9c10-44c7-8e30-4806efda34cb",
   "metadata": {},
   "outputs": [
    {
     "name": "stdout",
     "output_type": "stream",
     "text": [
      "            gender          age  hypertension  heart_disease  ever_married  \\\n",
      "count  1137.000000  1137.000000   1137.000000    1137.000000   1137.000000   \n",
      "mean      0.436236    45.189094      0.118734       0.068602      0.676341   \n",
      "std       0.497907    23.070207      0.323617       0.252887      0.468077   \n",
      "min       0.000000     0.000000      0.000000       0.000000      0.000000   \n",
      "25%       0.000000    28.000000      0.000000       0.000000      0.000000   \n",
      "50%       0.000000    48.000000      0.000000       0.000000      1.000000   \n",
      "75%       1.000000    63.000000      0.000000       0.000000      1.000000   \n",
      "max       2.000000    82.000000      1.000000       1.000000      1.000000   \n",
      "\n",
      "        work_type  Residence_type  avg_glucose_level          bmi  \\\n",
      "count  1137.00000     1137.000000        1137.000000  1137.000000   \n",
      "mean      2.16007        0.516271         107.664002    29.198065   \n",
      "std       1.07093        0.499955          47.618723     7.492022   \n",
      "min       0.00000        0.000000          55.270000    11.300000   \n",
      "25%       2.00000        0.000000          77.600000    24.200000   \n",
      "50%       2.00000        1.000000          91.820000    28.800000   \n",
      "75%       3.00000        1.000000         113.850000    33.000000   \n",
      "max       4.00000        1.000000         266.590000    64.400000   \n",
      "\n",
      "       smoking_status  \n",
      "count     1137.000000  \n",
      "mean         1.344767  \n",
      "std          1.065154  \n",
      "min          0.000000  \n",
      "25%          0.000000  \n",
      "50%          2.000000  \n",
      "75%          2.000000  \n",
      "max          3.000000  \n",
      "0.8829787234042553\n",
      "0.21428571428571427\n",
      "0.35294117647058826\n",
      "0.15384615384615385\n",
      "0.841893022901925\n",
      "                  id  gender         age  hypertension  heart_disease  \\\n",
      "count     932.000000     932  932.000000    932.000000     932.000000   \n",
      "unique           NaN       2         NaN           NaN            NaN   \n",
      "top              NaN  Female         NaN           NaN            NaN   \n",
      "freq             NaN     559         NaN           NaN            NaN   \n",
      "mean    36644.275751     NaN   44.821888      0.114807       0.050429   \n",
      "std     21087.289033     NaN   22.753582      0.318960       0.218946   \n",
      "min       121.000000     NaN    0.000000      0.000000       0.000000   \n",
      "25%     17584.750000     NaN   26.000000      0.000000       0.000000   \n",
      "50%     37056.500000     NaN   47.000000      0.000000       0.000000   \n",
      "75%     54125.500000     NaN   63.000000      0.000000       0.000000   \n",
      "max     72911.000000     NaN   82.000000      1.000000       1.000000   \n",
      "\n",
      "       ever_married work_type Residence_type  avg_glucose_level         bmi  \\\n",
      "count           932       932            932         932.000000  875.000000   \n",
      "unique            2         5              2                NaN         NaN   \n",
      "top             Yes   Private          Rural                NaN         NaN   \n",
      "freq            642       539            467                NaN         NaN   \n",
      "mean            NaN       NaN            NaN         107.130708   28.644114   \n",
      "std             NaN       NaN            NaN          45.336215    7.926094   \n",
      "min             NaN       NaN            NaN          55.230000   12.800000   \n",
      "25%             NaN       NaN            NaN          77.820000   23.450000   \n",
      "50%             NaN       NaN            NaN          92.840000   27.700000   \n",
      "75%             NaN       NaN            NaN         115.560000   32.300000   \n",
      "max             NaN       NaN            NaN         271.740000   92.000000   \n",
      "\n",
      "       smoking_status      stroke  \n",
      "count             932  932.000000  \n",
      "unique              4         NaN  \n",
      "top      never smoked         NaN  \n",
      "freq              323         NaN  \n",
      "mean              NaN    0.024678  \n",
      "std               NaN    0.155225  \n",
      "min               NaN    0.000000  \n",
      "25%               NaN    0.000000  \n",
      "50%               NaN    0.000000  \n",
      "75%               NaN    0.000000  \n",
      "max               NaN    1.000000  \n"
     ]
    },
    {
     "name": "stderr",
     "output_type": "stream",
     "text": [
      "/tmp/ipykernel_50006/1761997069.py:21: FutureWarning: A value is trying to be set on a copy of a DataFrame or Series through chained assignment using an inplace method.\n",
      "The behavior will change in pandas 3.0. This inplace method will never work because the intermediate object on which we are setting values always behaves as a copy.\n",
      "\n",
      "For example, when doing 'df[col].method(value, inplace=True)', try using 'df.method({col: value}, inplace=True)' or df[col] = df[col].method(value) instead, to perform the operation inplace on the original object.\n",
      "\n",
      "\n",
      "  x.bmi.fillna(x.bmi.mean(),inplace=True)\n"
     ]
    }
   ],
   "source": [
    "import pandas as pd\n",
    "import numpy as np\n",
    "from sklearn.preprocessing import LabelEncoder, MinMaxScaler \n",
    "from sklearn.model_selection import train_test_split \n",
    "from sklearn.metrics import f1_score, accuracy_score, precision_score, recall_score, roc_auc_score \n",
    "from sklearn.ensemble import RandomForestClassifier \n",
    "\n",
    "train= pd.read_csv('https://raw.githubusercontent.com/Datamanim/datarepo/main/stroke_/train.csv')\n",
    "test= pd.read_csv('https://raw.githubusercontent.com/Datamanim/datarepo/main/stroke_/test.csv')\n",
    "train['age'] = train['age'].str.replace('*','')\n",
    "train['age'] = train['age'].astype(int)\n",
    "test['age'] = test['age'].astype(int)\n",
    "x = train.drop(['id','stroke'],axis=1)\n",
    "y = train['stroke']\n",
    "z = test.drop(['id'],axis=1)\n",
    "\n",
    "for i in x.describe(include='object').columns:\n",
    "    x[i] = LabelEncoder().fit_transform(x[i])\n",
    "    z[i] = LabelEncoder().fit_transform(z[i])\n",
    "\n",
    "x.bmi.fillna(x.bmi.mean(),inplace=True)\n",
    "print(x.describe(include='all'))\n",
    "\n",
    "xtr,xte,ytr,yte = train_test_split(x,y,test_size=0.33,random_state = 23)\n",
    "\n",
    "RFC = RandomForestClassifier(random_state = 23)\n",
    "RFC.fit(xtr,ytr)\n",
    "\n",
    "pred = RFC.predict(xte)\n",
    "pred_proba = RFC.predict_proba(xte)[:,1]\n",
    "\n",
    "acc = accuracy_score(yte,pred)\n",
    "f1 = f1_score(yte,pred)\n",
    "precision = precision_score(yte,pred)\n",
    "recall = recall_score(yte,pred)\n",
    "auc = roc_auc_score(yte,pred_proba)\n",
    "print(acc)\n",
    "print(f1)\n",
    "print(precision)\n",
    "print(recall)\n",
    "print(auc)\n",
    "\n",
    "test['stroke'] = RFC.predict(z)\n",
    "print(test.describe(include='all'))"
   ]
  },
  {
   "cell_type": "code",
   "execution_count": null,
   "id": "1d174ebd-b58b-4f2d-85ad-79d74f2c4da1",
   "metadata": {},
   "outputs": [],
   "source": []
  }
 ],
 "metadata": {
  "kernelspec": {
   "display_name": "Python 3 (ipykernel)",
   "language": "python",
   "name": "python3"
  },
  "language_info": {
   "codemirror_mode": {
    "name": "ipython",
    "version": 3
   },
   "file_extension": ".py",
   "mimetype": "text/x-python",
   "name": "python",
   "nbconvert_exporter": "python",
   "pygments_lexer": "ipython3",
   "version": "3.11.9"
  }
 },
 "nbformat": 4,
 "nbformat_minor": 5
}
