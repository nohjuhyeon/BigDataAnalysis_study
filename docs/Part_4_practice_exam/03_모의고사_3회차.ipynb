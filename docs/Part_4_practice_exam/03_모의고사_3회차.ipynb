{
 "cells": [
  {
   "cell_type": "markdown",
   "id": "dfb312c6-8117-4267-a7d3-b4e6e5552987",
   "metadata": {},
   "source": [
    "# 작업 1유형"
   ]
  },
  {
   "cell_type": "markdown",
   "id": "373149ad-f1bc-453c-a8d0-6701e521d341",
   "metadata": {},
   "source": [
    "## 데이터 로드"
   ]
  },
  {
   "cell_type": "code",
   "execution_count": 2,
   "id": "d7f22f3f-8a36-4912-89c6-5fd7bcc07f29",
   "metadata": {},
   "outputs": [
    {
     "data": {
      "text/html": [
       "<div>\n",
       "<style scoped>\n",
       "    .dataframe tbody tr th:only-of-type {\n",
       "        vertical-align: middle;\n",
       "    }\n",
       "\n",
       "    .dataframe tbody tr th {\n",
       "        vertical-align: top;\n",
       "    }\n",
       "\n",
       "    .dataframe thead th {\n",
       "        text-align: right;\n",
       "    }\n",
       "</style>\n",
       "<table border=\"1\" class=\"dataframe\">\n",
       "  <thead>\n",
       "    <tr style=\"text-align: right;\">\n",
       "      <th></th>\n",
       "      <th>title</th>\n",
       "      <th>artist</th>\n",
       "      <th>top genre</th>\n",
       "      <th>year released</th>\n",
       "      <th>added</th>\n",
       "      <th>bpm</th>\n",
       "      <th>nrgy</th>\n",
       "      <th>dnce</th>\n",
       "      <th>dB</th>\n",
       "      <th>live</th>\n",
       "      <th>val</th>\n",
       "      <th>dur</th>\n",
       "      <th>acous</th>\n",
       "      <th>spch</th>\n",
       "      <th>pop</th>\n",
       "      <th>top year</th>\n",
       "      <th>artist type</th>\n",
       "    </tr>\n",
       "  </thead>\n",
       "  <tbody>\n",
       "    <tr>\n",
       "      <th>0</th>\n",
       "      <td>STARSTRUKK (feat. Katy Perry)</td>\n",
       "      <td>3OH!3</td>\n",
       "      <td>dance pop</td>\n",
       "      <td>2009.0</td>\n",
       "      <td>2022‑02‑17</td>\n",
       "      <td>140.0</td>\n",
       "      <td>81.0</td>\n",
       "      <td>61.0</td>\n",
       "      <td>-6.0</td>\n",
       "      <td>23.0</td>\n",
       "      <td>23.0</td>\n",
       "      <td>203.0</td>\n",
       "      <td>0.0</td>\n",
       "      <td>6.0</td>\n",
       "      <td>70.0</td>\n",
       "      <td>2010.0</td>\n",
       "      <td>Duo</td>\n",
       "    </tr>\n",
       "    <tr>\n",
       "      <th>1</th>\n",
       "      <td>My First Kiss (feat. Ke$ha)</td>\n",
       "      <td>3OH!3</td>\n",
       "      <td>dance pop</td>\n",
       "      <td>2010.0</td>\n",
       "      <td>2022‑02‑17</td>\n",
       "      <td>138.0</td>\n",
       "      <td>89.0</td>\n",
       "      <td>68.0</td>\n",
       "      <td>-4.0</td>\n",
       "      <td>36.0</td>\n",
       "      <td>83.0</td>\n",
       "      <td>192.0</td>\n",
       "      <td>1.0</td>\n",
       "      <td>8.0</td>\n",
       "      <td>68.0</td>\n",
       "      <td>2010.0</td>\n",
       "      <td>Duo</td>\n",
       "    </tr>\n",
       "    <tr>\n",
       "      <th>2</th>\n",
       "      <td>I Need A Dollar</td>\n",
       "      <td>Aloe Blacc</td>\n",
       "      <td>pop soul</td>\n",
       "      <td>2010.0</td>\n",
       "      <td>2022‑02‑17</td>\n",
       "      <td>95.0</td>\n",
       "      <td>48.0</td>\n",
       "      <td>84.0</td>\n",
       "      <td>-7.0</td>\n",
       "      <td>9.0</td>\n",
       "      <td>96.0</td>\n",
       "      <td>243.0</td>\n",
       "      <td>20.0</td>\n",
       "      <td>3.0</td>\n",
       "      <td>72.0</td>\n",
       "      <td>2010.0</td>\n",
       "      <td>Solo</td>\n",
       "    </tr>\n",
       "    <tr>\n",
       "      <th>3</th>\n",
       "      <td>Airplanes (feat. Hayley Williams of Paramore)</td>\n",
       "      <td>B.o.B</td>\n",
       "      <td>atl hip hop</td>\n",
       "      <td>2010.0</td>\n",
       "      <td>2022‑02‑17</td>\n",
       "      <td>93.0</td>\n",
       "      <td>87.0</td>\n",
       "      <td>66.0</td>\n",
       "      <td>-4.0</td>\n",
       "      <td>4.0</td>\n",
       "      <td>38.0</td>\n",
       "      <td>180.0</td>\n",
       "      <td>11.0</td>\n",
       "      <td>12.0</td>\n",
       "      <td>80.0</td>\n",
       "      <td>2010.0</td>\n",
       "      <td>Solo</td>\n",
       "    </tr>\n",
       "    <tr>\n",
       "      <th>4</th>\n",
       "      <td>Nothin' on You (feat. Bruno Mars)</td>\n",
       "      <td>B.o.B</td>\n",
       "      <td>atl hip hop</td>\n",
       "      <td>2010.0</td>\n",
       "      <td>2022‑02‑17</td>\n",
       "      <td>104.0</td>\n",
       "      <td>85.0</td>\n",
       "      <td>69.0</td>\n",
       "      <td>-6.0</td>\n",
       "      <td>9.0</td>\n",
       "      <td>74.0</td>\n",
       "      <td>268.0</td>\n",
       "      <td>39.0</td>\n",
       "      <td>5.0</td>\n",
       "      <td>79.0</td>\n",
       "      <td>2010.0</td>\n",
       "      <td>Solo</td>\n",
       "    </tr>\n",
       "    <tr>\n",
       "      <th>...</th>\n",
       "      <td>...</td>\n",
       "      <td>...</td>\n",
       "      <td>...</td>\n",
       "      <td>...</td>\n",
       "      <td>...</td>\n",
       "      <td>...</td>\n",
       "      <td>...</td>\n",
       "      <td>...</td>\n",
       "      <td>...</td>\n",
       "      <td>...</td>\n",
       "      <td>...</td>\n",
       "      <td>...</td>\n",
       "      <td>...</td>\n",
       "      <td>...</td>\n",
       "      <td>...</td>\n",
       "      <td>...</td>\n",
       "      <td>...</td>\n",
       "    </tr>\n",
       "    <tr>\n",
       "      <th>998</th>\n",
       "      <td>Strike a Pose (feat. Aitch)</td>\n",
       "      <td>Young T &amp; Bugsey</td>\n",
       "      <td>afroswing</td>\n",
       "      <td>2019.0</td>\n",
       "      <td>2020‑08‑20</td>\n",
       "      <td>138.0</td>\n",
       "      <td>58.0</td>\n",
       "      <td>53.0</td>\n",
       "      <td>-6.0</td>\n",
       "      <td>10.0</td>\n",
       "      <td>59.0</td>\n",
       "      <td>214.0</td>\n",
       "      <td>1.0</td>\n",
       "      <td>10.0</td>\n",
       "      <td>67.0</td>\n",
       "      <td>2019.0</td>\n",
       "      <td>Duo</td>\n",
       "    </tr>\n",
       "    <tr>\n",
       "      <th>999</th>\n",
       "      <td>The London (feat. J. Cole &amp; Travis Scott)</td>\n",
       "      <td>Young Thug</td>\n",
       "      <td>atl hip hop</td>\n",
       "      <td>2019.0</td>\n",
       "      <td>2020‑06‑22</td>\n",
       "      <td>98.0</td>\n",
       "      <td>59.0</td>\n",
       "      <td>80.0</td>\n",
       "      <td>-7.0</td>\n",
       "      <td>13.0</td>\n",
       "      <td>18.0</td>\n",
       "      <td>200.0</td>\n",
       "      <td>2.0</td>\n",
       "      <td>15.0</td>\n",
       "      <td>75.0</td>\n",
       "      <td>2019.0</td>\n",
       "      <td>Solo</td>\n",
       "    </tr>\n",
       "    <tr>\n",
       "      <th>1000</th>\n",
       "      <td>NaN</td>\n",
       "      <td>NaN</td>\n",
       "      <td>NaN</td>\n",
       "      <td>NaN</td>\n",
       "      <td>NaN</td>\n",
       "      <td>NaN</td>\n",
       "      <td>NaN</td>\n",
       "      <td>NaN</td>\n",
       "      <td>NaN</td>\n",
       "      <td>NaN</td>\n",
       "      <td>NaN</td>\n",
       "      <td>NaN</td>\n",
       "      <td>NaN</td>\n",
       "      <td>NaN</td>\n",
       "      <td>NaN</td>\n",
       "      <td>NaN</td>\n",
       "      <td>NaN</td>\n",
       "    </tr>\n",
       "    <tr>\n",
       "      <th>1001</th>\n",
       "      <td>NaN</td>\n",
       "      <td>NaN</td>\n",
       "      <td>NaN</td>\n",
       "      <td>NaN</td>\n",
       "      <td>NaN</td>\n",
       "      <td>NaN</td>\n",
       "      <td>NaN</td>\n",
       "      <td>NaN</td>\n",
       "      <td>NaN</td>\n",
       "      <td>NaN</td>\n",
       "      <td>NaN</td>\n",
       "      <td>NaN</td>\n",
       "      <td>NaN</td>\n",
       "      <td>NaN</td>\n",
       "      <td>NaN</td>\n",
       "      <td>NaN</td>\n",
       "      <td>NaN</td>\n",
       "    </tr>\n",
       "    <tr>\n",
       "      <th>1002</th>\n",
       "      <td>NaN</td>\n",
       "      <td>NaN</td>\n",
       "      <td>NaN</td>\n",
       "      <td>NaN</td>\n",
       "      <td>NaN</td>\n",
       "      <td>NaN</td>\n",
       "      <td>NaN</td>\n",
       "      <td>NaN</td>\n",
       "      <td>NaN</td>\n",
       "      <td>NaN</td>\n",
       "      <td>NaN</td>\n",
       "      <td>NaN</td>\n",
       "      <td>NaN</td>\n",
       "      <td>NaN</td>\n",
       "      <td>NaN</td>\n",
       "      <td>NaN</td>\n",
       "      <td>NaN</td>\n",
       "    </tr>\n",
       "  </tbody>\n",
       "</table>\n",
       "<p>1003 rows × 17 columns</p>\n",
       "</div>"
      ],
      "text/plain": [
       "                                              title            artist  \\\n",
       "0                     STARSTRUKK (feat. Katy Perry)             3OH!3   \n",
       "1                       My First Kiss (feat. Ke$ha)             3OH!3   \n",
       "2                                   I Need A Dollar        Aloe Blacc   \n",
       "3     Airplanes (feat. Hayley Williams of Paramore)             B.o.B   \n",
       "4                 Nothin' on You (feat. Bruno Mars)             B.o.B   \n",
       "...                                             ...               ...   \n",
       "998                     Strike a Pose (feat. Aitch)  Young T & Bugsey   \n",
       "999       The London (feat. J. Cole & Travis Scott)        Young Thug   \n",
       "1000                                            NaN               NaN   \n",
       "1001                                            NaN               NaN   \n",
       "1002                                            NaN               NaN   \n",
       "\n",
       "        top genre  year released       added    bpm  nrgy  dnce   dB  live  \\\n",
       "0       dance pop         2009.0  2022‑02‑17  140.0  81.0  61.0 -6.0  23.0   \n",
       "1       dance pop         2010.0  2022‑02‑17  138.0  89.0  68.0 -4.0  36.0   \n",
       "2        pop soul         2010.0  2022‑02‑17   95.0  48.0  84.0 -7.0   9.0   \n",
       "3     atl hip hop         2010.0  2022‑02‑17   93.0  87.0  66.0 -4.0   4.0   \n",
       "4     atl hip hop         2010.0  2022‑02‑17  104.0  85.0  69.0 -6.0   9.0   \n",
       "...           ...            ...         ...    ...   ...   ...  ...   ...   \n",
       "998     afroswing         2019.0  2020‑08‑20  138.0  58.0  53.0 -6.0  10.0   \n",
       "999   atl hip hop         2019.0  2020‑06‑22   98.0  59.0  80.0 -7.0  13.0   \n",
       "1000          NaN            NaN         NaN    NaN   NaN   NaN  NaN   NaN   \n",
       "1001          NaN            NaN         NaN    NaN   NaN   NaN  NaN   NaN   \n",
       "1002          NaN            NaN         NaN    NaN   NaN   NaN  NaN   NaN   \n",
       "\n",
       "       val    dur  acous  spch   pop  top year artist type  \n",
       "0     23.0  203.0    0.0   6.0  70.0    2010.0         Duo  \n",
       "1     83.0  192.0    1.0   8.0  68.0    2010.0         Duo  \n",
       "2     96.0  243.0   20.0   3.0  72.0    2010.0        Solo  \n",
       "3     38.0  180.0   11.0  12.0  80.0    2010.0        Solo  \n",
       "4     74.0  268.0   39.0   5.0  79.0    2010.0        Solo  \n",
       "...    ...    ...    ...   ...   ...       ...         ...  \n",
       "998   59.0  214.0    1.0  10.0  67.0    2019.0         Duo  \n",
       "999   18.0  200.0    2.0  15.0  75.0    2019.0        Solo  \n",
       "1000   NaN    NaN    NaN   NaN   NaN       NaN         NaN  \n",
       "1001   NaN    NaN    NaN   NaN   NaN       NaN         NaN  \n",
       "1002   NaN    NaN    NaN   NaN   NaN       NaN         NaN  \n",
       "\n",
       "[1003 rows x 17 columns]"
      ]
     },
     "execution_count": 2,
     "metadata": {},
     "output_type": "execute_result"
    }
   ],
   "source": [
    "import pandas as pd\n",
    "df = pd.read_csv('https://raw.githubusercontent.com/Datamanim/datarepo/main/spotify/spotify.csv')\n",
    "df"
   ]
  },
  {
   "cell_type": "markdown",
   "id": "47c55741-8c85-42a4-9a31-edbcf12f6ed9",
   "metadata": {},
   "source": [
    "## 각 년도별 1-100위 랭킹을 나타내는 rank 컬럼을 만들고 매년도 1위의 bpm 컬럼의 평균값 "
   ]
  },
  {
   "cell_type": "code",
   "execution_count": 10,
   "id": "2c9b6885-f92c-401b-8068-14d17bb22afb",
   "metadata": {},
   "outputs": [
    {
     "name": "stdout",
     "output_type": "stream",
     "text": [
      "125.6\n"
     ]
    }
   ],
   "source": [
    "df.dropna(inplace=True)\n",
    "df['rank'] = list(range(1,101))*10\n",
    "print(df.loc[df['rank']==1].bpm.mean())"
   ]
  },
  {
   "cell_type": "markdown",
   "id": "a6aa2048-4c96-439c-a54e-f65d07af2718",
   "metadata": {},
   "source": [
    "## 2015년도에 가장 많은 top100 곡을 올린 artist"
   ]
  },
  {
   "cell_type": "code",
   "execution_count": 19,
   "id": "e7428fab-eca9-494f-a614-987e9ea74d22",
   "metadata": {},
   "outputs": [
    {
     "name": "stdout",
     "output_type": "stream",
     "text": [
      "Index(['Taylor Swift', 'The Weeknd'], dtype='object', name='artist')\n"
     ]
    }
   ],
   "source": [
    "print(df.loc[df['top year'] == 2015].artist.value_counts().index[0:2])"
   ]
  },
  {
   "cell_type": "markdown",
   "id": "92ef3c37-ce01-4041-aefe-17fff2b5f00c",
   "metadata": {},
   "source": [
    "## 년도별 Rank 값이 1-10위 까지의 곡들 중 두번째로 많은 top genre"
   ]
  },
  {
   "cell_type": "code",
   "execution_count": 28,
   "id": "5f2e6056-7fb7-48e5-9f41-5534442c9794",
   "metadata": {},
   "outputs": [
    {
     "name": "stdout",
     "output_type": "stream",
     "text": [
      "Index(['atl hip hop', 'british soul'], dtype='object', name='top genre')\n"
     ]
    }
   ],
   "source": [
    "print(df.loc[df['rank'] <= 10]['top genre'].value_counts().index[1:3])"
   ]
  },
  {
   "cell_type": "markdown",
   "id": "f91a275e-99d4-4605-b5ce-cefc46e07000",
   "metadata": {},
   "source": [
    "## 피처링의 경우 title에 표시됨, 피처링을 가장 많이 해준 가수"
   ]
  },
  {
   "cell_type": "code",
   "execution_count": 40,
   "id": "c4e35185-d613-4d73-ad2e-be8b1467cf29",
   "metadata": {},
   "outputs": [
    {
     "name": "stdout",
     "output_type": "stream",
     "text": [
      " Bruno Mars\n"
     ]
    }
   ],
   "source": [
    "def featuring(row):\n",
    "    if '(feat.' in row:\n",
    "        return row.split('(feat.')[1][:-1]\n",
    "df['featuring'] = df['title'].apply(featuring)\n",
    "print(df.featuring.value_counts().sort_values(ascending=False).index[0])"
   ]
  },
  {
   "cell_type": "markdown",
   "id": "588854fc-2cab-4b02-9827-61d416e83b07",
   "metadata": {},
   "source": [
    "## top year 년도를 기준으로 발매일과 top100 에 진입한 일자가 다른 곡의 숫자가 가장 많은 년도"
   ]
  },
  {
   "cell_type": "code",
   "execution_count": 48,
   "id": "44f344e9-d2f1-447a-9f82-06a4c5c27309",
   "metadata": {},
   "outputs": [
    {
     "name": "stdout",
     "output_type": "stream",
     "text": [
      "2016.0\n"
     ]
    }
   ],
   "source": [
    "print(df.loc[df['year released'] != df['top year']].value_counts('top year').index[0])"
   ]
  },
  {
   "cell_type": "markdown",
   "id": "aac0f96c-d765-4237-bf73-37907bb77da2",
   "metadata": {},
   "source": [
    "## artist 컬럼의 값에 대소문자 상관없이 q 단어가 들어가는 아티스트"
   ]
  },
  {
   "cell_type": "code",
   "execution_count": 61,
   "id": "2566edd2-8df0-4760-b9b5-6df304c40d94",
   "metadata": {},
   "outputs": [
    {
     "name": "stdout",
     "output_type": "stream",
     "text": [
      "6\n"
     ]
    }
   ],
   "source": [
    "print(len(df.loc[df['artist'].str.lower().str.contains('q')].artist.unique()))"
   ]
  },
  {
   "cell_type": "markdown",
   "id": "07d04d66-9764-45cc-a3d8-a2c38900479f",
   "metadata": {},
   "source": [
    "## 년도 상관없이 전체 데이터에서 1-50위와 51-100위간의 dur 컬럼의 평균값 차이"
   ]
  },
  {
   "cell_type": "code",
   "execution_count": 66,
   "id": "c2b7be9f-5993-4b06-9d4f-1bd11508dcb2",
   "metadata": {},
   "outputs": [
    {
     "name": "stdout",
     "output_type": "stream",
     "text": [
      "0.896000000000015\n"
     ]
    }
   ],
   "source": [
    "print(df.loc[df['rank'] <= 50].dur.mean() - df.loc[df['rank'] > 50].dur.mean())"
   ]
  },
  {
   "cell_type": "markdown",
   "id": "d80c1307-9421-4aa8-a9a4-db9cca2fac38",
   "metadata": {},
   "source": [
    "## title을 띄어쓰기 단어로 구분 했을 때 가장 많이 나온 단어"
   ]
  },
  {
   "cell_type": "code",
   "execution_count": 81,
   "id": "0b534b13-256f-4752-8a51-f051ccfd9314",
   "metadata": {},
   "outputs": [
    {
     "name": "stdout",
     "output_type": "stream",
     "text": [
      "the\n"
     ]
    }
   ],
   "source": [
    "print(df.title.str.split('\\(feat.').str[0].str.split().explode().str.lower().value_counts().index[0])"
   ]
  },
  {
   "cell_type": "markdown",
   "id": "8b535a37-649f-48bd-910f-34361e8aec1b",
   "metadata": {},
   "source": [
    "## 년도별 nrgy 값의 평균값을 구할 때 최대 평균값과 최소 평균값의 차이"
   ]
  },
  {
   "cell_type": "code",
   "execution_count": 86,
   "id": "e80f0f23-ea2c-44c1-8bcc-0c9809376e40",
   "metadata": {},
   "outputs": [
    {
     "name": "stdout",
     "output_type": "stream",
     "text": [
      "13.860000000000007\n"
     ]
    }
   ],
   "source": [
    "print(df.groupby('top year').nrgy.mean().sort_values().values[-1] - df.groupby('top year').nrgy.mean().sort_values().values[0])"
   ]
  },
  {
   "cell_type": "markdown",
   "id": "c124f9b7-72c3-4c4c-b008-0d8c1d268b39",
   "metadata": {},
   "source": [
    "## artist 중 artist type을 여러 개 가지고 있는 artist"
   ]
  },
  {
   "cell_type": "code",
   "execution_count": 95,
   "id": "4c8caedc-dbd5-4c69-90a4-8db68bd985a8",
   "metadata": {},
   "outputs": [
    {
     "name": "stdout",
     "output_type": "stream",
     "text": [
      "Index(['Rudimental'], dtype='object', name='artist')\n"
     ]
    }
   ],
   "source": [
    "print(df.groupby(['artist','artist type']).size().reset_index().artist.value_counts().loc[df.groupby(['artist','artist type']).size().reset_index().artist.value_counts() > 1].index)"
   ]
  },
  {
   "cell_type": "markdown",
   "id": "d9a162fa-76a1-4deb-ab8c-12b38ab6abf3",
   "metadata": {},
   "source": [
    "# 작업 2유형"
   ]
  },
  {
   "cell_type": "code",
   "execution_count": 15,
   "id": "a40e8d10-bcc8-4164-992f-c316db6d6ef7",
   "metadata": {},
   "outputs": [
    {
     "name": "stderr",
     "output_type": "stream",
     "text": [
      "/usr/local/lib/python3.11/site-packages/sklearn/base.py:1473: DataConversionWarning: A column-vector y was passed when a 1d array was expected. Please change the shape of y to (n_samples,), for example using ravel().\n",
      "  return fit_method(estimator, *args, **kwargs)\n"
     ]
    },
    {
     "name": "stdout",
     "output_type": "stream",
     "text": [
      "0.9949820788530466\n",
      "0.9949312092686459\n",
      "0.9913419913419913\n",
      "0.998546511627907\n",
      "0.999909555465111\n"
     ]
    }
   ],
   "source": [
    "import pandas as pd\n",
    "import numpy as np\n",
    "from sklearn.preprocessing import LabelEncoder, MinMaxScaler \n",
    "from sklearn.model_selection import train_test_split \n",
    "from sklearn.metrics import f1_score, accuracy_score, recall_score, precision_score, roc_auc_score \n",
    "from sklearn.ensemble import RandomForestClassifier \n",
    "#데이터 로드\n",
    "x = pd.read_csv(\"https://raw.githubusercontent.com/Datamanim/datarepo/main/muscle/x_train.csv\")\n",
    "y = pd.read_csv(\"https://raw.githubusercontent.com/Datamanim/datarepo/main/muscle/y_train.csv\")\n",
    "test= pd.read_csv(\"https://raw.githubusercontent.com/Datamanim/datarepo/main/muscle/x_test.csv\")\n",
    "\n",
    "x.drop('ID',axis=1,inplace= True)\n",
    "y.drop('ID',axis=1,inplace= True)\n",
    "test_x = test.drop('ID',axis=1)\n",
    "\n",
    "xtr,xte,ytr,yte = train_test_split(x,y,test_size= 0.3, random_state = 23)\n",
    "\n",
    "RFC = RandomForestClassifier(random_state = 23)\n",
    "RFC.fit(xtr,ytr)\n",
    "pred = RFC.predict(xte)\n",
    "pred_proba = RFC.predict_proba(xte)[:,1]\n",
    "\n",
    "acc = accuracy_score(yte,pred)\n",
    "f1 = f1_score(yte,pred)\n",
    "recall = recall_score(yte,pred)\n",
    "precision = precision_score(yte,pred)\n",
    "auc = roc_auc_score(yte,pred_proba)\n",
    "print(acc)\n",
    "print(f1)\n",
    "print(recall)\n",
    "print(precision)\n",
    "print(auc)\n",
    "\n",
    "test_pred = RFC.predict(test_x)\n",
    "test_pred_proba = RFC.predict_proba(test_x)[:,1]\n",
    "test['pose'] = test_pred_proba\n",
    "test[['ID','pose']].to_csv('111.csv',index=False)"
   ]
  },
  {
   "cell_type": "code",
   "execution_count": null,
   "id": "582785b1-f3d9-4665-bd91-b86370902662",
   "metadata": {},
   "outputs": [],
   "source": []
  }
 ],
 "metadata": {
  "kernelspec": {
   "display_name": "Python 3 (ipykernel)",
   "language": "python",
   "name": "python3"
  },
  "language_info": {
   "codemirror_mode": {
    "name": "ipython",
    "version": 3
   },
   "file_extension": ".py",
   "mimetype": "text/x-python",
   "name": "python",
   "nbconvert_exporter": "python",
   "pygments_lexer": "ipython3",
   "version": "3.11.9"
  }
 },
 "nbformat": 4,
 "nbformat_minor": 5
}
