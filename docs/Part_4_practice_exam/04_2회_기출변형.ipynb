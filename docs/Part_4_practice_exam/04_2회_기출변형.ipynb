{
 "cells": [
  {
   "cell_type": "markdown",
   "id": "e32c6513-b557-4066-b3e7-9e982ffff0b2",
   "metadata": {},
   "source": [
    "# 작업 1유형"
   ]
  },
  {
   "cell_type": "markdown",
   "id": "0579c5e0-076a-4348-b42d-a1565d6635cf",
   "metadata": {},
   "source": [
    "## 데이터 로드"
   ]
  },
  {
   "cell_type": "code",
   "execution_count": 53,
   "id": "8fa10ee7-8b5b-48ce-8d7f-856088724bf6",
   "metadata": {},
   "outputs": [
    {
     "data": {
      "text/html": [
       "<div>\n",
       "<style scoped>\n",
       "    .dataframe tbody tr th:only-of-type {\n",
       "        vertical-align: middle;\n",
       "    }\n",
       "\n",
       "    .dataframe tbody tr th {\n",
       "        vertical-align: top;\n",
       "    }\n",
       "\n",
       "    .dataframe thead th {\n",
       "        text-align: right;\n",
       "    }\n",
       "</style>\n",
       "<table border=\"1\" class=\"dataframe\">\n",
       "  <thead>\n",
       "    <tr style=\"text-align: right;\">\n",
       "      <th></th>\n",
       "      <th>CRIM</th>\n",
       "      <th>ZN</th>\n",
       "      <th>INDUS</th>\n",
       "      <th>CHAS</th>\n",
       "      <th>NOX</th>\n",
       "      <th>RM</th>\n",
       "      <th>AGE</th>\n",
       "      <th>DIS</th>\n",
       "      <th>RAD</th>\n",
       "      <th>TAX</th>\n",
       "      <th>PTRATIO</th>\n",
       "      <th>B</th>\n",
       "      <th>LSTAT</th>\n",
       "      <th>MEDV</th>\n",
       "    </tr>\n",
       "  </thead>\n",
       "  <tbody>\n",
       "    <tr>\n",
       "      <th>0</th>\n",
       "      <td>0.00632</td>\n",
       "      <td>NaN</td>\n",
       "      <td>2.31</td>\n",
       "      <td>0</td>\n",
       "      <td>0.538</td>\n",
       "      <td>6.575</td>\n",
       "      <td>65.2</td>\n",
       "      <td>4.0900</td>\n",
       "      <td>1</td>\n",
       "      <td>296.0</td>\n",
       "      <td>15.3</td>\n",
       "      <td>396.9</td>\n",
       "      <td>4.98</td>\n",
       "      <td>24.0</td>\n",
       "    </tr>\n",
       "    <tr>\n",
       "      <th>1</th>\n",
       "      <td>0.02731</td>\n",
       "      <td>NaN</td>\n",
       "      <td>7.07</td>\n",
       "      <td>0</td>\n",
       "      <td>0.469</td>\n",
       "      <td>6.421</td>\n",
       "      <td>78.9</td>\n",
       "      <td>4.9671</td>\n",
       "      <td>2</td>\n",
       "      <td>242.0</td>\n",
       "      <td>17.8</td>\n",
       "      <td>396.9</td>\n",
       "      <td>9.14</td>\n",
       "      <td>21.6</td>\n",
       "    </tr>\n",
       "  </tbody>\n",
       "</table>\n",
       "</div>"
      ],
      "text/plain": [
       "      CRIM  ZN  INDUS  CHAS    NOX     RM   AGE     DIS  RAD    TAX  PTRATIO  \\\n",
       "0  0.00632 NaN   2.31     0  0.538  6.575  65.2  4.0900    1  296.0     15.3   \n",
       "1  0.02731 NaN   7.07     0  0.469  6.421  78.9  4.9671    2  242.0     17.8   \n",
       "\n",
       "       B  LSTAT  MEDV  \n",
       "0  396.9   4.98  24.0  \n",
       "1  396.9   9.14  21.6  "
      ]
     },
     "execution_count": 53,
     "metadata": {},
     "output_type": "execute_result"
    }
   ],
   "source": [
    "import pandas as pd\n",
    "df = pd.read_csv('https://raw.githubusercontent.com/Datamanim/datarepo/main/krdatacertificate/e2_p1_1.csv')\n",
    "df.head(2)"
   ]
  },
  {
   "cell_type": "markdown",
   "id": "569db2d6-02bd-4137-b08e-8b64be43b800",
   "metadata": {},
   "source": [
    "## 주어진 Dataset에서 CRIM값이 가장 큰 10개의 지역을 구하고 10개의 지역의 CRIM값을 그 중 가장 작은 값으로 대체하라. 그리고 AGE 컬럼 값이 80이상인 대체 된 CRIM 평균값을 구하라"
   ]
  },
  {
   "cell_type": "code",
   "execution_count": 65,
   "id": "237cf0a9-a45e-4be3-8c5d-dc6fcf376bfa",
   "metadata": {},
   "outputs": [
    {
     "name": "stdout",
     "output_type": "stream",
     "text": [
      "5.759386625\n"
     ]
    },
    {
     "name": "stderr",
     "output_type": "stream",
     "text": [
      "/tmp/ipykernel_29420/242798355.py:2: SettingWithCopyWarning: \n",
      "A value is trying to be set on a copy of a slice from a DataFrame.\n",
      "Try using .loc[row_indexer,col_indexer] = value instead\n",
      "\n",
      "See the caveats in the documentation: https://pandas.pydata.org/pandas-docs/stable/user_guide/indexing.html#returning-a-view-versus-a-copy\n",
      "  df[:10].CRIM =df[:10].CRIM.min()\n"
     ]
    }
   ],
   "source": [
    "df = df.sort_values('CRIM',ascending=False).reset_index(drop=True)\n",
    "df[:10].CRIM =df[:10].CRIM.min()\n",
    "print(df.loc[df['AGE']>=80].CRIM.mean())"
   ]
  },
  {
   "cell_type": "markdown",
   "id": "445c87ab-1efe-465c-a24e-e9382b7df726",
   "metadata": {},
   "source": [
    "## 1-1에서 사용한 데이터에서 RM 중앙값으로 해당 컬럼의 결측치를 대체하라 그리고 해당 컬럼의 결측치 대치 전후의 표준편차 차이의 절댓값을 소숫점 이하 3째자리 까지 구하라"
   ]
  },
  {
   "cell_type": "code",
   "execution_count": 67,
   "id": "1f237016-86e2-484e-8d47-8c8b8d7ff124",
   "metadata": {},
   "outputs": [
    {
     "name": "stdout",
     "output_type": "stream",
     "text": [
      "0.027\n"
     ]
    }
   ],
   "source": [
    "print(round(df['RM'].std()- df['RM'].fillna(df['RM'].median()).std(),3))"
   ]
  },
  {
   "cell_type": "markdown",
   "id": "6326e907-87c3-4694-a2c1-1d6eb0aed5d6",
   "metadata": {},
   "source": [
    "## 주어진 Dataset의 DIS 평균으로 부터 1.5 * 표준편차를 벗어나는 영역을 이상치라고 판단하고 DIS 컬럼의 이상치들의 합을 구하여라."
   ]
  },
  {
   "cell_type": "code",
   "execution_count": 75,
   "id": "0e28f9b1-68ee-4735-bd3a-c4f688ada281",
   "metadata": {},
   "outputs": [
    {
     "name": "stdout",
     "output_type": "stream",
     "text": [
      "404.4101\n"
     ]
    }
   ],
   "source": [
    "print(df.loc[(df['DIS'] > df.DIS.mean() + 1.5*df.DIS.std())|(df['DIS'] < df.DIS.mean() - 1.5*df.DIS.std())].DIS.sum())"
   ]
  },
  {
   "cell_type": "markdown",
   "id": "d142c77a-120a-45f4-ba30-638c9aa8f700",
   "metadata": {},
   "source": [
    "# 작업 2유형"
   ]
  },
  {
   "cell_type": "markdown",
   "id": "8e9c6b1b-3f91-40df-bb88-35068412251a",
   "metadata": {},
   "source": [
    "## x_train 데이터로 학습한 모델을 x_test에 적용하여 예측한 결과를 제출하라. 평가 지표는 f1_score이다.\n",
    "\n"
   ]
  },
  {
   "cell_type": "code",
   "execution_count": 94,
   "id": "3b7ca452-08bc-4d6d-84b3-37e8ca81100d",
   "metadata": {},
   "outputs": [
    {
     "name": "stdout",
     "output_type": "stream",
     "text": [
      "       Warehouse_block  Mode_of_Shipment  Customer_care_calls  \\\n",
      "count      6598.000000       6598.000000          6598.000000   \n",
      "mean          2.348136          1.522279             2.912852   \n",
      "std           1.497476          0.756782             1.147120   \n",
      "min           0.000000          0.000000             0.000000   \n",
      "25%           1.000000          1.000000             2.000000   \n",
      "50%           3.000000          2.000000             3.000000   \n",
      "75%           4.000000          2.000000             4.000000   \n",
      "max           4.000000          2.000000             5.000000   \n",
      "\n",
      "       Customer_rating  Cost_of_the_Product  Prior_purchases  \\\n",
      "count      6598.000000          6598.000000      6598.000000   \n",
      "mean          2.991361           210.393149         3.577751   \n",
      "std           1.409624            48.258089         1.511394   \n",
      "min           1.000000            96.000000         2.000000   \n",
      "25%           2.000000           170.000000         3.000000   \n",
      "50%           3.000000           214.000000         3.000000   \n",
      "75%           4.000000           251.000000         4.000000   \n",
      "max           5.000000           310.000000        10.000000   \n",
      "\n",
      "       Product_importance       Gender  Discount_offered  Weight_in_gms  \n",
      "count         6598.000000  6598.000000       6598.000000    6598.000000  \n",
      "mean             1.347984     0.498181         13.353592    3604.191119  \n",
      "std              0.632243     0.500035         16.187267    1635.697627  \n",
      "min              0.000000     0.000000          1.000000    1001.000000  \n",
      "25%              1.000000     0.000000          4.000000    1834.250000  \n",
      "50%              1.000000     0.000000          7.000000    4119.500000  \n",
      "75%              2.000000     1.000000         10.000000    5027.500000  \n",
      "max              2.000000     1.000000         65.000000    7684.000000  \n",
      "       Reached.on.Time_Y.N\n",
      "count          6598.000000\n",
      "mean              0.596696\n",
      "std               0.490598\n",
      "min               0.000000\n",
      "25%               0.000000\n",
      "50%               1.000000\n",
      "75%               1.000000\n",
      "max               1.000000\n"
     ]
    },
    {
     "name": "stderr",
     "output_type": "stream",
     "text": [
      "/usr/local/lib/python3.11/site-packages/sklearn/base.py:1473: DataConversionWarning: A column-vector y was passed when a 1d array was expected. Please change the shape of y to (n_samples,), for example using ravel().\n",
      "  return fit_method(estimator, *args, **kwargs)\n"
     ]
    },
    {
     "name": "stdout",
     "output_type": "stream",
     "text": [
      "0.7015130674002751\n"
     ]
    }
   ],
   "source": [
    "import pandas as pd\n",
    "import numpy as np \n",
    "from sklearn.preprocessing import LabelEncoder, MinMaxScaler \n",
    "from sklearn.model_selection import train_test_split \n",
    "from sklearn.metrics import f1_score \n",
    "from sklearn.ensemble import RandomForestClassifier \n",
    "#데이터 로드\n",
    "x_train = pd.read_csv(\"https://raw.githubusercontent.com/Datamanim/datarepo/main/shipping/X_train.csv\")\n",
    "y_train = pd.read_csv(\"https://raw.githubusercontent.com/Datamanim/datarepo/main/shipping/y_train.csv\")\n",
    "x_test= pd.read_csv(\"https://raw.githubusercontent.com/Datamanim/datarepo/main/shipping/X_test.csv\")\n",
    "\n",
    "x_train.drop(['ID'],axis=1,inplace=True)\n",
    "y_train.drop(['ID'],axis=1,inplace=True)\n",
    "test = x_test.drop(['ID'],axis=1)\n",
    "\n",
    "for i in x_train.describe(include='object').columns:\n",
    "    x_train[i] = LabelEncoder().fit_transform(x_train[i])\n",
    "    test[i] = LabelEncoder().fit_transform(test[i])\n",
    "\n",
    "print(x_train.describe(include='all'))\n",
    "print(y_train.describe(include='all'))\n",
    "\n",
    "xtr,xte,ytr,yte = train_test_split(x_train,y_train,test_size = 0.3,random_state = 23)\n",
    "\n",
    "RFC = RandomForestClassifier(random_state = 80)\n",
    "RFC.fit(xtr,ytr)\n",
    "pred = RFC.predict(xte)\n",
    "\n",
    "f1 = f1_score(yte,pred)\n",
    "print(f1)\n",
    "\n",
    "x_test['Reached.on.Time_Y.N'] = RFC.predict(test)\n",
    "x_test[['ID','Reached.on.Time_Y.N']].to_csv('second_exam.csv',index=False)"
   ]
  },
  {
   "cell_type": "markdown",
   "id": "e359e692-bd12-4afc-8446-993727fc42ff",
   "metadata": {},
   "source": [
    "# 작업 3유형"
   ]
  },
  {
   "cell_type": "markdown",
   "id": "a3eb2057-1a3a-43ed-83f6-1b6d5f397b1d",
   "metadata": {},
   "source": [
    "## 데이터 로드"
   ]
  },
  {
   "cell_type": "code",
   "execution_count": 95,
   "id": "10a13a2b-a979-41e2-9af6-d846e5c2c4f6",
   "metadata": {},
   "outputs": [
    {
     "data": {
      "text/html": [
       "<div>\n",
       "<style scoped>\n",
       "    .dataframe tbody tr th:only-of-type {\n",
       "        vertical-align: middle;\n",
       "    }\n",
       "\n",
       "    .dataframe tbody tr th {\n",
       "        vertical-align: top;\n",
       "    }\n",
       "\n",
       "    .dataframe thead th {\n",
       "        text-align: right;\n",
       "    }\n",
       "</style>\n",
       "<table border=\"1\" class=\"dataframe\">\n",
       "  <thead>\n",
       "    <tr style=\"text-align: right;\">\n",
       "      <th></th>\n",
       "      <th>fish</th>\n",
       "      <th>height</th>\n",
       "    </tr>\n",
       "  </thead>\n",
       "  <tbody>\n",
       "    <tr>\n",
       "      <th>0</th>\n",
       "      <td>fish_1</td>\n",
       "      <td>33.74cm</td>\n",
       "    </tr>\n",
       "    <tr>\n",
       "      <th>1</th>\n",
       "      <td>fish_2</td>\n",
       "      <td>31.64cm</td>\n",
       "    </tr>\n",
       "    <tr>\n",
       "      <th>2</th>\n",
       "      <td>fish_3</td>\n",
       "      <td>27.49cm</td>\n",
       "    </tr>\n",
       "    <tr>\n",
       "      <th>3</th>\n",
       "      <td>fish_4</td>\n",
       "      <td>31.43cm</td>\n",
       "    </tr>\n",
       "    <tr>\n",
       "      <th>4</th>\n",
       "      <td>fish_5</td>\n",
       "      <td>27.56cm</td>\n",
       "    </tr>\n",
       "  </tbody>\n",
       "</table>\n",
       "</div>"
      ],
      "text/plain": [
       "     fish   height\n",
       "0  fish_1  33.74cm\n",
       "1  fish_2  31.64cm\n",
       "2  fish_3  27.49cm\n",
       "3  fish_4  31.43cm\n",
       "4  fish_5  27.56cm"
      ]
     },
     "execution_count": 95,
     "metadata": {},
     "output_type": "execute_result"
    }
   ],
   "source": [
    "import pandas as pd\n",
    "df = pd.read_csv('https://raw.githubusercontent.com/Datamanim/datarepo/main/krdatacertificate/e2_p3_1.csv')\n",
    "df.head(5)"
   ]
  },
  {
   "cell_type": "markdown",
   "id": "5524d4dc-1fab-48db-bc1a-3a942c4cda4e",
   "metadata": {},
   "source": [
    "## 122마리의 height 평균값을 m(미터) 단위로 소숫점 이하 5자리까지 실수 값만  출력하라"
   ]
  },
  {
   "cell_type": "code",
   "execution_count": 114,
   "id": "3f94fba0-a7ac-49d0-89b9-1456e5e63864",
   "metadata": {},
   "outputs": [
    {
     "name": "stdout",
     "output_type": "stream",
     "text": [
      "0.29951\n"
     ]
    }
   ],
   "source": [
    "df['height_int']= df['height'].str[:-2].astype(float)\n",
    "print(round(df['height_int'].mean()/100,5))"
   ]
  },
  {
   "cell_type": "markdown",
   "id": "51237de4-5c94-4bed-adc1-8aef033e5ca1",
   "metadata": {},
   "source": [
    "## 모집단의 평균 길이가 30cm 인지 확인하려 일표본 t 검정을 시행하여 확인하려한다. 검정통계량을 소숫점 이하 3째자리까지 구하여라"
   ]
  },
  {
   "cell_type": "code",
   "execution_count": 123,
   "id": "5cdd0b15-9f4d-45c8-9a87-d85581ef3f23",
   "metadata": {},
   "outputs": [
    {
     "name": "stdout",
     "output_type": "stream",
     "text": [
      "-0.217\n"
     ]
    }
   ],
   "source": [
    "from scipy import stats \n",
    "statistic,pvalue = stats.ttest_1samp(df['height_int'],30)\n",
    "print(round(statistic,3))"
   ]
  },
  {
   "cell_type": "markdown",
   "id": "de436e18-0b7d-4ba5-a228-04efb54d1a95",
   "metadata": {},
   "source": [
    "## 위의 통계량에 대한 p-값을 구하고 (반올림하여 소숫점 이하 3째자리), 유의수준 0.05하에서 귀무가설과 대립가설중 유의한 가설을 하나를 선택하시오(귀무/대립)"
   ]
  },
  {
   "cell_type": "code",
   "execution_count": 125,
   "id": "7f4c3c48-3dc5-4b7a-85e4-53dd96c88d73",
   "metadata": {},
   "outputs": [
    {
     "name": "stdout",
     "output_type": "stream",
     "text": [
      "0.829\n",
      "귀무\n"
     ]
    }
   ],
   "source": [
    "from scipy import stats \n",
    "statistic,pvalue = stats.ttest_1samp(df['height_int'],30)\n",
    "print(round(pvalue,3))\n",
    "print('귀무')"
   ]
  },
  {
   "cell_type": "markdown",
   "id": "c65bd9f2-e18c-4d54-84ef-57a50ced2160",
   "metadata": {},
   "source": [
    "## 데이터 로드\n",
    "### 조사결과 70%의 성인 남성이 3년 동안에 적어도 1번 치과를 찾는다고 할때, 21명의 성인 남성이 임의로 추출되었다고 하자.\n",
    "\n"
   ]
  },
  {
   "cell_type": "markdown",
   "id": "9498645a-2165-41c1-989b-8a60183be2c6",
   "metadata": {},
   "source": [
    "### 21명 중 16명 미만이 치과를 찾았을 확률(반올림하여 소숫점 이하 3자리)\n",
    "\n"
   ]
  },
  {
   "cell_type": "code",
   "execution_count": 128,
   "id": "05678513-8ed5-4682-8b0e-b1b4f49555f2",
   "metadata": {},
   "outputs": [
    {
     "name": "stdout",
     "output_type": "stream",
     "text": [
      "0.637\n"
     ]
    }
   ],
   "source": [
    "\n",
    "n = 21\n",
    "p = 0.7\n",
    "k = 16\n",
    "\n",
    "prob = stats.binom.cdf(k-1,n,p)\n",
    "print(round(prob,3))"
   ]
  },
  {
   "cell_type": "markdown",
   "id": "6a480841-1bda-496f-ad86-4414ff07ff5c",
   "metadata": {},
   "source": [
    "### 적어도 19명이 치과를 찾았을 확률(반올림하여 소숫점 이하 3자리)\n",
    "\n"
   ]
  },
  {
   "cell_type": "code",
   "execution_count": 132,
   "id": "286d441c-61c3-4eda-b616-e751ee4db612",
   "metadata": {},
   "outputs": [
    {
     "name": "stdout",
     "output_type": "stream",
     "text": [
      "0.027\n"
     ]
    }
   ],
   "source": [
    "n = 21 \n",
    "p = 0.7\n",
    "k = 19\n",
    "\n",
    "prob = 1- stats.binom.cdf(k-1,n,p)\n",
    "print(round(prob,3))"
   ]
  },
  {
   "cell_type": "code",
   "execution_count": null,
   "id": "4be01fa6-921c-4d5b-b94b-9599d5ec1429",
   "metadata": {},
   "outputs": [],
   "source": []
  }
 ],
 "metadata": {
  "kernelspec": {
   "display_name": "Python 3 (ipykernel)",
   "language": "python",
   "name": "python3"
  },
  "language_info": {
   "codemirror_mode": {
    "name": "ipython",
    "version": 3
   },
   "file_extension": ".py",
   "mimetype": "text/x-python",
   "name": "python",
   "nbconvert_exporter": "python",
   "pygments_lexer": "ipython3",
   "version": "3.11.9"
  }
 },
 "nbformat": 4,
 "nbformat_minor": 5
}
