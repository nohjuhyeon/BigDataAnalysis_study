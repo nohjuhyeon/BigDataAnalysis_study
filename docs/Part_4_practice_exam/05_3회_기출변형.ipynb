{
 "cells": [
  {
   "cell_type": "markdown",
   "id": "f6e3f1fa-50bd-4aac-b88c-5e47f9acdbb5",
   "metadata": {},
   "source": [
    "# 작업 1유형"
   ]
  },
  {
   "cell_type": "markdown",
   "id": "69487769-8481-4d41-8854-40b44fa95dca",
   "metadata": {},
   "source": [
    "## 데이터 로드"
   ]
  },
  {
   "cell_type": "code",
   "execution_count": 1,
   "id": "3a79d678-05e4-4639-9d19-6ab3d38e42ec",
   "metadata": {},
   "outputs": [
    {
     "data": {
      "text/html": [
       "<div>\n",
       "<style scoped>\n",
       "    .dataframe tbody tr th:only-of-type {\n",
       "        vertical-align: middle;\n",
       "    }\n",
       "\n",
       "    .dataframe tbody tr th {\n",
       "        vertical-align: top;\n",
       "    }\n",
       "\n",
       "    .dataframe thead th {\n",
       "        text-align: right;\n",
       "    }\n",
       "</style>\n",
       "<table border=\"1\" class=\"dataframe\">\n",
       "  <thead>\n",
       "    <tr style=\"text-align: right;\">\n",
       "      <th></th>\n",
       "      <th>longitude</th>\n",
       "      <th>latitude</th>\n",
       "      <th>housing_median_age</th>\n",
       "      <th>total_rooms</th>\n",
       "      <th>total_bedrooms</th>\n",
       "      <th>population</th>\n",
       "      <th>households</th>\n",
       "      <th>median_income</th>\n",
       "      <th>median_house_value</th>\n",
       "      <th>ocean_proximity</th>\n",
       "    </tr>\n",
       "  </thead>\n",
       "  <tbody>\n",
       "    <tr>\n",
       "      <th>0</th>\n",
       "      <td>-122.23</td>\n",
       "      <td>37.88</td>\n",
       "      <td>41.0</td>\n",
       "      <td>880.0</td>\n",
       "      <td>129.0</td>\n",
       "      <td>322.0</td>\n",
       "      <td>126.0</td>\n",
       "      <td>8.3252</td>\n",
       "      <td>452600.0</td>\n",
       "      <td>NEAR BAY</td>\n",
       "    </tr>\n",
       "    <tr>\n",
       "      <th>1</th>\n",
       "      <td>-122.22</td>\n",
       "      <td>37.86</td>\n",
       "      <td>21.0</td>\n",
       "      <td>7099.0</td>\n",
       "      <td>1106.0</td>\n",
       "      <td>2401.0</td>\n",
       "      <td>1138.0</td>\n",
       "      <td>8.3014</td>\n",
       "      <td>358500.0</td>\n",
       "      <td>NEAR BAY</td>\n",
       "    </tr>\n",
       "    <tr>\n",
       "      <th>2</th>\n",
       "      <td>-122.24</td>\n",
       "      <td>37.85</td>\n",
       "      <td>52.0</td>\n",
       "      <td>1467.0</td>\n",
       "      <td>190.0</td>\n",
       "      <td>496.0</td>\n",
       "      <td>177.0</td>\n",
       "      <td>7.2574</td>\n",
       "      <td>352100.0</td>\n",
       "      <td>NEAR BAY</td>\n",
       "    </tr>\n",
       "    <tr>\n",
       "      <th>3</th>\n",
       "      <td>-122.25</td>\n",
       "      <td>37.85</td>\n",
       "      <td>52.0</td>\n",
       "      <td>1274.0</td>\n",
       "      <td>235.0</td>\n",
       "      <td>558.0</td>\n",
       "      <td>219.0</td>\n",
       "      <td>5.6431</td>\n",
       "      <td>341300.0</td>\n",
       "      <td>NEAR BAY</td>\n",
       "    </tr>\n",
       "    <tr>\n",
       "      <th>4</th>\n",
       "      <td>-122.25</td>\n",
       "      <td>37.85</td>\n",
       "      <td>52.0</td>\n",
       "      <td>1627.0</td>\n",
       "      <td>280.0</td>\n",
       "      <td>565.0</td>\n",
       "      <td>259.0</td>\n",
       "      <td>3.8462</td>\n",
       "      <td>342200.0</td>\n",
       "      <td>NEAR BAY</td>\n",
       "    </tr>\n",
       "  </tbody>\n",
       "</table>\n",
       "</div>"
      ],
      "text/plain": [
       "   longitude  latitude  housing_median_age  total_rooms  total_bedrooms  \\\n",
       "0    -122.23     37.88                41.0        880.0           129.0   \n",
       "1    -122.22     37.86                21.0       7099.0          1106.0   \n",
       "2    -122.24     37.85                52.0       1467.0           190.0   \n",
       "3    -122.25     37.85                52.0       1274.0           235.0   \n",
       "4    -122.25     37.85                52.0       1627.0           280.0   \n",
       "\n",
       "   population  households  median_income  median_house_value ocean_proximity  \n",
       "0       322.0       126.0         8.3252            452600.0        NEAR BAY  \n",
       "1      2401.0      1138.0         8.3014            358500.0        NEAR BAY  \n",
       "2       496.0       177.0         7.2574            352100.0        NEAR BAY  \n",
       "3       558.0       219.0         5.6431            341300.0        NEAR BAY  \n",
       "4       565.0       259.0         3.8462            342200.0        NEAR BAY  "
      ]
     },
     "execution_count": 1,
     "metadata": {},
     "output_type": "execute_result"
    }
   ],
   "source": [
    "import pandas as pd\n",
    "df = pd.read_csv('https://raw.githubusercontent.com/Datamanim/datarepo/main/krdatacertificate/e3_p1_1.csv')\n",
    "df.head(5)"
   ]
  },
  {
   "cell_type": "markdown",
   "id": "91f6c28a-099a-443f-87b7-f878493f1fca",
   "metadata": {},
   "source": [
    "## 결측치가 하나라도 존재하는 행의 경우 경우 해당 행을 삭제하라. 그후 남은 데이터의 상위 70%에 해당하는 데이터만 남겨둔 후 median_income 컬럼의 1분위수를 반올림하여 소숫점이하 2째자리까지 구하여라"
   ]
  },
  {
   "cell_type": "code",
   "execution_count": 8,
   "id": "9a5a8303-86b2-4251-88b0-de3f5bdc49b6",
   "metadata": {},
   "outputs": [
    {
     "name": "stdout",
     "output_type": "stream",
     "text": [
      "2.51\n"
     ]
    }
   ],
   "source": [
    "df.dropna(inplace=True)\n",
    "print(round(df[:int(len(df)*0.7)].median_income.describe()['25%'],2))"
   ]
  },
  {
   "cell_type": "markdown",
   "id": "8fceaac5-54bd-48a5-a057-489bca0a3b67",
   "metadata": {},
   "source": [
    "## 데이터 로드"
   ]
  },
  {
   "cell_type": "code",
   "execution_count": 9,
   "id": "613c003f-db3e-475b-ba48-9f9fda1c7bcc",
   "metadata": {},
   "outputs": [
    {
     "data": {
      "text/html": [
       "<div>\n",
       "<style scoped>\n",
       "    .dataframe tbody tr th:only-of-type {\n",
       "        vertical-align: middle;\n",
       "    }\n",
       "\n",
       "    .dataframe tbody tr th {\n",
       "        vertical-align: top;\n",
       "    }\n",
       "\n",
       "    .dataframe thead th {\n",
       "        text-align: right;\n",
       "    }\n",
       "</style>\n",
       "<table border=\"1\" class=\"dataframe\">\n",
       "  <thead>\n",
       "    <tr style=\"text-align: right;\">\n",
       "      <th></th>\n",
       "      <th>Country Name</th>\n",
       "      <th>Country Code</th>\n",
       "      <th>Year</th>\n",
       "      <th>Value</th>\n",
       "    </tr>\n",
       "  </thead>\n",
       "  <tbody>\n",
       "    <tr>\n",
       "      <th>0</th>\n",
       "      <td>Arab World</td>\n",
       "      <td>ARB</td>\n",
       "      <td>1968</td>\n",
       "      <td>2576068.3</td>\n",
       "    </tr>\n",
       "    <tr>\n",
       "      <th>1</th>\n",
       "      <td>Arab World</td>\n",
       "      <td>ARB</td>\n",
       "      <td>1969</td>\n",
       "      <td>2843420.4</td>\n",
       "    </tr>\n",
       "    <tr>\n",
       "      <th>2</th>\n",
       "      <td>Arab World</td>\n",
       "      <td>ARB</td>\n",
       "      <td>1970</td>\n",
       "      <td>3138550.0</td>\n",
       "    </tr>\n",
       "    <tr>\n",
       "      <th>3</th>\n",
       "      <td>Arab World</td>\n",
       "      <td>ARB</td>\n",
       "      <td>1971</td>\n",
       "      <td>3642691.0</td>\n",
       "    </tr>\n",
       "    <tr>\n",
       "      <th>4</th>\n",
       "      <td>Arab World</td>\n",
       "      <td>ARB</td>\n",
       "      <td>1972</td>\n",
       "      <td>4331605.7</td>\n",
       "    </tr>\n",
       "  </tbody>\n",
       "</table>\n",
       "</div>"
      ],
      "text/plain": [
       "  Country Name Country Code  Year      Value\n",
       "0   Arab World          ARB  1968  2576068.3\n",
       "1   Arab World          ARB  1969  2843420.4\n",
       "2   Arab World          ARB  1970  3138550.0\n",
       "3   Arab World          ARB  1971  3642691.0\n",
       "4   Arab World          ARB  1972  4331605.7"
      ]
     },
     "execution_count": 9,
     "metadata": {},
     "output_type": "execute_result"
    }
   ],
   "source": [
    "import pandas as pd\n",
    "df =pd.read_csv('https://raw.githubusercontent.com/Datamanim/datarepo/main/krdatacertificate/e3_p1_2.csv')\n",
    "df.head()"
   ]
  },
  {
   "cell_type": "markdown",
   "id": "7852a5a1-ac99-4c39-bf73-1d131321db41",
   "metadata": {},
   "source": [
    "## 1990년도는 해당년도 평균 이하 GDP를 가지지만, 2010년도에는 해당년도 평균 이상 GDP를 가지는 국가의 숫자를 구하여라"
   ]
  },
  {
   "cell_type": "code",
   "execution_count": 20,
   "id": "b2b868b2-edf9-43de-b1ae-8d0d71ea3274",
   "metadata": {},
   "outputs": [
    {
     "name": "stdout",
     "output_type": "stream",
     "text": [
      "5\n"
     ]
    }
   ],
   "source": [
    "print(len(set(df.loc[(df['Year'] == 1990)&(df['Value'] <= df.loc[df['Year']==1990].Value.mean())]['Country Name'].unique()) &set(df.loc[(df['Year'] == 2010)&(df['Value'] >= df.loc[df['Year']==2010].Value.mean())]['Country Name'].unique())))"
   ]
  },
  {
   "cell_type": "markdown",
   "id": "0df32ee0-623e-454d-af64-f8ebec7e5460",
   "metadata": {},
   "source": [
    "## 데이터 로드"
   ]
  },
  {
   "cell_type": "code",
   "execution_count": 21,
   "id": "4eca9210-d298-4ccc-8cb0-e8b1edabc91a",
   "metadata": {},
   "outputs": [
    {
     "data": {
      "text/html": [
       "<div>\n",
       "<style scoped>\n",
       "    .dataframe tbody tr th:only-of-type {\n",
       "        vertical-align: middle;\n",
       "    }\n",
       "\n",
       "    .dataframe tbody tr th {\n",
       "        vertical-align: top;\n",
       "    }\n",
       "\n",
       "    .dataframe thead th {\n",
       "        text-align: right;\n",
       "    }\n",
       "</style>\n",
       "<table border=\"1\" class=\"dataframe\">\n",
       "  <thead>\n",
       "    <tr style=\"text-align: right;\">\n",
       "      <th></th>\n",
       "      <th>PassengerId</th>\n",
       "      <th>Survived</th>\n",
       "      <th>Pclass</th>\n",
       "      <th>Name</th>\n",
       "      <th>Sex</th>\n",
       "      <th>Age</th>\n",
       "      <th>SibSp</th>\n",
       "      <th>Parch</th>\n",
       "      <th>Ticket</th>\n",
       "      <th>Fare</th>\n",
       "      <th>Cabin</th>\n",
       "      <th>Embarked</th>\n",
       "    </tr>\n",
       "  </thead>\n",
       "  <tbody>\n",
       "    <tr>\n",
       "      <th>0</th>\n",
       "      <td>1</td>\n",
       "      <td>0</td>\n",
       "      <td>3.0</td>\n",
       "      <td>Braund, Mr. Owen Harris</td>\n",
       "      <td>male</td>\n",
       "      <td>22.0</td>\n",
       "      <td>1.0</td>\n",
       "      <td>0.0</td>\n",
       "      <td>A/5 21171</td>\n",
       "      <td>7.2500</td>\n",
       "      <td>NaN</td>\n",
       "      <td>S</td>\n",
       "    </tr>\n",
       "    <tr>\n",
       "      <th>1</th>\n",
       "      <td>2</td>\n",
       "      <td>1</td>\n",
       "      <td>1.0</td>\n",
       "      <td>Cumings, Mrs. John Bradley (Florence Briggs Th...</td>\n",
       "      <td>female</td>\n",
       "      <td>38.0</td>\n",
       "      <td>1.0</td>\n",
       "      <td>0.0</td>\n",
       "      <td>PC 17599</td>\n",
       "      <td>71.2833</td>\n",
       "      <td>C85</td>\n",
       "      <td>C</td>\n",
       "    </tr>\n",
       "    <tr>\n",
       "      <th>2</th>\n",
       "      <td>3</td>\n",
       "      <td>1</td>\n",
       "      <td>3.0</td>\n",
       "      <td>Heikkinen, Miss. Laina</td>\n",
       "      <td>female</td>\n",
       "      <td>26.0</td>\n",
       "      <td>0.0</td>\n",
       "      <td>0.0</td>\n",
       "      <td>STON/O2. 3101282</td>\n",
       "      <td>7.9250</td>\n",
       "      <td>C85</td>\n",
       "      <td>S</td>\n",
       "    </tr>\n",
       "    <tr>\n",
       "      <th>3</th>\n",
       "      <td>4</td>\n",
       "      <td>1</td>\n",
       "      <td>1.0</td>\n",
       "      <td>Futrelle, Mrs. Jacques Heath (Lily May Peel)</td>\n",
       "      <td>female</td>\n",
       "      <td>35.0</td>\n",
       "      <td>1.0</td>\n",
       "      <td>0.0</td>\n",
       "      <td>113803</td>\n",
       "      <td>53.1000</td>\n",
       "      <td>C123</td>\n",
       "      <td>S</td>\n",
       "    </tr>\n",
       "    <tr>\n",
       "      <th>4</th>\n",
       "      <td>5</td>\n",
       "      <td>0</td>\n",
       "      <td>3.0</td>\n",
       "      <td>Allen, Mr. William Henry</td>\n",
       "      <td>male</td>\n",
       "      <td>35.0</td>\n",
       "      <td>0.0</td>\n",
       "      <td>0.0</td>\n",
       "      <td>373450</td>\n",
       "      <td>8.0500</td>\n",
       "      <td>C123</td>\n",
       "      <td>S</td>\n",
       "    </tr>\n",
       "  </tbody>\n",
       "</table>\n",
       "</div>"
      ],
      "text/plain": [
       "   PassengerId  Survived  Pclass  \\\n",
       "0            1         0     3.0   \n",
       "1            2         1     1.0   \n",
       "2            3         1     3.0   \n",
       "3            4         1     1.0   \n",
       "4            5         0     3.0   \n",
       "\n",
       "                                                Name     Sex   Age  SibSp  \\\n",
       "0                            Braund, Mr. Owen Harris    male  22.0    1.0   \n",
       "1  Cumings, Mrs. John Bradley (Florence Briggs Th...  female  38.0    1.0   \n",
       "2                             Heikkinen, Miss. Laina  female  26.0    0.0   \n",
       "3       Futrelle, Mrs. Jacques Heath (Lily May Peel)  female  35.0    1.0   \n",
       "4                           Allen, Mr. William Henry    male  35.0    0.0   \n",
       "\n",
       "   Parch            Ticket     Fare Cabin Embarked  \n",
       "0    0.0         A/5 21171   7.2500   NaN        S  \n",
       "1    0.0          PC 17599  71.2833   C85        C  \n",
       "2    0.0  STON/O2. 3101282   7.9250   C85        S  \n",
       "3    0.0            113803  53.1000  C123        S  \n",
       "4    0.0            373450   8.0500  C123        S  "
      ]
     },
     "execution_count": 21,
     "metadata": {},
     "output_type": "execute_result"
    }
   ],
   "source": [
    "import pandas as pd\n",
    "df = pd.read_csv('https://raw.githubusercontent.com/Datamanim/datarepo/main/krdatacertificate/e3_p1_3.csv')\n",
    "df.head()"
   ]
  },
  {
   "cell_type": "markdown",
   "id": "9f52af3f-1081-4c72-94e5-b26b53f2149a",
   "metadata": {},
   "source": [
    "## 데이터에서 결측치가 가장 많은 컬럼을 출력하라"
   ]
  },
  {
   "cell_type": "code",
   "execution_count": 24,
   "id": "96238522-6dd6-4ffe-af3a-083272d1c9ff",
   "metadata": {},
   "outputs": [
    {
     "name": "stdout",
     "output_type": "stream",
     "text": [
      "Fare\n"
     ]
    }
   ],
   "source": [
    "print(df.isnull().sum().sort_values(ascending=False).index[0])"
   ]
  },
  {
   "cell_type": "markdown",
   "id": "d43ff2e4-c9ba-4e60-b78a-73a0d4085715",
   "metadata": {},
   "source": [
    "# 작업 2유형 \n",
    "## 종속 변수 : TravelInsurance , TravelInsurance가 1일 확률을 구해서 제출하라. 평가지표 : auc\n",
    "## 제출 파일의 컬럼은 ID, proba 두개만 존재해야한다.\n",
    "\n"
   ]
  },
  {
   "cell_type": "code",
   "execution_count": 42,
   "id": "d04a8267-9a99-4aae-b836-ca761d92f7f7",
   "metadata": {},
   "outputs": [
    {
     "name": "stdout",
     "output_type": "stream",
     "text": [
      "               Age  Employment Type  GraduateOrNot  AnnualIncome  \\\n",
      "count  1490.000000      1490.000000    1490.000000  1.490000e+03   \n",
      "mean     29.716779         0.712081       0.846980  9.320470e+05   \n",
      "std       2.931325         0.452945       0.360128  3.760655e+05   \n",
      "min      25.000000         0.000000       0.000000  3.000000e+05   \n",
      "25%      28.000000         0.000000       1.000000  6.000000e+05   \n",
      "50%      29.000000         1.000000       1.000000  9.000000e+05   \n",
      "75%      32.000000         1.000000       1.000000  1.250000e+06   \n",
      "max      35.000000         1.000000       1.000000  1.800000e+06   \n",
      "\n",
      "       FamilyMembers  ChronicDiseases  FrequentFlyer  EverTravelledAbroad  \n",
      "count    1490.000000      1490.000000    1490.000000          1490.000000  \n",
      "mean        4.761745         0.285235       0.204698             0.189933  \n",
      "std         1.615161         0.451678       0.403616             0.392380  \n",
      "min         2.000000         0.000000       0.000000             0.000000  \n",
      "25%         4.000000         0.000000       0.000000             0.000000  \n",
      "50%         5.000000         0.000000       0.000000             0.000000  \n",
      "75%         6.000000         1.000000       0.000000             0.000000  \n",
      "max         9.000000         1.000000       1.000000             1.000000  \n",
      "count    1490.000000\n",
      "mean        0.356376\n",
      "std         0.479089\n",
      "min         0.000000\n",
      "25%         0.000000\n",
      "50%         0.000000\n",
      "75%         1.000000\n",
      "max         1.000000\n",
      "Name: TravelInsurance, dtype: float64\n",
      "              Age  Employment Type  GraduateOrNot  AnnualIncome  \\\n",
      "count  497.000000       497.000000     497.000000  4.970000e+02   \n",
      "mean    29.450704         0.716298       0.865191  9.349095e+05   \n",
      "std      2.852221         0.451248       0.341863  3.795871e+05   \n",
      "min     25.000000         0.000000       0.000000  3.000000e+05   \n",
      "25%     28.000000         0.000000       1.000000  6.000000e+05   \n",
      "50%     28.000000         1.000000       1.000000  9.000000e+05   \n",
      "75%     32.000000         1.000000       1.000000  1.250000e+06   \n",
      "max     35.000000         1.000000       1.000000  1.750000e+06   \n",
      "\n",
      "       FamilyMembers  ChronicDiseases  FrequentFlyer  EverTravelledAbroad  \n",
      "count     497.000000       497.000000     497.000000           497.000000  \n",
      "mean        4.726358         0.255533       0.225352             0.195171  \n",
      "std         1.594335         0.436600       0.418235             0.396732  \n",
      "min         2.000000         0.000000       0.000000             0.000000  \n",
      "25%         4.000000         0.000000       0.000000             0.000000  \n",
      "50%         4.000000         0.000000       0.000000             0.000000  \n",
      "75%         6.000000         1.000000       0.000000             0.000000  \n",
      "max         9.000000         1.000000       1.000000             1.000000  \n",
      "0.7530134796509116\n"
     ]
    }
   ],
   "source": [
    "import pandas as pd\n",
    "import numpy as np\n",
    "from sklearn.preprocessing import LabelEncoder\n",
    "from sklearn.metrics import roc_auc_score \n",
    "from sklearn.model_selection import train_test_split\n",
    "from sklearn.ensemble import RandomForestClassifier \n",
    "\n",
    "train = pd.read_csv('https://raw.githubusercontent.com/Datamanim/datarepo/main/krdatacertificate/e3_p2_train_.csv')\n",
    "test = pd.read_csv('https://raw.githubusercontent.com/Datamanim/datarepo/main/krdatacertificate/e3_p2_test_.csv')\n",
    "\n",
    "x = train.drop(['ID','TravelInsurance'],axis=1)\n",
    "y = train['TravelInsurance']\n",
    "z = test.drop(['ID'],axis=1)\n",
    "\n",
    "for i in x.describe(include='object').columns:\n",
    "    x[i] = LabelEncoder().fit_transform(x[i])\n",
    "    z[i] = LabelEncoder().fit_transform(z[i])\n",
    "\n",
    "print(x.describe(include='all'))\n",
    "print(y.describe(include='all'))\n",
    "print(z.describe(include='all'))\n",
    "\n",
    "xtr,xte,ytr,yte = train_test_split(x,y,test_size=0.3,random_state = 23)\n",
    "\n",
    "\n",
    "RFC = RandomForestClassifier(random_state = 23)\n",
    "RFC.fit(xtr,ytr)\n",
    "pred_proba = RFC.predict_proba(xte)[:,1]\n",
    "\n",
    "auc = roc_auc_score(yte,pred_proba)\n",
    "print(auc)\n",
    "\n",
    "pred_proba = RFC.predict_proba(z)[:,1]\n",
    "test['TravelInsurance'] = pred_proba\n",
    "# print(help(pd.to_csv))\n",
    "test[['ID','TravelInsurance']].to_csv('third_exam.csv',index=False)"
   ]
  },
  {
   "cell_type": "markdown",
   "id": "0b44363c-80a4-4f24-8c25-a6a98b6bf090",
   "metadata": {},
   "source": [
    "# 작업 3유형"
   ]
  },
  {
   "cell_type": "markdown",
   "id": "c914e021-7890-4e92-98ed-eae3db7e66e1",
   "metadata": {},
   "source": [
    "## 데이터 로드\n",
    "## 투약 후 체중에서 투약 전 체중을 뺏을 때 값은 일반 적으로 세가지 등급으로 나눈다. -3이하 : A등급, -3초과 0이하 : B등급, 0 초과 : C등급. 약 실험에서 A,B,C 그룹간의 인원 수 비율은 2:1:1로 알려져 있다. 위 데이터 표본은 각 범주의 비율에 적합한지 카이제곱 검정하려한다.\n",
    "## 일반적으로 관찰된 빈도가 기대된 빈도와 얼마나 일치하는지를 검정하는 통계적 방법"
   ]
  },
  {
   "cell_type": "code",
   "execution_count": 43,
   "id": "efaf7260-611c-42bd-8899-336abdfac5c5",
   "metadata": {},
   "outputs": [
    {
     "data": {
      "text/html": [
       "<div>\n",
       "<style scoped>\n",
       "    .dataframe tbody tr th:only-of-type {\n",
       "        vertical-align: middle;\n",
       "    }\n",
       "\n",
       "    .dataframe tbody tr th {\n",
       "        vertical-align: top;\n",
       "    }\n",
       "\n",
       "    .dataframe thead th {\n",
       "        text-align: right;\n",
       "    }\n",
       "</style>\n",
       "<table border=\"1\" class=\"dataframe\">\n",
       "  <thead>\n",
       "    <tr style=\"text-align: right;\">\n",
       "      <th></th>\n",
       "      <th>ID</th>\n",
       "      <th>투약전</th>\n",
       "      <th>투약후</th>\n",
       "    </tr>\n",
       "  </thead>\n",
       "  <tbody>\n",
       "    <tr>\n",
       "      <th>0</th>\n",
       "      <td>user_1</td>\n",
       "      <td>55.137</td>\n",
       "      <td>56.106</td>\n",
       "    </tr>\n",
       "    <tr>\n",
       "      <th>1</th>\n",
       "      <td>user_2</td>\n",
       "      <td>66.584</td>\n",
       "      <td>60.409</td>\n",
       "    </tr>\n",
       "    <tr>\n",
       "      <th>2</th>\n",
       "      <td>user_3</td>\n",
       "      <td>52.259</td>\n",
       "      <td>50.639</td>\n",
       "    </tr>\n",
       "    <tr>\n",
       "      <th>3</th>\n",
       "      <td>user_4</td>\n",
       "      <td>77.081</td>\n",
       "      <td>69.164</td>\n",
       "    </tr>\n",
       "    <tr>\n",
       "      <th>4</th>\n",
       "      <td>user_5</td>\n",
       "      <td>62.677</td>\n",
       "      <td>57.622</td>\n",
       "    </tr>\n",
       "  </tbody>\n",
       "</table>\n",
       "</div>"
      ],
      "text/plain": [
       "       ID     투약전     투약후\n",
       "0  user_1  55.137  56.106\n",
       "1  user_2  66.584  60.409\n",
       "2  user_3  52.259  50.639\n",
       "3  user_4  77.081  69.164\n",
       "4  user_5  62.677  57.622"
      ]
     },
     "execution_count": 43,
     "metadata": {},
     "output_type": "execute_result"
    }
   ],
   "source": [
    "import pandas as pd \n",
    "df= pd.read_csv('https://raw.githubusercontent.com/Datamanim/datarepo/main/krdatacertificate/e3_p3_1.csv')\n",
    "df.head()"
   ]
  },
  {
   "cell_type": "markdown",
   "id": "06526798-31a5-493b-83cf-3e4192fefa17",
   "metadata": {},
   "source": [
    "## A 등급에 해당하는 유저는 몇명인지 확인하라"
   ]
  },
  {
   "cell_type": "code",
   "execution_count": 50,
   "id": "ef038380-bad8-4ed7-bdf6-b6c6320d1920",
   "metadata": {},
   "outputs": [
    {
     "name": "stdout",
     "output_type": "stream",
     "text": [
      "121\n"
     ]
    }
   ],
   "source": [
    "def grade(x):\n",
    "    if x <= -3:\n",
    "        return 'A'\n",
    "    elif x <= 0 and x > -3:\n",
    "        return 'B'\n",
    "    elif x > 0:\n",
    "        return 'C'\n",
    "df['diff'] = df['투약후'] - df['투약전']\n",
    "df['grade'] = df['diff'].apply(grade)\n",
    "print(len(df.loc[df['grade']=='A']))\n"
   ]
  },
  {
   "cell_type": "markdown",
   "id": "9c32ebf7-da58-4fe8-ab67-53b6bc1fe6ea",
   "metadata": {},
   "source": [
    "## 카이제곱검정 통계량을 반올림하여 소숫점 이하 3째자리까지 구하여라"
   ]
  },
  {
   "cell_type": "code",
   "execution_count": 81,
   "id": "c095f80b-9af4-4131-96df-5d9257e41ffe",
   "metadata": {},
   "outputs": [
    {
     "name": "stdout",
     "output_type": "stream",
     "text": [
      "3.6127659574468085\n"
     ]
    }
   ],
   "source": [
    "from scipy import stats \n",
    "result = df.grade.value_counts().to_frame()\n",
    "result['ratio'] = {'A':0.5*result['count'].sum(),'B':0.25*result['count'].sum(),'C':0.25*result['count'].sum()}\n",
    "ct = pd.crosstab(result['ratio'],result['count'])\n",
    "statistic, pvalue = stats.chisquare(result['count'],result['ratio'])\n",
    "print(statistic)"
   ]
  },
  {
   "cell_type": "markdown",
   "id": "87107b09-899a-4439-8588-5adf5b009ce9",
   "metadata": {},
   "source": [
    "## 카이제곱 검정 p값을 반올림하여 소숫점 이하 3자리까지 구하고, 유의수준 0.05하에서 귀무가설과 대립가설중 유의한 가설을 하나를 선택하시오(귀무/대립)"
   ]
  },
  {
   "cell_type": "code",
   "execution_count": 83,
   "id": "8ba3d5de-5dce-4fe7-8555-47eb62cad608",
   "metadata": {},
   "outputs": [
    {
     "name": "stdout",
     "output_type": "stream",
     "text": [
      "0.164\n",
      "귀무가설\n"
     ]
    }
   ],
   "source": [
    "print(round(pvalue,3))\n",
    "print('귀무가설')"
   ]
  },
  {
   "cell_type": "markdown",
   "id": "dfffa225-7240-4c76-9890-3a1a25e7e6cb",
   "metadata": {},
   "source": [
    "## 데이터 로드"
   ]
  },
  {
   "cell_type": "code",
   "execution_count": 84,
   "id": "71b2ea04-04a1-4e1b-aa5a-00984d98a585",
   "metadata": {},
   "outputs": [
    {
     "data": {
      "text/html": [
       "<div>\n",
       "<style scoped>\n",
       "    .dataframe tbody tr th:only-of-type {\n",
       "        vertical-align: middle;\n",
       "    }\n",
       "\n",
       "    .dataframe tbody tr th {\n",
       "        vertical-align: top;\n",
       "    }\n",
       "\n",
       "    .dataframe thead th {\n",
       "        text-align: right;\n",
       "    }\n",
       "</style>\n",
       "<table border=\"1\" class=\"dataframe\">\n",
       "  <thead>\n",
       "    <tr style=\"text-align: right;\">\n",
       "      <th></th>\n",
       "      <th>rpm</th>\n",
       "      <th>group</th>\n",
       "    </tr>\n",
       "  </thead>\n",
       "  <tbody>\n",
       "    <tr>\n",
       "      <th>0</th>\n",
       "      <td>163.6</td>\n",
       "      <td>A</td>\n",
       "    </tr>\n",
       "    <tr>\n",
       "      <th>1</th>\n",
       "      <td>246.9</td>\n",
       "      <td>A</td>\n",
       "    </tr>\n",
       "    <tr>\n",
       "      <th>2</th>\n",
       "      <td>234.9</td>\n",
       "      <td>A</td>\n",
       "    </tr>\n",
       "    <tr>\n",
       "      <th>3</th>\n",
       "      <td>156.9</td>\n",
       "      <td>A</td>\n",
       "    </tr>\n",
       "    <tr>\n",
       "      <th>4</th>\n",
       "      <td>226.6</td>\n",
       "      <td>A</td>\n",
       "    </tr>\n",
       "  </tbody>\n",
       "</table>\n",
       "</div>"
      ],
      "text/plain": [
       "     rpm group\n",
       "0  163.6     A\n",
       "1  246.9     A\n",
       "2  234.9     A\n",
       "3  156.9     A\n",
       "4  226.6     A"
      ]
     },
     "execution_count": 84,
     "metadata": {},
     "output_type": "execute_result"
    }
   ],
   "source": [
    "import pandas as pd\n",
    "df = pd.read_csv('https://raw.githubusercontent.com/Datamanim/datarepo/main/krdatacertificate/e3_p3_2_.csv')\n",
    "df.head()"
   ]
  },
  {
   "cell_type": "markdown",
   "id": "622f0cb8-77f9-4ff1-9a92-46d150074f3c",
   "metadata": {},
   "source": [
    "## A,B 공장 각각 정규성을 가지는지 샤피로 검정을 통해 확인하라. (각 공장의 pvalue 출력할 것)"
   ]
  },
  {
   "cell_type": "code",
   "execution_count": 88,
   "id": "852def80-7fa2-49a1-8e80-0ea34923aec2",
   "metadata": {},
   "outputs": [
    {
     "name": "stdout",
     "output_type": "stream",
     "text": [
      "0.3979080924239819\n",
      "정규분포\n",
      "0.9562843067714429\n",
      "정규분포\n"
     ]
    }
   ],
   "source": [
    "statistics, pvalue = stats.shapiro(df.loc[df['group']=='A'].rpm)\n",
    "print(pvalue)\n",
    "if pvalue >= 0.05:\n",
    "    print('정규분포')\n",
    "else:\n",
    "    print('비정규분포')\n",
    "\n",
    "statistics, pvalue = stats.shapiro(df.loc[df['group']=='B'].rpm)\n",
    "print(pvalue)\n",
    "if pvalue >= 0.05:\n",
    "    print('정규분포')\n",
    "else:\n",
    "    print('비정규분포')\n",
    "\n"
   ]
  },
  {
   "cell_type": "markdown",
   "id": "d69f36c0-17fc-477a-9aab-d34c6c9b3847",
   "metadata": {},
   "source": [
    "## A,B 공장 생산 제품의 rpm은 등분산인지 레베네 검정을 통해 확인하라."
   ]
  },
  {
   "cell_type": "code",
   "execution_count": 97,
   "id": "7e4d3611-c78c-48aa-924d-7faec9f30d92",
   "metadata": {},
   "outputs": [
    {
     "name": "stdout",
     "output_type": "stream",
     "text": [
      "0.9038351280607142\n",
      "0.014634456943777612\n",
      "등분산\n"
     ]
    }
   ],
   "source": [
    "\n",
    "statistics, pvalue = stats.levene(df.loc[df['group']=='A'].rpm,df.loc[df['group']=='B'].rpm)\n",
    "print(pvalue)\n",
    "print(statistics)\n",
    "if pvalue >= 0.05:\n",
    "    print('등분산')\n",
    "else:\n",
    "    print('이분산')"
   ]
  },
  {
   "cell_type": "markdown",
   "id": "72817c5e-fa21-4571-8b7a-bd3931aff51f",
   "metadata": {},
   "source": [
    "## 대응 표본 t 검정을 통해 B공장 제품들의 rpm이 A 공장 제품의 rpm보다 크다고 말할 수 있는지 검정하라. pvalue를 소숫점 이하 3자리까지 출력하고 귀무가설, 대립가설 중 하나를  출력하라*"
   ]
  },
  {
   "cell_type": "code",
   "execution_count": 101,
   "id": "e3661fbd-1a22-4d9f-ae17-779ae6a90a21",
   "metadata": {},
   "outputs": [
    {
     "name": "stdout",
     "output_type": "stream",
     "text": [
      "0.009\n",
      "대립가설\n"
     ]
    }
   ],
   "source": [
    "statistic, pvalue = stats.ttest_rel(df.loc[df['group']=='B'].rpm,df.loc[df['group']=='A'].rpm,alternative='greater')\n",
    "print(round(pvalue,3))\n",
    "if pvalue >= 0.05:\n",
    "    print('귀무가설')\n",
    "else:\n",
    "    print('대립가설')"
   ]
  },
  {
   "cell_type": "code",
   "execution_count": null,
   "id": "681569cb-d21c-4ed2-8277-a64b51aee9db",
   "metadata": {},
   "outputs": [],
   "source": []
  }
 ],
 "metadata": {
  "kernelspec": {
   "display_name": "Python 3 (ipykernel)",
   "language": "python",
   "name": "python3"
  },
  "language_info": {
   "codemirror_mode": {
    "name": "ipython",
    "version": 3
   },
   "file_extension": ".py",
   "mimetype": "text/x-python",
   "name": "python",
   "nbconvert_exporter": "python",
   "pygments_lexer": "ipython3",
   "version": "3.11.9"
  }
 },
 "nbformat": 4,
 "nbformat_minor": 5
}
