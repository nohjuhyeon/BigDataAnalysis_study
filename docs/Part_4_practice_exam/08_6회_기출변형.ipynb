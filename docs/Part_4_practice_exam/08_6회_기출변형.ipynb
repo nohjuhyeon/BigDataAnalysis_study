{
 "cells": [
  {
   "cell_type": "markdown",
   "id": "5f54c733-1aa0-438c-a140-7a04777df928",
   "metadata": {},
   "source": [
    "# 작업 1유형"
   ]
  },
  {
   "cell_type": "markdown",
   "id": "109d896e-c91d-4211-afa1-fc3dd240e49b",
   "metadata": {},
   "source": [
    "## 데이터 로드"
   ]
  },
  {
   "cell_type": "code",
   "execution_count": 1,
   "id": "dca11be6-a000-4cc9-8e26-2e35ca40fb2c",
   "metadata": {},
   "outputs": [
    {
     "data": {
      "text/html": [
       "<div>\n",
       "<style scoped>\n",
       "    .dataframe tbody tr th:only-of-type {\n",
       "        vertical-align: middle;\n",
       "    }\n",
       "\n",
       "    .dataframe tbody tr th {\n",
       "        vertical-align: top;\n",
       "    }\n",
       "\n",
       "    .dataframe thead th {\n",
       "        text-align: right;\n",
       "    }\n",
       "</style>\n",
       "<table border=\"1\" class=\"dataframe\">\n",
       "  <thead>\n",
       "    <tr style=\"text-align: right;\">\n",
       "      <th></th>\n",
       "      <th>구급보고서번호</th>\n",
       "      <th>소방서명</th>\n",
       "      <th>환자증상구분명1</th>\n",
       "      <th>신고일자</th>\n",
       "      <th>신고시각</th>\n",
       "      <th>출동일자</th>\n",
       "      <th>출동시각</th>\n",
       "      <th>환자직업명</th>\n",
       "      <th>사고발생장소</th>\n",
       "    </tr>\n",
       "  </thead>\n",
       "  <tbody>\n",
       "    <tr>\n",
       "      <th>0</th>\n",
       "      <td>20211122103M01526</td>\n",
       "      <td>중랑소방서</td>\n",
       "      <td>심계항진</td>\n",
       "      <td>20210330</td>\n",
       "      <td>104800</td>\n",
       "      <td>20210330</td>\n",
       "      <td>105042</td>\n",
       "      <td>무직</td>\n",
       "      <td>집</td>\n",
       "    </tr>\n",
       "    <tr>\n",
       "      <th>1</th>\n",
       "      <td>20211111105M00771</td>\n",
       "      <td>노원소방서</td>\n",
       "      <td>복통</td>\n",
       "      <td>20210412</td>\n",
       "      <td>225600</td>\n",
       "      <td>20210412</td>\n",
       "      <td>225827</td>\n",
       "      <td>기타</td>\n",
       "      <td>집</td>\n",
       "    </tr>\n",
       "    <tr>\n",
       "      <th>2</th>\n",
       "      <td>20211115104M00864</td>\n",
       "      <td>서초소방서</td>\n",
       "      <td>심계항진</td>\n",
       "      <td>20210303</td>\n",
       "      <td>194100</td>\n",
       "      <td>20210303</td>\n",
       "      <td>194500</td>\n",
       "      <td>직장인</td>\n",
       "      <td>상업시설</td>\n",
       "    </tr>\n",
       "    <tr>\n",
       "      <th>3</th>\n",
       "      <td>20211113107M01869</td>\n",
       "      <td>마포소방서</td>\n",
       "      <td>고열</td>\n",
       "      <td>20211225</td>\n",
       "      <td>235400</td>\n",
       "      <td>20211226</td>\n",
       "      <td>331</td>\n",
       "      <td>유아</td>\n",
       "      <td>집</td>\n",
       "    </tr>\n",
       "    <tr>\n",
       "      <th>4</th>\n",
       "      <td>20211118102M05820</td>\n",
       "      <td>강동소방서</td>\n",
       "      <td>고열</td>\n",
       "      <td>20211019</td>\n",
       "      <td>12100</td>\n",
       "      <td>20211019</td>\n",
       "      <td>12322</td>\n",
       "      <td>무직</td>\n",
       "      <td>집</td>\n",
       "    </tr>\n",
       "  </tbody>\n",
       "</table>\n",
       "</div>"
      ],
      "text/plain": [
       "             구급보고서번호   소방서명 환자증상구분명1      신고일자    신고시각      출동일자    출동시각  \\\n",
       "0  20211122103M01526  중랑소방서     심계항진  20210330  104800  20210330  105042   \n",
       "1  20211111105M00771  노원소방서       복통  20210412  225600  20210412  225827   \n",
       "2  20211115104M00864  서초소방서     심계항진  20210303  194100  20210303  194500   \n",
       "3  20211113107M01869  마포소방서       고열  20211225  235400  20211226     331   \n",
       "4  20211118102M05820  강동소방서       고열  20211019   12100  20211019   12322   \n",
       "\n",
       "  환자직업명 사고발생장소  \n",
       "0    무직      집  \n",
       "1    기타      집  \n",
       "2   직장인   상업시설  \n",
       "3    유아      집  \n",
       "4    무직      집  "
      ]
     },
     "execution_count": 1,
     "metadata": {},
     "output_type": "execute_result"
    }
   ],
   "source": [
    "import pandas as pd\n",
    "df = pd.read_csv('https://raw.githubusercontent.com/Datamanim/datarepo/main/krdatacertificate/e6_p1_1.csv')\n",
    "df.head(5)"
   ]
  },
  {
   "cell_type": "markdown",
   "id": "61120bb3-fd48-4417-96de-5f85169d3144",
   "metadata": {},
   "source": [
    "## 각 구급 보고서 별 출동시각과 신고시각의 차이를 ‘소요시간’ 컬럼을 만들고 초(sec)단위로 구하고 소방서명 별 소요시간의 평균을 오름차순으로 정렬 했을때 3번째로 작은 소요시간의 값과 소방서명을  출력하라 ***"
   ]
  },
  {
   "cell_type": "code",
   "execution_count": 58,
   "id": "3b477a76-2086-4904-8dc6-a03ce565c0d0",
   "metadata": {},
   "outputs": [
    {
     "data": {
      "text/plain": [
       "소방서명    종로소방서\n",
       "diff    175.5\n",
       "Name: 2, dtype: object"
      ]
     },
     "execution_count": 58,
     "metadata": {},
     "output_type": "execute_result"
    }
   ],
   "source": [
    "\n",
    "df['call'] = pd.to_datetime(df['신고일자'].astype(str) + df['신고시각'].astype(str).str.zfill(6))\n",
    "df['start'] = pd.to_datetime(df['출동일자'].astype(str) + df['출동시각'].astype(str).str.zfill(6))\n",
    "# print(help(pd.to_datetime))\n",
    "df['diff'] = (df['start'] - df['call']).dt.total_seconds()\n",
    "df.groupby('소방서명')['diff'].mean().sort_values().reset_index().loc[2]"
   ]
  },
  {
   "cell_type": "markdown",
   "id": "b5349dbe-8b18-47e5-aacb-857144974b6a",
   "metadata": {},
   "source": [
    "## 데이터 로드"
   ]
  },
  {
   "cell_type": "code",
   "execution_count": 59,
   "id": "6c7e006c-e393-44e3-b02c-af8e9694d1dc",
   "metadata": {},
   "outputs": [
    {
     "data": {
      "text/html": [
       "<div>\n",
       "<style scoped>\n",
       "    .dataframe tbody tr th:only-of-type {\n",
       "        vertical-align: middle;\n",
       "    }\n",
       "\n",
       "    .dataframe tbody tr th {\n",
       "        vertical-align: top;\n",
       "    }\n",
       "\n",
       "    .dataframe thead th {\n",
       "        text-align: right;\n",
       "    }\n",
       "</style>\n",
       "<table border=\"1\" class=\"dataframe\">\n",
       "  <thead>\n",
       "    <tr style=\"text-align: right;\">\n",
       "      <th></th>\n",
       "      <th>학교명</th>\n",
       "      <th>시도</th>\n",
       "      <th>학교세부유형</th>\n",
       "      <th>일반학급_학생수_계</th>\n",
       "      <th>교원수_총계_계</th>\n",
       "    </tr>\n",
       "  </thead>\n",
       "  <tbody>\n",
       "    <tr>\n",
       "      <th>0</th>\n",
       "      <td>서울대학교사범대학부설고등학교</td>\n",
       "      <td>서울</td>\n",
       "      <td>일반고등학교</td>\n",
       "      <td>689</td>\n",
       "      <td>73</td>\n",
       "    </tr>\n",
       "    <tr>\n",
       "      <th>1</th>\n",
       "      <td>가락고등학교</td>\n",
       "      <td>서울</td>\n",
       "      <td>일반고등학교</td>\n",
       "      <td>765</td>\n",
       "      <td>70</td>\n",
       "    </tr>\n",
       "    <tr>\n",
       "      <th>2</th>\n",
       "      <td>개포고등학교</td>\n",
       "      <td>서울</td>\n",
       "      <td>일반고등학교</td>\n",
       "      <td>684</td>\n",
       "      <td>69</td>\n",
       "    </tr>\n",
       "    <tr>\n",
       "      <th>3</th>\n",
       "      <td>경기고등학교</td>\n",
       "      <td>서울</td>\n",
       "      <td>일반고등학교</td>\n",
       "      <td>1047</td>\n",
       "      <td>96</td>\n",
       "    </tr>\n",
       "    <tr>\n",
       "      <th>4</th>\n",
       "      <td>경동고등학교</td>\n",
       "      <td>서울</td>\n",
       "      <td>일반고등학교</td>\n",
       "      <td>529</td>\n",
       "      <td>58</td>\n",
       "    </tr>\n",
       "  </tbody>\n",
       "</table>\n",
       "</div>"
      ],
      "text/plain": [
       "               학교명  시도  학교세부유형  일반학급_학생수_계  교원수_총계_계\n",
       "0  서울대학교사범대학부설고등학교  서울  일반고등학교         689        73\n",
       "1           가락고등학교  서울  일반고등학교         765        70\n",
       "2           개포고등학교  서울  일반고등학교         684        69\n",
       "3           경기고등학교  서울  일반고등학교        1047        96\n",
       "4           경동고등학교  서울  일반고등학교         529        58"
      ]
     },
     "execution_count": 59,
     "metadata": {},
     "output_type": "execute_result"
    }
   ],
   "source": [
    "import pandas as pd\n",
    "df = pd.read_csv('https://raw.githubusercontent.com/Datamanim/datarepo/main/krdatacertificate/e6_p1_2.csv')\n",
    "df.head(5)"
   ]
  },
  {
   "cell_type": "markdown",
   "id": "e9b721e4-2475-4d75-b773-ce35c2ece759",
   "metadata": {},
   "source": [
    "## 학교 세부유형이 일반중학교인 학교들 중 일반중학교 숫자가 2번째로 많은 시도의 일반중학교 데이터만 필터하여 해당 시도의 교원 한명 당 맡은 학생수가 가장 많은 학교를 찾아서 해당 학교의 교원수를  출력하라"
   ]
  },
  {
   "cell_type": "code",
   "execution_count": 75,
   "id": "9ecf09e4-feaa-4307-9753-0bffe60694f6",
   "metadata": {},
   "outputs": [
    {
     "name": "stdout",
     "output_type": "stream",
     "text": [
      "33\n"
     ]
    }
   ],
   "source": [
    "df['교원당맡은학생수'] = df['일반학급_학생수_계']/df['교원수_총계_계']\n",
    "print(df.loc[(df['학교세부유형']=='일반중학교')&(df['시도'] == df.loc[df['학교세부유형']=='일반중학교'].groupby('시도').size().sort_values(ascending=False).index[1])].sort_values('교원당맡은학생수',ascending=False)['교원수_총계_계'].iloc[0])"
   ]
  },
  {
   "cell_type": "markdown",
   "id": "56a3e5f4-39f8-4094-9c21-d1142ca65088",
   "metadata": {},
   "source": [
    "## 데이터 로드"
   ]
  },
  {
   "cell_type": "code",
   "execution_count": 76,
   "id": "7c11f96e-b11c-4508-ad3f-ecd7a839c8e3",
   "metadata": {},
   "outputs": [
    {
     "data": {
      "text/html": [
       "<div>\n",
       "<style scoped>\n",
       "    .dataframe tbody tr th:only-of-type {\n",
       "        vertical-align: middle;\n",
       "    }\n",
       "\n",
       "    .dataframe tbody tr th {\n",
       "        vertical-align: top;\n",
       "    }\n",
       "\n",
       "    .dataframe thead th {\n",
       "        text-align: right;\n",
       "    }\n",
       "</style>\n",
       "<table border=\"1\" class=\"dataframe\">\n",
       "  <thead>\n",
       "    <tr style=\"text-align: right;\">\n",
       "      <th></th>\n",
       "      <th>범죄분류</th>\n",
       "      <th>절도</th>\n",
       "      <th>사기</th>\n",
       "      <th>배임</th>\n",
       "      <th>방화</th>\n",
       "      <th>폭행</th>\n",
       "    </tr>\n",
       "  </thead>\n",
       "  <tbody>\n",
       "    <tr>\n",
       "      <th>0</th>\n",
       "      <td>2018년_1월</td>\n",
       "      <td>13280</td>\n",
       "      <td>25318</td>\n",
       "      <td>656</td>\n",
       "      <td>143</td>\n",
       "      <td>12186</td>\n",
       "    </tr>\n",
       "    <tr>\n",
       "      <th>1</th>\n",
       "      <td>2018년_2월</td>\n",
       "      <td>12504</td>\n",
       "      <td>19159</td>\n",
       "      <td>403</td>\n",
       "      <td>135</td>\n",
       "      <td>12087</td>\n",
       "    </tr>\n",
       "    <tr>\n",
       "      <th>2</th>\n",
       "      <td>2018년_3월</td>\n",
       "      <td>14733</td>\n",
       "      <td>24509</td>\n",
       "      <td>471</td>\n",
       "      <td>148</td>\n",
       "      <td>13841</td>\n",
       "    </tr>\n",
       "    <tr>\n",
       "      <th>3</th>\n",
       "      <td>2018년_4월</td>\n",
       "      <td>14781</td>\n",
       "      <td>23147</td>\n",
       "      <td>414</td>\n",
       "      <td>135</td>\n",
       "      <td>13973</td>\n",
       "    </tr>\n",
       "    <tr>\n",
       "      <th>4</th>\n",
       "      <td>2018년_5월</td>\n",
       "      <td>15988</td>\n",
       "      <td>23584</td>\n",
       "      <td>451</td>\n",
       "      <td>127</td>\n",
       "      <td>14117</td>\n",
       "    </tr>\n",
       "  </tbody>\n",
       "</table>\n",
       "</div>"
      ],
      "text/plain": [
       "       범죄분류     절도     사기   배임   방화     폭행\n",
       "0  2018년_1월  13280  25318  656  143  12186\n",
       "1  2018년_2월  12504  19159  403  135  12087\n",
       "2  2018년_3월  14733  24509  471  148  13841\n",
       "3  2018년_4월  14781  23147  414  135  13973\n",
       "4  2018년_5월  15988  23584  451  127  14117"
      ]
     },
     "execution_count": 76,
     "metadata": {},
     "output_type": "execute_result"
    }
   ],
   "source": [
    "import pandas as pd\n",
    "df = pd.read_csv('https://raw.githubusercontent.com/Datamanim/datarepo/main/krdatacertificate/e6_p1_3.csv')\n",
    "df.head(5)"
   ]
  },
  {
   "cell_type": "markdown",
   "id": "97679ad5-6bae-473d-a910-6e5797a88a74",
   "metadata": {},
   "source": [
    "## **5대 범죄(절도, 사기, 배임, 방화, 폭행)의 월별 총 발생건수를 총범죄수라고 표현하자. 18,19년의 각각 분기별 총범죄수의 월평균 값을 구했을때 최대값을 가지는 년도와 분기를 구하고 해당 분기의 최댓값의 사기가 발생한 월의 사기 발생건수를  출력하라(1분기:1,2,3월 / 2분기 : 4,5,6월 / 3분기 7,8,9월 / 4분기 10,11,12월 , 1분기 월평균 : 1,2,3월의 총범죄수 평균) **"
   ]
  },
  {
   "cell_type": "code",
   "execution_count": 100,
   "id": "1be87bb7-0b3b-4b63-abe4-a94dc8c34283",
   "metadata": {},
   "outputs": [
    {
     "name": "stdout",
     "output_type": "stream",
     "text": [
      "27766\n"
     ]
    }
   ],
   "source": [
    "df['year'] = df['범죄분류'].str.split('년_').str[0]\n",
    "df['month'] = df['범죄분류'].str.split('년_').str[1].str[:-1].astype(int)\n",
    "df['sum'] = df['절도'] + df['사기'] + df['배임'] + df['방화'] + df['폭행'] \n",
    "def quater(row):\n",
    "    if row in [1,2,3]:\n",
    "        return  1\n",
    "    elif row in [4,5,6]:\n",
    "        return  2\n",
    "    elif row in [7,8,9]:\n",
    "        return  3\n",
    "    else:\n",
    "        return  4\n",
    "df['quater'] = df['month'].apply(quater)\n",
    "print(df.loc[(df['year'] == df.groupby(['year','quater'])['sum'].mean().sort_values(ascending = False).reset_index().loc[0]['year'])&(df['quater'] == df.groupby(['year','quater'])['sum'].mean().sort_values(ascending = False).reset_index().loc[0]['quater'])].sort_values('사기',ascending=False).iloc[0]['사기'])"
   ]
  },
  {
   "cell_type": "markdown",
   "id": "05024728-35ba-4c20-9cda-c3a6df347f84",
   "metadata": {},
   "source": [
    "# 작업 2유형"
   ]
  },
  {
   "cell_type": "markdown",
   "id": "e5d5eb6d-154c-4fd4-9dd1-9a7ce776eb17",
   "metadata": {},
   "source": [
    "## 예측 변수 General_Health, test.csv에 대해 ID별로 General_Health 값을 예측하여 제출, 제출 데이터 컬럼은 ID와 General_Health 두개만 존재해야함. 평가지표는 f1score"
   ]
  },
  {
   "cell_type": "code",
   "execution_count": 110,
   "id": "ec6f9859-1417-4eab-b960-06c129d9d4df",
   "metadata": {},
   "outputs": [
    {
     "name": "stdout",
     "output_type": "stream",
     "text": [
      "0.5617916891527253\n",
      "            ID General_Health\n",
      "0     ID_14547      Excellent\n",
      "1        ID_26      Excellent\n",
      "2     ID_14103           Good\n",
      "3     ID_10946      Excellent\n",
      "4      ID_1572      Excellent\n",
      "...        ...            ...\n",
      "4808  ID_12991      Excellent\n",
      "4809  ID_13295           Good\n",
      "4810   ID_2428           Fair\n",
      "4811  ID_12719           Good\n",
      "4812  ID_12691      Excellent\n",
      "\n",
      "[4813 rows x 2 columns]\n"
     ]
    }
   ],
   "source": [
    "import pandas as pd\n",
    "import numpy as np \n",
    "from sklearn.preprocessing import LabelEncoder \n",
    "from sklearn.model_selection import train_test_split \n",
    "from sklearn.metrics import f1_score \n",
    "from sklearn.ensemble import RandomForestClassifier \n",
    "train = pd.read_csv('https://raw.githubusercontent.com/Datamanim/datarepo/main/krdatacertificate/ep6_p2_train.csv')\n",
    "test = pd.read_csv('https://raw.githubusercontent.com/Datamanim/datarepo/main/krdatacertificate/ep6_p2_test.csv')\n",
    "\n",
    "x = train.drop(['ID','General_Health'],axis=1)\n",
    "y = train['General_Health']\n",
    "z = test.drop(['ID',],axis=1)\n",
    "\n",
    "combine = pd.concat([x,z])\n",
    "combine = pd.get_dummies(combine)\n",
    "x = combine[:len(x)]\n",
    "z = combine[len(x):]\n",
    "\n",
    "xtr,xte,ytr,yte = train_test_split(x,y,test_size= 0.33,random_state = 23)\n",
    "\n",
    "RFC = RandomForestClassifier(random_state = 23)\n",
    "RFC.fit(xtr,ytr)\n",
    "pred = RFC.predict(xte)\n",
    "\n",
    "f1 = f1_score(yte,pred,average= 'micro')\n",
    "print(f1)\n",
    "\n",
    "test['General_Health'] = RFC.predict(z)\n",
    "print(test[['ID','General_Health']])\n",
    "test[['ID','General_Health']].to_csv('sixth_exam.csv',index=False)"
   ]
  },
  {
   "cell_type": "markdown",
   "id": "a0a11bce-11c4-434a-abf0-0351f48bf0af",
   "metadata": {},
   "source": [
    "# 작업 3유형"
   ]
  },
  {
   "cell_type": "markdown",
   "id": "d077cee5-e041-4983-b936-e5244cab28a0",
   "metadata": {},
   "source": [
    "## A 도시의 남성 600명과 여성 550명이 있다. 남성들 중 흡연자 비율은 0.2이며 여성들 중 흡연자 비율은 0.26이다. 남성과 여성 간에 흡연 여부에 따른 인구 비율이 다른지 확인하고 싶다. 유의 수준 0.05하 귀무가설에 대해 기각 / 채택 여부와 p-value값을 각각  출력하라 ***"
   ]
  },
  {
   "cell_type": "code",
   "execution_count": 137,
   "id": "720ee017-5a1d-46a7-aad3-5bbb88d9bb3e",
   "metadata": {},
   "outputs": [
    {
     "name": "stdout",
     "output_type": "stream",
     "text": [
      "0.018786854975740768\n",
      "대립가설, 상관관계가 있음\n"
     ]
    }
   ],
   "source": [
    "from scipy import stats \n",
    "data = np.array([[int(600*0.2),int(600*0.8)],[int(550*0.26),int(550*0.74)]])\n",
    "statistics, pvalue,dof,expect = stats.chi2_contingency(data)\n",
    "print(pvalue)\n",
    "if pvalue >= 0.05:\n",
    "    print('귀무가설, 독립적임')\n",
    "else:\n",
    "    print('대립가설, 상관관계가 있음')"
   ]
  },
  {
   "cell_type": "markdown",
   "id": "3c607fc4-9b7a-4471-8b3a-407f64133ce2",
   "metadata": {},
   "source": [
    "## 데이터 로드"
   ]
  },
  {
   "cell_type": "code",
   "execution_count": 138,
   "id": "1cc23fe0-21a6-48da-b201-a66e0aefa1be",
   "metadata": {},
   "outputs": [
    {
     "data": {
      "text/html": [
       "<div>\n",
       "<style scoped>\n",
       "    .dataframe tbody tr th:only-of-type {\n",
       "        vertical-align: middle;\n",
       "    }\n",
       "\n",
       "    .dataframe tbody tr th {\n",
       "        vertical-align: top;\n",
       "    }\n",
       "\n",
       "    .dataframe thead th {\n",
       "        text-align: right;\n",
       "    }\n",
       "</style>\n",
       "<table border=\"1\" class=\"dataframe\">\n",
       "  <thead>\n",
       "    <tr style=\"text-align: right;\">\n",
       "      <th></th>\n",
       "      <th>age</th>\n",
       "      <th>Cholesterol</th>\n",
       "      <th>weight</th>\n",
       "    </tr>\n",
       "  </thead>\n",
       "  <tbody>\n",
       "    <tr>\n",
       "      <th>0</th>\n",
       "      <td>65</td>\n",
       "      <td>69.0</td>\n",
       "      <td>111.0</td>\n",
       "    </tr>\n",
       "    <tr>\n",
       "      <th>1</th>\n",
       "      <td>54</td>\n",
       "      <td>117.0</td>\n",
       "      <td>81.0</td>\n",
       "    </tr>\n",
       "    <tr>\n",
       "      <th>2</th>\n",
       "      <td>61</td>\n",
       "      <td>86.2</td>\n",
       "      <td>72.0</td>\n",
       "    </tr>\n",
       "    <tr>\n",
       "      <th>3</th>\n",
       "      <td>57</td>\n",
       "      <td>76.0</td>\n",
       "      <td>78.0</td>\n",
       "    </tr>\n",
       "    <tr>\n",
       "      <th>4</th>\n",
       "      <td>62</td>\n",
       "      <td>160.0</td>\n",
       "      <td>61.0</td>\n",
       "    </tr>\n",
       "  </tbody>\n",
       "</table>\n",
       "</div>"
      ],
      "text/plain": [
       "   age  Cholesterol  weight\n",
       "0   65         69.0   111.0\n",
       "1   54        117.0    81.0\n",
       "2   61         86.2    72.0\n",
       "3   57         76.0    78.0\n",
       "4   62        160.0    61.0"
      ]
     },
     "execution_count": 138,
     "metadata": {},
     "output_type": "execute_result"
    }
   ],
   "source": [
    "import pandas as pd \n",
    "df= pd.read_csv('https://raw.githubusercontent.com/Datamanim/datarepo/main/adp/28/p7.csv')\n",
    "df.head()"
   ]
  },
  {
   "cell_type": "markdown",
   "id": "cd7fcafe-b576-4ee9-bfbe-122a49657661",
   "metadata": {},
   "source": [
    "## age와 Cholesterol을 가지고 weight를 예측하는 선형 회귀 모델을 만들려고한다. age의 회귀 계수를 구하여라"
   ]
  },
  {
   "cell_type": "code",
   "execution_count": 140,
   "id": "26228804-e459-40fd-8bda-00be14172e9a",
   "metadata": {},
   "outputs": [
    {
     "name": "stdout",
     "output_type": "stream",
     "text": [
      "Collecting statsmodels\n",
      "  Downloading statsmodels-0.14.2-cp311-cp311-manylinux_2_17_aarch64.manylinux2014_aarch64.whl.metadata (9.2 kB)\n",
      "Requirement already satisfied: numpy>=1.22.3 in /usr/local/lib/python3.11/site-packages (from statsmodels) (1.26.4)\n",
      "Requirement already satisfied: scipy!=1.9.2,>=1.8 in /usr/local/lib/python3.11/site-packages (from statsmodels) (1.13.1)\n",
      "Requirement already satisfied: pandas!=2.1.0,>=1.4 in /usr/local/lib/python3.11/site-packages (from statsmodels) (2.2.2)\n",
      "Collecting patsy>=0.5.6 (from statsmodels)\n",
      "  Downloading patsy-0.5.6-py2.py3-none-any.whl.metadata (3.5 kB)\n",
      "Requirement already satisfied: packaging>=21.3 in /usr/local/lib/python3.11/site-packages (from statsmodels) (24.0)\n",
      "Requirement already satisfied: python-dateutil>=2.8.2 in /usr/local/lib/python3.11/site-packages (from pandas!=2.1.0,>=1.4->statsmodels) (2.9.0.post0)\n",
      "Requirement already satisfied: pytz>=2020.1 in /usr/local/lib/python3.11/site-packages (from pandas!=2.1.0,>=1.4->statsmodels) (2024.1)\n",
      "Requirement already satisfied: tzdata>=2022.7 in /usr/local/lib/python3.11/site-packages (from pandas!=2.1.0,>=1.4->statsmodels) (2024.1)\n",
      "Requirement already satisfied: six in /usr/local/lib/python3.11/site-packages (from patsy>=0.5.6->statsmodels) (1.16.0)\n",
      "Downloading statsmodels-0.14.2-cp311-cp311-manylinux_2_17_aarch64.manylinux2014_aarch64.whl (10.4 MB)\n",
      "\u001b[2K   \u001b[90m━━━━━━━━━━━━━━━━━━━━━━━━━━━━━━━━━━━━━━━━\u001b[0m \u001b[32m10.4/10.4 MB\u001b[0m \u001b[31m20.2 MB/s\u001b[0m eta \u001b[36m0:00:00\u001b[0m00:01\u001b[0m00:01\u001b[0m\n",
      "\u001b[?25hDownloading patsy-0.5.6-py2.py3-none-any.whl (233 kB)\n",
      "\u001b[2K   \u001b[90m━━━━━━━━━━━━━━━━━━━━━━━━━━━━━━━━━━━━━━━━\u001b[0m \u001b[32m233.9/233.9 kB\u001b[0m \u001b[31m3.9 MB/s\u001b[0m eta \u001b[36m0:00:00\u001b[0mta \u001b[36m0:00:01\u001b[0m\n",
      "\u001b[?25hInstalling collected packages: patsy, statsmodels\n",
      "Successfully installed patsy-0.5.6 statsmodels-0.14.2\n",
      "\u001b[33mWARNING: Running pip as the 'root' user can result in broken permissions and conflicting behaviour with the system package manager. It is recommended to use a virtual environment instead: https://pip.pypa.io/warnings/venv\u001b[0m\u001b[33m\n",
      "\u001b[0mNote: you may need to restart the kernel to use updated packages.\n"
     ]
    }
   ],
   "source": [
    "pip install statsmodels"
   ]
  },
  {
   "cell_type": "code",
   "execution_count": 141,
   "id": "271ae48a-b9e9-4a5d-8db6-a708c6e8a40c",
   "metadata": {},
   "outputs": [
    {
     "name": "stdout",
     "output_type": "stream",
     "text": [
      "-0.03610166914386492\n"
     ]
    }
   ],
   "source": [
    "\n",
    "import statsmodels.api as sm\n",
    "X = sm.add_constant(df[['age', 'Cholesterol']]) \n",
    "model = sm.OLS(df['weight'], X)\n",
    "results = model.fit()\n",
    "\n",
    "# 전체 회귀 결과 출력\n",
    "# print(results.summary())\n",
    "\n",
    "print(results.params['age'])"
   ]
  },
  {
   "cell_type": "markdown",
   "id": "db72a2ab-ffb5-4b4c-9d4a-e61b72bb955f",
   "metadata": {},
   "source": [
    "## age가 고정일 때 Cholesterol와 weight가 선형관계에 있다는 가설을 유의수준 0.05하에 검정하라"
   ]
  },
  {
   "cell_type": "code",
   "execution_count": 145,
   "id": "6c42c0cc-4073-4446-a652-01b0036b4582",
   "metadata": {},
   "outputs": [
    {
     "name": "stdout",
     "output_type": "stream",
     "text": [
      "선형 관계에 있다.\n"
     ]
    }
   ],
   "source": [
    "H = results.pvalues['Cholesterol']\n",
    "\n",
    "if H <0.05 : \n",
    "    print('선형 관계에 있다.')\n",
    "    \n",
    "else:\n",
    "    print('선형 관계에 없다.')"
   ]
  },
  {
   "cell_type": "markdown",
   "id": "b8074a09-09f8-4990-9c14-4d896273f961",
   "metadata": {},
   "source": [
    "## age가 55, Cholesterol가 72.6일때 위 모델을 기반으로 weight값을 예측하라."
   ]
  },
  {
   "cell_type": "code",
   "execution_count": 149,
   "id": "888dc6b1-702b-4e71-85c2-ea6a3d9ac22b",
   "metadata": {},
   "outputs": [
    {
     "name": "stdout",
     "output_type": "stream",
     "text": [
      "78.85771011344593\n"
     ]
    }
   ],
   "source": [
    "print(results.predict([1,55,72.6])[0])"
   ]
  },
  {
   "cell_type": "code",
   "execution_count": null,
   "id": "35391713-3292-40e3-a1fa-b261742fdcc5",
   "metadata": {},
   "outputs": [],
   "source": []
  }
 ],
 "metadata": {
  "kernelspec": {
   "display_name": "Python 3 (ipykernel)",
   "language": "python",
   "name": "python3"
  },
  "language_info": {
   "codemirror_mode": {
    "name": "ipython",
    "version": 3
   },
   "file_extension": ".py",
   "mimetype": "text/x-python",
   "name": "python",
   "nbconvert_exporter": "python",
   "pygments_lexer": "ipython3",
   "version": "3.11.9"
  }
 },
 "nbformat": 4,
 "nbformat_minor": 5
}
