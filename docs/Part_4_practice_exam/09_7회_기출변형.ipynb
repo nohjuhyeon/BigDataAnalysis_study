{
 "cells": [
  {
   "cell_type": "markdown",
   "id": "55a7f9e6-5a1d-4086-9192-0ccc711293ca",
   "metadata": {},
   "source": [
    "# 작업 1유형"
   ]
  },
  {
   "cell_type": "markdown",
   "id": "8620713d-77b9-468b-94cc-4a632f767cc4",
   "metadata": {},
   "source": [
    "## 데이터 로드"
   ]
  },
  {
   "cell_type": "code",
   "execution_count": 1,
   "id": "935f81bd-02e8-4a2c-b424-39981d0285ba",
   "metadata": {},
   "outputs": [
    {
     "data": {
      "text/html": [
       "<div>\n",
       "<style scoped>\n",
       "    .dataframe tbody tr th:only-of-type {\n",
       "        vertical-align: middle;\n",
       "    }\n",
       "\n",
       "    .dataframe tbody tr th {\n",
       "        vertical-align: top;\n",
       "    }\n",
       "\n",
       "    .dataframe thead th {\n",
       "        text-align: right;\n",
       "    }\n",
       "</style>\n",
       "<table border=\"1\" class=\"dataframe\">\n",
       "  <thead>\n",
       "    <tr style=\"text-align: right;\">\n",
       "      <th></th>\n",
       "      <th>학생</th>\n",
       "      <th>국어</th>\n",
       "      <th>수학</th>\n",
       "      <th>영어</th>\n",
       "      <th>과학</th>\n",
       "    </tr>\n",
       "  </thead>\n",
       "  <tbody>\n",
       "    <tr>\n",
       "      <th>0</th>\n",
       "      <td>ID_0</td>\n",
       "      <td>63.0</td>\n",
       "      <td>NaN</td>\n",
       "      <td>79.0</td>\n",
       "      <td>84.0</td>\n",
       "    </tr>\n",
       "    <tr>\n",
       "      <th>1</th>\n",
       "      <td>ID_1</td>\n",
       "      <td>91.0</td>\n",
       "      <td>93.0</td>\n",
       "      <td>NaN</td>\n",
       "      <td>73.0</td>\n",
       "    </tr>\n",
       "    <tr>\n",
       "      <th>2</th>\n",
       "      <td>ID_2</td>\n",
       "      <td>59.0</td>\n",
       "      <td>55.0</td>\n",
       "      <td>NaN</td>\n",
       "      <td>56.0</td>\n",
       "    </tr>\n",
       "    <tr>\n",
       "      <th>3</th>\n",
       "      <td>ID_3</td>\n",
       "      <td>71.0</td>\n",
       "      <td>83.0</td>\n",
       "      <td>82.0</td>\n",
       "      <td>NaN</td>\n",
       "    </tr>\n",
       "    <tr>\n",
       "      <th>4</th>\n",
       "      <td>ID_4</td>\n",
       "      <td>62.0</td>\n",
       "      <td>72.0</td>\n",
       "      <td>56.0</td>\n",
       "      <td>NaN</td>\n",
       "    </tr>\n",
       "  </tbody>\n",
       "</table>\n",
       "</div>"
      ],
      "text/plain": [
       "     학생    국어    수학    영어    과학\n",
       "0  ID_0  63.0   NaN  79.0  84.0\n",
       "1  ID_1  91.0  93.0   NaN  73.0\n",
       "2  ID_2  59.0  55.0   NaN  56.0\n",
       "3  ID_3  71.0  83.0  82.0   NaN\n",
       "4  ID_4  62.0  72.0  56.0   NaN"
      ]
     },
     "execution_count": 1,
     "metadata": {},
     "output_type": "execute_result"
    }
   ],
   "source": [
    "import pandas as pd\n",
    "df = pd.read_csv('https://raw.githubusercontent.com/Datamanim/datarepo/main/krdatacertificate/e7_p1.csv')\n",
    "df.head(5)"
   ]
  },
  {
   "cell_type": "markdown",
   "id": "b1574e8a-79d1-4728-9394-fee6d80fa9b9",
   "metadata": {},
   "source": [
    "## 국어,수학,영어,과학 과목 중 가장 많은 학생들이 응시한 시험을 선택하고 해당과목의 점수를 표준화 했을 때 가장 큰 표준화 점수를 구하여라"
   ]
  },
  {
   "cell_type": "code",
   "execution_count": 9,
   "id": "83157747-a45b-4604-acf7-41dec0ce414e",
   "metadata": {},
   "outputs": [
    {
     "name": "stdout",
     "output_type": "stream",
     "text": [
      "1.713855688712825\n"
     ]
    }
   ],
   "source": [
    "import numpy as np\n",
    "sub = df.iloc[:,1:].count().idxmax()\n",
    "std = df[sub]\n",
    "\n",
    "r = ((df[sub] - df[sub].mean()) / df[sub].std(ddof=0)).max()  # 모표준편차 ddof=0\n",
    "print(r)\n",
    "\n",
    "\n",
    "# scipy\n",
    "from scipy.stats import zscore\n",
    "result = zscore(df[sub].dropna()).max()"
   ]
  },
  {
   "cell_type": "markdown",
   "id": "0d4b2faf-6ba5-4b0a-a6a4-077bbc6e8163",
   "metadata": {},
   "source": [
    "## 데이터 로드"
   ]
  },
  {
   "cell_type": "code",
   "execution_count": 10,
   "id": "2f063e01-d3a7-4811-808c-af9f53db1724",
   "metadata": {},
   "outputs": [
    {
     "data": {
      "text/html": [
       "<div>\n",
       "<style scoped>\n",
       "    .dataframe tbody tr th:only-of-type {\n",
       "        vertical-align: middle;\n",
       "    }\n",
       "\n",
       "    .dataframe tbody tr th {\n",
       "        vertical-align: top;\n",
       "    }\n",
       "\n",
       "    .dataframe thead th {\n",
       "        text-align: right;\n",
       "    }\n",
       "</style>\n",
       "<table border=\"1\" class=\"dataframe\">\n",
       "  <thead>\n",
       "    <tr style=\"text-align: right;\">\n",
       "      <th></th>\n",
       "      <th>var_1</th>\n",
       "      <th>var_2</th>\n",
       "      <th>var_3</th>\n",
       "      <th>var_4</th>\n",
       "      <th>var_5</th>\n",
       "      <th>var_6</th>\n",
       "      <th>var_7</th>\n",
       "      <th>var_8</th>\n",
       "      <th>var_9</th>\n",
       "      <th>var_10</th>\n",
       "      <th>...</th>\n",
       "      <th>var_23</th>\n",
       "      <th>var_24</th>\n",
       "      <th>var_25</th>\n",
       "      <th>var_26</th>\n",
       "      <th>var_27</th>\n",
       "      <th>var_28</th>\n",
       "      <th>var_29</th>\n",
       "      <th>var_30</th>\n",
       "      <th>var_31</th>\n",
       "      <th>var_32</th>\n",
       "    </tr>\n",
       "  </thead>\n",
       "  <tbody>\n",
       "    <tr>\n",
       "      <th>0</th>\n",
       "      <td>-0.335864</td>\n",
       "      <td>-2.425701</td>\n",
       "      <td>0.452851</td>\n",
       "      <td>-1.381924</td>\n",
       "      <td>-0.425591</td>\n",
       "      <td>-1.461498</td>\n",
       "      <td>-0.417082</td>\n",
       "      <td>-0.944226</td>\n",
       "      <td>-0.351224</td>\n",
       "      <td>1.474046</td>\n",
       "      <td>...</td>\n",
       "      <td>1.715714</td>\n",
       "      <td>0.300227</td>\n",
       "      <td>0.439828</td>\n",
       "      <td>-0.094772</td>\n",
       "      <td>1.551995</td>\n",
       "      <td>3.308446</td>\n",
       "      <td>-0.391377</td>\n",
       "      <td>1.963829</td>\n",
       "      <td>-1.458605</td>\n",
       "      <td>-0.348652</td>\n",
       "    </tr>\n",
       "    <tr>\n",
       "      <th>1</th>\n",
       "      <td>0.803535</td>\n",
       "      <td>-0.699433</td>\n",
       "      <td>0.095579</td>\n",
       "      <td>0.788053</td>\n",
       "      <td>-0.267674</td>\n",
       "      <td>-0.370746</td>\n",
       "      <td>0.636034</td>\n",
       "      <td>-1.674584</td>\n",
       "      <td>-0.058465</td>\n",
       "      <td>-1.188973</td>\n",
       "      <td>...</td>\n",
       "      <td>-1.348879</td>\n",
       "      <td>-0.899480</td>\n",
       "      <td>-1.271886</td>\n",
       "      <td>0.333734</td>\n",
       "      <td>-0.373565</td>\n",
       "      <td>-2.091508</td>\n",
       "      <td>-0.715245</td>\n",
       "      <td>-0.688441</td>\n",
       "      <td>0.910927</td>\n",
       "      <td>-0.746899</td>\n",
       "    </tr>\n",
       "    <tr>\n",
       "      <th>2</th>\n",
       "      <td>-0.408470</td>\n",
       "      <td>-0.361105</td>\n",
       "      <td>-0.857278</td>\n",
       "      <td>0.338294</td>\n",
       "      <td>2.317821</td>\n",
       "      <td>-0.099928</td>\n",
       "      <td>0.557053</td>\n",
       "      <td>-0.847932</td>\n",
       "      <td>0.973471</td>\n",
       "      <td>0.101203</td>\n",
       "      <td>...</td>\n",
       "      <td>-0.388353</td>\n",
       "      <td>0.918553</td>\n",
       "      <td>-1.984422</td>\n",
       "      <td>0.385055</td>\n",
       "      <td>1.161414</td>\n",
       "      <td>-1.280253</td>\n",
       "      <td>2.831802</td>\n",
       "      <td>-0.953771</td>\n",
       "      <td>-0.228466</td>\n",
       "      <td>0.766254</td>\n",
       "    </tr>\n",
       "    <tr>\n",
       "      <th>3</th>\n",
       "      <td>-0.690599</td>\n",
       "      <td>0.777928</td>\n",
       "      <td>-0.079963</td>\n",
       "      <td>0.164086</td>\n",
       "      <td>1.721702</td>\n",
       "      <td>0.146761</td>\n",
       "      <td>-0.988636</td>\n",
       "      <td>0.885344</td>\n",
       "      <td>0.647053</td>\n",
       "      <td>0.674609</td>\n",
       "      <td>...</td>\n",
       "      <td>0.337074</td>\n",
       "      <td>-1.406224</td>\n",
       "      <td>-0.699728</td>\n",
       "      <td>-0.836068</td>\n",
       "      <td>-0.226315</td>\n",
       "      <td>1.260893</td>\n",
       "      <td>-0.781630</td>\n",
       "      <td>-0.219995</td>\n",
       "      <td>0.871289</td>\n",
       "      <td>0.017578</td>\n",
       "    </tr>\n",
       "    <tr>\n",
       "      <th>4</th>\n",
       "      <td>0.179819</td>\n",
       "      <td>-0.668267</td>\n",
       "      <td>0.381849</td>\n",
       "      <td>-0.884196</td>\n",
       "      <td>0.758519</td>\n",
       "      <td>-1.026190</td>\n",
       "      <td>0.986227</td>\n",
       "      <td>-1.663167</td>\n",
       "      <td>2.290551</td>\n",
       "      <td>0.564845</td>\n",
       "      <td>...</td>\n",
       "      <td>-0.700137</td>\n",
       "      <td>-0.153825</td>\n",
       "      <td>-1.835313</td>\n",
       "      <td>0.182131</td>\n",
       "      <td>0.890247</td>\n",
       "      <td>0.024791</td>\n",
       "      <td>1.489955</td>\n",
       "      <td>1.276357</td>\n",
       "      <td>-0.285144</td>\n",
       "      <td>1.066486</td>\n",
       "    </tr>\n",
       "  </tbody>\n",
       "</table>\n",
       "<p>5 rows × 32 columns</p>\n",
       "</div>"
      ],
      "text/plain": [
       "      var_1     var_2     var_3     var_4     var_5     var_6     var_7  \\\n",
       "0 -0.335864 -2.425701  0.452851 -1.381924 -0.425591 -1.461498 -0.417082   \n",
       "1  0.803535 -0.699433  0.095579  0.788053 -0.267674 -0.370746  0.636034   \n",
       "2 -0.408470 -0.361105 -0.857278  0.338294  2.317821 -0.099928  0.557053   \n",
       "3 -0.690599  0.777928 -0.079963  0.164086  1.721702  0.146761 -0.988636   \n",
       "4  0.179819 -0.668267  0.381849 -0.884196  0.758519 -1.026190  0.986227   \n",
       "\n",
       "      var_8     var_9    var_10  ...    var_23    var_24    var_25    var_26  \\\n",
       "0 -0.944226 -0.351224  1.474046  ...  1.715714  0.300227  0.439828 -0.094772   \n",
       "1 -1.674584 -0.058465 -1.188973  ... -1.348879 -0.899480 -1.271886  0.333734   \n",
       "2 -0.847932  0.973471  0.101203  ... -0.388353  0.918553 -1.984422  0.385055   \n",
       "3  0.885344  0.647053  0.674609  ...  0.337074 -1.406224 -0.699728 -0.836068   \n",
       "4 -1.663167  2.290551  0.564845  ... -0.700137 -0.153825 -1.835313  0.182131   \n",
       "\n",
       "     var_27    var_28    var_29    var_30    var_31    var_32  \n",
       "0  1.551995  3.308446 -0.391377  1.963829 -1.458605 -0.348652  \n",
       "1 -0.373565 -2.091508 -0.715245 -0.688441  0.910927 -0.746899  \n",
       "2  1.161414 -1.280253  2.831802 -0.953771 -0.228466  0.766254  \n",
       "3 -0.226315  1.260893 -0.781630 -0.219995  0.871289  0.017578  \n",
       "4  0.890247  0.024791  1.489955  1.276357 -0.285144  1.066486  \n",
       "\n",
       "[5 rows x 32 columns]"
      ]
     },
     "execution_count": 10,
     "metadata": {},
     "output_type": "execute_result"
    }
   ],
   "source": [
    "import pandas as pd\n",
    "df = pd.read_csv('https://raw.githubusercontent.com/Datamanim/datarepo/main/krdatacertificate/e7_p2_.csv')\n",
    "df.head(5)"
   ]
  },
  {
   "cell_type": "markdown",
   "id": "f4610b61-7b07-4732-b13a-40b2717a3e1d",
   "metadata": {},
   "source": [
    "## 32개의 변수간 상관관계를 확인 했을 때, var_11 컬럼과 상관계수의 절댓값이 가장 큰 변수를 찾아 해당 변수의 평균값을 구하여라"
   ]
  },
  {
   "cell_type": "code",
   "execution_count": 26,
   "id": "4aa6f4ce-739d-4b8e-94e0-40189d434c5c",
   "metadata": {},
   "outputs": [
    {
     "name": "stdout",
     "output_type": "stream",
     "text": [
      "-0.06289356546077182\n"
     ]
    }
   ],
   "source": [
    "print(df[abs(df.corr()['var_11']).sort_values(ascending=False).index[1]].mean())"
   ]
  },
  {
   "cell_type": "markdown",
   "id": "a2b59353-4bbe-4d95-ac5c-0b9897664513",
   "metadata": {},
   "source": [
    "## 데이터 로드"
   ]
  },
  {
   "cell_type": "code",
   "execution_count": 27,
   "id": "6d3fbfde-2df2-43c7-be20-1ab4bc8caa70",
   "metadata": {},
   "outputs": [
    {
     "data": {
      "text/html": [
       "<div>\n",
       "<style scoped>\n",
       "    .dataframe tbody tr th:only-of-type {\n",
       "        vertical-align: middle;\n",
       "    }\n",
       "\n",
       "    .dataframe tbody tr th {\n",
       "        vertical-align: top;\n",
       "    }\n",
       "\n",
       "    .dataframe thead th {\n",
       "        text-align: right;\n",
       "    }\n",
       "</style>\n",
       "<table border=\"1\" class=\"dataframe\">\n",
       "  <thead>\n",
       "    <tr style=\"text-align: right;\">\n",
       "      <th></th>\n",
       "      <th>var_1</th>\n",
       "      <th>var_2</th>\n",
       "      <th>var_3</th>\n",
       "      <th>var_4</th>\n",
       "      <th>var_5</th>\n",
       "      <th>var_6</th>\n",
       "      <th>var_7</th>\n",
       "      <th>var_8</th>\n",
       "      <th>var_9</th>\n",
       "      <th>var_10</th>\n",
       "      <th>var_11</th>\n",
       "      <th>var_12</th>\n",
       "    </tr>\n",
       "  </thead>\n",
       "  <tbody>\n",
       "    <tr>\n",
       "      <th>0</th>\n",
       "      <td>-0.401584</td>\n",
       "      <td>0.007198</td>\n",
       "      <td>-0.134910</td>\n",
       "      <td>-0.419514</td>\n",
       "      <td>-0.686331</td>\n",
       "      <td>-1.174550</td>\n",
       "      <td>-0.499150</td>\n",
       "      <td>-0.557510</td>\n",
       "      <td>0.357347</td>\n",
       "      <td>0.844209</td>\n",
       "      <td>0.082097</td>\n",
       "      <td>0.475098</td>\n",
       "    </tr>\n",
       "    <tr>\n",
       "      <th>1</th>\n",
       "      <td>1.064622</td>\n",
       "      <td>-0.531247</td>\n",
       "      <td>0.571185</td>\n",
       "      <td>-0.762243</td>\n",
       "      <td>-1.456043</td>\n",
       "      <td>0.355432</td>\n",
       "      <td>0.880010</td>\n",
       "      <td>0.523183</td>\n",
       "      <td>-0.141733</td>\n",
       "      <td>0.301472</td>\n",
       "      <td>0.840299</td>\n",
       "      <td>-0.045113</td>\n",
       "    </tr>\n",
       "    <tr>\n",
       "      <th>2</th>\n",
       "      <td>0.900195</td>\n",
       "      <td>-1.148496</td>\n",
       "      <td>-0.718437</td>\n",
       "      <td>-2.315266</td>\n",
       "      <td>-0.755505</td>\n",
       "      <td>0.630923</td>\n",
       "      <td>0.586027</td>\n",
       "      <td>0.086497</td>\n",
       "      <td>-0.381657</td>\n",
       "      <td>-1.602532</td>\n",
       "      <td>1.566340</td>\n",
       "      <td>-0.654105</td>\n",
       "    </tr>\n",
       "    <tr>\n",
       "      <th>3</th>\n",
       "      <td>1.199227</td>\n",
       "      <td>-0.114200</td>\n",
       "      <td>0.101536</td>\n",
       "      <td>-1.851971</td>\n",
       "      <td>-0.672844</td>\n",
       "      <td>0.796077</td>\n",
       "      <td>0.644246</td>\n",
       "      <td>-0.836296</td>\n",
       "      <td>-1.707074</td>\n",
       "      <td>0.376281</td>\n",
       "      <td>1.303967</td>\n",
       "      <td>1.228015</td>\n",
       "    </tr>\n",
       "    <tr>\n",
       "      <th>4</th>\n",
       "      <td>0.607393</td>\n",
       "      <td>1.675917</td>\n",
       "      <td>1.063759</td>\n",
       "      <td>-0.799493</td>\n",
       "      <td>-0.959568</td>\n",
       "      <td>-0.103007</td>\n",
       "      <td>-0.245984</td>\n",
       "      <td>-0.059492</td>\n",
       "      <td>0.293592</td>\n",
       "      <td>-0.517044</td>\n",
       "      <td>0.100772</td>\n",
       "      <td>0.403833</td>\n",
       "    </tr>\n",
       "  </tbody>\n",
       "</table>\n",
       "</div>"
      ],
      "text/plain": [
       "      var_1     var_2     var_3     var_4     var_5     var_6     var_7  \\\n",
       "0 -0.401584  0.007198 -0.134910 -0.419514 -0.686331 -1.174550 -0.499150   \n",
       "1  1.064622 -0.531247  0.571185 -0.762243 -1.456043  0.355432  0.880010   \n",
       "2  0.900195 -1.148496 -0.718437 -2.315266 -0.755505  0.630923  0.586027   \n",
       "3  1.199227 -0.114200  0.101536 -1.851971 -0.672844  0.796077  0.644246   \n",
       "4  0.607393  1.675917  1.063759 -0.799493 -0.959568 -0.103007 -0.245984   \n",
       "\n",
       "      var_8     var_9    var_10    var_11    var_12  \n",
       "0 -0.557510  0.357347  0.844209  0.082097  0.475098  \n",
       "1  0.523183 -0.141733  0.301472  0.840299 -0.045113  \n",
       "2  0.086497 -0.381657 -1.602532  1.566340 -0.654105  \n",
       "3 -0.836296 -1.707074  0.376281  1.303967  1.228015  \n",
       "4 -0.059492  0.293592 -0.517044  0.100772  0.403833  "
      ]
     },
     "execution_count": 27,
     "metadata": {},
     "output_type": "execute_result"
    }
   ],
   "source": [
    "import pandas as pd\n",
    "df = pd.read_csv('https://raw.githubusercontent.com/Datamanim/datarepo/main/krdatacertificate/e7_p3.csv')\n",
    "df.head(5)"
   ]
  },
  {
   "cell_type": "markdown",
   "id": "b7220806-ff8d-4ffd-ad35-3c7f0363e8ab",
   "metadata": {},
   "source": [
    "## **var_6 컬럼의 1,3사분위수 각각 IQR의 1.5배 벗어난 이상치의 숫자를 구하라 **"
   ]
  },
  {
   "cell_type": "code",
   "execution_count": 31,
   "id": "7401cb11-2180-4d88-b2df-80a73c6eb9f8",
   "metadata": {},
   "outputs": [
    {
     "name": "stdout",
     "output_type": "stream",
     "text": [
      "8\n"
     ]
    }
   ],
   "source": [
    "max = df['var_6'].describe()['75%'] + (df['var_6'].describe()['75%'] - df['var_6'].describe()['25%'])*1.5\n",
    "min = df['var_6'].describe()['25%'] - (df['var_6'].describe()['75%'] - df['var_6'].describe()['25%'])*1.5\n",
    "\n",
    "print(len(df.loc[(df['var_6'] > max)|(df['var_6']<min)]['var_6']))"
   ]
  },
  {
   "cell_type": "markdown",
   "id": "df297bc3-ca04-4bdb-841d-3ef5c08d5b8b",
   "metadata": {},
   "source": [
    "# 작업 2유형\n",
    "## 종속변수 :이용금액 , 평가지표 : rmse"
   ]
  },
  {
   "cell_type": "code",
   "execution_count": 37,
   "id": "3801750d-d10e-41e3-b834-4a5a9a62c827",
   "metadata": {},
   "outputs": [
    {
     "name": "stdout",
     "output_type": "stream",
     "text": [
      "185716115.79939175\n",
      "           ID          이용금액\n",
      "0     ID_2575  5.491690e+09\n",
      "1     ID_6637  4.012585e+07\n",
      "2     ID_5704  2.410007e+06\n",
      "3     ID_3606  1.700813e+06\n",
      "4     ID_6443  5.774347e+05\n",
      "...       ...           ...\n",
      "5015  ID_4523  3.987661e+08\n",
      "5016  ID_3483  9.155201e+07\n",
      "5017   ID_453  5.355231e+09\n",
      "5018   ID_998  1.147297e+09\n",
      "5019  ID_3237  6.049119e+08\n",
      "\n",
      "[5020 rows x 2 columns]\n"
     ]
    }
   ],
   "source": [
    "import pandas as pd\n",
    "import numpy as np\n",
    "from sklearn.model_selection import train_test_split\n",
    "from sklearn.metrics import mean_squared_error\n",
    "from sklearn.ensemble import RandomForestRegressor\n",
    "\n",
    "train = pd.read_csv('https://raw.githubusercontent.com/Datamanim/datarepo/main/krdatacertificate/e7_p2_train2.csv')\n",
    "test = pd.read_csv('https://raw.githubusercontent.com/Datamanim/datarepo/main/krdatacertificate/e7_p2_test2.csv')\n",
    "\n",
    "x = train.drop(['ID','이용금액'],axis=1)\n",
    "y = train['이용금액']\n",
    "z = test.drop(['ID'],axis=1)\n",
    "\n",
    "combine = pd.concat([x,z])\n",
    "combine = pd.get_dummies(combine)\n",
    "x = combine[:len(x)]\n",
    "z = combine[len(x):]\n",
    "\n",
    "\n",
    "xtr,xte,ytr,yte = train_test_split(x,y,test_size= 0.33,random_state = 23)\n",
    "\n",
    "RFR = RandomForestRegressor(random_state = 23)\n",
    "RFR.fit(xtr,ytr)\n",
    "pred = RFR.predict(xte)\n",
    "\n",
    "rmse = np.sqrt(mean_squared_error(yte,pred))\n",
    "print(rmse)\n",
    "\n",
    "test['이용금액'] = RFR.predict(z)\n",
    "\n",
    "test[['ID','이용금액']].to_csv('seventh_exam.csv',index=False)\n",
    "print(test[['ID','이용금액']])\n"
   ]
  },
  {
   "cell_type": "markdown",
   "id": "4caa17a4-9d00-4e19-8d46-266a01a7a2b6",
   "metadata": {},
   "source": [
    "# 작업 3유형"
   ]
  },
  {
   "cell_type": "code",
   "execution_count": 76,
   "id": "ee7fc433-2dd9-471a-aa55-c3c4e98bd4a4",
   "metadata": {},
   "outputs": [
    {
     "data": {
      "text/html": [
       "<div>\n",
       "<style scoped>\n",
       "    .dataframe tbody tr th:only-of-type {\n",
       "        vertical-align: middle;\n",
       "    }\n",
       "\n",
       "    .dataframe tbody tr th {\n",
       "        vertical-align: top;\n",
       "    }\n",
       "\n",
       "    .dataframe thead th {\n",
       "        text-align: right;\n",
       "    }\n",
       "</style>\n",
       "<table border=\"1\" class=\"dataframe\">\n",
       "  <thead>\n",
       "    <tr style=\"text-align: right;\">\n",
       "      <th></th>\n",
       "      <th>Target</th>\n",
       "      <th>v1</th>\n",
       "      <th>v2</th>\n",
       "      <th>v3</th>\n",
       "      <th>v4</th>\n",
       "      <th>v5</th>\n",
       "      <th>v6</th>\n",
       "      <th>v7</th>\n",
       "      <th>v8</th>\n",
       "      <th>v9</th>\n",
       "      <th>...</th>\n",
       "      <th>v12</th>\n",
       "      <th>v13</th>\n",
       "      <th>v14</th>\n",
       "      <th>v15</th>\n",
       "      <th>v16</th>\n",
       "      <th>v17</th>\n",
       "      <th>v18</th>\n",
       "      <th>v19</th>\n",
       "      <th>v20</th>\n",
       "      <th>v21</th>\n",
       "    </tr>\n",
       "  </thead>\n",
       "  <tbody>\n",
       "    <tr>\n",
       "      <th>0</th>\n",
       "      <td>21.650072</td>\n",
       "      <td>0.496714</td>\n",
       "      <td>-0.138264</td>\n",
       "      <td>0.647689</td>\n",
       "      <td>1.523030</td>\n",
       "      <td>-0.234153</td>\n",
       "      <td>-0.234137</td>\n",
       "      <td>1.579213</td>\n",
       "      <td>0.767435</td>\n",
       "      <td>-0.469474</td>\n",
       "      <td>...</td>\n",
       "      <td>-0.465730</td>\n",
       "      <td>0.241962</td>\n",
       "      <td>-1.913280</td>\n",
       "      <td>-1.724918</td>\n",
       "      <td>-0.562288</td>\n",
       "      <td>-1.012831</td>\n",
       "      <td>0.314247</td>\n",
       "      <td>-0.908024</td>\n",
       "      <td>-1.412304</td>\n",
       "      <td>1.465649</td>\n",
       "    </tr>\n",
       "    <tr>\n",
       "      <th>1</th>\n",
       "      <td>-19.469855</td>\n",
       "      <td>-0.225776</td>\n",
       "      <td>0.067528</td>\n",
       "      <td>-1.424748</td>\n",
       "      <td>-0.544383</td>\n",
       "      <td>0.110923</td>\n",
       "      <td>-1.150994</td>\n",
       "      <td>0.375698</td>\n",
       "      <td>-0.600639</td>\n",
       "      <td>-0.291694</td>\n",
       "      <td>...</td>\n",
       "      <td>-0.013497</td>\n",
       "      <td>-1.057711</td>\n",
       "      <td>0.822545</td>\n",
       "      <td>-1.220844</td>\n",
       "      <td>0.208864</td>\n",
       "      <td>-1.959670</td>\n",
       "      <td>-1.328186</td>\n",
       "      <td>0.196861</td>\n",
       "      <td>0.738467</td>\n",
       "      <td>0.171368</td>\n",
       "    </tr>\n",
       "    <tr>\n",
       "      <th>2</th>\n",
       "      <td>-24.475600</td>\n",
       "      <td>-0.115648</td>\n",
       "      <td>-0.301104</td>\n",
       "      <td>-1.478522</td>\n",
       "      <td>-0.719844</td>\n",
       "      <td>-0.460639</td>\n",
       "      <td>1.057122</td>\n",
       "      <td>0.343618</td>\n",
       "      <td>-1.763040</td>\n",
       "      <td>0.324084</td>\n",
       "      <td>...</td>\n",
       "      <td>0.611676</td>\n",
       "      <td>1.031000</td>\n",
       "      <td>0.931280</td>\n",
       "      <td>-0.839218</td>\n",
       "      <td>-0.309212</td>\n",
       "      <td>0.331263</td>\n",
       "      <td>0.975545</td>\n",
       "      <td>-0.479174</td>\n",
       "      <td>-0.185659</td>\n",
       "      <td>-1.106335</td>\n",
       "    </tr>\n",
       "    <tr>\n",
       "      <th>3</th>\n",
       "      <td>13.476831</td>\n",
       "      <td>-1.196207</td>\n",
       "      <td>0.812526</td>\n",
       "      <td>1.356240</td>\n",
       "      <td>-0.072010</td>\n",
       "      <td>1.003533</td>\n",
       "      <td>0.361636</td>\n",
       "      <td>-0.645120</td>\n",
       "      <td>0.361396</td>\n",
       "      <td>1.538037</td>\n",
       "      <td>...</td>\n",
       "      <td>-2.619745</td>\n",
       "      <td>0.821903</td>\n",
       "      <td>0.087047</td>\n",
       "      <td>-0.299007</td>\n",
       "      <td>0.091761</td>\n",
       "      <td>-1.987569</td>\n",
       "      <td>-0.219672</td>\n",
       "      <td>0.357113</td>\n",
       "      <td>1.477894</td>\n",
       "      <td>-0.518270</td>\n",
       "    </tr>\n",
       "    <tr>\n",
       "      <th>4</th>\n",
       "      <td>3.505322</td>\n",
       "      <td>-0.808494</td>\n",
       "      <td>-0.501757</td>\n",
       "      <td>0.915402</td>\n",
       "      <td>0.328751</td>\n",
       "      <td>-0.529760</td>\n",
       "      <td>0.513267</td>\n",
       "      <td>0.097078</td>\n",
       "      <td>0.968645</td>\n",
       "      <td>-0.702053</td>\n",
       "      <td>...</td>\n",
       "      <td>-1.463515</td>\n",
       "      <td>0.296120</td>\n",
       "      <td>0.261055</td>\n",
       "      <td>0.005113</td>\n",
       "      <td>-0.234587</td>\n",
       "      <td>-1.415371</td>\n",
       "      <td>-0.420645</td>\n",
       "      <td>-0.342715</td>\n",
       "      <td>-0.802277</td>\n",
       "      <td>-0.161286</td>\n",
       "    </tr>\n",
       "  </tbody>\n",
       "</table>\n",
       "<p>5 rows × 22 columns</p>\n",
       "</div>"
      ],
      "text/plain": [
       "      Target        v1        v2        v3        v4        v5        v6  \\\n",
       "0  21.650072  0.496714 -0.138264  0.647689  1.523030 -0.234153 -0.234137   \n",
       "1 -19.469855 -0.225776  0.067528 -1.424748 -0.544383  0.110923 -1.150994   \n",
       "2 -24.475600 -0.115648 -0.301104 -1.478522 -0.719844 -0.460639  1.057122   \n",
       "3  13.476831 -1.196207  0.812526  1.356240 -0.072010  1.003533  0.361636   \n",
       "4   3.505322 -0.808494 -0.501757  0.915402  0.328751 -0.529760  0.513267   \n",
       "\n",
       "         v7        v8        v9  ...       v12       v13       v14       v15  \\\n",
       "0  1.579213  0.767435 -0.469474  ... -0.465730  0.241962 -1.913280 -1.724918   \n",
       "1  0.375698 -0.600639 -0.291694  ... -0.013497 -1.057711  0.822545 -1.220844   \n",
       "2  0.343618 -1.763040  0.324084  ...  0.611676  1.031000  0.931280 -0.839218   \n",
       "3 -0.645120  0.361396  1.538037  ... -2.619745  0.821903  0.087047 -0.299007   \n",
       "4  0.097078  0.968645 -0.702053  ... -1.463515  0.296120  0.261055  0.005113   \n",
       "\n",
       "        v16       v17       v18       v19       v20       v21  \n",
       "0 -0.562288 -1.012831  0.314247 -0.908024 -1.412304  1.465649  \n",
       "1  0.208864 -1.959670 -1.328186  0.196861  0.738467  0.171368  \n",
       "2 -0.309212  0.331263  0.975545 -0.479174 -0.185659 -1.106335  \n",
       "3  0.091761 -1.987569 -0.219672  0.357113  1.477894 -0.518270  \n",
       "4 -0.234587 -1.415371 -0.420645 -0.342715 -0.802277 -0.161286  \n",
       "\n",
       "[5 rows x 22 columns]"
      ]
     },
     "execution_count": 76,
     "metadata": {},
     "output_type": "execute_result"
    }
   ],
   "source": [
    "import pandas as pd\n",
    "df=pd.read_csv('https://raw.githubusercontent.com/Datamanim/datarepo/main/krdatacertificate/e7_p3_1.csv')\n",
    "df.head()"
   ]
  },
  {
   "cell_type": "markdown",
   "id": "7ceb3b5a-24db-4dce-ae60-8f28fdaab64f",
   "metadata": {},
   "source": [
    "## 선형관계 가장 큰 변수 찾아 상관계수를 구하여라"
   ]
  },
  {
   "cell_type": "code",
   "execution_count": 77,
   "id": "53984a8f-a361-46bc-973e-9a4ec979e4f1",
   "metadata": {},
   "outputs": [
    {
     "name": "stdout",
     "output_type": "stream",
     "text": [
      "0.6270251925517436\n"
     ]
    },
    {
     "name": "stderr",
     "output_type": "stream",
     "text": [
      "/tmp/ipykernel_13513/1208481137.py:1: FutureWarning: Series.__getitem__ treating keys as positions is deprecated. In a future version, integer keys will always be treated as labels (consistent with DataFrame behavior). To access a value by position, use `ser.iloc[pos]`\n",
      "  print(df.corr()['Target'].sort_values(ascending=False)[1])\n"
     ]
    }
   ],
   "source": [
    "print(df.corr()['Target'].sort_values(ascending=False)[1])"
   ]
  },
  {
   "cell_type": "markdown",
   "id": "0466dc1c-ff5b-4604-af0b-1965d3d51968",
   "metadata": {},
   "source": [
    "## Target 변수를 종속변수로 하여 다중선형회귀모델링을 진행했을 때 v2 컬럼의 회귀 계수"
   ]
  },
  {
   "cell_type": "code",
   "execution_count": 82,
   "id": "f8b21944-9b86-48b8-bba9-57946d6593e6",
   "metadata": {},
   "outputs": [
    {
     "data": {
      "text/plain": [
       "6.440301364843062"
      ]
     },
     "execution_count": 82,
     "metadata": {},
     "output_type": "execute_result"
    }
   ],
   "source": [
    "from statsmodels.formula.api import ols\n",
    "\n",
    "formula = 'Target ~ ' + '+'.join(df.columns.drop('Target'))\n",
    "model = ols(formula,data=df).fit()\n",
    "model.params['v2']"
   ]
  },
  {
   "cell_type": "markdown",
   "id": "2b5bd440-456e-4182-937d-5cb9d583818a",
   "metadata": {},
   "source": [
    "## 회귀 계수들이 가지는 p값들 중 최대 값"
   ]
  },
  {
   "cell_type": "code",
   "execution_count": 61,
   "id": "8cb7664f-686f-4549-a3c9-3357b895ffcb",
   "metadata": {},
   "outputs": [
    {
     "name": "stdout",
     "output_type": "stream",
     "text": [
      "0.9265545986908315\n"
     ]
    }
   ],
   "source": [
    "r = model.pvalues.max()\n",
    "print(r)"
   ]
  },
  {
   "cell_type": "markdown",
   "id": "5a879e78-10a6-4b9f-843b-ed81e0a87b27",
   "metadata": {},
   "source": [
    "## 데이터 로드"
   ]
  },
  {
   "cell_type": "code",
   "execution_count": 86,
   "id": "da6d4742-4639-41ff-8fa0-5be4b19d898c",
   "metadata": {},
   "outputs": [
    {
     "data": {
      "text/html": [
       "<div>\n",
       "<style scoped>\n",
       "    .dataframe tbody tr th:only-of-type {\n",
       "        vertical-align: middle;\n",
       "    }\n",
       "\n",
       "    .dataframe tbody tr th {\n",
       "        vertical-align: top;\n",
       "    }\n",
       "\n",
       "    .dataframe thead th {\n",
       "        text-align: right;\n",
       "    }\n",
       "</style>\n",
       "<table border=\"1\" class=\"dataframe\">\n",
       "  <thead>\n",
       "    <tr style=\"text-align: right;\">\n",
       "      <th></th>\n",
       "      <th>age</th>\n",
       "      <th>sex</th>\n",
       "      <th>cp</th>\n",
       "      <th>trestbps</th>\n",
       "      <th>chol</th>\n",
       "      <th>fbs</th>\n",
       "      <th>restecg</th>\n",
       "      <th>thalach</th>\n",
       "      <th>exang</th>\n",
       "      <th>oldpeak</th>\n",
       "      <th>slope</th>\n",
       "      <th>ca</th>\n",
       "      <th>thal</th>\n",
       "      <th>target</th>\n",
       "    </tr>\n",
       "  </thead>\n",
       "  <tbody>\n",
       "    <tr>\n",
       "      <th>0</th>\n",
       "      <td>63.0</td>\n",
       "      <td>1.0</td>\n",
       "      <td>1.0</td>\n",
       "      <td>145.0</td>\n",
       "      <td>233.0</td>\n",
       "      <td>1.0</td>\n",
       "      <td>2.0</td>\n",
       "      <td>150.0</td>\n",
       "      <td>0.0</td>\n",
       "      <td>2.3</td>\n",
       "      <td>3.0</td>\n",
       "      <td>0.0</td>\n",
       "      <td>6.0</td>\n",
       "      <td>0</td>\n",
       "    </tr>\n",
       "    <tr>\n",
       "      <th>1</th>\n",
       "      <td>67.0</td>\n",
       "      <td>1.0</td>\n",
       "      <td>4.0</td>\n",
       "      <td>160.0</td>\n",
       "      <td>286.0</td>\n",
       "      <td>0.0</td>\n",
       "      <td>2.0</td>\n",
       "      <td>108.0</td>\n",
       "      <td>1.0</td>\n",
       "      <td>1.5</td>\n",
       "      <td>2.0</td>\n",
       "      <td>3.0</td>\n",
       "      <td>3.0</td>\n",
       "      <td>1</td>\n",
       "    </tr>\n",
       "    <tr>\n",
       "      <th>2</th>\n",
       "      <td>67.0</td>\n",
       "      <td>1.0</td>\n",
       "      <td>4.0</td>\n",
       "      <td>120.0</td>\n",
       "      <td>229.0</td>\n",
       "      <td>0.0</td>\n",
       "      <td>2.0</td>\n",
       "      <td>129.0</td>\n",
       "      <td>1.0</td>\n",
       "      <td>2.6</td>\n",
       "      <td>2.0</td>\n",
       "      <td>2.0</td>\n",
       "      <td>7.0</td>\n",
       "      <td>1</td>\n",
       "    </tr>\n",
       "    <tr>\n",
       "      <th>3</th>\n",
       "      <td>37.0</td>\n",
       "      <td>1.0</td>\n",
       "      <td>3.0</td>\n",
       "      <td>130.0</td>\n",
       "      <td>250.0</td>\n",
       "      <td>0.0</td>\n",
       "      <td>0.0</td>\n",
       "      <td>187.0</td>\n",
       "      <td>0.0</td>\n",
       "      <td>3.5</td>\n",
       "      <td>3.0</td>\n",
       "      <td>0.0</td>\n",
       "      <td>3.0</td>\n",
       "      <td>0</td>\n",
       "    </tr>\n",
       "    <tr>\n",
       "      <th>4</th>\n",
       "      <td>41.0</td>\n",
       "      <td>0.0</td>\n",
       "      <td>2.0</td>\n",
       "      <td>130.0</td>\n",
       "      <td>204.0</td>\n",
       "      <td>0.0</td>\n",
       "      <td>2.0</td>\n",
       "      <td>172.0</td>\n",
       "      <td>0.0</td>\n",
       "      <td>1.4</td>\n",
       "      <td>1.0</td>\n",
       "      <td>0.0</td>\n",
       "      <td>3.0</td>\n",
       "      <td>0</td>\n",
       "    </tr>\n",
       "  </tbody>\n",
       "</table>\n",
       "</div>"
      ],
      "text/plain": [
       "    age  sex   cp  trestbps   chol  fbs  restecg  thalach  exang  oldpeak  \\\n",
       "0  63.0  1.0  1.0     145.0  233.0  1.0      2.0    150.0    0.0      2.3   \n",
       "1  67.0  1.0  4.0     160.0  286.0  0.0      2.0    108.0    1.0      1.5   \n",
       "2  67.0  1.0  4.0     120.0  229.0  0.0      2.0    129.0    1.0      2.6   \n",
       "3  37.0  1.0  3.0     130.0  250.0  0.0      0.0    187.0    0.0      3.5   \n",
       "4  41.0  0.0  2.0     130.0  204.0  0.0      2.0    172.0    0.0      1.4   \n",
       "\n",
       "   slope   ca  thal  target  \n",
       "0    3.0  0.0   6.0       0  \n",
       "1    2.0  3.0   3.0       1  \n",
       "2    2.0  2.0   7.0       1  \n",
       "3    3.0  0.0   3.0       0  \n",
       "4    1.0  0.0   3.0       0  "
      ]
     },
     "execution_count": 86,
     "metadata": {},
     "output_type": "execute_result"
    }
   ],
   "source": [
    "import pandas as pd \n",
    "df= pd.read_csv('https://raw.githubusercontent.com/Datamanim/datarepo/main/krdatacertificate/e7_p3_t.csv')\n",
    "df.head()"
   ]
  },
  {
   "cell_type": "markdown",
   "id": "3120a967-db3e-4483-bae4-939fd6e7ef3d",
   "metadata": {},
   "source": [
    "## train데이터로 target을 종속변수로 로지스틱 회귀를 진행할 때 age 컬럼의 오즈비"
   ]
  },
  {
   "cell_type": "code",
   "execution_count": 87,
   "id": "7b8bfd74-2dc4-41d9-b2fd-6e00cfe76c0a",
   "metadata": {},
   "outputs": [
    {
     "name": "stdout",
     "output_type": "stream",
     "text": [
      "['BayesGaussMI', 'BinomialBayesMixedGLM', 'ConditionalLogit', 'ConditionalMNLogit', 'ConditionalPoisson', 'Factor', 'GEE', 'GLM', 'GLMGam', 'GLS', 'GLSAR', 'GeneralizedPoisson', 'HurdleCountModel', 'Logit', 'MANOVA', 'MI', 'MICE', 'MICEData', 'MNLogit', 'MixedLM', 'NegativeBinomial', 'NegativeBinomialP', 'NominalGEE', 'OLS', 'OrdinalGEE', 'PCA', 'PHReg', 'Poisson', 'PoissonBayesMixedGLM', 'ProbPlot', 'Probit', 'QuantReg', 'RLM', 'RecursiveLS', 'SurvfuncRight', 'TruncatedLFNegativeBinomialP', 'TruncatedLFPoisson', 'WLS', 'ZeroInflatedGeneralizedPoisson', 'ZeroInflatedNegativeBinomialP', 'ZeroInflatedPoisson', '__all__', '__builtins__', '__cached__', '__doc__', '__file__', '__loader__', '__name__', '__package__', '__spec__', '__version__', '__version_info__', 'add_constant', 'categorical', 'cov_struct', 'datasets', 'distributions', 'duration', 'emplike', 'families', 'formula', 'gam', 'genmod', 'graphics', 'iolib', 'load', 'load_pickle', 'multivariate', 'nonparametric', 'qqline', 'qqplot', 'qqplot_2samples', 'regression', 'robust', 'show_versions', 'stats', 'test', 'tools', 'tsa', 'webdoc']\n",
      "Optimization terminated successfully.\n",
      "         Current function value: 0.320236\n",
      "         Iterations 7\n"
     ]
    },
    {
     "data": {
      "text/plain": [
       "0.9944442574640204"
      ]
     },
     "execution_count": 87,
     "metadata": {},
     "output_type": "execute_result"
    }
   ],
   "source": [
    "import pandas as pd\n",
    "import numpy as np\n",
    "from statsmodels.formula.api import logit\n",
    "print(dir(sm))\n",
    "train = df.iloc[:210].reset_index(drop=True)\n",
    "test = df.iloc[210:].reset_index(drop=True)\n",
    "\n",
    "# 종속변수와 독립변수 설정\n",
    "X = train.drop('target', axis=1)\n",
    "y = train['target']\n",
    "formula = 'target ~ '+'+'.join(train.drop('target',axis=1).columns)\n",
    "# 로지스틱 회귀모형 적합\n",
    "model = logit(formula,data = train).fit()\n",
    "\n",
    "\n",
    "# age의 weight 오즈비 계산\n",
    "odds_ratios = np.exp(model.params['age'])\n",
    "odds_ratios"
   ]
  },
  {
   "cell_type": "markdown",
   "id": "33bf2a69-b202-45ee-ae0a-8b9aeb95f92c",
   "metadata": {},
   "source": [
    "## train으로 로지스틱 회귀 진행했을 경우 잔차 이탈도 (residual deviance)를 계산하라\n",
    "\n"
   ]
  },
  {
   "cell_type": "code",
   "execution_count": 66,
   "id": "62cafc7c-4659-44c9-b4fd-1b4d1c95b088",
   "metadata": {},
   "outputs": [
    {
     "name": "stdout",
     "output_type": "stream",
     "text": [
      "144.205620063278\n"
     ]
    }
   ],
   "source": [
    "# 로지스틱 회귀모형 적합 (GLM 사용) -> 이항분포시 로지스틱회귀\n",
    "model2 = sm.GLM(y, X, family=sm.families.Binomial()).fit()\n",
    "\n",
    "# 잔차 이탈도(residual deviance) 계산\n",
    "residual_deviance = model2.deviance\n",
    "print(residual_deviance)\n",
    "\n",
    "#model2.summary()\n",
    "#model.summary()\n",
    "# 결과 비교해보기"
   ]
  },
  {
   "cell_type": "markdown",
   "id": "ad5a4c5a-40cf-4081-9e37-86ca53cad9ce",
   "metadata": {},
   "source": [
    "## test 데이터의 독립변수로 target 예측 후 오류율을 구하여라"
   ]
  },
  {
   "cell_type": "code",
   "execution_count": 67,
   "id": "ccfa9207-7b2f-42e3-808b-16f08419c179",
   "metadata": {},
   "outputs": [
    {
     "name": "stdout",
     "output_type": "stream",
     "text": [
      "0.1954022988505747\n"
     ]
    }
   ],
   "source": [
    "pred = (model.predict(test.drop(columns=['target'])) >0.5).astype('int')\n",
    "\n",
    "from sklearn.metrics import accuracy_score\n",
    "\n",
    "error_rate = 1- accuracy_score(test['target'],pred)\n",
    "print(error_rate)"
   ]
  },
  {
   "cell_type": "code",
   "execution_count": null,
   "id": "0e4462df-d67d-4ca8-a785-e554960822ab",
   "metadata": {},
   "outputs": [],
   "source": []
  }
 ],
 "metadata": {
  "kernelspec": {
   "display_name": "Python 3 (ipykernel)",
   "language": "python",
   "name": "python3"
  },
  "language_info": {
   "codemirror_mode": {
    "name": "ipython",
    "version": 3
   },
   "file_extension": ".py",
   "mimetype": "text/x-python",
   "name": "python",
   "nbconvert_exporter": "python",
   "pygments_lexer": "ipython3",
   "version": "3.11.9"
  }
 },
 "nbformat": 4,
 "nbformat_minor": 5
}
